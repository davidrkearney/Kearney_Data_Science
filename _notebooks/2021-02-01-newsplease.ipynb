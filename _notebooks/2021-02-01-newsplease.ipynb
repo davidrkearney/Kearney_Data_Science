{
 "cells": [
  {
   "cell_type": "markdown",
   "metadata": {},
   "source": [
    "# Using NewsPlease an open source, news crawler that extracts structured information"
   ]
  },
  {
   "cell_type": "markdown",
   "metadata": {},
   "source": [
    "https://github.com/fhamborg/news-please"
   ]
  },
  {
   "cell_type": "code",
   "execution_count": 26,
   "metadata": {},
   "outputs": [
    {
     "name": "stdout",
     "output_type": "stream",
     "text": [
      "Những loài vật chịu được độ lạnh lẽo khủng khiếp nhất hành tinh\n"
     ]
    }
   ],
   "source": [
    "from newsplease import NewsPlease\n",
    "article = NewsPlease.from_url('https://www.bbc.com/vietnamese/vert-earth-55751040')\n",
    "print(article.title)"
   ]
  },
  {
   "cell_type": "code",
   "execution_count": 27,
   "metadata": {},
   "outputs": [
    {
     "data": {
      "text/plain": [
       "['Https', 'Www.Facebook.Com Bbcnews']"
      ]
     },
     "execution_count": 27,
     "metadata": {},
     "output_type": "execute_result"
    }
   ],
   "source": [
    "article.authors"
   ]
  },
  {
   "cell_type": "code",
   "execution_count": 28,
   "metadata": {},
   "outputs": [
    {
     "data": {
      "text/plain": [
       "datetime.datetime(2021, 1, 25, 0, 0)"
      ]
     },
     "execution_count": 28,
     "metadata": {},
     "output_type": "execute_result"
    }
   ],
   "source": [
    "article.date_publish"
   ]
  },
  {
   "cell_type": "code",
   "execution_count": 29,
   "metadata": {},
   "outputs": [
    {
     "data": {
      "text/plain": [
       "'Một số loài động vật kỳ lạ đã có chiến lược thông minh và tiến hóa để sinh tồn được trong những điều kiện khí hậu khủng khiếp nhất.'"
      ]
     },
     "execution_count": 29,
     "metadata": {},
     "output_type": "execute_result"
    }
   ],
   "source": [
    "article.description"
   ]
  },
  {
   "cell_type": "code",
   "execution_count": 30,
   "metadata": {},
   "outputs": [
    {
     "data": {
      "text/plain": [
       "'https%3A%2F%2Fwww.bbc.com%2Fvietnamese%2Fvert-earth-55751040.json'"
      ]
     },
     "execution_count": 30,
     "metadata": {},
     "output_type": "execute_result"
    }
   ],
   "source": [
    "article.filename"
   ]
  },
  {
   "cell_type": "code",
   "execution_count": 31,
   "metadata": {},
   "outputs": [
    {
     "data": {
      "text/plain": [
       "'vi'"
      ]
     },
     "execution_count": 31,
     "metadata": {},
     "output_type": "execute_result"
    }
   ],
   "source": [
    "article.language"
   ]
  },
  {
   "cell_type": "code",
   "execution_count": 32,
   "metadata": {},
   "outputs": [
    {
     "data": {
      "text/plain": [
       "'Những loài vật chịu được độ lạnh lẽo khủng khiếp nhất hành tinh\\nDale Shaw\\nBBC Earth\\nNguồn hình ảnh, Getty Images\\nLoài động vật nào có thể sống sót trong điều kiện nhiệt độ thấp nhất?\\nChúng ta đang nói tới những động vật sống ở xứ hàn đới vĩ đại nhất trên hành tinh.\\nĐúng vậy, những loài ở xứ lạnh, hay nói cách khác, là những sinh vật có thể thích nghi và phát triển trong thời tiết lạnh (từ chionophile trong tiếng Anh có nghĩa là \"những kẻ mê tuyết\").\\nNhưng loài nào có thể phát triển trong điều kiện nhiệt độ thấp nhất? Sau đây là một trong số những loài hay ho nhất trên Trái Đất làm được vậy…\\nNguồn hình ảnh, Getty Images Chụp lại hình ảnh, Chim cánh cụt hoàng đế sống sót nhờ khả năng hoạt động tập hợp sức mạnh tập thể - chúng ôm nhau để giữ ấm\\nChim cánh cụt Hoàng đế\\nGió lạnh ở Nam Cực làm nhiệt độ giảm xuống đến -60 độ C khiến ta run cầm cập, đây là thách thức với chim cánh cụt hoàng đế.\\nĐây là loài chim cánh cụt lớn nhất trên hành tinh - và vì cao lớn như vậy nên chúng dễ bị hứng những đợt gió lạnh buốt hơn so với các loài kích cỡ nhỏ hơn sống ở đó.\\nNhưng chúng vẫn có khả năng sống sót nhờ vào hoạt động đồng đội, ôm nhau giữ ấm trong suốt những tháng lạnh nhất ở Nam Cực.\\nNhững chú chim cánh cụt đứng giữa nhóm ôm nhau là những con ấm nhất, và khi đã ấm áp rồi, chúng sẽ luân phiên chui ra ngoài để các chú chim bên ngoài có thể thay phiên đi vào giữa sưởi ấm.\\nNguồn hình ảnh, Getty Images Chụp lại hình ảnh, Sóc Bắc Cực tránh cái lạnh khắc nghiệt nhờ đào hang sâu vào lòng đất\\nSóc đất Bắc Cực\\nNếu tình hình hiện thời của thế giới khiến bạn muốn đi ngủ đông cho rồi, thì bạn có thể xem xét loài sóc đất Bắc Cực để chọn làm hình tượng noi theo.\\nSống ở vùng lãnh nguyên Bắc Cực ở Bắc Mỹ, nơi nhiệt độ có thể xuống dưới -63 độ C, chúng có thể thoát khỏi mùa đông tồi tệ nhất nhờ vào việc đào hang dưới lòng đất và ngủ một mạch tám tháng trong năm.\\nKhi ngủ đông, nhiệt độ trong não các chú sóc này có thể giảm xuống chỉ vừa trên mức đóng băng, trong khi nhiệt độ cơ thể có thể giảm tới mức -2,9 độ C và nhịp tim giảm xuống chỉ còn một nhịp mỗi phút.\\nKhi thời gian ngủ đông kết thúc, các chú sóc này cần khoảng ba giờ để làm ấm cơ thể trở lại.\\nNguồn hình ảnh, Getty Images Chụp lại hình ảnh, Hải cẩu Weddel dùng răng để đào hố trong khối băng đại dương để thở\\nHải cẩu Weddell\\nNếu bạn muốn tìm một loài động vật có vú yêu thích cái lạnh trong từng giây phút, tôi giới thiệu bạn với hải cẩu Weddel.\\nChúng là loài sống ở miền nam xa xôi nhất so với bất kỳ giống hải cẩu nào khác, và dành hầu hết thời gian sống bên dưới lớp băng Nam Cực, nơi chúng có thể săn mồi và tránh bị cá voi sát thủ bắt.\\nLặn sâu xuống độ sâu hơn 2.000 feet, chúng có thể ở dưới nước đến 45 phút và nếu không thể đập vỡ băng để ngớp khí oxy cần thiết, chúng sẽ dùng răng để đào cho mình một lỗ lấy khí.\\nNước biển Nam Cực thực ra ấm hơn so với không khí trên bề mặt (vốn có thể giảm xuống -70 độ C), vì vậy đặc biệt trong những trận bão mùa đông dữ dội, hải cẩu sẽ giữ ấm bằng cách lặn xuống biển.\\nNguồn hình ảnh, Getty Images Chụp lại hình ảnh, Cá mập khổng lồ Greenland có thể chịu được nước biển lạnh buốt như những nơi thế này\\nSống ở vùng nước sâu trong khu vực Bắc Đại Tây Dương và Bắc Cực, những con cá mập khổng lồ này không chỉ sống sót trong làn nước lạnh căm, mà còn có tuổi thọ dài nhất so với bất cứ loài có xương sống nào trên hành tinh.\\nChúng có tuổi thọ trung bình từ 300 đến 500 năm tuổi.\\nNhịp trao đổi chất cực kỳ chậm của chúng giúp kiểm soát nhiệt độ và kéo dài tuổi thọ, và chúng cũng có thể là loài cá mập lớn nhất, có thể đạt tới 6,4m chiều dài và nặng khoảng 1,000kg.\\nDù vậy, Usain Bolt không có gì phải lo lắng, vì chúng chỉ có thể tăng tốc độ bơi đến 1,6 dặm/giờ, và do vậy, không có gì ngạc nhiên khi chúng thường săn con mồi đã đi ngủ.\\nNguồn hình ảnh, Getty Images Chụp lại hình ảnh, Lớp lông dày mịn giúp chim sheathbill tuyết giữ nhiệt tốt\\nChim sheathbill tuyết\\nLoài chim trông giống bồ câu, trắng phau và dũng cảm này là loài chim bản địa duy nhất sống trên bề mặt Nam Cực và là loài duy nhất sinh sản tại đây.\\nVới lớp lông dày giúp giữ ấm, chúng hầu như sống trên mặt đất, cố gắng lượm lặt thức ăn thừa rơi vãi của các loài chim khác. Điều này thật hay.\\nChúng cũng là loài chim duy nhất ở Nam Cực không có màng chân.\\nVậy làm sao chúng có thể giữ ngón chân ấm áp, trong khi lại dành quá nhiều thời gian trên bề mặt đất lạnh cóng?\\nKhông có giải pháp sinh học kỳ diệu nào ở đây cả, chúng chỉ dành nhiều thời gian nhảy lò cò từ chân này đổi sang chân kia.\\nNguồn hình ảnh, Getty Images Chụp lại hình ảnh, Bí kíp để loài bò xạ hương có thể sống sót là nhờ lớp lông rậm\\nBò xạ hương\\nMột trong những sinh vật sống trên lãnh nguyên xuất hiện ở khu vực từ Siberia đến Greenland là loài bò xạ hương. Loài này có cái tên nổi bật, được đặt theo mùi hăng khó chịu thoát ra trong mùa động đực.\\nNhững con thú kỳ vĩ này đã sống sót giữa môi trường khắc nghiệt nhất trong hàng ngàn năm qua nhờ vào lớp lông dày rậm.\\nLớp lông rậm rạp và dày nổi bật được làm từ nhiều lớp, với phần bên ngoài - được gọi là lớp lông bảo vệ - che phủ cho lớp lông thứ hai bên dưới, ngắn hơn, đem lại khả năng giữ ấm tăng cường trong những tháng lạnh nhất.\\nNguồn hình ảnh, Getty Images Chụp lại hình ảnh, Nhờ sống bên dưới lớp bỏ cây, những chú bọ cánh cứng can trường này có thể sống sót qua tháng lạnh nhất trong mùa đông\\nBọ cánh cứng dẹt vỏ cây đỏ\\nLoài bọ cánh cứng dài khoảng nửa inch này có khu vực sinh sống từ North Carolina đến Vòng Cực Bắc.\\nChúng sống bên dưới lớp vỏ cây và cơ thể được cấu tạo có chủ đích để sinh tồn trong điều kiện khắc nghiệt nhất giữa mùa đông.\\nKhí hậu ở vùng Bắc Cực vào tháng Tám có tác dụng như khí hậu nghỉ dưỡng đối với loài này.\\nTrong các phòng thí nghiệm, chúng có thể chống chọi được nhiệt độ lạnh cóng đến mức -150 độ C. Mức này đúng là cực lạnh!'"
      ]
     },
     "execution_count": 32,
     "metadata": {},
     "output_type": "execute_result"
    }
   ],
   "source": [
    "article.maintext"
   ]
  },
  {
   "cell_type": "code",
   "execution_count": 33,
   "metadata": {},
   "outputs": [
    {
     "data": {
      "text/plain": [
       "'https://www.bbc.com/vietnamese/vert-earth-55751040'"
      ]
     },
     "execution_count": 33,
     "metadata": {},
     "output_type": "execute_result"
    }
   ],
   "source": [
    "article.url"
   ]
  }
 ],
 "metadata": {
  "kernelspec": {
   "display_name": "Python 3",
   "language": "python",
   "name": "python3"
  },
  "language_info": {
   "codemirror_mode": {
    "name": "ipython",
    "version": 3
   },
   "file_extension": ".py",
   "mimetype": "text/x-python",
   "name": "python",
   "nbconvert_exporter": "python",
   "pygments_lexer": "ipython3",
   "version": "3.8.5"
  }
 },
 "nbformat": 4,
 "nbformat_minor": 4
}
