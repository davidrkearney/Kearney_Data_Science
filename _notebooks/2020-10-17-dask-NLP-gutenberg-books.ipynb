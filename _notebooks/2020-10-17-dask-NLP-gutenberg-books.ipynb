{
 "cells": [
  {
   "cell_type": "markdown",
   "metadata": {},
   "source": [
    "# Using Dask with dask.bag and regex to parse Notes from the Underground from project gutenberg"
   ]
  },
  {
   "cell_type": "markdown",
   "metadata": {},
   "source": [
    "This post includes code from [Scalable-Data-Analysis-in-Python-with-Dask](https://github.com/PacktPublishing/-Scalable-Data-Analysis-in-Python-with-Dask/tree/master/Section%202) and [coiled-examples](https://github.com/coiled/coiled-examples)."
   ]
  },
  {
   "cell_type": "code",
   "execution_count": 1,
   "metadata": {},
   "outputs": [],
   "source": [
    "import dask.bag as db\n",
    "import re"
   ]
  },
  {
   "cell_type": "code",
   "execution_count": 2,
   "metadata": {},
   "outputs": [],
   "source": [
    "book_bag = db.from_url('https://www.gutenberg.org/cache/epub/600/pg600.txt')"
   ]
  },
  {
   "cell_type": "code",
   "execution_count": 3,
   "metadata": {},
   "outputs": [
    {
     "data": {
      "text/plain": [
       "(b\"\\xef\\xbb\\xbfProject Gutenberg's Notes from the Underground, by Feodor Dostoevsky\\r\\n\",\n",
       " b'\\r\\n',\n",
       " b'This eBook is for the use of anyone anywhere at no cost and with\\r\\n',\n",
       " b'almost no restrictions whatsoever.  You may copy it, give it away or\\r\\n',\n",
       " b're-use it under the terms of the Project Gutenberg License included\\r\\n')"
      ]
     },
     "execution_count": 3,
     "metadata": {},
     "output_type": "execute_result"
    }
   ],
   "source": [
    "book_bag.take(5)"
   ]
  },
  {
   "cell_type": "code",
   "execution_count": 4,
   "metadata": {},
   "outputs": [],
   "source": [
    "remove_spaces = book_bag.map(lambda x:x.strip())"
   ]
  },
  {
   "cell_type": "code",
   "execution_count": 5,
   "metadata": {},
   "outputs": [
    {
     "data": {
      "text/plain": [
       "(b\"\\xef\\xbb\\xbfProject Gutenberg's Notes from the Underground, by Feodor Dostoevsky\",\n",
       " b'',\n",
       " b'This eBook is for the use of anyone anywhere at no cost and with',\n",
       " b'almost no restrictions whatsoever.  You may copy it, give it away or',\n",
       " b're-use it under the terms of the Project Gutenberg License included',\n",
       " b'with this eBook or online at www.gutenberg.net',\n",
       " b'',\n",
       " b'',\n",
       " b'Title: Notes from the Underground',\n",
       " b'')"
      ]
     },
     "execution_count": 5,
     "metadata": {},
     "output_type": "execute_result"
    }
   ],
   "source": [
    "remove_spaces.take(10)"
   ]
  },
  {
   "cell_type": "code",
   "execution_count": 6,
   "metadata": {},
   "outputs": [],
   "source": [
    "def decode_to_ascii(x):\n",
    "    return x.decode(\"ascii\",\"ignore\") "
   ]
  },
  {
   "cell_type": "code",
   "execution_count": 7,
   "metadata": {},
   "outputs": [],
   "source": [
    "ascii_text = remove_spaces.map(decode_to_ascii)"
   ]
  },
  {
   "cell_type": "code",
   "execution_count": 8,
   "metadata": {},
   "outputs": [
    {
     "data": {
      "text/plain": [
       "(\"Project Gutenberg's Notes from the Underground, by Feodor Dostoevsky\",\n",
       " '',\n",
       " 'This eBook is for the use of anyone anywhere at no cost and with',\n",
       " 'almost no restrictions whatsoever.  You may copy it, give it away or',\n",
       " 're-use it under the terms of the Project Gutenberg License included',\n",
       " 'with this eBook or online at www.gutenberg.net',\n",
       " '',\n",
       " '',\n",
       " 'Title: Notes from the Underground',\n",
       " '')"
      ]
     },
     "execution_count": 8,
     "metadata": {},
     "output_type": "execute_result"
    }
   ],
   "source": [
    "ascii_text.take(10)"
   ]
  },
  {
   "cell_type": "code",
   "execution_count": 9,
   "metadata": {},
   "outputs": [],
   "source": [
    "def remove_punctuation(x):\n",
    "    return re.sub(r'[^\\w\\s]','',x)"
   ]
  },
  {
   "cell_type": "code",
   "execution_count": 10,
   "metadata": {},
   "outputs": [],
   "source": [
    "remove_punctuation = ascii_text.map(remove_punctuation)"
   ]
  },
  {
   "cell_type": "code",
   "execution_count": 11,
   "metadata": {},
   "outputs": [
    {
     "data": {
      "text/plain": [
       "('Project Gutenbergs Notes from the Underground by Feodor Dostoevsky',\n",
       " '',\n",
       " 'This eBook is for the use of anyone anywhere at no cost and with',\n",
       " 'almost no restrictions whatsoever  You may copy it give it away or',\n",
       " 'reuse it under the terms of the Project Gutenberg License included',\n",
       " 'with this eBook or online at wwwgutenbergnet',\n",
       " '',\n",
       " '',\n",
       " 'Title Notes from the Underground',\n",
       " '')"
      ]
     },
     "execution_count": 11,
     "metadata": {},
     "output_type": "execute_result"
    }
   ],
   "source": [
    "remove_punctuation.take(10)"
   ]
  },
  {
   "cell_type": "code",
   "execution_count": 12,
   "metadata": {},
   "outputs": [],
   "source": [
    "lower_text = remove_punctuation.map(str.lower)"
   ]
  },
  {
   "cell_type": "code",
   "execution_count": 13,
   "metadata": {},
   "outputs": [
    {
     "data": {
      "text/plain": [
       "('project gutenbergs notes from the underground by feodor dostoevsky',\n",
       " '',\n",
       " 'this ebook is for the use of anyone anywhere at no cost and with',\n",
       " 'almost no restrictions whatsoever  you may copy it give it away or',\n",
       " 'reuse it under the terms of the project gutenberg license included',\n",
       " 'with this ebook or online at wwwgutenbergnet',\n",
       " '',\n",
       " '',\n",
       " 'title notes from the underground',\n",
       " '')"
      ]
     },
     "execution_count": 13,
     "metadata": {},
     "output_type": "execute_result"
    }
   ],
   "source": [
    "lower_text.take(10)"
   ]
  },
  {
   "cell_type": "code",
   "execution_count": 14,
   "metadata": {},
   "outputs": [],
   "source": [
    "split_word_list = lower_text.map(lambda x: x.split(' '))"
   ]
  },
  {
   "cell_type": "code",
   "execution_count": 15,
   "metadata": {},
   "outputs": [
    {
     "data": {
      "text/plain": [
       "(['project',\n",
       "  'gutenbergs',\n",
       "  'notes',\n",
       "  'from',\n",
       "  'the',\n",
       "  'underground',\n",
       "  'by',\n",
       "  'feodor',\n",
       "  'dostoevsky'],\n",
       " [''],\n",
       " ['this',\n",
       "  'ebook',\n",
       "  'is',\n",
       "  'for',\n",
       "  'the',\n",
       "  'use',\n",
       "  'of',\n",
       "  'anyone',\n",
       "  'anywhere',\n",
       "  'at',\n",
       "  'no',\n",
       "  'cost',\n",
       "  'and',\n",
       "  'with'],\n",
       " ['almost',\n",
       "  'no',\n",
       "  'restrictions',\n",
       "  'whatsoever',\n",
       "  '',\n",
       "  'you',\n",
       "  'may',\n",
       "  'copy',\n",
       "  'it',\n",
       "  'give',\n",
       "  'it',\n",
       "  'away',\n",
       "  'or'],\n",
       " ['reuse',\n",
       "  'it',\n",
       "  'under',\n",
       "  'the',\n",
       "  'terms',\n",
       "  'of',\n",
       "  'the',\n",
       "  'project',\n",
       "  'gutenberg',\n",
       "  'license',\n",
       "  'included'],\n",
       " ['with', 'this', 'ebook', 'or', 'online', 'at', 'wwwgutenbergnet'],\n",
       " [''],\n",
       " [''],\n",
       " ['title', 'notes', 'from', 'the', 'underground'],\n",
       " [''])"
      ]
     },
     "execution_count": 15,
     "metadata": {},
     "output_type": "execute_result"
    }
   ],
   "source": [
    "split_word_list.take(10)"
   ]
  },
  {
   "cell_type": "code",
   "execution_count": 16,
   "metadata": {},
   "outputs": [],
   "source": [
    "def remove_empty_words(word_list):\n",
    "    return list(filter(lambda a: a != '', word_list))\n",
    "\n",
    "non_empty_words = split_word_list.filter(remove_empty_words)"
   ]
  },
  {
   "cell_type": "code",
   "execution_count": 17,
   "metadata": {},
   "outputs": [
    {
     "data": {
      "text/plain": [
       "(['project',\n",
       "  'gutenbergs',\n",
       "  'notes',\n",
       "  'from',\n",
       "  'the',\n",
       "  'underground',\n",
       "  'by',\n",
       "  'feodor',\n",
       "  'dostoevsky'],\n",
       " ['this',\n",
       "  'ebook',\n",
       "  'is',\n",
       "  'for',\n",
       "  'the',\n",
       "  'use',\n",
       "  'of',\n",
       "  'anyone',\n",
       "  'anywhere',\n",
       "  'at',\n",
       "  'no',\n",
       "  'cost',\n",
       "  'and',\n",
       "  'with'],\n",
       " ['almost',\n",
       "  'no',\n",
       "  'restrictions',\n",
       "  'whatsoever',\n",
       "  '',\n",
       "  'you',\n",
       "  'may',\n",
       "  'copy',\n",
       "  'it',\n",
       "  'give',\n",
       "  'it',\n",
       "  'away',\n",
       "  'or'],\n",
       " ['reuse',\n",
       "  'it',\n",
       "  'under',\n",
       "  'the',\n",
       "  'terms',\n",
       "  'of',\n",
       "  'the',\n",
       "  'project',\n",
       "  'gutenberg',\n",
       "  'license',\n",
       "  'included'],\n",
       " ['with', 'this', 'ebook', 'or', 'online', 'at', 'wwwgutenbergnet'],\n",
       " ['title', 'notes', 'from', 'the', 'underground'],\n",
       " ['author', 'feodor', 'dostoevsky'],\n",
       " ['posting', 'date', 'september', '13', '2008', 'ebook', '600'],\n",
       " ['release', 'date', 'july', '1996'],\n",
       " ['language', 'english'])"
      ]
     },
     "execution_count": 17,
     "metadata": {},
     "output_type": "execute_result"
    }
   ],
   "source": [
    "non_empty_words.take(10)"
   ]
  },
  {
   "cell_type": "code",
   "execution_count": 18,
   "metadata": {},
   "outputs": [],
   "source": [
    "all_words = non_empty_words.flatten()"
   ]
  },
  {
   "cell_type": "code",
   "execution_count": 19,
   "metadata": {},
   "outputs": [
    {
     "data": {
      "text/plain": [
       "dask.bag.core.Bag"
      ]
     },
     "execution_count": 19,
     "metadata": {},
     "output_type": "execute_result"
    }
   ],
   "source": [
    "type(all_words)"
   ]
  },
  {
   "cell_type": "code",
   "execution_count": 20,
   "metadata": {},
   "outputs": [
    {
     "data": {
      "text/plain": [
       "('project',\n",
       " 'gutenbergs',\n",
       " 'notes',\n",
       " 'from',\n",
       " 'the',\n",
       " 'underground',\n",
       " 'by',\n",
       " 'feodor',\n",
       " 'dostoevsky',\n",
       " 'this',\n",
       " 'ebook',\n",
       " 'is',\n",
       " 'for',\n",
       " 'the',\n",
       " 'use',\n",
       " 'of',\n",
       " 'anyone',\n",
       " 'anywhere',\n",
       " 'at',\n",
       " 'no',\n",
       " 'cost',\n",
       " 'and',\n",
       " 'with',\n",
       " 'almost',\n",
       " 'no',\n",
       " 'restrictions',\n",
       " 'whatsoever',\n",
       " '',\n",
       " 'you',\n",
       " 'may')"
      ]
     },
     "execution_count": 20,
     "metadata": {},
     "output_type": "execute_result"
    }
   ],
   "source": [
    "all_words.take(30)"
   ]
  },
  {
   "cell_type": "code",
   "execution_count": 21,
   "metadata": {},
   "outputs": [],
   "source": [
    "change_to_key_value = all_words.map(lambda x: (x, 1))"
   ]
  },
  {
   "cell_type": "code",
   "execution_count": 22,
   "metadata": {},
   "outputs": [
    {
     "data": {
      "text/plain": [
       "(('project', 1), ('gutenbergs', 1), ('notes', 1), ('from', 1))"
      ]
     },
     "execution_count": 22,
     "metadata": {},
     "output_type": "execute_result"
    }
   ],
   "source": [
    "change_to_key_value.take(4)"
   ]
  },
  {
   "cell_type": "code",
   "execution_count": 23,
   "metadata": {},
   "outputs": [],
   "source": [
    "grouped_words = all_words.groupby(lambda x:x)"
   ]
  },
  {
   "cell_type": "code",
   "execution_count": 24,
   "metadata": {},
   "outputs": [
    {
     "data": {
      "text/plain": [
       "(('project',\n",
       "  ['project',\n",
       "   'project',\n",
       "   'project',\n",
       "   'project',\n",
       "   'project',\n",
       "   'project',\n",
       "   'project',\n",
       "   'project',\n",
       "   'project',\n",
       "   'project',\n",
       "   'project',\n",
       "   'project',\n",
       "   'project',\n",
       "   'project',\n",
       "   'project',\n",
       "   'project',\n",
       "   'project',\n",
       "   'project',\n",
       "   'project',\n",
       "   'project',\n",
       "   'project',\n",
       "   'project',\n",
       "   'project',\n",
       "   'project',\n",
       "   'project',\n",
       "   'project',\n",
       "   'project',\n",
       "   'project',\n",
       "   'project',\n",
       "   'project',\n",
       "   'project',\n",
       "   'project',\n",
       "   'project',\n",
       "   'project',\n",
       "   'project',\n",
       "   'project',\n",
       "   'project',\n",
       "   'project',\n",
       "   'project',\n",
       "   'project',\n",
       "   'project',\n",
       "   'project',\n",
       "   'project',\n",
       "   'project',\n",
       "   'project',\n",
       "   'project',\n",
       "   'project',\n",
       "   'project',\n",
       "   'project',\n",
       "   'project',\n",
       "   'project',\n",
       "   'project',\n",
       "   'project',\n",
       "   'project',\n",
       "   'project',\n",
       "   'project',\n",
       "   'project',\n",
       "   'project',\n",
       "   'project',\n",
       "   'project',\n",
       "   'project',\n",
       "   'project',\n",
       "   'project',\n",
       "   'project',\n",
       "   'project',\n",
       "   'project',\n",
       "   'project',\n",
       "   'project',\n",
       "   'project',\n",
       "   'project',\n",
       "   'project',\n",
       "   'project',\n",
       "   'project',\n",
       "   'project',\n",
       "   'project',\n",
       "   'project',\n",
       "   'project',\n",
       "   'project',\n",
       "   'project',\n",
       "   'project',\n",
       "   'project',\n",
       "   'project',\n",
       "   'project',\n",
       "   'project',\n",
       "   'project',\n",
       "   'project',\n",
       "   'project']),)"
      ]
     },
     "execution_count": 24,
     "metadata": {},
     "output_type": "execute_result"
    }
   ],
   "source": [
    "grouped_words.take(1)"
   ]
  },
  {
   "cell_type": "code",
   "execution_count": 25,
   "metadata": {},
   "outputs": [],
   "source": [
    "word_count = grouped_words.map(lambda x: (x[0], len(x[1])))"
   ]
  },
  {
   "cell_type": "code",
   "execution_count": 26,
   "metadata": {},
   "outputs": [
    {
     "data": {
      "text/plain": [
       "(('project', 87),\n",
       " ('gutenbergs', 2),\n",
       " ('notes', 11),\n",
       " ('from', 186),\n",
       " ('the', 1555),\n",
       " ('underground', 26),\n",
       " ('by', 153),\n",
       " ('feodor', 3),\n",
       " ('dostoevsky', 3),\n",
       " ('this', 237))"
      ]
     },
     "execution_count": 26,
     "metadata": {},
     "output_type": "execute_result"
    }
   ],
   "source": [
    "word_count.take(10)"
   ]
  },
  {
   "cell_type": "code",
   "execution_count": null,
   "metadata": {},
   "outputs": [],
   "source": []
  },
  {
   "cell_type": "code",
   "execution_count": null,
   "metadata": {},
   "outputs": [],
   "source": []
  },
  {
   "cell_type": "code",
   "execution_count": 27,
   "metadata": {},
   "outputs": [
    {
     "data": {
      "text/plain": [
       "(('project', 1),\n",
       " ('gutenbergs', 1),\n",
       " ('notes', 1),\n",
       " ('from', 1),\n",
       " ('the', 1),\n",
       " ('underground', 1),\n",
       " ('by', 1),\n",
       " ('feodor', 1),\n",
       " ('dostoevsky', 1),\n",
       " ('this', 1))"
      ]
     },
     "execution_count": 27,
     "metadata": {},
     "output_type": "execute_result"
    }
   ],
   "source": [
    "change_to_key_value.take(10)"
   ]
  },
  {
   "cell_type": "code",
   "execution_count": 28,
   "metadata": {},
   "outputs": [],
   "source": [
    "# Take a running count of a word\n",
    "# In this case, the default value of \n",
    "# count needs to be provided\n",
    "def add_bin_op(count, x):\n",
    "    return count + x[1]\n",
    "\n",
    "# Take the output from multiple bin_op(s)\n",
    "# and add them to get the total count of\n",
    "# a word\n",
    "def add_combine_op(x, y):\n",
    "    return x + y\n",
    "\n",
    "word_count = change_to_key_value.foldby(lambda x: x[0],\n",
    "                                       add_bin_op, 0,\n",
    "                                       add_combine_op)"
   ]
  },
  {
   "cell_type": "code",
   "execution_count": 29,
   "metadata": {},
   "outputs": [
    {
     "data": {
      "text/plain": [
       "(('project', 87),\n",
       " ('gutenbergs', 2),\n",
       " ('notes', 11),\n",
       " ('from', 186),\n",
       " ('the', 1555),\n",
       " ('underground', 26),\n",
       " ('by', 153),\n",
       " ('feodor', 3),\n",
       " ('dostoevsky', 3),\n",
       " ('this', 237))"
      ]
     },
     "execution_count": 29,
     "metadata": {},
     "output_type": "execute_result"
    }
   ],
   "source": [
    "word_count.take(10)"
   ]
  },
  {
   "cell_type": "code",
   "execution_count": 30,
   "metadata": {},
   "outputs": [],
   "source": [
    "much_easier = all_words.frequencies()"
   ]
  },
  {
   "cell_type": "code",
   "execution_count": 31,
   "metadata": {},
   "outputs": [
    {
     "data": {
      "text/plain": [
       "(('project', 87),\n",
       " ('gutenbergs', 2),\n",
       " ('notes', 11),\n",
       " ('from', 186),\n",
       " ('the', 1555),\n",
       " ('underground', 26),\n",
       " ('by', 153),\n",
       " ('feodor', 3),\n",
       " ('dostoevsky', 3),\n",
       " ('this', 237))"
      ]
     },
     "execution_count": 31,
     "metadata": {},
     "output_type": "execute_result"
    }
   ],
   "source": [
    "much_easier.take(10)"
   ]
  },
  {
   "cell_type": "markdown",
   "metadata": {},
   "source": [
    "# Removing stop words in top word frequency counts"
   ]
  },
  {
   "cell_type": "code",
   "execution_count": 32,
   "metadata": {},
   "outputs": [],
   "source": [
    "from spacy.lang.en import STOP_WORDS"
   ]
  },
  {
   "cell_type": "code",
   "execution_count": 33,
   "metadata": {},
   "outputs": [],
   "source": [
    "without_stopwords = all_words.filter(lambda x: x not in STOP_WORDS)"
   ]
  },
  {
   "cell_type": "code",
   "execution_count": 34,
   "metadata": {},
   "outputs": [],
   "source": [
    "new_freq = without_stopwords.frequencies()"
   ]
  },
  {
   "cell_type": "code",
   "execution_count": 35,
   "metadata": {},
   "outputs": [
    {
     "data": {
      "text/plain": [
       "(('project', 87),\n",
       " ('gutenbergs', 2),\n",
       " ('notes', 11),\n",
       " ('underground', 26),\n",
       " ('feodor', 3),\n",
       " ('dostoevsky', 3),\n",
       " ('ebook', 9),\n",
       " ('use', 18),\n",
       " ('cost', 5),\n",
       " ('restrictions', 3),\n",
       " ('whatsoever', 2),\n",
       " ('', 1896),\n",
       " ('copy', 12),\n",
       " ('away', 59),\n",
       " ('reuse', 2),\n",
       " ('terms', 24),\n",
       " ('gutenberg', 28),\n",
       " ('license', 15),\n",
       " ('included', 6),\n",
       " ('online', 4))"
      ]
     },
     "execution_count": 35,
     "metadata": {},
     "output_type": "execute_result"
    }
   ],
   "source": [
    "new_freq.take(20)"
   ]
  },
  {
   "cell_type": "code",
   "execution_count": 36,
   "metadata": {},
   "outputs": [
    {
     "data": {
      "text/plain": [
       "dask.bag<topk-aggregate, npartitions=1>"
      ]
     },
     "execution_count": 36,
     "metadata": {},
     "output_type": "execute_result"
    }
   ],
   "source": [
    "new_freq.topk(10)"
   ]
  },
  {
   "cell_type": "code",
   "execution_count": 37,
   "metadata": {},
   "outputs": [
    {
     "data": {
      "text/plain": [
       "[('', 1896),\n",
       " ('man', 122),\n",
       " ('know', 90),\n",
       " ('project', 87),\n",
       " ('time', 83),\n",
       " ('like', 82),\n",
       " ('come', 74),\n",
       " ('course', 73),\n",
       " ('love', 72),\n",
       " ('life', 69)]"
      ]
     },
     "execution_count": 37,
     "metadata": {},
     "output_type": "execute_result"
    }
   ],
   "source": [
    "new_freq.topk(10, key=lambda x: x[1]).compute()"
   ]
  }
 ],
 "metadata": {
  "kernelspec": {
   "display_name": "Python 3",
   "language": "python",
   "name": "python3"
  },
  "language_info": {
   "codemirror_mode": {
    "name": "ipython",
    "version": 3
   },
   "file_extension": ".py",
   "mimetype": "text/x-python",
   "name": "python",
   "nbconvert_exporter": "python",
   "pygments_lexer": "ipython3",
   "version": "3.7.3"
  }
 },
 "nbformat": 4,
 "nbformat_minor": 4
}
