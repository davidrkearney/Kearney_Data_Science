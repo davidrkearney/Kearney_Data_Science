{
 "metadata": {
  "language_info": {
   "codemirror_mode": {
    "name": "ipython",
    "version": 3
   },
   "file_extension": ".py",
   "mimetype": "text/x-python",
   "name": "python",
   "nbconvert_exporter": "python",
   "pygments_lexer": "ipython3",
   "version": 3
  },
  "orig_nbformat": 2
 },
 "nbformat": 4,
 "nbformat_minor": 2,
 "cells": [
  {
   "cell_type": "markdown",
   "metadata": {},
   "source": [
    "# Machine Learning with Pyspark ML"
   ]
  },
  {
   "cell_type": "code",
   "execution_count": null,
   "metadata": {},
   "outputs": [],
   "source": [
    "from pyspark.sql import SparkSession\n",
    "from pyspark.sql.types import StructField,StringType,IntegerType,StructType, DoubleType, FloatType\n",
    "from pyspark.sql.functions import *\n",
    "\n",
    "data_schema = [\n",
    "StructField(\"_c0\", IntegerType(), True)\n",
    ",StructField(\"province\", StringType(), True)\n",
    ",StructField(\"specific\", DoubleType(), True)\n",
    ",StructField(\"general\", DoubleType(), True)\n",
    ",StructField(\"year\", IntegerType(), True)\n",
    ",StructField(\"gdp\", FloatType(), True)\n",
    ",StructField(\"fdi\", FloatType(), True)\n",
    ",StructField(\"rnr\", DoubleType(), True)\n",
    ",StructField(\"rr\", FloatType(), True)\n",
    ",StructField(\"i\", FloatType(), True)\n",
    ",StructField(\"fr\", IntegerType(), True)\n",
    ",StructField(\"reg\", StringType(), True)\n",
    ",StructField(\"it\", IntegerType(), True)\n",
    "]\n",
    "\n",
    "final_struc = StructType(fields=data_schema)\n",
    "\n",
    "file_location = \"/FileStore/tables/df_panel_fix.csv\"\n",
    "df = spark.read.format(\"CSV\").schema(final_struc).option(\"header\", True).load(file_location)\n",
    "\n",
    "#df.printSchema()\n",
    "\n",
    "df.show()"
   ]
  },
  {
   "cell_type": "code",
   "execution_count": null,
   "metadata": {},
   "outputs": [],
   "source": []
  },
  {
   "cell_type": "code",
   "execution_count": null,
   "metadata": {},
   "outputs": [],
   "source": []
  },
  {
   "cell_type": "code",
   "execution_count": null,
   "metadata": {},
   "outputs": [],
   "source": []
  },
  {
   "cell_type": "code",
   "execution_count": null,
   "metadata": {},
   "outputs": [],
   "source": []
  },
  {
   "cell_type": "code",
   "execution_count": null,
   "metadata": {},
   "outputs": [],
   "source": []
  }
 ]
}