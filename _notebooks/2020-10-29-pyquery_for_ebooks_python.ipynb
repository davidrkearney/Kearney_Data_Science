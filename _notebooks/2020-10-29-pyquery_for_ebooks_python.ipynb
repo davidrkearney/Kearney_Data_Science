{
 "cells": [
  {
   "cell_type": "markdown",
   "metadata": {},
   "source": [
    "# Creating E-Books (.epub) in python using ebooklib\n"
   ]
  },
  {
   "cell_type": "markdown",
   "metadata": {},
   "source": [
    "This post includes code and notes from [ebooklib](https://github.com/aerkalov/ebooklib/) and [make-an-ebook](http://rtpg.co/2016/09/17/make-an-ebook.html)."
   ]
  },
  {
   "cell_type": "code",
   "execution_count": 1,
   "metadata": {},
   "outputs": [],
   "source": [
    "import os\n",
    "import requests\n",
    "\n",
    "from ebooklib import epub\n",
    "from pyquery import PyQuery as pq"
   ]
  },
  {
   "cell_type": "code",
   "execution_count": 2,
   "metadata": {},
   "outputs": [
    {
     "name": "stdout",
     "output_type": "stream",
     "text": [
      "Getting  http://example.com/1.html\n"
     ]
    }
   ],
   "source": [
    "# coding=utf-8\n",
    "\n",
    "url = \"http://example.com/%s.html\"\n",
    "build_dir = \"build/\"\n",
    "\n",
    "if not os.path.exists(build_dir):\n",
    "    os.makedirs(build_dir)\n",
    "    \n",
    "source_urls = [url % i for i in range(1,2)]\n",
    "\n",
    "urls = [\n",
    "    (build_dir + \"%s.html\" % i, url % i) for i in range(1,2)\n",
    "]\n",
    "\n",
    "for filename, url in urls:\n",
    "    print(\"Getting \", url)\n",
    "    response = requests.get(url)\n",
    "    with open(filename, 'wb') as f:\n",
    "        f.write(response.content)"
   ]
  },
  {
   "cell_type": "code",
   "execution_count": 6,
   "metadata": {},
   "outputs": [],
   "source": [
    "if __name__ == '__main__':\n",
    "    book = epub.EpubBook()\n",
    "\n",
    "    # add metadata\n",
    "    book.set_identifier('sample123456')\n",
    "    book.set_title('Sample book')\n",
    "    book.set_language('en')\n",
    "\n",
    "    book.add_author('Example Author')\n",
    "\n",
    "    # intro chapter\n",
    "    c1 = epub.EpubHtml(title='Introduction', file_name='intro.xhtml', lang='en')\n",
    "    c1.content=u'<html><head></head><body><h1>Introduction</h1><p>Introduction paragraph here.</p></body></html>'\n",
    "\n",
    "    # about chapter\n",
    "    c2 = epub.EpubHtml(title='About this book', file_name='about.xhtml')\n",
    "    c2.content='<h1>About this book</h1><p>Text about his book.</p>'\n",
    "\n",
    "    # add chapters to the book\n",
    "    book.add_item(c1)\n",
    "    book.add_item(c2)\n",
    "    \n",
    "    # create table of contents\n",
    "    # - add section\n",
    "    # - add auto created links to chapters\n",
    "\n",
    "    book.toc = (epub.Link('intro.xhtml', 'Introduction', 'intro'),\n",
    "                 (epub.Section('Languages'),\n",
    "                 (c1, c2))\n",
    "                )\n",
    "\n",
    "    # add navigation files\n",
    "    book.add_item(epub.EpubNcx())\n",
    "    book.add_item(epub.EpubNav())\n",
    "\n",
    "    # define css style\n",
    "    style = '''\n",
    "@namespace epub \"http://www.idpf.org/2007/ops\";\n",
    "body {\n",
    "    font-family: Cambria, Liberation Serif, Bitstream Vera Serif, Georgia, Times, Times New Roman, serif;\n",
    "}\n",
    "h2 {\n",
    "     text-align: left;\n",
    "     text-transform: uppercase;\n",
    "     font-weight: 200;     \n",
    "}\n",
    "ol {\n",
    "        list-style-type: none;\n",
    "}\n",
    "ol > li:first-child {\n",
    "        margin-top: 0.3em;\n",
    "}\n",
    "nav[epub|type~='toc'] > ol > li > ol  {\n",
    "    list-style-type:square;\n",
    "}\n",
    "nav[epub|type~='toc'] > ol > li > ol > li {\n",
    "        margin-top: 0.3em;\n",
    "}\n",
    "'''\n",
    "\n",
    "    # add css file\n",
    "    nav_css = epub.EpubItem(uid=\"style_nav\", file_name=\"style/nav.css\", media_type=\"text/css\", content=style)\n",
    "    book.add_item(nav_css)\n",
    "\n",
    "    # create spine\n",
    "    book.spine = ['nav', c1, c2]\n",
    "\n",
    "    # create epub file\n",
    "    epub.write_epub('test.epub', book, {})"
   ]
  }
 ],
 "metadata": {
  "kernelspec": {
   "display_name": "Python 3",
   "language": "python",
   "name": "python3"
  },
  "language_info": {
   "codemirror_mode": {
    "name": "ipython",
    "version": 3
   },
   "file_extension": ".py",
   "mimetype": "text/x-python",
   "name": "python",
   "nbconvert_exporter": "python",
   "pygments_lexer": "ipython3",
   "version": "3.7.3"
  }
 },
 "nbformat": 4,
 "nbformat_minor": 4
}
