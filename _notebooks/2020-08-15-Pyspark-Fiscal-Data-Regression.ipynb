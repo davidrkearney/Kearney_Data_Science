{
 "cells": [
  {
   "cell_type": "markdown",
   "metadata": {},
   "source": [
    "# Pyspark Regression with Fiscal Data"
   ]
  },
  {
   "cell_type": "markdown",
   "metadata": {},
   "source": [
    "> \"A minimal example of using Pyspark for Linear Regression\"\n",
    "\n",
    "- toc: true- branch: master- badges: true\n",
    "- comments: true\n",
    "- author: David Kearney\n",
    "- categories: [pyspark, jupyter]\n",
    "- description: A minimal example of using Pyspark for Linear Regression\n",
    "- title: Pyspark Regression with Fiscal Data"
   ]
  },
  {
   "cell_type": "markdown",
   "metadata": {},
   "source": [
    "## Import Needed Packages"
   ]
  },
  {
   "cell_type": "code",
   "execution_count": null,
   "metadata": {},
   "outputs": [],
   "source": [
    "from pyspark.sql.functions import col\n",
    "from pyspark.sql.types import StringType,BooleanType,DateType,IntegerType\n",
    "from pyspark.sql.functions import *"
   ]
  },
  {
   "cell_type": "code",
   "execution_count": null,
   "metadata": {},
   "outputs": [],
   "source": [
    "## Load data from a CSV"
   ]
  },
  {
   "cell_type": "code",
   "execution_count": 2,
   "metadata": {},
   "outputs": [
    {
     "data": {
      "text/html": [
       "<style scoped>\n",
       "  .table-result-container {\n",
       "    max-height: 300px;\n",
       "    overflow: auto;\n",
       "  }\n",
       "  table, th, td {\n",
       "    border: 1px solid black;\n",
       "    border-collapse: collapse;\n",
       "  }\n",
       "  th, td {\n",
       "    padding: 5px;\n",
       "  }\n",
       "  th {\n",
       "    text-align: left;\n",
       "  }\n",
       "</style><div class='table-result-container'><table class='table-result'><thead style='background-color: white'><tr><th>_c0</th><th>province</th><th>specific</th><th>general</th><th>year</th><th>gdp</th><th>fdi</th><th>rnr</th><th>rr</th><th>i</th><th>fr</th><th>reg</th><th>it</th></tr></thead><tbody><tr><td>0</td><td>Anhui</td><td>147002.0</td><td>null</td><td>1996</td><td>2093.3</td><td>50661</td><td>0.0</td><td>0.0</td><td>0.0</td><td>1128873</td><td>East China</td><td>631930</td></tr><tr><td>1</td><td>Anhui</td><td>151981.0</td><td>null</td><td>1997</td><td>2347.32</td><td>43443</td><td>0.0</td><td>0.0</td><td>0.0</td><td>1356287</td><td>East China</td><td>657860</td></tr><tr><td>2</td><td>Anhui</td><td>174930.0</td><td>null</td><td>1998</td><td>2542.96</td><td>27673</td><td>0.0</td><td>0.0</td><td>0.0</td><td>1518236</td><td>East China</td><td>889463</td></tr><tr><td>3</td><td>Anhui</td><td>285324.0</td><td>null</td><td>1999</td><td>2712.34</td><td>26131</td><td>null</td><td>null</td><td>null</td><td>1646891</td><td>East China</td><td>1227364</td></tr><tr><td>4</td><td>Anhui</td><td>195580.0</td><td>32100.0</td><td>2000</td><td>2902.09</td><td>31847</td><td>0.0</td><td>0.0</td><td>0.0</td><td>1601508</td><td>East China</td><td>1499110</td></tr></tbody></table></div>"
      ]
     },
     "metadata": {},
     "output_type": "display_data"
    }
   ],
   "source": [
    "#collapse-hide\n",
    "\n",
    "# Load data from a CSV\n",
    "file_location = \"/FileStore/tables/df_panel_fix.csv\"\n",
    "df = spark.read.format(\"CSV\").option(\"inferSchema\", True).option(\"header\", True).load(file_location)\n",
    "display(df.take(5))\n"
   ]
  },
  {
   "cell_type": "code",
   "execution_count": 3,
   "metadata": {},
   "outputs": [
    {
     "data": {
      "text/html": [
       "<style scoped>\n",
       "  .ansiout {\n",
       "    display: block;\n",
       "    unicode-bidi: embed;\n",
       "    white-space: pre-wrap;\n",
       "    word-wrap: break-word;\n",
       "    word-break: break-all;\n",
       "    font-family: \"Source Code Pro\", \"Menlo\", monospace;;\n",
       "    font-size: 13px;\n",
       "    color: #555;\n",
       "    margin-left: 4px;\n",
       "    line-height: 19px;\n",
       "  }\n",
       "</style>\n",
       "<div class=\"ansiout\">+----+---------------+---------------+\n",
       "year|total_yearly_it|total_yearly_fr|\n",
       "+----+---------------+---------------+\n",
       "1996|       19825341|    2.9579215E7|\n",
       "1997|       21391321|    2.9110765E7|\n",
       "1998|       25511453|    3.8154711E7|\n",
       "1999|       31922107|    4.2128627E7|\n",
       "2000|       38721293|    4.8288092E7|\n",
       "2001|       50754944|    5.8910649E7|\n",
       "2002|       62375881|    6.2071474E7|\n",
       "2003|       69316709|    7.2479293E7|\n",
       "2004|       88626786|           null|\n",
       "2005|       98263665|           null|\n",
       "2006|      119517822|    1.3349148E8|\n",
       "2007|      153467611|   2.27385701E8|\n",
       "+----+---------------+---------------+\n",
       "\n",
       "</div>"
      ]
     },
     "metadata": {},
     "output_type": "display_data"
    }
   ],
   "source": [
    "df.createOrReplaceTempView(\"fiscal_stats\")\n",
    "\n",
    "sums = spark.sql(\"\"\"\n",
    "select year, sum(it) as total_yearly_it, sum(fr) as total_yearly_fr\n",
    "from fiscal_stats\n",
    "group by 1\n",
    "order by year asc\n",
    "\"\"\")\n",
    "\n",
    "sums.show()"
   ]
  },
  {
   "cell_type": "markdown",
   "metadata": {},
   "source": [
    "## Describing the Data"
   ]
  },
  {
   "cell_type": "code",
   "execution_count": 4,
   "metadata": {},
   "outputs": [
    {
     "data": {
      "text/html": [
       "<div>\n",
       "<style scoped>\n",
       "    .dataframe tbody tr th:only-of-type {\n",
       "        vertical-align: middle;\n",
       "    }\n",
       "\n",
       "    .dataframe tbody tr th {\n",
       "        vertical-align: top;\n",
       "    }\n",
       "\n",
       "    .dataframe thead th {\n",
       "        text-align: right;\n",
       "    }\n",
       "</style>\n",
       "<table border=\"1\" class=\"dataframe\">\n",
       "  <thead>\n",
       "    <tr style=\"text-align: right;\">\n",
       "      <th></th>\n",
       "      <th>0</th>\n",
       "      <th>1</th>\n",
       "      <th>2</th>\n",
       "      <th>3</th>\n",
       "      <th>4</th>\n",
       "    </tr>\n",
       "  </thead>\n",
       "  <tbody>\n",
       "    <tr>\n",
       "      <th>summary</th>\n",
       "      <td>count</td>\n",
       "      <td>mean</td>\n",
       "      <td>stddev</td>\n",
       "      <td>min</td>\n",
       "      <td>max</td>\n",
       "    </tr>\n",
       "    <tr>\n",
       "      <th>_c0</th>\n",
       "      <td>360</td>\n",
       "      <td>179.5</td>\n",
       "      <td>104.06728592598157</td>\n",
       "      <td>0</td>\n",
       "      <td>359</td>\n",
       "    </tr>\n",
       "    <tr>\n",
       "      <th>province</th>\n",
       "      <td>360</td>\n",
       "      <td>None</td>\n",
       "      <td>None</td>\n",
       "      <td>Anhui</td>\n",
       "      <td>Zhejiang</td>\n",
       "    </tr>\n",
       "    <tr>\n",
       "      <th>specific</th>\n",
       "      <td>356</td>\n",
       "      <td>583470.7303370787</td>\n",
       "      <td>654055.3290782663</td>\n",
       "      <td>8964.0</td>\n",
       "      <td>3937966.0</td>\n",
       "    </tr>\n",
       "    <tr>\n",
       "      <th>general</th>\n",
       "      <td>169</td>\n",
       "      <td>309127.53846153844</td>\n",
       "      <td>355423.5760674793</td>\n",
       "      <td>0.0</td>\n",
       "      <td>1737800.0</td>\n",
       "    </tr>\n",
       "    <tr>\n",
       "      <th>year</th>\n",
       "      <td>360</td>\n",
       "      <td>2001.5</td>\n",
       "      <td>3.4568570586927794</td>\n",
       "      <td>1996</td>\n",
       "      <td>2007</td>\n",
       "    </tr>\n",
       "    <tr>\n",
       "      <th>gdp</th>\n",
       "      <td>360</td>\n",
       "      <td>4428.653416666667</td>\n",
       "      <td>4484.668659976412</td>\n",
       "      <td>64.98</td>\n",
       "      <td>31777.01</td>\n",
       "    </tr>\n",
       "    <tr>\n",
       "      <th>fdi</th>\n",
       "      <td>360</td>\n",
       "      <td>196139.38333333333</td>\n",
       "      <td>303043.97011891654</td>\n",
       "      <td>2</td>\n",
       "      <td>1743140</td>\n",
       "    </tr>\n",
       "    <tr>\n",
       "      <th>rnr</th>\n",
       "      <td>294</td>\n",
       "      <td>0.0355944252244898</td>\n",
       "      <td>0.16061503029299648</td>\n",
       "      <td>0.0</td>\n",
       "      <td>1.214285714</td>\n",
       "    </tr>\n",
       "    <tr>\n",
       "      <th>rr</th>\n",
       "      <td>296</td>\n",
       "      <td>0.059688621057432424</td>\n",
       "      <td>0.15673351824073453</td>\n",
       "      <td>0.0</td>\n",
       "      <td>0.84</td>\n",
       "    </tr>\n",
       "    <tr>\n",
       "      <th>i</th>\n",
       "      <td>287</td>\n",
       "      <td>0.08376351662369343</td>\n",
       "      <td>0.1838933104683607</td>\n",
       "      <td>0.0</td>\n",
       "      <td>1.05</td>\n",
       "    </tr>\n",
       "    <tr>\n",
       "      <th>fr</th>\n",
       "      <td>295</td>\n",
       "      <td>2522449.0034013605</td>\n",
       "      <td>3491329.8613106664</td>\n",
       "      <td>#REF!</td>\n",
       "      <td>9898522</td>\n",
       "    </tr>\n",
       "    <tr>\n",
       "      <th>reg</th>\n",
       "      <td>360</td>\n",
       "      <td>None</td>\n",
       "      <td>None</td>\n",
       "      <td>East China</td>\n",
       "      <td>Southwest China</td>\n",
       "    </tr>\n",
       "    <tr>\n",
       "      <th>it</th>\n",
       "      <td>360</td>\n",
       "      <td>2165819.2583333333</td>\n",
       "      <td>1769294.2935487411</td>\n",
       "      <td>147897</td>\n",
       "      <td>10533312</td>\n",
       "    </tr>\n",
       "  </tbody>\n",
       "</table>\n",
       "</div>"
      ]
     },
     "metadata": {},
     "output_type": "display_data"
    }
   ],
   "source": [
    "df.describe().toPandas().transpose()\n"
   ]
  },
  {
   "cell_type": "code",
   "execution_count": 5,
   "metadata": {},
   "outputs": [
    {
     "data": {
      "text/html": [
       "<style scoped>\n",
       "  .ansiout {\n",
       "    display: block;\n",
       "    unicode-bidi: embed;\n",
       "    white-space: pre-wrap;\n",
       "    word-wrap: break-word;\n",
       "    word-break: break-all;\n",
       "    font-family: \"Source Code Pro\", \"Menlo\", monospace;;\n",
       "    font-size: 13px;\n",
       "    color: #555;\n",
       "    margin-left: 4px;\n",
       "    line-height: 19px;\n",
       "  }\n",
       "</style>\n",
       "<div class=\"ansiout\"></div>"
      ]
     },
     "metadata": {},
     "output_type": "display_data"
    }
   ],
   "source": [
    "df2 = df.withColumn(\"gdp\",col(\"gdp\").cast(IntegerType())) \\\n",
    ".withColumn(\"specific\",col(\"specific\").cast(IntegerType())) \\\n",
    ".withColumn(\"general\",col(\"general\").cast(IntegerType())) \\\n",
    ".withColumn(\"year\",col(\"year\").cast(IntegerType())) \\\n",
    ".withColumn(\"fdi\",col(\"fdi\").cast(IntegerType())) \\\n",
    ".withColumn(\"rnr\",col(\"rnr\").cast(IntegerType())) \\\n",
    ".withColumn(\"rr\",col(\"rr\").cast(IntegerType())) \\\n",
    ".withColumn(\"i\",col(\"i\").cast(IntegerType())) \\\n",
    ".withColumn(\"fr\",col(\"fr\").cast(IntegerType()))"
   ]
  },
  {
   "cell_type": "code",
   "execution_count": 6,
   "metadata": {},
   "outputs": [
    {
     "data": {
      "text/html": [
       "<style scoped>\n",
       "  .ansiout {\n",
       "    display: block;\n",
       "    unicode-bidi: embed;\n",
       "    white-space: pre-wrap;\n",
       "    word-wrap: break-word;\n",
       "    word-break: break-all;\n",
       "    font-family: \"Source Code Pro\", \"Menlo\", monospace;;\n",
       "    font-size: 13px;\n",
       "    color: #555;\n",
       "    margin-left: 4px;\n",
       "    line-height: 19px;\n",
       "  }\n",
       "</style>\n",
       "<div class=\"ansiout\">root\n",
       "-- _c0: integer (nullable = true)\n",
       "-- province: string (nullable = true)\n",
       "-- specific: integer (nullable = true)\n",
       "-- general: integer (nullable = true)\n",
       "-- year: integer (nullable = true)\n",
       "-- gdp: integer (nullable = true)\n",
       "-- fdi: integer (nullable = true)\n",
       "-- rnr: integer (nullable = true)\n",
       "-- rr: integer (nullable = true)\n",
       "-- i: integer (nullable = true)\n",
       "-- fr: integer (nullable = true)\n",
       "-- reg: string (nullable = true)\n",
       "-- it: integer (nullable = true)\n",
       "\n",
       "</div>"
      ]
     },
     "metadata": {},
     "output_type": "display_data"
    }
   ],
   "source": [
    "df2.printSchema()"
   ]
  },
  {
   "cell_type": "code",
   "execution_count": 7,
   "metadata": {},
   "outputs": [
    {
     "data": {
      "text/html": [
       "<style scoped>\n",
       "  .ansiout {\n",
       "    display: block;\n",
       "    unicode-bidi: embed;\n",
       "    white-space: pre-wrap;\n",
       "    word-wrap: break-word;\n",
       "    word-break: break-all;\n",
       "    font-family: \"Source Code Pro\", \"Menlo\", monospace;;\n",
       "    font-size: 13px;\n",
       "    color: #555;\n",
       "    margin-left: 4px;\n",
       "    line-height: 19px;\n",
       "  }\n",
       "</style>\n",
       "<div class=\"ansiout\"></div>"
      ]
     },
     "metadata": {},
     "output_type": "display_data"
    }
   ],
   "source": [
    "from pyspark.ml.feature import VectorAssembler\n",
    "from pyspark.ml.regression import LinearRegression\n",
    "\n",
    "assembler = VectorAssembler(inputCols=['gdp', 'fdi'], outputCol=\"features\")\n",
    "train_df = assembler.transform(df2) "
   ]
  },
  {
   "cell_type": "code",
   "execution_count": 8,
   "metadata": {},
   "outputs": [
    {
     "data": {
      "text/html": [
       "<style scoped>\n",
       "  .ansiout {\n",
       "    display: block;\n",
       "    unicode-bidi: embed;\n",
       "    white-space: pre-wrap;\n",
       "    word-wrap: break-word;\n",
       "    word-break: break-all;\n",
       "    font-family: \"Source Code Pro\", \"Menlo\", monospace;;\n",
       "    font-size: 13px;\n",
       "    color: #555;\n",
       "    margin-left: 4px;\n",
       "    line-height: 19px;\n",
       "  }\n",
       "</style>\n",
       "<div class=\"ansiout\">+--------+----+\n",
       "specific|year|\n",
       "+--------+----+\n",
       "  147002|1996|\n",
       "  151981|1997|\n",
       "  174930|1998|\n",
       "  285324|1999|\n",
       "  195580|2000|\n",
       "  250898|2001|\n",
       "  434149|2002|\n",
       "  619201|2003|\n",
       "  898441|2004|\n",
       "  898441|2005|\n",
       " 1457872|2006|\n",
       " 2213991|2007|\n",
       "  165957|1996|\n",
       "  165957|1997|\n",
       "  245198|1998|\n",
       "  388083|1999|\n",
       "  281769|2000|\n",
       "  441923|2001|\n",
       "  558569|2002|\n",
       "  642581|2003|\n",
       "+--------+----+\n",
       "only showing top 20 rows\n",
       "\n",
       "</div>"
      ]
     },
     "metadata": {},
     "output_type": "display_data"
    }
   ],
   "source": [
    "train_df.select(\"specific\", \"year\").show()"
   ]
  },
  {
   "cell_type": "code",
   "execution_count": 9,
   "metadata": {},
   "outputs": [
    {
     "data": {
      "text/html": [
       "<style scoped>\n",
       "  .ansiout {\n",
       "    display: block;\n",
       "    unicode-bidi: embed;\n",
       "    white-space: pre-wrap;\n",
       "    word-wrap: break-word;\n",
       "    word-break: break-all;\n",
       "    font-family: \"Source Code Pro\", \"Menlo\", monospace;;\n",
       "    font-size: 13px;\n",
       "    color: #555;\n",
       "    margin-left: 4px;\n",
       "    line-height: 19px;\n",
       "  }\n",
       "</style>\n",
       "<div class=\"ansiout\">Coefficients: [495.05888709337756,-4.968141828763066]\n",
       "RMSE: 1234228.673087\n",
       "R2: 0.512023\n",
       "</div>"
      ]
     },
     "metadata": {},
     "output_type": "display_data"
    }
   ],
   "source": [
    "lr = LinearRegression(featuresCol = 'features', labelCol='it')\n",
    "lr_model = lr.fit(train_df)\n",
    "\n",
    "trainingSummary = lr_model.summary\n",
    "print(\"Coefficients: \" + str(lr_model.coefficients))\n",
    "print(\"RMSE: %f\" % trainingSummary.rootMeanSquaredError)\n",
    "print(\"R2: %f\" % trainingSummary.r2)\n"
   ]
  },
  {
   "cell_type": "code",
   "execution_count": 10,
   "metadata": {},
   "outputs": [
    {
     "data": {
      "text/html": [
       "<style scoped>\n",
       "  .ansiout {\n",
       "    display: block;\n",
       "    unicode-bidi: embed;\n",
       "    white-space: pre-wrap;\n",
       "    word-wrap: break-word;\n",
       "    word-break: break-all;\n",
       "    font-family: \"Source Code Pro\", \"Menlo\", monospace;;\n",
       "    font-size: 13px;\n",
       "    color: #555;\n",
       "    margin-left: 4px;\n",
       "    line-height: 19px;\n",
       "  }\n",
       "</style>\n",
       "<div class=\"ansiout\">+------------------+-------+----------------+\n",
       "        prediction|     it|        features|\n",
       "+------------------+-------+----------------+\n",
       "1732528.7382477913| 631930|[2093.0,50661.0]|\n",
       "1894133.7432895212| 657860|[2347.0,43443.0]|\n",
       "2069017.8229123235| 889463|[2542.0,27673.0]|\n",
       "2160838.7084181504|1227364|[2712.0,26131.0]|\n",
       "2226501.9982726825|1499110|[2902.0,31847.0]|\n",
       "+------------------+-------+----------------+\n",
       "only showing top 5 rows\n",
       "\n",
       "</div>"
      ]
     },
     "metadata": {},
     "output_type": "display_data"
    }
   ],
   "source": [
    "lr_predictions = lr_model.transform(train_df)\n",
    "lr_predictions.select(\"prediction\",\"it\",\"features\").show(5)\n",
    "from pyspark.ml.evaluation import RegressionEvaluator\n",
    "lr_evaluator = RegressionEvaluator(predictionCol=\"prediction\", \\\n",
    "                 labelCol=\"it\",metricName=\"r2\")\n",
    "\n"
   ]
  },
  {
   "cell_type": "code",
   "execution_count": 11,
   "metadata": {},
   "outputs": [
    {
     "data": {
      "text/html": [
       "<style scoped>\n",
       "  .ansiout {\n",
       "    display: block;\n",
       "    unicode-bidi: embed;\n",
       "    white-space: pre-wrap;\n",
       "    word-wrap: break-word;\n",
       "    word-break: break-all;\n",
       "    font-family: \"Source Code Pro\", \"Menlo\", monospace;;\n",
       "    font-size: 13px;\n",
       "    color: #555;\n",
       "    margin-left: 4px;\n",
       "    line-height: 19px;\n",
       "  }\n",
       "</style>\n",
       "<div class=\"ansiout\">R Squared (R2) on test data = 0.512023\n",
       "</div>"
      ]
     },
     "metadata": {},
     "output_type": "display_data"
    }
   ],
   "source": [
    "print(\"R Squared (R2) on test data = %g\" % lr_evaluator.evaluate(lr_predictions))"
   ]
  },
  {
   "cell_type": "code",
   "execution_count": 12,
   "metadata": {},
   "outputs": [
    {
     "data": {
      "text/html": [
       "<style scoped>\n",
       "  .ansiout {\n",
       "    display: block;\n",
       "    unicode-bidi: embed;\n",
       "    white-space: pre-wrap;\n",
       "    word-wrap: break-word;\n",
       "    word-break: break-all;\n",
       "    font-family: \"Source Code Pro\", \"Menlo\", monospace;;\n",
       "    font-size: 13px;\n",
       "    color: #555;\n",
       "    margin-left: 4px;\n",
       "    line-height: 19px;\n",
       "  }\n",
       "</style>\n",
       "<div class=\"ansiout\">numIterations: 1\n",
       "objectiveHistory: [0.0]\n",
       "+-------------------+\n",
       "          residuals|\n",
       "+-------------------+\n",
       "-1100598.7382477913|\n",
       "-1236273.7432895212|\n",
       "-1179554.8229123235|\n",
       " -933474.7084181504|\n",
       " -727391.9982726825|\n",
       "-222546.39659531135|\n",
       " -94585.30175113119|\n",
       " 108072.63313654158|\n",
       " 389732.58121094666|\n",
       "  621021.2194867637|\n",
       "  1885768.997742407|\n",
       "  3938310.059555837|\n",
       "  -554084.125169754|\n",
       " -615660.3899049093|\n",
       " -352195.3468934437|\n",
       "-348450.00565795833|\n",
       " -918476.5594253046|\n",
       " -710059.9133252408|\n",
       "-1148661.0062004486|\n",
       "  -911572.322055324|\n",
       "+-------------------+\n",
       "only showing top 20 rows\n",
       "\n",
       "</div>"
      ]
     },
     "metadata": {},
     "output_type": "display_data"
    }
   ],
   "source": [
    "print(\"numIterations: %d\" % trainingSummary.totalIterations)\n",
    "print(\"objectiveHistory: %s\" % str(trainingSummary.objectiveHistory))\n",
    "trainingSummary.residuals.show()"
   ]
  },
  {
   "cell_type": "code",
   "execution_count": 13,
   "metadata": {},
   "outputs": [
    {
     "data": {
      "text/html": [
       "<style scoped>\n",
       "  .ansiout {\n",
       "    display: block;\n",
       "    unicode-bidi: embed;\n",
       "    white-space: pre-wrap;\n",
       "    word-wrap: break-word;\n",
       "    word-break: break-all;\n",
       "    font-family: \"Source Code Pro\", \"Menlo\", monospace;;\n",
       "    font-size: 13px;\n",
       "    color: #555;\n",
       "    margin-left: 4px;\n",
       "    line-height: 19px;\n",
       "  }\n",
       "</style>\n",
       "<div class=\"ansiout\">+------------------+-------+---------------+\n",
       "        prediction|     it|       features|\n",
       "+------------------+-------+---------------+\n",
       " 976371.9212205639| 306114|   [64.0,679.0]|\n",
       " 990722.2032541803| 415547|   [91.0,481.0]|\n",
       "1016348.0830204486| 983251|  [139.0,106.0]|\n",
       "1036290.7062801318| 218361|  [184.0,576.0]|\n",
       "1034023.4471330958| 178668| [202.0,2826.0]|\n",
       "1060130.0768520113| 274994| [245.0,1856.0]|\n",
       "1023513.0851009073| 546541|[263.0,11020.0]|\n",
       "   1053250.6267921| 361358| [264.0,5134.0]|\n",
       "1123768.8091592425| 866691| [377.0,2200.0]|\n",
       "1128604.8330225947| 948521| [390.0,2522.0]|\n",
       " 810587.2575938476| 177748|[442.0,71715.0]|\n",
       " 1159703.254297337| 736165| [445.0,1743.0]|\n",
       " 1066975.770986663|1260633|[466.0,22500.0]|\n",
       "1288507.6625716756|1423771| [725.0,3718.0]|\n",
       " 1320055.238474972| 573905| [793.0,4144.0]|\n",
       "1188611.0570700848|2347862|[797.0,31000.0]|\n",
       " 1321857.482976733| 582711| [805.0,4977.0]|\n",
       "1033849.5995896922| 746784|[819.0,64343.0]|\n",
       " 1445051.792853667|1216605|[1029.0,2501.0]|\n",
       "1437887.1056682135|1258100|[1052.0,6235.0]|\n",
       "+------------------+-------+---------------+\n",
       "only showing top 20 rows\n",
       "\n",
       "</div>"
      ]
     },
     "metadata": {},
     "output_type": "display_data"
    }
   ],
   "source": [
    "predictions = lr_model.transform(test_df)\n",
    "predictions.select(\"prediction\",\"it\",\"features\").show()"
   ]
  },
  {
   "cell_type": "code",
   "execution_count": 14,
   "metadata": {},
   "outputs": [
    {
     "data": {
      "text/html": [
       "<style scoped>\n",
       "  .ansiout {\n",
       "    display: block;\n",
       "    unicode-bidi: embed;\n",
       "    white-space: pre-wrap;\n",
       "    word-wrap: break-word;\n",
       "    word-break: break-all;\n",
       "    font-family: \"Source Code Pro\", \"Menlo\", monospace;;\n",
       "    font-size: 13px;\n",
       "    color: #555;\n",
       "    margin-left: 4px;\n",
       "    line-height: 19px;\n",
       "  }\n",
       "</style>\n",
       "<div class=\"ansiout\">Root Mean Squared Error (RMSE) on test data = 1.01114e+06\n",
       "</div>"
      ]
     },
     "metadata": {},
     "output_type": "display_data"
    }
   ],
   "source": [
    "from pyspark.ml.regression import DecisionTreeRegressor\n",
    "dt = DecisionTreeRegressor(featuresCol ='features', labelCol = 'it')\n",
    "dt_model = dt.fit(train_df)\n",
    "dt_predictions = dt_model.transform(train_df)\n",
    "dt_evaluator = RegressionEvaluator(\n",
    "    labelCol=\"it\", predictionCol=\"prediction\", metricName=\"rmse\")\n",
    "rmse = dt_evaluator.evaluate(dt_predictions)\n",
    "print(\"Root Mean Squared Error (RMSE) on test data = %g\" % rmse)\n"
   ]
  },
  {
   "cell_type": "code",
   "execution_count": 15,
   "metadata": {},
   "outputs": [
    {
     "data": {
      "text/html": [
       "<style scoped>\n",
       "  .ansiout {\n",
       "    display: block;\n",
       "    unicode-bidi: embed;\n",
       "    white-space: pre-wrap;\n",
       "    word-wrap: break-word;\n",
       "    word-break: break-all;\n",
       "    font-family: \"Source Code Pro\", \"Menlo\", monospace;;\n",
       "    font-size: 13px;\n",
       "    color: #555;\n",
       "    margin-left: 4px;\n",
       "    line-height: 19px;\n",
       "  }\n",
       "</style>\n",
       "<div class=\"ansiout\">+------------------+-------+----------------+\n",
       "        prediction|     it|        features|\n",
       "+------------------+-------+----------------+\n",
       " 1388898.308543053| 631930|[2093.0,50661.0]|\n",
       " 1388898.308543053| 657860|[2347.0,43443.0]|\n",
       "1649083.6277172007| 889463|[2542.0,27673.0]|\n",
       "1649083.6277172007|1227364|[2712.0,26131.0]|\n",
       "1649083.6277172007|1499110|[2902.0,31847.0]|\n",
       "+------------------+-------+----------------+\n",
       "only showing top 5 rows\n",
       "\n",
       "Root Mean Squared Error (RMSE) on test data = 778728\n",
       "</div>"
      ]
     },
     "metadata": {},
     "output_type": "display_data"
    }
   ],
   "source": [
    "from pyspark.ml.regression import GBTRegressor\n",
    "gbt = GBTRegressor(featuresCol = 'features', labelCol = 'it', maxIter=10)\n",
    "gbt_model = gbt.fit(train_df)\n",
    "gbt_predictions = gbt_model.transform(train_df)\n",
    "gbt_predictions.select('prediction', 'it', 'features').show(5)\n",
    "\n",
    "\n",
    "gbt_evaluator = RegressionEvaluator(\n",
    "    labelCol=\"it\", predictionCol=\"prediction\", metricName=\"rmse\")\n",
    "rmse = gbt_evaluator.evaluate(gbt_predictions)\n",
    "print(\"Root Mean Squared Error (RMSE) on test data = %g\" % rmse)"
   ]
  }
 ],
 "metadata": {
  "kernelspec": {
   "display_name": "insight_kernel",
   "language": "python",
   "name": "insight_kernel"
  },
  "language_info": {
   "codemirror_mode": {
    "name": "ipython",
    "version": 3
   },
   "file_extension": ".py",
   "mimetype": "text/x-python",
   "name": "python",
   "nbconvert_exporter": "python",
   "pygments_lexer": "ipython3",
   "version": "3.7.4"
  },
  "name": "Pyspark_Learning",
  "notebookId": 4476355319125377
 },
 "nbformat": 4,
 "nbformat_minor": 4
}