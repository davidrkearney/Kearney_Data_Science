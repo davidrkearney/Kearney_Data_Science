{
  "nbformat": 4,
  "nbformat_minor": 0,
  "metadata": {
    "colab": {
      "name": "Tensorflow and Keras.ipynb",
      "provenance": [],
      "collapsed_sections": [],
      "authorship_tag": "ABX9TyO75oaAfdCCFqvqXV8SMkV1",
      "include_colab_link": true
    },
    "kernelspec": {
      "name": "python3",
      "display_name": "Python 3"
    }
  },
  "cells": [
    {
      "cell_type": "markdown",
      "metadata": {
        "id": "view-in-github",
        "colab_type": "text"
      },
      "source": [
        "<a href=\"https://colab.research.google.com/github/davidrkearney/colab-notebooks/blob/main/Tensorflow_and_Keras.ipynb\" target=\"_parent\"><img src=\"https://colab.research.google.com/assets/colab-badge.svg\" alt=\"Open In Colab\"/></a>"
      ]
    },
    {
      "cell_type": "markdown",
      "metadata": {
        "id": "bztzjrDOJFo_"
      },
      "source": [
        "# Tensorflow and Keras\n"
      ]
    },
    {
      "cell_type": "markdown",
      "metadata": {
        "id": "OTvy_kiYIjhq"
      },
      "source": [
        "## Credit: Code from https://github.com/jeffheaton/t81_558_deep_learning\n"
      ]
    },
    {
      "cell_type": "markdown",
      "metadata": {
        "id": "Uo5kEp6tIEXA"
      },
      "source": [
        "* [TensorFlow Homepage](https://www.tensorflow.org/)\n",
        "* [TensorFlow GitHib](https://github.com/tensorflow/tensorflow)\n",
        "* [TensorFlow Google Groups Support](https://groups.google.com/forum/#!forum/tensorflow)\n",
        "* [TensorFlow Google Groups Developer Discussion](https://groups.google.com/a/tensorflow.org/forum/#!forum/discuss)\n",
        "* [TensorFlow FAQ](https://www.tensorflow.org/resources/faq)\n"
      ]
    },
    {
      "cell_type": "markdown",
      "metadata": {
        "id": "FHOxfLNxIH8i"
      },
      "source": [
        "## Deep Learning Tools\n",
        "\n",
        "* **[TensorFlow](https://www.tensorflow.org/)** - Google's deep learning API.  The focus of this class, along with Keras.\n",
        "* **[Keras](https://keras.io/)** - Also by Google, higher level framework that allows the use of TensorFlow, MXNet and Theano interchangeably.\n",
        "* **[PyTorch](https://pytorch.org/)** - PyTorch is an open source machine learning library based on the Torch library, used for applications such as computer vision and natural language processing. It is primarily developed by Facebook's AI Research lab. \n",
        "\n",
        "* **[MXNet](https://mxnet.incubator.apache.org/)** Apache foundation's deep learning API. Can be used through Keras.\n",
        "* **[Torch](http://torch.ch/)** is used by Google DeepMind, the Facebook AI Research Group, IBM, Yandex and the Idiap Research Institute.  It has been used for some of the most advanced deep learning projects in the world.  However, it requires the [LUA](https://en.wikipedia.org/wiki/Lua_(programming_language))** programming language.  It is very advanced, but it is not mainstream.  I have not worked with Torch (yet!).\n",
        "* **[PaddlePaddle](https://github.com/baidu/Paddle)** - [Baidu](http://www.baidu.com/)'s deep learning API.\n",
        "* **[Deeplearning4J](http://deeplearning4j.org/)** - Java based. Supports all major platforms. GPU support in Java!\n",
        "* **[Computational Network Toolkit (CNTK)](https://github.com/Microsoft/CNTK)** - Microsoft.  Support for Windows/Linux, command line only.  Bindings for predictions for C#/Python. GPU support.\n",
        "* **[H2O](http://www.h2o.ai/)** - Java based.  Supports all major platforms.  Limited support for computer vision. No GPU support.\n",
        "\n",
        "+ Communicate with TensorFlow using Keras [[Cite:franccois2017deep]](https://www.manning.com/books/deep-learning-with-python).\n",
        "\n"
      ]
    },
    {
      "cell_type": "code",
      "metadata": {
        "id": "ILjhSHlJH6gp",
        "outputId": "1a8dc23b-e08f-4470-d35e-c34b66adaa2a",
        "colab": {
          "base_uri": "https://localhost:8080/"
        }
      },
      "source": [
        "try:\n",
        "    %tensorflow_version 2.x\n",
        "    COLAB = True\n",
        "    print(\"Note: using Google CoLab\")\n",
        "except:\n",
        "    print(\"Note: not using Google CoLab\")\n",
        "    COLAB = False"
      ],
      "execution_count": 23,
      "outputs": [
        {
          "output_type": "stream",
          "text": [
            "Note: using Google CoLab\n"
          ],
          "name": "stdout"
        }
      ]
    },
    {
      "cell_type": "code",
      "metadata": {
        "id": "6bqprPfGHITz",
        "outputId": "e4d45d61-df0a-40ec-a98f-f8b31a9623f3",
        "colab": {
          "base_uri": "https://localhost:8080/"
        }
      },
      "source": [
        "import tensorflow as tf\n",
        "\n",
        "# Create a Constant op that produces a 1x2 matrix.  The op is\n",
        "# added as a node to the default graph.\n",
        "#\n",
        "# The value returned by the constructor represents the output\n",
        "# of the Constant op.\n",
        "matrix1 = tf.constant([[3., 3.]])\n",
        "\n",
        "# Create another Constant that produces a 2x1 matrix.\n",
        "matrix2 = tf.constant([[2.],[2.]])\n",
        "\n",
        "# Create a Matmul op that takes 'matrix1' and 'matrix2' as inputs.\n",
        "# The returned value, 'product', represents the result of the matrix\n",
        "# multiplication.\n",
        "product = tf.matmul(matrix1, matrix2)\n",
        "\n",
        "print(product)\n",
        "print(float(product))"
      ],
      "execution_count": 2,
      "outputs": [
        {
          "output_type": "stream",
          "text": [
            "tf.Tensor([[12.]], shape=(1, 1), dtype=float32)\n",
            "12.0\n"
          ],
          "name": "stdout"
        }
      ]
    },
    {
      "cell_type": "code",
      "metadata": {
        "id": "OITS_Hy9HJ7f",
        "outputId": "c8b6837c-9b9d-41f0-d1cb-760d98e8dc6c",
        "colab": {
          "base_uri": "https://localhost:8080/"
        }
      },
      "source": [
        "import tensorflow as tf\n",
        "\n",
        "x = tf.Variable([1.0, 2.0])\n",
        "a = tf.constant([3.0, 3.0])\n",
        "\n",
        "# Add an op to subtract 'a' from 'x'.  Run it and print the result\n",
        "sub = tf.subtract(x, a)\n",
        "print(sub)\n",
        "print(sub.numpy())\n",
        "# ==> [-2. -1.]"
      ],
      "execution_count": 3,
      "outputs": [
        {
          "output_type": "stream",
          "text": [
            "tf.Tensor([-2. -1.], shape=(2,), dtype=float32)\n",
            "[-2. -1.]\n"
          ],
          "name": "stdout"
        }
      ]
    },
    {
      "cell_type": "code",
      "metadata": {
        "id": "zR5t8z_zHKZu",
        "outputId": "f41ddf96-a723-40d1-9ba4-a7ea342bb959",
        "colab": {
          "base_uri": "https://localhost:8080/"
        }
      },
      "source": [
        "x.assign([4.0, 6.0])"
      ],
      "execution_count": 4,
      "outputs": [
        {
          "output_type": "execute_result",
          "data": {
            "text/plain": [
              "<tf.Variable 'UnreadVariable' shape=(2,) dtype=float32, numpy=array([4., 6.], dtype=float32)>"
            ]
          },
          "metadata": {
            "tags": []
          },
          "execution_count": 4
        }
      ]
    },
    {
      "cell_type": "code",
      "metadata": {
        "id": "ioS_NrKcHKei",
        "outputId": "f2b6f526-8013-4902-dcde-0772b802bb84",
        "colab": {
          "base_uri": "https://localhost:8080/"
        }
      },
      "source": [
        "sub = tf.subtract(x, a)\n",
        "print(sub)\n",
        "print(sub.numpy())"
      ],
      "execution_count": 6,
      "outputs": [
        {
          "output_type": "stream",
          "text": [
            "tf.Tensor([1. 3.], shape=(2,), dtype=float32)\n",
            "[1. 3.]\n"
          ],
          "name": "stdout"
        }
      ]
    },
    {
      "cell_type": "code",
      "metadata": {
        "id": "TrJd63xgHKlN",
        "outputId": "060b2939-6983-4f98-b6be-d4282ee2df9d",
        "colab": {
          "base_uri": "https://localhost:8080/",
          "height": 537
        }
      },
      "source": [
        "# Import libraries for simulation\n",
        "import tensorflow as tf\n",
        "import numpy as np\n",
        "\n",
        "# Imports for visualization\n",
        "import PIL.Image\n",
        "from io import BytesIO\n",
        "from IPython.display import Image, display\n",
        "\n",
        "def DisplayFractal(a, fmt='jpeg'):\n",
        "  \"\"\"Display an array of iteration counts as a\n",
        "     colorful picture of a fractal.\"\"\"\n",
        "  a_cyclic = (6.28*a/20.0).reshape(list(a.shape)+[1])\n",
        "  img = np.concatenate([10+20*np.cos(a_cyclic),\n",
        "                        30+50*np.sin(a_cyclic),\n",
        "                        155-80*np.cos(a_cyclic)], 2)\n",
        "  img[a==a.max()] = 0\n",
        "  a = img\n",
        "  a = np.uint8(np.clip(a, 0, 255))\n",
        "  f = BytesIO()\n",
        "  PIL.Image.fromarray(a).save(f, fmt)\n",
        "  display(Image(data=f.getvalue()))\n",
        "\n",
        "# Use NumPy to create a 2D array of complex numbers\n",
        "\n",
        "Y, X = np.mgrid[-1.3:1.3:0.005, -2:1:0.005]\n",
        "Z = X+1j*Y\n",
        "\n",
        "xs = tf.constant(Z.astype(np.complex64))\n",
        "zs = tf.Variable(xs)\n",
        "ns = tf.Variable(tf.zeros_like(xs, tf.float32))\n",
        "\n",
        "\n",
        "\n",
        "# Operation to update the zs and the iteration count.\n",
        "#\n",
        "# Note: We keep computing zs after they diverge! This\n",
        "#       is very wasteful! There are better, if a little\n",
        "#       less simple, ways to do this.\n",
        "#\n",
        "for i in range(200):\n",
        "    # Compute the new values of z: z^2 + x\n",
        "    zs_ = zs*zs + xs\n",
        "\n",
        "    # Have we diverged with this new value?\n",
        "    not_diverged = tf.abs(zs_) < 4\n",
        "\n",
        "    zs.assign(zs_),\n",
        "    ns.assign_add(tf.cast(not_diverged, tf.float32))\n",
        "    \n",
        "DisplayFractal(ns.numpy())"
      ],
      "execution_count": 7,
      "outputs": [
        {
          "output_type": "display_data",
          "data": {
            "image/jpeg": "[encoded data removed]",
            "text/plain": [
              "<IPython.core.display.Image object>"
            ]
          },
          "metadata": {
            "tags": []
          }
        }
      ]
    },
    {
      "cell_type": "code",
      "metadata": {
        "id": "ajwyr-JDHKrp",
        "outputId": "b3a70e43-ad31-4e82-b3d7-bdc42f78a975",
        "colab": {
          "base_uri": "https://localhost:8080/"
        }
      },
      "source": [
        "from tensorflow.keras.models import Sequential\n",
        "from tensorflow.keras.layers import Dense, Activation\n",
        "import pandas as pd\n",
        "import io\n",
        "import os\n",
        "import requests\n",
        "import numpy as np\n",
        "from sklearn import metrics\n",
        "\n",
        "df = pd.read_csv(\n",
        "    \"https://data.heatonresearch.com/data/t81-558/auto-mpg.csv\", \n",
        "    na_values=['NA', '?'])\n",
        "\n",
        "cars = df['name']\n",
        "\n",
        "# Handle missing value\n",
        "df['horsepower'] = df['horsepower'].fillna(df['horsepower'].median())\n",
        "\n",
        "# Pandas to Numpy\n",
        "x = df[['cylinders', 'displacement', 'horsepower', 'weight',\n",
        "       'acceleration', 'year', 'origin']].values\n",
        "y = df['mpg'].values # regression\n",
        "\n",
        "# Build the neural network\n",
        "model = Sequential()\n",
        "model.add(Dense(25, input_dim=x.shape[1], activation='relu')) # Hidden 1\n",
        "model.add(Dense(10, activation='relu')) # Hidden 2\n",
        "model.add(Dense(1)) # Output\n",
        "model.compile(loss='mean_squared_error', optimizer='adam')\n",
        "model.fit(x,y,verbose=2,epochs=100)"
      ],
      "execution_count": 8,
      "outputs": [
        {
          "output_type": "stream",
          "text": [
            "Epoch 1/100\n",
            "13/13 - 0s - loss: 4580.9326\n",
            "Epoch 2/100\n",
            "13/13 - 0s - loss: 1225.3738\n",
            "Epoch 3/100\n",
            "13/13 - 0s - loss: 553.5983\n",
            "Epoch 4/100\n",
            "13/13 - 0s - loss: 376.0931\n",
            "Epoch 5/100\n",
            "13/13 - 0s - loss: 371.2755\n",
            "Epoch 6/100\n",
            "13/13 - 0s - loss: 355.6521\n",
            "Epoch 7/100\n",
            "13/13 - 0s - loss: 340.7242\n",
            "Epoch 8/100\n",
            "13/13 - 0s - loss: 332.5170\n",
            "Epoch 9/100\n",
            "13/13 - 0s - loss: 321.3474\n",
            "Epoch 10/100\n",
            "13/13 - 0s - loss: 309.0533\n",
            "Epoch 11/100\n",
            "13/13 - 0s - loss: 298.6037\n",
            "Epoch 12/100\n",
            "13/13 - 0s - loss: 290.2845\n",
            "Epoch 13/100\n",
            "13/13 - 0s - loss: 281.7734\n",
            "Epoch 14/100\n",
            "13/13 - 0s - loss: 267.6147\n",
            "Epoch 15/100\n",
            "13/13 - 0s - loss: 255.6712\n",
            "Epoch 16/100\n",
            "13/13 - 0s - loss: 245.0956\n",
            "Epoch 17/100\n",
            "13/13 - 0s - loss: 238.7114\n",
            "Epoch 18/100\n",
            "13/13 - 0s - loss: 228.2198\n",
            "Epoch 19/100\n",
            "13/13 - 0s - loss: 215.6643\n",
            "Epoch 20/100\n",
            "13/13 - 0s - loss: 206.8975\n",
            "Epoch 21/100\n",
            "13/13 - 0s - loss: 198.3939\n",
            "Epoch 22/100\n",
            "13/13 - 0s - loss: 189.5826\n",
            "Epoch 23/100\n",
            "13/13 - 0s - loss: 184.5812\n",
            "Epoch 24/100\n",
            "13/13 - 0s - loss: 173.4126\n",
            "Epoch 25/100\n",
            "13/13 - 0s - loss: 169.0896\n",
            "Epoch 26/100\n",
            "13/13 - 0s - loss: 158.8616\n",
            "Epoch 27/100\n",
            "13/13 - 0s - loss: 147.4314\n",
            "Epoch 28/100\n",
            "13/13 - 0s - loss: 140.2026\n",
            "Epoch 29/100\n",
            "13/13 - 0s - loss: 133.2955\n",
            "Epoch 30/100\n",
            "13/13 - 0s - loss: 128.1834\n",
            "Epoch 31/100\n",
            "13/13 - 0s - loss: 120.1640\n",
            "Epoch 32/100\n",
            "13/13 - 0s - loss: 114.6829\n",
            "Epoch 33/100\n",
            "13/13 - 0s - loss: 109.8683\n",
            "Epoch 34/100\n",
            "13/13 - 0s - loss: 105.6856\n",
            "Epoch 35/100\n",
            "13/13 - 0s - loss: 100.0182\n",
            "Epoch 36/100\n",
            "13/13 - 0s - loss: 93.3371\n",
            "Epoch 37/100\n",
            "13/13 - 0s - loss: 91.3530\n",
            "Epoch 38/100\n",
            "13/13 - 0s - loss: 85.7752\n",
            "Epoch 39/100\n",
            "13/13 - 0s - loss: 82.4184\n",
            "Epoch 40/100\n",
            "13/13 - 0s - loss: 76.0113\n",
            "Epoch 41/100\n",
            "13/13 - 0s - loss: 73.7212\n",
            "Epoch 42/100\n",
            "13/13 - 0s - loss: 70.6216\n",
            "Epoch 43/100\n",
            "13/13 - 0s - loss: 67.4598\n",
            "Epoch 44/100\n",
            "13/13 - 0s - loss: 64.0807\n",
            "Epoch 45/100\n",
            "13/13 - 0s - loss: 62.0253\n",
            "Epoch 46/100\n",
            "13/13 - 0s - loss: 59.2131\n",
            "Epoch 47/100\n",
            "13/13 - 0s - loss: 56.5928\n",
            "Epoch 48/100\n",
            "13/13 - 0s - loss: 56.3038\n",
            "Epoch 49/100\n",
            "13/13 - 0s - loss: 52.7268\n",
            "Epoch 50/100\n",
            "13/13 - 0s - loss: 50.3988\n",
            "Epoch 51/100\n",
            "13/13 - 0s - loss: 49.0474\n",
            "Epoch 52/100\n",
            "13/13 - 0s - loss: 47.9957\n",
            "Epoch 53/100\n",
            "13/13 - 0s - loss: 47.7353\n",
            "Epoch 54/100\n",
            "13/13 - 0s - loss: 44.7161\n",
            "Epoch 55/100\n",
            "13/13 - 0s - loss: 44.8755\n",
            "Epoch 56/100\n",
            "13/13 - 0s - loss: 43.3957\n",
            "Epoch 57/100\n",
            "13/13 - 0s - loss: 42.0779\n",
            "Epoch 58/100\n",
            "13/13 - 0s - loss: 41.9396\n",
            "Epoch 59/100\n",
            "13/13 - 0s - loss: 40.3681\n",
            "Epoch 60/100\n",
            "13/13 - 0s - loss: 41.1852\n",
            "Epoch 61/100\n",
            "13/13 - 0s - loss: 39.7117\n",
            "Epoch 62/100\n",
            "13/13 - 0s - loss: 41.0216\n",
            "Epoch 63/100\n",
            "13/13 - 0s - loss: 36.1499\n",
            "Epoch 64/100\n",
            "13/13 - 0s - loss: 35.3468\n",
            "Epoch 65/100\n",
            "13/13 - 0s - loss: 35.1042\n",
            "Epoch 66/100\n",
            "13/13 - 0s - loss: 34.2546\n",
            "Epoch 67/100\n",
            "13/13 - 0s - loss: 33.6177\n",
            "Epoch 68/100\n",
            "13/13 - 0s - loss: 32.9660\n",
            "Epoch 69/100\n",
            "13/13 - 0s - loss: 32.6077\n",
            "Epoch 70/100\n",
            "13/13 - 0s - loss: 32.2787\n",
            "Epoch 71/100\n",
            "13/13 - 0s - loss: 31.4921\n",
            "Epoch 72/100\n",
            "13/13 - 0s - loss: 30.9388\n",
            "Epoch 73/100\n",
            "13/13 - 0s - loss: 30.7971\n",
            "Epoch 74/100\n",
            "13/13 - 0s - loss: 30.1166\n",
            "Epoch 75/100\n",
            "13/13 - 0s - loss: 30.3033\n",
            "Epoch 76/100\n",
            "13/13 - 0s - loss: 29.7823\n",
            "Epoch 77/100\n",
            "13/13 - 0s - loss: 29.0691\n",
            "Epoch 78/100\n",
            "13/13 - 0s - loss: 29.2846\n",
            "Epoch 79/100\n",
            "13/13 - 0s - loss: 28.1004\n",
            "Epoch 80/100\n",
            "13/13 - 0s - loss: 28.0843\n",
            "Epoch 81/100\n",
            "13/13 - 0s - loss: 27.5363\n",
            "Epoch 82/100\n",
            "13/13 - 0s - loss: 27.3842\n",
            "Epoch 83/100\n",
            "13/13 - 0s - loss: 26.8047\n",
            "Epoch 84/100\n",
            "13/13 - 0s - loss: 26.2902\n",
            "Epoch 85/100\n",
            "13/13 - 0s - loss: 26.4791\n",
            "Epoch 86/100\n",
            "13/13 - 0s - loss: 25.9914\n",
            "Epoch 87/100\n",
            "13/13 - 0s - loss: 26.4426\n",
            "Epoch 88/100\n",
            "13/13 - 0s - loss: 25.3650\n",
            "Epoch 89/100\n",
            "13/13 - 0s - loss: 24.7668\n",
            "Epoch 90/100\n",
            "13/13 - 0s - loss: 25.0466\n",
            "Epoch 91/100\n",
            "13/13 - 0s - loss: 23.9254\n",
            "Epoch 92/100\n",
            "13/13 - 0s - loss: 24.7530\n",
            "Epoch 93/100\n",
            "13/13 - 0s - loss: 24.3067\n",
            "Epoch 94/100\n",
            "13/13 - 0s - loss: 25.2663\n",
            "Epoch 95/100\n",
            "13/13 - 0s - loss: 24.8965\n",
            "Epoch 96/100\n",
            "13/13 - 0s - loss: 24.3817\n",
            "Epoch 97/100\n",
            "13/13 - 0s - loss: 22.7545\n",
            "Epoch 98/100\n",
            "13/13 - 0s - loss: 23.2711\n",
            "Epoch 99/100\n",
            "13/13 - 0s - loss: 22.9325\n",
            "Epoch 100/100\n",
            "13/13 - 0s - loss: 22.9305\n"
          ],
          "name": "stdout"
        },
        {
          "output_type": "execute_result",
          "data": {
            "text/plain": [
              "<tensorflow.python.keras.callbacks.History at 0x7efe002f9fd0>"
            ]
          },
          "metadata": {
            "tags": []
          },
          "execution_count": 8
        }
      ]
    },
    {
      "cell_type": "code",
      "metadata": {
        "id": "vIVwpWXzHYB6",
        "outputId": "f3be6f5b-8a79-4b51-dd6f-f94a9c3d7a27",
        "colab": {
          "base_uri": "https://localhost:8080/"
        }
      },
      "source": [
        "pred = model.predict(x)\n",
        "print(f\"Shape: {pred.shape}\")\n",
        "print(pred[0:10])"
      ],
      "execution_count": 9,
      "outputs": [
        {
          "output_type": "stream",
          "text": [
            "Shape: (398, 1)\n",
            "[[14.227755]\n",
            " [13.352877]\n",
            " [13.366304]\n",
            " [14.042093]\n",
            " [13.76317 ]\n",
            " [12.621584]\n",
            " [11.604197]\n",
            " [11.754587]\n",
            " [12.065157]\n",
            " [11.800211]]\n"
          ],
          "name": "stdout"
        }
      ]
    },
    {
      "cell_type": "code",
      "metadata": {
        "id": "N-R-5iDTHYKP",
        "outputId": "1a92bc50-1d1e-4015-b661-476f76d985bd",
        "colab": {
          "base_uri": "https://localhost:8080/"
        }
      },
      "source": [
        "# Measure RMSE error.  RMSE is common for regression.\n",
        "score = np.sqrt(metrics.mean_squared_error(pred,y))\n",
        "print(f\"Final score (RMSE): {score}\")"
      ],
      "execution_count": 10,
      "outputs": [
        {
          "output_type": "stream",
          "text": [
            "Final score (RMSE): 4.71485252486946\n"
          ],
          "name": "stdout"
        }
      ]
    },
    {
      "cell_type": "code",
      "metadata": {
        "id": "vCVWBwF1HZNf",
        "outputId": "db5f0d53-2886-42f2-f583-e8ff15c7ecdf",
        "colab": {
          "base_uri": "https://localhost:8080/"
        }
      },
      "source": [
        "# Sample predictions\n",
        "for i in range(10):\n",
        "    print(f\"{i+1}. Car name: {cars[i]}, MPG: {y[i]}, \" \n",
        "          + \"predicted MPG: {pred[i]}\")"
      ],
      "execution_count": 11,
      "outputs": [
        {
          "output_type": "stream",
          "text": [
            "1. Car name: chevrolet chevelle malibu, MPG: 18.0, predicted MPG: {pred[i]}\n",
            "2. Car name: buick skylark 320, MPG: 15.0, predicted MPG: {pred[i]}\n",
            "3. Car name: plymouth satellite, MPG: 18.0, predicted MPG: {pred[i]}\n",
            "4. Car name: amc rebel sst, MPG: 16.0, predicted MPG: {pred[i]}\n",
            "5. Car name: ford torino, MPG: 17.0, predicted MPG: {pred[i]}\n",
            "6. Car name: ford galaxie 500, MPG: 15.0, predicted MPG: {pred[i]}\n",
            "7. Car name: chevrolet impala, MPG: 14.0, predicted MPG: {pred[i]}\n",
            "8. Car name: plymouth fury iii, MPG: 14.0, predicted MPG: {pred[i]}\n",
            "9. Car name: pontiac catalina, MPG: 14.0, predicted MPG: {pred[i]}\n",
            "10. Car name: amc ambassador dpl, MPG: 15.0, predicted MPG: {pred[i]}\n"
          ],
          "name": "stdout"
        }
      ]
    },
    {
      "cell_type": "code",
      "metadata": {
        "id": "5lPYf566HZWF",
        "outputId": "f8309755-b731-4ee9-c9c6-ea9ac5d8bfbd",
        "colab": {
          "base_uri": "https://localhost:8080/"
        }
      },
      "source": [
        "import pandas as pd\n",
        "import io\n",
        "import requests\n",
        "import numpy as np\n",
        "from sklearn import metrics\n",
        "from tensorflow.keras.models import Sequential\n",
        "from tensorflow.keras.layers import Dense, Activation\n",
        "from tensorflow.keras.callbacks import EarlyStopping\n",
        "\n",
        "df = pd.read_csv(\n",
        "    \"https://data.heatonresearch.com/data/t81-558/iris.csv\", \n",
        "    na_values=['NA', '?'])\n",
        "\n",
        "# Convert to numpy - Classification\n",
        "x = df[['sepal_l', 'sepal_w', 'petal_l', 'petal_w']].values\n",
        "dummies = pd.get_dummies(df['species']) # Classification\n",
        "species = dummies.columns\n",
        "y = dummies.values\n",
        "\n",
        "\n",
        "# Build neural network\n",
        "model = Sequential()\n",
        "model.add(Dense(50, input_dim=x.shape[1], activation='relu')) # Hidden 1\n",
        "model.add(Dense(25, activation='relu')) # Hidden 2\n",
        "model.add(Dense(y.shape[1],activation='softmax')) # Output\n",
        "\n",
        "model.compile(loss='categorical_crossentropy', optimizer='adam')\n",
        "model.fit(x,y,verbose=2,epochs=100)"
      ],
      "execution_count": 12,
      "outputs": [
        {
          "output_type": "stream",
          "text": [
            "Epoch 1/100\n",
            "5/5 - 0s - loss: 1.2044\n",
            "Epoch 2/100\n",
            "5/5 - 0s - loss: 1.0163\n",
            "Epoch 3/100\n",
            "5/5 - 0s - loss: 0.9398\n",
            "Epoch 4/100\n",
            "5/5 - 0s - loss: 0.9153\n",
            "Epoch 5/100\n",
            "5/5 - 0s - loss: 0.8853\n",
            "Epoch 6/100\n",
            "5/5 - 0s - loss: 0.8544\n",
            "Epoch 7/100\n",
            "5/5 - 0s - loss: 0.8274\n",
            "Epoch 8/100\n",
            "5/5 - 0s - loss: 0.8119\n",
            "Epoch 9/100\n",
            "5/5 - 0s - loss: 0.7936\n",
            "Epoch 10/100\n",
            "5/5 - 0s - loss: 0.7705\n",
            "Epoch 11/100\n",
            "5/5 - 0s - loss: 0.7500\n",
            "Epoch 12/100\n",
            "5/5 - 0s - loss: 0.7247\n",
            "Epoch 13/100\n",
            "5/5 - 0s - loss: 0.7005\n",
            "Epoch 14/100\n",
            "5/5 - 0s - loss: 0.6765\n",
            "Epoch 15/100\n",
            "5/5 - 0s - loss: 0.6503\n",
            "Epoch 16/100\n",
            "5/5 - 0s - loss: 0.6312\n",
            "Epoch 17/100\n",
            "5/5 - 0s - loss: 0.6034\n",
            "Epoch 18/100\n",
            "5/5 - 0s - loss: 0.5799\n",
            "Epoch 19/100\n",
            "5/5 - 0s - loss: 0.5612\n",
            "Epoch 20/100\n",
            "5/5 - 0s - loss: 0.5416\n",
            "Epoch 21/100\n",
            "5/5 - 0s - loss: 0.5222\n",
            "Epoch 22/100\n",
            "5/5 - 0s - loss: 0.5048\n",
            "Epoch 23/100\n",
            "5/5 - 0s - loss: 0.4886\n",
            "Epoch 24/100\n",
            "5/5 - 0s - loss: 0.4717\n",
            "Epoch 25/100\n",
            "5/5 - 0s - loss: 0.4600\n",
            "Epoch 26/100\n",
            "5/5 - 0s - loss: 0.4461\n",
            "Epoch 27/100\n",
            "5/5 - 0s - loss: 0.4323\n",
            "Epoch 28/100\n",
            "5/5 - 0s - loss: 0.4218\n",
            "Epoch 29/100\n",
            "5/5 - 0s - loss: 0.4096\n",
            "Epoch 30/100\n",
            "5/5 - 0s - loss: 0.3990\n",
            "Epoch 31/100\n",
            "5/5 - 0s - loss: 0.3883\n",
            "Epoch 32/100\n",
            "5/5 - 0s - loss: 0.3787\n",
            "Epoch 33/100\n",
            "5/5 - 0s - loss: 0.3684\n",
            "Epoch 34/100\n",
            "5/5 - 0s - loss: 0.3594\n",
            "Epoch 35/100\n",
            "5/5 - 0s - loss: 0.3510\n",
            "Epoch 36/100\n",
            "5/5 - 0s - loss: 0.3413\n",
            "Epoch 37/100\n",
            "5/5 - 0s - loss: 0.3341\n",
            "Epoch 38/100\n",
            "5/5 - 0s - loss: 0.3243\n",
            "Epoch 39/100\n",
            "5/5 - 0s - loss: 0.3164\n",
            "Epoch 40/100\n",
            "5/5 - 0s - loss: 0.3128\n",
            "Epoch 41/100\n",
            "5/5 - 0s - loss: 0.3011\n",
            "Epoch 42/100\n",
            "5/5 - 0s - loss: 0.2978\n",
            "Epoch 43/100\n",
            "5/5 - 0s - loss: 0.2863\n",
            "Epoch 44/100\n",
            "5/5 - 0s - loss: 0.2832\n",
            "Epoch 45/100\n",
            "5/5 - 0s - loss: 0.2735\n",
            "Epoch 46/100\n",
            "5/5 - 0s - loss: 0.2705\n",
            "Epoch 47/100\n",
            "5/5 - 0s - loss: 0.2627\n",
            "Epoch 48/100\n",
            "5/5 - 0s - loss: 0.2563\n",
            "Epoch 49/100\n",
            "5/5 - 0s - loss: 0.2499\n",
            "Epoch 50/100\n",
            "5/5 - 0s - loss: 0.2448\n",
            "Epoch 51/100\n",
            "5/5 - 0s - loss: 0.2381\n",
            "Epoch 52/100\n",
            "5/5 - 0s - loss: 0.2348\n",
            "Epoch 53/100\n",
            "5/5 - 0s - loss: 0.2301\n",
            "Epoch 54/100\n",
            "5/5 - 0s - loss: 0.2236\n",
            "Epoch 55/100\n",
            "5/5 - 0s - loss: 0.2187\n",
            "Epoch 56/100\n",
            "5/5 - 0s - loss: 0.2144\n",
            "Epoch 57/100\n",
            "5/5 - 0s - loss: 0.2082\n",
            "Epoch 58/100\n",
            "5/5 - 0s - loss: 0.2033\n",
            "Epoch 59/100\n",
            "5/5 - 0s - loss: 0.1978\n",
            "Epoch 60/100\n",
            "5/5 - 0s - loss: 0.1949\n",
            "Epoch 61/100\n",
            "5/5 - 0s - loss: 0.1858\n",
            "Epoch 62/100\n",
            "5/5 - 0s - loss: 0.1832\n",
            "Epoch 63/100\n",
            "5/5 - 0s - loss: 0.1779\n",
            "Epoch 64/100\n",
            "5/5 - 0s - loss: 0.1736\n",
            "Epoch 65/100\n",
            "5/5 - 0s - loss: 0.1689\n",
            "Epoch 66/100\n",
            "5/5 - 0s - loss: 0.1657\n",
            "Epoch 67/100\n",
            "5/5 - 0s - loss: 0.1655\n",
            "Epoch 68/100\n",
            "5/5 - 0s - loss: 0.1607\n",
            "Epoch 69/100\n",
            "5/5 - 0s - loss: 0.1587\n",
            "Epoch 70/100\n",
            "5/5 - 0s - loss: 0.1523\n",
            "Epoch 71/100\n",
            "5/5 - 0s - loss: 0.1498\n",
            "Epoch 72/100\n",
            "5/5 - 0s - loss: 0.1473\n",
            "Epoch 73/100\n",
            "5/5 - 0s - loss: 0.1452\n",
            "Epoch 74/100\n",
            "5/5 - 0s - loss: 0.1455\n",
            "Epoch 75/100\n",
            "5/5 - 0s - loss: 0.1390\n",
            "Epoch 76/100\n",
            "5/5 - 0s - loss: 0.1415\n",
            "Epoch 77/100\n",
            "5/5 - 0s - loss: 0.1332\n",
            "Epoch 78/100\n",
            "5/5 - 0s - loss: 0.1379\n",
            "Epoch 79/100\n",
            "5/5 - 0s - loss: 0.1297\n",
            "Epoch 80/100\n",
            "5/5 - 0s - loss: 0.1287\n",
            "Epoch 81/100\n",
            "5/5 - 0s - loss: 0.1269\n",
            "Epoch 82/100\n",
            "5/5 - 0s - loss: 0.1243\n",
            "Epoch 83/100\n",
            "5/5 - 0s - loss: 0.1234\n",
            "Epoch 84/100\n",
            "5/5 - 0s - loss: 0.1204\n",
            "Epoch 85/100\n",
            "5/5 - 0s - loss: 0.1196\n",
            "Epoch 86/100\n",
            "5/5 - 0s - loss: 0.1177\n",
            "Epoch 87/100\n",
            "5/5 - 0s - loss: 0.1153\n",
            "Epoch 88/100\n",
            "5/5 - 0s - loss: 0.1154\n",
            "Epoch 89/100\n",
            "5/5 - 0s - loss: 0.1138\n",
            "Epoch 90/100\n",
            "5/5 - 0s - loss: 0.1118\n",
            "Epoch 91/100\n",
            "5/5 - 0s - loss: 0.1101\n",
            "Epoch 92/100\n",
            "5/5 - 0s - loss: 0.1094\n",
            "Epoch 93/100\n",
            "5/5 - 0s - loss: 0.1087\n",
            "Epoch 94/100\n",
            "5/5 - 0s - loss: 0.1057\n",
            "Epoch 95/100\n",
            "5/5 - 0s - loss: 0.1066\n",
            "Epoch 96/100\n",
            "5/5 - 0s - loss: 0.1035\n",
            "Epoch 97/100\n",
            "5/5 - 0s - loss: 0.1027\n",
            "Epoch 98/100\n",
            "5/5 - 0s - loss: 0.1037\n",
            "Epoch 99/100\n",
            "5/5 - 0s - loss: 0.1016\n",
            "Epoch 100/100\n",
            "5/5 - 0s - loss: 0.1036\n"
          ],
          "name": "stdout"
        },
        {
          "output_type": "execute_result",
          "data": {
            "text/plain": [
              "<tensorflow.python.keras.callbacks.History at 0x7efe41398b00>"
            ]
          },
          "metadata": {
            "tags": []
          },
          "execution_count": 12
        }
      ]
    },
    {
      "cell_type": "code",
      "metadata": {
        "id": "Ph5ajku1HZlE",
        "outputId": "062dcacf-f288-4000-dbc6-b78fd7172e88",
        "colab": {
          "base_uri": "https://localhost:8080/"
        }
      },
      "source": [
        "# Print out number of species found:\n",
        "\n",
        "print(species)"
      ],
      "execution_count": 13,
      "outputs": [
        {
          "output_type": "stream",
          "text": [
            "Index(['Iris-setosa', 'Iris-versicolor', 'Iris-virginica'], dtype='object')\n"
          ],
          "name": "stdout"
        }
      ]
    },
    {
      "cell_type": "code",
      "metadata": {
        "id": "d8rpS-IWHZ8L",
        "outputId": "314b2d1c-6872-4b40-911c-2420731bafe3",
        "colab": {
          "base_uri": "https://localhost:8080/"
        }
      },
      "source": [
        "pred = model.predict(x)\n",
        "print(f\"Shape: {pred.shape}\")\n",
        "print(pred[0:10])"
      ],
      "execution_count": 14,
      "outputs": [
        {
          "output_type": "stream",
          "text": [
            "Shape: (150, 3)\n",
            "[[9.97697055e-01 2.15794984e-03 1.44956546e-04]\n",
            " [9.94137406e-01 5.50468592e-03 3.57910059e-04]\n",
            " [9.96191502e-01 3.52777750e-03 2.80687527e-04]\n",
            " [9.93117690e-01 6.42941520e-03 4.52894397e-04]\n",
            " [9.97973382e-01 1.89066969e-03 1.36019531e-04]\n",
            " [9.97510195e-01 2.37838831e-03 1.11383706e-04]\n",
            " [9.95967269e-01 3.74595844e-03 2.86734197e-04]\n",
            " [9.96544778e-01 3.24807805e-03 2.07129444e-04]\n",
            " [9.91251111e-01 8.11220054e-03 6.36695651e-04]\n",
            " [9.94891763e-01 4.79313312e-03 3.15106096e-04]]\n"
          ],
          "name": "stdout"
        }
      ]
    },
    {
      "cell_type": "code",
      "metadata": {
        "id": "-JgCIZMdHae6"
      },
      "source": [
        "np.set_printoptions(suppress=True)"
      ],
      "execution_count": 16,
      "outputs": []
    },
    {
      "cell_type": "code",
      "metadata": {
        "id": "Q5W0osVNHanz",
        "outputId": "b6a126e2-b9dc-48d9-9ac6-ac60762128a3",
        "colab": {
          "base_uri": "https://localhost:8080/"
        }
      },
      "source": [
        "print(y[0:10])"
      ],
      "execution_count": 17,
      "outputs": [
        {
          "output_type": "stream",
          "text": [
            "[[1 0 0]\n",
            " [1 0 0]\n",
            " [1 0 0]\n",
            " [1 0 0]\n",
            " [1 0 0]\n",
            " [1 0 0]\n",
            " [1 0 0]\n",
            " [1 0 0]\n",
            " [1 0 0]\n",
            " [1 0 0]]\n"
          ],
          "name": "stdout"
        }
      ]
    },
    {
      "cell_type": "code",
      "metadata": {
        "id": "hk74QdbTHa7u",
        "outputId": "9313053c-4c0f-4111-ed50-6c372e9ecd67",
        "colab": {
          "base_uri": "https://localhost:8080/"
        }
      },
      "source": [
        "predict_classes = np.argmax(pred,axis=1)\n",
        "expected_classes = np.argmax(y,axis=1)\n",
        "print(f\"Predictions: {predict_classes}\")\n",
        "print(f\"Expected: {expected_classes}\")"
      ],
      "execution_count": 18,
      "outputs": [
        {
          "output_type": "stream",
          "text": [
            "Predictions: [0 0 0 0 0 0 0 0 0 0 0 0 0 0 0 0 0 0 0 0 0 0 0 0 0 0 0 0 0 0 0 0 0 0 0 0 0\n",
            " 0 0 0 0 0 0 0 0 0 0 0 0 0 1 1 1 1 1 1 1 1 1 1 1 1 1 1 1 1 1 1 2 1 1 1 2 1\n",
            " 1 1 1 1 1 1 1 1 1 2 1 1 1 1 1 1 1 1 1 1 1 1 1 1 1 1 2 2 2 2 2 2 2 2 2 2 2\n",
            " 2 2 2 2 2 2 2 2 2 2 2 2 2 2 2 2 2 2 2 2 2 2 2 2 2 2 2 2 2 2 2 2 2 2 2 2 2\n",
            " 2 2]\n",
            "Expected: [0 0 0 0 0 0 0 0 0 0 0 0 0 0 0 0 0 0 0 0 0 0 0 0 0 0 0 0 0 0 0 0 0 0 0 0 0\n",
            " 0 0 0 0 0 0 0 0 0 0 0 0 0 1 1 1 1 1 1 1 1 1 1 1 1 1 1 1 1 1 1 1 1 1 1 1 1\n",
            " 1 1 1 1 1 1 1 1 1 1 1 1 1 1 1 1 1 1 1 1 1 1 1 1 1 1 2 2 2 2 2 2 2 2 2 2 2\n",
            " 2 2 2 2 2 2 2 2 2 2 2 2 2 2 2 2 2 2 2 2 2 2 2 2 2 2 2 2 2 2 2 2 2 2 2 2 2\n",
            " 2 2]\n"
          ],
          "name": "stdout"
        }
      ]
    },
    {
      "cell_type": "code",
      "metadata": {
        "id": "oyUQ6nJmHrAd",
        "outputId": "323535be-8ace-43a8-94d6-3fbb1ecc38d4",
        "colab": {
          "base_uri": "https://localhost:8080/"
        }
      },
      "source": [
        "print(species[predict_classes[1:10]])"
      ],
      "execution_count": 19,
      "outputs": [
        {
          "output_type": "stream",
          "text": [
            "Index(['Iris-setosa', 'Iris-setosa', 'Iris-setosa', 'Iris-setosa',\n",
            "       'Iris-setosa', 'Iris-setosa', 'Iris-setosa', 'Iris-setosa',\n",
            "       'Iris-setosa'],\n",
            "      dtype='object')\n"
          ],
          "name": "stdout"
        }
      ]
    },
    {
      "cell_type": "code",
      "metadata": {
        "id": "IebvkQydHq9W",
        "outputId": "c5613bc3-b017-4cbf-b5c7-a8b8ad581754",
        "colab": {
          "base_uri": "https://localhost:8080/"
        }
      },
      "source": [
        "from sklearn.metrics import accuracy_score\n",
        "\n",
        "correct = accuracy_score(expected_classes,predict_classes)\n",
        "print(f\"Accuracy: {correct}\")"
      ],
      "execution_count": 20,
      "outputs": [
        {
          "output_type": "stream",
          "text": [
            "Accuracy: 0.98\n"
          ],
          "name": "stdout"
        }
      ]
    },
    {
      "cell_type": "code",
      "metadata": {
        "id": "pbvdUrndHq6u",
        "outputId": "25347fec-f42c-4100-dace-0acb38250867",
        "colab": {
          "base_uri": "https://localhost:8080/"
        }
      },
      "source": [
        "sample_flower = np.array( [[5.0,3.0,4.0,2.0]], dtype=float)\n",
        "pred = model.predict(sample_flower)\n",
        "print(pred)\n",
        "pred = np.argmax(pred)\n",
        "print(f\"Predict that {sample_flower} is: {species[pred]}\")"
      ],
      "execution_count": 21,
      "outputs": [
        {
          "output_type": "stream",
          "text": [
            "[[0.00188068 0.5159181  0.48220128]]\n",
            "Predict that [[5. 3. 4. 2.]] is: Iris-versicolor\n"
          ],
          "name": "stdout"
        }
      ]
    },
    {
      "cell_type": "code",
      "metadata": {
        "id": "qE42oCcxHq4F",
        "outputId": "f354f14a-a582-421c-e494-be2b1aed08ff",
        "colab": {
          "base_uri": "https://localhost:8080/"
        }
      },
      "source": [
        "sample_flower = np.array( [[5.0,3.0,4.0,2.0],[5.2,3.5,1.5,0.8]],\\\n",
        "        dtype=float)\n",
        "pred = model.predict(sample_flower)\n",
        "print(pred)\n",
        "pred = np.argmax(pred,axis=1)\n",
        "print(f\"Predict that these two flowers {sample_flower} \")\n",
        "print(f\"are: {species[pred]}\")"
      ],
      "execution_count": 22,
      "outputs": [
        {
          "output_type": "stream",
          "text": [
            "[[0.00188067 0.51591814 0.4822012 ]\n",
            " [0.9928797  0.00682994 0.0002904 ]]\n",
            "Predict that these two flowers [[5.  3.  4.  2. ]\n",
            " [5.2 3.5 1.5 0.8]] \n",
            "are: Index(['Iris-versicolor', 'Iris-setosa'], dtype='object')\n"
          ],
          "name": "stdout"
        }
      ]
    },
    {
      "cell_type": "code",
      "metadata": {
        "id": "vPkZbqdeHq1d"
      },
      "source": [
        ""
      ],
      "execution_count": null,
      "outputs": []
    },
    {
      "cell_type": "code",
      "metadata": {
        "id": "s-oOOiGDHqy9"
      },
      "source": [
        ""
      ],
      "execution_count": null,
      "outputs": []
    },
    {
      "cell_type": "code",
      "metadata": {
        "id": "olpShYblHqwU"
      },
      "source": [
        ""
      ],
      "execution_count": null,
      "outputs": []
    },
    {
      "cell_type": "code",
      "metadata": {
        "id": "xqhJKzr5HquC"
      },
      "source": [
        ""
      ],
      "execution_count": null,
      "outputs": []
    },
    {
      "cell_type": "code",
      "metadata": {
        "id": "5XNkqJJqHqri"
      },
      "source": [
        ""
      ],
      "execution_count": null,
      "outputs": []
    },
    {
      "cell_type": "code",
      "metadata": {
        "id": "nidB-lHoHqor"
      },
      "source": [
        ""
      ],
      "execution_count": null,
      "outputs": []
    },
    {
      "cell_type": "code",
      "metadata": {
        "id": "zHXuAnx7Hqlq"
      },
      "source": [
        ""
      ],
      "execution_count": null,
      "outputs": []
    },
    {
      "cell_type": "code",
      "metadata": {
        "id": "mOgzVIeeHqi-"
      },
      "source": [
        ""
      ],
      "execution_count": null,
      "outputs": []
    },
    {
      "cell_type": "code",
      "metadata": {
        "id": "EyWvwc3XHqgD"
      },
      "source": [
        ""
      ],
      "execution_count": null,
      "outputs": []
    },
    {
      "cell_type": "code",
      "metadata": {
        "id": "bXhp_yWUHqde"
      },
      "source": [
        ""
      ],
      "execution_count": null,
      "outputs": []
    },
    {
      "cell_type": "code",
      "metadata": {
        "id": "g9F05B6uHqab"
      },
      "source": [
        ""
      ],
      "execution_count": null,
      "outputs": []
    },
    {
      "cell_type": "code",
      "metadata": {
        "id": "Pgi9HFh8HqWs"
      },
      "source": [
        ""
      ],
      "execution_count": null,
      "outputs": []
    },
    {
      "cell_type": "markdown",
      "metadata": {
        "id": "4axh4XnRHKyL"
      },
      "source": [
        ""
      ]
    },
    {
      "cell_type": "code",
      "metadata": {
        "id": "n0FnMznlIAN9"
      },
      "source": [
        ""
      ],
      "execution_count": null,
      "outputs": []
    }
  ]
}