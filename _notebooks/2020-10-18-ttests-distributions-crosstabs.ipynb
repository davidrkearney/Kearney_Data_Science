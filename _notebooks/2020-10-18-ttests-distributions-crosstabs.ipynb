{
 "cells": [
  {
   "cell_type": "markdown",
   "metadata": {},
   "source": [
    "# Evaluating Distributions and generating experimental Crosstabs for the evaluation of Experiments"
   ]
  },
  {
   "cell_type": "code",
   "execution_count": 3,
   "metadata": {},
   "outputs": [],
   "source": [
    "import numpy as np\n",
    "import dask.array as da\n",
    "import pandas as pd\n",
    "import sqlalchemy as db\n",
    "from sqlalchemy import create_engine\n",
    "import sqlite3\n",
    "import pandas as pd\n",
    "\n",
    "import seaborn as sns"
   ]
  },
  {
   "cell_type": "code",
   "execution_count": 11,
   "metadata": {},
   "outputs": [],
   "source": [
    "df = pd.read_csv('df_panel_fix.csv')"
   ]
  },
  {
   "cell_type": "code",
   "execution_count": 12,
   "metadata": {},
   "outputs": [],
   "source": [
    "df_subset = df[[\"year\", \"reg\", \"province\", \"gdp\", \"fdi\", 'it',\"specific\"]]\n",
    "df_subset.columns = [\"year\", \"region\", \"province\", \"gdp\", \"fdi\", 'it',\"specific\"]"
   ]
  },
  {
   "cell_type": "code",
   "execution_count": 13,
   "metadata": {},
   "outputs": [
    {
     "data": {
      "text/html": [
       "<div>\n",
       "<style scoped>\n",
       "    .dataframe tbody tr th:only-of-type {\n",
       "        vertical-align: middle;\n",
       "    }\n",
       "\n",
       "    .dataframe tbody tr th {\n",
       "        vertical-align: top;\n",
       "    }\n",
       "\n",
       "    .dataframe thead th {\n",
       "        text-align: right;\n",
       "    }\n",
       "</style>\n",
       "<table border=\"1\" class=\"dataframe\">\n",
       "  <thead>\n",
       "    <tr style=\"text-align: right;\">\n",
       "      <th></th>\n",
       "      <th>year</th>\n",
       "      <th>region</th>\n",
       "      <th>province</th>\n",
       "      <th>gdp</th>\n",
       "      <th>fdi</th>\n",
       "      <th>it</th>\n",
       "      <th>specific</th>\n",
       "    </tr>\n",
       "  </thead>\n",
       "  <tbody>\n",
       "    <tr>\n",
       "      <th>0</th>\n",
       "      <td>1996</td>\n",
       "      <td>East China</td>\n",
       "      <td>Anhui</td>\n",
       "      <td>2093.30</td>\n",
       "      <td>50661</td>\n",
       "      <td>631930</td>\n",
       "      <td>147002.0</td>\n",
       "    </tr>\n",
       "    <tr>\n",
       "      <th>1</th>\n",
       "      <td>1997</td>\n",
       "      <td>East China</td>\n",
       "      <td>Anhui</td>\n",
       "      <td>2347.32</td>\n",
       "      <td>43443</td>\n",
       "      <td>657860</td>\n",
       "      <td>151981.0</td>\n",
       "    </tr>\n",
       "    <tr>\n",
       "      <th>2</th>\n",
       "      <td>1998</td>\n",
       "      <td>East China</td>\n",
       "      <td>Anhui</td>\n",
       "      <td>2542.96</td>\n",
       "      <td>27673</td>\n",
       "      <td>889463</td>\n",
       "      <td>174930.0</td>\n",
       "    </tr>\n",
       "    <tr>\n",
       "      <th>3</th>\n",
       "      <td>1999</td>\n",
       "      <td>East China</td>\n",
       "      <td>Anhui</td>\n",
       "      <td>2712.34</td>\n",
       "      <td>26131</td>\n",
       "      <td>1227364</td>\n",
       "      <td>285324.0</td>\n",
       "    </tr>\n",
       "    <tr>\n",
       "      <th>4</th>\n",
       "      <td>2000</td>\n",
       "      <td>East China</td>\n",
       "      <td>Anhui</td>\n",
       "      <td>2902.09</td>\n",
       "      <td>31847</td>\n",
       "      <td>1499110</td>\n",
       "      <td>195580.0</td>\n",
       "    </tr>\n",
       "    <tr>\n",
       "      <th>...</th>\n",
       "      <td>...</td>\n",
       "      <td>...</td>\n",
       "      <td>...</td>\n",
       "      <td>...</td>\n",
       "      <td>...</td>\n",
       "      <td>...</td>\n",
       "      <td>...</td>\n",
       "    </tr>\n",
       "    <tr>\n",
       "      <th>355</th>\n",
       "      <td>2003</td>\n",
       "      <td>East China</td>\n",
       "      <td>Zhejiang</td>\n",
       "      <td>9705.02</td>\n",
       "      <td>498055</td>\n",
       "      <td>2261631</td>\n",
       "      <td>391292.0</td>\n",
       "    </tr>\n",
       "    <tr>\n",
       "      <th>356</th>\n",
       "      <td>2004</td>\n",
       "      <td>East China</td>\n",
       "      <td>Zhejiang</td>\n",
       "      <td>11648.70</td>\n",
       "      <td>668128</td>\n",
       "      <td>3162299</td>\n",
       "      <td>656175.0</td>\n",
       "    </tr>\n",
       "    <tr>\n",
       "      <th>357</th>\n",
       "      <td>2005</td>\n",
       "      <td>East China</td>\n",
       "      <td>Zhejiang</td>\n",
       "      <td>13417.68</td>\n",
       "      <td>772000</td>\n",
       "      <td>2370200</td>\n",
       "      <td>656175.0</td>\n",
       "    </tr>\n",
       "    <tr>\n",
       "      <th>358</th>\n",
       "      <td>2006</td>\n",
       "      <td>East China</td>\n",
       "      <td>Zhejiang</td>\n",
       "      <td>15718.47</td>\n",
       "      <td>888935</td>\n",
       "      <td>2553268</td>\n",
       "      <td>1017303.0</td>\n",
       "    </tr>\n",
       "    <tr>\n",
       "      <th>359</th>\n",
       "      <td>2007</td>\n",
       "      <td>East China</td>\n",
       "      <td>Zhejiang</td>\n",
       "      <td>18753.73</td>\n",
       "      <td>1036576</td>\n",
       "      <td>2939778</td>\n",
       "      <td>844647.0</td>\n",
       "    </tr>\n",
       "  </tbody>\n",
       "</table>\n",
       "<p>360 rows × 7 columns</p>\n",
       "</div>"
      ],
      "text/plain": [
       "     year      region  province       gdp      fdi       it   specific\n",
       "0    1996  East China     Anhui   2093.30    50661   631930   147002.0\n",
       "1    1997  East China     Anhui   2347.32    43443   657860   151981.0\n",
       "2    1998  East China     Anhui   2542.96    27673   889463   174930.0\n",
       "3    1999  East China     Anhui   2712.34    26131  1227364   285324.0\n",
       "4    2000  East China     Anhui   2902.09    31847  1499110   195580.0\n",
       "..    ...         ...       ...       ...      ...      ...        ...\n",
       "355  2003  East China  Zhejiang   9705.02   498055  2261631   391292.0\n",
       "356  2004  East China  Zhejiang  11648.70   668128  3162299   656175.0\n",
       "357  2005  East China  Zhejiang  13417.68   772000  2370200   656175.0\n",
       "358  2006  East China  Zhejiang  15718.47   888935  2553268  1017303.0\n",
       "359  2007  East China  Zhejiang  18753.73  1036576  2939778   844647.0\n",
       "\n",
       "[360 rows x 7 columns]"
      ]
     },
     "execution_count": 13,
     "metadata": {},
     "output_type": "execute_result"
    }
   ],
   "source": [
    "df=df_subset\n",
    "df"
   ]
  },
  {
   "cell_type": "markdown",
   "metadata": {},
   "source": [
    "## Distributions of Dependant Variables"
   ]
  },
  {
   "cell_type": "markdown",
   "metadata": {},
   "source": [
    "### Right skew"
   ]
  },
  {
   "cell_type": "code",
   "execution_count": 14,
   "metadata": {},
   "outputs": [
    {
     "data": {
      "text/plain": [
       "<matplotlib.axes._subplots.AxesSubplot at 0x7f1043c20588>"
      ]
     },
     "execution_count": 14,
     "metadata": {},
     "output_type": "execute_result"
    },
    {
     "data": {
      "image/png": "[encoded data removed]",
      "text/plain": [
       "<Figure size 432x288 with 1 Axes>"
      ]
     },
     "metadata": {
      "needs_background": "light"
     },
     "output_type": "display_data"
    }
   ],
   "source": [
    "sns.distplot(df['gdp'])"
   ]
  },
  {
   "cell_type": "code",
   "execution_count": 20,
   "metadata": {},
   "outputs": [
    {
     "data": {
      "text/plain": [
       "<matplotlib.axes._subplots.AxesSubplot at 0x7f10437f74a8>"
      ]
     },
     "execution_count": 20,
     "metadata": {},
     "output_type": "execute_result"
    },
    {
     "data": {
      "image/png": "[encoded data removed]",
      "text/plain": [
       "<Figure size 432x288 with 1 Axes>"
      ]
     },
     "metadata": {
      "needs_background": "light"
     },
     "output_type": "display_data"
    }
   ],
   "source": [
    "sns.distplot(df['fdi'])"
   ]
  },
  {
   "cell_type": "code",
   "execution_count": 15,
   "metadata": {},
   "outputs": [
    {
     "data": {
      "text/plain": [
       "<matplotlib.axes._subplots.AxesSubplot at 0x7f1043a09ef0>"
      ]
     },
     "execution_count": 15,
     "metadata": {},
     "output_type": "execute_result"
    },
    {
     "data": {
      "image/png": "[encoded data removed]",
      "text/plain": [
       "<Figure size 432x288 with 1 Axes>"
      ]
     },
     "metadata": {
      "needs_background": "light"
     },
     "output_type": "display_data"
    }
   ],
   "source": [
    "sns.distplot(df['it'])"
   ]
  },
  {
   "cell_type": "code",
   "execution_count": 16,
   "metadata": {},
   "outputs": [
    {
     "data": {
      "text/plain": [
       "<matplotlib.axes._subplots.AxesSubplot at 0x7f10439b7a20>"
      ]
     },
     "execution_count": 16,
     "metadata": {},
     "output_type": "execute_result"
    },
    {
     "data": {
      "image/png": "[encoded data removed]",
      "text/plain": [
       "<Figure size 432x288 with 1 Axes>"
      ]
     },
     "metadata": {
      "needs_background": "light"
     },
     "output_type": "display_data"
    }
   ],
   "source": [
    "sns.distplot(df['specific'].dropna())"
   ]
  },
  {
   "cell_type": "code",
   "execution_count": 17,
   "metadata": {},
   "outputs": [
    {
     "data": {
      "text/plain": [
       "array([[<matplotlib.axes._subplots.AxesSubplot object at 0x7f10439a19e8>]],\n",
       "      dtype=object)"
      ]
     },
     "execution_count": 17,
     "metadata": {},
     "output_type": "execute_result"
    },
    {
     "data": {
      "image/png": "[encoded data removed]",
      "text/plain": [
       "<Figure size 432x288 with 1 Axes>"
      ]
     },
     "metadata": {
      "needs_background": "light"
     },
     "output_type": "display_data"
    }
   ],
   "source": [
    "df.hist(column=['fdi'], bins=60)"
   ]
  },
  {
   "cell_type": "markdown",
   "metadata": {},
   "source": [
    "## Removal of GDP value outliers more than 3 standard deviations away from the mean"
   ]
  },
  {
   "cell_type": "markdown",
   "metadata": {},
   "source": [
    "## outlier removal of rows with GDP values that are > 3 standard deviations away form the mean"
   ]
  },
  {
   "cell_type": "code",
   "execution_count": 23,
   "metadata": {},
   "outputs": [],
   "source": [
    "import scipy.stats as stats"
   ]
  },
  {
   "cell_type": "code",
   "execution_count": 25,
   "metadata": {},
   "outputs": [],
   "source": [
    "df['gdp_zscore'] = stats.zscore(df['gdp'])"
   ]
  },
  {
   "cell_type": "markdown",
   "metadata": {},
   "source": [
    "## these are the observations more then > 3 SDs away from the mean of gdp that will be dropped"
   ]
  },
  {
   "cell_type": "code",
   "execution_count": 26,
   "metadata": {},
   "outputs": [
    {
     "data": {
      "text/plain": [
       "array([[<matplotlib.axes._subplots.AxesSubplot object at 0x7f104364e0f0>]],\n",
       "      dtype=object)"
      ]
     },
     "execution_count": 26,
     "metadata": {},
     "output_type": "execute_result"
    },
    {
     "data": {
      "image/png": "[encoded data removed]",
      "text/plain": [
       "<Figure size 432x288 with 1 Axes>"
      ]
     },
     "metadata": {
      "needs_background": "light"
     },
     "output_type": "display_data"
    }
   ],
   "source": [
    "df[abs(df['gdp_zscore'])>3].hist(column = ['gdp'])"
   ]
  },
  {
   "cell_type": "code",
   "execution_count": 27,
   "metadata": {},
   "outputs": [],
   "source": [
    "df_no_gdp_outliers=df[abs(df['gdp_zscore'])<3]"
   ]
  },
  {
   "cell_type": "code",
   "execution_count": 28,
   "metadata": {},
   "outputs": [
    {
     "data": {
      "text/html": [
       "<div>\n",
       "<style scoped>\n",
       "    .dataframe tbody tr th:only-of-type {\n",
       "        vertical-align: middle;\n",
       "    }\n",
       "\n",
       "    .dataframe tbody tr th {\n",
       "        vertical-align: top;\n",
       "    }\n",
       "\n",
       "    .dataframe thead th {\n",
       "        text-align: right;\n",
       "    }\n",
       "</style>\n",
       "<table border=\"1\" class=\"dataframe\">\n",
       "  <thead>\n",
       "    <tr style=\"text-align: right;\">\n",
       "      <th></th>\n",
       "      <th>year</th>\n",
       "      <th>region</th>\n",
       "      <th>province</th>\n",
       "      <th>gdp</th>\n",
       "      <th>fdi</th>\n",
       "      <th>it</th>\n",
       "      <th>specific</th>\n",
       "      <th>gdp_zscore</th>\n",
       "    </tr>\n",
       "  </thead>\n",
       "  <tbody>\n",
       "    <tr>\n",
       "      <th>0</th>\n",
       "      <td>1996</td>\n",
       "      <td>East China</td>\n",
       "      <td>Anhui</td>\n",
       "      <td>2093.30</td>\n",
       "      <td>50661</td>\n",
       "      <td>631930</td>\n",
       "      <td>147002.0</td>\n",
       "      <td>-0.521466</td>\n",
       "    </tr>\n",
       "    <tr>\n",
       "      <th>1</th>\n",
       "      <td>1997</td>\n",
       "      <td>East China</td>\n",
       "      <td>Anhui</td>\n",
       "      <td>2347.32</td>\n",
       "      <td>43443</td>\n",
       "      <td>657860</td>\n",
       "      <td>151981.0</td>\n",
       "      <td>-0.464746</td>\n",
       "    </tr>\n",
       "    <tr>\n",
       "      <th>2</th>\n",
       "      <td>1998</td>\n",
       "      <td>East China</td>\n",
       "      <td>Anhui</td>\n",
       "      <td>2542.96</td>\n",
       "      <td>27673</td>\n",
       "      <td>889463</td>\n",
       "      <td>174930.0</td>\n",
       "      <td>-0.421061</td>\n",
       "    </tr>\n",
       "    <tr>\n",
       "      <th>3</th>\n",
       "      <td>1999</td>\n",
       "      <td>East China</td>\n",
       "      <td>Anhui</td>\n",
       "      <td>2712.34</td>\n",
       "      <td>26131</td>\n",
       "      <td>1227364</td>\n",
       "      <td>285324.0</td>\n",
       "      <td>-0.383239</td>\n",
       "    </tr>\n",
       "    <tr>\n",
       "      <th>4</th>\n",
       "      <td>2000</td>\n",
       "      <td>East China</td>\n",
       "      <td>Anhui</td>\n",
       "      <td>2902.09</td>\n",
       "      <td>31847</td>\n",
       "      <td>1499110</td>\n",
       "      <td>195580.0</td>\n",
       "      <td>-0.340870</td>\n",
       "    </tr>\n",
       "    <tr>\n",
       "      <th>...</th>\n",
       "      <td>...</td>\n",
       "      <td>...</td>\n",
       "      <td>...</td>\n",
       "      <td>...</td>\n",
       "      <td>...</td>\n",
       "      <td>...</td>\n",
       "      <td>...</td>\n",
       "      <td>...</td>\n",
       "    </tr>\n",
       "    <tr>\n",
       "      <th>354</th>\n",
       "      <td>2002</td>\n",
       "      <td>East China</td>\n",
       "      <td>Zhejiang</td>\n",
       "      <td>8003.67</td>\n",
       "      <td>307610</td>\n",
       "      <td>1962633</td>\n",
       "      <td>365437.0</td>\n",
       "      <td>0.798274</td>\n",
       "    </tr>\n",
       "    <tr>\n",
       "      <th>355</th>\n",
       "      <td>2003</td>\n",
       "      <td>East China</td>\n",
       "      <td>Zhejiang</td>\n",
       "      <td>9705.02</td>\n",
       "      <td>498055</td>\n",
       "      <td>2261631</td>\n",
       "      <td>391292.0</td>\n",
       "      <td>1.178172</td>\n",
       "    </tr>\n",
       "    <tr>\n",
       "      <th>356</th>\n",
       "      <td>2004</td>\n",
       "      <td>East China</td>\n",
       "      <td>Zhejiang</td>\n",
       "      <td>11648.70</td>\n",
       "      <td>668128</td>\n",
       "      <td>3162299</td>\n",
       "      <td>656175.0</td>\n",
       "      <td>1.612181</td>\n",
       "    </tr>\n",
       "    <tr>\n",
       "      <th>357</th>\n",
       "      <td>2005</td>\n",
       "      <td>East China</td>\n",
       "      <td>Zhejiang</td>\n",
       "      <td>13417.68</td>\n",
       "      <td>772000</td>\n",
       "      <td>2370200</td>\n",
       "      <td>656175.0</td>\n",
       "      <td>2.007180</td>\n",
       "    </tr>\n",
       "    <tr>\n",
       "      <th>358</th>\n",
       "      <td>2006</td>\n",
       "      <td>East China</td>\n",
       "      <td>Zhejiang</td>\n",
       "      <td>15718.47</td>\n",
       "      <td>888935</td>\n",
       "      <td>2553268</td>\n",
       "      <td>1017303.0</td>\n",
       "      <td>2.520929</td>\n",
       "    </tr>\n",
       "  </tbody>\n",
       "</table>\n",
       "<p>350 rows × 8 columns</p>\n",
       "</div>"
      ],
      "text/plain": [
       "     year      region  province       gdp     fdi       it   specific  \\\n",
       "0    1996  East China     Anhui   2093.30   50661   631930   147002.0   \n",
       "1    1997  East China     Anhui   2347.32   43443   657860   151981.0   \n",
       "2    1998  East China     Anhui   2542.96   27673   889463   174930.0   \n",
       "3    1999  East China     Anhui   2712.34   26131  1227364   285324.0   \n",
       "4    2000  East China     Anhui   2902.09   31847  1499110   195580.0   \n",
       "..    ...         ...       ...       ...     ...      ...        ...   \n",
       "354  2002  East China  Zhejiang   8003.67  307610  1962633   365437.0   \n",
       "355  2003  East China  Zhejiang   9705.02  498055  2261631   391292.0   \n",
       "356  2004  East China  Zhejiang  11648.70  668128  3162299   656175.0   \n",
       "357  2005  East China  Zhejiang  13417.68  772000  2370200   656175.0   \n",
       "358  2006  East China  Zhejiang  15718.47  888935  2553268  1017303.0   \n",
       "\n",
       "     gdp_zscore  \n",
       "0     -0.521466  \n",
       "1     -0.464746  \n",
       "2     -0.421061  \n",
       "3     -0.383239  \n",
       "4     -0.340870  \n",
       "..          ...  \n",
       "354    0.798274  \n",
       "355    1.178172  \n",
       "356    1.612181  \n",
       "357    2.007180  \n",
       "358    2.520929  \n",
       "\n",
       "[350 rows x 8 columns]"
      ]
     },
     "execution_count": 28,
     "metadata": {},
     "output_type": "execute_result"
    }
   ],
   "source": [
    "df_no_gdp_outliers"
   ]
  },
  {
   "cell_type": "code",
   "execution_count": 29,
   "metadata": {},
   "outputs": [
    {
     "data": {
      "text/plain": [
       "array([[<matplotlib.axes._subplots.AxesSubplot object at 0x7f10429f5ba8>]],\n",
       "      dtype=object)"
      ]
     },
     "execution_count": 29,
     "metadata": {},
     "output_type": "execute_result"
    },
    {
     "data": {
      "image/png": "[encoded data removed]",
      "text/plain": [
       "<Figure size 432x288 with 1 Axes>"
      ]
     },
     "metadata": {
      "needs_background": "light"
     },
     "output_type": "display_data"
    }
   ],
   "source": [
    "df_no_gdp_outliers.hist(column=['gdp'], bins=60)"
   ]
  },
  {
   "cell_type": "code",
   "execution_count": 31,
   "metadata": {},
   "outputs": [
    {
     "data": {
      "text/html": [
       "<div>\n",
       "<style scoped>\n",
       "    .dataframe tbody tr th:only-of-type {\n",
       "        vertical-align: middle;\n",
       "    }\n",
       "\n",
       "    .dataframe tbody tr th {\n",
       "        vertical-align: top;\n",
       "    }\n",
       "\n",
       "    .dataframe thead th {\n",
       "        text-align: right;\n",
       "    }\n",
       "</style>\n",
       "<table border=\"1\" class=\"dataframe\">\n",
       "  <thead>\n",
       "    <tr style=\"text-align: right;\">\n",
       "      <th></th>\n",
       "      <th>year</th>\n",
       "      <th>province</th>\n",
       "      <th>gdp</th>\n",
       "      <th>fdi</th>\n",
       "      <th>it</th>\n",
       "      <th>specific</th>\n",
       "      <th>gdp_zscore</th>\n",
       "    </tr>\n",
       "    <tr>\n",
       "      <th>region</th>\n",
       "      <th></th>\n",
       "      <th></th>\n",
       "      <th></th>\n",
       "      <th></th>\n",
       "      <th></th>\n",
       "      <th></th>\n",
       "      <th></th>\n",
       "    </tr>\n",
       "  </thead>\n",
       "  <tbody>\n",
       "    <tr>\n",
       "      <th>East China</th>\n",
       "      <td>84</td>\n",
       "      <td>84</td>\n",
       "      <td>84</td>\n",
       "      <td>84</td>\n",
       "      <td>84</td>\n",
       "      <td>84</td>\n",
       "      <td>84</td>\n",
       "    </tr>\n",
       "    <tr>\n",
       "      <th>North China</th>\n",
       "      <td>48</td>\n",
       "      <td>48</td>\n",
       "      <td>48</td>\n",
       "      <td>48</td>\n",
       "      <td>48</td>\n",
       "      <td>47</td>\n",
       "      <td>48</td>\n",
       "    </tr>\n",
       "    <tr>\n",
       "      <th>Northeast China</th>\n",
       "      <td>36</td>\n",
       "      <td>36</td>\n",
       "      <td>36</td>\n",
       "      <td>36</td>\n",
       "      <td>36</td>\n",
       "      <td>36</td>\n",
       "      <td>36</td>\n",
       "    </tr>\n",
       "    <tr>\n",
       "      <th>Northwest China</th>\n",
       "      <td>60</td>\n",
       "      <td>60</td>\n",
       "      <td>60</td>\n",
       "      <td>60</td>\n",
       "      <td>60</td>\n",
       "      <td>60</td>\n",
       "      <td>60</td>\n",
       "    </tr>\n",
       "    <tr>\n",
       "      <th>South Central China</th>\n",
       "      <td>72</td>\n",
       "      <td>72</td>\n",
       "      <td>72</td>\n",
       "      <td>72</td>\n",
       "      <td>72</td>\n",
       "      <td>72</td>\n",
       "      <td>72</td>\n",
       "    </tr>\n",
       "    <tr>\n",
       "      <th>Southwest China</th>\n",
       "      <td>60</td>\n",
       "      <td>60</td>\n",
       "      <td>60</td>\n",
       "      <td>60</td>\n",
       "      <td>60</td>\n",
       "      <td>57</td>\n",
       "      <td>60</td>\n",
       "    </tr>\n",
       "  </tbody>\n",
       "</table>\n",
       "</div>"
      ],
      "text/plain": [
       "                     year  province  gdp  fdi  it  specific  gdp_zscore\n",
       "region                                                                 \n",
       "East China             84        84   84   84  84        84          84\n",
       "North China            48        48   48   48  48        47          48\n",
       "Northeast China        36        36   36   36  36        36          36\n",
       "Northwest China        60        60   60   60  60        60          60\n",
       "South Central China    72        72   72   72  72        72          72\n",
       "Southwest China        60        60   60   60  60        57          60"
      ]
     },
     "execution_count": 31,
     "metadata": {},
     "output_type": "execute_result"
    }
   ],
   "source": [
    "counts_fiscal=df.groupby('region').count()\n",
    "counts_fiscal"
   ]
  },
  {
   "cell_type": "code",
   "execution_count": 32,
   "metadata": {},
   "outputs": [
    {
     "data": {
      "text/html": [
       "<div>\n",
       "<style scoped>\n",
       "    .dataframe tbody tr th:only-of-type {\n",
       "        vertical-align: middle;\n",
       "    }\n",
       "\n",
       "    .dataframe tbody tr th {\n",
       "        vertical-align: top;\n",
       "    }\n",
       "\n",
       "    .dataframe thead th {\n",
       "        text-align: right;\n",
       "    }\n",
       "</style>\n",
       "<table border=\"1\" class=\"dataframe\">\n",
       "  <thead>\n",
       "    <tr style=\"text-align: right;\">\n",
       "      <th></th>\n",
       "      <th>year</th>\n",
       "      <th>region</th>\n",
       "      <th>gdp</th>\n",
       "      <th>fdi</th>\n",
       "      <th>it</th>\n",
       "      <th>specific</th>\n",
       "      <th>gdp_zscore</th>\n",
       "    </tr>\n",
       "    <tr>\n",
       "      <th>province</th>\n",
       "      <th></th>\n",
       "      <th></th>\n",
       "      <th></th>\n",
       "      <th></th>\n",
       "      <th></th>\n",
       "      <th></th>\n",
       "      <th></th>\n",
       "    </tr>\n",
       "  </thead>\n",
       "  <tbody>\n",
       "    <tr>\n",
       "      <th>Anhui</th>\n",
       "      <td>12</td>\n",
       "      <td>12</td>\n",
       "      <td>12</td>\n",
       "      <td>12</td>\n",
       "      <td>12</td>\n",
       "      <td>12</td>\n",
       "      <td>12</td>\n",
       "    </tr>\n",
       "    <tr>\n",
       "      <th>Beijing</th>\n",
       "      <td>12</td>\n",
       "      <td>12</td>\n",
       "      <td>12</td>\n",
       "      <td>12</td>\n",
       "      <td>12</td>\n",
       "      <td>12</td>\n",
       "      <td>12</td>\n",
       "    </tr>\n",
       "    <tr>\n",
       "      <th>Chongqing</th>\n",
       "      <td>12</td>\n",
       "      <td>12</td>\n",
       "      <td>12</td>\n",
       "      <td>12</td>\n",
       "      <td>12</td>\n",
       "      <td>9</td>\n",
       "      <td>12</td>\n",
       "    </tr>\n",
       "    <tr>\n",
       "      <th>Fujian</th>\n",
       "      <td>12</td>\n",
       "      <td>12</td>\n",
       "      <td>12</td>\n",
       "      <td>12</td>\n",
       "      <td>12</td>\n",
       "      <td>12</td>\n",
       "      <td>12</td>\n",
       "    </tr>\n",
       "    <tr>\n",
       "      <th>Gansu</th>\n",
       "      <td>12</td>\n",
       "      <td>12</td>\n",
       "      <td>12</td>\n",
       "      <td>12</td>\n",
       "      <td>12</td>\n",
       "      <td>12</td>\n",
       "      <td>12</td>\n",
       "    </tr>\n",
       "    <tr>\n",
       "      <th>Guangdong</th>\n",
       "      <td>12</td>\n",
       "      <td>12</td>\n",
       "      <td>12</td>\n",
       "      <td>12</td>\n",
       "      <td>12</td>\n",
       "      <td>12</td>\n",
       "      <td>12</td>\n",
       "    </tr>\n",
       "    <tr>\n",
       "      <th>Guangxi</th>\n",
       "      <td>12</td>\n",
       "      <td>12</td>\n",
       "      <td>12</td>\n",
       "      <td>12</td>\n",
       "      <td>12</td>\n",
       "      <td>12</td>\n",
       "      <td>12</td>\n",
       "    </tr>\n",
       "    <tr>\n",
       "      <th>Guizhou</th>\n",
       "      <td>12</td>\n",
       "      <td>12</td>\n",
       "      <td>12</td>\n",
       "      <td>12</td>\n",
       "      <td>12</td>\n",
       "      <td>12</td>\n",
       "      <td>12</td>\n",
       "    </tr>\n",
       "    <tr>\n",
       "      <th>Hainan</th>\n",
       "      <td>12</td>\n",
       "      <td>12</td>\n",
       "      <td>12</td>\n",
       "      <td>12</td>\n",
       "      <td>12</td>\n",
       "      <td>12</td>\n",
       "      <td>12</td>\n",
       "    </tr>\n",
       "    <tr>\n",
       "      <th>Hebei</th>\n",
       "      <td>12</td>\n",
       "      <td>12</td>\n",
       "      <td>12</td>\n",
       "      <td>12</td>\n",
       "      <td>12</td>\n",
       "      <td>11</td>\n",
       "      <td>12</td>\n",
       "    </tr>\n",
       "    <tr>\n",
       "      <th>Heilongjiang</th>\n",
       "      <td>12</td>\n",
       "      <td>12</td>\n",
       "      <td>12</td>\n",
       "      <td>12</td>\n",
       "      <td>12</td>\n",
       "      <td>12</td>\n",
       "      <td>12</td>\n",
       "    </tr>\n",
       "    <tr>\n",
       "      <th>Henan</th>\n",
       "      <td>12</td>\n",
       "      <td>12</td>\n",
       "      <td>12</td>\n",
       "      <td>12</td>\n",
       "      <td>12</td>\n",
       "      <td>12</td>\n",
       "      <td>12</td>\n",
       "    </tr>\n",
       "    <tr>\n",
       "      <th>Hubei</th>\n",
       "      <td>12</td>\n",
       "      <td>12</td>\n",
       "      <td>12</td>\n",
       "      <td>12</td>\n",
       "      <td>12</td>\n",
       "      <td>12</td>\n",
       "      <td>12</td>\n",
       "    </tr>\n",
       "    <tr>\n",
       "      <th>Hunan</th>\n",
       "      <td>12</td>\n",
       "      <td>12</td>\n",
       "      <td>12</td>\n",
       "      <td>12</td>\n",
       "      <td>12</td>\n",
       "      <td>12</td>\n",
       "      <td>12</td>\n",
       "    </tr>\n",
       "    <tr>\n",
       "      <th>Jiangsu</th>\n",
       "      <td>12</td>\n",
       "      <td>12</td>\n",
       "      <td>12</td>\n",
       "      <td>12</td>\n",
       "      <td>12</td>\n",
       "      <td>12</td>\n",
       "      <td>12</td>\n",
       "    </tr>\n",
       "    <tr>\n",
       "      <th>Jiangxi</th>\n",
       "      <td>12</td>\n",
       "      <td>12</td>\n",
       "      <td>12</td>\n",
       "      <td>12</td>\n",
       "      <td>12</td>\n",
       "      <td>12</td>\n",
       "      <td>12</td>\n",
       "    </tr>\n",
       "    <tr>\n",
       "      <th>Jilin</th>\n",
       "      <td>12</td>\n",
       "      <td>12</td>\n",
       "      <td>12</td>\n",
       "      <td>12</td>\n",
       "      <td>12</td>\n",
       "      <td>12</td>\n",
       "      <td>12</td>\n",
       "    </tr>\n",
       "    <tr>\n",
       "      <th>Liaoning</th>\n",
       "      <td>12</td>\n",
       "      <td>12</td>\n",
       "      <td>12</td>\n",
       "      <td>12</td>\n",
       "      <td>12</td>\n",
       "      <td>12</td>\n",
       "      <td>12</td>\n",
       "    </tr>\n",
       "    <tr>\n",
       "      <th>Ningxia</th>\n",
       "      <td>12</td>\n",
       "      <td>12</td>\n",
       "      <td>12</td>\n",
       "      <td>12</td>\n",
       "      <td>12</td>\n",
       "      <td>12</td>\n",
       "      <td>12</td>\n",
       "    </tr>\n",
       "    <tr>\n",
       "      <th>Qinghai</th>\n",
       "      <td>12</td>\n",
       "      <td>12</td>\n",
       "      <td>12</td>\n",
       "      <td>12</td>\n",
       "      <td>12</td>\n",
       "      <td>12</td>\n",
       "      <td>12</td>\n",
       "    </tr>\n",
       "    <tr>\n",
       "      <th>Shaanxi</th>\n",
       "      <td>12</td>\n",
       "      <td>12</td>\n",
       "      <td>12</td>\n",
       "      <td>12</td>\n",
       "      <td>12</td>\n",
       "      <td>12</td>\n",
       "      <td>12</td>\n",
       "    </tr>\n",
       "    <tr>\n",
       "      <th>Shandong</th>\n",
       "      <td>12</td>\n",
       "      <td>12</td>\n",
       "      <td>12</td>\n",
       "      <td>12</td>\n",
       "      <td>12</td>\n",
       "      <td>12</td>\n",
       "      <td>12</td>\n",
       "    </tr>\n",
       "    <tr>\n",
       "      <th>Shanghai</th>\n",
       "      <td>12</td>\n",
       "      <td>12</td>\n",
       "      <td>12</td>\n",
       "      <td>12</td>\n",
       "      <td>12</td>\n",
       "      <td>12</td>\n",
       "      <td>12</td>\n",
       "    </tr>\n",
       "    <tr>\n",
       "      <th>Shanxi</th>\n",
       "      <td>12</td>\n",
       "      <td>12</td>\n",
       "      <td>12</td>\n",
       "      <td>12</td>\n",
       "      <td>12</td>\n",
       "      <td>12</td>\n",
       "      <td>12</td>\n",
       "    </tr>\n",
       "    <tr>\n",
       "      <th>Sichuan</th>\n",
       "      <td>12</td>\n",
       "      <td>12</td>\n",
       "      <td>12</td>\n",
       "      <td>12</td>\n",
       "      <td>12</td>\n",
       "      <td>12</td>\n",
       "      <td>12</td>\n",
       "    </tr>\n",
       "    <tr>\n",
       "      <th>Tianjin</th>\n",
       "      <td>12</td>\n",
       "      <td>12</td>\n",
       "      <td>12</td>\n",
       "      <td>12</td>\n",
       "      <td>12</td>\n",
       "      <td>12</td>\n",
       "      <td>12</td>\n",
       "    </tr>\n",
       "    <tr>\n",
       "      <th>Tibet</th>\n",
       "      <td>12</td>\n",
       "      <td>12</td>\n",
       "      <td>12</td>\n",
       "      <td>12</td>\n",
       "      <td>12</td>\n",
       "      <td>12</td>\n",
       "      <td>12</td>\n",
       "    </tr>\n",
       "    <tr>\n",
       "      <th>Xinjiang</th>\n",
       "      <td>12</td>\n",
       "      <td>12</td>\n",
       "      <td>12</td>\n",
       "      <td>12</td>\n",
       "      <td>12</td>\n",
       "      <td>12</td>\n",
       "      <td>12</td>\n",
       "    </tr>\n",
       "    <tr>\n",
       "      <th>Yunnan</th>\n",
       "      <td>12</td>\n",
       "      <td>12</td>\n",
       "      <td>12</td>\n",
       "      <td>12</td>\n",
       "      <td>12</td>\n",
       "      <td>12</td>\n",
       "      <td>12</td>\n",
       "    </tr>\n",
       "    <tr>\n",
       "      <th>Zhejiang</th>\n",
       "      <td>12</td>\n",
       "      <td>12</td>\n",
       "      <td>12</td>\n",
       "      <td>12</td>\n",
       "      <td>12</td>\n",
       "      <td>12</td>\n",
       "      <td>12</td>\n",
       "    </tr>\n",
       "  </tbody>\n",
       "</table>\n",
       "</div>"
      ],
      "text/plain": [
       "              year  region  gdp  fdi  it  specific  gdp_zscore\n",
       "province                                                      \n",
       "Anhui           12      12   12   12  12        12          12\n",
       "Beijing         12      12   12   12  12        12          12\n",
       "Chongqing       12      12   12   12  12         9          12\n",
       "Fujian          12      12   12   12  12        12          12\n",
       "Gansu           12      12   12   12  12        12          12\n",
       "Guangdong       12      12   12   12  12        12          12\n",
       "Guangxi         12      12   12   12  12        12          12\n",
       "Guizhou         12      12   12   12  12        12          12\n",
       "Hainan          12      12   12   12  12        12          12\n",
       "Hebei           12      12   12   12  12        11          12\n",
       "Heilongjiang    12      12   12   12  12        12          12\n",
       "Henan           12      12   12   12  12        12          12\n",
       "Hubei           12      12   12   12  12        12          12\n",
       "Hunan           12      12   12   12  12        12          12\n",
       "Jiangsu         12      12   12   12  12        12          12\n",
       "Jiangxi         12      12   12   12  12        12          12\n",
       "Jilin           12      12   12   12  12        12          12\n",
       "Liaoning        12      12   12   12  12        12          12\n",
       "Ningxia         12      12   12   12  12        12          12\n",
       "Qinghai         12      12   12   12  12        12          12\n",
       "Shaanxi         12      12   12   12  12        12          12\n",
       "Shandong        12      12   12   12  12        12          12\n",
       "Shanghai        12      12   12   12  12        12          12\n",
       "Shanxi          12      12   12   12  12        12          12\n",
       "Sichuan         12      12   12   12  12        12          12\n",
       "Tianjin         12      12   12   12  12        12          12\n",
       "Tibet           12      12   12   12  12        12          12\n",
       "Xinjiang        12      12   12   12  12        12          12\n",
       "Yunnan          12      12   12   12  12        12          12\n",
       "Zhejiang        12      12   12   12  12        12          12"
      ]
     },
     "execution_count": 32,
     "metadata": {},
     "output_type": "execute_result"
    }
   ],
   "source": [
    "counts_fiscal=df.groupby('province').count()\n",
    "counts_fiscal"
   ]
  },
  {
   "cell_type": "code",
   "execution_count": null,
   "metadata": {},
   "outputs": [],
   "source": []
  },
  {
   "cell_type": "code",
   "execution_count": null,
   "metadata": {},
   "outputs": [],
   "source": []
  },
  {
   "cell_type": "markdown",
   "metadata": {},
   "source": [
    "## Subset by needed columns"
   ]
  },
  {
   "cell_type": "code",
   "execution_count": 33,
   "metadata": {},
   "outputs": [
    {
     "data": {
      "text/plain": [
       "Index(['year', 'region', 'province', 'gdp', 'fdi', 'it', 'specific',\n",
       "       'gdp_zscore'],\n",
       "      dtype='object')"
      ]
     },
     "execution_count": 33,
     "metadata": {},
     "output_type": "execute_result"
    }
   ],
   "source": [
    "df_no_gdp_outliers.columns"
   ]
  },
  {
   "cell_type": "code",
   "execution_count": 34,
   "metadata": {},
   "outputs": [
    {
     "data": {
      "text/html": [
       "<div>\n",
       "<style scoped>\n",
       "    .dataframe tbody tr th:only-of-type {\n",
       "        vertical-align: middle;\n",
       "    }\n",
       "\n",
       "    .dataframe tbody tr th {\n",
       "        vertical-align: top;\n",
       "    }\n",
       "\n",
       "    .dataframe thead th {\n",
       "        text-align: right;\n",
       "    }\n",
       "</style>\n",
       "<table border=\"1\" class=\"dataframe\">\n",
       "  <thead>\n",
       "    <tr style=\"text-align: right;\">\n",
       "      <th></th>\n",
       "      <th>region</th>\n",
       "      <th>gdp</th>\n",
       "      <th>fdi</th>\n",
       "      <th>it</th>\n",
       "    </tr>\n",
       "  </thead>\n",
       "  <tbody>\n",
       "    <tr>\n",
       "      <th>0</th>\n",
       "      <td>East China</td>\n",
       "      <td>2093.30</td>\n",
       "      <td>50661</td>\n",
       "      <td>631930</td>\n",
       "    </tr>\n",
       "    <tr>\n",
       "      <th>1</th>\n",
       "      <td>East China</td>\n",
       "      <td>2347.32</td>\n",
       "      <td>43443</td>\n",
       "      <td>657860</td>\n",
       "    </tr>\n",
       "    <tr>\n",
       "      <th>2</th>\n",
       "      <td>East China</td>\n",
       "      <td>2542.96</td>\n",
       "      <td>27673</td>\n",
       "      <td>889463</td>\n",
       "    </tr>\n",
       "    <tr>\n",
       "      <th>3</th>\n",
       "      <td>East China</td>\n",
       "      <td>2712.34</td>\n",
       "      <td>26131</td>\n",
       "      <td>1227364</td>\n",
       "    </tr>\n",
       "    <tr>\n",
       "      <th>4</th>\n",
       "      <td>East China</td>\n",
       "      <td>2902.09</td>\n",
       "      <td>31847</td>\n",
       "      <td>1499110</td>\n",
       "    </tr>\n",
       "    <tr>\n",
       "      <th>...</th>\n",
       "      <td>...</td>\n",
       "      <td>...</td>\n",
       "      <td>...</td>\n",
       "      <td>...</td>\n",
       "    </tr>\n",
       "    <tr>\n",
       "      <th>354</th>\n",
       "      <td>East China</td>\n",
       "      <td>8003.67</td>\n",
       "      <td>307610</td>\n",
       "      <td>1962633</td>\n",
       "    </tr>\n",
       "    <tr>\n",
       "      <th>355</th>\n",
       "      <td>East China</td>\n",
       "      <td>9705.02</td>\n",
       "      <td>498055</td>\n",
       "      <td>2261631</td>\n",
       "    </tr>\n",
       "    <tr>\n",
       "      <th>356</th>\n",
       "      <td>East China</td>\n",
       "      <td>11648.70</td>\n",
       "      <td>668128</td>\n",
       "      <td>3162299</td>\n",
       "    </tr>\n",
       "    <tr>\n",
       "      <th>357</th>\n",
       "      <td>East China</td>\n",
       "      <td>13417.68</td>\n",
       "      <td>772000</td>\n",
       "      <td>2370200</td>\n",
       "    </tr>\n",
       "    <tr>\n",
       "      <th>358</th>\n",
       "      <td>East China</td>\n",
       "      <td>15718.47</td>\n",
       "      <td>888935</td>\n",
       "      <td>2553268</td>\n",
       "    </tr>\n",
       "  </tbody>\n",
       "</table>\n",
       "<p>350 rows × 4 columns</p>\n",
       "</div>"
      ],
      "text/plain": [
       "         region       gdp     fdi       it\n",
       "0    East China   2093.30   50661   631930\n",
       "1    East China   2347.32   43443   657860\n",
       "2    East China   2542.96   27673   889463\n",
       "3    East China   2712.34   26131  1227364\n",
       "4    East China   2902.09   31847  1499110\n",
       "..          ...       ...     ...      ...\n",
       "354  East China   8003.67  307610  1962633\n",
       "355  East China   9705.02  498055  2261631\n",
       "356  East China  11648.70  668128  3162299\n",
       "357  East China  13417.68  772000  2370200\n",
       "358  East China  15718.47  888935  2553268\n",
       "\n",
       "[350 rows x 4 columns]"
      ]
     },
     "execution_count": 34,
     "metadata": {},
     "output_type": "execute_result"
    }
   ],
   "source": [
    "df_no_gdp_outliers_subset = df_no_gdp_outliers[['region', 'gdp', 'fdi', 'it']]\n",
    "df_no_gdp_outliers_subset"
   ]
  },
  {
   "cell_type": "markdown",
   "metadata": {},
   "source": [
    "## Genearate an experimental_crosstab to be used in statistical tests"
   ]
  },
  {
   "cell_type": "code",
   "execution_count": 40,
   "metadata": {},
   "outputs": [],
   "source": [
    "experimental_crosstab = df_no_gdp_outliers_subset.groupby('region').agg(['size', 'mean', 'std'])"
   ]
  },
  {
   "cell_type": "code",
   "execution_count": 57,
   "metadata": {},
   "outputs": [
    {
     "data": {
      "text/plain": [
       "Index(['East China', 'North China', 'Northeast China', 'Northwest China',\n",
       "       'South Central China', 'Southwest China'],\n",
       "      dtype='object', name='region')"
      ]
     },
     "execution_count": 57,
     "metadata": {},
     "output_type": "execute_result"
    }
   ],
   "source": [
    "experimental_crosstab.index"
   ]
  },
  {
   "cell_type": "code",
   "execution_count": 64,
   "metadata": {},
   "outputs": [],
   "source": [
    "experimental_crosstab = experimental_crosstab.reset_index()"
   ]
  },
  {
   "cell_type": "code",
   "execution_count": 66,
   "metadata": {},
   "outputs": [
    {
     "data": {
      "text/html": [
       "<div>\n",
       "<style scoped>\n",
       "    .dataframe tbody tr th:only-of-type {\n",
       "        vertical-align: middle;\n",
       "    }\n",
       "\n",
       "    .dataframe tbody tr th {\n",
       "        vertical-align: top;\n",
       "    }\n",
       "\n",
       "    .dataframe thead tr th {\n",
       "        text-align: left;\n",
       "    }\n",
       "</style>\n",
       "<table border=\"1\" class=\"dataframe\">\n",
       "  <thead>\n",
       "    <tr>\n",
       "      <th></th>\n",
       "      <th>region</th>\n",
       "      <th colspan=\"3\" halign=\"left\">gdp</th>\n",
       "      <th colspan=\"3\" halign=\"left\">fdi</th>\n",
       "      <th colspan=\"3\" halign=\"left\">it</th>\n",
       "    </tr>\n",
       "    <tr>\n",
       "      <th></th>\n",
       "      <th></th>\n",
       "      <th>size</th>\n",
       "      <th>mean</th>\n",
       "      <th>std</th>\n",
       "      <th>size</th>\n",
       "      <th>mean</th>\n",
       "      <th>std</th>\n",
       "      <th>size</th>\n",
       "      <th>mean</th>\n",
       "      <th>std</th>\n",
       "    </tr>\n",
       "  </thead>\n",
       "  <tbody>\n",
       "    <tr>\n",
       "      <th>0</th>\n",
       "      <td>East China</td>\n",
       "      <td>78</td>\n",
       "      <td>6070.604231</td>\n",
       "      <td>3500.372702</td>\n",
       "      <td>78</td>\n",
       "      <td>355577.897436</td>\n",
       "      <td>275635.866746</td>\n",
       "      <td>78</td>\n",
       "      <td>1.775615e+06</td>\n",
       "      <td>1.153030e+06</td>\n",
       "    </tr>\n",
       "    <tr>\n",
       "      <th>1</th>\n",
       "      <td>North China</td>\n",
       "      <td>48</td>\n",
       "      <td>4239.038542</td>\n",
       "      <td>2866.705149</td>\n",
       "      <td>48</td>\n",
       "      <td>169600.583333</td>\n",
       "      <td>127011.475909</td>\n",
       "      <td>48</td>\n",
       "      <td>1.733719e+06</td>\n",
       "      <td>1.548794e+06</td>\n",
       "    </tr>\n",
       "    <tr>\n",
       "      <th>2</th>\n",
       "      <td>Northeast China</td>\n",
       "      <td>36</td>\n",
       "      <td>3849.076944</td>\n",
       "      <td>1948.531835</td>\n",
       "      <td>36</td>\n",
       "      <td>136623.750000</td>\n",
       "      <td>142734.495232</td>\n",
       "      <td>36</td>\n",
       "      <td>2.665148e+06</td>\n",
       "      <td>1.768442e+06</td>\n",
       "    </tr>\n",
       "    <tr>\n",
       "      <th>3</th>\n",
       "      <td>Northwest China</td>\n",
       "      <td>60</td>\n",
       "      <td>1340.026167</td>\n",
       "      <td>1174.399739</td>\n",
       "      <td>60</td>\n",
       "      <td>15111.133333</td>\n",
       "      <td>22954.193559</td>\n",
       "      <td>60</td>\n",
       "      <td>1.703538e+06</td>\n",
       "      <td>1.446408e+06</td>\n",
       "    </tr>\n",
       "    <tr>\n",
       "      <th>4</th>\n",
       "      <td>South Central China</td>\n",
       "      <td>68</td>\n",
       "      <td>4835.540882</td>\n",
       "      <td>3697.129915</td>\n",
       "      <td>68</td>\n",
       "      <td>218931.426471</td>\n",
       "      <td>339981.399823</td>\n",
       "      <td>68</td>\n",
       "      <td>2.500962e+06</td>\n",
       "      <td>2.196436e+06</td>\n",
       "    </tr>\n",
       "    <tr>\n",
       "      <th>5</th>\n",
       "      <td>Southwest China</td>\n",
       "      <td>60</td>\n",
       "      <td>2410.398833</td>\n",
       "      <td>2144.589994</td>\n",
       "      <td>60</td>\n",
       "      <td>25405.083333</td>\n",
       "      <td>31171.373876</td>\n",
       "      <td>60</td>\n",
       "      <td>2.424971e+06</td>\n",
       "      <td>2.002198e+06</td>\n",
       "    </tr>\n",
       "  </tbody>\n",
       "</table>\n",
       "</div>"
      ],
      "text/plain": [
       "                region  gdp                            fdi                 \\\n",
       "                       size         mean          std size           mean   \n",
       "0           East China   78  6070.604231  3500.372702   78  355577.897436   \n",
       "1          North China   48  4239.038542  2866.705149   48  169600.583333   \n",
       "2      Northeast China   36  3849.076944  1948.531835   36  136623.750000   \n",
       "3      Northwest China   60  1340.026167  1174.399739   60   15111.133333   \n",
       "4  South Central China   68  4835.540882  3697.129915   68  218931.426471   \n",
       "5      Southwest China   60  2410.398833  2144.589994   60   25405.083333   \n",
       "\n",
       "                   it                              \n",
       "             std size          mean           std  \n",
       "0  275635.866746   78  1.775615e+06  1.153030e+06  \n",
       "1  127011.475909   48  1.733719e+06  1.548794e+06  \n",
       "2  142734.495232   36  2.665148e+06  1.768442e+06  \n",
       "3   22954.193559   60  1.703538e+06  1.446408e+06  \n",
       "4  339981.399823   68  2.500962e+06  2.196436e+06  \n",
       "5   31171.373876   60  2.424971e+06  2.002198e+06  "
      ]
     },
     "execution_count": 66,
     "metadata": {},
     "output_type": "execute_result"
    }
   ],
   "source": [
    "experimental_crosstab"
   ]
  },
  {
   "cell_type": "code",
   "execution_count": 75,
   "metadata": {},
   "outputs": [],
   "source": [
    "experimental_crosstab.to_csv('fiscal_experimental_crosstab.csv')"
   ]
  },
  {
   "cell_type": "code",
   "execution_count": null,
   "metadata": {},
   "outputs": [],
   "source": []
  },
  {
   "cell_type": "code",
   "execution_count": 65,
   "metadata": {},
   "outputs": [
    {
     "data": {
      "text/plain": [
       "1"
      ]
     },
     "execution_count": 65,
     "metadata": {},
     "output_type": "execute_result"
    }
   ],
   "source": [
    "experimental_crosstab.index[1]"
   ]
  },
  {
   "cell_type": "code",
   "execution_count": 60,
   "metadata": {},
   "outputs": [
    {
     "data": {
      "text/plain": [
       "'East China'"
      ]
     },
     "execution_count": 60,
     "metadata": {},
     "output_type": "execute_result"
    }
   ],
   "source": [
    "experimental_crosstab.index[0]"
   ]
  },
  {
   "cell_type": "code",
   "execution_count": 46,
   "metadata": {},
   "outputs": [],
   "source": [
    "treatment=experimental_crosstab.index[0]\n",
    "control=experimental_crosstab.index[1]"
   ]
  },
  {
   "cell_type": "code",
   "execution_count": 51,
   "metadata": {},
   "outputs": [],
   "source": [
    "#control = 'Southwest China'\n",
    "#treatment = 'East China'\n",
    "\n",
    "test_cells = 'region'"
   ]
  },
  {
   "cell_type": "code",
   "execution_count": 49,
   "metadata": {},
   "outputs": [],
   "source": [
    "test_cells = df.region"
   ]
  },
  {
   "cell_type": "code",
   "execution_count": 70,
   "metadata": {},
   "outputs": [],
   "source": [
    "test_cells = 'region'"
   ]
  },
  {
   "cell_type": "code",
   "execution_count": 71,
   "metadata": {},
   "outputs": [
    {
     "data": {
      "text/html": [
       "<div>\n",
       "<style scoped>\n",
       "    .dataframe tbody tr th:only-of-type {\n",
       "        vertical-align: middle;\n",
       "    }\n",
       "\n",
       "    .dataframe tbody tr th {\n",
       "        vertical-align: top;\n",
       "    }\n",
       "\n",
       "    .dataframe thead tr th {\n",
       "        text-align: left;\n",
       "    }\n",
       "</style>\n",
       "<table border=\"1\" class=\"dataframe\">\n",
       "  <thead>\n",
       "    <tr>\n",
       "      <th></th>\n",
       "      <th>region</th>\n",
       "      <th colspan=\"3\" halign=\"left\">gdp</th>\n",
       "      <th colspan=\"3\" halign=\"left\">fdi</th>\n",
       "      <th colspan=\"3\" halign=\"left\">it</th>\n",
       "    </tr>\n",
       "    <tr>\n",
       "      <th></th>\n",
       "      <th></th>\n",
       "      <th>size</th>\n",
       "      <th>mean</th>\n",
       "      <th>std</th>\n",
       "      <th>size</th>\n",
       "      <th>mean</th>\n",
       "      <th>std</th>\n",
       "      <th>size</th>\n",
       "      <th>mean</th>\n",
       "      <th>std</th>\n",
       "    </tr>\n",
       "  </thead>\n",
       "  <tbody>\n",
       "    <tr>\n",
       "      <th>1</th>\n",
       "      <td>North China</td>\n",
       "      <td>48</td>\n",
       "      <td>4239.038542</td>\n",
       "      <td>2866.705149</td>\n",
       "      <td>48</td>\n",
       "      <td>169600.583333</td>\n",
       "      <td>127011.475909</td>\n",
       "      <td>48</td>\n",
       "      <td>1.733719e+06</td>\n",
       "      <td>1.548794e+06</td>\n",
       "    </tr>\n",
       "  </tbody>\n",
       "</table>\n",
       "</div>"
      ],
      "text/plain": [
       "        region  gdp                            fdi                 \\\n",
       "               size         mean          std size           mean   \n",
       "1  North China   48  4239.038542  2866.705149   48  169600.583333   \n",
       "\n",
       "                   it                              \n",
       "             std size          mean           std  \n",
       "1  127011.475909   48  1.733719e+06  1.548794e+06  "
      ]
     },
     "execution_count": 71,
     "metadata": {},
     "output_type": "execute_result"
    }
   ],
   "source": [
    "experimental_crosstab[experimental_crosstab[test_cells]==control]"
   ]
  },
  {
   "cell_type": "code",
   "execution_count": 72,
   "metadata": {},
   "outputs": [
    {
     "data": {
      "text/html": [
       "<div>\n",
       "<style scoped>\n",
       "    .dataframe tbody tr th:only-of-type {\n",
       "        vertical-align: middle;\n",
       "    }\n",
       "\n",
       "    .dataframe tbody tr th {\n",
       "        vertical-align: top;\n",
       "    }\n",
       "\n",
       "    .dataframe thead tr th {\n",
       "        text-align: left;\n",
       "    }\n",
       "</style>\n",
       "<table border=\"1\" class=\"dataframe\">\n",
       "  <thead>\n",
       "    <tr>\n",
       "      <th></th>\n",
       "      <th>region</th>\n",
       "      <th colspan=\"3\" halign=\"left\">gdp</th>\n",
       "      <th colspan=\"3\" halign=\"left\">fdi</th>\n",
       "      <th colspan=\"3\" halign=\"left\">it</th>\n",
       "    </tr>\n",
       "    <tr>\n",
       "      <th></th>\n",
       "      <th></th>\n",
       "      <th>size</th>\n",
       "      <th>mean</th>\n",
       "      <th>std</th>\n",
       "      <th>size</th>\n",
       "      <th>mean</th>\n",
       "      <th>std</th>\n",
       "      <th>size</th>\n",
       "      <th>mean</th>\n",
       "      <th>std</th>\n",
       "    </tr>\n",
       "  </thead>\n",
       "  <tbody>\n",
       "    <tr>\n",
       "      <th>0</th>\n",
       "      <td>East China</td>\n",
       "      <td>78</td>\n",
       "      <td>6070.604231</td>\n",
       "      <td>3500.372702</td>\n",
       "      <td>78</td>\n",
       "      <td>355577.897436</td>\n",
       "      <td>275635.866746</td>\n",
       "      <td>78</td>\n",
       "      <td>1.775615e+06</td>\n",
       "      <td>1.153030e+06</td>\n",
       "    </tr>\n",
       "  </tbody>\n",
       "</table>\n",
       "</div>"
      ],
      "text/plain": [
       "       region  gdp                            fdi                 \\\n",
       "              size         mean          std size           mean   \n",
       "0  East China   78  6070.604231  3500.372702   78  355577.897436   \n",
       "\n",
       "                   it                              \n",
       "             std size          mean           std  \n",
       "0  275635.866746   78  1.775615e+06  1.153030e+06  "
      ]
     },
     "execution_count": 72,
     "metadata": {},
     "output_type": "execute_result"
    }
   ],
   "source": [
    "experimental_crosstab[experimental_crosstab[test_cells]==treatment]"
   ]
  },
  {
   "cell_type": "code",
   "execution_count": 74,
   "metadata": {},
   "outputs": [
    {
     "data": {
      "text/html": [
       "<div>\n",
       "<style scoped>\n",
       "    .dataframe tbody tr th:only-of-type {\n",
       "        vertical-align: middle;\n",
       "    }\n",
       "\n",
       "    .dataframe tbody tr th {\n",
       "        vertical-align: top;\n",
       "    }\n",
       "\n",
       "    .dataframe thead tr th {\n",
       "        text-align: left;\n",
       "    }\n",
       "</style>\n",
       "<table border=\"1\" class=\"dataframe\">\n",
       "  <thead>\n",
       "    <tr>\n",
       "      <th></th>\n",
       "      <th>region</th>\n",
       "      <th colspan=\"3\" halign=\"left\">gdp</th>\n",
       "      <th colspan=\"3\" halign=\"left\">fdi</th>\n",
       "      <th colspan=\"3\" halign=\"left\">it</th>\n",
       "    </tr>\n",
       "    <tr>\n",
       "      <th></th>\n",
       "      <th></th>\n",
       "      <th>size</th>\n",
       "      <th>mean</th>\n",
       "      <th>std</th>\n",
       "      <th>size</th>\n",
       "      <th>mean</th>\n",
       "      <th>std</th>\n",
       "      <th>size</th>\n",
       "      <th>mean</th>\n",
       "      <th>std</th>\n",
       "    </tr>\n",
       "  </thead>\n",
       "  <tbody>\n",
       "    <tr>\n",
       "      <th>0</th>\n",
       "      <td>East China</td>\n",
       "      <td>78</td>\n",
       "      <td>6070.604231</td>\n",
       "      <td>3500.372702</td>\n",
       "      <td>78</td>\n",
       "      <td>355577.897436</td>\n",
       "      <td>275635.866746</td>\n",
       "      <td>78</td>\n",
       "      <td>1.775615e+06</td>\n",
       "      <td>1.153030e+06</td>\n",
       "    </tr>\n",
       "  </tbody>\n",
       "</table>\n",
       "</div>"
      ],
      "text/plain": [
       "       region  gdp                            fdi                 \\\n",
       "              size         mean          std size           mean   \n",
       "0  East China   78  6070.604231  3500.372702   78  355577.897436   \n",
       "\n",
       "                   it                              \n",
       "             std size          mean           std  \n",
       "0  275635.866746   78  1.775615e+06  1.153030e+06  "
      ]
     },
     "execution_count": 74,
     "metadata": {},
     "output_type": "execute_result"
    }
   ],
   "source": [
    "experimental_crosstab[experimental_crosstab[test_cells]==treatment]"
   ]
  },
  {
   "cell_type": "code",
   "execution_count": null,
   "metadata": {},
   "outputs": [],
   "source": []
  },
  {
   "cell_type": "code",
   "execution_count": 193,
   "metadata": {},
   "outputs": [],
   "source": [
    "\n",
    "counts_control = 1000\n",
    "counts_treatment = 2000\n",
    "mean_control = 50\n",
    "mean_treatment = 100\n",
    "standard_deviation_treatment=.5\n",
    "standard_deviation_control=.5\n",
    "\n",
    "\n",
    "\n"
   ]
  },
  {
   "cell_type": "code",
   "execution_count": null,
   "metadata": {},
   "outputs": [],
   "source": []
  },
  {
   "cell_type": "code",
   "execution_count": null,
   "metadata": {},
   "outputs": [],
   "source": []
  },
  {
   "cell_type": "code",
   "execution_count": null,
   "metadata": {},
   "outputs": [],
   "source": []
  },
  {
   "cell_type": "code",
   "execution_count": null,
   "metadata": {},
   "outputs": [],
   "source": []
  },
  {
   "cell_type": "code",
   "execution_count": null,
   "metadata": {},
   "outputs": [],
   "source": []
  },
  {
   "cell_type": "code",
   "execution_count": null,
   "metadata": {},
   "outputs": [],
   "source": []
  },
  {
   "cell_type": "code",
   "execution_count": null,
   "metadata": {},
   "outputs": [],
   "source": []
  },
  {
   "cell_type": "code",
   "execution_count": null,
   "metadata": {},
   "outputs": [],
   "source": []
  },
  {
   "cell_type": "code",
   "execution_count": null,
   "metadata": {},
   "outputs": [],
   "source": []
  },
  {
   "cell_type": "code",
   "execution_count": null,
   "metadata": {},
   "outputs": [],
   "source": []
  },
  {
   "cell_type": "code",
   "execution_count": null,
   "metadata": {},
   "outputs": [],
   "source": []
  },
  {
   "cell_type": "code",
   "execution_count": null,
   "metadata": {},
   "outputs": [],
   "source": []
  },
  {
   "cell_type": "code",
   "execution_count": null,
   "metadata": {},
   "outputs": [],
   "source": [
    "\n",
    "\n",
    "df_no_gdp_outliers_subset2 = df_no_gdp_outliers.drop(['year', 'zscore', 'gdp_zscore', 'specific'], axis=1)\n",
    "df_no_gdp_outliers_subset2\n",
    "\n",
    "df_no_gdp_outliers_subset2.groupby('region').agg(['size', 'mean', 'std'])"
   ]
  },
  {
   "cell_type": "code",
   "execution_count": null,
   "metadata": {},
   "outputs": [],
   "source": []
  },
  {
   "cell_type": "code",
   "execution_count": null,
   "metadata": {},
   "outputs": [],
   "source": []
  },
  {
   "cell_type": "code",
   "execution_count": null,
   "metadata": {},
   "outputs": [],
   "source": []
  },
  {
   "cell_type": "code",
   "execution_count": 99,
   "metadata": {},
   "outputs": [],
   "source": [
    "experimental_table = df_no_gdp_outliers_subset"
   ]
  },
  {
   "cell_type": "code",
   "execution_count": 100,
   "metadata": {},
   "outputs": [
    {
     "data": {
      "text/plain": [
       "0      East China\n",
       "1      East China\n",
       "2      East China\n",
       "3      East China\n",
       "4      East China\n",
       "          ...    \n",
       "355    East China\n",
       "356    East China\n",
       "357    East China\n",
       "358    East China\n",
       "359    East China\n",
       "Name: region, Length: 360, dtype: object"
      ]
     },
     "execution_count": 100,
     "metadata": {},
     "output_type": "execute_result"
    }
   ],
   "source": [
    "features = df.region\n",
    "features"
   ]
  },
  {
   "cell_type": "code",
   "execution_count": 101,
   "metadata": {},
   "outputs": [],
   "source": [
    "treatment = 'East China'\n",
    "metric = 'gdp'"
   ]
  },
  {
   "cell_type": "code",
   "execution_count": 155,
   "metadata": {},
   "outputs": [],
   "source": [
    "# mean_treatment = experimental_table[experimental_table[features]==treatment][metric].values[0]"
   ]
  },
  {
   "cell_type": "code",
   "execution_count": 103,
   "metadata": {},
   "outputs": [
    {
     "data": {
      "text/html": [
       "<div>\n",
       "<style scoped>\n",
       "    .dataframe tbody tr th:only-of-type {\n",
       "        vertical-align: middle;\n",
       "    }\n",
       "\n",
       "    .dataframe tbody tr th {\n",
       "        vertical-align: top;\n",
       "    }\n",
       "\n",
       "    .dataframe thead th {\n",
       "        text-align: right;\n",
       "    }\n",
       "</style>\n",
       "<table border=\"1\" class=\"dataframe\">\n",
       "  <thead>\n",
       "    <tr style=\"text-align: right;\">\n",
       "      <th></th>\n",
       "      <th>region</th>\n",
       "      <th>gdp</th>\n",
       "      <th>fdi</th>\n",
       "      <th>it</th>\n",
       "    </tr>\n",
       "  </thead>\n",
       "  <tbody>\n",
       "    <tr>\n",
       "      <th>0</th>\n",
       "      <td>East China</td>\n",
       "      <td>2093.30</td>\n",
       "      <td>50661</td>\n",
       "      <td>631930</td>\n",
       "    </tr>\n",
       "    <tr>\n",
       "      <th>1</th>\n",
       "      <td>East China</td>\n",
       "      <td>2347.32</td>\n",
       "      <td>43443</td>\n",
       "      <td>657860</td>\n",
       "    </tr>\n",
       "    <tr>\n",
       "      <th>2</th>\n",
       "      <td>East China</td>\n",
       "      <td>2542.96</td>\n",
       "      <td>27673</td>\n",
       "      <td>889463</td>\n",
       "    </tr>\n",
       "    <tr>\n",
       "      <th>3</th>\n",
       "      <td>East China</td>\n",
       "      <td>2712.34</td>\n",
       "      <td>26131</td>\n",
       "      <td>1227364</td>\n",
       "    </tr>\n",
       "    <tr>\n",
       "      <th>4</th>\n",
       "      <td>East China</td>\n",
       "      <td>2902.09</td>\n",
       "      <td>31847</td>\n",
       "      <td>1499110</td>\n",
       "    </tr>\n",
       "    <tr>\n",
       "      <th>...</th>\n",
       "      <td>...</td>\n",
       "      <td>...</td>\n",
       "      <td>...</td>\n",
       "      <td>...</td>\n",
       "    </tr>\n",
       "    <tr>\n",
       "      <th>354</th>\n",
       "      <td>East China</td>\n",
       "      <td>8003.67</td>\n",
       "      <td>307610</td>\n",
       "      <td>1962633</td>\n",
       "    </tr>\n",
       "    <tr>\n",
       "      <th>355</th>\n",
       "      <td>East China</td>\n",
       "      <td>9705.02</td>\n",
       "      <td>498055</td>\n",
       "      <td>2261631</td>\n",
       "    </tr>\n",
       "    <tr>\n",
       "      <th>356</th>\n",
       "      <td>East China</td>\n",
       "      <td>11648.70</td>\n",
       "      <td>668128</td>\n",
       "      <td>3162299</td>\n",
       "    </tr>\n",
       "    <tr>\n",
       "      <th>357</th>\n",
       "      <td>East China</td>\n",
       "      <td>13417.68</td>\n",
       "      <td>772000</td>\n",
       "      <td>2370200</td>\n",
       "    </tr>\n",
       "    <tr>\n",
       "      <th>358</th>\n",
       "      <td>East China</td>\n",
       "      <td>15718.47</td>\n",
       "      <td>888935</td>\n",
       "      <td>2553268</td>\n",
       "    </tr>\n",
       "  </tbody>\n",
       "</table>\n",
       "<p>350 rows × 4 columns</p>\n",
       "</div>"
      ],
      "text/plain": [
       "         region       gdp     fdi       it\n",
       "0    East China   2093.30   50661   631930\n",
       "1    East China   2347.32   43443   657860\n",
       "2    East China   2542.96   27673   889463\n",
       "3    East China   2712.34   26131  1227364\n",
       "4    East China   2902.09   31847  1499110\n",
       "..          ...       ...     ...      ...\n",
       "354  East China   8003.67  307610  1962633\n",
       "355  East China   9705.02  498055  2261631\n",
       "356  East China  11648.70  668128  3162299\n",
       "357  East China  13417.68  772000  2370200\n",
       "358  East China  15718.47  888935  2553268\n",
       "\n",
       "[350 rows x 4 columns]"
      ]
     },
     "execution_count": 103,
     "metadata": {},
     "output_type": "execute_result"
    }
   ],
   "source": [
    "experimental_table"
   ]
  },
  {
   "cell_type": "code",
   "execution_count": 106,
   "metadata": {},
   "outputs": [
    {
     "data": {
      "text/html": [
       "<div>\n",
       "<style scoped>\n",
       "    .dataframe tbody tr th:only-of-type {\n",
       "        vertical-align: middle;\n",
       "    }\n",
       "\n",
       "    .dataframe tbody tr th {\n",
       "        vertical-align: top;\n",
       "    }\n",
       "\n",
       "    .dataframe thead tr th {\n",
       "        text-align: left;\n",
       "    }\n",
       "\n",
       "    .dataframe thead tr:last-of-type th {\n",
       "        text-align: right;\n",
       "    }\n",
       "</style>\n",
       "<table border=\"1\" class=\"dataframe\">\n",
       "  <thead>\n",
       "    <tr>\n",
       "      <th></th>\n",
       "      <th colspan=\"3\" halign=\"left\">gdp</th>\n",
       "      <th colspan=\"3\" halign=\"left\">fdi</th>\n",
       "      <th colspan=\"3\" halign=\"left\">it</th>\n",
       "    </tr>\n",
       "    <tr>\n",
       "      <th></th>\n",
       "      <th>size</th>\n",
       "      <th>mean</th>\n",
       "      <th>std</th>\n",
       "      <th>size</th>\n",
       "      <th>mean</th>\n",
       "      <th>std</th>\n",
       "      <th>size</th>\n",
       "      <th>mean</th>\n",
       "      <th>std</th>\n",
       "    </tr>\n",
       "    <tr>\n",
       "      <th>region</th>\n",
       "      <th></th>\n",
       "      <th></th>\n",
       "      <th></th>\n",
       "      <th></th>\n",
       "      <th></th>\n",
       "      <th></th>\n",
       "      <th></th>\n",
       "      <th></th>\n",
       "      <th></th>\n",
       "    </tr>\n",
       "  </thead>\n",
       "  <tbody>\n",
       "    <tr>\n",
       "      <th>East China</th>\n",
       "      <td>78</td>\n",
       "      <td>6070.604231</td>\n",
       "      <td>3500.372702</td>\n",
       "      <td>78</td>\n",
       "      <td>355577.897436</td>\n",
       "      <td>275635.866746</td>\n",
       "      <td>78</td>\n",
       "      <td>1.775615e+06</td>\n",
       "      <td>1.153030e+06</td>\n",
       "    </tr>\n",
       "    <tr>\n",
       "      <th>North China</th>\n",
       "      <td>48</td>\n",
       "      <td>4239.038542</td>\n",
       "      <td>2866.705149</td>\n",
       "      <td>48</td>\n",
       "      <td>169600.583333</td>\n",
       "      <td>127011.475909</td>\n",
       "      <td>48</td>\n",
       "      <td>1.733719e+06</td>\n",
       "      <td>1.548794e+06</td>\n",
       "    </tr>\n",
       "    <tr>\n",
       "      <th>Northeast China</th>\n",
       "      <td>36</td>\n",
       "      <td>3849.076944</td>\n",
       "      <td>1948.531835</td>\n",
       "      <td>36</td>\n",
       "      <td>136623.750000</td>\n",
       "      <td>142734.495232</td>\n",
       "      <td>36</td>\n",
       "      <td>2.665148e+06</td>\n",
       "      <td>1.768442e+06</td>\n",
       "    </tr>\n",
       "    <tr>\n",
       "      <th>Northwest China</th>\n",
       "      <td>60</td>\n",
       "      <td>1340.026167</td>\n",
       "      <td>1174.399739</td>\n",
       "      <td>60</td>\n",
       "      <td>15111.133333</td>\n",
       "      <td>22954.193559</td>\n",
       "      <td>60</td>\n",
       "      <td>1.703538e+06</td>\n",
       "      <td>1.446408e+06</td>\n",
       "    </tr>\n",
       "    <tr>\n",
       "      <th>South Central China</th>\n",
       "      <td>68</td>\n",
       "      <td>4835.540882</td>\n",
       "      <td>3697.129915</td>\n",
       "      <td>68</td>\n",
       "      <td>218931.426471</td>\n",
       "      <td>339981.399823</td>\n",
       "      <td>68</td>\n",
       "      <td>2.500962e+06</td>\n",
       "      <td>2.196436e+06</td>\n",
       "    </tr>\n",
       "    <tr>\n",
       "      <th>Southwest China</th>\n",
       "      <td>60</td>\n",
       "      <td>2410.398833</td>\n",
       "      <td>2144.589994</td>\n",
       "      <td>60</td>\n",
       "      <td>25405.083333</td>\n",
       "      <td>31171.373876</td>\n",
       "      <td>60</td>\n",
       "      <td>2.424971e+06</td>\n",
       "      <td>2.002198e+06</td>\n",
       "    </tr>\n",
       "  </tbody>\n",
       "</table>\n",
       "</div>"
      ],
      "text/plain": [
       "                     gdp                            fdi                 \\\n",
       "                    size         mean          std size           mean   \n",
       "region                                                                   \n",
       "East China            78  6070.604231  3500.372702   78  355577.897436   \n",
       "North China           48  4239.038542  2866.705149   48  169600.583333   \n",
       "Northeast China       36  3849.076944  1948.531835   36  136623.750000   \n",
       "Northwest China       60  1340.026167  1174.399739   60   15111.133333   \n",
       "South Central China   68  4835.540882  3697.129915   68  218931.426471   \n",
       "Southwest China       60  2410.398833  2144.589994   60   25405.083333   \n",
       "\n",
       "                                     it                              \n",
       "                               std size          mean           std  \n",
       "region                                                               \n",
       "East China           275635.866746   78  1.775615e+06  1.153030e+06  \n",
       "North China          127011.475909   48  1.733719e+06  1.548794e+06  \n",
       "Northeast China      142734.495232   36  2.665148e+06  1.768442e+06  \n",
       "Northwest China       22954.193559   60  1.703538e+06  1.446408e+06  \n",
       "South Central China  339981.399823   68  2.500962e+06  2.196436e+06  \n",
       "Southwest China       31171.373876   60  2.424971e+06  2.002198e+06  "
      ]
     },
     "execution_count": 106,
     "metadata": {},
     "output_type": "execute_result"
    }
   ],
   "source": [
    "experimental_table.groupby('region').agg(['size', 'mean', 'std'])"
   ]
  },
  {
   "cell_type": "code",
   "execution_count": 108,
   "metadata": {},
   "outputs": [],
   "source": [
    "control = 'Southwest China'\n",
    "treatment = 'East China'\n",
    "\n",
    "test_cells = 'region'"
   ]
  },
  {
   "cell_type": "code",
   "execution_count": 114,
   "metadata": {},
   "outputs": [
    {
     "data": {
      "text/html": [
       "<div>\n",
       "<style scoped>\n",
       "    .dataframe tbody tr th:only-of-type {\n",
       "        vertical-align: middle;\n",
       "    }\n",
       "\n",
       "    .dataframe tbody tr th {\n",
       "        vertical-align: top;\n",
       "    }\n",
       "\n",
       "    .dataframe thead th {\n",
       "        text-align: right;\n",
       "    }\n",
       "</style>\n",
       "<table border=\"1\" class=\"dataframe\">\n",
       "  <thead>\n",
       "    <tr style=\"text-align: right;\">\n",
       "      <th></th>\n",
       "      <th>region</th>\n",
       "      <th>gdp</th>\n",
       "      <th>fdi</th>\n",
       "      <th>it</th>\n",
       "    </tr>\n",
       "  </thead>\n",
       "  <tbody>\n",
       "    <tr>\n",
       "      <th>0</th>\n",
       "      <td>East China</td>\n",
       "      <td>2093.30</td>\n",
       "      <td>50661</td>\n",
       "      <td>631930</td>\n",
       "    </tr>\n",
       "    <tr>\n",
       "      <th>1</th>\n",
       "      <td>East China</td>\n",
       "      <td>2347.32</td>\n",
       "      <td>43443</td>\n",
       "      <td>657860</td>\n",
       "    </tr>\n",
       "    <tr>\n",
       "      <th>2</th>\n",
       "      <td>East China</td>\n",
       "      <td>2542.96</td>\n",
       "      <td>27673</td>\n",
       "      <td>889463</td>\n",
       "    </tr>\n",
       "    <tr>\n",
       "      <th>3</th>\n",
       "      <td>East China</td>\n",
       "      <td>2712.34</td>\n",
       "      <td>26131</td>\n",
       "      <td>1227364</td>\n",
       "    </tr>\n",
       "    <tr>\n",
       "      <th>4</th>\n",
       "      <td>East China</td>\n",
       "      <td>2902.09</td>\n",
       "      <td>31847</td>\n",
       "      <td>1499110</td>\n",
       "    </tr>\n",
       "    <tr>\n",
       "      <th>...</th>\n",
       "      <td>...</td>\n",
       "      <td>...</td>\n",
       "      <td>...</td>\n",
       "      <td>...</td>\n",
       "    </tr>\n",
       "    <tr>\n",
       "      <th>354</th>\n",
       "      <td>East China</td>\n",
       "      <td>8003.67</td>\n",
       "      <td>307610</td>\n",
       "      <td>1962633</td>\n",
       "    </tr>\n",
       "    <tr>\n",
       "      <th>355</th>\n",
       "      <td>East China</td>\n",
       "      <td>9705.02</td>\n",
       "      <td>498055</td>\n",
       "      <td>2261631</td>\n",
       "    </tr>\n",
       "    <tr>\n",
       "      <th>356</th>\n",
       "      <td>East China</td>\n",
       "      <td>11648.70</td>\n",
       "      <td>668128</td>\n",
       "      <td>3162299</td>\n",
       "    </tr>\n",
       "    <tr>\n",
       "      <th>357</th>\n",
       "      <td>East China</td>\n",
       "      <td>13417.68</td>\n",
       "      <td>772000</td>\n",
       "      <td>2370200</td>\n",
       "    </tr>\n",
       "    <tr>\n",
       "      <th>358</th>\n",
       "      <td>East China</td>\n",
       "      <td>15718.47</td>\n",
       "      <td>888935</td>\n",
       "      <td>2553268</td>\n",
       "    </tr>\n",
       "  </tbody>\n",
       "</table>\n",
       "<p>78 rows × 4 columns</p>\n",
       "</div>"
      ],
      "text/plain": [
       "         region       gdp     fdi       it\n",
       "0    East China   2093.30   50661   631930\n",
       "1    East China   2347.32   43443   657860\n",
       "2    East China   2542.96   27673   889463\n",
       "3    East China   2712.34   26131  1227364\n",
       "4    East China   2902.09   31847  1499110\n",
       "..          ...       ...     ...      ...\n",
       "354  East China   8003.67  307610  1962633\n",
       "355  East China   9705.02  498055  2261631\n",
       "356  East China  11648.70  668128  3162299\n",
       "357  East China  13417.68  772000  2370200\n",
       "358  East China  15718.47  888935  2553268\n",
       "\n",
       "[78 rows x 4 columns]"
      ]
     },
     "execution_count": 114,
     "metadata": {},
     "output_type": "execute_result"
    }
   ],
   "source": [
    "experimental_table[experimental_table[test_cells]==treatment]"
   ]
  },
  {
   "cell_type": "code",
   "execution_count": 113,
   "metadata": {},
   "outputs": [
    {
     "data": {
      "text/html": [
       "<div>\n",
       "<style scoped>\n",
       "    .dataframe tbody tr th:only-of-type {\n",
       "        vertical-align: middle;\n",
       "    }\n",
       "\n",
       "    .dataframe tbody tr th {\n",
       "        vertical-align: top;\n",
       "    }\n",
       "\n",
       "    .dataframe thead th {\n",
       "        text-align: right;\n",
       "    }\n",
       "</style>\n",
       "<table border=\"1\" class=\"dataframe\">\n",
       "  <thead>\n",
       "    <tr style=\"text-align: right;\">\n",
       "      <th></th>\n",
       "      <th>region</th>\n",
       "      <th>gdp</th>\n",
       "      <th>fdi</th>\n",
       "      <th>it</th>\n",
       "    </tr>\n",
       "  </thead>\n",
       "  <tbody>\n",
       "    <tr>\n",
       "      <th>24</th>\n",
       "      <td>Southwest China</td>\n",
       "      <td>1315.12</td>\n",
       "      <td>21878</td>\n",
       "      <td>176802</td>\n",
       "    </tr>\n",
       "    <tr>\n",
       "      <th>25</th>\n",
       "      <td>Southwest China</td>\n",
       "      <td>1509.75</td>\n",
       "      <td>38675</td>\n",
       "      <td>383402</td>\n",
       "    </tr>\n",
       "    <tr>\n",
       "      <th>26</th>\n",
       "      <td>Southwest China</td>\n",
       "      <td>1602.38</td>\n",
       "      <td>43107</td>\n",
       "      <td>535036</td>\n",
       "    </tr>\n",
       "    <tr>\n",
       "      <th>27</th>\n",
       "      <td>Southwest China</td>\n",
       "      <td>1663.20</td>\n",
       "      <td>23893</td>\n",
       "      <td>733232</td>\n",
       "    </tr>\n",
       "    <tr>\n",
       "      <th>28</th>\n",
       "      <td>Southwest China</td>\n",
       "      <td>1791.00</td>\n",
       "      <td>24436</td>\n",
       "      <td>1022148</td>\n",
       "    </tr>\n",
       "    <tr>\n",
       "      <th>29</th>\n",
       "      <td>Southwest China</td>\n",
       "      <td>1976.86</td>\n",
       "      <td>25649</td>\n",
       "      <td>1391668</td>\n",
       "    </tr>\n",
       "    <tr>\n",
       "      <th>30</th>\n",
       "      <td>Southwest China</td>\n",
       "      <td>2232.86</td>\n",
       "      <td>19576</td>\n",
       "      <td>1906968</td>\n",
       "    </tr>\n",
       "    <tr>\n",
       "      <th>31</th>\n",
       "      <td>Southwest China</td>\n",
       "      <td>2555.72</td>\n",
       "      <td>26083</td>\n",
       "      <td>1778125</td>\n",
       "    </tr>\n",
       "    <tr>\n",
       "      <th>32</th>\n",
       "      <td>Southwest China</td>\n",
       "      <td>3034.58</td>\n",
       "      <td>40508</td>\n",
       "      <td>2197948</td>\n",
       "    </tr>\n",
       "    <tr>\n",
       "      <th>33</th>\n",
       "      <td>Southwest China</td>\n",
       "      <td>3467.72</td>\n",
       "      <td>51600</td>\n",
       "      <td>2460625</td>\n",
       "    </tr>\n",
       "    <tr>\n",
       "      <th>34</th>\n",
       "      <td>Southwest China</td>\n",
       "      <td>3907.23</td>\n",
       "      <td>69595</td>\n",
       "      <td>3124234</td>\n",
       "    </tr>\n",
       "    <tr>\n",
       "      <th>35</th>\n",
       "      <td>Southwest China</td>\n",
       "      <td>4676.13</td>\n",
       "      <td>108534</td>\n",
       "      <td>3923569</td>\n",
       "    </tr>\n",
       "    <tr>\n",
       "      <th>84</th>\n",
       "      <td>Southwest China</td>\n",
       "      <td>723.18</td>\n",
       "      <td>3138</td>\n",
       "      <td>544543</td>\n",
       "    </tr>\n",
       "    <tr>\n",
       "      <th>85</th>\n",
       "      <td>Southwest China</td>\n",
       "      <td>805.79</td>\n",
       "      <td>4977</td>\n",
       "      <td>582711</td>\n",
       "    </tr>\n",
       "    <tr>\n",
       "      <th>86</th>\n",
       "      <td>Southwest China</td>\n",
       "      <td>858.39</td>\n",
       "      <td>4535</td>\n",
       "      <td>708448</td>\n",
       "    </tr>\n",
       "    <tr>\n",
       "      <th>87</th>\n",
       "      <td>Southwest China</td>\n",
       "      <td>937.50</td>\n",
       "      <td>4090</td>\n",
       "      <td>959089</td>\n",
       "    </tr>\n",
       "    <tr>\n",
       "      <th>88</th>\n",
       "      <td>Southwest China</td>\n",
       "      <td>1029.92</td>\n",
       "      <td>2501</td>\n",
       "      <td>1216605</td>\n",
       "    </tr>\n",
       "    <tr>\n",
       "      <th>89</th>\n",
       "      <td>Southwest China</td>\n",
       "      <td>1133.27</td>\n",
       "      <td>2829</td>\n",
       "      <td>1730868</td>\n",
       "    </tr>\n",
       "    <tr>\n",
       "      <th>90</th>\n",
       "      <td>Southwest China</td>\n",
       "      <td>1243.43</td>\n",
       "      <td>3821</td>\n",
       "      <td>2072426</td>\n",
       "    </tr>\n",
       "    <tr>\n",
       "      <th>91</th>\n",
       "      <td>Southwest China</td>\n",
       "      <td>1426.34</td>\n",
       "      <td>4521</td>\n",
       "      <td>2138158</td>\n",
       "    </tr>\n",
       "    <tr>\n",
       "      <th>92</th>\n",
       "      <td>Southwest China</td>\n",
       "      <td>1677.80</td>\n",
       "      <td>6533</td>\n",
       "      <td>2795048</td>\n",
       "    </tr>\n",
       "    <tr>\n",
       "      <th>93</th>\n",
       "      <td>Southwest China</td>\n",
       "      <td>2005.42</td>\n",
       "      <td>10768</td>\n",
       "      <td>3310025</td>\n",
       "    </tr>\n",
       "    <tr>\n",
       "      <th>94</th>\n",
       "      <td>Southwest China</td>\n",
       "      <td>2338.98</td>\n",
       "      <td>9384</td>\n",
       "      <td>3893879</td>\n",
       "    </tr>\n",
       "    <tr>\n",
       "      <th>95</th>\n",
       "      <td>Southwest China</td>\n",
       "      <td>2884.11</td>\n",
       "      <td>12651</td>\n",
       "      <td>5639838</td>\n",
       "    </tr>\n",
       "    <tr>\n",
       "      <th>288</th>\n",
       "      <td>Southwest China</td>\n",
       "      <td>2871.65</td>\n",
       "      <td>22519</td>\n",
       "      <td>1146410</td>\n",
       "    </tr>\n",
       "    <tr>\n",
       "      <th>289</th>\n",
       "      <td>Southwest China</td>\n",
       "      <td>3241.47</td>\n",
       "      <td>24846</td>\n",
       "      <td>1036645</td>\n",
       "    </tr>\n",
       "    <tr>\n",
       "      <th>290</th>\n",
       "      <td>Southwest China</td>\n",
       "      <td>3474.09</td>\n",
       "      <td>37248</td>\n",
       "      <td>1235603</td>\n",
       "    </tr>\n",
       "    <tr>\n",
       "      <th>291</th>\n",
       "      <td>Southwest China</td>\n",
       "      <td>3649.12</td>\n",
       "      <td>34101</td>\n",
       "      <td>1598484</td>\n",
       "    </tr>\n",
       "    <tr>\n",
       "      <th>292</th>\n",
       "      <td>Southwest China</td>\n",
       "      <td>3928.20</td>\n",
       "      <td>43694</td>\n",
       "      <td>2268499</td>\n",
       "    </tr>\n",
       "    <tr>\n",
       "      <th>293</th>\n",
       "      <td>Southwest China</td>\n",
       "      <td>4293.49</td>\n",
       "      <td>58188</td>\n",
       "      <td>3334591</td>\n",
       "    </tr>\n",
       "    <tr>\n",
       "      <th>294</th>\n",
       "      <td>Southwest China</td>\n",
       "      <td>4725.01</td>\n",
       "      <td>55583</td>\n",
       "      <td>4062020</td>\n",
       "    </tr>\n",
       "    <tr>\n",
       "      <th>295</th>\n",
       "      <td>Southwest China</td>\n",
       "      <td>5333.09</td>\n",
       "      <td>41231</td>\n",
       "      <td>4039036</td>\n",
       "    </tr>\n",
       "    <tr>\n",
       "      <th>296</th>\n",
       "      <td>Southwest China</td>\n",
       "      <td>6379.63</td>\n",
       "      <td>70129</td>\n",
       "      <td>5367210</td>\n",
       "    </tr>\n",
       "    <tr>\n",
       "      <th>297</th>\n",
       "      <td>Southwest China</td>\n",
       "      <td>7385.10</td>\n",
       "      <td>88686</td>\n",
       "      <td>6077526</td>\n",
       "    </tr>\n",
       "    <tr>\n",
       "      <th>298</th>\n",
       "      <td>Southwest China</td>\n",
       "      <td>8690.24</td>\n",
       "      <td>120819</td>\n",
       "      <td>7646885</td>\n",
       "    </tr>\n",
       "    <tr>\n",
       "      <th>299</th>\n",
       "      <td>Southwest China</td>\n",
       "      <td>10562.39</td>\n",
       "      <td>149322</td>\n",
       "      <td>10384846</td>\n",
       "    </tr>\n",
       "    <tr>\n",
       "      <th>312</th>\n",
       "      <td>Southwest China</td>\n",
       "      <td>64.98</td>\n",
       "      <td>679</td>\n",
       "      <td>306114</td>\n",
       "    </tr>\n",
       "    <tr>\n",
       "      <th>313</th>\n",
       "      <td>Southwest China</td>\n",
       "      <td>77.24</td>\n",
       "      <td>63</td>\n",
       "      <td>346368</td>\n",
       "    </tr>\n",
       "    <tr>\n",
       "      <th>314</th>\n",
       "      <td>Southwest China</td>\n",
       "      <td>91.50</td>\n",
       "      <td>481</td>\n",
       "      <td>415547</td>\n",
       "    </tr>\n",
       "    <tr>\n",
       "      <th>315</th>\n",
       "      <td>Southwest China</td>\n",
       "      <td>105.98</td>\n",
       "      <td>196</td>\n",
       "      <td>572711</td>\n",
       "    </tr>\n",
       "    <tr>\n",
       "      <th>316</th>\n",
       "      <td>Southwest China</td>\n",
       "      <td>117.80</td>\n",
       "      <td>2</td>\n",
       "      <td>632880</td>\n",
       "    </tr>\n",
       "    <tr>\n",
       "      <th>317</th>\n",
       "      <td>Southwest China</td>\n",
       "      <td>139.16</td>\n",
       "      <td>106</td>\n",
       "      <td>983251</td>\n",
       "    </tr>\n",
       "    <tr>\n",
       "      <th>318</th>\n",
       "      <td>Southwest China</td>\n",
       "      <td>162.04</td>\n",
       "      <td>293</td>\n",
       "      <td>1308445</td>\n",
       "    </tr>\n",
       "    <tr>\n",
       "      <th>319</th>\n",
       "      <td>Southwest China</td>\n",
       "      <td>185.09</td>\n",
       "      <td>467</td>\n",
       "      <td>1333133</td>\n",
       "    </tr>\n",
       "    <tr>\n",
       "      <th>320</th>\n",
       "      <td>Southwest China</td>\n",
       "      <td>220.34</td>\n",
       "      <td>2699</td>\n",
       "      <td>1357285</td>\n",
       "    </tr>\n",
       "    <tr>\n",
       "      <th>321</th>\n",
       "      <td>Southwest China</td>\n",
       "      <td>248.80</td>\n",
       "      <td>1151</td>\n",
       "      <td>1912868</td>\n",
       "    </tr>\n",
       "    <tr>\n",
       "      <th>322</th>\n",
       "      <td>Southwest China</td>\n",
       "      <td>290.76</td>\n",
       "      <td>1522</td>\n",
       "      <td>2053980</td>\n",
       "    </tr>\n",
       "    <tr>\n",
       "      <th>323</th>\n",
       "      <td>Southwest China</td>\n",
       "      <td>341.43</td>\n",
       "      <td>2418</td>\n",
       "      <td>2867525</td>\n",
       "    </tr>\n",
       "    <tr>\n",
       "      <th>336</th>\n",
       "      <td>Southwest China</td>\n",
       "      <td>1517.69</td>\n",
       "      <td>18000</td>\n",
       "      <td>1374111</td>\n",
       "    </tr>\n",
       "    <tr>\n",
       "      <th>337</th>\n",
       "      <td>Southwest China</td>\n",
       "      <td>1676.17</td>\n",
       "      <td>16566</td>\n",
       "      <td>1452425</td>\n",
       "    </tr>\n",
       "    <tr>\n",
       "      <th>338</th>\n",
       "      <td>Southwest China</td>\n",
       "      <td>1831.33</td>\n",
       "      <td>14568</td>\n",
       "      <td>1617463</td>\n",
       "    </tr>\n",
       "    <tr>\n",
       "      <th>339</th>\n",
       "      <td>Southwest China</td>\n",
       "      <td>1899.82</td>\n",
       "      <td>15385</td>\n",
       "      <td>1888666</td>\n",
       "    </tr>\n",
       "    <tr>\n",
       "      <th>340</th>\n",
       "      <td>Southwest China</td>\n",
       "      <td>2011.19</td>\n",
       "      <td>12812</td>\n",
       "      <td>2254281</td>\n",
       "    </tr>\n",
       "    <tr>\n",
       "      <th>341</th>\n",
       "      <td>Southwest China</td>\n",
       "      <td>2138.31</td>\n",
       "      <td>6457</td>\n",
       "      <td>2856307</td>\n",
       "    </tr>\n",
       "    <tr>\n",
       "      <th>342</th>\n",
       "      <td>Southwest China</td>\n",
       "      <td>2312.82</td>\n",
       "      <td>11169</td>\n",
       "      <td>3035767</td>\n",
       "    </tr>\n",
       "    <tr>\n",
       "      <th>343</th>\n",
       "      <td>Southwest China</td>\n",
       "      <td>2556.02</td>\n",
       "      <td>8384</td>\n",
       "      <td>3388449</td>\n",
       "    </tr>\n",
       "    <tr>\n",
       "      <th>344</th>\n",
       "      <td>Southwest China</td>\n",
       "      <td>3081.91</td>\n",
       "      <td>14200</td>\n",
       "      <td>3957158</td>\n",
       "    </tr>\n",
       "    <tr>\n",
       "      <th>345</th>\n",
       "      <td>Southwest China</td>\n",
       "      <td>3462.73</td>\n",
       "      <td>17352</td>\n",
       "      <td>4280994</td>\n",
       "    </tr>\n",
       "    <tr>\n",
       "      <th>346</th>\n",
       "      <td>Southwest China</td>\n",
       "      <td>3988.14</td>\n",
       "      <td>30234</td>\n",
       "      <td>5046865</td>\n",
       "    </tr>\n",
       "    <tr>\n",
       "      <th>347</th>\n",
       "      <td>Southwest China</td>\n",
       "      <td>4772.52</td>\n",
       "      <td>39453</td>\n",
       "      <td>6832541</td>\n",
       "    </tr>\n",
       "  </tbody>\n",
       "</table>\n",
       "</div>"
      ],
      "text/plain": [
       "              region       gdp     fdi        it\n",
       "24   Southwest China   1315.12   21878    176802\n",
       "25   Southwest China   1509.75   38675    383402\n",
       "26   Southwest China   1602.38   43107    535036\n",
       "27   Southwest China   1663.20   23893    733232\n",
       "28   Southwest China   1791.00   24436   1022148\n",
       "29   Southwest China   1976.86   25649   1391668\n",
       "30   Southwest China   2232.86   19576   1906968\n",
       "31   Southwest China   2555.72   26083   1778125\n",
       "32   Southwest China   3034.58   40508   2197948\n",
       "33   Southwest China   3467.72   51600   2460625\n",
       "34   Southwest China   3907.23   69595   3124234\n",
       "35   Southwest China   4676.13  108534   3923569\n",
       "84   Southwest China    723.18    3138    544543\n",
       "85   Southwest China    805.79    4977    582711\n",
       "86   Southwest China    858.39    4535    708448\n",
       "87   Southwest China    937.50    4090    959089\n",
       "88   Southwest China   1029.92    2501   1216605\n",
       "89   Southwest China   1133.27    2829   1730868\n",
       "90   Southwest China   1243.43    3821   2072426\n",
       "91   Southwest China   1426.34    4521   2138158\n",
       "92   Southwest China   1677.80    6533   2795048\n",
       "93   Southwest China   2005.42   10768   3310025\n",
       "94   Southwest China   2338.98    9384   3893879\n",
       "95   Southwest China   2884.11   12651   5639838\n",
       "288  Southwest China   2871.65   22519   1146410\n",
       "289  Southwest China   3241.47   24846   1036645\n",
       "290  Southwest China   3474.09   37248   1235603\n",
       "291  Southwest China   3649.12   34101   1598484\n",
       "292  Southwest China   3928.20   43694   2268499\n",
       "293  Southwest China   4293.49   58188   3334591\n",
       "294  Southwest China   4725.01   55583   4062020\n",
       "295  Southwest China   5333.09   41231   4039036\n",
       "296  Southwest China   6379.63   70129   5367210\n",
       "297  Southwest China   7385.10   88686   6077526\n",
       "298  Southwest China   8690.24  120819   7646885\n",
       "299  Southwest China  10562.39  149322  10384846\n",
       "312  Southwest China     64.98     679    306114\n",
       "313  Southwest China     77.24      63    346368\n",
       "314  Southwest China     91.50     481    415547\n",
       "315  Southwest China    105.98     196    572711\n",
       "316  Southwest China    117.80       2    632880\n",
       "317  Southwest China    139.16     106    983251\n",
       "318  Southwest China    162.04     293   1308445\n",
       "319  Southwest China    185.09     467   1333133\n",
       "320  Southwest China    220.34    2699   1357285\n",
       "321  Southwest China    248.80    1151   1912868\n",
       "322  Southwest China    290.76    1522   2053980\n",
       "323  Southwest China    341.43    2418   2867525\n",
       "336  Southwest China   1517.69   18000   1374111\n",
       "337  Southwest China   1676.17   16566   1452425\n",
       "338  Southwest China   1831.33   14568   1617463\n",
       "339  Southwest China   1899.82   15385   1888666\n",
       "340  Southwest China   2011.19   12812   2254281\n",
       "341  Southwest China   2138.31    6457   2856307\n",
       "342  Southwest China   2312.82   11169   3035767\n",
       "343  Southwest China   2556.02    8384   3388449\n",
       "344  Southwest China   3081.91   14200   3957158\n",
       "345  Southwest China   3462.73   17352   4280994\n",
       "346  Southwest China   3988.14   30234   5046865\n",
       "347  Southwest China   4772.52   39453   6832541"
      ]
     },
     "execution_count": 113,
     "metadata": {},
     "output_type": "execute_result"
    }
   ],
   "source": []
  },
  {
   "cell_type": "code",
   "execution_count": null,
   "metadata": {},
   "outputs": [],
   "source": []
  },
  {
   "cell_type": "code",
   "execution_count": 148,
   "metadata": {},
   "outputs": [
    {
     "data": {
      "text/html": [
       "<div>\n",
       "<style scoped>\n",
       "    .dataframe tbody tr th:only-of-type {\n",
       "        vertical-align: middle;\n",
       "    }\n",
       "\n",
       "    .dataframe tbody tr th {\n",
       "        vertical-align: top;\n",
       "    }\n",
       "\n",
       "    .dataframe thead th {\n",
       "        text-align: right;\n",
       "    }\n",
       "</style>\n",
       "<table border=\"1\" class=\"dataframe\">\n",
       "  <thead>\n",
       "    <tr style=\"text-align: right;\">\n",
       "      <th></th>\n",
       "      <th>size</th>\n",
       "      <th>mean</th>\n",
       "      <th>std</th>\n",
       "    </tr>\n",
       "    <tr>\n",
       "      <th>region</th>\n",
       "      <th></th>\n",
       "      <th></th>\n",
       "      <th></th>\n",
       "    </tr>\n",
       "  </thead>\n",
       "  <tbody>\n",
       "    <tr>\n",
       "      <th>East China</th>\n",
       "      <td>78</td>\n",
       "      <td>6070.604231</td>\n",
       "      <td>3500.372702</td>\n",
       "    </tr>\n",
       "    <tr>\n",
       "      <th>North China</th>\n",
       "      <td>48</td>\n",
       "      <td>4239.038542</td>\n",
       "      <td>2866.705149</td>\n",
       "    </tr>\n",
       "    <tr>\n",
       "      <th>Southwest China</th>\n",
       "      <td>60</td>\n",
       "      <td>2410.398833</td>\n",
       "      <td>2144.589994</td>\n",
       "    </tr>\n",
       "    <tr>\n",
       "      <th>Northwest China</th>\n",
       "      <td>60</td>\n",
       "      <td>1340.026167</td>\n",
       "      <td>1174.399739</td>\n",
       "    </tr>\n",
       "    <tr>\n",
       "      <th>South Central China</th>\n",
       "      <td>68</td>\n",
       "      <td>4835.540882</td>\n",
       "      <td>3697.129915</td>\n",
       "    </tr>\n",
       "    <tr>\n",
       "      <th>Northeast China</th>\n",
       "      <td>36</td>\n",
       "      <td>3849.076944</td>\n",
       "      <td>1948.531835</td>\n",
       "    </tr>\n",
       "  </tbody>\n",
       "</table>\n",
       "</div>"
      ],
      "text/plain": [
       "                     size         mean          std\n",
       "region                                             \n",
       "East China             78  6070.604231  3500.372702\n",
       "North China            48  4239.038542  2866.705149\n",
       "Southwest China        60  2410.398833  2144.589994\n",
       "Northwest China        60  1340.026167  1174.399739\n",
       "South Central China    68  4835.540882  3697.129915\n",
       "Northeast China        36  3849.076944  1948.531835"
      ]
     },
     "execution_count": 148,
     "metadata": {},
     "output_type": "execute_result"
    }
   ],
   "source": [
    "column = 'gdp'\n",
    "grouped_table = experimental_table.groupby(groupby_feature, as_index=False, sort=False)[column].agg(['size', 'mean', 'std'])\n",
    "grouped_table"
   ]
  },
  {
   "cell_type": "code",
   "execution_count": null,
   "metadata": {},
   "outputs": [],
   "source": []
  },
  {
   "cell_type": "code",
   "execution_count": 149,
   "metadata": {},
   "outputs": [
    {
     "data": {
      "text/plain": [
       "Index(['East China', 'North China', 'Southwest China', 'Northwest China',\n",
       "       'South Central China', 'Northeast China'],\n",
       "      dtype='object', name='region')"
      ]
     },
     "execution_count": 149,
     "metadata": {},
     "output_type": "execute_result"
    }
   ],
   "source": [
    "grouped_table.index"
   ]
  },
  {
   "cell_type": "code",
   "execution_count": 150,
   "metadata": {},
   "outputs": [],
   "source": [
    "# grouped_table['groupby_feature']=grouped_table.index\n",
    "# grouped_table['groupby_feature']"
   ]
  },
  {
   "cell_type": "code",
   "execution_count": 151,
   "metadata": {},
   "outputs": [
    {
     "data": {
      "text/plain": [
       "Index(['size', 'mean', 'std'], dtype='object')"
      ]
     },
     "execution_count": 151,
     "metadata": {},
     "output_type": "execute_result"
    }
   ],
   "source": [
    "grouped_table.columns"
   ]
  },
  {
   "cell_type": "code",
   "execution_count": 152,
   "metadata": {},
   "outputs": [
    {
     "data": {
      "text/html": [
       "<div>\n",
       "<style scoped>\n",
       "    .dataframe tbody tr th:only-of-type {\n",
       "        vertical-align: middle;\n",
       "    }\n",
       "\n",
       "    .dataframe tbody tr th {\n",
       "        vertical-align: top;\n",
       "    }\n",
       "\n",
       "    .dataframe thead th {\n",
       "        text-align: right;\n",
       "    }\n",
       "</style>\n",
       "<table border=\"1\" class=\"dataframe\">\n",
       "  <thead>\n",
       "    <tr style=\"text-align: right;\">\n",
       "      <th></th>\n",
       "      <th>size</th>\n",
       "      <th>mean</th>\n",
       "      <th>std</th>\n",
       "    </tr>\n",
       "    <tr>\n",
       "      <th>region</th>\n",
       "      <th></th>\n",
       "      <th></th>\n",
       "      <th></th>\n",
       "    </tr>\n",
       "  </thead>\n",
       "  <tbody>\n",
       "    <tr>\n",
       "      <th>East China</th>\n",
       "      <td>78</td>\n",
       "      <td>6070.604231</td>\n",
       "      <td>3500.372702</td>\n",
       "    </tr>\n",
       "    <tr>\n",
       "      <th>North China</th>\n",
       "      <td>48</td>\n",
       "      <td>4239.038542</td>\n",
       "      <td>2866.705149</td>\n",
       "    </tr>\n",
       "    <tr>\n",
       "      <th>Southwest China</th>\n",
       "      <td>60</td>\n",
       "      <td>2410.398833</td>\n",
       "      <td>2144.589994</td>\n",
       "    </tr>\n",
       "    <tr>\n",
       "      <th>Northwest China</th>\n",
       "      <td>60</td>\n",
       "      <td>1340.026167</td>\n",
       "      <td>1174.399739</td>\n",
       "    </tr>\n",
       "    <tr>\n",
       "      <th>South Central China</th>\n",
       "      <td>68</td>\n",
       "      <td>4835.540882</td>\n",
       "      <td>3697.129915</td>\n",
       "    </tr>\n",
       "    <tr>\n",
       "      <th>Northeast China</th>\n",
       "      <td>36</td>\n",
       "      <td>3849.076944</td>\n",
       "      <td>1948.531835</td>\n",
       "    </tr>\n",
       "  </tbody>\n",
       "</table>\n",
       "</div>"
      ],
      "text/plain": [
       "                     size         mean          std\n",
       "region                                             \n",
       "East China             78  6070.604231  3500.372702\n",
       "North China            48  4239.038542  2866.705149\n",
       "Southwest China        60  2410.398833  2144.589994\n",
       "Northwest China        60  1340.026167  1174.399739\n",
       "South Central China    68  4835.540882  3697.129915\n",
       "Northeast China        36  3849.076944  1948.531835"
      ]
     },
     "execution_count": 152,
     "metadata": {},
     "output_type": "execute_result"
    }
   ],
   "source": [
    "grouped_table"
   ]
  },
  {
   "cell_type": "code",
   "execution_count": 154,
   "metadata": {},
   "outputs": [
    {
     "data": {
      "text/html": [
       "<div>\n",
       "<style scoped>\n",
       "    .dataframe tbody tr th:only-of-type {\n",
       "        vertical-align: middle;\n",
       "    }\n",
       "\n",
       "    .dataframe tbody tr th {\n",
       "        vertical-align: top;\n",
       "    }\n",
       "\n",
       "    .dataframe thead th {\n",
       "        text-align: right;\n",
       "    }\n",
       "</style>\n",
       "<table border=\"1\" class=\"dataframe\">\n",
       "  <thead>\n",
       "    <tr style=\"text-align: right;\">\n",
       "      <th></th>\n",
       "      <th>count</th>\n",
       "      <th>mean</th>\n",
       "      <th>stddev_mean</th>\n",
       "    </tr>\n",
       "    <tr>\n",
       "      <th>region</th>\n",
       "      <th></th>\n",
       "      <th></th>\n",
       "      <th></th>\n",
       "    </tr>\n",
       "  </thead>\n",
       "  <tbody>\n",
       "    <tr>\n",
       "      <th>East China</th>\n",
       "      <td>78</td>\n",
       "      <td>6070.604231</td>\n",
       "      <td>3500.372702</td>\n",
       "    </tr>\n",
       "    <tr>\n",
       "      <th>North China</th>\n",
       "      <td>48</td>\n",
       "      <td>4239.038542</td>\n",
       "      <td>2866.705149</td>\n",
       "    </tr>\n",
       "    <tr>\n",
       "      <th>Southwest China</th>\n",
       "      <td>60</td>\n",
       "      <td>2410.398833</td>\n",
       "      <td>2144.589994</td>\n",
       "    </tr>\n",
       "    <tr>\n",
       "      <th>Northwest China</th>\n",
       "      <td>60</td>\n",
       "      <td>1340.026167</td>\n",
       "      <td>1174.399739</td>\n",
       "    </tr>\n",
       "    <tr>\n",
       "      <th>South Central China</th>\n",
       "      <td>68</td>\n",
       "      <td>4835.540882</td>\n",
       "      <td>3697.129915</td>\n",
       "    </tr>\n",
       "    <tr>\n",
       "      <th>Northeast China</th>\n",
       "      <td>36</td>\n",
       "      <td>3849.076944</td>\n",
       "      <td>1948.531835</td>\n",
       "    </tr>\n",
       "  </tbody>\n",
       "</table>\n",
       "</div>"
      ],
      "text/plain": [
       "                     count         mean  stddev_mean\n",
       "region                                              \n",
       "East China              78  6070.604231  3500.372702\n",
       "North China             48  4239.038542  2866.705149\n",
       "Southwest China         60  2410.398833  2144.589994\n",
       "Northwest China         60  1340.026167  1174.399739\n",
       "South Central China     68  4835.540882  3697.129915\n",
       "Northeast China         36  3849.076944  1948.531835"
      ]
     },
     "execution_count": 154,
     "metadata": {},
     "output_type": "execute_result"
    }
   ],
   "source": [
    "grouped_table.columns = ['count', 'mean', 'stddev_mean']\n",
    "grouped_table"
   ]
  },
  {
   "cell_type": "code",
   "execution_count": null,
   "metadata": {},
   "outputs": [],
   "source": [
    "control, treatment, counts_control, counts_treatment, p_value, delta = ttest_ind_from_stats(grouped_table, 'mean', grouped_table.index[0], grouped_table.index[1], column, test_cell=groupby_feature)"
   ]
  },
  {
   "cell_type": "code",
   "execution_count": null,
   "metadata": {},
   "outputs": [],
   "source": []
  },
  {
   "cell_type": "code",
   "execution_count": null,
   "metadata": {},
   "outputs": [],
   "source": [
    "t_statistic, p_value = ttest_ind_from_stats(mean1=mean_treatment, std1=standard_deviation_treatment, nobs1=counts_treatment,mean2=mean_control,std2=standard_deviation_control,nobs2=counts_control)\n"
   ]
  },
  {
   "cell_type": "code",
   "execution_count": null,
   "metadata": {},
   "outputs": [],
   "source": []
  },
  {
   "cell_type": "code",
   "execution_count": null,
   "metadata": {},
   "outputs": [],
   "source": [
    "counts_control = 1000\n",
    "counts_treatment = 2000\n",
    "\n",
    "mean_control = 50\n",
    "mean_treatment = 100\n",
    "\n",
    "standard_deviation_treatment=.5\n",
    "standard_deviation_control=.5\n",
    "\n",
    "\n",
    "\n"
   ]
  },
  {
   "cell_type": "code",
   "execution_count": null,
   "metadata": {},
   "outputs": [],
   "source": []
  },
  {
   "cell_type": "code",
   "execution_count": null,
   "metadata": {},
   "outputs": [],
   "source": []
  },
  {
   "cell_type": "code",
   "execution_count": 120,
   "metadata": {},
   "outputs": [
    {
     "data": {
      "text/plain": [
       "0      East China\n",
       "1      East China\n",
       "2      East China\n",
       "3      East China\n",
       "4      East China\n",
       "          ...    \n",
       "355    East China\n",
       "356    East China\n",
       "357    East China\n",
       "358    East China\n",
       "359    East China\n",
       "Name: region, Length: 360, dtype: object"
      ]
     },
     "execution_count": 120,
     "metadata": {},
     "output_type": "execute_result"
    }
   ],
   "source": []
  },
  {
   "cell_type": "code",
   "execution_count": null,
   "metadata": {},
   "outputs": [],
   "source": []
  },
  {
   "cell_type": "code",
   "execution_count": null,
   "metadata": {},
   "outputs": [],
   "source": []
  },
  {
   "cell_type": "code",
   "execution_count": null,
   "metadata": {},
   "outputs": [],
   "source": []
  },
  {
   "cell_type": "code",
   "execution_count": null,
   "metadata": {},
   "outputs": [],
   "source": []
  },
  {
   "cell_type": "code",
   "execution_count": 104,
   "metadata": {},
   "outputs": [],
   "source": [
    "counts_control = experimental_table"
   ]
  },
  {
   "cell_type": "code",
   "execution_count": null,
   "metadata": {},
   "outputs": [],
   "source": []
  },
  {
   "cell_type": "code",
   "execution_count": null,
   "metadata": {},
   "outputs": [],
   "source": []
  },
  {
   "cell_type": "code",
   "execution_count": null,
   "metadata": {},
   "outputs": [],
   "source": []
  },
  {
   "cell_type": "code",
   "execution_count": null,
   "metadata": {},
   "outputs": [],
   "source": []
  },
  {
   "cell_type": "code",
   "execution_count": null,
   "metadata": {},
   "outputs": [],
   "source": []
  },
  {
   "cell_type": "code",
   "execution_count": null,
   "metadata": {},
   "outputs": [],
   "source": []
  },
  {
   "cell_type": "code",
   "execution_count": 92,
   "metadata": {},
   "outputs": [
    {
     "data": {
      "text/plain": [
       "False"
      ]
     },
     "execution_count": 92,
     "metadata": {},
     "output_type": "execute_result"
    }
   ],
   "source": [
    "[features]==treatment"
   ]
  },
  {
   "cell_type": "code",
   "execution_count": null,
   "metadata": {},
   "outputs": [],
   "source": [
    "][metric].values[0]"
   ]
  },
  {
   "cell_type": "code",
   "execution_count": 77,
   "metadata": {},
   "outputs": [
    {
     "name": "stdout",
     "output_type": "stream",
     "text": [
      "2581.9888974716114\n"
     ]
    }
   ],
   "source": [
    "from statsmodels.stats.power import NormalIndPower, TTestIndPower\n",
    "from scipy.stats import ttest_ind_from_stats\n",
    "import numpy as np\n",
    "\n",
    "\n",
    "\n",
    "\n",
    "standard_deviation_treatment=.5\n",
    "standard_deviation_control=.5\n",
    "counts_control = 1000\n",
    "counts_treatment = 2000\n",
    "mean_control = 50\n",
    "mean_treatment = 100\n",
    "\n",
    "\n",
    "\n",
    "t_statistic, p_value = ttest_ind_from_stats(mean1=mean_treatment, std1=standard_deviation_treatment, nobs1=counts_treatment,mean2=mean_control,std2=standard_deviation_control,nobs2=counts_control)\n",
    "\n",
    "t_statistic\n",
    "\n",
    "p_value\n",
    "\n",
    "\n",
    "print(t_statistic)\n",
    "\n",
    "\n",
    "\n"
   ]
  },
  {
   "cell_type": "code",
   "execution_count": null,
   "metadata": {},
   "outputs": [],
   "source": []
  },
  {
   "cell_type": "code",
   "execution_count": null,
   "metadata": {},
   "outputs": [],
   "source": []
  },
  {
   "cell_type": "code",
   "execution_count": null,
   "metadata": {},
   "outputs": [],
   "source": [
    "return t_statistic\n",
    "def ttest(table\n"
   ]
  },
  {
   "cell_type": "code",
   "execution_count": null,
   "metadata": {},
   "outputs": [],
   "source": []
  },
  {
   "cell_type": "code",
   "execution_count": null,
   "metadata": {},
   "outputs": [],
   "source": []
  },
  {
   "cell_type": "code",
   "execution_count": null,
   "metadata": {},
   "outputs": [],
   "source": [
    "t_statistic, p_value = ttest_ind_from_stats(mean1=mean_treatment, std1=standard_deviation_treatment, nobs1=counts_treatment,mean2=mean_control,std2=standard_deviation_control,nobs2=counts_control)"
   ]
  },
  {
   "cell_type": "code",
   "execution_count": null,
   "metadata": {},
   "outputs": [],
   "source": []
  },
  {
   "cell_type": "code",
   "execution_count": null,
   "metadata": {},
   "outputs": [],
   "source": []
  },
  {
   "cell_type": "code",
   "execution_count": null,
   "metadata": {},
   "outputs": [],
   "source": []
  },
  {
   "cell_type": "code",
   "execution_count": null,
   "metadata": {},
   "outputs": [],
   "source": []
  },
  {
   "cell_type": "code",
   "execution_count": null,
   "metadata": {},
   "outputs": [],
   "source": []
  },
  {
   "cell_type": "code",
   "execution_count": null,
   "metadata": {},
   "outputs": [],
   "source": []
  },
  {
   "cell_type": "code",
   "execution_count": null,
   "metadata": {},
   "outputs": [],
   "source": []
  },
  {
   "cell_type": "code",
   "execution_count": 75,
   "metadata": {},
   "outputs": [],
   "source": [
    "EastvNorth=pd.DataFrame()\n",
    "EastvNorth= ttest"
   ]
  },
  {
   "cell_type": "code",
   "execution_count": null,
   "metadata": {},
   "outputs": [],
   "source": []
  },
  {
   "cell_type": "code",
   "execution_count": null,
   "metadata": {},
   "outputs": [],
   "source": []
  },
  {
   "cell_type": "code",
   "execution_count": null,
   "metadata": {},
   "outputs": [],
   "source": []
  },
  {
   "cell_type": "code",
   "execution_count": null,
   "metadata": {},
   "outputs": [],
   "source": []
  },
  {
   "cell_type": "code",
   "execution_count": null,
   "metadata": {},
   "outputs": [],
   "source": []
  },
  {
   "cell_type": "code",
   "execution_count": null,
   "metadata": {},
   "outputs": [],
   "source": []
  },
  {
   "cell_type": "code",
   "execution_count": null,
   "metadata": {},
   "outputs": [],
   "source": []
  },
  {
   "cell_type": "code",
   "execution_count": null,
   "metadata": {},
   "outputs": [],
   "source": []
  },
  {
   "cell_type": "code",
   "execution_count": null,
   "metadata": {},
   "outputs": [],
   "source": []
  },
  {
   "cell_type": "code",
   "execution_count": null,
   "metadata": {},
   "outputs": [],
   "source": [
    "# at what level - iid assupmtions\n",
    "\n",
    "all obs are iid - 90 v. 30 not iid\n",
    "what level member - drug\n",
    "or member level iid assumption\n",
    "\n"
   ]
  },
  {
   "cell_type": "code",
   "execution_count": null,
   "metadata": {},
   "outputs": [],
   "source": []
  },
  {
   "cell_type": "code",
   "execution_count": null,
   "metadata": {},
   "outputs": [],
   "source": []
  },
  {
   "cell_type": "code",
   "execution_count": null,
   "metadata": {},
   "outputs": [],
   "source": []
  },
  {
   "cell_type": "code",
   "execution_count": null,
   "metadata": {},
   "outputs": [],
   "source": []
  },
  {
   "cell_type": "code",
   "execution_count": null,
   "metadata": {},
   "outputs": [],
   "source": []
  },
  {
   "cell_type": "code",
   "execution_count": null,
   "metadata": {},
   "outputs": [],
   "source": []
  },
  {
   "cell_type": "code",
   "execution_count": null,
   "metadata": {},
   "outputs": [],
   "source": []
  },
  {
   "cell_type": "code",
   "execution_count": null,
   "metadata": {},
   "outputs": [],
   "source": []
  },
  {
   "cell_type": "code",
   "execution_count": 29,
   "metadata": {},
   "outputs": [
    {
     "data": {
      "text/plain": [
       "<matplotlib.axes._subplots.AxesSubplot at 0x7f06d510acc0>"
      ]
     },
     "execution_count": 29,
     "metadata": {},
     "output_type": "execute_result"
    },
    {
     "data": {
      "image/png": "[encoded data removed]",
      "text/plain": [
       "<Figure size 432x288 with 1 Axes>"
      ]
     },
     "metadata": {
      "needs_background": "light"
     },
     "output_type": "display_data"
    }
   ],
   "source": [
    "sns.distplot(df['fdi'])"
   ]
  },
  {
   "cell_type": "code",
   "execution_count": 7,
   "metadata": {},
   "outputs": [],
   "source": [
    "table = df"
   ]
  },
  {
   "cell_type": "code",
   "execution_count": 10,
   "metadata": {},
   "outputs": [],
   "source": [
    "groups = df.region"
   ]
  },
  {
   "cell_type": "code",
   "execution_count": null,
   "metadata": {},
   "outputs": [],
   "source": [
    "counts_column="
   ]
  },
  {
   "cell_type": "code",
   "execution_count": null,
   "metadata": {},
   "outputs": [],
   "source": []
  },
  {
   "cell_type": "code",
   "execution_count": null,
   "metadata": {},
   "outputs": [],
   "source": []
  },
  {
   "cell_type": "code",
   "execution_count": null,
   "metadata": {},
   "outputs": [],
   "source": []
  },
  {
   "cell_type": "code",
   "execution_count": null,
   "metadata": {},
   "outputs": [],
   "source": []
  },
  {
   "cell_type": "code",
   "execution_count": 17,
   "metadata": {},
   "outputs": [],
   "source": [
    "groupby_feature =  df.region"
   ]
  },
  {
   "cell_type": "code",
   "execution_count": null,
   "metadata": {},
   "outputs": [],
   "source": []
  },
  {
   "cell_type": "code",
   "execution_count": 18,
   "metadata": {},
   "outputs": [
    {
     "ename": "NameError",
     "evalue": "name 'col' is not defined",
     "output_type": "error",
     "traceback": [
      "\u001b[0;31m---------------------------------------------------------------------------\u001b[0m",
      "\u001b[0;31mNameError\u001b[0m                                 Traceback (most recent call last)",
      "\u001b[0;32m<ipython-input-18-ef3c9c2ccfb6>\u001b[0m in \u001b[0;36m<module>\u001b[0;34m\u001b[0m\n\u001b[0;32m----> 1\u001b[0;31m \u001b[0mgroup_table\u001b[0m \u001b[0;34m=\u001b[0m \u001b[0mtable\u001b[0m\u001b[0;34m.\u001b[0m\u001b[0mgroupby\u001b[0m\u001b[0;34m(\u001b[0m\u001b[0mgroupby_feature\u001b[0m\u001b[0;34m,\u001b[0m \u001b[0mas_index\u001b[0m\u001b[0;34m=\u001b[0m\u001b[0;32mFalse\u001b[0m\u001b[0;34m)\u001b[0m\u001b[0;34m[\u001b[0m\u001b[0mcol\u001b[0m\u001b[0;34m]\u001b[0m\u001b[0;34m.\u001b[0m\u001b[0magg\u001b[0m\u001b[0;34m(\u001b[0m\u001b[0;34m[\u001b[0m\u001b[0;34m'size'\u001b[0m\u001b[0;34m,\u001b[0m \u001b[0;34m'mean'\u001b[0m\u001b[0;34m,\u001b[0m \u001b[0;34m'std'\u001b[0m\u001b[0;34m]\u001b[0m\u001b[0;34m)\u001b[0m\u001b[0;34m\u001b[0m\u001b[0;34m\u001b[0m\u001b[0m\n\u001b[0m",
      "\u001b[0;31mNameError\u001b[0m: name 'col' is not defined"
     ]
    }
   ],
   "source": [
    "group_table = table.groupby(groupby_feature, as_index=False)[col].agg(['size', 'mean', 'std'])"
   ]
  },
  {
   "cell_type": "code",
   "execution_count": null,
   "metadata": {},
   "outputs": [],
   "source": []
  },
  {
   "cell_type": "code",
   "execution_count": null,
   "metadata": {},
   "outputs": [],
   "source": []
  },
  {
   "cell_type": "code",
   "execution_count": null,
   "metadata": {},
   "outputs": [],
   "source": []
  },
  {
   "cell_type": "code",
   "execution_count": null,
   "metadata": {},
   "outputs": [],
   "source": []
  },
  {
   "cell_type": "code",
   "execution_count": null,
   "metadata": {},
   "outputs": [],
   "source": []
  },
  {
   "cell_type": "code",
   "execution_count": null,
   "metadata": {},
   "outputs": [],
   "source": []
  },
  {
   "cell_type": "code",
   "execution_count": 13,
   "metadata": {},
   "outputs": [],
   "source": [
    "hive_results_table = pd.DataFrame()"
   ]
  },
  {
   "cell_type": "code",
   "execution_count": 14,
   "metadata": {},
   "outputs": [
    {
     "data": {
      "text/html": [
       "<div>\n",
       "<style scoped>\n",
       "    .dataframe tbody tr th:only-of-type {\n",
       "        vertical-align: middle;\n",
       "    }\n",
       "\n",
       "    .dataframe tbody tr th {\n",
       "        vertical-align: top;\n",
       "    }\n",
       "\n",
       "    .dataframe thead th {\n",
       "        text-align: right;\n",
       "    }\n",
       "</style>\n",
       "<table border=\"1\" class=\"dataframe\">\n",
       "  <thead>\n",
       "    <tr style=\"text-align: right;\">\n",
       "      <th></th>\n",
       "    </tr>\n",
       "  </thead>\n",
       "  <tbody>\n",
       "  </tbody>\n",
       "</table>\n",
       "</div>"
      ],
      "text/plain": [
       "Empty DataFrame\n",
       "Columns: []\n",
       "Index: []"
      ]
     },
     "execution_count": 14,
     "metadata": {},
     "output_type": "execute_result"
    }
   ],
   "source": [
    "hive_results_table = ttest()"
   ]
  },
  {
   "cell_type": "code",
   "execution_count": null,
   "metadata": {},
   "outputs": [],
   "source": []
  },
  {
   "cell_type": "code",
   "execution_count": null,
   "metadata": {},
   "outputs": [],
   "source": [
    "#distributions of data normal or not checking assumptions of ttests, avnovas etc.\n",
    "\n",
    "ttest start then do all"
   ]
  },
  {
   "cell_type": "code",
   "execution_count": null,
   "metadata": {},
   "outputs": [],
   "source": []
  },
  {
   "cell_type": "code",
   "execution_count": null,
   "metadata": {},
   "outputs": [],
   "source": []
  },
  {
   "cell_type": "code",
   "execution_count": null,
   "metadata": {},
   "outputs": [],
   "source": []
  },
  {
   "cell_type": "code",
   "execution_count": null,
   "metadata": {},
   "outputs": [],
   "source": []
  },
  {
   "cell_type": "code",
   "execution_count": 8,
   "metadata": {},
   "outputs": [
    {
     "ename": "NameError",
     "evalue": "name 'groups' is not defined",
     "output_type": "error",
     "traceback": [
      "\u001b[0;31m---------------------------------------------------------------------------\u001b[0m",
      "\u001b[0;31mNameError\u001b[0m                                 Traceback (most recent call last)",
      "\u001b[0;32m<ipython-input-8-8bede2e823ae>\u001b[0m in \u001b[0;36m<module>\u001b[0;34m\u001b[0m\n\u001b[0;32m----> 1\u001b[0;31m \u001b[0mcounts_control\u001b[0m \u001b[0;34m=\u001b[0m \u001b[0mtable\u001b[0m\u001b[0;34m[\u001b[0m\u001b[0mtable\u001b[0m\u001b[0;34m[\u001b[0m\u001b[0mgroups\u001b[0m\u001b[0;34m==\u001b[0m\u001b[0mcontrol\u001b[0m\u001b[0;34m]\u001b[0m\u001b[0;34m[\u001b[0m\u001b[0mcounts_column\u001b[0m\u001b[0;34m]\u001b[0m\u001b[0;34m]\u001b[0m\u001b[0;34m.\u001b[0m\u001b[0mvalues\u001b[0m\u001b[0;34m[\u001b[0m\u001b[0;36m0\u001b[0m\u001b[0;34m]\u001b[0m\u001b[0;34m\u001b[0m\u001b[0;34m\u001b[0m\u001b[0m\n\u001b[0m",
      "\u001b[0;31mNameError\u001b[0m: name 'groups' is not defined"
     ]
    }
   ],
   "source": [
    "counts_control = table[table[groups==control][counts_column]].values[0]"
   ]
  },
  {
   "cell_type": "code",
   "execution_count": null,
   "metadata": {},
   "outputs": [],
   "source": []
  },
  {
   "cell_type": "code",
   "execution_count": null,
   "metadata": {},
   "outputs": [],
   "source": []
  },
  {
   "cell_type": "code",
   "execution_count": null,
   "metadata": {},
   "outputs": [],
   "source": []
  },
  {
   "cell_type": "code",
   "execution_count": null,
   "metadata": {},
   "outputs": [],
   "source": []
  },
  {
   "cell_type": "code",
   "execution_count": 3,
   "metadata": {},
   "outputs": [],
   "source": [
    "from statsmodels.stats.power import NormalIndPower, TTestIndPower\n",
    "from scipy.stats import ttest_ind_from_stats\n",
    "import numpy as np"
   ]
  },
  {
   "cell_type": "code",
   "execution_count": 7,
   "metadata": {},
   "outputs": [],
   "source": [
    "standard_deviation_treatment=.5\n",
    "\n",
    "standard_deviation_control=.5\n",
    "\n",
    "counts_control = 1000\n",
    "\n",
    "counts_treatment = 2000\n",
    "\n",
    "\n",
    "mean_control = 50\n",
    "\n",
    "mean_treatment = 100\n",
    "\n"
   ]
  },
  {
   "cell_type": "code",
   "execution_count": 8,
   "metadata": {},
   "outputs": [],
   "source": [
    "t_statistic, p_value = ttest_ind_from_stats(mean1=mean_treatment, std1=standard_deviation_treatment, nobs1=counts_treatment,mean2=mean_control,std2=standard_deviation_control,nobs2=counts_control)"
   ]
  },
  {
   "cell_type": "code",
   "execution_count": 9,
   "metadata": {},
   "outputs": [
    {
     "data": {
      "text/plain": [
       "2581.9888974716114"
      ]
     },
     "execution_count": 9,
     "metadata": {},
     "output_type": "execute_result"
    }
   ],
   "source": [
    "t_statistic"
   ]
  },
  {
   "cell_type": "code",
   "execution_count": 10,
   "metadata": {},
   "outputs": [
    {
     "data": {
      "text/plain": [
       "0.0"
      ]
     },
     "execution_count": 10,
     "metadata": {},
     "output_type": "execute_result"
    }
   ],
   "source": [
    "p_value"
   ]
  },
  {
   "cell_type": "code",
   "execution_count": 11,
   "metadata": {},
   "outputs": [
    {
     "ename": "SyntaxError",
     "evalue": "'return' outside function (<ipython-input-11-c7b465a5d291>, line 1)",
     "output_type": "error",
     "traceback": [
      "\u001b[0;36m  File \u001b[0;32m\"<ipython-input-11-c7b465a5d291>\"\u001b[0;36m, line \u001b[0;32m1\u001b[0m\n\u001b[0;31m    return t_statistic\u001b[0m\n\u001b[0m                      ^\u001b[0m\n\u001b[0;31mSyntaxError\u001b[0m\u001b[0;31m:\u001b[0m 'return' outside function\n"
     ]
    }
   ],
   "source": [
    "return t_statistic"
   ]
  },
  {
   "cell_type": "code",
   "execution_count": 12,
   "metadata": {},
   "outputs": [
    {
     "name": "stdout",
     "output_type": "stream",
     "text": [
      "2581.9888974716114\n"
     ]
    }
   ],
   "source": [
    "print(t_statistic)"
   ]
  },
  {
   "cell_type": "code",
   "execution_count": null,
   "metadata": {},
   "outputs": [],
   "source": []
  },
  {
   "cell_type": "code",
   "execution_count": null,
   "metadata": {},
   "outputs": [],
   "source": [
    "def ttest(table,)"
   ]
  },
  {
   "cell_type": "code",
   "execution_count": null,
   "metadata": {},
   "outputs": [],
   "source": []
  },
  {
   "cell_type": "code",
   "execution_count": null,
   "metadata": {},
   "outputs": [],
   "source": []
  },
  {
   "cell_type": "code",
   "execution_count": null,
   "metadata": {},
   "outputs": [],
   "source": []
  },
  {
   "cell_type": "code",
   "execution_count": null,
   "metadata": {},
   "outputs": [],
   "source": []
  },
  {
   "cell_type": "code",
   "execution_count": null,
   "metadata": {},
   "outputs": [],
   "source": []
  },
  {
   "cell_type": "code",
   "execution_count": null,
   "metadata": {},
   "outputs": [],
   "source": []
  }
 ],
 "metadata": {
  "kernelspec": {
   "display_name": "Python 3",
   "language": "python",
   "name": "python3"
  },
  "language_info": {
   "codemirror_mode": {
    "name": "ipython",
    "version": 3
   },
   "file_extension": ".py",
   "mimetype": "text/x-python",
   "name": "python",
   "nbconvert_exporter": "python",
   "pygments_lexer": "ipython3",
   "version": "3.7.3"
  }
 },
 "nbformat": 4,
 "nbformat_minor": 4
}
