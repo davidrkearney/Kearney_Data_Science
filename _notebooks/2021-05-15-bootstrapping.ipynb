{
 "cells": [
  {
   "cell_type": "markdown",
   "metadata": {},
   "source": [
    "# Bootstrapping in Python"
   ]
  },
  {
   "cell_type": "code",
   "execution_count": 121,
   "metadata": {},
   "outputs": [],
   "source": [
    "import numpy as np\n",
    "import dask.array as da\n",
    "import pandas as pd\n",
    "import sqlalchemy as db\n",
    "from sqlalchemy import create_engine\n",
    "import sqlite3\n",
    "import pandas as pd\n",
    "import seaborn as sns\n",
    "\n",
    "import numpy as np\n",
    "import pandas as pd\n",
    "from statsmodels.stats.power import NormalIndPower, TTestIndPower\n",
    "from scipy.stats import ttest_ind_from_stats\n",
    "import numpy as np\n",
    "import scipy\n"
   ]
  },
  {
   "cell_type": "code",
   "execution_count": 123,
   "metadata": {},
   "outputs": [],
   "source": [
    "df = pd.read_csv('df_panel_fix.csv')"
   ]
  },
  {
   "cell_type": "code",
   "execution_count": 124,
   "metadata": {},
   "outputs": [],
   "source": [
    "df_subset = df[[\"year\", \"reg\", \"province\", \"gdp\", \"fdi\", 'it',\"specific\"]]\n",
    "df_subset.columns = [\"year\", \"region\", \"province\", \"gdp\", \"fdi\", 'it',\"specific\"]"
   ]
  },
  {
   "cell_type": "code",
   "execution_count": 125,
   "metadata": {},
   "outputs": [
    {
     "data": {
      "text/html": [
       "<div>\n",
       "<style scoped>\n",
       "    .dataframe tbody tr th:only-of-type {\n",
       "        vertical-align: middle;\n",
       "    }\n",
       "\n",
       "    .dataframe tbody tr th {\n",
       "        vertical-align: top;\n",
       "    }\n",
       "\n",
       "    .dataframe thead th {\n",
       "        text-align: right;\n",
       "    }\n",
       "</style>\n",
       "<table border=\"1\" class=\"dataframe\">\n",
       "  <thead>\n",
       "    <tr style=\"text-align: right;\">\n",
       "      <th></th>\n",
       "      <th>year</th>\n",
       "      <th>region</th>\n",
       "      <th>province</th>\n",
       "      <th>gdp</th>\n",
       "      <th>fdi</th>\n",
       "      <th>it</th>\n",
       "      <th>specific</th>\n",
       "    </tr>\n",
       "  </thead>\n",
       "  <tbody>\n",
       "    <tr>\n",
       "      <th>0</th>\n",
       "      <td>1996</td>\n",
       "      <td>East China</td>\n",
       "      <td>Anhui</td>\n",
       "      <td>2093.30</td>\n",
       "      <td>50661</td>\n",
       "      <td>631930</td>\n",
       "      <td>147002.0</td>\n",
       "    </tr>\n",
       "    <tr>\n",
       "      <th>1</th>\n",
       "      <td>1997</td>\n",
       "      <td>East China</td>\n",
       "      <td>Anhui</td>\n",
       "      <td>2347.32</td>\n",
       "      <td>43443</td>\n",
       "      <td>657860</td>\n",
       "      <td>151981.0</td>\n",
       "    </tr>\n",
       "    <tr>\n",
       "      <th>2</th>\n",
       "      <td>1998</td>\n",
       "      <td>East China</td>\n",
       "      <td>Anhui</td>\n",
       "      <td>2542.96</td>\n",
       "      <td>27673</td>\n",
       "      <td>889463</td>\n",
       "      <td>174930.0</td>\n",
       "    </tr>\n",
       "    <tr>\n",
       "      <th>3</th>\n",
       "      <td>1999</td>\n",
       "      <td>East China</td>\n",
       "      <td>Anhui</td>\n",
       "      <td>2712.34</td>\n",
       "      <td>26131</td>\n",
       "      <td>1227364</td>\n",
       "      <td>285324.0</td>\n",
       "    </tr>\n",
       "    <tr>\n",
       "      <th>4</th>\n",
       "      <td>2000</td>\n",
       "      <td>East China</td>\n",
       "      <td>Anhui</td>\n",
       "      <td>2902.09</td>\n",
       "      <td>31847</td>\n",
       "      <td>1499110</td>\n",
       "      <td>195580.0</td>\n",
       "    </tr>\n",
       "    <tr>\n",
       "      <th>...</th>\n",
       "      <td>...</td>\n",
       "      <td>...</td>\n",
       "      <td>...</td>\n",
       "      <td>...</td>\n",
       "      <td>...</td>\n",
       "      <td>...</td>\n",
       "      <td>...</td>\n",
       "    </tr>\n",
       "    <tr>\n",
       "      <th>355</th>\n",
       "      <td>2003</td>\n",
       "      <td>East China</td>\n",
       "      <td>Zhejiang</td>\n",
       "      <td>9705.02</td>\n",
       "      <td>498055</td>\n",
       "      <td>2261631</td>\n",
       "      <td>391292.0</td>\n",
       "    </tr>\n",
       "    <tr>\n",
       "      <th>356</th>\n",
       "      <td>2004</td>\n",
       "      <td>East China</td>\n",
       "      <td>Zhejiang</td>\n",
       "      <td>11648.70</td>\n",
       "      <td>668128</td>\n",
       "      <td>3162299</td>\n",
       "      <td>656175.0</td>\n",
       "    </tr>\n",
       "    <tr>\n",
       "      <th>357</th>\n",
       "      <td>2005</td>\n",
       "      <td>East China</td>\n",
       "      <td>Zhejiang</td>\n",
       "      <td>13417.68</td>\n",
       "      <td>772000</td>\n",
       "      <td>2370200</td>\n",
       "      <td>656175.0</td>\n",
       "    </tr>\n",
       "    <tr>\n",
       "      <th>358</th>\n",
       "      <td>2006</td>\n",
       "      <td>East China</td>\n",
       "      <td>Zhejiang</td>\n",
       "      <td>15718.47</td>\n",
       "      <td>888935</td>\n",
       "      <td>2553268</td>\n",
       "      <td>1017303.0</td>\n",
       "    </tr>\n",
       "    <tr>\n",
       "      <th>359</th>\n",
       "      <td>2007</td>\n",
       "      <td>East China</td>\n",
       "      <td>Zhejiang</td>\n",
       "      <td>18753.73</td>\n",
       "      <td>1036576</td>\n",
       "      <td>2939778</td>\n",
       "      <td>844647.0</td>\n",
       "    </tr>\n",
       "  </tbody>\n",
       "</table>\n",
       "<p>360 rows × 7 columns</p>\n",
       "</div>"
      ],
      "text/plain": [
       "     year      region  province       gdp      fdi       it   specific\n",
       "0    1996  East China     Anhui   2093.30    50661   631930   147002.0\n",
       "1    1997  East China     Anhui   2347.32    43443   657860   151981.0\n",
       "2    1998  East China     Anhui   2542.96    27673   889463   174930.0\n",
       "3    1999  East China     Anhui   2712.34    26131  1227364   285324.0\n",
       "4    2000  East China     Anhui   2902.09    31847  1499110   195580.0\n",
       "..    ...         ...       ...       ...      ...      ...        ...\n",
       "355  2003  East China  Zhejiang   9705.02   498055  2261631   391292.0\n",
       "356  2004  East China  Zhejiang  11648.70   668128  3162299   656175.0\n",
       "357  2005  East China  Zhejiang  13417.68   772000  2370200   656175.0\n",
       "358  2006  East China  Zhejiang  15718.47   888935  2553268  1017303.0\n",
       "359  2007  East China  Zhejiang  18753.73  1036576  2939778   844647.0\n",
       "\n",
       "[360 rows x 7 columns]"
      ]
     },
     "execution_count": 125,
     "metadata": {},
     "output_type": "execute_result"
    }
   ],
   "source": [
    "df=df_subset\n",
    "df"
   ]
  },
  {
   "cell_type": "code",
   "execution_count": 127,
   "metadata": {},
   "outputs": [
    {
     "name": "stdout",
     "output_type": "stream",
     "text": [
      "East China\n",
      "gdp\n",
      "East China\n",
      "fdi\n",
      "East China\n",
      "it\n",
      "North China\n",
      "gdp\n",
      "North China\n",
      "fdi\n",
      "North China\n",
      "it\n"
     ]
    },
    {
     "data": {
      "image/png": "[encoded data removed]",
      "text/plain": [
       "<Figure size 432x288 with 1 Axes>"
      ]
     },
     "metadata": {
      "needs_background": "light"
     },
     "output_type": "display_data"
    },
    {
     "data": {
      "image/png": "[encoded data removed]",
      "text/plain": [
       "<Figure size 432x288 with 1 Axes>"
      ]
     },
     "metadata": {
      "needs_background": "light"
     },
     "output_type": "display_data"
    },
    {
     "data": {
      "image/png": "[encoded data removed]",
      "text/plain": [
       "<Figure size 432x288 with 1 Axes>"
      ]
     },
     "metadata": {
      "needs_background": "light"
     },
     "output_type": "display_data"
    },
    {
     "data": {
      "image/png": "[encoded data removed]",
      "text/plain": [
       "<Figure size 432x288 with 1 Axes>"
      ]
     },
     "metadata": {
      "needs_background": "light"
     },
     "output_type": "display_data"
    },
    {
     "data": {
      "image/png": "[encoded data removed]",
      "text/plain": [
       "<Figure size 432x288 with 1 Axes>"
      ]
     },
     "metadata": {
      "needs_background": "light"
     },
     "output_type": "display_data"
    },
    {
     "data": {
      "image/png": "[encoded data removed]",
      "text/plain": [
       "<Figure size 432x288 with 1 Axes>"
      ]
     },
     "metadata": {
      "needs_background": "light"
     },
     "output_type": "display_data"
    }
   ],
   "source": [
    "# Add distributions by region\n",
    "import matplotlib.pyplot as plt\n",
    "#fig, axes = plt.subplots(nrows=3, ncols=3)\n",
    "\n",
    "test_cells = ['East China', 'North China']\n",
    "metrics = ['gdp', 'fdi', 'it']\n",
    "\n",
    "for test_cell in test_cells:\n",
    "    for metric in metrics:\n",
    "        df.loc[df[\"region\"] == test_cell].hist(column=[metric], bins=60)\n",
    "        print(test_cell)\n",
    "        print(metric)"
   ]
  },
  {
   "cell_type": "code",
   "execution_count": 128,
   "metadata": {},
   "outputs": [
    {
     "data": {
      "text/plain": [
       "array([[<AxesSubplot:title={'center':'fdi'}>]], dtype=object)"
      ]
     },
     "execution_count": 128,
     "metadata": {},
     "output_type": "execute_result"
    },
    {
     "data": {
      "image/png": "[encoded data removed]",
      "text/plain": [
       "<Figure size 432x288 with 1 Axes>"
      ]
     },
     "metadata": {
      "needs_background": "light"
     },
     "output_type": "display_data"
    }
   ],
   "source": [
    "df.hist(column=['fdi'], bins=60)"
   ]
  },
  {
   "cell_type": "markdown",
   "metadata": {},
   "source": [
    "## Distributions of Dependant Variables"
   ]
  },
  {
   "cell_type": "markdown",
   "metadata": {},
   "source": [
    "### Right skew"
   ]
  },
  {
   "cell_type": "code",
   "execution_count": 143,
   "metadata": {},
   "outputs": [
    {
     "data": {
      "text/plain": [
       "array([[<AxesSubplot:title={'center':'fdi'}>]], dtype=object)"
      ]
     },
     "execution_count": 143,
     "metadata": {},
     "output_type": "execute_result"
    },
    {
     "data": {
      "image/png": "[encoded data removed]",
      "text/plain": [
       "<Figure size 432x288 with 1 Axes>"
      ]
     },
     "metadata": {
      "needs_background": "light"
     },
     "output_type": "display_data"
    }
   ],
   "source": [
    "df.hist(column=['fdi'], bins=60)"
   ]
  },
  {
   "cell_type": "code",
   "execution_count": 142,
   "metadata": {},
   "outputs": [
    {
     "data": {
      "text/plain": [
       "<AxesSubplot:xlabel='fdi', ylabel='Count'>"
      ]
     },
     "execution_count": 142,
     "metadata": {},
     "output_type": "execute_result"
    },
    {
     "data": {
      "image/png": "[encoded data removed]",
      "text/plain": [
       "<Figure size 432x288 with 1 Axes>"
      ]
     },
     "metadata": {
      "needs_background": "light"
     },
     "output_type": "display_data"
    }
   ],
   "source": [
    "sns.histplot(df['fdi'])"
   ]
  },
  {
   "cell_type": "code",
   "execution_count": 133,
   "metadata": {},
   "outputs": [
    {
     "data": {
      "text/plain": [
       "<seaborn.axisgrid.FacetGrid at 0x7faf8b829160>"
      ]
     },
     "execution_count": 133,
     "metadata": {},
     "output_type": "execute_result"
    },
    {
     "data": {
      "image/png": "[encoded data removed]",
      "text/plain": [
       "<Figure size 360x360 with 1 Axes>"
      ]
     },
     "metadata": {
      "needs_background": "light"
     },
     "output_type": "display_data"
    }
   ],
   "source": [
    "sns.displot(df['gdp'])"
   ]
  },
  {
   "cell_type": "code",
   "execution_count": 138,
   "metadata": {},
   "outputs": [
    {
     "data": {
      "text/plain": [
       "<seaborn.axisgrid.FacetGrid at 0x7fafbfac57f0>"
      ]
     },
     "execution_count": 138,
     "metadata": {},
     "output_type": "execute_result"
    },
    {
     "data": {
      "image/png": "[encoded data removed]",
      "text/plain": [
       "<Figure size 360x360 with 1 Axes>"
      ]
     },
     "metadata": {
      "needs_background": "light"
     },
     "output_type": "display_data"
    }
   ],
   "source": [
    "sns.displot(df['fdi'])"
   ]
  },
  {
   "cell_type": "code",
   "execution_count": 139,
   "metadata": {},
   "outputs": [
    {
     "data": {
      "text/plain": [
       "<seaborn.axisgrid.FacetGrid at 0x7faf8b3b7220>"
      ]
     },
     "execution_count": 139,
     "metadata": {},
     "output_type": "execute_result"
    },
    {
     "data": {
      "image/png": "[encoded data removed]",
      "text/plain": [
       "<Figure size 360x360 with 1 Axes>"
      ]
     },
     "metadata": {
      "needs_background": "light"
     },
     "output_type": "display_data"
    }
   ],
   "source": [
    "sns.displot(df['it'])"
   ]
  },
  {
   "cell_type": "code",
   "execution_count": 140,
   "metadata": {},
   "outputs": [
    {
     "data": {
      "text/plain": [
       "<seaborn.axisgrid.FacetGrid at 0x7faf8bbe62e0>"
      ]
     },
     "execution_count": 140,
     "metadata": {},
     "output_type": "execute_result"
    },
    {
     "data": {
      "image/png": "[encoded data removed]",
      "text/plain": [
       "<Figure size 360x360 with 1 Axes>"
      ]
     },
     "metadata": {
      "needs_background": "light"
     },
     "output_type": "display_data"
    }
   ],
   "source": [
    "sns.displot(df['specific'].dropna())"
   ]
  },
  {
   "cell_type": "code",
   "execution_count": 141,
   "metadata": {},
   "outputs": [
    {
     "data": {
      "text/plain": [
       "array([[<AxesSubplot:title={'center':'fdi'}>]], dtype=object)"
      ]
     },
     "execution_count": 141,
     "metadata": {},
     "output_type": "execute_result"
    },
    {
     "data": {
      "image/png": "[encoded data removed]",
      "text/plain": [
       "<Figure size 432x288 with 1 Axes>"
      ]
     },
     "metadata": {
      "needs_background": "light"
     },
     "output_type": "display_data"
    }
   ],
   "source": [
    "df.hist(column=['fdi'], bins=60)"
   ]
  },
  {
   "cell_type": "markdown",
   "metadata": {},
   "source": [
    "## Removal of GDP value outliers more than 3 standard deviations away from the mean"
   ]
  },
  {
   "cell_type": "markdown",
   "metadata": {},
   "source": [
    "## outlier removal of rows with GDP values that are > 3 standard deviations away form the mean"
   ]
  },
  {
   "cell_type": "code",
   "execution_count": 144,
   "metadata": {},
   "outputs": [],
   "source": [
    "import scipy.stats as stats"
   ]
  },
  {
   "cell_type": "code",
   "execution_count": 145,
   "metadata": {},
   "outputs": [],
   "source": [
    "df['gdp_zscore'] = stats.zscore(df['gdp'])"
   ]
  },
  {
   "cell_type": "markdown",
   "metadata": {},
   "source": [
    "## these are the observations more then > 3 SDs away from the mean of gdp that will be dropped"
   ]
  },
  {
   "cell_type": "code",
   "execution_count": 146,
   "metadata": {},
   "outputs": [
    {
     "data": {
      "text/plain": [
       "array([[<AxesSubplot:title={'center':'gdp'}>]], dtype=object)"
      ]
     },
     "execution_count": 146,
     "metadata": {},
     "output_type": "execute_result"
    },
    {
     "data": {
      "image/png": "[encoded data removed]",
      "text/plain": [
       "<Figure size 432x288 with 1 Axes>"
      ]
     },
     "metadata": {
      "needs_background": "light"
     },
     "output_type": "display_data"
    }
   ],
   "source": [
    "df[abs(df['gdp_zscore'])>3].hist(column = ['gdp'])"
   ]
  },
  {
   "cell_type": "code",
   "execution_count": 147,
   "metadata": {},
   "outputs": [],
   "source": [
    "df_no_gdp_outliers=df[abs(df['gdp_zscore'])<3]"
   ]
  },
  {
   "cell_type": "code",
   "execution_count": 148,
   "metadata": {},
   "outputs": [
    {
     "data": {
      "text/html": [
       "<div>\n",
       "<style scoped>\n",
       "    .dataframe tbody tr th:only-of-type {\n",
       "        vertical-align: middle;\n",
       "    }\n",
       "\n",
       "    .dataframe tbody tr th {\n",
       "        vertical-align: top;\n",
       "    }\n",
       "\n",
       "    .dataframe thead th {\n",
       "        text-align: right;\n",
       "    }\n",
       "</style>\n",
       "<table border=\"1\" class=\"dataframe\">\n",
       "  <thead>\n",
       "    <tr style=\"text-align: right;\">\n",
       "      <th></th>\n",
       "      <th>year</th>\n",
       "      <th>region</th>\n",
       "      <th>province</th>\n",
       "      <th>gdp</th>\n",
       "      <th>fdi</th>\n",
       "      <th>it</th>\n",
       "      <th>specific</th>\n",
       "      <th>gdp_zscore</th>\n",
       "    </tr>\n",
       "  </thead>\n",
       "  <tbody>\n",
       "    <tr>\n",
       "      <th>0</th>\n",
       "      <td>1996</td>\n",
       "      <td>East China</td>\n",
       "      <td>Anhui</td>\n",
       "      <td>2093.30</td>\n",
       "      <td>50661</td>\n",
       "      <td>631930</td>\n",
       "      <td>147002.0</td>\n",
       "      <td>-0.521466</td>\n",
       "    </tr>\n",
       "    <tr>\n",
       "      <th>1</th>\n",
       "      <td>1997</td>\n",
       "      <td>East China</td>\n",
       "      <td>Anhui</td>\n",
       "      <td>2347.32</td>\n",
       "      <td>43443</td>\n",
       "      <td>657860</td>\n",
       "      <td>151981.0</td>\n",
       "      <td>-0.464746</td>\n",
       "    </tr>\n",
       "    <tr>\n",
       "      <th>2</th>\n",
       "      <td>1998</td>\n",
       "      <td>East China</td>\n",
       "      <td>Anhui</td>\n",
       "      <td>2542.96</td>\n",
       "      <td>27673</td>\n",
       "      <td>889463</td>\n",
       "      <td>174930.0</td>\n",
       "      <td>-0.421061</td>\n",
       "    </tr>\n",
       "    <tr>\n",
       "      <th>3</th>\n",
       "      <td>1999</td>\n",
       "      <td>East China</td>\n",
       "      <td>Anhui</td>\n",
       "      <td>2712.34</td>\n",
       "      <td>26131</td>\n",
       "      <td>1227364</td>\n",
       "      <td>285324.0</td>\n",
       "      <td>-0.383239</td>\n",
       "    </tr>\n",
       "    <tr>\n",
       "      <th>4</th>\n",
       "      <td>2000</td>\n",
       "      <td>East China</td>\n",
       "      <td>Anhui</td>\n",
       "      <td>2902.09</td>\n",
       "      <td>31847</td>\n",
       "      <td>1499110</td>\n",
       "      <td>195580.0</td>\n",
       "      <td>-0.340870</td>\n",
       "    </tr>\n",
       "    <tr>\n",
       "      <th>...</th>\n",
       "      <td>...</td>\n",
       "      <td>...</td>\n",
       "      <td>...</td>\n",
       "      <td>...</td>\n",
       "      <td>...</td>\n",
       "      <td>...</td>\n",
       "      <td>...</td>\n",
       "      <td>...</td>\n",
       "    </tr>\n",
       "    <tr>\n",
       "      <th>354</th>\n",
       "      <td>2002</td>\n",
       "      <td>East China</td>\n",
       "      <td>Zhejiang</td>\n",
       "      <td>8003.67</td>\n",
       "      <td>307610</td>\n",
       "      <td>1962633</td>\n",
       "      <td>365437.0</td>\n",
       "      <td>0.798274</td>\n",
       "    </tr>\n",
       "    <tr>\n",
       "      <th>355</th>\n",
       "      <td>2003</td>\n",
       "      <td>East China</td>\n",
       "      <td>Zhejiang</td>\n",
       "      <td>9705.02</td>\n",
       "      <td>498055</td>\n",
       "      <td>2261631</td>\n",
       "      <td>391292.0</td>\n",
       "      <td>1.178172</td>\n",
       "    </tr>\n",
       "    <tr>\n",
       "      <th>356</th>\n",
       "      <td>2004</td>\n",
       "      <td>East China</td>\n",
       "      <td>Zhejiang</td>\n",
       "      <td>11648.70</td>\n",
       "      <td>668128</td>\n",
       "      <td>3162299</td>\n",
       "      <td>656175.0</td>\n",
       "      <td>1.612181</td>\n",
       "    </tr>\n",
       "    <tr>\n",
       "      <th>357</th>\n",
       "      <td>2005</td>\n",
       "      <td>East China</td>\n",
       "      <td>Zhejiang</td>\n",
       "      <td>13417.68</td>\n",
       "      <td>772000</td>\n",
       "      <td>2370200</td>\n",
       "      <td>656175.0</td>\n",
       "      <td>2.007180</td>\n",
       "    </tr>\n",
       "    <tr>\n",
       "      <th>358</th>\n",
       "      <td>2006</td>\n",
       "      <td>East China</td>\n",
       "      <td>Zhejiang</td>\n",
       "      <td>15718.47</td>\n",
       "      <td>888935</td>\n",
       "      <td>2553268</td>\n",
       "      <td>1017303.0</td>\n",
       "      <td>2.520929</td>\n",
       "    </tr>\n",
       "  </tbody>\n",
       "</table>\n",
       "<p>350 rows × 8 columns</p>\n",
       "</div>"
      ],
      "text/plain": [
       "     year      region  province       gdp     fdi       it   specific  \\\n",
       "0    1996  East China     Anhui   2093.30   50661   631930   147002.0   \n",
       "1    1997  East China     Anhui   2347.32   43443   657860   151981.0   \n",
       "2    1998  East China     Anhui   2542.96   27673   889463   174930.0   \n",
       "3    1999  East China     Anhui   2712.34   26131  1227364   285324.0   \n",
       "4    2000  East China     Anhui   2902.09   31847  1499110   195580.0   \n",
       "..    ...         ...       ...       ...     ...      ...        ...   \n",
       "354  2002  East China  Zhejiang   8003.67  307610  1962633   365437.0   \n",
       "355  2003  East China  Zhejiang   9705.02  498055  2261631   391292.0   \n",
       "356  2004  East China  Zhejiang  11648.70  668128  3162299   656175.0   \n",
       "357  2005  East China  Zhejiang  13417.68  772000  2370200   656175.0   \n",
       "358  2006  East China  Zhejiang  15718.47  888935  2553268  1017303.0   \n",
       "\n",
       "     gdp_zscore  \n",
       "0     -0.521466  \n",
       "1     -0.464746  \n",
       "2     -0.421061  \n",
       "3     -0.383239  \n",
       "4     -0.340870  \n",
       "..          ...  \n",
       "354    0.798274  \n",
       "355    1.178172  \n",
       "356    1.612181  \n",
       "357    2.007180  \n",
       "358    2.520929  \n",
       "\n",
       "[350 rows x 8 columns]"
      ]
     },
     "execution_count": 148,
     "metadata": {},
     "output_type": "execute_result"
    }
   ],
   "source": [
    "df_no_gdp_outliers"
   ]
  },
  {
   "cell_type": "code",
   "execution_count": 149,
   "metadata": {},
   "outputs": [
    {
     "data": {
      "text/plain": [
       "array([[<AxesSubplot:title={'center':'gdp'}>]], dtype=object)"
      ]
     },
     "execution_count": 149,
     "metadata": {},
     "output_type": "execute_result"
    },
    {
     "data": {
      "image/png": "[encoded data removed]",
      "text/plain": [
       "<Figure size 432x288 with 1 Axes>"
      ]
     },
     "metadata": {
      "needs_background": "light"
     },
     "output_type": "display_data"
    }
   ],
   "source": [
    "df_no_gdp_outliers.hist(column=['gdp'], bins=60)"
   ]
  },
  {
   "cell_type": "code",
   "execution_count": 150,
   "metadata": {},
   "outputs": [
    {
     "data": {
      "text/html": [
       "<div>\n",
       "<style scoped>\n",
       "    .dataframe tbody tr th:only-of-type {\n",
       "        vertical-align: middle;\n",
       "    }\n",
       "\n",
       "    .dataframe tbody tr th {\n",
       "        vertical-align: top;\n",
       "    }\n",
       "\n",
       "    .dataframe thead th {\n",
       "        text-align: right;\n",
       "    }\n",
       "</style>\n",
       "<table border=\"1\" class=\"dataframe\">\n",
       "  <thead>\n",
       "    <tr style=\"text-align: right;\">\n",
       "      <th></th>\n",
       "      <th>year</th>\n",
       "      <th>province</th>\n",
       "      <th>gdp</th>\n",
       "      <th>fdi</th>\n",
       "      <th>it</th>\n",
       "      <th>specific</th>\n",
       "      <th>gdp_zscore</th>\n",
       "    </tr>\n",
       "    <tr>\n",
       "      <th>region</th>\n",
       "      <th></th>\n",
       "      <th></th>\n",
       "      <th></th>\n",
       "      <th></th>\n",
       "      <th></th>\n",
       "      <th></th>\n",
       "      <th></th>\n",
       "    </tr>\n",
       "  </thead>\n",
       "  <tbody>\n",
       "    <tr>\n",
       "      <th>East China</th>\n",
       "      <td>84</td>\n",
       "      <td>84</td>\n",
       "      <td>84</td>\n",
       "      <td>84</td>\n",
       "      <td>84</td>\n",
       "      <td>84</td>\n",
       "      <td>84</td>\n",
       "    </tr>\n",
       "    <tr>\n",
       "      <th>North China</th>\n",
       "      <td>48</td>\n",
       "      <td>48</td>\n",
       "      <td>48</td>\n",
       "      <td>48</td>\n",
       "      <td>48</td>\n",
       "      <td>47</td>\n",
       "      <td>48</td>\n",
       "    </tr>\n",
       "    <tr>\n",
       "      <th>Northeast China</th>\n",
       "      <td>36</td>\n",
       "      <td>36</td>\n",
       "      <td>36</td>\n",
       "      <td>36</td>\n",
       "      <td>36</td>\n",
       "      <td>36</td>\n",
       "      <td>36</td>\n",
       "    </tr>\n",
       "    <tr>\n",
       "      <th>Northwest China</th>\n",
       "      <td>60</td>\n",
       "      <td>60</td>\n",
       "      <td>60</td>\n",
       "      <td>60</td>\n",
       "      <td>60</td>\n",
       "      <td>60</td>\n",
       "      <td>60</td>\n",
       "    </tr>\n",
       "    <tr>\n",
       "      <th>South Central China</th>\n",
       "      <td>72</td>\n",
       "      <td>72</td>\n",
       "      <td>72</td>\n",
       "      <td>72</td>\n",
       "      <td>72</td>\n",
       "      <td>72</td>\n",
       "      <td>72</td>\n",
       "    </tr>\n",
       "    <tr>\n",
       "      <th>Southwest China</th>\n",
       "      <td>60</td>\n",
       "      <td>60</td>\n",
       "      <td>60</td>\n",
       "      <td>60</td>\n",
       "      <td>60</td>\n",
       "      <td>57</td>\n",
       "      <td>60</td>\n",
       "    </tr>\n",
       "  </tbody>\n",
       "</table>\n",
       "</div>"
      ],
      "text/plain": [
       "                     year  province  gdp  fdi  it  specific  gdp_zscore\n",
       "region                                                                 \n",
       "East China             84        84   84   84  84        84          84\n",
       "North China            48        48   48   48  48        47          48\n",
       "Northeast China        36        36   36   36  36        36          36\n",
       "Northwest China        60        60   60   60  60        60          60\n",
       "South Central China    72        72   72   72  72        72          72\n",
       "Southwest China        60        60   60   60  60        57          60"
      ]
     },
     "execution_count": 150,
     "metadata": {},
     "output_type": "execute_result"
    }
   ],
   "source": [
    "counts_fiscal=df.groupby('region').count()\n",
    "counts_fiscal"
   ]
  },
  {
   "cell_type": "code",
   "execution_count": 151,
   "metadata": {},
   "outputs": [
    {
     "data": {
      "text/html": [
       "<div>\n",
       "<style scoped>\n",
       "    .dataframe tbody tr th:only-of-type {\n",
       "        vertical-align: middle;\n",
       "    }\n",
       "\n",
       "    .dataframe tbody tr th {\n",
       "        vertical-align: top;\n",
       "    }\n",
       "\n",
       "    .dataframe thead th {\n",
       "        text-align: right;\n",
       "    }\n",
       "</style>\n",
       "<table border=\"1\" class=\"dataframe\">\n",
       "  <thead>\n",
       "    <tr style=\"text-align: right;\">\n",
       "      <th></th>\n",
       "      <th>year</th>\n",
       "      <th>region</th>\n",
       "      <th>gdp</th>\n",
       "      <th>fdi</th>\n",
       "      <th>it</th>\n",
       "      <th>specific</th>\n",
       "      <th>gdp_zscore</th>\n",
       "    </tr>\n",
       "    <tr>\n",
       "      <th>province</th>\n",
       "      <th></th>\n",
       "      <th></th>\n",
       "      <th></th>\n",
       "      <th></th>\n",
       "      <th></th>\n",
       "      <th></th>\n",
       "      <th></th>\n",
       "    </tr>\n",
       "  </thead>\n",
       "  <tbody>\n",
       "    <tr>\n",
       "      <th>Anhui</th>\n",
       "      <td>12</td>\n",
       "      <td>12</td>\n",
       "      <td>12</td>\n",
       "      <td>12</td>\n",
       "      <td>12</td>\n",
       "      <td>12</td>\n",
       "      <td>12</td>\n",
       "    </tr>\n",
       "    <tr>\n",
       "      <th>Beijing</th>\n",
       "      <td>12</td>\n",
       "      <td>12</td>\n",
       "      <td>12</td>\n",
       "      <td>12</td>\n",
       "      <td>12</td>\n",
       "      <td>12</td>\n",
       "      <td>12</td>\n",
       "    </tr>\n",
       "    <tr>\n",
       "      <th>Chongqing</th>\n",
       "      <td>12</td>\n",
       "      <td>12</td>\n",
       "      <td>12</td>\n",
       "      <td>12</td>\n",
       "      <td>12</td>\n",
       "      <td>9</td>\n",
       "      <td>12</td>\n",
       "    </tr>\n",
       "    <tr>\n",
       "      <th>Fujian</th>\n",
       "      <td>12</td>\n",
       "      <td>12</td>\n",
       "      <td>12</td>\n",
       "      <td>12</td>\n",
       "      <td>12</td>\n",
       "      <td>12</td>\n",
       "      <td>12</td>\n",
       "    </tr>\n",
       "    <tr>\n",
       "      <th>Gansu</th>\n",
       "      <td>12</td>\n",
       "      <td>12</td>\n",
       "      <td>12</td>\n",
       "      <td>12</td>\n",
       "      <td>12</td>\n",
       "      <td>12</td>\n",
       "      <td>12</td>\n",
       "    </tr>\n",
       "    <tr>\n",
       "      <th>Guangdong</th>\n",
       "      <td>12</td>\n",
       "      <td>12</td>\n",
       "      <td>12</td>\n",
       "      <td>12</td>\n",
       "      <td>12</td>\n",
       "      <td>12</td>\n",
       "      <td>12</td>\n",
       "    </tr>\n",
       "    <tr>\n",
       "      <th>Guangxi</th>\n",
       "      <td>12</td>\n",
       "      <td>12</td>\n",
       "      <td>12</td>\n",
       "      <td>12</td>\n",
       "      <td>12</td>\n",
       "      <td>12</td>\n",
       "      <td>12</td>\n",
       "    </tr>\n",
       "    <tr>\n",
       "      <th>Guizhou</th>\n",
       "      <td>12</td>\n",
       "      <td>12</td>\n",
       "      <td>12</td>\n",
       "      <td>12</td>\n",
       "      <td>12</td>\n",
       "      <td>12</td>\n",
       "      <td>12</td>\n",
       "    </tr>\n",
       "    <tr>\n",
       "      <th>Hainan</th>\n",
       "      <td>12</td>\n",
       "      <td>12</td>\n",
       "      <td>12</td>\n",
       "      <td>12</td>\n",
       "      <td>12</td>\n",
       "      <td>12</td>\n",
       "      <td>12</td>\n",
       "    </tr>\n",
       "    <tr>\n",
       "      <th>Hebei</th>\n",
       "      <td>12</td>\n",
       "      <td>12</td>\n",
       "      <td>12</td>\n",
       "      <td>12</td>\n",
       "      <td>12</td>\n",
       "      <td>11</td>\n",
       "      <td>12</td>\n",
       "    </tr>\n",
       "    <tr>\n",
       "      <th>Heilongjiang</th>\n",
       "      <td>12</td>\n",
       "      <td>12</td>\n",
       "      <td>12</td>\n",
       "      <td>12</td>\n",
       "      <td>12</td>\n",
       "      <td>12</td>\n",
       "      <td>12</td>\n",
       "    </tr>\n",
       "    <tr>\n",
       "      <th>Henan</th>\n",
       "      <td>12</td>\n",
       "      <td>12</td>\n",
       "      <td>12</td>\n",
       "      <td>12</td>\n",
       "      <td>12</td>\n",
       "      <td>12</td>\n",
       "      <td>12</td>\n",
       "    </tr>\n",
       "    <tr>\n",
       "      <th>Hubei</th>\n",
       "      <td>12</td>\n",
       "      <td>12</td>\n",
       "      <td>12</td>\n",
       "      <td>12</td>\n",
       "      <td>12</td>\n",
       "      <td>12</td>\n",
       "      <td>12</td>\n",
       "    </tr>\n",
       "    <tr>\n",
       "      <th>Hunan</th>\n",
       "      <td>12</td>\n",
       "      <td>12</td>\n",
       "      <td>12</td>\n",
       "      <td>12</td>\n",
       "      <td>12</td>\n",
       "      <td>12</td>\n",
       "      <td>12</td>\n",
       "    </tr>\n",
       "    <tr>\n",
       "      <th>Jiangsu</th>\n",
       "      <td>12</td>\n",
       "      <td>12</td>\n",
       "      <td>12</td>\n",
       "      <td>12</td>\n",
       "      <td>12</td>\n",
       "      <td>12</td>\n",
       "      <td>12</td>\n",
       "    </tr>\n",
       "    <tr>\n",
       "      <th>Jiangxi</th>\n",
       "      <td>12</td>\n",
       "      <td>12</td>\n",
       "      <td>12</td>\n",
       "      <td>12</td>\n",
       "      <td>12</td>\n",
       "      <td>12</td>\n",
       "      <td>12</td>\n",
       "    </tr>\n",
       "    <tr>\n",
       "      <th>Jilin</th>\n",
       "      <td>12</td>\n",
       "      <td>12</td>\n",
       "      <td>12</td>\n",
       "      <td>12</td>\n",
       "      <td>12</td>\n",
       "      <td>12</td>\n",
       "      <td>12</td>\n",
       "    </tr>\n",
       "    <tr>\n",
       "      <th>Liaoning</th>\n",
       "      <td>12</td>\n",
       "      <td>12</td>\n",
       "      <td>12</td>\n",
       "      <td>12</td>\n",
       "      <td>12</td>\n",
       "      <td>12</td>\n",
       "      <td>12</td>\n",
       "    </tr>\n",
       "    <tr>\n",
       "      <th>Ningxia</th>\n",
       "      <td>12</td>\n",
       "      <td>12</td>\n",
       "      <td>12</td>\n",
       "      <td>12</td>\n",
       "      <td>12</td>\n",
       "      <td>12</td>\n",
       "      <td>12</td>\n",
       "    </tr>\n",
       "    <tr>\n",
       "      <th>Qinghai</th>\n",
       "      <td>12</td>\n",
       "      <td>12</td>\n",
       "      <td>12</td>\n",
       "      <td>12</td>\n",
       "      <td>12</td>\n",
       "      <td>12</td>\n",
       "      <td>12</td>\n",
       "    </tr>\n",
       "    <tr>\n",
       "      <th>Shaanxi</th>\n",
       "      <td>12</td>\n",
       "      <td>12</td>\n",
       "      <td>12</td>\n",
       "      <td>12</td>\n",
       "      <td>12</td>\n",
       "      <td>12</td>\n",
       "      <td>12</td>\n",
       "    </tr>\n",
       "    <tr>\n",
       "      <th>Shandong</th>\n",
       "      <td>12</td>\n",
       "      <td>12</td>\n",
       "      <td>12</td>\n",
       "      <td>12</td>\n",
       "      <td>12</td>\n",
       "      <td>12</td>\n",
       "      <td>12</td>\n",
       "    </tr>\n",
       "    <tr>\n",
       "      <th>Shanghai</th>\n",
       "      <td>12</td>\n",
       "      <td>12</td>\n",
       "      <td>12</td>\n",
       "      <td>12</td>\n",
       "      <td>12</td>\n",
       "      <td>12</td>\n",
       "      <td>12</td>\n",
       "    </tr>\n",
       "    <tr>\n",
       "      <th>Shanxi</th>\n",
       "      <td>12</td>\n",
       "      <td>12</td>\n",
       "      <td>12</td>\n",
       "      <td>12</td>\n",
       "      <td>12</td>\n",
       "      <td>12</td>\n",
       "      <td>12</td>\n",
       "    </tr>\n",
       "    <tr>\n",
       "      <th>Sichuan</th>\n",
       "      <td>12</td>\n",
       "      <td>12</td>\n",
       "      <td>12</td>\n",
       "      <td>12</td>\n",
       "      <td>12</td>\n",
       "      <td>12</td>\n",
       "      <td>12</td>\n",
       "    </tr>\n",
       "    <tr>\n",
       "      <th>Tianjin</th>\n",
       "      <td>12</td>\n",
       "      <td>12</td>\n",
       "      <td>12</td>\n",
       "      <td>12</td>\n",
       "      <td>12</td>\n",
       "      <td>12</td>\n",
       "      <td>12</td>\n",
       "    </tr>\n",
       "    <tr>\n",
       "      <th>Tibet</th>\n",
       "      <td>12</td>\n",
       "      <td>12</td>\n",
       "      <td>12</td>\n",
       "      <td>12</td>\n",
       "      <td>12</td>\n",
       "      <td>12</td>\n",
       "      <td>12</td>\n",
       "    </tr>\n",
       "    <tr>\n",
       "      <th>Xinjiang</th>\n",
       "      <td>12</td>\n",
       "      <td>12</td>\n",
       "      <td>12</td>\n",
       "      <td>12</td>\n",
       "      <td>12</td>\n",
       "      <td>12</td>\n",
       "      <td>12</td>\n",
       "    </tr>\n",
       "    <tr>\n",
       "      <th>Yunnan</th>\n",
       "      <td>12</td>\n",
       "      <td>12</td>\n",
       "      <td>12</td>\n",
       "      <td>12</td>\n",
       "      <td>12</td>\n",
       "      <td>12</td>\n",
       "      <td>12</td>\n",
       "    </tr>\n",
       "    <tr>\n",
       "      <th>Zhejiang</th>\n",
       "      <td>12</td>\n",
       "      <td>12</td>\n",
       "      <td>12</td>\n",
       "      <td>12</td>\n",
       "      <td>12</td>\n",
       "      <td>12</td>\n",
       "      <td>12</td>\n",
       "    </tr>\n",
       "  </tbody>\n",
       "</table>\n",
       "</div>"
      ],
      "text/plain": [
       "              year  region  gdp  fdi  it  specific  gdp_zscore\n",
       "province                                                      \n",
       "Anhui           12      12   12   12  12        12          12\n",
       "Beijing         12      12   12   12  12        12          12\n",
       "Chongqing       12      12   12   12  12         9          12\n",
       "Fujian          12      12   12   12  12        12          12\n",
       "Gansu           12      12   12   12  12        12          12\n",
       "Guangdong       12      12   12   12  12        12          12\n",
       "Guangxi         12      12   12   12  12        12          12\n",
       "Guizhou         12      12   12   12  12        12          12\n",
       "Hainan          12      12   12   12  12        12          12\n",
       "Hebei           12      12   12   12  12        11          12\n",
       "Heilongjiang    12      12   12   12  12        12          12\n",
       "Henan           12      12   12   12  12        12          12\n",
       "Hubei           12      12   12   12  12        12          12\n",
       "Hunan           12      12   12   12  12        12          12\n",
       "Jiangsu         12      12   12   12  12        12          12\n",
       "Jiangxi         12      12   12   12  12        12          12\n",
       "Jilin           12      12   12   12  12        12          12\n",
       "Liaoning        12      12   12   12  12        12          12\n",
       "Ningxia         12      12   12   12  12        12          12\n",
       "Qinghai         12      12   12   12  12        12          12\n",
       "Shaanxi         12      12   12   12  12        12          12\n",
       "Shandong        12      12   12   12  12        12          12\n",
       "Shanghai        12      12   12   12  12        12          12\n",
       "Shanxi          12      12   12   12  12        12          12\n",
       "Sichuan         12      12   12   12  12        12          12\n",
       "Tianjin         12      12   12   12  12        12          12\n",
       "Tibet           12      12   12   12  12        12          12\n",
       "Xinjiang        12      12   12   12  12        12          12\n",
       "Yunnan          12      12   12   12  12        12          12\n",
       "Zhejiang        12      12   12   12  12        12          12"
      ]
     },
     "execution_count": 151,
     "metadata": {},
     "output_type": "execute_result"
    }
   ],
   "source": [
    "counts_fiscal=df.groupby('province').count()\n",
    "counts_fiscal"
   ]
  },
  {
   "cell_type": "code",
   "execution_count": 152,
   "metadata": {},
   "outputs": [],
   "source": [
    "#df_no_gdp_outliers.pivot_table(index='grouping column 1', columns='grouping column 2', values='aggregating column', aggfunc='sum')"
   ]
  },
  {
   "cell_type": "code",
   "execution_count": 153,
   "metadata": {},
   "outputs": [],
   "source": [
    "#pd.crosstab(df_no_gdp_outliers, 'year')"
   ]
  },
  {
   "cell_type": "code",
   "execution_count": 154,
   "metadata": {},
   "outputs": [
    {
     "data": {
      "text/html": [
       "<div>\n",
       "<style scoped>\n",
       "    .dataframe tbody tr th:only-of-type {\n",
       "        vertical-align: middle;\n",
       "    }\n",
       "\n",
       "    .dataframe tbody tr th {\n",
       "        vertical-align: top;\n",
       "    }\n",
       "\n",
       "    .dataframe thead th {\n",
       "        text-align: right;\n",
       "    }\n",
       "</style>\n",
       "<table border=\"1\" class=\"dataframe\">\n",
       "  <thead>\n",
       "    <tr style=\"text-align: right;\">\n",
       "      <th></th>\n",
       "      <th>region</th>\n",
       "      <th>gdp</th>\n",
       "      <th>fdi</th>\n",
       "      <th>it</th>\n",
       "    </tr>\n",
       "  </thead>\n",
       "  <tbody>\n",
       "    <tr>\n",
       "      <th>0</th>\n",
       "      <td>East China</td>\n",
       "      <td>2093.30</td>\n",
       "      <td>50661</td>\n",
       "      <td>631930</td>\n",
       "    </tr>\n",
       "    <tr>\n",
       "      <th>1</th>\n",
       "      <td>East China</td>\n",
       "      <td>2347.32</td>\n",
       "      <td>43443</td>\n",
       "      <td>657860</td>\n",
       "    </tr>\n",
       "    <tr>\n",
       "      <th>2</th>\n",
       "      <td>East China</td>\n",
       "      <td>2542.96</td>\n",
       "      <td>27673</td>\n",
       "      <td>889463</td>\n",
       "    </tr>\n",
       "    <tr>\n",
       "      <th>3</th>\n",
       "      <td>East China</td>\n",
       "      <td>2712.34</td>\n",
       "      <td>26131</td>\n",
       "      <td>1227364</td>\n",
       "    </tr>\n",
       "    <tr>\n",
       "      <th>4</th>\n",
       "      <td>East China</td>\n",
       "      <td>2902.09</td>\n",
       "      <td>31847</td>\n",
       "      <td>1499110</td>\n",
       "    </tr>\n",
       "    <tr>\n",
       "      <th>...</th>\n",
       "      <td>...</td>\n",
       "      <td>...</td>\n",
       "      <td>...</td>\n",
       "      <td>...</td>\n",
       "    </tr>\n",
       "    <tr>\n",
       "      <th>354</th>\n",
       "      <td>East China</td>\n",
       "      <td>8003.67</td>\n",
       "      <td>307610</td>\n",
       "      <td>1962633</td>\n",
       "    </tr>\n",
       "    <tr>\n",
       "      <th>355</th>\n",
       "      <td>East China</td>\n",
       "      <td>9705.02</td>\n",
       "      <td>498055</td>\n",
       "      <td>2261631</td>\n",
       "    </tr>\n",
       "    <tr>\n",
       "      <th>356</th>\n",
       "      <td>East China</td>\n",
       "      <td>11648.70</td>\n",
       "      <td>668128</td>\n",
       "      <td>3162299</td>\n",
       "    </tr>\n",
       "    <tr>\n",
       "      <th>357</th>\n",
       "      <td>East China</td>\n",
       "      <td>13417.68</td>\n",
       "      <td>772000</td>\n",
       "      <td>2370200</td>\n",
       "    </tr>\n",
       "    <tr>\n",
       "      <th>358</th>\n",
       "      <td>East China</td>\n",
       "      <td>15718.47</td>\n",
       "      <td>888935</td>\n",
       "      <td>2553268</td>\n",
       "    </tr>\n",
       "  </tbody>\n",
       "</table>\n",
       "<p>350 rows × 4 columns</p>\n",
       "</div>"
      ],
      "text/plain": [
       "         region       gdp     fdi       it\n",
       "0    East China   2093.30   50661   631930\n",
       "1    East China   2347.32   43443   657860\n",
       "2    East China   2542.96   27673   889463\n",
       "3    East China   2712.34   26131  1227364\n",
       "4    East China   2902.09   31847  1499110\n",
       "..          ...       ...     ...      ...\n",
       "354  East China   8003.67  307610  1962633\n",
       "355  East China   9705.02  498055  2261631\n",
       "356  East China  11648.70  668128  3162299\n",
       "357  East China  13417.68  772000  2370200\n",
       "358  East China  15718.47  888935  2553268\n",
       "\n",
       "[350 rows x 4 columns]"
      ]
     },
     "execution_count": 154,
     "metadata": {},
     "output_type": "execute_result"
    }
   ],
   "source": [
    "df_no_gdp_outliers_subset = df_no_gdp_outliers[['region', 'gdp', 'fdi', 'it']]\n",
    "df_no_gdp_outliers_subset"
   ]
  },
  {
   "cell_type": "code",
   "execution_count": 183,
   "metadata": {},
   "outputs": [],
   "source": [
    "def aggregate_and_ttest(dataset, groupby_feature='province', alpha=.05, test_cells = [0, 1]):\n",
    "    #Imports\n",
    "    from tqdm import tqdm\n",
    "    from scipy.stats import ttest_ind_from_stats\n",
    "\n",
    "    \n",
    "    metrics = ['gdp', 'fdi', 'it']\n",
    "    \n",
    "    feature_size = 'size'\n",
    "    feature_mean = 'mean'\n",
    "    feature_std = 'std'    \n",
    "\n",
    "    for metric in tqdm(metrics):\n",
    "        \n",
    "        #print(metric)\n",
    "        crosstab = dataset.groupby(groupby_feature, as_index=False)[metric].agg(['size', 'mean', 'std'])\n",
    "        print(crosstab)\n",
    "        \n",
    "        treatment = crosstab.index[test_cells[0]]\n",
    "        control = crosstab.index[test_cells[1]]\n",
    "        \n",
    "        counts_control = crosstab.loc[control, feature_size]\n",
    "        counts_treatment = crosstab.loc[treatment, feature_size]\n",
    "\n",
    "        mean_control = crosstab.loc[control, feature_mean]\n",
    "        mean_treatment = crosstab.loc[treatment, feature_mean]\n",
    "\n",
    "        standard_deviation_control = crosstab.loc[control, feature_std]\n",
    "        standard_deviation_treatment = crosstab.loc[treatment, feature_std]\n",
    "        \n",
    "        t_statistic, p_value = ttest_ind_from_stats(mean1=mean_treatment, std1=standard_deviation_treatment, nobs1=counts_treatment,mean2=mean_control,std2=standard_deviation_control,nobs2=counts_control)\n",
    "        \n",
    "        #fstring to print the p value and t statistic\n",
    "        print(f\"The t statistic of the comparison of the treatment test cell of {treatment} compared to the control test cell of {control} for the metric of {metric} is {t_statistic} and the p value is {p_value}.\")\n",
    "        \n",
    "        #f string to say of the comparison is significant at a given alpha level\n",
    "\n",
    "        if p_value < alpha: \n",
    "            print(f'The comparison between {treatment} and {control} is statistically significant at the threshold of {alpha}') \n",
    "        else: \n",
    "            print(f'The comparison between {treatment} and {control} is not statistically significant at the threshold of {alpha}')"
   ]
  },
  {
   "cell_type": "code",
   "execution_count": 185,
   "metadata": {},
   "outputs": [
    {
     "name": "stderr",
     "output_type": "stream",
     "text": [
      "100%|██████████| 3/3 [00:00<00:00, 73.44it/s]"
     ]
    },
    {
     "name": "stdout",
     "output_type": "stream",
     "text": [
      "              size          mean          std\n",
      "province                                     \n",
      "Anhui           12   3905.870000  1657.186350\n",
      "Beijing         12   4673.453333  2585.218431\n",
      "Chongqing       12   2477.712500  1073.374101\n",
      "Fujian          12   4864.023333  2065.665290\n",
      "Gansu           12   1397.832500   628.751284\n",
      "Guangdong        8  10564.827500  3076.928885\n",
      "Guangxi         12   2924.104167  1316.680079\n",
      "Guizhou         12   1422.010833   679.163186\n",
      "Hainan          12    686.714167   277.167010\n",
      "Hebei           12   6936.825000  3266.776349\n",
      "Heilongjiang    12   4041.241667  1531.676708\n",
      "Henan           12   7208.966667  3669.236184\n",
      "Hubei           12   4772.503333  2121.833184\n",
      "Hunan           12   4765.891667  2159.588877\n",
      "Jiangsu         10   8880.142000  3069.858941\n",
      "Jiangxi         12   2460.782500  1125.673920\n",
      "Jilin           12   2274.854167   975.812431\n",
      "Liaoning        12   5231.135000  1988.700441\n",
      "Ningxia         12    432.268333   224.934621\n",
      "Qinghai         12    383.099167   194.618478\n",
      "Shaanxi         12   2658.034167  1461.540671\n",
      "Shandong         9   9093.784444  2952.172758\n",
      "Shanghai        12   6432.454167  3049.477185\n",
      "Shanxi          12   2817.210833  1531.856025\n",
      "Sichuan         12   5377.790000  2412.985532\n",
      "Tianjin         12   2528.665000  1367.201360\n",
      "Tibet           12    170.426667    88.715089\n",
      "Xinjiang        12   1828.896667   848.752092\n",
      "Yunnan          12   2604.054167  1016.828525\n",
      "Zhejiang        11   8264.008182  3870.124534\n",
      "The t statistic of the comparison of the treatment test cell of Anhui compared to the control test cell of Chongqing for the metric of gdp is 2.505668475205307 and the p value is 0.020116468101911197.\n",
      "The comparison between Anhui and Chongqing is statistically significant at the threshold of 0.05\n",
      "              size          mean            std\n",
      "province                                       \n",
      "Anhui           12  7.095308e+04   78371.990245\n",
      "Beijing         12  2.573693e+05  121078.451044\n",
      "Chongqing       12  4.112783e+04   25850.251481\n",
      "Fujian          12  3.744664e+05   65608.304198\n",
      "Gansu           12  5.295500e+03    2941.514777\n",
      "Guangdong        8  1.117272e+06  137741.790514\n",
      "Guangxi         12  5.514783e+04   19725.422944\n",
      "Guizhou         12  5.812333e+03    3337.775071\n",
      "Hainan          12  6.436600e+04   19972.968837\n",
      "Hebei           12  1.322308e+05   56541.699667\n",
      "Heilongjiang    12  8.271933e+04   62818.132171\n",
      "Henan           12  9.442600e+04   78299.340203\n",
      "Hubei           12  1.497132e+05   70692.266346\n",
      "Hunan           12  1.321102e+05   86224.990870\n",
      "Jiangsu         10  7.422869e+05  257982.284030\n",
      "Jiangxi         12  1.037352e+05   94052.957802\n",
      "Jilin           12  4.122658e+04   16166.473875\n",
      "Liaoning        12  2.859253e+05  152318.549543\n",
      "Ningxia         12  3.950417e+03    3662.459319\n",
      "Qinghai         12  1.098408e+04   12241.262884\n",
      "Shaanxi         12  5.089258e+04   29331.097377\n",
      "Shandong         9  3.943093e+05  219313.559118\n",
      "Shanghai        12  5.082483e+05  166880.730080\n",
      "Shanxi          12  3.862883e+04   32974.368539\n",
      "Sichuan         12  6.219717e+04   39329.514938\n",
      "Tianjin         12  2.501733e+05  119418.314501\n",
      "Tibet           12  8.397500e+02     922.467750\n",
      "Xinjiang        12  4.433083e+03    3630.847471\n",
      "Yunnan          12  1.704833e+04    9213.888976\n",
      "Zhejiang        11  3.704169e+05  286211.503281\n",
      "The t statistic of the comparison of the treatment test cell of Anhui compared to the control test cell of Chongqing for the metric of fdi is 1.251953695962862 and the p value is 0.2237342006262051.\n",
      "The comparison between Anhui and Chongqing is not statistically significant at the threshold of 0.05\n",
      "              size          mean           std\n",
      "province                                      \n",
      "Anhui           12  2.649674e+06  1.966030e+06\n",
      "Beijing         12  1.175965e+06  4.944598e+05\n",
      "Chongqing       12  1.636146e+06  1.155977e+06\n",
      "Fujian          12  1.274117e+06  6.641800e+05\n",
      "Gansu           12  2.045347e+06  1.432134e+06\n",
      "Guangdong        8  2.269997e+06  9.845008e+05\n",
      "Guangxi         12  2.326539e+06  1.691126e+06\n",
      "Guizhou         12  2.132636e+06  1.553924e+06\n",
      "Hainan          12  5.404872e+05  4.064191e+05\n",
      "Hebei           12  2.944163e+06  2.160958e+06\n",
      "Heilongjiang    12  3.230451e+06  2.227509e+06\n",
      "Henan           12  3.671971e+06  2.987163e+06\n",
      "Hubei           12  2.904660e+06  2.189358e+06\n",
      "Hunan           12  3.215128e+06  2.351869e+06\n",
      "Jiangsu         10  1.563339e+06  8.478538e+05\n",
      "Jiangxi         12  1.760613e+06  1.208039e+06\n",
      "Jilin           12  2.136635e+06  1.375026e+06\n",
      "Liaoning        12  2.628358e+06  1.563158e+06\n",
      "Ningxia         12  7.872062e+05  5.531448e+05\n",
      "Qinghai         12  9.600921e+05  6.721767e+05\n",
      "Shaanxi         12  2.474031e+06  1.786697e+06\n",
      "Shandong         9  1.965966e+06  8.946962e+05\n",
      "Shanghai        12  1.569143e+06  6.996706e+05\n",
      "Shanxi          12  1.983718e+06  1.491559e+06\n",
      "Sichuan         12  4.016480e+06  2.923696e+06\n",
      "Tianjin         12  8.310284e+05  4.641450e+05\n",
      "Tibet           12  1.174176e+06  7.959846e+05\n",
      "Xinjiang        12  2.251012e+06  1.612187e+06\n",
      "Yunnan          12  3.165419e+06  1.652014e+06\n",
      "Zhejiang        11  1.648032e+06  8.385722e+05\n",
      "The t statistic of the comparison of the treatment test cell of Anhui compared to the control test cell of Chongqing for the metric of it is 1.5394289719091268 and the p value is 0.13796027793319976.\n",
      "The comparison between Anhui and Chongqing is not statistically significant at the threshold of 0.05\n"
     ]
    },
    {
     "name": "stderr",
     "output_type": "stream",
     "text": [
      "\n"
     ]
    }
   ],
   "source": [
    "aggregate_and_ttest(df_no_gdp_outliers, test_cells = [0,2])"
   ]
  },
  {
   "cell_type": "code",
   "execution_count": 161,
   "metadata": {},
   "outputs": [
    {
     "name": "stderr",
     "output_type": "stream",
     "text": [
      "100%|██████████| 3/3 [00:00<00:00, 138.11it/s]"
     ]
    },
    {
     "name": "stdout",
     "output_type": "stream",
     "text": [
      "                     size         mean          std\n",
      "region                                             \n",
      "East China             78  6070.604231  3500.372702\n",
      "North China            48  4239.038542  2866.705149\n",
      "Northeast China        36  3849.076944  1948.531835\n",
      "Northwest China        60  1340.026167  1174.399739\n",
      "South Central China    68  4835.540882  3697.129915\n",
      "Southwest China        60  2410.398833  2144.589994\n",
      "The t statistic of the comparison of the treatment test cell of East China compared to the control test cell of North China is 3.0488753833171947 and the p value is 0.0028085413359212334.\n",
      "The comparison between East China and North China is statistically significant at the threshold of 0.05\n",
      "                     size           mean            std\n",
      "region                                                 \n",
      "East China             78  355577.897436  275635.866746\n",
      "North China            48  169600.583333  127011.475909\n",
      "Northeast China        36  136623.750000  142734.495232\n",
      "Northwest China        60   15111.133333   22954.193559\n",
      "South Central China    68  218931.426471  339981.399823\n",
      "Southwest China        60   25405.083333   31171.373876\n",
      "The t statistic of the comparison of the treatment test cell of East China compared to the control test cell of North China is 4.391461461316698 and the p value is 2.3859390186769955e-05.\n",
      "The comparison between East China and North China is statistically significant at the threshold of 0.05\n",
      "                     size          mean           std\n",
      "region                                               \n",
      "East China             78  1.775615e+06  1.153030e+06\n",
      "North China            48  1.733719e+06  1.548794e+06\n",
      "Northeast China        36  2.665148e+06  1.768442e+06\n",
      "Northwest China        60  1.703538e+06  1.446408e+06\n",
      "South Central China    68  2.500962e+06  2.196436e+06\n",
      "Southwest China        60  2.424971e+06  2.002198e+06\n",
      "The t statistic of the comparison of the treatment test cell of East China compared to the control test cell of North China is 0.17339716493934587 and the p value is 0.862621991978372.\n",
      "The comparison between East China and North China is not statistically significant at the threshold of 0.05\n"
     ]
    },
    {
     "name": "stderr",
     "output_type": "stream",
     "text": [
      "\n"
     ]
    }
   ],
   "source": [
    "EastvNorth=pd.DataFrame()\n",
    "EastvNorth= aggregate_and_ttest(df_no_gdp_outliers_subset, test_cells = [0,1])\n",
    "EastvNorth"
   ]
  },
  {
   "cell_type": "code",
   "execution_count": 186,
   "metadata": {},
   "outputs": [
    {
     "data": {
      "text/plain": [
       "array([1292.11, 1476.  , 1611.08, 1667.1 , 1845.72, 2029.53, 2324.8 ,\n",
       "       2855.23, 3571.37, 4230.53, 4878.61, 6024.45])"
      ]
     },
     "execution_count": 186,
     "metadata": {},
     "output_type": "execute_result"
    }
   ],
   "source": [
    "import numpy as np\n",
    "import bootstrapped.bootstrap as bs\n",
    "import bootstrapped.stats_functions as bs_stats\n",
    "\n",
    "\n",
    "test_1=df_no_gdp_outliers[df_no_gdp_outliers['province']=='Beijing']\n",
    "test=test_1['gdp'].to_numpy()\n",
    "test\n",
    "\n",
    "control_1=df_no_gdp_outliers[df_no_gdp_outliers['province']=='Shanxi']\n",
    "control=control_1['gdp'].to_numpy()\n",
    "control"
   ]
  },
  {
   "cell_type": "code",
   "execution_count": 187,
   "metadata": {},
   "outputs": [
    {
     "data": {
      "text/plain": [
       "<matplotlib.legend.Legend at 0x7faf8596a190>"
      ]
     },
     "execution_count": 187,
     "metadata": {},
     "output_type": "execute_result"
    },
    {
     "data": {
      "image/png": "[encoded data removed]",
      "text/plain": [
       "<Figure size 432x288 with 1 Axes>"
      ]
     },
     "metadata": {
      "needs_background": "light"
     },
     "output_type": "display_data"
    }
   ],
   "source": [
    "bins = np.linspace(0, 40, 20)\n",
    "\n",
    "plt.hist(control, label='Control')\n",
    "plt.hist(test, label='Test', color='orange')\n",
    "plt.title('Test/Ctrl Data')\n",
    "plt.legend()"
   ]
  },
  {
   "cell_type": "code",
   "execution_count": 188,
   "metadata": {},
   "outputs": [
    {
     "data": {
      "text/plain": [
       "65.88937107712621    (-19.58634300490877, 124.01876332252021)"
      ]
     },
     "execution_count": 188,
     "metadata": {},
     "output_type": "execute_result"
    }
   ],
   "source": [
    "bs.bootstrap_ab(test, control, stat_func=bs_stats.sum, compare_func=bs_compare.percent_change)"
   ]
  },
  {
   "cell_type": "code",
   "execution_count": 189,
   "metadata": {},
   "outputs": [
    {
     "name": "stdout",
     "output_type": "stream",
     "text": [
      "65.88937107712621\n",
      "65.88937107712621    (-20.064956167313596, 124.54556877143521)\n"
     ]
    }
   ],
   "source": [
    "# run an a/b test simulation considering the lengths of the series (sum)\n",
    "# consider the full 'volume' of values that are passed in\n",
    "\n",
    "print(bs_compare.percent_change(test.sum(), control.sum()))\n",
    "\n",
    "print(bs.bootstrap_ab(\n",
    "    test, \n",
    "    control, \n",
    "    stat_func=bs_stats.sum,\n",
    "    compare_func=bs_compare.percent_change\n",
    "))"
   ]
  },
  {
   "cell_type": "code",
   "execution_count": 190,
   "metadata": {},
   "outputs": [
    {
     "name": "stdout",
     "output_type": "stream",
     "text": [
      "1856.2424999999998\n"
     ]
    }
   ],
   "source": [
    "# run an a/b test simulation ignoring the lengths of the series (average)\n",
    "# just what is the 'typical' value\n",
    "# use percent change to compare test and control\n",
    "\n",
    "print(bs_compare.difference(test.mean(), control.mean()))"
   ]
  },
  {
   "cell_type": "code",
   "execution_count": 191,
   "metadata": {},
   "outputs": [
    {
     "name": "stdout",
     "output_type": "stream",
     "text": [
      "1856.2424999999998    (218.25606250000146, 3411.9760624999994)\n"
     ]
    }
   ],
   "source": [
    "print(bs.bootstrap_ab(test, control, bs_stats.mean, bs_compare.difference))"
   ]
  }
 ],
 "metadata": {
  "kernelspec": {
   "display_name": "Python 3",
   "language": "python",
   "name": "python3"
  },
  "language_info": {
   "codemirror_mode": {
    "name": "ipython",
    "version": 3
   },
   "file_extension": ".py",
   "mimetype": "text/x-python",
   "name": "python",
   "nbconvert_exporter": "python",
   "pygments_lexer": "ipython3",
   "version": "3.8.5"
  }
 },
 "nbformat": 4,
 "nbformat_minor": 4
}
