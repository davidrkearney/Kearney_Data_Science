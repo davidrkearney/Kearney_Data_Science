{
 "cells": [
  {
   "cell_type": "code",
   "execution_count": 20,
   "metadata": {},
   "outputs": [
    {
     "name": "stdout",
     "output_type": "stream",
     "text": [
      "Why was trading restricted?\n"
     ]
    }
   ],
   "source": [
    "from newsplease import NewsPlease\n",
    "article = NewsPlease.from_url('https://marginalrevolution.com/marginalrevolution/2021/01/why-was-share-trading-restricted.html')\n",
    "print(article.title)"
   ]
  },
  {
   "cell_type": "code",
   "execution_count": 21,
   "metadata": {},
   "outputs": [
    {
     "data": {
      "text/plain": [
       "['Tyler Cowen', 'Alexander Tabarrok']"
      ]
     },
     "execution_count": 21,
     "metadata": {},
     "output_type": "execute_result"
    }
   ],
   "source": [
    "article.authors"
   ]
  },
  {
   "cell_type": "code",
   "execution_count": 22,
   "metadata": {},
   "outputs": [
    {
     "data": {
      "text/plain": [
       "datetime.datetime(2021, 1, 29, 0, 39, 24)"
      ]
     },
     "execution_count": 22,
     "metadata": {},
     "output_type": "execute_result"
    }
   ],
   "source": [
    "article.date_publish"
   ]
  },
  {
   "cell_type": "code",
   "execution_count": 23,
   "metadata": {},
   "outputs": [],
   "source": [
    "article.description"
   ]
  },
  {
   "cell_type": "code",
   "execution_count": 24,
   "metadata": {},
   "outputs": [
    {
     "data": {
      "text/plain": [
       "'https%3A%2F%2Fmarginalrevolution.com%2Fmarginalrevolution%2F2021%2F01%2Fwhy-was-share-trading-restricted.html.json'"
      ]
     },
     "execution_count": 24,
     "metadata": {},
     "output_type": "execute_result"
    }
   ],
   "source": [
    "article.filename"
   ]
  },
  {
   "cell_type": "code",
   "execution_count": 25,
   "metadata": {},
   "outputs": [
    {
     "data": {
      "text/plain": [
       "'en'"
      ]
     },
     "execution_count": 25,
     "metadata": {},
     "output_type": "execute_result"
    }
   ],
   "source": [
    "article.language"
   ]
  },
  {
   "cell_type": "code",
   "execution_count": 26,
   "metadata": {},
   "outputs": [
    {
     "data": {
      "text/plain": [
       "'Let’s bring in the CEO of Webull, Anthony Denier. And Anthony, your platform also among those that’s restricted trade for the likes of AMC, as well as GameStop. We were talking about Alexandria Ocasio-Cortez now jumping in on the debate, saying that she would be for a hearing in this if it’s necessary. Why restrict the trade, and what led to that action?\\nANTHONY DENIER: Well, it wasn’t our choice. Our clearing firm gave us a call and said we’re going to have to stop allowing new opening positions in the three names, AMC, GME, and KOSS. Highly volatile, and what happens is this is not a political decision. And unfortunately, it got political. I think, you know, I think it was once said that don’t let any good crisis go to waste. And that’s clearly what’s happening here.\\nAnd we’re seeing politicians jump on the bandwagon so they can get– so they can start trending on Twitter. But in reality, what’s going on is that there is a two-day settlement between if you buy the stock today, those brokerage firms that you bought that stock on have to fund that trade with the clearing central house called DTC for two whole days. And because of the volatility of stocks, DTC has made the cost of the collateral of the two-day holding period extremely expensive.\\nAnd we just can’t afford– well, we’re not a clearing firm, but our clearing firm simply cannot afford the cost to settle those trades. We cannot use customer funds to front that cost due to regulation. So the brokerages or the clearing firms have to go into their own pockets to do it. And they simply can’t afford the cost of that trade clearance. That is the reason why these stocks are coming off. It has nothing to do with the decision or some sort of closed room cigar– smoke-filled cigar room of Wall Street firms getting together to the dismay of the retail trader. This has to do with settlement mechanics of the market.'"
      ]
     },
     "execution_count": 26,
     "metadata": {},
     "output_type": "execute_result"
    }
   ],
   "source": [
    "article.maintext"
   ]
  },
  {
   "cell_type": "code",
   "execution_count": 29,
   "metadata": {},
   "outputs": [
    {
     "data": {
      "text/plain": [
       "'https://marginalrevolution.com/marginalrevolution/2021/01/why-was-share-trading-restricted.html'"
      ]
     },
     "execution_count": 29,
     "metadata": {},
     "output_type": "execute_result"
    }
   ],
   "source": [
    "article.url"
   ]
  },
  {
   "cell_type": "code",
   "execution_count": 31,
   "metadata": {},
   "outputs": [
    {
     "name": "stdout",
     "output_type": "stream",
     "text": [
      "my_local_download_dir_warc=./cc_download_warc/\n",
      "my_local_download_dir_article=./cc_download_articles/\n",
      "my_delete_warc_after_extraction=True\n",
      "my_number_of_extraction_processes=1\n",
      "INFO:newsplease.crawler.commoncrawl_crawler:executing: aws s3 ls --recursive s3://commoncrawl/crawl-data/CC-NEWS/ --no-sign-request > .tmpaws.txt && awk '{ print $4 }' .tmpaws.txt \n",
      "^C\n",
      "Traceback (most recent call last):\n",
      "  File \"/home/david/anaconda3/lib/python3.8/runpy.py\", line 194, in _run_module_as_main\n",
      "    return _run_code(code, main_globals, None,\n",
      "  File \"/home/david/anaconda3/lib/python3.8/runpy.py\", line 87, in _run_code\n",
      "    exec(code, run_globals)\n",
      "  File \"/home/david/anaconda3/lib/python3.8/site-packages/newsplease/examples/commoncrawl.py\", line 172, in <module>\n",
      "    main()\n",
      "  File \"/home/david/anaconda3/lib/python3.8/site-packages/newsplease/examples/commoncrawl.py\", line 154, in main\n",
      "    commoncrawl_crawler.crawl_from_commoncrawl(on_valid_article_extracted,\n",
      "  File \"/home/david/anaconda3/lib/python3.8/site-packages/newsplease/crawler/commoncrawl_crawler.py\", line 281, in crawl_from_commoncrawl\n",
      "    cc_news_crawl_names = __get_remote_index(warc_files_start_date)\n",
      "  File \"/home/david/anaconda3/lib/python3.8/site-packages/newsplease/crawler/commoncrawl_crawler.py\", line 137, in __get_remote_index\n",
      "    exitcode, stdout_data = subprocess.getstatusoutput(cmd)\n",
      "  File \"/home/david/anaconda3/lib/python3.8/subprocess.py\", line 612, in getstatusoutput\n",
      "    data = check_output(cmd, shell=True, text=True, stderr=STDOUT)\n",
      "  File \"/home/david/anaconda3/lib/python3.8/subprocess.py\", line 411, in check_output\n",
      "    return run(*popenargs, stdout=PIPE, timeout=timeout, check=True,\n",
      "  File \"/home/david/anaconda3/lib/python3.8/subprocess.py\", line 491, in run\n",
      "    stdout, stderr = process.communicate(input, timeout=timeout)\n",
      "  File \"/home/david/anaconda3/lib/python3.8/subprocess.py\", line 1011, in communicate\n",
      "    stdout = self.stdout.read()\n",
      "KeyboardInterrupt\n"
     ]
    }
   ],
   "source": [
    "!python3 -m newsplease.examples.commoncrawl"
   ]
  }
 ],
 "metadata": {
  "kernelspec": {
   "display_name": "Python 3",
   "language": "python",
   "name": "python3"
  },
  "language_info": {
   "codemirror_mode": {
    "name": "ipython",
    "version": 3
   },
   "file_extension": ".py",
   "mimetype": "text/x-python",
   "name": "python",
   "nbconvert_exporter": "python",
   "pygments_lexer": "ipython3",
   "version": "3.8.5"
  }
 },
 "nbformat": 4,
 "nbformat_minor": 4
}
