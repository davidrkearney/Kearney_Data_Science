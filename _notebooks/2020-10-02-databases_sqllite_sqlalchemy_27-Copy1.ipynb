{
 "cells": [
  {
   "cell_type": "markdown",
   "metadata": {},
   "source": [
    "# Creating and accessing SQL databases with python using sqlalchemy and sqlite"
   ]
  },
  {
   "cell_type": "markdown",
   "metadata": {},
   "source": [
    "This post includes code adapted from [SQLAlchemy Example](https://gist.github.com/ronreiter/98916876e14534fa8ab2)."
   ]
  },
  {
   "cell_type": "code",
   "execution_count": 1,
   "metadata": {},
   "outputs": [],
   "source": [
    "import sqlalchemy as db\n",
    "import sqlite3\n",
    "import pandas as pd"
   ]
  },
  {
   "cell_type": "code",
   "execution_count": 2,
   "metadata": {},
   "outputs": [],
   "source": [
    "from sqlalchemy import Column, Integer, String, ForeignKey, create_engine\n",
    "from sqlalchemy.ext.declarative import declarative_base\n",
    "from sqlalchemy.orm import relationship, backref, sessionmaker, joinedload\n",
    "\n",
    "# For this example we will use an in-memory sqlite DB.\n",
    "# Let's also configure it to echo everything it does to the screen.\n",
    "engine = create_engine('sqlite:///:memory:', echo=True)"
   ]
  },
  {
   "cell_type": "code",
   "execution_count": 3,
   "metadata": {},
   "outputs": [],
   "source": [
    "# The base class which our objects will be defined on.\n",
    "Base = declarative_base()\n",
    "\n",
    "# Our User object, mapped to the 'users' table\n",
    "class User(Base):\n",
    "    __tablename__ = 'users'\n",
    "\n",
    "    # Every SQLAlchemy table should have a primary key named 'id'\n",
    "    id = Column(Integer, primary_key=True)\n",
    "\n",
    "    name = Column(String)\n",
    "    fullname = Column(String)\n",
    "    password = Column(String)\n",
    "\n",
    "    # Lets us print out a user object conveniently.\n",
    "    def __repr__(self):\n",
    "       return \"<User(name='%s', fullname='%s', password'%s')>\" % (\n",
    "                               self.name, self.fullname, self.password)"
   ]
  },
  {
   "cell_type": "code",
   "execution_count": 4,
   "metadata": {},
   "outputs": [],
   "source": [
    "# The Address object stores the addresses \n",
    "# of a user in the 'adressess' table.\n",
    "class Address(Base):\n",
    "    __tablename__ = 'addresses'\n",
    "    id = Column(Integer, primary_key=True)\n",
    "    email_address = Column(String, nullable=False)\n",
    "\n",
    "    # Since we have a 1:n relationship, we need to store a foreign key \n",
    "    # to the users table.\n",
    "    user_id = Column(Integer, ForeignKey('users.id'))\n",
    "\n",
    "    # Defines the 1:n relationship between users and addresses.\n",
    "    # Also creates a backreference which is accessible from a User object.\n",
    "    user = relationship(\"User\", backref=backref('addresses'))\n",
    "\n",
    "    # Lets us print out an address object conveniently.\n",
    "    def __repr__(self):\n",
    "        return \"<Address(email_address='%s')>\" % self.email_address"
   ]
  },
  {
   "cell_type": "code",
   "execution_count": 6,
   "metadata": {},
   "outputs": [
    {
     "name": "stdout",
     "output_type": "stream",
     "text": [
      "2020-10-02 08:55:48,507 INFO sqlalchemy.engine.base.Engine PRAGMA main.table_info(\"users\")\n",
      "2020-10-02 08:55:48,508 INFO sqlalchemy.engine.base.Engine ()\n",
      "2020-10-02 08:55:48,510 INFO sqlalchemy.engine.base.Engine PRAGMA main.table_info(\"addresses\")\n",
      "2020-10-02 08:55:48,510 INFO sqlalchemy.engine.base.Engine ()\n",
      "2020-10-02 08:55:48,513 INFO sqlalchemy.engine.base.Engine BEGIN (implicit)\n",
      "2020-10-02 08:55:48,514 INFO sqlalchemy.engine.base.Engine INSERT INTO users (name, fullname, password) VALUES (?, ?, ?)\n",
      "2020-10-02 08:55:48,515 INFO sqlalchemy.engine.base.Engine ('example', 'example last_name_example', 'examplepassword')\n",
      "2020-10-02 08:55:48,517 INFO sqlalchemy.engine.base.Engine INSERT INTO addresses (email_address, user_id) VALUES (?, ?)\n",
      "2020-10-02 08:55:48,517 INFO sqlalchemy.engine.base.Engine ('example@gmail.com', 1)\n",
      "2020-10-02 08:55:48,519 INFO sqlalchemy.engine.base.Engine INSERT INTO addresses (email_address, user_id) VALUES (?, ?)\n",
      "2020-10-02 08:55:48,519 INFO sqlalchemy.engine.base.Engine ('example@yahoo.com', 1)\n",
      "2020-10-02 08:55:48,520 INFO sqlalchemy.engine.base.Engine COMMIT\n",
      "2020-10-02 08:55:48,522 INFO sqlalchemy.engine.base.Engine BEGIN (implicit)\n",
      "2020-10-02 08:55:48,523 INFO sqlalchemy.engine.base.Engine SELECT users.id AS users_id, users.name AS users_name, users.fullname AS users_fullname, users.password AS users_password \n",
      "FROM users, addresses \n",
      "WHERE addresses.email_address = ?\n",
      " LIMIT ? OFFSET ?\n",
      "2020-10-02 08:55:48,524 INFO sqlalchemy.engine.base.Engine ('example@gmail.com', 1, 0)\n"
     ]
    }
   ],
   "source": [
    "\n",
    "# Create all tables by issuing CREATE TABLE commands to the DB.\n",
    "Base.metadata.create_all(engine) \n",
    "\n",
    "# Creates a new session to the database by using the engine we described.\n",
    "Session = sessionmaker(bind=engine)\n",
    "session = Session()\n",
    "\n",
    "# Let's create a user and add two e-mail addresses to that user.\n",
    "example_user = User(name='example', fullname='example last_name_example', password='examplepassword')\n",
    "example_user.addresses = [Address(email_address='example@gmail.com'), Address(email_address='example@yahoo.com')]\n",
    "\n",
    "# Let's add the user and its addresses we've created to the DB and commit.\n",
    "session.add(example_user)\n",
    "session.commit()\n",
    "\n",
    "# Now let's query the user that has the e-mail address ed@google.com\n",
    "# SQLAlchemy will construct a JOIN query automatically.\n",
    "user_by_email = session.query(User)\\\n",
    "    .filter(Address.email_address=='example@gmail.com')\\\n",
    "    .first()"
   ]
  },
  {
   "cell_type": "code",
   "execution_count": 7,
   "metadata": {},
   "outputs": [
    {
     "name": "stdout",
     "output_type": "stream",
     "text": [
      "<User(name='example', fullname='example last_name_example', password'examplepassword')>\n"
     ]
    }
   ],
   "source": [
    "print(user_by_email)"
   ]
  },
  {
   "cell_type": "code",
   "execution_count": 8,
   "metadata": {},
   "outputs": [
    {
     "name": "stdout",
     "output_type": "stream",
     "text": [
      "2020-10-02 08:55:53,081 INFO sqlalchemy.engine.base.Engine SELECT addresses.id AS addresses_id, addresses.email_address AS addresses_email_address, addresses.user_id AS addresses_user_id \n",
      "FROM addresses \n",
      "WHERE ? = addresses.user_id\n",
      "2020-10-02 08:55:53,083 INFO sqlalchemy.engine.base.Engine (1,)\n",
      "[<Address(email_address='example@gmail.com')>, <Address(email_address='example@yahoo.com')>]\n"
     ]
    }
   ],
   "source": [
    "# This will cause an additional query by lazy loading from the DB.\n",
    "print(user_by_email.addresses)"
   ]
  },
  {
   "cell_type": "code",
   "execution_count": 10,
   "metadata": {},
   "outputs": [
    {
     "name": "stdout",
     "output_type": "stream",
     "text": [
      "2020-10-02 08:56:04,305 INFO sqlalchemy.engine.base.Engine SELECT anon_1.users_id AS anon_1_users_id, anon_1.users_name AS anon_1_users_name, anon_1.users_fullname AS anon_1_users_fullname, anon_1.users_password AS anon_1_users_password, addresses_1.id AS addresses_1_id, addresses_1.email_address AS addresses_1_email_address, addresses_1.user_id AS addresses_1_user_id \n",
      "FROM (SELECT users.id AS users_id, users.name AS users_name, users.fullname AS users_fullname, users.password AS users_password \n",
      "FROM users, addresses \n",
      "WHERE addresses.email_address = ?\n",
      " LIMIT ? OFFSET ?) AS anon_1 LEFT OUTER JOIN addresses AS addresses_1 ON anon_1.users_id = addresses_1.user_id\n",
      "2020-10-02 08:56:04,306 INFO sqlalchemy.engine.base.Engine ('example@gmail.com', 1, 0)\n"
     ]
    }
   ],
   "source": [
    "# To avoid querying again when getting all addresses of a user,\n",
    "# we use the joinedload option. SQLAlchemy will load all results and hide\n",
    "# the duplicate entries from us, so we can then get for\n",
    "# the user's addressess without an additional query to the DB.\n",
    "user_by_email = session.query(User)\\\n",
    "    .filter(Address.email_address=='example@gmail.com')\\\n",
    "    .options(joinedload(User.addresses))\\\n",
    "    .first()"
   ]
  },
  {
   "cell_type": "code",
   "execution_count": 11,
   "metadata": {},
   "outputs": [
    {
     "name": "stdout",
     "output_type": "stream",
     "text": [
      "<User(name='example', fullname='example last_name_example', password'examplepassword')>\n"
     ]
    }
   ],
   "source": [
    "print(user_by_email)"
   ]
  },
  {
   "cell_type": "code",
   "execution_count": 12,
   "metadata": {},
   "outputs": [
    {
     "name": "stdout",
     "output_type": "stream",
     "text": [
      "[<Address(email_address='example@gmail.com')>, <Address(email_address='example@yahoo.com')>]\n"
     ]
    }
   ],
   "source": [
    "print(user_by_email.addresses)"
   ]
  }
 ],
 "metadata": {
  "kernelspec": {
   "display_name": "Python 3",
   "language": "python",
   "name": "python3"
  },
  "language_info": {
   "codemirror_mode": {
    "name": "ipython",
    "version": 3
   },
   "file_extension": ".py",
   "mimetype": "text/x-python",
   "name": "python",
   "nbconvert_exporter": "python",
   "pygments_lexer": "ipython3",
   "version": "3.7.3"
  }
 },
 "nbformat": 4,
 "nbformat_minor": 4
}
