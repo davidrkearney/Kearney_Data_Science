{
 "cells": [
  {
   "cell_type": "markdown",
   "metadata": {},
   "source": [
    "# AutoML, Xgboost and H2O"
   ]
  },
  {
   "cell_type": "markdown",
   "metadata": {},
   "source": [
    "Credit: code from https://www.kaggle.com/paradiselost/tutorial-automl-capabilities-of-h2o-library"
   ]
  },
  {
   "cell_type": "markdown",
   "metadata": {},
   "source": [
    "![h2o.ai](https://avatars0.githubusercontent.com/u/1402695?s=200&v=4)"
   ]
  },
  {
   "cell_type": "markdown",
   "metadata": {},
   "source": [
    "**Automated machine learning (AutoML)** is the process of automating the end-to-end process of applying machine learning to real-world problems. In a typical machine learning application, the typical stages (and sub-stages) of work are the following:\n",
    "1. Data preparation\n",
    "  * data pre-processing\n",
    "  * feature engineering\n",
    "  * feature extraction\n",
    "  * feature selection\n",
    "2. Model selection\n",
    "3. Hyperparameter optimization (to maximize the performance of the final model)\n",
    "\n",
    "Many of these steps are often beyond the abilities of non-experts. **AutoML** was proposed as an artificial intelligence-based solution to the ever-growing challenge of applying machine learning. \n",
    "\n",
    "Some of the notable platforms tackling various stages of AutoML are the following:\n",
    "* [auto-sklearn](https://automl.github.io/auto-sklearn/stable/) is a Bayesian hyperparameter optimization layer on top of [scikit-learn](https://scikit-learn.org/).\n",
    "* [TPOT](https://github.com/EpistasisLab/tpot) (TeaPOT) is a Python library that automatically creates and optimizes full machine learning pipelines using genetic programming.\n",
    "* [TransmogrifAI](https://github.com/salesforce/TransmogrifAI) is a Scala/SparkML library created by [Salesforce](http://salesforce.com/) for automated data cleansing, feature engineering, model selection, and hyperparameter optimization.\n",
    "* [H2O AutoML](http://docs.h2o.ai/h2o/latest-stable/h2o-docs/automl.html) performs (simple) data preprocessing, automates the process of training a large selection of candidate models, tunes hyperparameters of the models and creates stacked ensembles.\n",
    "* [H2O Driverless AI](https://www.h2o.ai/products/h2o-driverless-ai/) is a commercial software package that automates lots of aspects of machine learning applications. It has a strong focus on automatic feature engineering. \n",
    "\n",
    "An overview of AutoML capabilities of H2O library is presented in this tutorial. The library can be installed simply by"
   ]
  },
  {
   "cell_type": "code",
   "execution_count": 1,
   "metadata": {
    "_kg_hide-input": false,
    "_kg_hide-output": false
   },
   "outputs": [],
   "source": [
    "#!pip install h2o"
   ]
  },
  {
   "cell_type": "markdown",
   "metadata": {},
   "source": [
    "Let's import the required packages and call `h2o.init()`. The specified arguments (`nthreads` and `max_mem_size`) are optional."
   ]
  },
  {
   "cell_type": "code",
   "execution_count": 2,
   "metadata": {
    "_cell_guid": "b1076dfc-b9ad-4769-8c92-a6c4dae69d19",
    "_kg_hide-output": false,
    "_uuid": "8f2839f25d086af736a60e9eeb907d3b93b6e0e5"
   },
   "outputs": [
    {
     "name": "stdout",
     "output_type": "stream",
     "text": [
      "Checking whether there is an H2O instance running at http://localhost:54321 . connected.\n"
     ]
    },
    {
     "data": {
      "text/html": [
       "\n",
       "<style>\n",
       "\n",
       "#h2o-table-1.h2o-container {\n",
       "  overflow-x: auto;\n",
       "}\n",
       "#h2o-table-1 .h2o-table {\n",
       "  /* width: 100%; */\n",
       "  margin-top: 1em;\n",
       "  margin-bottom: 1em;\n",
       "}\n",
       "#h2o-table-1 .h2o-table caption {\n",
       "  white-space: nowrap;\n",
       "  caption-side: top;\n",
       "  text-align: left;\n",
       "  /* margin-left: 1em; */\n",
       "  margin: 0;\n",
       "  font-size: larger;\n",
       "}\n",
       "#h2o-table-1 .h2o-table thead {\n",
       "  white-space: nowrap; \n",
       "  position: sticky;\n",
       "  top: 0;\n",
       "  box-shadow: 0 -1px inset;\n",
       "}\n",
       "#h2o-table-1 .h2o-table tbody {\n",
       "  overflow: auto;\n",
       "}\n",
       "#h2o-table-1 .h2o-table th,\n",
       "#h2o-table-1 .h2o-table td {\n",
       "  text-align: right;\n",
       "  /* border: 1px solid; */\n",
       "}\n",
       "#h2o-table-1 .h2o-table tr:nth-child(even) {\n",
       "  /* background: #F5F5F5 */\n",
       "}\n",
       "\n",
       "</style>      \n",
       "<div id=\"h2o-table-1\" class=\"h2o-container\">\n",
       "  <table class=\"h2o-table\">\n",
       "    <caption></caption>\n",
       "    <thead></thead>\n",
       "    <tbody><tr><td>H2O_cluster_uptime:</td>\n",
       "<td>3 mins 51 secs</td></tr>\n",
       "<tr><td>H2O_cluster_timezone:</td>\n",
       "<td>America/Los_Angeles</td></tr>\n",
       "<tr><td>H2O_data_parsing_timezone:</td>\n",
       "<td>UTC</td></tr>\n",
       "<tr><td>H2O_cluster_version:</td>\n",
       "<td>3.38.0.1</td></tr>\n",
       "<tr><td>H2O_cluster_version_age:</td>\n",
       "<td>12 days </td></tr>\n",
       "<tr><td>H2O_cluster_name:</td>\n",
       "<td>H2O_from_python_gao_qldgcm</td></tr>\n",
       "<tr><td>H2O_cluster_total_nodes:</td>\n",
       "<td>1</td></tr>\n",
       "<tr><td>H2O_cluster_free_memory:</td>\n",
       "<td>3.838 Gb</td></tr>\n",
       "<tr><td>H2O_cluster_total_cores:</td>\n",
       "<td>8</td></tr>\n",
       "<tr><td>H2O_cluster_allowed_cores:</td>\n",
       "<td>8</td></tr>\n",
       "<tr><td>H2O_cluster_status:</td>\n",
       "<td>locked, healthy</td></tr>\n",
       "<tr><td>H2O_connection_url:</td>\n",
       "<td>http://localhost:54321</td></tr>\n",
       "<tr><td>H2O_connection_proxy:</td>\n",
       "<td>{\"http\": null, \"https\": null}</td></tr>\n",
       "<tr><td>H2O_internal_security:</td>\n",
       "<td>False</td></tr>\n",
       "<tr><td>Python_version:</td>\n",
       "<td>3.9.12 final</td></tr></tbody>\n",
       "  </table>\n",
       "</div>\n"
      ],
      "text/plain": [
       "--------------------------  -----------------------------\n",
       "H2O_cluster_uptime:         3 mins 51 secs\n",
       "H2O_cluster_timezone:       America/Los_Angeles\n",
       "H2O_data_parsing_timezone:  UTC\n",
       "H2O_cluster_version:        3.38.0.1\n",
       "H2O_cluster_version_age:    12 days\n",
       "H2O_cluster_name:           H2O_from_python_gao_qldgcm\n",
       "H2O_cluster_total_nodes:    1\n",
       "H2O_cluster_free_memory:    3.838 Gb\n",
       "H2O_cluster_total_cores:    8\n",
       "H2O_cluster_allowed_cores:  8\n",
       "H2O_cluster_status:         locked, healthy\n",
       "H2O_connection_url:         http://localhost:54321\n",
       "H2O_connection_proxy:       {\"http\": null, \"https\": null}\n",
       "H2O_internal_security:      False\n",
       "Python_version:             3.9.12 final\n",
       "--------------------------  -----------------------------"
      ]
     },
     "metadata": {},
     "output_type": "display_data"
    }
   ],
   "source": [
    "import sys, os, os.path\n",
    "import warnings\n",
    "warnings.filterwarnings('ignore')\n",
    "\n",
    "import numpy as np\n",
    "import pandas as pd\n",
    "import pickle\n",
    "\n",
    "import h2o\n",
    "from h2o.automl import H2OAutoML\n",
    "\n",
    "h2o.init(\n",
    "    nthreads=-1,     # number of threads when launching a new H2O server\n",
    "    max_mem_size=12  # in gigabytes\n",
    ")"
   ]
  },
  {
   "cell_type": "markdown",
   "metadata": {},
   "source": [
    "**Example 1: a classification task**"
   ]
  },
  {
   "cell_type": "markdown",
   "metadata": {},
   "source": [
    "Let's apply the power of H2O AutoML to the [\"Flight delays\" competition](https://www.kaggle.com/c/flight-delays-fall-2018) (it's a binary classification task) from [mlcourse.ai](https://mlcourse.ai/)."
   ]
  },
  {
   "cell_type": "code",
   "execution_count": 11,
   "metadata": {
    "_cell_guid": "79c7e3d0-c299-4dcb-8224-4455121ee9b0",
    "_uuid": "d629ff2d2480ee46fbb7e2d37f6b5fab8052498a"
   },
   "outputs": [],
   "source": [
    "import pandas as pd\n",
    "url = 'https://raw.githubusercontent.com/davidrkearney/colab-notebooks/main/datasets/bikes.csv'\n",
    "train_df = pd.read_csv(url, error_bad_lines=False)\n",
    "test_df = pd.read_csv(url, error_bad_lines=False)"
   ]
  },
  {
   "cell_type": "code",
   "execution_count": 12,
   "metadata": {
    "_kg_hide-output": false
   },
   "outputs": [
    {
     "name": "stdout",
     "output_type": "stream",
     "text": [
      "train_df cols: ['trip_id', 'gender', 'starttime', 'stoptime', 'tripduration', 'from_station_name', 'dpcapacity_start', 'to_station_name', 'dpcapacity_end', 'temperature', 'visibility', 'wind_speed', 'precipitation', 'events']\n",
      "test_df cols:  ['trip_id', 'gender', 'starttime', 'stoptime', 'tripduration', 'from_station_name', 'dpcapacity_start', 'to_station_name', 'dpcapacity_end', 'temperature', 'visibility', 'wind_speed', 'precipitation', 'events']\n"
     ]
    },
    {
     "data": {
      "text/html": [
       "<div>\n",
       "<style scoped>\n",
       "    .dataframe tbody tr th:only-of-type {\n",
       "        vertical-align: middle;\n",
       "    }\n",
       "\n",
       "    .dataframe tbody tr th {\n",
       "        vertical-align: top;\n",
       "    }\n",
       "\n",
       "    .dataframe thead th {\n",
       "        text-align: right;\n",
       "    }\n",
       "</style>\n",
       "<table border=\"1\" class=\"dataframe\">\n",
       "  <thead>\n",
       "    <tr style=\"text-align: right;\">\n",
       "      <th></th>\n",
       "      <th>trip_id</th>\n",
       "      <th>gender</th>\n",
       "      <th>starttime</th>\n",
       "      <th>stoptime</th>\n",
       "      <th>tripduration</th>\n",
       "      <th>from_station_name</th>\n",
       "      <th>dpcapacity_start</th>\n",
       "      <th>to_station_name</th>\n",
       "      <th>dpcapacity_end</th>\n",
       "      <th>temperature</th>\n",
       "      <th>visibility</th>\n",
       "      <th>wind_speed</th>\n",
       "      <th>precipitation</th>\n",
       "      <th>events</th>\n",
       "    </tr>\n",
       "  </thead>\n",
       "  <tbody>\n",
       "    <tr>\n",
       "      <th>0</th>\n",
       "      <td>7147</td>\n",
       "      <td>Male</td>\n",
       "      <td>2013-06-28 19:01:00</td>\n",
       "      <td>2013-06-28 19:17:00</td>\n",
       "      <td>993</td>\n",
       "      <td>Lake Shore Dr &amp; Monroe St</td>\n",
       "      <td>11.0</td>\n",
       "      <td>Michigan Ave &amp; Oak St</td>\n",
       "      <td>15.0</td>\n",
       "      <td>73.9</td>\n",
       "      <td>10.0</td>\n",
       "      <td>12.7</td>\n",
       "      <td>-9999.0</td>\n",
       "      <td>mostlycloudy</td>\n",
       "    </tr>\n",
       "    <tr>\n",
       "      <th>1</th>\n",
       "      <td>7524</td>\n",
       "      <td>Male</td>\n",
       "      <td>2013-06-28 22:53:00</td>\n",
       "      <td>2013-06-28 23:03:00</td>\n",
       "      <td>623</td>\n",
       "      <td>Clinton St &amp; Washington Blvd</td>\n",
       "      <td>31.0</td>\n",
       "      <td>Wells St &amp; Walton St</td>\n",
       "      <td>19.0</td>\n",
       "      <td>69.1</td>\n",
       "      <td>10.0</td>\n",
       "      <td>6.9</td>\n",
       "      <td>-9999.0</td>\n",
       "      <td>partlycloudy</td>\n",
       "    </tr>\n",
       "    <tr>\n",
       "      <th>2</th>\n",
       "      <td>10927</td>\n",
       "      <td>Male</td>\n",
       "      <td>2013-06-30 14:43:00</td>\n",
       "      <td>2013-06-30 15:01:00</td>\n",
       "      <td>1040</td>\n",
       "      <td>Sheffield Ave &amp; Kingsbury St</td>\n",
       "      <td>15.0</td>\n",
       "      <td>Dearborn St &amp; Monroe St</td>\n",
       "      <td>23.0</td>\n",
       "      <td>73.0</td>\n",
       "      <td>10.0</td>\n",
       "      <td>16.1</td>\n",
       "      <td>-9999.0</td>\n",
       "      <td>mostlycloudy</td>\n",
       "    </tr>\n",
       "    <tr>\n",
       "      <th>3</th>\n",
       "      <td>12907</td>\n",
       "      <td>Male</td>\n",
       "      <td>2013-07-01 10:05:00</td>\n",
       "      <td>2013-07-01 10:16:00</td>\n",
       "      <td>667</td>\n",
       "      <td>Carpenter St &amp; Huron St</td>\n",
       "      <td>19.0</td>\n",
       "      <td>Clark St &amp; Randolph St</td>\n",
       "      <td>31.0</td>\n",
       "      <td>72.0</td>\n",
       "      <td>10.0</td>\n",
       "      <td>16.1</td>\n",
       "      <td>-9999.0</td>\n",
       "      <td>mostlycloudy</td>\n",
       "    </tr>\n",
       "    <tr>\n",
       "      <th>4</th>\n",
       "      <td>13168</td>\n",
       "      <td>Male</td>\n",
       "      <td>2013-07-01 11:16:00</td>\n",
       "      <td>2013-07-01 11:18:00</td>\n",
       "      <td>130</td>\n",
       "      <td>Damen Ave &amp; Pierce Ave</td>\n",
       "      <td>19.0</td>\n",
       "      <td>Damen Ave &amp; Pierce Ave</td>\n",
       "      <td>19.0</td>\n",
       "      <td>73.0</td>\n",
       "      <td>10.0</td>\n",
       "      <td>17.3</td>\n",
       "      <td>-9999.0</td>\n",
       "      <td>partlycloudy</td>\n",
       "    </tr>\n",
       "  </tbody>\n",
       "</table>\n",
       "</div>"
      ],
      "text/plain": [
       "   trip_id gender            starttime             stoptime  tripduration  \\\n",
       "0     7147   Male  2013-06-28 19:01:00  2013-06-28 19:17:00           993   \n",
       "1     7524   Male  2013-06-28 22:53:00  2013-06-28 23:03:00           623   \n",
       "2    10927   Male  2013-06-30 14:43:00  2013-06-30 15:01:00          1040   \n",
       "3    12907   Male  2013-07-01 10:05:00  2013-07-01 10:16:00           667   \n",
       "4    13168   Male  2013-07-01 11:16:00  2013-07-01 11:18:00           130   \n",
       "\n",
       "              from_station_name  dpcapacity_start          to_station_name  \\\n",
       "0     Lake Shore Dr & Monroe St              11.0    Michigan Ave & Oak St   \n",
       "1  Clinton St & Washington Blvd              31.0     Wells St & Walton St   \n",
       "2  Sheffield Ave & Kingsbury St              15.0  Dearborn St & Monroe St   \n",
       "3       Carpenter St & Huron St              19.0   Clark St & Randolph St   \n",
       "4        Damen Ave & Pierce Ave              19.0   Damen Ave & Pierce Ave   \n",
       "\n",
       "   dpcapacity_end  temperature  visibility  wind_speed  precipitation  \\\n",
       "0            15.0         73.9        10.0        12.7        -9999.0   \n",
       "1            19.0         69.1        10.0         6.9        -9999.0   \n",
       "2            23.0         73.0        10.0        16.1        -9999.0   \n",
       "3            31.0         72.0        10.0        16.1        -9999.0   \n",
       "4            19.0         73.0        10.0        17.3        -9999.0   \n",
       "\n",
       "         events  \n",
       "0  mostlycloudy  \n",
       "1  partlycloudy  \n",
       "2  mostlycloudy  \n",
       "3  mostlycloudy  \n",
       "4  partlycloudy  "
      ]
     },
     "execution_count": 12,
     "metadata": {},
     "output_type": "execute_result"
    }
   ],
   "source": [
    "print('train_df cols:', list(train_df.columns))\n",
    "print('test_df cols: ', list(test_df.columns))\n",
    "train_df.head()"
   ]
  },
  {
   "cell_type": "code",
   "execution_count": 13,
   "metadata": {
    "_kg_hide-output": false
   },
   "outputs": [
    {
     "data": {
      "text/plain": [
       "trip_id                int64\n",
       "gender                object\n",
       "starttime             object\n",
       "stoptime              object\n",
       "tripduration           int64\n",
       "from_station_name     object\n",
       "dpcapacity_start     float64\n",
       "to_station_name       object\n",
       "dpcapacity_end       float64\n",
       "temperature          float64\n",
       "visibility           float64\n",
       "wind_speed           float64\n",
       "precipitation        float64\n",
       "events                object\n",
       "dtype: object"
      ]
     },
     "execution_count": 13,
     "metadata": {},
     "output_type": "execute_result"
    }
   ],
   "source": [
    "train_df.dtypes"
   ]
  },
  {
   "cell_type": "markdown",
   "metadata": {},
   "source": [
    "The features `Month`, `DayofMonth`, `DayOfWeek`, `DepTime`, `Distance` can be represented as numbers. Let's convert those features to numerical type (a new feature `HourFloat` is added):"
   ]
  },
  {
   "cell_type": "code",
   "execution_count": 10,
   "metadata": {},
   "outputs": [],
   "source": [
    "# for df in [train_df, test_df]:\n",
    "#     df['Month'] = df['Month'].apply(lambda s: s.split('-')[1]).astype('int')\n",
    "#     df['DayofMonth'] = df['DayofMonth'].apply(lambda s: s.split('-')[1]).astype('int')\n",
    "#     df['DayOfWeek'] = df['DayOfWeek'].apply(lambda s: s.split('-')[1]).astype('int')\n",
    "    \n",
    "#     df['HourFloat'] = df['DepTime'].apply(\n",
    "#         lambda t: (t // 100) % 24 + ((t % 100) % 60) / 60\n",
    "#     ).astype('float')"
   ]
  },
  {
   "cell_type": "markdown",
   "metadata": {},
   "source": [
    "Let's also introduce a new feature `Route` that is the concatenation of `Origin` and `Dest`:"
   ]
  },
  {
   "cell_type": "code",
   "execution_count": null,
   "metadata": {},
   "outputs": [],
   "source": [
    "# for df in [train_df, test_df]:\n",
    "#     df['Route'] = df[['Origin', 'Dest']].apply(\n",
    "#         lambda pair: ''.join([str(a) for a in pair]),\n",
    "#         axis='columns'\n",
    "#     ).astype('str')"
   ]
  },
  {
   "cell_type": "markdown",
   "metadata": {},
   "source": [
    "We will not use the column `DepTime` anymore. Split the target column from the features columns in `train_df`:"
   ]
  },
  {
   "cell_type": "code",
   "execution_count": null,
   "metadata": {},
   "outputs": [],
   "source": [
    "target = train_df['dep_delayed_15min'].map({'Y': 1, 'N': 0})\n",
    "\n",
    "feature_cols = [\n",
    "    'Month', 'DayofMonth', 'DayOfWeek', 'HourFloat', \n",
    "    'UniqueCarrier', 'Origin', 'Dest', 'Route', 'Distance',]\n",
    "train_df_modif = train_df[feature_cols]\n",
    "test_df_modif = test_df[feature_cols]"
   ]
  },
  {
   "cell_type": "markdown",
   "metadata": {},
   "source": [
    "The features `UniqueCarrier`, `Origin`, `Dest`, `Route` should be categorical:"
   ]
  },
  {
   "cell_type": "code",
   "execution_count": null,
   "metadata": {},
   "outputs": [],
   "source": [
    "N_train = train_df_modif.shape[0]\n",
    "train_test_X = pd.concat([train_df_modif, test_df_modif], axis='index')\n",
    "\n",
    "for feat in ['UniqueCarrier', 'Origin', 'Dest', 'Route']:\n",
    "    train_test_X[feat] = train_test_X[feat].astype('category')"
   ]
  },
  {
   "cell_type": "code",
   "execution_count": null,
   "metadata": {},
   "outputs": [],
   "source": [
    "X_train = train_test_X[:N_train]\n",
    "X_test = train_test_X[N_train:]\n",
    "y_train = target"
   ]
  },
  {
   "cell_type": "markdown",
   "metadata": {},
   "source": [
    "Pandas DataFrames should be converted to H2O dataframes before calling `H2OAutoML()`.\n",
    "\n",
    "Note: if you don't have to preprocess the data, you can get H2O dataframes directly from the data files by a call like `df = h2o.import_file(datafile_path)` (where `datafile_path` is a filesystem path or a URL)."
   ]
  },
  {
   "cell_type": "code",
   "execution_count": null,
   "metadata": {},
   "outputs": [],
   "source": [
    "X_y_train_h = h2o.H2OFrame(pd.concat([X_train, y_train], axis='columns'))\n",
    "X_y_train_h['dep_delayed_15min'] = X_y_train_h['dep_delayed_15min'].asfactor()\n",
    "# ^ the target column should have categorical type for classification tasks\n",
    "#   (numerical type for regression tasks)\n",
    "\n",
    "X_test_h = h2o.H2OFrame(X_test)\n",
    "\n",
    "X_y_train_h.describe()"
   ]
  },
  {
   "cell_type": "code",
   "execution_count": null,
   "metadata": {},
   "outputs": [],
   "source": [
    "aml = H2OAutoML(\n",
    "    max_runtime_secs=(3600 * 8),  # 8 hours\n",
    "    max_models=None,  # no limit\n",
    "    seed=17\n",
    ")"
   ]
  },
  {
   "cell_type": "markdown",
   "metadata": {},
   "source": [
    "Among the most important arguments (with their default values) of `H2OAutoML()` are the following:\n",
    "* `nfolds=5` -- number of folds for k-fold cross-validation (`nfolds=0` disables cross-validation)\n",
    "* `balance_classes=False` -- balance training data class counts via over/under-sampling\n",
    "* `max_runtime_secs=3600` -- how long the AutoML run will execute (in seconds)\n",
    "* `max_models=None` -- the maximum number of models to build in an AutoML run (`None` means no limitation)\n",
    "* `include_algos=None` -- list of algorithms to restrict to during the model-building phase (cannot be used in combination with `exclude_algos` parameter; `None` means that all appropriate H2O algorithms will be used)\n",
    "* `exclude_algos=None` -- list of algorithms to skip during the model-building phase (`None` means that all appropriate H2O algorithms will be used)\n",
    "* `seed=None` -- a random seed for reproducibility (AutoML can only guarantee reproducibility if `max_models` or\n",
    "  early stopping is used because `max_runtime_secs` is resource limited, meaning that if the resources are\n",
    "  not the same between runs, AutoML may be able to train more models on one run vs another)\n",
    "\n",
    "H2O AutoML trains and cross-validates:\n",
    "* a default Random Forest (DRF), \n",
    "* an Extremely-Randomized Forest (XRT),\n",
    "* a random grid of Generalized Linear Models (GLM),\n",
    "* a random grid of XGBoost (XGBoost),\n",
    "* a random grid of Gradient Boosting Machines (GBM), \n",
    "* a random grid of Deep Neural Nets (DeepLearning), \n",
    "* and 2 Stacked Ensembles, one of all the models, and one of only the best models of each kind.\n"
   ]
  },
  {
   "cell_type": "markdown",
   "metadata": {},
   "source": [
    "In the cell below, I call `aml.train()`, save the leaderboard and all individual models. The running time is about 8 hours, so after running it once I saved the output files as a new dataset, connected the dataset to this kernel and commented out the code in the cell."
   ]
  },
  {
   "cell_type": "code",
   "execution_count": null,
   "metadata": {},
   "outputs": [],
   "source": [
    "%%time\n",
    "\n",
    "# aml.train(\n",
    "#     x=feature_cols,\n",
    "#     y='dep_delayed_15min',\n",
    "#     training_frame=X_y_train_h\n",
    "# )\n",
    "\n",
    "# lb = aml.leaderboard\n",
    "# model_ids = list(lb['model_id'].as_data_frame().iloc[:,0])\n",
    "# out_path = \".\"\n",
    "\n",
    "# for m_id in model_ids:\n",
    "#     mdl = h2o.get_model(m_id)\n",
    "#     h2o.save_model(model=mdl, path=out_path, force=True)\n",
    "\n",
    "# h2o.export_file(lb, os.path.join(out_path, 'aml_leaderboard.h2o'), force=True)"
   ]
  },
  {
   "cell_type": "markdown",
   "metadata": {},
   "source": [
    "Some of the arguments for `H2OAutoML.train()` are the following:\n",
    "* `training_frame` -- the H2OFrame having the columns indicated by `x` and `y`\n",
    "* `x` -- list of feature column names in `training_frame`\n",
    "* `y` -- a column name indicating the target\n",
    "* `validation_frame` -- the H2OFrame with validation data (by default and when `nfolds` > 1, `validation_frame` will be ignored)\n",
    "* `leaderboard_frame` -- the H2OFrame with test data for scoring the leaderboard (optinal; by default (`leaderboard_frame=None`) the cross-validation metric on `training_frame` will be used to generate the leaderboard rankings)\n",
    "\n",
    "Let's take a look at the leaderboard:"
   ]
  },
  {
   "cell_type": "code",
   "execution_count": null,
   "metadata": {},
   "outputs": [],
   "source": [
    "models_path = \"../input/h2o-automl-saved-models-classif/\"\n",
    "\n",
    "lb = h2o.import_file(path=os.path.join(models_path, \"aml_leaderboard.h2o\"))\n",
    "\n",
    "lb.head(rows=10)\n",
    "#lb.head(rows=lb.nrows)\n",
    "# ^ to see the entire leaderboard"
   ]
  },
  {
   "cell_type": "markdown",
   "metadata": {},
   "source": [
    "Among the individual models, XGBoost is the leader (auc = 0.749523) for this task. Best individual GBM has auc = 0.741785, best XRT has auc = 0.731317, best DRF has auc = 0.725166, best DNN has auc = 0.706676.\n",
    "\n",
    "`StackedEnsemble_AllModels` is usually the leader, `StackedEnsemble_BestOfFamily` is usually at the 2nd place. Let's look inside the `StackedEnsemble_AllModels`. It is an ensemble of all of the individual models in the AutoML run. "
   ]
  },
  {
   "cell_type": "code",
   "execution_count": null,
   "metadata": {},
   "outputs": [],
   "source": [
    "se_all = h2o.load_model(os.path.join(models_path, \"StackedEnsemble_AllModels_AutoML_20190414_112210\"))\n",
    "# Get the Stacked Ensemble metalearner model\n",
    "metalearner = h2o.get_model(se_all.metalearner()['name'])"
   ]
  },
  {
   "cell_type": "markdown",
   "metadata": {},
   "source": [
    "The AutoML Stacked Ensembles use the GLM with non-negative weights as the default metalearner (combiner) algorithm. Let's examine the variable importance of the metalearner algorithm in the ensemble. This shows us how much each base learner is contributing to the ensemble. `Intercept` represents the constant term in a linear model."
   ]
  },
  {
   "cell_type": "code",
   "execution_count": null,
   "metadata": {},
   "outputs": [],
   "source": [
    "%matplotlib inline\n",
    "metalearner.std_coef_plot(num_of_features=20)\n",
    "# ^ all importance values starting from the 16th are zero\n",
    "\n",
    "#metalearner.coef_norm()\n",
    "# ^ to see the table in the text form"
   ]
  },
  {
   "cell_type": "markdown",
   "metadata": {},
   "source": [
    "`StackedEnsemble_BestOfFamily` shows the following:"
   ]
  },
  {
   "cell_type": "code",
   "execution_count": null,
   "metadata": {},
   "outputs": [],
   "source": [
    "se_best_of_family = h2o.load_model(os.path.join(models_path, \"StackedEnsemble_BestOfFamily_AutoML_20190414_112210\"))\n",
    "# Get the Stacked Ensemble metalearner model\n",
    "metalearner = h2o.get_model(se_best_of_family.metalearner()['name'])\n",
    "\n",
    "%matplotlib inline\n",
    "metalearner.std_coef_plot(num_of_features=10)\n",
    "#metalearner.coef_norm()"
   ]
  },
  {
   "cell_type": "markdown",
   "metadata": {},
   "source": [
    "Let's reproduce the result (auc) of a few best individual models."
   ]
  },
  {
   "cell_type": "code",
   "execution_count": null,
   "metadata": {},
   "outputs": [],
   "source": [
    "from h2o.estimators.xgboost import H2OXGBoostEstimator\n",
    "\n",
    "model_01 = h2o.load_model(os.path.join(models_path, \"XGBoost_grid_1_AutoML_20190414_112210_model_19\"))\n",
    "\n",
    "excluded_params = ['model_id', 'response_column', 'ignored_columns']\n",
    "model_01_actual_params = {k: v['actual'] for k, v in model_01.params.items() if k not in excluded_params}\n",
    "\n",
    "reprod_model_01 = H2OXGBoostEstimator(**model_01_actual_params)\n",
    "reprod_model_01.train(\n",
    "    x=feature_cols,\n",
    "    y='dep_delayed_15min',\n",
    "    training_frame=X_y_train_h\n",
    ")\n",
    "reprod_model_01.auc(xval=True)\n",
    "# ^ 0.749453, slightly worse compared to the leaderboard value"
   ]
  },
  {
   "cell_type": "code",
   "execution_count": null,
   "metadata": {},
   "outputs": [],
   "source": [
    "from h2o.estimators.gbm import H2OGradientBoostingEstimator\n",
    "\n",
    "model_12 = h2o.load_model(os.path.join(models_path, \"GBM_grid_1_AutoML_20190414_112210_model_85\"))\n",
    "\n",
    "excluded_params = ['model_id', 'response_column', 'ignored_columns']\n",
    "model_12_actual_params = {k: v['actual'] for k, v in model_12.params.items() if k not in excluded_params}\n",
    "\n",
    "reprod_model_12 = H2OGradientBoostingEstimator(**model_12_actual_params)\n",
    "reprod_model_12.train(\n",
    "    x=feature_cols,\n",
    "    y='dep_delayed_15min',\n",
    "    training_frame=X_y_train_h\n",
    ")\n",
    "reprod_model_12.auc(xval=True)\n",
    "# ^ 0.741785, the same as at the leaderboard"
   ]
  },
  {
   "cell_type": "code",
   "execution_count": null,
   "metadata": {},
   "outputs": [],
   "source": [
    "from h2o.estimators.glm import H2OGeneralizedLinearEstimator\n",
    "from h2o.grid.grid_search import H2OGridSearch\n",
    "\n",
    "model_93 = h2o.load_model(os.path.join(models_path, \"GLM_grid_1_AutoML_20190414_112210_model_1\"))\n",
    "\n",
    "excluded_params = ['model_id', 'response_column', 'ignored_columns', 'lambda']\n",
    "model_93_actual_params = {k: v['actual'] for k, v in model_93.params.items() if k not in excluded_params}\n",
    "\n",
    "reprod_model_93 = H2OGeneralizedLinearEstimator(**model_93_actual_params)\n",
    "reprod_model_93.train(\n",
    "    x=feature_cols,\n",
    "    y='dep_delayed_15min',\n",
    "    training_frame=X_y_train_h\n",
    ")\n",
    "reprod_model_93.auc(xval=True)\n",
    "# ^ 0.699418, the same as at the leaderboard"
   ]
  },
  {
   "cell_type": "markdown",
   "metadata": {},
   "source": [
    "Let's train the CatBoostClassifier with the default parameters and compare its results with AutoML run results."
   ]
  },
  {
   "cell_type": "code",
   "execution_count": null,
   "metadata": {},
   "outputs": [],
   "source": [
    "from catboost import Pool, CatBoostClassifier, cv\n",
    "\n",
    "cb_model = CatBoostClassifier(\n",
    "    eval_metric='AUC',\n",
    "    use_best_model=True,\n",
    "    random_seed=17\n",
    ")\n",
    "\n",
    "cv_data = cv(\n",
    "    Pool(X_train, y_train, cat_features=[4,5,6,7]),\n",
    "    cb_model.get_params(),\n",
    "    fold_count=5,\n",
    "    verbose=False\n",
    ")\n",
    "\n",
    "print(\"CatBoostClassifier: the best cv auc is\", np.max(cv_data['test-AUC-mean']))"
   ]
  },
  {
   "cell_type": "markdown",
   "metadata": {},
   "source": [
    "The CatBoostClassifier cross-validation auc result is 0.749009. This value falls between the 2nd (auc = 0.749523) and 3rd (auc = 0.749192) places among the individual models at the leaderboard."
   ]
  },
  {
   "cell_type": "markdown",
   "metadata": {},
   "source": [
    "**Example 2: a regression task**"
   ]
  },
  {
   "cell_type": "markdown",
   "metadata": {},
   "source": [
    "Let's consider a regression task from the [\"New York City Taxi Trip Duration\" competition](https://www.kaggle.com/c/nyc-taxi-trip-duration). The challenge is to build a model that predicts the total ride duration of taxi trips in New York City. The features include pickup time, geo-coordinates, number of passengers, and a few other variables."
   ]
  },
  {
   "cell_type": "code",
   "execution_count": null,
   "metadata": {},
   "outputs": [],
   "source": [
    "df_train = pd.read_csv('../input/nyc-taxi-trip-duration/train.csv', index_col=0)\n",
    "df_test  = pd.read_csv('../input/nyc-taxi-trip-duration/test.csv',  index_col=0)"
   ]
  },
  {
   "cell_type": "markdown",
   "metadata": {},
   "source": [
    "We will use only `df_train` (perform 5-fold cross-validation on it). Convert the date- and time-related features to the `datetime` format; take the logarithm (`log(1 + x)`) of the target value (trip duration). After the logarithm transform, the distribution of the target variable is close to normal (see this [kernel](https://www.kaggle.com/gaborfodor/from-eda-to-the-top-lb-0-367))."
   ]
  },
  {
   "cell_type": "code",
   "execution_count": null,
   "metadata": {},
   "outputs": [],
   "source": [
    "df_train['pickup_datetime'] = pd.to_datetime(df_train.pickup_datetime)\n",
    "df_train.loc[:, 'pickup_date'] = df_train['pickup_datetime'].dt.date\n",
    "df_train['dropoff_datetime'] = pd.to_datetime(df_train.dropoff_datetime)\n",
    "df_train['store_and_fwd_flag'] = 1 * (df_train.store_and_fwd_flag.values == 'Y')\n",
    "df_train['check_trip_duration'] = (df_train['dropoff_datetime'] - df_train['pickup_datetime']).map(\n",
    "    lambda x: x.total_seconds()\n",
    ")\n",
    "df_train['log_trip_duration'] = np.log1p(df_train['trip_duration'].values)\n",
    "\n",
    "cnd = np.abs(df_train['check_trip_duration'].values  - df_train['trip_duration'].values) > 1\n",
    "duration_difference = df_train[cnd]\n",
    "\n",
    "if len(duration_difference[['pickup_datetime', 'dropoff_datetime', 'trip_duration', 'check_trip_duration']]) == 0:\n",
    "    print('Trip_duration and datetimes are ok.')\n",
    "else:\n",
    "    print('Ooops.')"
   ]
  },
  {
   "cell_type": "markdown",
   "metadata": {},
   "source": [
    "Select the columns common to the train set and test set; convert `pd.DataFrame` to `H2OFrame`:"
   ]
  },
  {
   "cell_type": "code",
   "execution_count": null,
   "metadata": {},
   "outputs": [],
   "source": [
    "common_cols = [\n",
    "    'vendor_id', \n",
    "    'pickup_datetime', \n",
    "    'passenger_count', \n",
    "    'pickup_longitude', 'pickup_latitude', \n",
    "    'dropoff_longitude', 'dropoff_latitude',\n",
    "    'store_and_fwd_flag',\n",
    "]\n",
    "\n",
    "X_y_train_h = h2o.H2OFrame(\n",
    "    pd.concat(\n",
    "        [df_train[common_cols], df_train['log_trip_duration']],\n",
    "        axis='columns'\n",
    "    )\n",
    ")\n",
    "\n",
    "for ft in ['vendor_id', 'store_and_fwd_flag']:\n",
    "    X_y_train_h[ft] = X_y_train_h[ft].asfactor()\n",
    "    \n",
    "X_y_train_h.describe()"
   ]
  },
  {
   "cell_type": "markdown",
   "metadata": {},
   "source": [
    "I have run the cell below (~8 hours), saved all models and the leaderboard, then commented out the code:"
   ]
  },
  {
   "cell_type": "code",
   "execution_count": null,
   "metadata": {},
   "outputs": [],
   "source": [
    "# aml = H2OAutoML(\n",
    "#     max_runtime_secs=(3600 * 8),  # 8 hours\n",
    "#     max_models=None,  # no limit\n",
    "#     seed=SEED,\n",
    "# )\n",
    "\n",
    "# aml.train(\n",
    "#     x=common_cols,\n",
    "#     y='log_trip_duration',\n",
    "#     training_frame=X_y_train_h\n",
    "# )\n",
    "\n",
    "# lb = aml.leaderboard\n",
    "# model_ids = list(lb['model_id'].as_data_frame().iloc[:,0])\n",
    "# out_path = \".\"\n",
    "\n",
    "# for m_id in model_ids:\n",
    "#     mdl = h2o.get_model(m_id)\n",
    "#     h2o.save_model(model=mdl, path=out_path, force=True)\n",
    "\n",
    "# h2o.export_file(lb, os.path.join(out_path, 'aml_leaderboard.h2o'), force=True)\n"
   ]
  },
  {
   "cell_type": "markdown",
   "metadata": {},
   "source": [
    "Interestingly, there is only one model at the leaderboard:"
   ]
  },
  {
   "cell_type": "code",
   "execution_count": null,
   "metadata": {},
   "outputs": [],
   "source": [
    "models_path = \"../input/h2o-automl-saved-models-regress/\"\n",
    "\n",
    "lb = h2o.import_file(path=os.path.join(models_path, \"aml_leaderboard.h2o\"))\n",
    "lb.head(rows=10)"
   ]
  },
  {
   "cell_type": "markdown",
   "metadata": {},
   "source": [
    "Let's compare the result of the model `XGBoost_1_AutoML_20190417_212831` with that of the CatBoostRegressor with the default parameters."
   ]
  },
  {
   "cell_type": "code",
   "execution_count": null,
   "metadata": {},
   "outputs": [],
   "source": [
    "from catboost import Pool, CatBoostRegressor, cv\n",
    "\n",
    "cb_model = CatBoostRegressor(\n",
    "    eval_metric='RMSE',\n",
    "    use_best_model=True,\n",
    "    random_seed=17\n",
    ")\n",
    "\n",
    "cv_data = cv(\n",
    "    Pool(df_train[common_cols], df_train['log_trip_duration'], cat_features=[0,7]),\n",
    "    cb_model.get_params(),\n",
    "    fold_count=5,\n",
    "    verbose=False\n",
    ")"
   ]
  },
  {
   "cell_type": "code",
   "execution_count": null,
   "metadata": {},
   "outputs": [],
   "source": [
    "print(\"CatBoostRegressor: the best cv rmse is\", np.min(cv_data['test-RMSE-mean']))"
   ]
  },
  {
   "cell_type": "markdown",
   "metadata": {},
   "source": [
    "Default CatBoost's RMSE is slightly worse than that of the XGBoost model from the H2O AutoML run."
   ]
  },
  {
   "cell_type": "markdown",
   "metadata": {},
   "source": [
    "**Conclusion**"
   ]
  },
  {
   "cell_type": "markdown",
   "metadata": {},
   "source": [
    "I think that H2O AutoML is worth a try. And I hope you have found this tutorial useful.\n",
    "\n",
    "There are extremely useful \"H2O AutoML Pro Tips\" in the presentation \"Scalable Automatic Machine Learning in H2O\" mentioned in the References below."
   ]
  },
  {
   "cell_type": "markdown",
   "metadata": {},
   "source": [
    "**References**\n",
    "\n",
    "* [H2O.ai](https://www.h2o.ai/)\n",
    "* [H2O AutoML documentation](http://docs.h2o.ai/h2o/latest-stable/h2o-docs/automl.html)\n",
    "* [AutoML Tutorial](https://github.com/h2oai/h2o-tutorials/tree/master/h2o-world-2017/automl): R and Python notebooks\n",
    "* Intro to AutoML + Hands-on Lab: [1 hour video](https://www.youtube.com/watch?v=42Oo8TOl85I), [slides](https://www.slideshare.net/0xdata/intro-to-automl-handson-lab-erin-ledell-machine-learning-scientist-h2oai)\n",
    "* Scalable Automatic Machine Learning in H2O: [1 hour video](https://www.youtube.com/watch?v=j6rqrEYQNdo), [slides](https://www.slideshare.net/0xdata/scalable-automatic-machine-learning-in-h2o-89130971)\n",
    "* [H2O for GPU](https://www.h2o.ai/products/h2o4gpu/) (H2O4GPU)"
   ]
  }
 ],
 "metadata": {
  "kernelspec": {
   "display_name": "Python 3 (ipykernel)",
   "language": "python",
   "name": "python3"
  },
  "language_info": {
   "codemirror_mode": {
    "name": "ipython",
    "version": 3
   },
   "file_extension": ".py",
   "mimetype": "text/x-python",
   "name": "python",
   "nbconvert_exporter": "python",
   "pygments_lexer": "ipython3",
   "version": "3.9.12"
  }
 },
 "nbformat": 4,
 "nbformat_minor": 4
}
