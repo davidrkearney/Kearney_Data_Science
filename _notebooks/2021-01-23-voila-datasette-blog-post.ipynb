{
 "cells": [
  {
   "cell_type": "code",
   "execution_count": null,
   "metadata": {},
   "outputs": [],
   "source": [
    "# Set up "
   ]
  },
  {
   "cell_type": "code",
   "execution_count": null,
   "metadata": {},
   "outputs": [],
   "source": []
  },
  {
   "cell_type": "code",
   "execution_count": 2,
   "metadata": {},
   "outputs": [],
   "source": [
    "import pandas as pd\n",
    "import numpy as np\n",
    "import pandas_datareader.data as web\n",
    "import sqlalchemy as db\n",
    "from sqlalchemy import create_engine\n",
    "import datetime\n",
    "import sqlite3\n",
    "import pandas as pd\n",
    "from sqlalchemy.sql.schema import Column\n"
   ]
  },
  {
   "cell_type": "code",
   "execution_count": null,
   "metadata": {},
   "outputs": [],
   "source": []
  },
  {
   "cell_type": "code",
   "execution_count": 3,
   "metadata": {},
   "outputs": [
    {
     "name": "stdout",
     "output_type": "stream",
     "text": [
      "                         Date  SP500_stock  Russell_2000_stock  FXAIX_stock\n",
      "0  2018-01-02 00:00:00.000000  2683.729980         1536.119995    94.230003\n",
      "1  2018-01-03 00:00:00.000000  2697.850098         1550.280029    94.830002\n",
      "2  2018-01-04 00:00:00.000000  2719.310059         1552.979980    95.230003\n",
      "3  2018-01-05 00:00:00.000000  2731.330078         1555.869995    95.900002\n",
      "4  2018-01-08 00:00:00.000000  2742.669922         1559.800049    96.059998\n",
      "5  2018-01-09 00:00:00.000000  2751.149902         1562.219971    96.220001\n",
      "6  2018-01-10 00:00:00.000000  2745.550049         1559.010010    96.110001\n",
      "7  2018-01-11 00:00:00.000000  2752.969971         1560.219971    96.790001\n",
      "8  2018-01-12 00:00:00.000000  2770.179932         1587.119995    97.449997\n",
      "9  2018-01-16 00:00:00.000000  2798.959961         1592.910034    97.110001\n"
     ]
    }
   ],
   "source": [
    "start = pd.to_datetime('2018-01-01')\n",
    "end = pd.to_datetime('today')\n",
    "\n",
    "FXAIX_stock = web.DataReader('FXAIX', 'yahoo', start, end)\n",
    "FXAIX_stock.head()\n",
    "\n",
    "SP500_stock = web.DataReader('^GSPC', 'yahoo', start, end)\n",
    "SP500_stock.head()\n",
    "\n",
    "Russell_2000_stock = web.DataReader('^RUT', 'yahoo', start, end)\n",
    "Russell_2000_stock.head()\n",
    "\n",
    "\n",
    "stocks = pd.concat([SP500_stock['Open'], Russell_2000_stock['Open'], FXAIX_stock['Open']], axis = 1)\n",
    "\n",
    "stocks.columns = ['SP500_stock','Russell_2000_stock', 'FXAIX_stock']\n",
    "\n",
    "stocks.reset_index(level=0, inplace=True)\n",
    "stocks\n",
    "\n",
    "engine = db.create_engine('sqlite:///stocks.db')\n",
    "connection = engine.connect()\n",
    "metadata = db.MetaData()\n",
    "\n",
    "\n",
    "stocks_table = db.Table('index_stocks_table', metadata, \n",
    "    db.Column('Date',db.Date, nullable=True, index=False),\n",
    "    db.Column('SP500_stock',db.Integer, nullable=True),\n",
    "    db.Column('Russell_2000_stock',db.Integer, nullable=True),\n",
    "    db.Column('FXAIX_stock', db.Numeric, nullable=True)\n",
    ")\n",
    "\n",
    "metadata.create_all(engine) \n",
    "\n",
    "stocks.to_sql('index_stocks_table', con=engine, if_exists='replace', index=False)\n",
    "\n",
    "sql = \"SELECT * FROM index_stocks_table LIMIT 10\"\n",
    "cnxn = connection\n",
    "df = pd.read_sql(sql, cnxn)\n",
    "print(df.head(10))\n"
   ]
  },
  {
   "cell_type": "markdown",
   "metadata": {},
   "source": [
    "```\n",
    "\n",
    "#!/bin/bash\n",
    "source ~/anaconda3/etc/profile.d/conda.sh\n",
    "conda activate base\n",
    "python stocks_fiax.py\n",
    "datasette publish heroku -n stocks-snp-500 stocks.db --install=datasette-vega\n",
    "\n",
    "```"
   ]
  },
  {
   "cell_type": "code",
   "execution_count": null,
   "metadata": {},
   "outputs": [],
   "source": [
    "#snp_list_tables.columns = ['Symbol','Security', 'SEC filings', 'GICS Sector', 'GICS Sub-Industry', ' Headquarters Location', 'Date first added', 'CIK', 'Founded']\n",
    "#snp_list_tables.head(10)\n",
    "#\n",
    "#\n",
    "#snp_list_table = db.Table('snp_list_tables', metadata, \n",
    "#    db.Column('Symbol',db.String, nullable=True, index=False),\n",
    "#    db.Column('Security',db.String, nullable=True),\n",
    "#    db.Column('SEC filings',db.String, nullable=True),\n",
    "#    db.Column('GICS Sub-Industry',db.String, nullable=True),\n",
    "#    db.Column('Headquarters Location',db.String, nullable=True)\n",
    "#    , db.Column('Date first added', db.Date, nullable=True)\n",
    "#    , db.Column('CIK', db.String, nullable=True)\n",
    "#    , db.Column('Founded', db.Date, nullable=True)\n",
    "#)\n",
    "#\n",
    "#snp_list_table.to_sql('snp_list', con=engine, if_exists='replace', index=False)\n",
    "#\n",
    "#sql = \"SELECT * FROM snp_list LIMIT 10\"\n",
    "#cnxn = connection\n",
    "#df = pd.read_sql(sql, cnxn)\n",
    "#print(df.head(30))\n"
   ]
  }
 ],
 "metadata": {
  "kernelspec": {
   "display_name": "Dask Kernal",
   "language": "python",
   "name": "dask"
  },
  "language_info": {
   "codemirror_mode": {
    "name": "ipython",
    "version": 3
   },
   "file_extension": ".py",
   "mimetype": "text/x-python",
   "name": "python",
   "nbconvert_exporter": "python",
   "pygments_lexer": "ipython3",
   "version": "3.8.5"
  }
 },
 "nbformat": 4,
 "nbformat_minor": 4
}
