{
 "cells": [
  {
   "cell_type": "markdown",
   "metadata": {},
   "source": [
    "# Moving Dask XGboost with Fiscal Data, saving and loading Dask XGboost models"
   ]
  },
  {
   "cell_type": "markdown",
   "metadata": {},
   "source": [
    "This post includes code from [Scalable-Data-Analysis-in-Python-with-Dask](https://github.com/PacktPublishing/-Scalable-Data-Analysis-in-Python-with-Dask/tree/master/Section%202) and [coiled-examples](https://github.com/coiled/coiled-examples)."
   ]
  },
  {
   "cell_type": "code",
   "execution_count": 1,
   "metadata": {},
   "outputs": [],
   "source": [
    "import numpy as np\n",
    "import dask.array as da\n",
    "import pandas as pd\n",
    "import sqlalchemy as db\n",
    "from sqlalchemy import create_engine\n",
    "import sqlite3\n",
    "import pandas as pd"
   ]
  },
  {
   "cell_type": "code",
   "execution_count": 9,
   "metadata": {},
   "outputs": [],
   "source": [
    "engine = db.create_engine('sqlite:///fiscal.db')\n",
    "connection = engine.connect()\n",
    "metadata = db.MetaData()"
   ]
  },
  {
   "cell_type": "code",
   "execution_count": 10,
   "metadata": {},
   "outputs": [
    {
     "data": {
      "text/plain": [
       "[(1996, 'East China', 'Anhui', 631930, 147002, 2093.3, 50661),\n",
       " (1997, 'East China', 'Anhui', 657860, 151981, 2347.32, 43443),\n",
       " (1998, 'East China', 'Anhui', 889463, 174930, 2542.96, 27673),\n",
       " (1999, 'East China', 'Anhui', 1227364, 285324, 2712.34, 26131),\n",
       " (2000, 'East China', 'Anhui', 1499110, 195580, 2902.09, 31847),\n",
       " (2001, 'East China', 'Anhui', 2165189, 250898, 3246.71, 33672),\n",
       " (2002, 'East China', 'Anhui', 2404936, 434149, 3519.72, 38375),\n",
       " (2003, 'East China', 'Anhui', 2815820, 619201, 3923.11, 36720),\n",
       " (2004, 'East China', 'Anhui', 3422176, 898441, 4759.3, 54669),\n",
       " (2005, 'East China', 'Anhui', 3874846, 898441, 5350.17, 69000)]"
      ]
     },
     "execution_count": 10,
     "metadata": {},
     "output_type": "execute_result"
    }
   ],
   "source": [
    "engine.execute(\"SELECT * FROM fiscal_table LIMIT 10\").fetchall()"
   ]
  },
  {
   "cell_type": "code",
   "execution_count": 11,
   "metadata": {},
   "outputs": [],
   "source": [
    "sql = \"\"\"\n",
    "SELECT year\n",
    ", region\n",
    ", province\n",
    ", gdp\n",
    ", fdi\n",
    ", it\n",
    ", specific\n",
    "FROM fiscal_table\n",
    "\"\"\"\n",
    "\n",
    "cnxn = connection"
   ]
  },
  {
   "cell_type": "code",
   "execution_count": 12,
   "metadata": {},
   "outputs": [],
   "source": [
    "df = pd.read_sql(sql, cnxn)"
   ]
  },
  {
   "cell_type": "code",
   "execution_count": 13,
   "metadata": {},
   "outputs": [
    {
     "data": {
      "text/html": [
       "<div>\n",
       "<style scoped>\n",
       "    .dataframe tbody tr th:only-of-type {\n",
       "        vertical-align: middle;\n",
       "    }\n",
       "\n",
       "    .dataframe tbody tr th {\n",
       "        vertical-align: top;\n",
       "    }\n",
       "\n",
       "    .dataframe thead th {\n",
       "        text-align: right;\n",
       "    }\n",
       "</style>\n",
       "<table border=\"1\" class=\"dataframe\">\n",
       "  <thead>\n",
       "    <tr style=\"text-align: right;\">\n",
       "      <th></th>\n",
       "      <th>year</th>\n",
       "      <th>region</th>\n",
       "      <th>province</th>\n",
       "      <th>gdp</th>\n",
       "      <th>fdi</th>\n",
       "      <th>it</th>\n",
       "      <th>specific</th>\n",
       "    </tr>\n",
       "  </thead>\n",
       "  <tbody>\n",
       "    <tr>\n",
       "      <th>0</th>\n",
       "      <td>1996</td>\n",
       "      <td>East China</td>\n",
       "      <td>Anhui</td>\n",
       "      <td>2093.30</td>\n",
       "      <td>50661</td>\n",
       "      <td>631930</td>\n",
       "      <td>147002.0</td>\n",
       "    </tr>\n",
       "    <tr>\n",
       "      <th>1</th>\n",
       "      <td>1997</td>\n",
       "      <td>East China</td>\n",
       "      <td>Anhui</td>\n",
       "      <td>2347.32</td>\n",
       "      <td>43443</td>\n",
       "      <td>657860</td>\n",
       "      <td>151981.0</td>\n",
       "    </tr>\n",
       "    <tr>\n",
       "      <th>2</th>\n",
       "      <td>1998</td>\n",
       "      <td>East China</td>\n",
       "      <td>Anhui</td>\n",
       "      <td>2542.96</td>\n",
       "      <td>27673</td>\n",
       "      <td>889463</td>\n",
       "      <td>174930.0</td>\n",
       "    </tr>\n",
       "    <tr>\n",
       "      <th>3</th>\n",
       "      <td>1999</td>\n",
       "      <td>East China</td>\n",
       "      <td>Anhui</td>\n",
       "      <td>2712.34</td>\n",
       "      <td>26131</td>\n",
       "      <td>1227364</td>\n",
       "      <td>285324.0</td>\n",
       "    </tr>\n",
       "    <tr>\n",
       "      <th>4</th>\n",
       "      <td>2000</td>\n",
       "      <td>East China</td>\n",
       "      <td>Anhui</td>\n",
       "      <td>2902.09</td>\n",
       "      <td>31847</td>\n",
       "      <td>1499110</td>\n",
       "      <td>195580.0</td>\n",
       "    </tr>\n",
       "    <tr>\n",
       "      <th>...</th>\n",
       "      <td>...</td>\n",
       "      <td>...</td>\n",
       "      <td>...</td>\n",
       "      <td>...</td>\n",
       "      <td>...</td>\n",
       "      <td>...</td>\n",
       "      <td>...</td>\n",
       "    </tr>\n",
       "    <tr>\n",
       "      <th>355</th>\n",
       "      <td>2003</td>\n",
       "      <td>East China</td>\n",
       "      <td>Zhejiang</td>\n",
       "      <td>9705.02</td>\n",
       "      <td>498055</td>\n",
       "      <td>2261631</td>\n",
       "      <td>391292.0</td>\n",
       "    </tr>\n",
       "    <tr>\n",
       "      <th>356</th>\n",
       "      <td>2004</td>\n",
       "      <td>East China</td>\n",
       "      <td>Zhejiang</td>\n",
       "      <td>11648.70</td>\n",
       "      <td>668128</td>\n",
       "      <td>3162299</td>\n",
       "      <td>656175.0</td>\n",
       "    </tr>\n",
       "    <tr>\n",
       "      <th>357</th>\n",
       "      <td>2005</td>\n",
       "      <td>East China</td>\n",
       "      <td>Zhejiang</td>\n",
       "      <td>13417.68</td>\n",
       "      <td>772000</td>\n",
       "      <td>2370200</td>\n",
       "      <td>656175.0</td>\n",
       "    </tr>\n",
       "    <tr>\n",
       "      <th>358</th>\n",
       "      <td>2006</td>\n",
       "      <td>East China</td>\n",
       "      <td>Zhejiang</td>\n",
       "      <td>15718.47</td>\n",
       "      <td>888935</td>\n",
       "      <td>2553268</td>\n",
       "      <td>1017303.0</td>\n",
       "    </tr>\n",
       "    <tr>\n",
       "      <th>359</th>\n",
       "      <td>2007</td>\n",
       "      <td>East China</td>\n",
       "      <td>Zhejiang</td>\n",
       "      <td>18753.73</td>\n",
       "      <td>1036576</td>\n",
       "      <td>2939778</td>\n",
       "      <td>844647.0</td>\n",
       "    </tr>\n",
       "  </tbody>\n",
       "</table>\n",
       "<p>360 rows × 7 columns</p>\n",
       "</div>"
      ],
      "text/plain": [
       "     year      region  province       gdp      fdi       it   specific\n",
       "0    1996  East China     Anhui   2093.30    50661   631930   147002.0\n",
       "1    1997  East China     Anhui   2347.32    43443   657860   151981.0\n",
       "2    1998  East China     Anhui   2542.96    27673   889463   174930.0\n",
       "3    1999  East China     Anhui   2712.34    26131  1227364   285324.0\n",
       "4    2000  East China     Anhui   2902.09    31847  1499110   195580.0\n",
       "..    ...         ...       ...       ...      ...      ...        ...\n",
       "355  2003  East China  Zhejiang   9705.02   498055  2261631   391292.0\n",
       "356  2004  East China  Zhejiang  11648.70   668128  3162299   656175.0\n",
       "357  2005  East China  Zhejiang  13417.68   772000  2370200   656175.0\n",
       "358  2006  East China  Zhejiang  15718.47   888935  2553268  1017303.0\n",
       "359  2007  East China  Zhejiang  18753.73  1036576  2939778   844647.0\n",
       "\n",
       "[360 rows x 7 columns]"
      ]
     },
     "execution_count": 13,
     "metadata": {},
     "output_type": "execute_result"
    }
   ],
   "source": [
    "df"
   ]
  },
  {
   "cell_type": "code",
   "execution_count": 14,
   "metadata": {},
   "outputs": [
    {
     "data": {
      "text/plain": [
       "Index(['year', 'region', 'province', 'gdp', 'fdi', 'it', 'specific'], dtype='object')"
      ]
     },
     "execution_count": 14,
     "metadata": {},
     "output_type": "execute_result"
    }
   ],
   "source": [
    "df.columns"
   ]
  },
  {
   "cell_type": "code",
   "execution_count": 15,
   "metadata": {},
   "outputs": [
    {
     "data": {
      "text/plain": [
       "<matplotlib.axes._subplots.AxesSubplot at 0x7f2677958128>"
      ]
     },
     "execution_count": 15,
     "metadata": {},
     "output_type": "execute_result"
    },
    {
     "data": {
      "image/png": "[encoded data removed]",
      "text/plain": [
       "<Figure size 432x288 with 1 Axes>"
      ]
     },
     "metadata": {
      "needs_background": "light"
     },
     "output_type": "display_data"
    }
   ],
   "source": [
    "df.gdp.hist()"
   ]
  },
  {
   "cell_type": "code",
   "execution_count": 16,
   "metadata": {},
   "outputs": [
    {
     "data": {
      "text/html": [
       "<table style=\"border: 2px solid white;\">\n",
       "<tr>\n",
       "<td style=\"vertical-align: top; border: 0px solid white\">\n",
       "<h3 style=\"text-align: left;\">Client</h3>\n",
       "<ul style=\"text-align: left; list-style: none; margin: 0; padding: 0;\">\n",
       "  <li><b>Scheduler: </b>inproc://192.168.1.71/13442/1</li>\n",
       "  <li><b>Dashboard: </b><a href='http://192.168.1.71:8787/status' target='_blank'>http://192.168.1.71:8787/status</a></li>\n",
       "</ul>\n",
       "</td>\n",
       "<td style=\"vertical-align: top; border: 0px solid white\">\n",
       "<h3 style=\"text-align: left;\">Cluster</h3>\n",
       "<ul style=\"text-align: left; list-style:none; margin: 0; padding: 0;\">\n",
       "  <li><b>Workers: </b>3</li>\n",
       "  <li><b>Cores: </b>6</li>\n",
       "  <li><b>Memory: </b>12.00 GB</li>\n",
       "</ul>\n",
       "</td>\n",
       "</tr>\n",
       "</table>"
      ],
      "text/plain": [
       "<Client: 'inproc://192.168.1.71/13442/1' processes=3 threads=6, memory=12.00 GB>"
      ]
     },
     "execution_count": 16,
     "metadata": {},
     "output_type": "execute_result"
    }
   ],
   "source": [
    "from dask.distributed import Client\n",
    "\n",
    "client = Client(processes=False, threads_per_worker=2,\n",
    "                n_workers=3, memory_limit='4GB')\n",
    "client"
   ]
  },
  {
   "cell_type": "code",
   "execution_count": 17,
   "metadata": {},
   "outputs": [
    {
     "data": {
      "text/html": [
       "<table style=\"border: 2px solid white;\">\n",
       "<tr>\n",
       "<td style=\"vertical-align: top; border: 0px solid white\">\n",
       "<h3 style=\"text-align: left;\">Client</h3>\n",
       "<ul style=\"text-align: left; list-style: none; margin: 0; padding: 0;\">\n",
       "  <li><b>Scheduler: </b>inproc://192.168.1.71/13442/1</li>\n",
       "  <li><b>Dashboard: </b><a href='http://192.168.1.71:8787/status' target='_blank'>http://192.168.1.71:8787/status</a></li>\n",
       "</ul>\n",
       "</td>\n",
       "<td style=\"vertical-align: top; border: 0px solid white\">\n",
       "<h3 style=\"text-align: left;\">Cluster</h3>\n",
       "<ul style=\"text-align: left; list-style:none; margin: 0; padding: 0;\">\n",
       "  <li><b>Workers: </b>3</li>\n",
       "  <li><b>Cores: </b>6</li>\n",
       "  <li><b>Memory: </b>12.00 GB</li>\n",
       "</ul>\n",
       "</td>\n",
       "</tr>\n",
       "</table>"
      ],
      "text/plain": [
       "<Client: 'inproc://192.168.1.71/13442/1' processes=0 threads=0, memory=0 B>"
      ]
     },
     "execution_count": 17,
     "metadata": {},
     "output_type": "execute_result"
    }
   ],
   "source": [
    "client.restart()"
   ]
  },
  {
   "cell_type": "code",
   "execution_count": 20,
   "metadata": {},
   "outputs": [],
   "source": [
    "from dask import dataframe as dd "
   ]
  },
  {
   "cell_type": "code",
   "execution_count": 21,
   "metadata": {},
   "outputs": [],
   "source": [
    "ddf = dd.from_pandas(df, npartitions=5)"
   ]
  },
  {
   "cell_type": "code",
   "execution_count": 22,
   "metadata": {},
   "outputs": [
    {
     "name": "stdout",
     "output_type": "stream",
     "text": [
      "Dask DataFrame Structure:\n",
      "                year  region province      gdp    fdi     it specific\n",
      "npartitions=5                                                        \n",
      "0              int64  object   object  float64  int64  int64  float64\n",
      "72               ...     ...      ...      ...    ...    ...      ...\n",
      "...              ...     ...      ...      ...    ...    ...      ...\n",
      "288              ...     ...      ...      ...    ...    ...      ...\n",
      "359              ...     ...      ...      ...    ...    ...      ...\n",
      "Dask Name: from_pandas, 5 tasks\n"
     ]
    }
   ],
   "source": [
    "print(ddf)"
   ]
  },
  {
   "cell_type": "code",
   "execution_count": 23,
   "metadata": {},
   "outputs": [
    {
     "data": {
      "text/html": [
       "<div>\n",
       "<style scoped>\n",
       "    .dataframe tbody tr th:only-of-type {\n",
       "        vertical-align: middle;\n",
       "    }\n",
       "\n",
       "    .dataframe tbody tr th {\n",
       "        vertical-align: top;\n",
       "    }\n",
       "\n",
       "    .dataframe thead th {\n",
       "        text-align: right;\n",
       "    }\n",
       "</style>\n",
       "<table border=\"1\" class=\"dataframe\">\n",
       "  <thead>\n",
       "    <tr style=\"text-align: right;\">\n",
       "      <th></th>\n",
       "      <th>year</th>\n",
       "      <th>region</th>\n",
       "      <th>province</th>\n",
       "      <th>gdp</th>\n",
       "      <th>fdi</th>\n",
       "      <th>it</th>\n",
       "      <th>specific</th>\n",
       "    </tr>\n",
       "  </thead>\n",
       "  <tbody>\n",
       "    <tr>\n",
       "      <th>0</th>\n",
       "      <td>1996</td>\n",
       "      <td>East China</td>\n",
       "      <td>Anhui</td>\n",
       "      <td>2093.30</td>\n",
       "      <td>50661</td>\n",
       "      <td>631930</td>\n",
       "      <td>147002.0</td>\n",
       "    </tr>\n",
       "    <tr>\n",
       "      <th>1</th>\n",
       "      <td>1997</td>\n",
       "      <td>East China</td>\n",
       "      <td>Anhui</td>\n",
       "      <td>2347.32</td>\n",
       "      <td>43443</td>\n",
       "      <td>657860</td>\n",
       "      <td>151981.0</td>\n",
       "    </tr>\n",
       "    <tr>\n",
       "      <th>2</th>\n",
       "      <td>1998</td>\n",
       "      <td>East China</td>\n",
       "      <td>Anhui</td>\n",
       "      <td>2542.96</td>\n",
       "      <td>27673</td>\n",
       "      <td>889463</td>\n",
       "      <td>174930.0</td>\n",
       "    </tr>\n",
       "    <tr>\n",
       "      <th>3</th>\n",
       "      <td>1999</td>\n",
       "      <td>East China</td>\n",
       "      <td>Anhui</td>\n",
       "      <td>2712.34</td>\n",
       "      <td>26131</td>\n",
       "      <td>1227364</td>\n",
       "      <td>285324.0</td>\n",
       "    </tr>\n",
       "    <tr>\n",
       "      <th>4</th>\n",
       "      <td>2000</td>\n",
       "      <td>East China</td>\n",
       "      <td>Anhui</td>\n",
       "      <td>2902.09</td>\n",
       "      <td>31847</td>\n",
       "      <td>1499110</td>\n",
       "      <td>195580.0</td>\n",
       "    </tr>\n",
       "  </tbody>\n",
       "</table>\n",
       "</div>"
      ],
      "text/plain": [
       "   year      region province      gdp    fdi       it  specific\n",
       "0  1996  East China    Anhui  2093.30  50661   631930  147002.0\n",
       "1  1997  East China    Anhui  2347.32  43443   657860  151981.0\n",
       "2  1998  East China    Anhui  2542.96  27673   889463  174930.0\n",
       "3  1999  East China    Anhui  2712.34  26131  1227364  285324.0\n",
       "4  2000  East China    Anhui  2902.09  31847  1499110  195580.0"
      ]
     },
     "execution_count": 23,
     "metadata": {},
     "output_type": "execute_result"
    }
   ],
   "source": [
    "ddf.head()"
   ]
  },
  {
   "cell_type": "code",
   "execution_count": 24,
   "metadata": {},
   "outputs": [
    {
     "data": {
      "text/plain": [
       "'Client-e79fe0fe-0d59-11eb-b482-f9dc9eaa58ee'"
      ]
     },
     "execution_count": 24,
     "metadata": {},
     "output_type": "execute_result"
    }
   ],
   "source": [
    "client.id"
   ]
  },
  {
   "cell_type": "code",
   "execution_count": 25,
   "metadata": {},
   "outputs": [],
   "source": [
    "feat_list = [\"year\", \"fdi\"]\n",
    "cat_feat_list = [\"region\", \"province\"]\n",
    "target = [\"gdp\"]"
   ]
  },
  {
   "cell_type": "code",
   "execution_count": 26,
   "metadata": {},
   "outputs": [],
   "source": [
    "ddf[\"year\"] = ddf[\"year\"].astype(int)\n",
    "ddf[\"fdi\"] = ddf[\"fdi\"].astype(float)\n",
    "ddf[\"gdp\"] = ddf[\"gdp\"].astype(float)\n",
    "ddf[\"it\"] = ddf[\"it\"].astype(float)\n",
    "# ddf[\"province\"] = ddf[\"province\"].astype(float)\n",
    "# ddf[\"region\"] = ddf[\"region\"].astype(float)"
   ]
  },
  {
   "cell_type": "code",
   "execution_count": 27,
   "metadata": {},
   "outputs": [],
   "source": [
    "x=ddf[feat_list].persist()\n",
    "y=ddf[target].persist()"
   ]
  },
  {
   "cell_type": "code",
   "execution_count": 28,
   "metadata": {},
   "outputs": [
    {
     "data": {
      "text/html": [
       "<div><strong>Dask DataFrame Structure:</strong></div>\n",
       "<div>\n",
       "<style scoped>\n",
       "    .dataframe tbody tr th:only-of-type {\n",
       "        vertical-align: middle;\n",
       "    }\n",
       "\n",
       "    .dataframe tbody tr th {\n",
       "        vertical-align: top;\n",
       "    }\n",
       "\n",
       "    .dataframe thead th {\n",
       "        text-align: right;\n",
       "    }\n",
       "</style>\n",
       "<table border=\"1\" class=\"dataframe\">\n",
       "  <thead>\n",
       "    <tr style=\"text-align: right;\">\n",
       "      <th></th>\n",
       "      <th>year</th>\n",
       "      <th>fdi</th>\n",
       "    </tr>\n",
       "    <tr>\n",
       "      <th>npartitions=5</th>\n",
       "      <th></th>\n",
       "      <th></th>\n",
       "    </tr>\n",
       "  </thead>\n",
       "  <tbody>\n",
       "    <tr>\n",
       "      <th>0</th>\n",
       "      <td>int64</td>\n",
       "      <td>float64</td>\n",
       "    </tr>\n",
       "    <tr>\n",
       "      <th>72</th>\n",
       "      <td>...</td>\n",
       "      <td>...</td>\n",
       "    </tr>\n",
       "    <tr>\n",
       "      <th>...</th>\n",
       "      <td>...</td>\n",
       "      <td>...</td>\n",
       "    </tr>\n",
       "    <tr>\n",
       "      <th>288</th>\n",
       "      <td>...</td>\n",
       "      <td>...</td>\n",
       "    </tr>\n",
       "    <tr>\n",
       "      <th>359</th>\n",
       "      <td>...</td>\n",
       "      <td>...</td>\n",
       "    </tr>\n",
       "  </tbody>\n",
       "</table>\n",
       "</div>\n",
       "<div>Dask Name: getitem, 5 tasks</div>"
      ],
      "text/plain": [
       "Dask DataFrame Structure:\n",
       "                year      fdi\n",
       "npartitions=5                \n",
       "0              int64  float64\n",
       "72               ...      ...\n",
       "...              ...      ...\n",
       "288              ...      ...\n",
       "359              ...      ...\n",
       "Dask Name: getitem, 5 tasks"
      ]
     },
     "execution_count": 28,
     "metadata": {},
     "output_type": "execute_result"
    }
   ],
   "source": [
    "x"
   ]
  },
  {
   "cell_type": "code",
   "execution_count": 29,
   "metadata": {},
   "outputs": [
    {
     "data": {
      "text/html": [
       "<div>\n",
       "<style scoped>\n",
       "    .dataframe tbody tr th:only-of-type {\n",
       "        vertical-align: middle;\n",
       "    }\n",
       "\n",
       "    .dataframe tbody tr th {\n",
       "        vertical-align: top;\n",
       "    }\n",
       "\n",
       "    .dataframe thead th {\n",
       "        text-align: right;\n",
       "    }\n",
       "</style>\n",
       "<table border=\"1\" class=\"dataframe\">\n",
       "  <thead>\n",
       "    <tr style=\"text-align: right;\">\n",
       "      <th></th>\n",
       "      <th>gdp</th>\n",
       "    </tr>\n",
       "  </thead>\n",
       "  <tbody>\n",
       "    <tr>\n",
       "      <th>0</th>\n",
       "      <td>2093.30</td>\n",
       "    </tr>\n",
       "    <tr>\n",
       "      <th>1</th>\n",
       "      <td>2347.32</td>\n",
       "    </tr>\n",
       "    <tr>\n",
       "      <th>2</th>\n",
       "      <td>2542.96</td>\n",
       "    </tr>\n",
       "    <tr>\n",
       "      <th>3</th>\n",
       "      <td>2712.34</td>\n",
       "    </tr>\n",
       "    <tr>\n",
       "      <th>4</th>\n",
       "      <td>2902.09</td>\n",
       "    </tr>\n",
       "    <tr>\n",
       "      <th>...</th>\n",
       "      <td>...</td>\n",
       "    </tr>\n",
       "    <tr>\n",
       "      <th>355</th>\n",
       "      <td>9705.02</td>\n",
       "    </tr>\n",
       "    <tr>\n",
       "      <th>356</th>\n",
       "      <td>11648.70</td>\n",
       "    </tr>\n",
       "    <tr>\n",
       "      <th>357</th>\n",
       "      <td>13417.68</td>\n",
       "    </tr>\n",
       "    <tr>\n",
       "      <th>358</th>\n",
       "      <td>15718.47</td>\n",
       "    </tr>\n",
       "    <tr>\n",
       "      <th>359</th>\n",
       "      <td>18753.73</td>\n",
       "    </tr>\n",
       "  </tbody>\n",
       "</table>\n",
       "<p>360 rows × 1 columns</p>\n",
       "</div>"
      ],
      "text/plain": [
       "          gdp\n",
       "0     2093.30\n",
       "1     2347.32\n",
       "2     2542.96\n",
       "3     2712.34\n",
       "4     2902.09\n",
       "..        ...\n",
       "355   9705.02\n",
       "356  11648.70\n",
       "357  13417.68\n",
       "358  15718.47\n",
       "359  18753.73\n",
       "\n",
       "[360 rows x 1 columns]"
      ]
     },
     "execution_count": 29,
     "metadata": {},
     "output_type": "execute_result"
    }
   ],
   "source": [
    "y.compute()"
   ]
  },
  {
   "cell_type": "code",
   "execution_count": 30,
   "metadata": {},
   "outputs": [
    {
     "name": "stdout",
     "output_type": "stream",
     "text": [
      "(Delayed('int-97d0cf00-db85-425b-a0d2-08297142db86'), 2) (Delayed('int-01cdae78-a995-48c1-9b93-277a008ad57a'), 1)\n"
     ]
    }
   ],
   "source": [
    "print(x.shape,y.shape)"
   ]
  },
  {
   "cell_type": "code",
   "execution_count": 31,
   "metadata": {},
   "outputs": [
    {
     "data": {
      "text/plain": [
       "year    360\n",
       "fdi     360\n",
       "dtype: int64"
      ]
     },
     "execution_count": 31,
     "metadata": {},
     "output_type": "execute_result"
    }
   ],
   "source": [
    "x.count().compute()"
   ]
  },
  {
   "cell_type": "code",
   "execution_count": 32,
   "metadata": {},
   "outputs": [],
   "source": [
    "from dask_ml.xgboost import XGBRegressor"
   ]
  },
  {
   "cell_type": "code",
   "execution_count": 33,
   "metadata": {},
   "outputs": [],
   "source": [
    "XGBR = XGBRegressor()"
   ]
  },
  {
   "cell_type": "code",
   "execution_count": 34,
   "metadata": {},
   "outputs": [
    {
     "name": "stdout",
     "output_type": "stream",
     "text": [
      "CPU times: user 54.2 s, sys: 1.02 s, total: 55.2 s\n",
      "Wall time: 18.4 s\n"
     ]
    }
   ],
   "source": [
    "%%time\n",
    "XGBR_model = XGBR.fit(x,y)"
   ]
  },
  {
   "cell_type": "code",
   "execution_count": 35,
   "metadata": {},
   "outputs": [
    {
     "data": {
      "text/plain": [
       "XGBRegressor()"
      ]
     },
     "execution_count": 35,
     "metadata": {},
     "output_type": "execute_result"
    }
   ],
   "source": [
    "XGBR_model"
   ]
  },
  {
   "cell_type": "code",
   "execution_count": 36,
   "metadata": {},
   "outputs": [],
   "source": [
    "XGBR_model.save_model('fiscal_model')"
   ]
  },
  {
   "cell_type": "code",
   "execution_count": 39,
   "metadata": {},
   "outputs": [
    {
     "name": "stdout",
     "output_type": "stream",
     "text": [
      "[08:43:57] WARNING: /workspace/src/objective/regression_obj.cu:152: reg:linear is now deprecated in favor of reg:squarederror.\n"
     ]
    }
   ],
   "source": [
    "XGBR_model.load_model('fiscal_model')"
   ]
  }
 ],
 "metadata": {
  "kernelspec": {
   "display_name": "Python 3",
   "language": "python",
   "name": "python3"
  },
  "language_info": {
   "codemirror_mode": {
    "name": "ipython",
    "version": 3
   },
   "file_extension": ".py",
   "mimetype": "text/x-python",
   "name": "python",
   "nbconvert_exporter": "python",
   "pygments_lexer": "ipython3",
   "version": "3.7.3"
  }
 },
 "nbformat": 4,
 "nbformat_minor": 4
}
