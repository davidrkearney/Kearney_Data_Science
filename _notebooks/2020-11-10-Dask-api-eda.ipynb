{
 "cells": [
  {
   "cell_type": "markdown",
   "metadata": {
    "cell_id": "00000-ee83a6c2-c526-43d5-bee9-c7df41150d17"
   },
   "source": [
    "# Dask API for analytics"
   ]
  },
  {
   "cell_type": "markdown",
   "metadata": {},
   "source": [
    "## Credit: code from https://github.com/coiled/data-science-at-scale"
   ]
  },
  {
   "cell_type": "code",
   "execution_count": 1,
   "metadata": {
    "cell_id": "00002-0f108a0f-d43b-45fa-a70d-cd7d74650e32",
    "execution_millis": 2206,
    "execution_start": 1604459363291,
    "output_cleared": false,
    "source_hash": "4c469875"
   },
   "outputs": [
    {
     "name": "stderr",
     "output_type": "stream",
     "text": [
      "/opt/venv/lib/python3.7/site-packages/distributed/node.py:155: UserWarning: Port 8787 is already in use.\n",
      "Perhaps you already have a cluster running?\n",
      "Hosting the HTTP server on port 45123 instead\n",
      "  http_address[\"port\"], self.http_server.port\n"
     ]
    },
    {
     "data": {
      "text/html": [
       "<table style=\"border: 2px solid white;\">\n",
       "<tr>\n",
       "<td style=\"vertical-align: top; border: 0px solid white\">\n",
       "<h3 style=\"text-align: left;\">Client</h3>\n",
       "<ul style=\"text-align: left; list-style: none; margin: 0; padding: 0;\">\n",
       "  <li><b>Scheduler: </b>tcp://127.0.0.1:43829</li>\n",
       "  <li><b>Dashboard: </b><a href='http://127.0.0.1:45123/status' target='_blank'>http://127.0.0.1:45123/status</a></li>\n",
       "</ul>\n",
       "</td>\n",
       "<td style=\"vertical-align: top; border: 0px solid white\">\n",
       "<h3 style=\"text-align: left;\">Cluster</h3>\n",
       "<ul style=\"text-align: left; list-style:none; margin: 0; padding: 0;\">\n",
       "  <li><b>Workers: </b>4</li>\n",
       "  <li><b>Cores: </b>4</li>\n",
       "  <li><b>Memory: </b>5.00 GB</li>\n",
       "</ul>\n",
       "</td>\n",
       "</tr>\n",
       "</table>"
      ],
      "text/plain": [
       "<Client: 'tcp://127.0.0.1:43829' processes=4 threads=4, memory=5.00 GB>"
      ]
     },
     "execution_count": 1,
     "metadata": {},
     "output_type": "execute_result"
    }
   ],
   "source": [
    "from dask.distributed import Client\n",
    "\n",
    "client = Client(n_workers=4)\n",
    "\n",
    "client"
   ]
  },
  {
   "cell_type": "code",
   "execution_count": 7,
   "metadata": {
    "cell_id": "00007-fb66b6eb-1ee3-445b-9a06-41f2b295e913",
    "execution_millis": 34,
    "execution_start": 1604459408646,
    "output_cleared": false,
    "source_hash": "5815e5df",
    "tags": []
   },
   "outputs": [],
   "source": [
    "import pandas as pd\n",
    "url = 'https://raw.githubusercontent.com/davidrkearney/Kearney_Data_Science/master/_notebooks/df_panel_fix.csv'\n",
    "df = pd.read_csv(url, error_bad_lines=False)\n",
    "df\n",
    "\n",
    "import dask.dataframe as dd\n",
    "import aiohttp\n",
    "\n",
    "ddf = dd.read_csv(\n",
    "    url,\n",
    "    blocksize=\"10 MiB\",\n",
    ").persist()"
   ]
  },
  {
   "cell_type": "code",
   "execution_count": 10,
   "metadata": {
    "cell_id": "00007-3b832af1-ca12-4233-91d1-77d30aa3a953",
    "execution_millis": 2,
    "execution_start": 1604459468862,
    "output_cleared": false,
    "source_hash": "83bcad17"
   },
   "outputs": [
    {
     "data": {
      "text/html": [
       "<div><strong>Dask DataFrame Structure:</strong></div>\n",
       "<div>\n",
       "<style scoped>\n",
       "    .dataframe tbody tr th:only-of-type {\n",
       "        vertical-align: middle;\n",
       "    }\n",
       "\n",
       "    .dataframe tbody tr th {\n",
       "        vertical-align: top;\n",
       "    }\n",
       "\n",
       "    .dataframe thead th {\n",
       "        text-align: right;\n",
       "    }\n",
       "</style>\n",
       "<table border=\"1\" class=\"dataframe\">\n",
       "  <thead>\n",
       "    <tr style=\"text-align: right;\">\n",
       "      <th></th>\n",
       "      <th>Unnamed: 0</th>\n",
       "      <th>province</th>\n",
       "      <th>specific</th>\n",
       "      <th>general</th>\n",
       "      <th>year</th>\n",
       "      <th>gdp</th>\n",
       "      <th>fdi</th>\n",
       "      <th>rnr</th>\n",
       "      <th>rr</th>\n",
       "      <th>i</th>\n",
       "      <th>fr</th>\n",
       "      <th>reg</th>\n",
       "      <th>it</th>\n",
       "    </tr>\n",
       "    <tr>\n",
       "      <th>npartitions=1</th>\n",
       "      <th></th>\n",
       "      <th></th>\n",
       "      <th></th>\n",
       "      <th></th>\n",
       "      <th></th>\n",
       "      <th></th>\n",
       "      <th></th>\n",
       "      <th></th>\n",
       "      <th></th>\n",
       "      <th></th>\n",
       "      <th></th>\n",
       "      <th></th>\n",
       "      <th></th>\n",
       "    </tr>\n",
       "  </thead>\n",
       "  <tbody>\n",
       "    <tr>\n",
       "      <th></th>\n",
       "      <td>int64</td>\n",
       "      <td>object</td>\n",
       "      <td>float64</td>\n",
       "      <td>float64</td>\n",
       "      <td>int64</td>\n",
       "      <td>float64</td>\n",
       "      <td>int64</td>\n",
       "      <td>float64</td>\n",
       "      <td>float64</td>\n",
       "      <td>float64</td>\n",
       "      <td>object</td>\n",
       "      <td>object</td>\n",
       "      <td>int64</td>\n",
       "    </tr>\n",
       "    <tr>\n",
       "      <th></th>\n",
       "      <td>...</td>\n",
       "      <td>...</td>\n",
       "      <td>...</td>\n",
       "      <td>...</td>\n",
       "      <td>...</td>\n",
       "      <td>...</td>\n",
       "      <td>...</td>\n",
       "      <td>...</td>\n",
       "      <td>...</td>\n",
       "      <td>...</td>\n",
       "      <td>...</td>\n",
       "      <td>...</td>\n",
       "      <td>...</td>\n",
       "    </tr>\n",
       "  </tbody>\n",
       "</table>\n",
       "</div>\n",
       "<div>Dask Name: read-csv, 1 tasks</div>"
      ],
      "text/plain": [
       "Dask DataFrame Structure:\n",
       "              Unnamed: 0 province specific  general   year      gdp    fdi      rnr       rr        i      fr     reg     it\n",
       "npartitions=1                                                                                                               \n",
       "                   int64   object  float64  float64  int64  float64  int64  float64  float64  float64  object  object  int64\n",
       "                     ...      ...      ...      ...    ...      ...    ...      ...      ...      ...     ...     ...    ...\n",
       "Dask Name: read-csv, 1 tasks"
      ]
     },
     "execution_count": 10,
     "metadata": {},
     "output_type": "execute_result"
    }
   ],
   "source": [
    "ddf"
   ]
  },
  {
   "cell_type": "code",
   "execution_count": 11,
   "metadata": {
    "cell_id": "00011-263a5659-46b9-43a6-aeef-9ba04db68445",
    "execution_millis": 31,
    "execution_start": 1604459471954,
    "output_cleared": false,
    "source_hash": "9374b1d1"
   },
   "outputs": [
    {
     "data": {
      "text/plain": [
       "0    <class 'pandas.core.frame.DataFrame'>\n",
       "dtype: object"
      ]
     },
     "execution_count": 11,
     "metadata": {},
     "output_type": "execute_result"
    }
   ],
   "source": [
    "# See that we actually have a collection of Pandas DataFrames\n",
    "ddf.map_partitions(type).compute()"
   ]
  },
  {
   "cell_type": "code",
   "execution_count": 12,
   "metadata": {
    "cell_id": "00013-8441411b-335c-4a13-9d07-5ddbe3d43a52",
    "execution_millis": 71,
    "execution_start": 1604459473484,
    "output_cleared": false,
    "source_hash": "4cc9f77a"
   },
   "outputs": [
    {
     "data": {
      "application/vnd.deepnote.dataframe.v2+json": {
       "column_count": 13,
       "columns": [
        {
         "dtype": "int64",
         "name": "Unnamed: 0",
         "stats": {
          "histogram": [
           {
            "bin_end": 0.4,
            "bin_start": 0,
            "count": 1
           },
           {
            "bin_end": 0.8,
            "bin_start": 0.4,
            "count": 0
           },
           {
            "bin_end": 1.2000000000000002,
            "bin_start": 0.8,
            "count": 1
           },
           {
            "bin_end": 1.6,
            "bin_start": 1.2000000000000002,
            "count": 0
           },
           {
            "bin_end": 2,
            "bin_start": 1.6,
            "count": 0
           },
           {
            "bin_end": 2.4000000000000004,
            "bin_start": 2,
            "count": 1
           },
           {
            "bin_end": 2.8000000000000003,
            "bin_start": 2.4000000000000004,
            "count": 0
           },
           {
            "bin_end": 3.2,
            "bin_start": 2.8000000000000003,
            "count": 1
           },
           {
            "bin_end": 3.6,
            "bin_start": 3.2,
            "count": 0
           },
           {
            "bin_end": 4,
            "bin_start": 3.6,
            "count": 1
           }
          ],
          "max": 4,
          "min": 0,
          "nan_count": 0,
          "unique_count": 5
         }
        },
        {
         "dtype": "object",
         "name": "province",
         "stats": {
          "categories": [
           {
            "count": 5,
            "name": "Anhui"
           }
          ],
          "nan_count": 0,
          "unique_count": 1
         }
        },
        {
         "dtype": "float64",
         "name": "specific",
         "stats": {
          "histogram": [
           {
            "bin_end": 160834.2,
            "bin_start": 147002,
            "count": 2
           },
           {
            "bin_end": 174666.4,
            "bin_start": 160834.2,
            "count": 0
           },
           {
            "bin_end": 188498.6,
            "bin_start": 174666.4,
            "count": 1
           },
           {
            "bin_end": 202330.8,
            "bin_start": 188498.6,
            "count": 1
           },
           {
            "bin_end": 216163,
            "bin_start": 202330.8,
            "count": 0
           },
           {
            "bin_end": 229995.2,
            "bin_start": 216163,
            "count": 0
           },
           {
            "bin_end": 243827.40000000002,
            "bin_start": 229995.2,
            "count": 0
           },
           {
            "bin_end": 257659.6,
            "bin_start": 243827.40000000002,
            "count": 0
           },
           {
            "bin_end": 271491.8,
            "bin_start": 257659.6,
            "count": 0
           },
           {
            "bin_end": 285324,
            "bin_start": 271491.8,
            "count": 1
           }
          ],
          "max": 285324,
          "min": 147002,
          "nan_count": 0,
          "unique_count": 5
         }
        },
        {
         "dtype": "float64",
         "name": "general",
         "stats": {
          "histogram": [
           {
            "bin_end": 32099.6,
            "bin_start": 32099.5,
            "count": 0
           },
           {
            "bin_end": 32099.7,
            "bin_start": 32099.6,
            "count": 0
           },
           {
            "bin_end": 32099.8,
            "bin_start": 32099.7,
            "count": 0
           },
           {
            "bin_end": 32099.9,
            "bin_start": 32099.8,
            "count": 0
           },
           {
            "bin_end": 32100,
            "bin_start": 32099.9,
            "count": 0
           },
           {
            "bin_end": 32100.1,
            "bin_start": 32100,
            "count": 1
           },
           {
            "bin_end": 32100.2,
            "bin_start": 32100.1,
            "count": 0
           },
           {
            "bin_end": 32100.3,
            "bin_start": 32100.2,
            "count": 0
           },
           {
            "bin_end": 32100.4,
            "bin_start": 32100.3,
            "count": 0
           },
           {
            "bin_end": 32100.5,
            "bin_start": 32100.4,
            "count": 0
           }
          ],
          "max": 32100,
          "min": 32100,
          "nan_count": 4,
          "unique_count": 1
         }
        },
        {
         "dtype": "int64",
         "name": "year",
         "stats": {
          "histogram": [
           {
            "bin_end": 1996.4,
            "bin_start": 1996,
            "count": 1
           },
           {
            "bin_end": 1996.8,
            "bin_start": 1996.4,
            "count": 0
           },
           {
            "bin_end": 1997.2,
            "bin_start": 1996.8,
            "count": 1
           },
           {
            "bin_end": 1997.6,
            "bin_start": 1997.2,
            "count": 0
           },
           {
            "bin_end": 1998,
            "bin_start": 1997.6,
            "count": 0
           },
           {
            "bin_end": 1998.4,
            "bin_start": 1998,
            "count": 1
           },
           {
            "bin_end": 1998.8,
            "bin_start": 1998.4,
            "count": 0
           },
           {
            "bin_end": 1999.2,
            "bin_start": 1998.8,
            "count": 1
           },
           {
            "bin_end": 1999.6,
            "bin_start": 1999.2,
            "count": 0
           },
           {
            "bin_end": 2000,
            "bin_start": 1999.6,
            "count": 1
           }
          ],
          "max": 2000,
          "min": 1996,
          "nan_count": 0,
          "unique_count": 5
         }
        },
        {
         "dtype": "float64",
         "name": "gdp",
         "stats": {
          "histogram": [
           {
            "bin_end": 2174.179,
            "bin_start": 2093.3,
            "count": 1
           },
           {
            "bin_end": 2255.058,
            "bin_start": 2174.179,
            "count": 0
           },
           {
            "bin_end": 2335.9370000000004,
            "bin_start": 2255.058,
            "count": 0
           },
           {
            "bin_end": 2416.8160000000003,
            "bin_start": 2335.9370000000004,
            "count": 1
           },
           {
            "bin_end": 2497.695,
            "bin_start": 2416.8160000000003,
            "count": 0
           },
           {
            "bin_end": 2578.574,
            "bin_start": 2497.695,
            "count": 1
           },
           {
            "bin_end": 2659.453,
            "bin_start": 2578.574,
            "count": 0
           },
           {
            "bin_end": 2740.3320000000003,
            "bin_start": 2659.453,
            "count": 1
           },
           {
            "bin_end": 2821.2110000000002,
            "bin_start": 2740.3320000000003,
            "count": 0
           },
           {
            "bin_end": 2902.09,
            "bin_start": 2821.2110000000002,
            "count": 1
           }
          ],
          "max": 2902.09,
          "min": 2093.3,
          "nan_count": 0,
          "unique_count": 5
         }
        },
        {
         "dtype": "int64",
         "name": "fdi",
         "stats": {
          "histogram": [
           {
            "bin_end": 28584,
            "bin_start": 26131,
            "count": 2
           },
           {
            "bin_end": 31037,
            "bin_start": 28584,
            "count": 0
           },
           {
            "bin_end": 33490,
            "bin_start": 31037,
            "count": 1
           },
           {
            "bin_end": 35943,
            "bin_start": 33490,
            "count": 0
           },
           {
            "bin_end": 38396,
            "bin_start": 35943,
            "count": 0
           },
           {
            "bin_end": 40849,
            "bin_start": 38396,
            "count": 0
           },
           {
            "bin_end": 43302,
            "bin_start": 40849,
            "count": 0
           },
           {
            "bin_end": 45755,
            "bin_start": 43302,
            "count": 1
           },
           {
            "bin_end": 48208,
            "bin_start": 45755,
            "count": 0
           },
           {
            "bin_end": 50661,
            "bin_start": 48208,
            "count": 1
           }
          ],
          "max": 50661,
          "min": 26131,
          "nan_count": 0,
          "unique_count": 5
         }
        },
        {
         "dtype": "float64",
         "name": "rnr",
         "stats": {
          "histogram": [
           {
            "bin_end": -0.4,
            "bin_start": -0.5,
            "count": 0
           },
           {
            "bin_end": -0.3,
            "bin_start": -0.4,
            "count": 0
           },
           {
            "bin_end": -0.19999999999999996,
            "bin_start": -0.3,
            "count": 0
           },
           {
            "bin_end": -0.09999999999999998,
            "bin_start": -0.19999999999999996,
            "count": 0
           },
           {
            "bin_end": 0,
            "bin_start": -0.09999999999999998,
            "count": 0
           },
           {
            "bin_end": 0.10000000000000009,
            "bin_start": 0,
            "count": 4
           },
           {
            "bin_end": 0.20000000000000007,
            "bin_start": 0.10000000000000009,
            "count": 0
           },
           {
            "bin_end": 0.30000000000000004,
            "bin_start": 0.20000000000000007,
            "count": 0
           },
           {
            "bin_end": 0.4,
            "bin_start": 0.30000000000000004,
            "count": 0
           },
           {
            "bin_end": 0.5,
            "bin_start": 0.4,
            "count": 0
           }
          ],
          "max": 0,
          "min": 0,
          "nan_count": 1,
          "unique_count": 1
         }
        },
        {
         "dtype": "float64",
         "name": "rr",
         "stats": {
          "histogram": [
           {
            "bin_end": -0.4,
            "bin_start": -0.5,
            "count": 0
           },
           {
            "bin_end": -0.3,
            "bin_start": -0.4,
            "count": 0
           },
           {
            "bin_end": -0.19999999999999996,
            "bin_start": -0.3,
            "count": 0
           },
           {
            "bin_end": -0.09999999999999998,
            "bin_start": -0.19999999999999996,
            "count": 0
           },
           {
            "bin_end": 0,
            "bin_start": -0.09999999999999998,
            "count": 0
           },
           {
            "bin_end": 0.10000000000000009,
            "bin_start": 0,
            "count": 4
           },
           {
            "bin_end": 0.20000000000000007,
            "bin_start": 0.10000000000000009,
            "count": 0
           },
           {
            "bin_end": 0.30000000000000004,
            "bin_start": 0.20000000000000007,
            "count": 0
           },
           {
            "bin_end": 0.4,
            "bin_start": 0.30000000000000004,
            "count": 0
           },
           {
            "bin_end": 0.5,
            "bin_start": 0.4,
            "count": 0
           }
          ],
          "max": 0,
          "min": 0,
          "nan_count": 1,
          "unique_count": 1
         }
        },
        {
         "dtype": "float64",
         "name": "i",
         "stats": {
          "histogram": [
           {
            "bin_end": -0.4,
            "bin_start": -0.5,
            "count": 0
           },
           {
            "bin_end": -0.3,
            "bin_start": -0.4,
            "count": 0
           },
           {
            "bin_end": -0.19999999999999996,
            "bin_start": -0.3,
            "count": 0
           },
           {
            "bin_end": -0.09999999999999998,
            "bin_start": -0.19999999999999996,
            "count": 0
           },
           {
            "bin_end": 0,
            "bin_start": -0.09999999999999998,
            "count": 0
           },
           {
            "bin_end": 0.10000000000000009,
            "bin_start": 0,
            "count": 4
           },
           {
            "bin_end": 0.20000000000000007,
            "bin_start": 0.10000000000000009,
            "count": 0
           },
           {
            "bin_end": 0.30000000000000004,
            "bin_start": 0.20000000000000007,
            "count": 0
           },
           {
            "bin_end": 0.4,
            "bin_start": 0.30000000000000004,
            "count": 0
           },
           {
            "bin_end": 0.5,
            "bin_start": 0.4,
            "count": 0
           }
          ],
          "max": 0,
          "min": 0,
          "nan_count": 1,
          "unique_count": 1
         }
        },
        {
         "dtype": "object",
         "name": "fr",
         "stats": {
          "categories": [
           {
            "count": 1,
            "name": "1128873"
           },
           {
            "count": 1,
            "name": "1356287"
           },
           {
            "count": 3,
            "name": "3 others"
           }
          ],
          "nan_count": 0,
          "unique_count": 5
         }
        },
        {
         "dtype": "object",
         "name": "reg",
         "stats": {
          "categories": [
           {
            "count": 5,
            "name": "East China"
           }
          ],
          "nan_count": 0,
          "unique_count": 1
         }
        },
        {
         "dtype": "int64",
         "name": "it",
         "stats": {
          "histogram": [
           {
            "bin_end": 718648,
            "bin_start": 631930,
            "count": 2
           },
           {
            "bin_end": 805366,
            "bin_start": 718648,
            "count": 0
           },
           {
            "bin_end": 892084,
            "bin_start": 805366,
            "count": 1
           },
           {
            "bin_end": 978802,
            "bin_start": 892084,
            "count": 0
           },
           {
            "bin_end": 1065520,
            "bin_start": 978802,
            "count": 0
           },
           {
            "bin_end": 1152238,
            "bin_start": 1065520,
            "count": 0
           },
           {
            "bin_end": 1238956,
            "bin_start": 1152238,
            "count": 1
           },
           {
            "bin_end": 1325674,
            "bin_start": 1238956,
            "count": 0
           },
           {
            "bin_end": 1412392,
            "bin_start": 1325674,
            "count": 0
           },
           {
            "bin_end": 1499110,
            "bin_start": 1412392,
            "count": 1
           }
          ],
          "max": 1499110,
          "min": 631930,
          "nan_count": 0,
          "unique_count": 5
         }
        },
        {
         "dtype": "int64",
         "name": "_deepnote_index_column"
        }
       ],
       "row_count": 5,
       "rows_bottom": null,
       "rows_top": [
        {
         "Unnamed: 0": 0,
         "_deepnote_index_column": 0,
         "fdi": 50661,
         "fr": "1128873",
         "gdp": 2093.3,
         "general": "nan",
         "i": 0,
         "it": 631930,
         "province": "Anhui",
         "reg": "East China",
         "rnr": 0,
         "rr": 0,
         "specific": 147002,
         "year": 1996
        },
        {
         "Unnamed: 0": 1,
         "_deepnote_index_column": 1,
         "fdi": 43443,
         "fr": "1356287",
         "gdp": 2347.32,
         "general": "nan",
         "i": 0,
         "it": 657860,
         "province": "Anhui",
         "reg": "East China",
         "rnr": 0,
         "rr": 0,
         "specific": 151981,
         "year": 1997
        },
        {
         "Unnamed: 0": 2,
         "_deepnote_index_column": 2,
         "fdi": 27673,
         "fr": "1518236",
         "gdp": 2542.96,
         "general": "nan",
         "i": 0,
         "it": 889463,
         "province": "Anhui",
         "reg": "East China",
         "rnr": 0,
         "rr": 0,
         "specific": 174930,
         "year": 1998
        },
        {
         "Unnamed: 0": 3,
         "_deepnote_index_column": 3,
         "fdi": 26131,
         "fr": "1646891",
         "gdp": 2712.34,
         "general": "nan",
         "i": "nan",
         "it": 1227364,
         "province": "Anhui",
         "reg": "East China",
         "rnr": "nan",
         "rr": "nan",
         "specific": 285324,
         "year": 1999
        },
        {
         "Unnamed: 0": 4,
         "_deepnote_index_column": 4,
         "fdi": 31847,
         "fr": "1601508",
         "gdp": 2902.09,
         "general": 32100,
         "i": 0,
         "it": 1499110,
         "province": "Anhui",
         "reg": "East China",
         "rnr": 0,
         "rr": 0,
         "specific": 195580,
         "year": 2000
        }
       ]
      },
      "text/html": [
       "<div>\n",
       "<style scoped>\n",
       "    .dataframe tbody tr th:only-of-type {\n",
       "        vertical-align: middle;\n",
       "    }\n",
       "\n",
       "    .dataframe tbody tr th {\n",
       "        vertical-align: top;\n",
       "    }\n",
       "\n",
       "    .dataframe thead th {\n",
       "        text-align: right;\n",
       "    }\n",
       "</style>\n",
       "<table border=\"1\" class=\"dataframe\">\n",
       "  <thead>\n",
       "    <tr style=\"text-align: right;\">\n",
       "      <th></th>\n",
       "      <th>Unnamed: 0</th>\n",
       "      <th>province</th>\n",
       "      <th>specific</th>\n",
       "      <th>general</th>\n",
       "      <th>year</th>\n",
       "      <th>gdp</th>\n",
       "      <th>fdi</th>\n",
       "      <th>rnr</th>\n",
       "      <th>rr</th>\n",
       "      <th>i</th>\n",
       "      <th>fr</th>\n",
       "      <th>reg</th>\n",
       "      <th>it</th>\n",
       "    </tr>\n",
       "  </thead>\n",
       "  <tbody>\n",
       "    <tr>\n",
       "      <th>0</th>\n",
       "      <td>0</td>\n",
       "      <td>Anhui</td>\n",
       "      <td>147002.0</td>\n",
       "      <td>NaN</td>\n",
       "      <td>1996</td>\n",
       "      <td>2093.30</td>\n",
       "      <td>50661</td>\n",
       "      <td>0.0</td>\n",
       "      <td>0.0</td>\n",
       "      <td>0.0</td>\n",
       "      <td>1128873</td>\n",
       "      <td>East China</td>\n",
       "      <td>631930</td>\n",
       "    </tr>\n",
       "    <tr>\n",
       "      <th>1</th>\n",
       "      <td>1</td>\n",
       "      <td>Anhui</td>\n",
       "      <td>151981.0</td>\n",
       "      <td>NaN</td>\n",
       "      <td>1997</td>\n",
       "      <td>2347.32</td>\n",
       "      <td>43443</td>\n",
       "      <td>0.0</td>\n",
       "      <td>0.0</td>\n",
       "      <td>0.0</td>\n",
       "      <td>1356287</td>\n",
       "      <td>East China</td>\n",
       "      <td>657860</td>\n",
       "    </tr>\n",
       "    <tr>\n",
       "      <th>2</th>\n",
       "      <td>2</td>\n",
       "      <td>Anhui</td>\n",
       "      <td>174930.0</td>\n",
       "      <td>NaN</td>\n",
       "      <td>1998</td>\n",
       "      <td>2542.96</td>\n",
       "      <td>27673</td>\n",
       "      <td>0.0</td>\n",
       "      <td>0.0</td>\n",
       "      <td>0.0</td>\n",
       "      <td>1518236</td>\n",
       "      <td>East China</td>\n",
       "      <td>889463</td>\n",
       "    </tr>\n",
       "    <tr>\n",
       "      <th>3</th>\n",
       "      <td>3</td>\n",
       "      <td>Anhui</td>\n",
       "      <td>285324.0</td>\n",
       "      <td>NaN</td>\n",
       "      <td>1999</td>\n",
       "      <td>2712.34</td>\n",
       "      <td>26131</td>\n",
       "      <td>NaN</td>\n",
       "      <td>NaN</td>\n",
       "      <td>NaN</td>\n",
       "      <td>1646891</td>\n",
       "      <td>East China</td>\n",
       "      <td>1227364</td>\n",
       "    </tr>\n",
       "    <tr>\n",
       "      <th>4</th>\n",
       "      <td>4</td>\n",
       "      <td>Anhui</td>\n",
       "      <td>195580.0</td>\n",
       "      <td>32100.0</td>\n",
       "      <td>2000</td>\n",
       "      <td>2902.09</td>\n",
       "      <td>31847</td>\n",
       "      <td>0.0</td>\n",
       "      <td>0.0</td>\n",
       "      <td>0.0</td>\n",
       "      <td>1601508</td>\n",
       "      <td>East China</td>\n",
       "      <td>1499110</td>\n",
       "    </tr>\n",
       "  </tbody>\n",
       "</table>\n",
       "</div>"
      ],
      "text/plain": [
       "   Unnamed: 0 province  specific  general  year      gdp    fdi  rnr   rr  \\\n",
       "0           0    Anhui  147002.0      NaN  1996  2093.30  50661  0.0  0.0   \n",
       "1           1    Anhui  151981.0      NaN  1997  2347.32  43443  0.0  0.0   \n",
       "2           2    Anhui  174930.0      NaN  1998  2542.96  27673  0.0  0.0   \n",
       "3           3    Anhui  285324.0      NaN  1999  2712.34  26131  NaN  NaN   \n",
       "4           4    Anhui  195580.0  32100.0  2000  2902.09  31847  0.0  0.0   \n",
       "\n",
       "     i       fr         reg       it  \n",
       "0  0.0  1128873  East China   631930  \n",
       "1  0.0  1356287  East China   657860  \n",
       "2  0.0  1518236  East China   889463  \n",
       "3  NaN  1646891  East China  1227364  \n",
       "4  0.0  1601508  East China  1499110  "
      ]
     },
     "execution_count": 12,
     "metadata": {},
     "output_type": "execute_result"
    }
   ],
   "source": [
    "# View head of Dask DataFrame\n",
    "ddf.head()"
   ]
  },
  {
   "cell_type": "code",
   "execution_count": 15,
   "metadata": {
    "cell_id": "00015-5ef65364-84a7-49f5-bef7-ce39301b4aca",
    "execution_millis": 43,
    "execution_start": 1604459514830,
    "output_cleared": false,
    "source_hash": "6f1071b0"
   },
   "outputs": [
    {
     "data": {
      "text/plain": [
       "province\n",
       "Anhui            3905.870000\n",
       "Beijing          4673.453333\n",
       "Chongqing        2477.712500\n",
       "Fujian           4864.023333\n",
       "Gansu            1397.832500\n",
       "Guangdong       15358.781667\n",
       "Guangxi          2924.104167\n",
       "Guizhou          1422.010833\n",
       "Hainan            686.714167\n",
       "Hebei            6936.825000\n",
       "Heilongjiang     4041.241667\n",
       "Henan            7208.966667\n",
       "Hubei            4772.503333\n",
       "Hunan            4765.891667\n",
       "Jiangsu         10761.846667\n",
       "Jiangxi          2460.782500\n",
       "Jilin            2274.854167\n",
       "Liaoning         5231.135000\n",
       "Ningxia           432.268333\n",
       "Qinghai           383.099167\n",
       "Shaanxi          2658.034167\n",
       "Shandong        12324.002500\n",
       "Shanghai         6432.454167\n",
       "Shanxi           2817.210833\n",
       "Sichuan          5377.790000\n",
       "Tianjin          2528.665000\n",
       "Tibet             170.426667\n",
       "Xinjiang         1828.896667\n",
       "Yunnan           2604.054167\n",
       "Zhejiang         9138.151667\n",
       "Name: gdp, dtype: float64"
      ]
     },
     "execution_count": 15,
     "metadata": {},
     "output_type": "execute_result"
    }
   ],
   "source": [
    "gdp = ddf.groupby('province').gdp.mean()\n",
    "gdp.compute()"
   ]
  },
  {
   "cell_type": "code",
   "execution_count": 16,
   "metadata": {
    "cell_id": "00017-c8625d18-2a5e-453f-9df1-57c2a46f4c4c",
    "execution_millis": 27,
    "execution_start": 1604459521104,
    "output_cleared": false,
    "source_hash": "468b7ae7"
   },
   "outputs": [
    {
     "data": {
      "text/plain": [
       "province\n",
       "Tibet             170.426667\n",
       "Qinghai           383.099167\n",
       "Ningxia           432.268333\n",
       "Hainan            686.714167\n",
       "Gansu            1397.832500\n",
       "Guizhou          1422.010833\n",
       "Xinjiang         1828.896667\n",
       "Jilin            2274.854167\n",
       "Jiangxi          2460.782500\n",
       "Chongqing        2477.712500\n",
       "Tianjin          2528.665000\n",
       "Yunnan           2604.054167\n",
       "Shaanxi          2658.034167\n",
       "Shanxi           2817.210833\n",
       "Guangxi          2924.104167\n",
       "Anhui            3905.870000\n",
       "Heilongjiang     4041.241667\n",
       "Beijing          4673.453333\n",
       "Hunan            4765.891667\n",
       "Hubei            4772.503333\n",
       "Fujian           4864.023333\n",
       "Liaoning         5231.135000\n",
       "Sichuan          5377.790000\n",
       "Shanghai         6432.454167\n",
       "Hebei            6936.825000\n",
       "Henan            7208.966667\n",
       "Zhejiang         9138.151667\n",
       "Jiangsu         10761.846667\n",
       "Shandong        12324.002500\n",
       "Guangdong       15358.781667\n",
       "Name: gdp, dtype: float64"
      ]
     },
     "execution_count": 16,
     "metadata": {},
     "output_type": "execute_result"
    }
   ],
   "source": [
    "gdp.compute().sort_values()"
   ]
  },
  {
   "cell_type": "code",
   "execution_count": 18,
   "metadata": {
    "cell_id": "00020-ceb9e99e-0959-4c51-bb9e-79b6cf9251ab",
    "execution_millis": 65,
    "execution_start": 1604459590111,
    "output_cleared": false,
    "source_hash": "e2ab12c4"
   },
   "outputs": [
    {
     "data": {
      "application/vnd.deepnote.dataframe.v2+json": {
       "column_count": 13,
       "columns": [
        {
         "dtype": "int64",
         "name": "Unnamed: 0",
         "stats": {
          "histogram": [
           {
            "bin_end": 0.4,
            "bin_start": 0,
            "count": 1
           },
           {
            "bin_end": 0.8,
            "bin_start": 0.4,
            "count": 0
           },
           {
            "bin_end": 1.2000000000000002,
            "bin_start": 0.8,
            "count": 1
           },
           {
            "bin_end": 1.6,
            "bin_start": 1.2000000000000002,
            "count": 0
           },
           {
            "bin_end": 2,
            "bin_start": 1.6,
            "count": 0
           },
           {
            "bin_end": 2.4000000000000004,
            "bin_start": 2,
            "count": 1
           },
           {
            "bin_end": 2.8000000000000003,
            "bin_start": 2.4000000000000004,
            "count": 0
           },
           {
            "bin_end": 3.2,
            "bin_start": 2.8000000000000003,
            "count": 1
           },
           {
            "bin_end": 3.6,
            "bin_start": 3.2,
            "count": 0
           },
           {
            "bin_end": 4,
            "bin_start": 3.6,
            "count": 1
           }
          ],
          "max": 4,
          "min": 0,
          "nan_count": 0,
          "unique_count": 5
         }
        },
        {
         "dtype": "object",
         "name": "province",
         "stats": {
          "categories": [
           {
            "count": 5,
            "name": "Anhui"
           }
          ],
          "nan_count": 0,
          "unique_count": 1
         }
        },
        {
         "dtype": "float64",
         "name": "specific",
         "stats": {
          "histogram": [
           {
            "bin_end": 160834.2,
            "bin_start": 147002,
            "count": 2
           },
           {
            "bin_end": 174666.4,
            "bin_start": 160834.2,
            "count": 0
           },
           {
            "bin_end": 188498.6,
            "bin_start": 174666.4,
            "count": 1
           },
           {
            "bin_end": 202330.8,
            "bin_start": 188498.6,
            "count": 1
           },
           {
            "bin_end": 216163,
            "bin_start": 202330.8,
            "count": 0
           },
           {
            "bin_end": 229995.2,
            "bin_start": 216163,
            "count": 0
           },
           {
            "bin_end": 243827.40000000002,
            "bin_start": 229995.2,
            "count": 0
           },
           {
            "bin_end": 257659.6,
            "bin_start": 243827.40000000002,
            "count": 0
           },
           {
            "bin_end": 271491.8,
            "bin_start": 257659.6,
            "count": 0
           },
           {
            "bin_end": 285324,
            "bin_start": 271491.8,
            "count": 1
           }
          ],
          "max": 285324,
          "min": 147002,
          "nan_count": 0,
          "unique_count": 5
         }
        },
        {
         "dtype": "float64",
         "name": "general",
         "stats": {
          "histogram": [
           {
            "bin_end": 32099.6,
            "bin_start": 32099.5,
            "count": 0
           },
           {
            "bin_end": 32099.7,
            "bin_start": 32099.6,
            "count": 0
           },
           {
            "bin_end": 32099.8,
            "bin_start": 32099.7,
            "count": 0
           },
           {
            "bin_end": 32099.9,
            "bin_start": 32099.8,
            "count": 0
           },
           {
            "bin_end": 32100,
            "bin_start": 32099.9,
            "count": 0
           },
           {
            "bin_end": 32100.1,
            "bin_start": 32100,
            "count": 1
           },
           {
            "bin_end": 32100.2,
            "bin_start": 32100.1,
            "count": 0
           },
           {
            "bin_end": 32100.3,
            "bin_start": 32100.2,
            "count": 0
           },
           {
            "bin_end": 32100.4,
            "bin_start": 32100.3,
            "count": 0
           },
           {
            "bin_end": 32100.5,
            "bin_start": 32100.4,
            "count": 0
           }
          ],
          "max": 32100,
          "min": 32100,
          "nan_count": 4,
          "unique_count": 1
         }
        },
        {
         "dtype": "int64",
         "name": "year",
         "stats": {
          "histogram": [
           {
            "bin_end": 1996.4,
            "bin_start": 1996,
            "count": 1
           },
           {
            "bin_end": 1996.8,
            "bin_start": 1996.4,
            "count": 0
           },
           {
            "bin_end": 1997.2,
            "bin_start": 1996.8,
            "count": 1
           },
           {
            "bin_end": 1997.6,
            "bin_start": 1997.2,
            "count": 0
           },
           {
            "bin_end": 1998,
            "bin_start": 1997.6,
            "count": 0
           },
           {
            "bin_end": 1998.4,
            "bin_start": 1998,
            "count": 1
           },
           {
            "bin_end": 1998.8,
            "bin_start": 1998.4,
            "count": 0
           },
           {
            "bin_end": 1999.2,
            "bin_start": 1998.8,
            "count": 1
           },
           {
            "bin_end": 1999.6,
            "bin_start": 1999.2,
            "count": 0
           },
           {
            "bin_end": 2000,
            "bin_start": 1999.6,
            "count": 1
           }
          ],
          "max": 2000,
          "min": 1996,
          "nan_count": 0,
          "unique_count": 5
         }
        },
        {
         "dtype": "float64",
         "name": "gdp",
         "stats": {
          "histogram": [
           {
            "bin_end": 2174.179,
            "bin_start": 2093.3,
            "count": 1
           },
           {
            "bin_end": 2255.058,
            "bin_start": 2174.179,
            "count": 0
           },
           {
            "bin_end": 2335.9370000000004,
            "bin_start": 2255.058,
            "count": 0
           },
           {
            "bin_end": 2416.8160000000003,
            "bin_start": 2335.9370000000004,
            "count": 1
           },
           {
            "bin_end": 2497.695,
            "bin_start": 2416.8160000000003,
            "count": 0
           },
           {
            "bin_end": 2578.574,
            "bin_start": 2497.695,
            "count": 1
           },
           {
            "bin_end": 2659.453,
            "bin_start": 2578.574,
            "count": 0
           },
           {
            "bin_end": 2740.3320000000003,
            "bin_start": 2659.453,
            "count": 1
           },
           {
            "bin_end": 2821.2110000000002,
            "bin_start": 2740.3320000000003,
            "count": 0
           },
           {
            "bin_end": 2902.09,
            "bin_start": 2821.2110000000002,
            "count": 1
           }
          ],
          "max": 2902.09,
          "min": 2093.3,
          "nan_count": 0,
          "unique_count": 5
         }
        },
        {
         "dtype": "int64",
         "name": "fdi",
         "stats": {
          "histogram": [
           {
            "bin_end": 28584,
            "bin_start": 26131,
            "count": 2
           },
           {
            "bin_end": 31037,
            "bin_start": 28584,
            "count": 0
           },
           {
            "bin_end": 33490,
            "bin_start": 31037,
            "count": 1
           },
           {
            "bin_end": 35943,
            "bin_start": 33490,
            "count": 0
           },
           {
            "bin_end": 38396,
            "bin_start": 35943,
            "count": 0
           },
           {
            "bin_end": 40849,
            "bin_start": 38396,
            "count": 0
           },
           {
            "bin_end": 43302,
            "bin_start": 40849,
            "count": 0
           },
           {
            "bin_end": 45755,
            "bin_start": 43302,
            "count": 1
           },
           {
            "bin_end": 48208,
            "bin_start": 45755,
            "count": 0
           },
           {
            "bin_end": 50661,
            "bin_start": 48208,
            "count": 1
           }
          ],
          "max": 50661,
          "min": 26131,
          "nan_count": 0,
          "unique_count": 5
         }
        },
        {
         "dtype": "float64",
         "name": "rnr",
         "stats": {
          "histogram": [
           {
            "bin_end": -0.4,
            "bin_start": -0.5,
            "count": 0
           },
           {
            "bin_end": -0.3,
            "bin_start": -0.4,
            "count": 0
           },
           {
            "bin_end": -0.19999999999999996,
            "bin_start": -0.3,
            "count": 0
           },
           {
            "bin_end": -0.09999999999999998,
            "bin_start": -0.19999999999999996,
            "count": 0
           },
           {
            "bin_end": 0,
            "bin_start": -0.09999999999999998,
            "count": 0
           },
           {
            "bin_end": 0.10000000000000009,
            "bin_start": 0,
            "count": 4
           },
           {
            "bin_end": 0.20000000000000007,
            "bin_start": 0.10000000000000009,
            "count": 0
           },
           {
            "bin_end": 0.30000000000000004,
            "bin_start": 0.20000000000000007,
            "count": 0
           },
           {
            "bin_end": 0.4,
            "bin_start": 0.30000000000000004,
            "count": 0
           },
           {
            "bin_end": 0.5,
            "bin_start": 0.4,
            "count": 0
           }
          ],
          "max": 0,
          "min": 0,
          "nan_count": 1,
          "unique_count": 1
         }
        },
        {
         "dtype": "float64",
         "name": "rr",
         "stats": {
          "histogram": [
           {
            "bin_end": -0.4,
            "bin_start": -0.5,
            "count": 0
           },
           {
            "bin_end": -0.3,
            "bin_start": -0.4,
            "count": 0
           },
           {
            "bin_end": -0.19999999999999996,
            "bin_start": -0.3,
            "count": 0
           },
           {
            "bin_end": -0.09999999999999998,
            "bin_start": -0.19999999999999996,
            "count": 0
           },
           {
            "bin_end": 0,
            "bin_start": -0.09999999999999998,
            "count": 0
           },
           {
            "bin_end": 0.10000000000000009,
            "bin_start": 0,
            "count": 4
           },
           {
            "bin_end": 0.20000000000000007,
            "bin_start": 0.10000000000000009,
            "count": 0
           },
           {
            "bin_end": 0.30000000000000004,
            "bin_start": 0.20000000000000007,
            "count": 0
           },
           {
            "bin_end": 0.4,
            "bin_start": 0.30000000000000004,
            "count": 0
           },
           {
            "bin_end": 0.5,
            "bin_start": 0.4,
            "count": 0
           }
          ],
          "max": 0,
          "min": 0,
          "nan_count": 1,
          "unique_count": 1
         }
        },
        {
         "dtype": "float64",
         "name": "i",
         "stats": {
          "histogram": [
           {
            "bin_end": -0.4,
            "bin_start": -0.5,
            "count": 0
           },
           {
            "bin_end": -0.3,
            "bin_start": -0.4,
            "count": 0
           },
           {
            "bin_end": -0.19999999999999996,
            "bin_start": -0.3,
            "count": 0
           },
           {
            "bin_end": -0.09999999999999998,
            "bin_start": -0.19999999999999996,
            "count": 0
           },
           {
            "bin_end": 0,
            "bin_start": -0.09999999999999998,
            "count": 0
           },
           {
            "bin_end": 0.10000000000000009,
            "bin_start": 0,
            "count": 4
           },
           {
            "bin_end": 0.20000000000000007,
            "bin_start": 0.10000000000000009,
            "count": 0
           },
           {
            "bin_end": 0.30000000000000004,
            "bin_start": 0.20000000000000007,
            "count": 0
           },
           {
            "bin_end": 0.4,
            "bin_start": 0.30000000000000004,
            "count": 0
           },
           {
            "bin_end": 0.5,
            "bin_start": 0.4,
            "count": 0
           }
          ],
          "max": 0,
          "min": 0,
          "nan_count": 1,
          "unique_count": 1
         }
        },
        {
         "dtype": "object",
         "name": "fr",
         "stats": {
          "categories": [
           {
            "count": 1,
            "name": "1128873"
           },
           {
            "count": 1,
            "name": "1356287"
           },
           {
            "count": 3,
            "name": "3 others"
           }
          ],
          "nan_count": 0,
          "unique_count": 5
         }
        },
        {
         "dtype": "object",
         "name": "reg",
         "stats": {
          "categories": [
           {
            "count": 5,
            "name": "East China"
           }
          ],
          "nan_count": 0,
          "unique_count": 1
         }
        },
        {
         "dtype": "int64",
         "name": "it",
         "stats": {
          "histogram": [
           {
            "bin_end": 718648,
            "bin_start": 631930,
            "count": 2
           },
           {
            "bin_end": 805366,
            "bin_start": 718648,
            "count": 0
           },
           {
            "bin_end": 892084,
            "bin_start": 805366,
            "count": 1
           },
           {
            "bin_end": 978802,
            "bin_start": 892084,
            "count": 0
           },
           {
            "bin_end": 1065520,
            "bin_start": 978802,
            "count": 0
           },
           {
            "bin_end": 1152238,
            "bin_start": 1065520,
            "count": 0
           },
           {
            "bin_end": 1238956,
            "bin_start": 1152238,
            "count": 1
           },
           {
            "bin_end": 1325674,
            "bin_start": 1238956,
            "count": 0
           },
           {
            "bin_end": 1412392,
            "bin_start": 1325674,
            "count": 0
           },
           {
            "bin_end": 1499110,
            "bin_start": 1412392,
            "count": 1
           }
          ],
          "max": 1499110,
          "min": 631930,
          "nan_count": 0,
          "unique_count": 5
         }
        },
        {
         "dtype": "int64",
         "name": "_deepnote_index_column"
        }
       ],
       "row_count": 5,
       "rows_bottom": null,
       "rows_top": [
        {
         "Unnamed: 0": 0,
         "_deepnote_index_column": 0,
         "fdi": 50661,
         "fr": "1128873",
         "gdp": 2093.3,
         "general": "nan",
         "i": 0,
         "it": 631930,
         "province": "Anhui",
         "reg": "East China",
         "rnr": 0,
         "rr": 0,
         "specific": 147002,
         "year": 1996
        },
        {
         "Unnamed: 0": 1,
         "_deepnote_index_column": 1,
         "fdi": 43443,
         "fr": "1356287",
         "gdp": 2347.32,
         "general": "nan",
         "i": 0,
         "it": 657860,
         "province": "Anhui",
         "reg": "East China",
         "rnr": 0,
         "rr": 0,
         "specific": 151981,
         "year": 1997
        },
        {
         "Unnamed: 0": 2,
         "_deepnote_index_column": 2,
         "fdi": 27673,
         "fr": "1518236",
         "gdp": 2542.96,
         "general": "nan",
         "i": 0,
         "it": 889463,
         "province": "Anhui",
         "reg": "East China",
         "rnr": 0,
         "rr": 0,
         "specific": 174930,
         "year": 1998
        },
        {
         "Unnamed: 0": 3,
         "_deepnote_index_column": 3,
         "fdi": 26131,
         "fr": "1646891",
         "gdp": 2712.34,
         "general": "nan",
         "i": "nan",
         "it": 1227364,
         "province": "Anhui",
         "reg": "East China",
         "rnr": "nan",
         "rr": "nan",
         "specific": 285324,
         "year": 1999
        },
        {
         "Unnamed: 0": 4,
         "_deepnote_index_column": 4,
         "fdi": 31847,
         "fr": "1601508",
         "gdp": 2902.09,
         "general": 32100,
         "i": 0,
         "it": 1499110,
         "province": "Anhui",
         "reg": "East China",
         "rnr": 0,
         "rr": 0,
         "specific": 195580,
         "year": 2000
        }
       ]
      },
      "text/html": [
       "<div>\n",
       "<style scoped>\n",
       "    .dataframe tbody tr th:only-of-type {\n",
       "        vertical-align: middle;\n",
       "    }\n",
       "\n",
       "    .dataframe tbody tr th {\n",
       "        vertical-align: top;\n",
       "    }\n",
       "\n",
       "    .dataframe thead th {\n",
       "        text-align: right;\n",
       "    }\n",
       "</style>\n",
       "<table border=\"1\" class=\"dataframe\">\n",
       "  <thead>\n",
       "    <tr style=\"text-align: right;\">\n",
       "      <th></th>\n",
       "      <th>Unnamed: 0</th>\n",
       "      <th>province</th>\n",
       "      <th>specific</th>\n",
       "      <th>general</th>\n",
       "      <th>year</th>\n",
       "      <th>gdp</th>\n",
       "      <th>fdi</th>\n",
       "      <th>rnr</th>\n",
       "      <th>rr</th>\n",
       "      <th>i</th>\n",
       "      <th>fr</th>\n",
       "      <th>reg</th>\n",
       "      <th>it</th>\n",
       "    </tr>\n",
       "  </thead>\n",
       "  <tbody>\n",
       "    <tr>\n",
       "      <th>0</th>\n",
       "      <td>0</td>\n",
       "      <td>Anhui</td>\n",
       "      <td>147002.0</td>\n",
       "      <td>NaN</td>\n",
       "      <td>1996</td>\n",
       "      <td>2093.30</td>\n",
       "      <td>50661</td>\n",
       "      <td>0.0</td>\n",
       "      <td>0.0</td>\n",
       "      <td>0.0</td>\n",
       "      <td>1128873</td>\n",
       "      <td>East China</td>\n",
       "      <td>631930</td>\n",
       "    </tr>\n",
       "    <tr>\n",
       "      <th>1</th>\n",
       "      <td>1</td>\n",
       "      <td>Anhui</td>\n",
       "      <td>151981.0</td>\n",
       "      <td>NaN</td>\n",
       "      <td>1997</td>\n",
       "      <td>2347.32</td>\n",
       "      <td>43443</td>\n",
       "      <td>0.0</td>\n",
       "      <td>0.0</td>\n",
       "      <td>0.0</td>\n",
       "      <td>1356287</td>\n",
       "      <td>East China</td>\n",
       "      <td>657860</td>\n",
       "    </tr>\n",
       "    <tr>\n",
       "      <th>2</th>\n",
       "      <td>2</td>\n",
       "      <td>Anhui</td>\n",
       "      <td>174930.0</td>\n",
       "      <td>NaN</td>\n",
       "      <td>1998</td>\n",
       "      <td>2542.96</td>\n",
       "      <td>27673</td>\n",
       "      <td>0.0</td>\n",
       "      <td>0.0</td>\n",
       "      <td>0.0</td>\n",
       "      <td>1518236</td>\n",
       "      <td>East China</td>\n",
       "      <td>889463</td>\n",
       "    </tr>\n",
       "    <tr>\n",
       "      <th>3</th>\n",
       "      <td>3</td>\n",
       "      <td>Anhui</td>\n",
       "      <td>285324.0</td>\n",
       "      <td>NaN</td>\n",
       "      <td>1999</td>\n",
       "      <td>2712.34</td>\n",
       "      <td>26131</td>\n",
       "      <td>NaN</td>\n",
       "      <td>NaN</td>\n",
       "      <td>NaN</td>\n",
       "      <td>1646891</td>\n",
       "      <td>East China</td>\n",
       "      <td>1227364</td>\n",
       "    </tr>\n",
       "    <tr>\n",
       "      <th>4</th>\n",
       "      <td>4</td>\n",
       "      <td>Anhui</td>\n",
       "      <td>195580.0</td>\n",
       "      <td>32100.0</td>\n",
       "      <td>2000</td>\n",
       "      <td>2902.09</td>\n",
       "      <td>31847</td>\n",
       "      <td>0.0</td>\n",
       "      <td>0.0</td>\n",
       "      <td>0.0</td>\n",
       "      <td>1601508</td>\n",
       "      <td>East China</td>\n",
       "      <td>1499110</td>\n",
       "    </tr>\n",
       "  </tbody>\n",
       "</table>\n",
       "</div>"
      ],
      "text/plain": [
       "   Unnamed: 0 province  specific  general  year      gdp    fdi  rnr   rr  \\\n",
       "0           0    Anhui  147002.0      NaN  1996  2093.30  50661  0.0  0.0   \n",
       "1           1    Anhui  151981.0      NaN  1997  2347.32  43443  0.0  0.0   \n",
       "2           2    Anhui  174930.0      NaN  1998  2542.96  27673  0.0  0.0   \n",
       "3           3    Anhui  285324.0      NaN  1999  2712.34  26131  NaN  NaN   \n",
       "4           4    Anhui  195580.0  32100.0  2000  2902.09  31847  0.0  0.0   \n",
       "\n",
       "     i       fr         reg       it  \n",
       "0  0.0  1128873  East China   631930  \n",
       "1  0.0  1356287  East China   657860  \n",
       "2  0.0  1518236  East China   889463  \n",
       "3  NaN  1646891  East China  1227364  \n",
       "4  0.0  1601508  East China  1499110  "
      ]
     },
     "execution_count": 18,
     "metadata": {},
     "output_type": "execute_result"
    }
   ],
   "source": [
    "ddf[ddf.reg.str.contains('East China')].head()"
   ]
  },
  {
   "cell_type": "code",
   "execution_count": 19,
   "metadata": {
    "cell_id": "00022-46b8b0ac-fae8-4e23-9b4e-7b4422fa16fa",
    "execution_millis": 94,
    "execution_start": 1604459641172,
    "output_cleared": false,
    "source_hash": "2e770ab8"
   },
   "outputs": [
    {
     "data": {
      "application/vnd.deepnote.dataframe.v2+json": {
       "column_count": 2,
       "columns": [
        {
         "dtype": "float64",
         "name": "mean",
         "stats": {
          "histogram": [
           {
            "bin_end": 3447.1045,
            "bin_start": 2460.7825,
            "count": 1
           },
           {
            "bin_end": 4433.4265,
            "bin_start": 3447.1045,
            "count": 1
           },
           {
            "bin_end": 5419.7485,
            "bin_start": 4433.4265,
            "count": 1
           },
           {
            "bin_end": 6406.0705,
            "bin_start": 5419.7485,
            "count": 0
           },
           {
            "bin_end": 7392.3925,
            "bin_start": 6406.0705,
            "count": 1
           },
           {
            "bin_end": 8378.7145,
            "bin_start": 7392.3925,
            "count": 0
           },
           {
            "bin_end": 9365.0365,
            "bin_start": 8378.7145,
            "count": 1
           },
           {
            "bin_end": 10351.3585,
            "bin_start": 9365.0365,
            "count": 0
           },
           {
            "bin_end": 11337.6805,
            "bin_start": 10351.3585,
            "count": 1
           },
           {
            "bin_end": 12324.0025,
            "bin_start": 11337.6805,
            "count": 1
           }
          ],
          "max": 12324.0025,
          "min": 2460.7825,
          "nan_count": 0,
          "unique_count": 7
         }
        },
        {
         "dtype": "int64",
         "name": "count",
         "stats": {
          "histogram": [
           {
            "bin_end": 11.6,
            "bin_start": 11.5,
            "count": 0
           },
           {
            "bin_end": 11.7,
            "bin_start": 11.6,
            "count": 0
           },
           {
            "bin_end": 11.8,
            "bin_start": 11.7,
            "count": 0
           },
           {
            "bin_end": 11.9,
            "bin_start": 11.8,
            "count": 0
           },
           {
            "bin_end": 12,
            "bin_start": 11.9,
            "count": 0
           },
           {
            "bin_end": 12.1,
            "bin_start": 12,
            "count": 7
           },
           {
            "bin_end": 12.2,
            "bin_start": 12.1,
            "count": 0
           },
           {
            "bin_end": 12.3,
            "bin_start": 12.2,
            "count": 0
           },
           {
            "bin_end": 12.4,
            "bin_start": 12.3,
            "count": 0
           },
           {
            "bin_end": 12.5,
            "bin_start": 12.4,
            "count": 0
           }
          ],
          "max": 12,
          "min": 12,
          "nan_count": 0,
          "unique_count": 1
         }
        },
        {
         "dtype": "object",
         "name": "_deepnote_index_column"
        }
       ],
       "row_count": 7,
       "rows_bottom": null,
       "rows_top": [
        {
         "_deepnote_index_column": "Anhui",
         "count": 12,
         "mean": 3905.8700000000003
        },
        {
         "_deepnote_index_column": "Fujian",
         "count": 12,
         "mean": 4864.0233333333335
        },
        {
         "_deepnote_index_column": "Jiangsu",
         "count": 12,
         "mean": 10761.846666666668
        },
        {
         "_deepnote_index_column": "Jiangxi",
         "count": 12,
         "mean": 2460.7825
        },
        {
         "_deepnote_index_column": "Shandong",
         "count": 12,
         "mean": 12324.0025
        },
        {
         "_deepnote_index_column": "Shanghai",
         "count": 12,
         "mean": 6432.454166666666
        },
        {
         "_deepnote_index_column": "Zhejiang",
         "count": 12,
         "mean": 9138.151666666667
        }
       ]
      },
      "text/html": [
       "<div>\n",
       "<style scoped>\n",
       "    .dataframe tbody tr th:only-of-type {\n",
       "        vertical-align: middle;\n",
       "    }\n",
       "\n",
       "    .dataframe tbody tr th {\n",
       "        vertical-align: top;\n",
       "    }\n",
       "\n",
       "    .dataframe thead th {\n",
       "        text-align: right;\n",
       "    }\n",
       "</style>\n",
       "<table border=\"1\" class=\"dataframe\">\n",
       "  <thead>\n",
       "    <tr style=\"text-align: right;\">\n",
       "      <th></th>\n",
       "      <th>mean</th>\n",
       "      <th>count</th>\n",
       "    </tr>\n",
       "    <tr>\n",
       "      <th>province</th>\n",
       "      <th></th>\n",
       "      <th></th>\n",
       "    </tr>\n",
       "  </thead>\n",
       "  <tbody>\n",
       "    <tr>\n",
       "      <th>Anhui</th>\n",
       "      <td>3905.870000</td>\n",
       "      <td>12</td>\n",
       "    </tr>\n",
       "    <tr>\n",
       "      <th>Fujian</th>\n",
       "      <td>4864.023333</td>\n",
       "      <td>12</td>\n",
       "    </tr>\n",
       "    <tr>\n",
       "      <th>Jiangsu</th>\n",
       "      <td>10761.846667</td>\n",
       "      <td>12</td>\n",
       "    </tr>\n",
       "    <tr>\n",
       "      <th>Jiangxi</th>\n",
       "      <td>2460.782500</td>\n",
       "      <td>12</td>\n",
       "    </tr>\n",
       "    <tr>\n",
       "      <th>Shandong</th>\n",
       "      <td>12324.002500</td>\n",
       "      <td>12</td>\n",
       "    </tr>\n",
       "    <tr>\n",
       "      <th>Shanghai</th>\n",
       "      <td>6432.454167</td>\n",
       "      <td>12</td>\n",
       "    </tr>\n",
       "    <tr>\n",
       "      <th>Zhejiang</th>\n",
       "      <td>9138.151667</td>\n",
       "      <td>12</td>\n",
       "    </tr>\n",
       "  </tbody>\n",
       "</table>\n",
       "</div>"
      ],
      "text/plain": [
       "                  mean  count\n",
       "province                     \n",
       "Anhui      3905.870000     12\n",
       "Fujian     4864.023333     12\n",
       "Jiangsu   10761.846667     12\n",
       "Jiangxi    2460.782500     12\n",
       "Shandong  12324.002500     12\n",
       "Shanghai   6432.454167     12\n",
       "Zhejiang   9138.151667     12"
      ]
     },
     "execution_count": 19,
     "metadata": {},
     "output_type": "execute_result"
    }
   ],
   "source": [
    "ec = ddf[ddf.reg.str.contains('East China')]\n",
    "\n",
    "mean_gdp_prov = ec.groupby('province').gdp.agg(['mean','count'])\n",
    "mean_gdp_prov.compute()"
   ]
  },
  {
   "cell_type": "code",
   "execution_count": 21,
   "metadata": {
    "cell_id": "00024-9e2a7667-cfa3-477c-a0e4-ce4ccb4e4aff",
    "execution_millis": 54,
    "execution_start": 1604459648397,
    "output_cleared": false,
    "source_hash": "6a77be85"
   },
   "outputs": [
    {
     "data": {
      "application/vnd.deepnote.dataframe.v2+json": {
       "column_count": 2,
       "columns": [
        {
         "dtype": "float64",
         "name": "mean",
         "stats": {
          "histogram": [
           {
            "bin_end": 5610.02125,
            "bin_start": 4864.0233333333335,
            "count": 1
           },
           {
            "bin_end": 6356.019166666667,
            "bin_start": 5610.02125,
            "count": 0
           },
           {
            "bin_end": 7102.017083333334,
            "bin_start": 6356.019166666667,
            "count": 1
           },
           {
            "bin_end": 7848.015,
            "bin_start": 7102.017083333334,
            "count": 0
           },
           {
            "bin_end": 8594.012916666667,
            "bin_start": 7848.015,
            "count": 0
           },
           {
            "bin_end": 9340.010833333334,
            "bin_start": 8594.012916666667,
            "count": 1
           },
           {
            "bin_end": 10086.00875,
            "bin_start": 9340.010833333334,
            "count": 0
           },
           {
            "bin_end": 10832.006666666668,
            "bin_start": 10086.00875,
            "count": 1
           },
           {
            "bin_end": 11578.004583333335,
            "bin_start": 10832.006666666668,
            "count": 0
           },
           {
            "bin_end": 12324.0025,
            "bin_start": 11578.004583333335,
            "count": 1
           }
          ],
          "max": 12324.0025,
          "min": 4864.0233333333335,
          "nan_count": 0,
          "unique_count": 5
         }
        },
        {
         "dtype": "int64",
         "name": "count",
         "stats": {
          "histogram": [
           {
            "bin_end": 11.6,
            "bin_start": 11.5,
            "count": 0
           },
           {
            "bin_end": 11.7,
            "bin_start": 11.6,
            "count": 0
           },
           {
            "bin_end": 11.8,
            "bin_start": 11.7,
            "count": 0
           },
           {
            "bin_end": 11.9,
            "bin_start": 11.8,
            "count": 0
           },
           {
            "bin_end": 12,
            "bin_start": 11.9,
            "count": 0
           },
           {
            "bin_end": 12.1,
            "bin_start": 12,
            "count": 5
           },
           {
            "bin_end": 12.2,
            "bin_start": 12.1,
            "count": 0
           },
           {
            "bin_end": 12.3,
            "bin_start": 12.2,
            "count": 0
           },
           {
            "bin_end": 12.4,
            "bin_start": 12.3,
            "count": 0
           },
           {
            "bin_end": 12.5,
            "bin_start": 12.4,
            "count": 0
           }
          ],
          "max": 12,
          "min": 12,
          "nan_count": 0,
          "unique_count": 1
         }
        },
        {
         "dtype": "object",
         "name": "_deepnote_index_column"
        }
       ],
       "row_count": 5,
       "rows_bottom": null,
       "rows_top": [
        {
         "_deepnote_index_column": "Shandong",
         "count": 12,
         "mean": 12324.0025
        },
        {
         "_deepnote_index_column": "Jiangsu",
         "count": 12,
         "mean": 10761.846666666668
        },
        {
         "_deepnote_index_column": "Zhejiang",
         "count": 12,
         "mean": 9138.151666666667
        },
        {
         "_deepnote_index_column": "Shanghai",
         "count": 12,
         "mean": 6432.454166666666
        },
        {
         "_deepnote_index_column": "Fujian",
         "count": 12,
         "mean": 4864.0233333333335
        }
       ]
      },
      "text/html": [
       "<div>\n",
       "<style scoped>\n",
       "    .dataframe tbody tr th:only-of-type {\n",
       "        vertical-align: middle;\n",
       "    }\n",
       "\n",
       "    .dataframe tbody tr th {\n",
       "        vertical-align: top;\n",
       "    }\n",
       "\n",
       "    .dataframe thead th {\n",
       "        text-align: right;\n",
       "    }\n",
       "</style>\n",
       "<table border=\"1\" class=\"dataframe\">\n",
       "  <thead>\n",
       "    <tr style=\"text-align: right;\">\n",
       "      <th></th>\n",
       "      <th>mean</th>\n",
       "      <th>count</th>\n",
       "    </tr>\n",
       "    <tr>\n",
       "      <th>province</th>\n",
       "      <th></th>\n",
       "      <th></th>\n",
       "    </tr>\n",
       "  </thead>\n",
       "  <tbody>\n",
       "    <tr>\n",
       "      <th>Shandong</th>\n",
       "      <td>12324.002500</td>\n",
       "      <td>12</td>\n",
       "    </tr>\n",
       "    <tr>\n",
       "      <th>Jiangsu</th>\n",
       "      <td>10761.846667</td>\n",
       "      <td>12</td>\n",
       "    </tr>\n",
       "    <tr>\n",
       "      <th>Zhejiang</th>\n",
       "      <td>9138.151667</td>\n",
       "      <td>12</td>\n",
       "    </tr>\n",
       "    <tr>\n",
       "      <th>Shanghai</th>\n",
       "      <td>6432.454167</td>\n",
       "      <td>12</td>\n",
       "    </tr>\n",
       "    <tr>\n",
       "      <th>Fujian</th>\n",
       "      <td>4864.023333</td>\n",
       "      <td>12</td>\n",
       "    </tr>\n",
       "  </tbody>\n",
       "</table>\n",
       "</div>"
      ],
      "text/plain": [
       "                  mean  count\n",
       "province                     \n",
       "Shandong  12324.002500     12\n",
       "Jiangsu   10761.846667     12\n",
       "Zhejiang   9138.151667     12\n",
       "Shanghai   6432.454167     12\n",
       "Fujian     4864.023333     12"
      ]
     },
     "execution_count": 21,
     "metadata": {},
     "output_type": "execute_result"
    }
   ],
   "source": [
    "mean_gdp_prov.nlargest(5, 'mean').compute()"
   ]
  },
  {
   "cell_type": "code",
   "execution_count": 22,
   "metadata": {
    "cell_id": "00026-87babf21-f104-4f89-8d0a-c89bee168014",
    "execution_millis": 1,
    "execution_start": 1604459670563,
    "output_cleared": false,
    "source_hash": "e24770a6"
   },
   "outputs": [
    {
     "data": {
      "text/plain": [
       "['/home/jovyan/work/mean_gdp-0.csv']"
      ]
     },
     "execution_count": 22,
     "metadata": {},
     "output_type": "execute_result"
    }
   ],
   "source": [
    "mean_gdp_prov.to_csv('mean_gdp-*.csv') #the * is where the partition number will go"
   ]
  },
  {
   "cell_type": "code",
   "execution_count": 23,
   "metadata": {
    "cell_id": "00028-f175dd3d-8720-4066-b056-f8bc282fb42e",
    "execution_millis": 1339,
    "execution_start": 1604459676053,
    "output_cleared": false,
    "source_hash": "9637e7bc"
   },
   "outputs": [],
   "source": [
    "client.close()"
   ]
  }
 ],
 "metadata": {
  "deepnote_execution_queue": [],
  "deepnote_notebook_id": "f76bd0b6-14f4-4eb7-8ecc-41c6af11ab7e",
  "kernelspec": {
   "display_name": "Python 3",
   "language": "python",
   "name": "python3"
  },
  "language_info": {
   "codemirror_mode": {
    "name": "ipython",
    "version": 3
   },
   "file_extension": ".py",
   "mimetype": "text/x-python",
   "name": "python",
   "nbconvert_exporter": "python",
   "pygments_lexer": "ipython3",
   "version": "3.7.3"
  }
 },
 "nbformat": 4,
 "nbformat_minor": 4
}
