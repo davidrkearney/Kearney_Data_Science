{
 "cells": [
  {
   "cell_type": "markdown",
   "metadata": {},
   "source": [
    "```\n",
    "# \"# Calculating time with machine learning functions\"\n",
    "> \"Calculating time with machine learning functions\"\n",
    "\n",
    "- toc: true- branch: master- badges: true\n",
    "- comments: true\n",
    "- author: DRK\n",
    "- categories: [jupyter]\n",
    "```\n",
    "\n"
   ]
  },
  {
   "cell_type": "code",
   "execution_count": 1,
   "metadata": {},
   "outputs": [
    {
     "output_type": "execute_result",
     "data": {
      "text/plain": "'A timer for ML functions'"
     },
     "metadata": {},
     "execution_count": 1
    }
   ],
   "source": [
    "\"\"\"A timer for ML functions\"\"\""
   ]
  },
  {
   "cell_type": "code",
   "execution_count": null,
   "metadata": {},
   "outputs": [],
   "source": [
    "#collapse-hide\n",
    "\n",
    "from functools import wraps\n",
    "import time\n",
    "\n",
    "\n",
    "def timer(func):\n",
    "    \"\"\"[This decorator is a timer for functions]\n",
    "\n",
    "    Args:\n",
    "        func ([function]): [This decorator takes a function as argument]\n",
    "\n",
    "    Returns:\n",
    "        [string]: [states the duration of time between the function begining and ending]\n",
    "    \"\"\"\n",
    "    @wraps(func)\n",
    "    def wrapper(*args, **kwargs):\n",
    "        print(f\"{func.__name__!r} begins\")\n",
    "        start_time = time.time()\n",
    "        result = func(*args, **kwargs)\n",
    "        print(f\"{func.__name__!r} ends in {time.time()-start_time}  secs\")\n",
    "        return result\n",
    "    return wrapper\n"
   ]
  },
  {
   "cell_type": "code",
   "execution_count": null,
   "metadata": {},
   "outputs": [],
   "source": [
    "@timer\n",
    "def model_metrics(*args, **kwargs):\n",
    "    \"\"\"[This is a function to print model metrics of interest]\n",
    "    \"\"\"\n",
    "    print(\"Model ID Number:\", args)\n",
    "    print(\"Metric of Interest:\", kwargs)\n",
    "\n",
    "\n",
    "model_metrics(1, 2, 10, key=\"word\", key2=\"word2\", numtrees=\"200\")\n"
   ]
  },
  {
   "cell_type": "code",
   "execution_count": null,
   "metadata": {},
   "outputs": [],
   "source": [
    "#collapse-hide\n",
    "from collections import Counter\n",
    "import math, random\n",
    "\n",
    "#\n",
    "# data splitting\n",
    "#\n",
    "\n",
    "def split_data(data, prob):\n",
    "    \"\"\"split data into fractions [prob, 1 - prob]\"\"\"\n",
    "    results = [], []\n",
    "    for row in data:\n",
    "        results[0 if random.random() < prob else 1].append(row)\n",
    "    return results\n",
    "\n",
    "def train_test_split(x, y, test_pct):\n",
    "    data = list(zip(x, y))                        # pair corresponding values\n",
    "    train, test = split_data(data, 1 - test_pct)  # split the dataset of pairs\n",
    "    x_train, y_train = list(zip(*train))          # magical un-zip trick\n",
    "    x_test, y_test = list(zip(*test))\n",
    "    return x_train, x_test, y_train, y_test\n",
    "\n",
    "#\n",
    "# correctness\n",
    "#\n",
    "\n",
    "def accuracy(tp, fp, fn, tn):\n",
    "    correct = tp + tn\n",
    "    total = tp + fp + fn + tn\n",
    "    return correct / total\n",
    "\n",
    "def precision(tp, fp, fn, tn):\n",
    "    return tp / (tp + fp)\n",
    "\n",
    "def recall(tp, fp, fn, tn):\n",
    "    return tp / (tp + fn)\n",
    "\n",
    "def f1_score(tp, fp, fn, tn):\n",
    "    p = precision(tp, fp, fn, tn)\n",
    "    r = recall(tp, fp, fn, tn)\n",
    "\n",
    "    return 2 * p * r / (p + r)\n",
    "\n",
    "if __name__ == \"__main__\":\n",
    "\n",
    "    print(\"accuracy(70, 4930, 13930, 981070)\", accuracy(70, 4930, 13930, 981070))\n",
    "    print(\"precision(70, 4930, 13930, 981070)\", precision(70, 4930, 13930, 981070))\n",
    "    print(\"recall(70, 4930, 13930, 981070)\", recall(70, 4930, 13930, 981070))\n",
    "    print(\"f1_score(70, 4930, 13930, 981070)\", f1_score(70, 4930, 13930, 981070))\n"
   ]
  }
 ],
 "metadata": {
  "language_info": {
   "codemirror_mode": {
    "name": "ipython",
    "version": 3
   },
   "file_extension": ".py",
   "mimetype": "text/x-python",
   "name": "python",
   "nbconvert_exporter": "python",
   "pygments_lexer": "ipython3",
   "version": "3.7.4-final"
  },
  "orig_nbformat": 2,
  "kernelspec": {
   "name": "insight_kernel",
   "display_name": "insight_kernel"
  }
 },
 "nbformat": 4,
 "nbformat_minor": 2
}