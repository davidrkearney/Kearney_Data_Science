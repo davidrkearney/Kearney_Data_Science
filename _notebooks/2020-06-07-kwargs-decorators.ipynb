{
 "cells": [
  {
   "cell_type": "code",
   "execution_count": 1,
   "metadata": {},
   "outputs": [
    {
     "output_type": "execute_result",
     "data": {
      "text/plain": "'A timer for ML functions'"
     },
     "metadata": {},
     "execution_count": 1
    }
   ],
   "source": [
    "\"\"\"A timer for ML functions\"\"\""
   ]
  },
  {
   "cell_type": "code",
   "execution_count": null,
   "metadata": {},
   "outputs": [],
   "source": [
    "from functools import wraps\n",
    "import time\n",
    "\n",
    "\n",
    "def timer(func):\n",
    "    \"\"\"[This decorator is a timer for functions]\n",
    "\n",
    "    Args:\n",
    "        func ([function]): [This decorator takes a function as argument]\n",
    "\n",
    "    Returns:\n",
    "        [string]: [states the duration of time between the function begining and ending]\n",
    "    \"\"\"\n",
    "    @wraps(func)\n",
    "    def wrapper(*args, **kwargs):\n",
    "        print(f\"{func.__name__!r} begins\")\n",
    "        start_time = time.time()\n",
    "        result = func(*args, **kwargs)\n",
    "        print(f\"{func.__name__!r} ends in {time.time()-start_time}  secs\")\n",
    "        return result\n",
    "    return wrapper\n"
   ]
  },
  {
   "cell_type": "code",
   "execution_count": null,
   "metadata": {},
   "outputs": [],
   "source": [
    "@timer\n",
    "def model_metrics(*args, **kwargs):\n",
    "    \"\"\"[This is a function to print model metrics of interest]\n",
    "    \"\"\"\n",
    "    print(\"Model ID Number:\", args)\n",
    "    print(\"Metric of Interest:\", kwargs)\n",
    "\n",
    "\n",
    "model_metrics(1, 2, 10, key=\"word\", key2=\"word2\", numtrees=\"200\")\n"
   ]
  },
  {
   "cell_type": "code",
   "execution_count": null,
   "metadata": {},
   "outputs": [],
   "source": []
  }
 ],
 "metadata": {
  "language_info": {
   "codemirror_mode": {
    "name": "ipython",
    "version": 3
   },
   "file_extension": ".py",
   "mimetype": "text/x-python",
   "name": "python",
   "nbconvert_exporter": "python",
   "pygments_lexer": "ipython3",
   "version": "3.7.4-final"
  },
  "orig_nbformat": 2,
  "kernelspec": {
   "name": "insight_kernel",
   "display_name": "insight_kernel"
  }
 },
 "nbformat": 4,
 "nbformat_minor": 2
}