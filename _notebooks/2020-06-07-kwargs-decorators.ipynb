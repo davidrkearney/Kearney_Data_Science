{
 "cells": [
  {
   "cell_type": "markdown",
   "metadata": {},
   "source": [
    "# A timer for ML functions"
   ]
  },
  {
   "cell_type": "markdown",
   "metadata": {},
   "source": [
    "> \"A timer for ML functions\"\n",
    "\n",
    "- toc: true- branch: master- badges: true\n",
    "- comments: true\n",
    "- author: David Kearney\n",
    "- categories: [timer, jupyter]\n",
    "- description: A timer for ML functions\n",
    "- title: A timer for ML functions"
   ]
  },
  {
   "cell_type": "code",
   "execution_count": 17,
   "metadata": {},
   "outputs": [],
   "source": [
    "#collapse-hide\n",
    "\n",
    "from functools import wraps\n",
    "import time\n",
    "\n",
    "\n",
    "def timer(func):\n",
    "    \"\"\"[This decorator is a timer for functions]\n",
    "\n",
    "    Args:\n",
    "        func ([function]): [This decorator takes a function as argument]\n",
    "\n",
    "    Returns:\n",
    "        [string]: [states the duration of time between the function begining and ending]\n",
    "    \"\"\"\n",
    "    @wraps(func)\n",
    "    def wrapper(*args, **kwargs):\n",
    "        print(f\"{func.__name__!r} begins\")\n",
    "        start_time = time.time()\n",
    "        result = func(*args, **kwargs)\n",
    "        print(f\"{func.__name__!r} ends in {time.time()-start_time}  secs\")\n",
    "        return result\n",
    "    return wrapper\n"
   ]
  },
  {
   "cell_type": "code",
   "execution_count": 18,
   "metadata": {},
   "outputs": [],
   "source": [
    "@timer\n",
    "def model_metrics(*args, **kwargs):\n",
    "    \"\"\"[This is a function to print model metrics of interest]\n",
    "    \"\"\"\n",
    "    print(\"Model ID Number:\", args)\n",
    "    print(\"Metric of Interest:\", kwargs)\n",
    "\n",
    "\n",
    "model_metrics(1, 2, 10, key=\"word\", key2=\"word2\", numtrees=\"200\")\n"
   ]
  },
  {
   "cell_type": "code",
   "execution_count": 19,
   "metadata": {},
   "outputs": [],
   "source": [
    "from collections import Counter\n",
    "import math, random\n",
    "\n",
    "#\n",
    "# data splitting\n",
    "#\n",
    "\n",
    "def split_data(data, prob):\n",
    "    \"\"\"split data into fractions [prob, 1 - prob]\"\"\"\n",
    "    results = [], []\n",
    "    for row in data:\n",
    "        results[0 if random.random() < prob else 1].append(row)\n",
    "    return results\n",
    "\n",
    "def train_test_split(x, y, test_pct):\n",
    "    data = list(zip(x, y))                        # pair corresponding values\n",
    "    train, test = split_data(data, 1 - test_pct)  # split the dataset of pairs\n",
    "    x_train, y_train = list(zip(*train))          # magical un-zip trick\n",
    "    x_test, y_test = list(zip(*test))\n",
    "    return x_train, x_test, y_train, y_test\n",
    "\n",
    "#\n",
    "# correctness\n",
    "#\n",
    "\n",
    "def accuracy(tp, fp, fn, tn):\n",
    "    correct = tp + tn\n",
    "    total = tp + fp + fn + tn\n",
    "    return correct / total\n",
    "\n",
    "def precision(tp, fp, fn, tn):\n",
    "    return tp / (tp + fp)\n",
    "\n",
    "def recall(tp, fp, fn, tn):\n",
    "    return tp / (tp + fn)\n",
    "\n",
    "def f1_score(tp, fp, fn, tn):\n",
    "    p = precision(tp, fp, fn, tn)\n",
    "    r = recall(tp, fp, fn, tn)\n",
    "\n",
    "    return 2 * p * r / (p + r)\n",
    "\n",
    "if __name__ == \"__main__\":\n",
    "\n",
    "    print(\"accuracy(70, 4930, 13930, 981070)\", accuracy(70, 4930, 13930, 981070))\n",
    "    print(\"precision(70, 4930, 13930, 981070)\", precision(70, 4930, 13930, 981070))\n",
    "    print(\"recall(70, 4930, 13930, 981070)\", recall(70, 4930, 13930, 981070))\n",
    "    print(\"f1_score(70, 4930, 13930, 981070)\", f1_score(70, 4930, 13930, 981070))\n"
   ]
  },
  {
   "cell_type": "code",
   "execution_count": 20,
   "metadata": {},
   "outputs": [],
   "source": [
    "favorite_number = 7\n",
    "\n",
    "\n",
    "def add(a, b):\n",
    "    return a + b\n",
    "\n",
    "\n",
    "def sub(a, b):\n",
    "    return a - b\n",
    "\n",
    "\n",
    "def multiply(a, b):\n",
    "    return a * b\n",
    "\n",
    "\n",
    "def divide(a, b):\n",
    "    return a / b\n",
    "\n",
    "\n",
    "def count_vowels(word):\n",
    "    count = 0\n",
    "    for letter in word.lower():\n",
    "        count += letter in 'aeiou'\n",
    "\n",
    "    return count\n"
   ]
  },
  {
   "cell_type": "code",
   "execution_count": 21,
   "metadata": {},
   "outputs": [],
   "source": [
    "# import example_module as sm\n",
    "\n",
    "# print(sm.favorite_number)\n",
    "\n",
    "# # add two numbers together\n",
    "# print(sm.add(3, 8))\n",
    "\n",
    "# # count the number of vowels in a string\n",
    "# print(sm.count_vowels('Testing'))"
   ]
  },
  {
   "cell_type": "code",
   "execution_count": 22,
   "metadata": {},
   "outputs": [],
   "source": [
    "import pandas as pd\n",
    "from alive_progress import alive_bar, showtime, show_bars, show_spinners, config_handler\n",
    "config_handler.set_global(theme='ascii', spinner='notes', bar='solid')\n",
    "\n",
    "with alive_bar(3) as bar:\n",
    "    df = pd.read_csv('https://gist.githubusercontent.com/davidrkearney/bb461ba351da484336a19bd00a2612e2/raw/18dd90b57fec46a247248d161ffd8085de2a00db/china_province_economicdata_1996_2007.csv')\n",
    "    bar('file read, printing file')\n",
    "    print(df.head)\n",
    "    bar('data printed ok, printing methods of data')\n",
    "    print(dir(df))\n",
    "    bar('process complete')\n"
   ]
  },
  {
   "cell_type": "code",
   "execution_count": 23,
   "metadata": {},
   "outputs": [],
   "source": [
    "from functools import wraps\n",
    "import time\n",
    "\n",
    "\n",
    "def timer(func):\n",
    "    \"\"\"[This decorator is a timer for functions]\n",
    "\n",
    "    Args:\n",
    "        func ([function]): [This decorator takes a function as argument]\n",
    "\n",
    "    Returns:\n",
    "        [string]: [states the duration of time between the function begining and ending]\n",
    "    \"\"\"\n",
    "    @wraps(func)\n",
    "    def wrapper(*args, **kwargs):\n",
    "        print(f\"{func.__name__!r} begins\")\n",
    "        start_time = time.time()\n",
    "        result = func(*args, **kwargs)\n",
    "        print(f\"{func.__name__!r} ends in {time.time()-start_time}  secs\")\n",
    "        return result\n",
    "    return wrapper\n",
    "\n",
    "\n",
    "\n",
    "@timer\n",
    "def model_metrics(*args, **kwargs):\n",
    "    \"\"\"[This is a function to print model metrics of interest]\n",
    "    \"\"\"\n",
    "    print(\"Model ID Number:\", args)\n",
    "    print(\"Metric of Interest:\", kwargs)\n",
    "\n",
    "\n",
    "model_metrics(1, 2, 10, key=\"word\", key2=\"word2\", numtrees=\"200\")"
   ]
  },
  {
   "cell_type": "markdown",
   "metadata": {},
   "source": [
    "This post includes code adapted from [Data Science from Scratch](https://github.com/joelgrus/data-science-from-scratch/)\n"
   ]
  }
 ],
 "metadata": {
  "kernelspec": {
   "display_name": "insight_kernel",
   "language": "python",
   "name": "insight_kernel"
  },
  "language_info": {
   "codemirror_mode": {
    "name": "ipython",
    "version": 3
   },
   "file_extension": ".py",
   "mimetype": "text/x-python",
   "name": "python",
   "nbconvert_exporter": "python",
   "pygments_lexer": "ipython3",
   "version": "3.7.4"
  }
 },
 "nbformat": 4,
 "nbformat_minor": 4
}