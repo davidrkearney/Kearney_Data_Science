{
  "nbformat": 4,
  "nbformat_minor": 0,
  "metadata": {
    "anaconda-cloud": {},
    "kernelspec": {
      "display_name": "Python 3.6 (tensorflow)",
      "language": "python",
      "name": "tensorflow"
    },
    "language_info": {
      "codemirror_mode": {
        "name": "ipython",
        "version": 3
      },
      "file_extension": ".py",
      "mimetype": "text/x-python",
      "name": "python",
      "nbconvert_exporter": "python",
      "pygments_lexer": "ipython3",
      "version": "3.7.7"
    },
    "colab": {
      "name": "Timeseries.ipynb",
      "provenance": [],
      "collapsed_sections": [],
      "include_colab_link": true
    }
  },
  "cells": [
    {
      "cell_type": "markdown",
      "metadata": {
        "id": "INmLPz9SPHhQ"
      },
      "source": [
        "# Timeseries\n"
      ]
    },
    {
      "cell_type": "markdown",
      "metadata": {
        "id": "FSICdtfPPEqU"
      },
      "source": [
        "## Credit: Code from https://github.com/jeffheaton/t81_558_deep_learning\n"
      ]
    },
    {
      "cell_type": "code",
      "metadata": {
        "id": "Qzak3K35N_mX",
        "outputId": "ec52bc97-0630-4624-8800-e6705b2f1e7c",
        "colab": {
          "base_uri": "https://localhost:8080/"
        }
      },
      "source": [
        "try:\n",
        "    %tensorflow_version 2.x\n",
        "    COLAB = True\n",
        "    print(\"Note: using Google CoLab\")\n",
        "except:\n",
        "    print(\"Note: not using Google CoLab\")\n",
        "    COLAB = False"
      ],
      "execution_count": null,
      "outputs": [
        {
          "output_type": "stream",
          "text": [
            "Note: using Google CoLab\n"
          ],
          "name": "stdout"
        }
      ]
    },
    {
      "cell_type": "code",
      "metadata": {
        "id": "fqCET1qaN_m1",
        "outputId": "0f50cf5b-1ed0-4919-c230-8429082a8d61",
        "colab": {
          "base_uri": "https://localhost:8080/"
        }
      },
      "source": [
        "# \n",
        "\n",
        "x = [\n",
        "    [32],\n",
        "    [41],\n",
        "    [39],\n",
        "    [20],\n",
        "    [15]\n",
        "]\n",
        "\n",
        "y = [\n",
        "    1,\n",
        "    -1,\n",
        "    0,\n",
        "    -1,\n",
        "    1\n",
        "]\n",
        "\n",
        "print(x)\n",
        "print(y)"
      ],
      "execution_count": null,
      "outputs": [
        {
          "output_type": "stream",
          "text": [
            "[[32], [41], [39], [20], [15]]\n",
            "[1, -1, 0, -1, 1]\n"
          ],
          "name": "stdout"
        }
      ]
    },
    {
      "cell_type": "code",
      "metadata": {
        "scrolled": true,
        "id": "PyB-j72yN_nG",
        "outputId": "ecfb968a-8121-49df-bd58-35b1e0318846",
        "colab": {
          "base_uri": "https://localhost:8080/",
          "height": 225
        }
      },
      "source": [
        "from IPython.display import display, HTML\n",
        "import pandas as pd\n",
        "import numpy as np\n",
        "\n",
        "x = np.array(x)\n",
        "print(x[:,0])\n",
        "\n",
        "\n",
        "df = pd.DataFrame({'x':x[:,0], 'y':y})\n",
        "display(df)"
      ],
      "execution_count": null,
      "outputs": [
        {
          "output_type": "stream",
          "text": [
            "[32 41 39 20 15]\n"
          ],
          "name": "stdout"
        },
        {
          "output_type": "display_data",
          "data": {
            "text/html": [
              "<div>\n",
              "<style scoped>\n",
              "    .dataframe tbody tr th:only-of-type {\n",
              "        vertical-align: middle;\n",
              "    }\n",
              "\n",
              "    .dataframe tbody tr th {\n",
              "        vertical-align: top;\n",
              "    }\n",
              "\n",
              "    .dataframe thead th {\n",
              "        text-align: right;\n",
              "    }\n",
              "</style>\n",
              "<table border=\"1\" class=\"dataframe\">\n",
              "  <thead>\n",
              "    <tr style=\"text-align: right;\">\n",
              "      <th></th>\n",
              "      <th>x</th>\n",
              "      <th>y</th>\n",
              "    </tr>\n",
              "  </thead>\n",
              "  <tbody>\n",
              "    <tr>\n",
              "      <th>0</th>\n",
              "      <td>32</td>\n",
              "      <td>1</td>\n",
              "    </tr>\n",
              "    <tr>\n",
              "      <th>1</th>\n",
              "      <td>41</td>\n",
              "      <td>-1</td>\n",
              "    </tr>\n",
              "    <tr>\n",
              "      <th>2</th>\n",
              "      <td>39</td>\n",
              "      <td>0</td>\n",
              "    </tr>\n",
              "    <tr>\n",
              "      <th>3</th>\n",
              "      <td>20</td>\n",
              "      <td>-1</td>\n",
              "    </tr>\n",
              "    <tr>\n",
              "      <th>4</th>\n",
              "      <td>15</td>\n",
              "      <td>1</td>\n",
              "    </tr>\n",
              "  </tbody>\n",
              "</table>\n",
              "</div>"
            ],
            "text/plain": [
              "    x  y\n",
              "0  32  1\n",
              "1  41 -1\n",
              "2  39  0\n",
              "3  20 -1\n",
              "4  15  1"
            ]
          },
          "metadata": {
            "tags": []
          }
        }
      ]
    },
    {
      "cell_type": "code",
      "metadata": {
        "id": "ZK0cjP6IN_nV",
        "outputId": "bf588d2e-c5c3-4185-b249-3239504e6204",
        "colab": {
          "base_uri": "https://localhost:8080/"
        }
      },
      "source": [
        "x = [\n",
        "    [32,1383],\n",
        "    [41,2928],\n",
        "    [39,8823],\n",
        "    [20,1252],\n",
        "    [15,1532]\n",
        "]\n",
        "\n",
        "y = [\n",
        "    1,\n",
        "    -1,\n",
        "    0,\n",
        "    -1,\n",
        "    1\n",
        "]\n",
        "\n",
        "print(x)\n",
        "print(y)"
      ],
      "execution_count": null,
      "outputs": [
        {
          "output_type": "stream",
          "text": [
            "[[32, 1383], [41, 2928], [39, 8823], [20, 1252], [15, 1532]]\n",
            "[1, -1, 0, -1, 1]\n"
          ],
          "name": "stdout"
        }
      ]
    },
    {
      "cell_type": "code",
      "metadata": {
        "id": "o040PMGgN_nk",
        "outputId": "3c8583b2-6c88-4cc0-d638-17b5c1a20929",
        "colab": {
          "base_uri": "https://localhost:8080/",
          "height": 225
        }
      },
      "source": [
        "from IPython.display import display, HTML\n",
        "import pandas as pd\n",
        "import numpy as np\n",
        "\n",
        "x = np.array(x)\n",
        "print(x[:,0])\n",
        "\n",
        "\n",
        "df = pd.DataFrame({'price':x[:,0], 'volume':x[:,1], 'y':y})\n",
        "display(df)"
      ],
      "execution_count": null,
      "outputs": [
        {
          "output_type": "stream",
          "text": [
            "[32 41 39 20 15]\n"
          ],
          "name": "stdout"
        },
        {
          "output_type": "display_data",
          "data": {
            "text/html": [
              "<div>\n",
              "<style scoped>\n",
              "    .dataframe tbody tr th:only-of-type {\n",
              "        vertical-align: middle;\n",
              "    }\n",
              "\n",
              "    .dataframe tbody tr th {\n",
              "        vertical-align: top;\n",
              "    }\n",
              "\n",
              "    .dataframe thead th {\n",
              "        text-align: right;\n",
              "    }\n",
              "</style>\n",
              "<table border=\"1\" class=\"dataframe\">\n",
              "  <thead>\n",
              "    <tr style=\"text-align: right;\">\n",
              "      <th></th>\n",
              "      <th>price</th>\n",
              "      <th>volume</th>\n",
              "      <th>y</th>\n",
              "    </tr>\n",
              "  </thead>\n",
              "  <tbody>\n",
              "    <tr>\n",
              "      <th>0</th>\n",
              "      <td>32</td>\n",
              "      <td>1383</td>\n",
              "      <td>1</td>\n",
              "    </tr>\n",
              "    <tr>\n",
              "      <th>1</th>\n",
              "      <td>41</td>\n",
              "      <td>2928</td>\n",
              "      <td>-1</td>\n",
              "    </tr>\n",
              "    <tr>\n",
              "      <th>2</th>\n",
              "      <td>39</td>\n",
              "      <td>8823</td>\n",
              "      <td>0</td>\n",
              "    </tr>\n",
              "    <tr>\n",
              "      <th>3</th>\n",
              "      <td>20</td>\n",
              "      <td>1252</td>\n",
              "      <td>-1</td>\n",
              "    </tr>\n",
              "    <tr>\n",
              "      <th>4</th>\n",
              "      <td>15</td>\n",
              "      <td>1532</td>\n",
              "      <td>1</td>\n",
              "    </tr>\n",
              "  </tbody>\n",
              "</table>\n",
              "</div>"
            ],
            "text/plain": [
              "   price  volume  y\n",
              "0     32    1383  1\n",
              "1     41    2928 -1\n",
              "2     39    8823  0\n",
              "3     20    1252 -1\n",
              "4     15    1532  1"
            ]
          },
          "metadata": {
            "tags": []
          }
        }
      ]
    },
    {
      "cell_type": "code",
      "metadata": {
        "id": "sjBeChIWN_ny",
        "outputId": "ed3983cc-9282-467c-e736-d04705a0f9aa",
        "colab": {
          "base_uri": "https://localhost:8080/"
        }
      },
      "source": [
        "x = [\n",
        "    [[32,1383],[41,2928],[39,8823],[20,1252],[15,1532]],\n",
        "    [[35,8272],[32,1383],[41,2928],[39,8823],[20,1252]],\n",
        "    [[37,2738],[35,8272],[32,1383],[41,2928],[39,8823]],\n",
        "    [[34,2845],[37,2738],[35,8272],[32,1383],[41,2928]],\n",
        "    [[32,2345],[34,2845],[37,2738],[35,8272],[32,1383]],\n",
        "]\n",
        "\n",
        "y = [\n",
        "    1,\n",
        "    -1,\n",
        "    0,\n",
        "    -1,\n",
        "    1\n",
        "]\n",
        "\n",
        "print(x)\n",
        "print(y)"
      ],
      "execution_count": null,
      "outputs": [
        {
          "output_type": "stream",
          "text": [
            "[[[32, 1383], [41, 2928], [39, 8823], [20, 1252], [15, 1532]], [[35, 8272], [32, 1383], [41, 2928], [39, 8823], [20, 1252]], [[37, 2738], [35, 8272], [32, 1383], [41, 2928], [39, 8823]], [[34, 2845], [37, 2738], [35, 8272], [32, 1383], [41, 2928]], [[32, 2345], [34, 2845], [37, 2738], [35, 8272], [32, 1383]]]\n",
            "[1, -1, 0, -1, 1]\n"
          ],
          "name": "stdout"
        }
      ]
    },
    {
      "cell_type": "markdown",
      "metadata": {
        "id": "_pkt5H1YN_n9"
      },
      "source": [
        "Even if there is only one feature (price), the 3rd dimension must be used:"
      ]
    },
    {
      "cell_type": "code",
      "metadata": {
        "id": "n5HNIk0pN_n_",
        "outputId": "86fa5730-46f4-4d98-836c-295ba3ff6044",
        "colab": {
          "base_uri": "https://localhost:8080/"
        }
      },
      "source": [
        "x = [\n",
        "    [[32],[41],[39],[20],[15]],\n",
        "    [[35],[32],[41],[39],[20]],\n",
        "    [[37],[35],[32],[41],[39]],\n",
        "    [[34],[37],[35],[32],[41]],\n",
        "    [[32],[34],[37],[35],[32]],\n",
        "]\n",
        "\n",
        "y = [\n",
        "    1,\n",
        "    -1,\n",
        "    0,\n",
        "    -1,\n",
        "    1\n",
        "]\n",
        "\n",
        "print(x)\n",
        "print(y)"
      ],
      "execution_count": null,
      "outputs": [
        {
          "output_type": "stream",
          "text": [
            "[[[32], [41], [39], [20], [15]], [[35], [32], [41], [39], [20]], [[37], [35], [32], [41], [39]], [[34], [37], [35], [32], [41]], [[32], [34], [37], [35], [32]]]\n",
            "[1, -1, 0, -1, 1]\n"
          ],
          "name": "stdout"
        }
      ]
    }
  ]
}