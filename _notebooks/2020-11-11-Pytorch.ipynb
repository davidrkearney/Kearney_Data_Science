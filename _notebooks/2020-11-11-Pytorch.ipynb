{
  "nbformat": 4,
  "nbformat_minor": 0,
  "metadata": {
    "colab": {
      "name": "Pytorch.ipynb",
      "provenance": [],
      "collapsed_sections": [],
      "authorship_tag": "ABX9TyPa2jQhZJPT7IITha5h0Adb",
      "include_colab_link": true
    },
    "kernelspec": {
      "name": "python3",
      "display_name": "Python 3"
    }
  },
  "cells": [
    {
      "cell_type": "markdown",
      "metadata": {
        "id": "view-in-github",
        "colab_type": "text"
      },
      "source": [
        "<a href=\"https://colab.research.google.com/github/davidrkearney/colab-notebooks/blob/main/Pytorch.ipynb\" target=\"_parent\"><img src=\"https://colab.research.google.com/assets/colab-badge.svg\" alt=\"Open In Colab\"/></a>"
      ]
    },
    {
      "cell_type": "markdown",
      "metadata": {
        "id": "Js_sm50vMzb1"
      },
      "source": [
        "\n",
        "# Pytorch\n"
      ]
    },
    {
      "cell_type": "markdown",
      "metadata": {
        "id": "XvHVLNXUNOKs"
      },
      "source": [
        "## Credit: Code from https://github.com/jeffheaton/t81_558_deep_learning\n"
      ]
    },
    {
      "cell_type": "code",
      "metadata": {
        "id": "-nGoXv9YLvcp",
        "outputId": "09e8e91a-2b68-486f-ece0-36cdaa351348",
        "colab": {
          "base_uri": "https://localhost:8080/"
        }
      },
      "source": [
        "import pandas as pd\n",
        "from sklearn.model_selection import train_test_split\n",
        "from sklearn.metrics import accuracy_score\n",
        "\n",
        "import torch\n",
        "import torch.nn as nn\n",
        "import torch.nn.functional as F\n",
        "import numpy as np\n",
        "from torch.autograd import Variable\n",
        "from sklearn import preprocessing\n",
        "\n",
        "\n",
        "class Net(nn.Module):\n",
        "    def __init__(self, in_count, out_count):\n",
        "        super(Net, self).__init__()\n",
        "        self.fc1 = nn.Linear(in_count, 50)\n",
        "        self.fc2 = nn.Linear(50, 25)\n",
        "        self.fc3 = nn.Linear(25, out_count)\n",
        "        self.softmax = nn.Softmax(dim=1)\n",
        "\n",
        "    def forward(self, x):\n",
        "        x = F.relu(self.fc1(x))\n",
        "        x = self.fc2(x)\n",
        "        x = self.fc3(x)\n",
        "        return self.softmax(x)\n",
        "\n",
        "    \n",
        "df = pd.read_csv(\n",
        "    \"https://data.heatonresearch.com/data/t81-558/iris.csv\", \n",
        "    na_values=['NA', '?'])\n",
        "\n",
        "le = preprocessing.LabelEncoder()\n",
        "\n",
        "x = df[['sepal_l', 'sepal_w', 'petal_l', 'petal_w']].values\n",
        "y = le.fit_transform(df['species'])\n",
        "classes = le.classes_\n",
        "\n",
        "x_train, x_test, y_train, y_test = train_test_split(    \n",
        "    x, y, test_size=0.25, random_state=42)\n",
        "\n",
        "x_train = Variable(torch.Tensor(x_train).float())\n",
        "x_test = Variable(torch.Tensor(x_test).float())\n",
        "y_train = Variable(torch.Tensor(y_train).long())\n",
        "y_test = Variable(torch.Tensor(y_test).long())\n",
        "\n",
        "net = Net(x.shape[1],len(classes))\n",
        "\n",
        "criterion = nn.CrossEntropyLoss()# cross entropy loss\n",
        "\n",
        "#optimizer = torch.optim.SGD(net.parameters(), lr=0.01)\n",
        "optimizer = torch.optim.Adam(net.parameters(), lr=0.01)\n",
        "\n",
        "for epoch in range(1000):\n",
        "    optimizer.zero_grad()\n",
        "    out = net(x_train)\n",
        "    loss = criterion(out, y_train)\n",
        "    loss.backward()\n",
        "    optimizer.step()\n",
        "    \n",
        "    if epoch % 100 == 0:\n",
        "        print(f\"Epoch {epoch}, loss: {loss.item()}\")\n",
        "\n",
        "pred_prob = net(x_test)\n",
        "_, pred = torch.max(pred_prob, 1)"
      ],
      "execution_count": 1,
      "outputs": [
        {
          "output_type": "stream",
          "text": [
            "Epoch 0, loss: 1.0931435823440552\n",
            "Epoch 100, loss: 0.5726262331008911\n",
            "Epoch 200, loss: 0.5706601142883301\n",
            "Epoch 300, loss: 0.5699276328086853\n",
            "Epoch 400, loss: 0.5696418881416321\n",
            "Epoch 500, loss: 0.5695095062255859\n",
            "Epoch 600, loss: 0.5694397687911987\n",
            "Epoch 700, loss: 0.5693992376327515\n",
            "Epoch 800, loss: 0.5693740844726562\n",
            "Epoch 900, loss: 0.5693574547767639\n"
          ],
          "name": "stdout"
        }
      ]
    },
    {
      "cell_type": "code",
      "metadata": {
        "id": "ywGZ22QUMsb3",
        "outputId": "faec48e3-42d3-4784-f057-dbf799a083ce",
        "colab": {
          "base_uri": "https://localhost:8080/"
        }
      },
      "source": [
        "correct = accuracy_score(y_test,pred)\n",
        "print(f\"Accuracy: {correct}\")"
      ],
      "execution_count": 2,
      "outputs": [
        {
          "output_type": "stream",
          "text": [
            "Accuracy: 0.9736842105263158\n"
          ],
          "name": "stdout"
        }
      ]
    },
    {
      "cell_type": "code",
      "metadata": {
        "id": "VYRxTqKvMrZE"
      },
      "source": [
        ""
      ],
      "execution_count": null,
      "outputs": []
    }
  ]
}