{
 "cells": [
  {
   "cell_type": "markdown",
   "metadata": {},
   "source": [
    "# Evaluating Distributions and generating Experimental Crosstabs for the Evaluation of Experiments as well as Experimental Comparisons with T-Tests, Purpose Assumptions, Corrections and Implementations in Python"
   ]
  },
  {
   "cell_type": "markdown",
   "metadata": {},
   "source": [
    "## The purpose of the T-test is to compare if there are mean differences between two groups of interest. When we are interested in comparing statistical differences between more than two groups, and we conduct multiple t-tests, we will end up increasing the likelihood of a false positive (type I error) where we are incorrectly rejecting the null hypothesis that there are no statistical differences between groups. One way to address this is to use the Bonferroni correction. The Bonferroni correction, the namesake of Carlo Emilio Bonferroni, accounts for what we lose in a p-hacking quest in the experimentation, which is the justification for taking p-values at face value. By intuition, when we go searching for significant differences everywhere, the chance of seeing an apparent significant difference by chance anywhere increases. Using the Bonferroni correction, if the starting alpha/significance level is .05 and we are testing 10 hypotheses, then the corrected alpha/significance level we should use would be .005. Understanding the lack of an incentive to make such an adjustment is straightforward. Another way to address this is to first use ANOVA to detect statistical differences between all groups before deciding whether to use t tests to look for pairwise comparisons between groups.\n",
    "\n",
    "## T test comparisons uses the means, counts and standard deviations of a treatment and control in comparison to an idealized normal distribution to calculate a p value, which by intuition is the likelihood of seeing a mean difference of the same or more extreme magnitude between treatment and control as a result of chance. This is done through a comparison to an idealized normal distribution, through the calculation of a t-statistic. While the test statistic is assumed to follow an idealized normal distribution if  the scaling term, but where the scaling term is unknown and it is instead estimated based on the data, which is assumed to follow the student's t distribution.This process can be thought of trying to disentangle the signal (mean difference and counts) from the noise variability. Here the mean difference is the direction of the signal and the counts are the strength of the signal."
   ]
  },
  {
   "cell_type": "code",
   "execution_count": 1,
   "metadata": {},
   "outputs": [
    {
     "name": "stderr",
     "output_type": "stream",
     "text": [
      "/home/gao/anaconda3/lib/python3.7/site-packages/statsmodels/tools/_testing.py:19: FutureWarning: pandas.util.testing is deprecated. Use the functions in the public API at pandas.testing instead.\n",
      "  import pandas.util.testing as tm\n"
     ]
    }
   ],
   "source": [
    "import numpy as np\n",
    "import dask.array as da\n",
    "import pandas as pd\n",
    "import sqlalchemy as db\n",
    "from sqlalchemy import create_engine\n",
    "import sqlite3\n",
    "import pandas as pd\n",
    "import seaborn as sns\n",
    "\n",
    "import numpy as np\n",
    "import pandas as pd\n",
    "from statsmodels.stats.power import NormalIndPower, TTestIndPower\n",
    "from scipy.stats import ttest_ind_from_stats\n",
    "import numpy as np\n",
    "import scipy\n"
   ]
  },
  {
   "cell_type": "code",
   "execution_count": 2,
   "metadata": {},
   "outputs": [],
   "source": [
    "df = pd.read_csv('df_panel_fix.csv')"
   ]
  },
  {
   "cell_type": "code",
   "execution_count": 3,
   "metadata": {},
   "outputs": [],
   "source": [
    "df_subset = df[[\"year\", \"reg\", \"province\", \"gdp\", \"fdi\", 'it',\"specific\"]]\n",
    "df_subset.columns = [\"year\", \"region\", \"province\", \"gdp\", \"fdi\", 'it',\"specific\"]"
   ]
  },
  {
   "cell_type": "code",
   "execution_count": 4,
   "metadata": {},
   "outputs": [
    {
     "data": {
      "text/html": [
       "<div>\n",
       "<style scoped>\n",
       "    .dataframe tbody tr th:only-of-type {\n",
       "        vertical-align: middle;\n",
       "    }\n",
       "\n",
       "    .dataframe tbody tr th {\n",
       "        vertical-align: top;\n",
       "    }\n",
       "\n",
       "    .dataframe thead th {\n",
       "        text-align: right;\n",
       "    }\n",
       "</style>\n",
       "<table border=\"1\" class=\"dataframe\">\n",
       "  <thead>\n",
       "    <tr style=\"text-align: right;\">\n",
       "      <th></th>\n",
       "      <th>year</th>\n",
       "      <th>region</th>\n",
       "      <th>province</th>\n",
       "      <th>gdp</th>\n",
       "      <th>fdi</th>\n",
       "      <th>it</th>\n",
       "      <th>specific</th>\n",
       "    </tr>\n",
       "  </thead>\n",
       "  <tbody>\n",
       "    <tr>\n",
       "      <th>0</th>\n",
       "      <td>1996</td>\n",
       "      <td>East China</td>\n",
       "      <td>Anhui</td>\n",
       "      <td>2093.30</td>\n",
       "      <td>50661</td>\n",
       "      <td>631930</td>\n",
       "      <td>147002.0</td>\n",
       "    </tr>\n",
       "    <tr>\n",
       "      <th>1</th>\n",
       "      <td>1997</td>\n",
       "      <td>East China</td>\n",
       "      <td>Anhui</td>\n",
       "      <td>2347.32</td>\n",
       "      <td>43443</td>\n",
       "      <td>657860</td>\n",
       "      <td>151981.0</td>\n",
       "    </tr>\n",
       "    <tr>\n",
       "      <th>2</th>\n",
       "      <td>1998</td>\n",
       "      <td>East China</td>\n",
       "      <td>Anhui</td>\n",
       "      <td>2542.96</td>\n",
       "      <td>27673</td>\n",
       "      <td>889463</td>\n",
       "      <td>174930.0</td>\n",
       "    </tr>\n",
       "    <tr>\n",
       "      <th>3</th>\n",
       "      <td>1999</td>\n",
       "      <td>East China</td>\n",
       "      <td>Anhui</td>\n",
       "      <td>2712.34</td>\n",
       "      <td>26131</td>\n",
       "      <td>1227364</td>\n",
       "      <td>285324.0</td>\n",
       "    </tr>\n",
       "    <tr>\n",
       "      <th>4</th>\n",
       "      <td>2000</td>\n",
       "      <td>East China</td>\n",
       "      <td>Anhui</td>\n",
       "      <td>2902.09</td>\n",
       "      <td>31847</td>\n",
       "      <td>1499110</td>\n",
       "      <td>195580.0</td>\n",
       "    </tr>\n",
       "    <tr>\n",
       "      <th>...</th>\n",
       "      <td>...</td>\n",
       "      <td>...</td>\n",
       "      <td>...</td>\n",
       "      <td>...</td>\n",
       "      <td>...</td>\n",
       "      <td>...</td>\n",
       "      <td>...</td>\n",
       "    </tr>\n",
       "    <tr>\n",
       "      <th>355</th>\n",
       "      <td>2003</td>\n",
       "      <td>East China</td>\n",
       "      <td>Zhejiang</td>\n",
       "      <td>9705.02</td>\n",
       "      <td>498055</td>\n",
       "      <td>2261631</td>\n",
       "      <td>391292.0</td>\n",
       "    </tr>\n",
       "    <tr>\n",
       "      <th>356</th>\n",
       "      <td>2004</td>\n",
       "      <td>East China</td>\n",
       "      <td>Zhejiang</td>\n",
       "      <td>11648.70</td>\n",
       "      <td>668128</td>\n",
       "      <td>3162299</td>\n",
       "      <td>656175.0</td>\n",
       "    </tr>\n",
       "    <tr>\n",
       "      <th>357</th>\n",
       "      <td>2005</td>\n",
       "      <td>East China</td>\n",
       "      <td>Zhejiang</td>\n",
       "      <td>13417.68</td>\n",
       "      <td>772000</td>\n",
       "      <td>2370200</td>\n",
       "      <td>656175.0</td>\n",
       "    </tr>\n",
       "    <tr>\n",
       "      <th>358</th>\n",
       "      <td>2006</td>\n",
       "      <td>East China</td>\n",
       "      <td>Zhejiang</td>\n",
       "      <td>15718.47</td>\n",
       "      <td>888935</td>\n",
       "      <td>2553268</td>\n",
       "      <td>1017303.0</td>\n",
       "    </tr>\n",
       "    <tr>\n",
       "      <th>359</th>\n",
       "      <td>2007</td>\n",
       "      <td>East China</td>\n",
       "      <td>Zhejiang</td>\n",
       "      <td>18753.73</td>\n",
       "      <td>1036576</td>\n",
       "      <td>2939778</td>\n",
       "      <td>844647.0</td>\n",
       "    </tr>\n",
       "  </tbody>\n",
       "</table>\n",
       "<p>360 rows × 7 columns</p>\n",
       "</div>"
      ],
      "text/plain": [
       "     year      region  province       gdp      fdi       it   specific\n",
       "0    1996  East China     Anhui   2093.30    50661   631930   147002.0\n",
       "1    1997  East China     Anhui   2347.32    43443   657860   151981.0\n",
       "2    1998  East China     Anhui   2542.96    27673   889463   174930.0\n",
       "3    1999  East China     Anhui   2712.34    26131  1227364   285324.0\n",
       "4    2000  East China     Anhui   2902.09    31847  1499110   195580.0\n",
       "..    ...         ...       ...       ...      ...      ...        ...\n",
       "355  2003  East China  Zhejiang   9705.02   498055  2261631   391292.0\n",
       "356  2004  East China  Zhejiang  11648.70   668128  3162299   656175.0\n",
       "357  2005  East China  Zhejiang  13417.68   772000  2370200   656175.0\n",
       "358  2006  East China  Zhejiang  15718.47   888935  2553268  1017303.0\n",
       "359  2007  East China  Zhejiang  18753.73  1036576  2939778   844647.0\n",
       "\n",
       "[360 rows x 7 columns]"
      ]
     },
     "execution_count": 4,
     "metadata": {},
     "output_type": "execute_result"
    }
   ],
   "source": [
    "df=df_subset\n",
    "df"
   ]
  },
  {
   "cell_type": "code",
   "execution_count": 5,
   "metadata": {},
   "outputs": [
    {
     "name": "stdout",
     "output_type": "stream",
     "text": [
      "East China\n",
      "gdp\n",
      "East China\n",
      "fdi\n",
      "East China\n",
      "it\n",
      "North China\n",
      "gdp\n",
      "North China\n",
      "fdi\n",
      "North China\n",
      "it\n"
     ]
    },
    {
     "data": {
      "image/png": "[encoded data removed]",
      "text/plain": [
       "<Figure size 432x288 with 1 Axes>"
      ]
     },
     "metadata": {
      "needs_background": "light"
     },
     "output_type": "display_data"
    },
    {
     "data": {
      "image/png": "[encoded data removed]",
      "text/plain": [
       "<Figure size 432x288 with 1 Axes>"
      ]
     },
     "metadata": {
      "needs_background": "light"
     },
     "output_type": "display_data"
    },
    {
     "data": {
      "image/png": "[encoded data removed]",
      "text/plain": [
       "<Figure size 432x288 with 1 Axes>"
      ]
     },
     "metadata": {
      "needs_background": "light"
     },
     "output_type": "display_data"
    },
    {
     "data": {
      "image/png": "[encoded data removed]",
      "text/plain": [
       "<Figure size 432x288 with 1 Axes>"
      ]
     },
     "metadata": {
      "needs_background": "light"
     },
     "output_type": "display_data"
    },
    {
     "data": {
      "image/png": "[encoded data removed]",
      "text/plain": [
       "<Figure size 432x288 with 1 Axes>"
      ]
     },
     "metadata": {
      "needs_background": "light"
     },
     "output_type": "display_data"
    },
    {
     "data": {
      "image/png": "[encoded data removed]",
      "text/plain": [
       "<Figure size 432x288 with 1 Axes>"
      ]
     },
     "metadata": {
      "needs_background": "light"
     },
     "output_type": "display_data"
    }
   ],
   "source": [
    "# Add distributions by region\n",
    "import matplotlib.pyplot as plt\n",
    "#fig, axes = plt.subplots(nrows=3, ncols=3)\n",
    "\n",
    "test_cells = ['East China', 'North China']\n",
    "metrics = ['gdp', 'fdi', 'it']\n",
    "\n",
    "for test_cell in test_cells:\n",
    "    for metric in metrics:\n",
    "        df.loc[df[\"region\"] == test_cell].hist(column=[metric], bins=60)\n",
    "        print(test_cell)\n",
    "        print(metric)\n",
    "\n",
    "        "
   ]
  },
  {
   "cell_type": "code",
   "execution_count": 6,
   "metadata": {},
   "outputs": [
    {
     "data": {
      "text/plain": [
       "array([[<matplotlib.axes._subplots.AxesSubplot object at 0x7fa7ec7cbdd8>]],\n",
       "      dtype=object)"
      ]
     },
     "execution_count": 6,
     "metadata": {},
     "output_type": "execute_result"
    },
    {
     "data": {
      "image/png": "[encoded data removed]",
      "text/plain": [
       "<Figure size 432x288 with 1 Axes>"
      ]
     },
     "metadata": {
      "needs_background": "light"
     },
     "output_type": "display_data"
    }
   ],
   "source": [
    "df.hist(column=['fdi'], bins=60)"
   ]
  },
  {
   "cell_type": "markdown",
   "metadata": {},
   "source": [
    "## Distributions of Dependant Variables"
   ]
  },
  {
   "cell_type": "markdown",
   "metadata": {},
   "source": [
    "### Right skew"
   ]
  },
  {
   "cell_type": "code",
   "execution_count": 7,
   "metadata": {},
   "outputs": [
    {
     "data": {
      "text/plain": [
       "array([[<matplotlib.axes._subplots.AxesSubplot object at 0x7fa7ec6e00f0>]],\n",
       "      dtype=object)"
      ]
     },
     "execution_count": 7,
     "metadata": {},
     "output_type": "execute_result"
    },
    {
     "data": {
      "image/png": "[encoded data removed]",
      "text/plain": [
       "<Figure size 432x288 with 1 Axes>"
      ]
     },
     "metadata": {
      "needs_background": "light"
     },
     "output_type": "display_data"
    }
   ],
   "source": [
    "df.hist(column=['fdi'], bins=60)"
   ]
  },
  {
   "cell_type": "code",
   "execution_count": 8,
   "metadata": {},
   "outputs": [
    {
     "data": {
      "text/plain": [
       "<matplotlib.axes._subplots.AxesSubplot at 0x7fa7ec5d6a90>"
      ]
     },
     "execution_count": 8,
     "metadata": {},
     "output_type": "execute_result"
    },
    {
     "data": {
      "image/png": "[encoded data removed]",
      "text/plain": [
       "<Figure size 432x288 with 1 Axes>"
      ]
     },
     "metadata": {
      "needs_background": "light"
     },
     "output_type": "display_data"
    }
   ],
   "source": [
    "sns.distplot(df['gdp'])"
   ]
  },
  {
   "cell_type": "code",
   "execution_count": 9,
   "metadata": {},
   "outputs": [
    {
     "data": {
      "text/plain": [
       "<matplotlib.axes._subplots.AxesSubplot at 0x7fa7ec4a4d30>"
      ]
     },
     "execution_count": 9,
     "metadata": {},
     "output_type": "execute_result"
    },
    {
     "data": {
      "image/png": "[encoded data removed]",
      "text/plain": [
       "<Figure size 432x288 with 1 Axes>"
      ]
     },
     "metadata": {
      "needs_background": "light"
     },
     "output_type": "display_data"
    }
   ],
   "source": [
    "sns.distplot(df['fdi'])"
   ]
  },
  {
   "cell_type": "code",
   "execution_count": 10,
   "metadata": {},
   "outputs": [
    {
     "data": {
      "text/plain": [
       "<matplotlib.axes._subplots.AxesSubplot at 0x7fa7ec4df278>"
      ]
     },
     "execution_count": 10,
     "metadata": {},
     "output_type": "execute_result"
    },
    {
     "data": {
      "image/png": "[encoded data removed]",
      "text/plain": [
       "<Figure size 432x288 with 1 Axes>"
      ]
     },
     "metadata": {
      "needs_background": "light"
     },
     "output_type": "display_data"
    }
   ],
   "source": [
    "sns.distplot(df['it'])"
   ]
  },
  {
   "cell_type": "code",
   "execution_count": 11,
   "metadata": {},
   "outputs": [
    {
     "data": {
      "text/plain": [
       "<matplotlib.axes._subplots.AxesSubplot at 0x7fa7ec3e09e8>"
      ]
     },
     "execution_count": 11,
     "metadata": {},
     "output_type": "execute_result"
    },
    {
     "data": {
      "image/png": "[encoded data removed]",
      "text/plain": [
       "<Figure size 432x288 with 1 Axes>"
      ]
     },
     "metadata": {
      "needs_background": "light"
     },
     "output_type": "display_data"
    }
   ],
   "source": [
    "sns.distplot(df['specific'].dropna())"
   ]
  },
  {
   "cell_type": "code",
   "execution_count": 12,
   "metadata": {},
   "outputs": [
    {
     "data": {
      "text/plain": [
       "array([[<matplotlib.axes._subplots.AxesSubplot object at 0x7fa7ec31ccc0>]],\n",
       "      dtype=object)"
      ]
     },
     "execution_count": 12,
     "metadata": {},
     "output_type": "execute_result"
    },
    {
     "data": {
      "image/png": "[encoded data removed]",
      "text/plain": [
       "<Figure size 432x288 with 1 Axes>"
      ]
     },
     "metadata": {
      "needs_background": "light"
     },
     "output_type": "display_data"
    }
   ],
   "source": [
    "df.hist(column=['fdi'], bins=60)"
   ]
  },
  {
   "cell_type": "markdown",
   "metadata": {},
   "source": [
    "## Removal of GDP value outliers more than 3 standard deviations away from the mean"
   ]
  },
  {
   "cell_type": "markdown",
   "metadata": {},
   "source": [
    "## outlier removal of rows with GDP values that are > 3 standard deviations away form the mean"
   ]
  },
  {
   "cell_type": "code",
   "execution_count": 13,
   "metadata": {},
   "outputs": [],
   "source": [
    "import scipy.stats as stats"
   ]
  },
  {
   "cell_type": "code",
   "execution_count": 14,
   "metadata": {},
   "outputs": [],
   "source": [
    "df['gdp_zscore'] = stats.zscore(df['gdp'])"
   ]
  },
  {
   "cell_type": "markdown",
   "metadata": {},
   "source": [
    "## these are the observations more then > 3 SDs away from the mean of gdp that will be dropped"
   ]
  },
  {
   "cell_type": "code",
   "execution_count": 15,
   "metadata": {},
   "outputs": [
    {
     "data": {
      "text/plain": [
       "array([[<matplotlib.axes._subplots.AxesSubplot object at 0x7fa7ec873208>]],\n",
       "      dtype=object)"
      ]
     },
     "execution_count": 15,
     "metadata": {},
     "output_type": "execute_result"
    },
    {
     "data": {
      "image/png": "[encoded data removed]",
      "text/plain": [
       "<Figure size 432x288 with 1 Axes>"
      ]
     },
     "metadata": {
      "needs_background": "light"
     },
     "output_type": "display_data"
    }
   ],
   "source": [
    "df[abs(df['gdp_zscore'])>3].hist(column = ['gdp'])"
   ]
  },
  {
   "cell_type": "code",
   "execution_count": 16,
   "metadata": {},
   "outputs": [],
   "source": [
    "df_no_gdp_outliers=df[abs(df['gdp_zscore'])<3]"
   ]
  },
  {
   "cell_type": "code",
   "execution_count": 17,
   "metadata": {},
   "outputs": [
    {
     "data": {
      "text/html": [
       "<div>\n",
       "<style scoped>\n",
       "    .dataframe tbody tr th:only-of-type {\n",
       "        vertical-align: middle;\n",
       "    }\n",
       "\n",
       "    .dataframe tbody tr th {\n",
       "        vertical-align: top;\n",
       "    }\n",
       "\n",
       "    .dataframe thead th {\n",
       "        text-align: right;\n",
       "    }\n",
       "</style>\n",
       "<table border=\"1\" class=\"dataframe\">\n",
       "  <thead>\n",
       "    <tr style=\"text-align: right;\">\n",
       "      <th></th>\n",
       "      <th>year</th>\n",
       "      <th>region</th>\n",
       "      <th>province</th>\n",
       "      <th>gdp</th>\n",
       "      <th>fdi</th>\n",
       "      <th>it</th>\n",
       "      <th>specific</th>\n",
       "      <th>gdp_zscore</th>\n",
       "    </tr>\n",
       "  </thead>\n",
       "  <tbody>\n",
       "    <tr>\n",
       "      <th>0</th>\n",
       "      <td>1996</td>\n",
       "      <td>East China</td>\n",
       "      <td>Anhui</td>\n",
       "      <td>2093.30</td>\n",
       "      <td>50661</td>\n",
       "      <td>631930</td>\n",
       "      <td>147002.0</td>\n",
       "      <td>-0.521466</td>\n",
       "    </tr>\n",
       "    <tr>\n",
       "      <th>1</th>\n",
       "      <td>1997</td>\n",
       "      <td>East China</td>\n",
       "      <td>Anhui</td>\n",
       "      <td>2347.32</td>\n",
       "      <td>43443</td>\n",
       "      <td>657860</td>\n",
       "      <td>151981.0</td>\n",
       "      <td>-0.464746</td>\n",
       "    </tr>\n",
       "    <tr>\n",
       "      <th>2</th>\n",
       "      <td>1998</td>\n",
       "      <td>East China</td>\n",
       "      <td>Anhui</td>\n",
       "      <td>2542.96</td>\n",
       "      <td>27673</td>\n",
       "      <td>889463</td>\n",
       "      <td>174930.0</td>\n",
       "      <td>-0.421061</td>\n",
       "    </tr>\n",
       "    <tr>\n",
       "      <th>3</th>\n",
       "      <td>1999</td>\n",
       "      <td>East China</td>\n",
       "      <td>Anhui</td>\n",
       "      <td>2712.34</td>\n",
       "      <td>26131</td>\n",
       "      <td>1227364</td>\n",
       "      <td>285324.0</td>\n",
       "      <td>-0.383239</td>\n",
       "    </tr>\n",
       "    <tr>\n",
       "      <th>4</th>\n",
       "      <td>2000</td>\n",
       "      <td>East China</td>\n",
       "      <td>Anhui</td>\n",
       "      <td>2902.09</td>\n",
       "      <td>31847</td>\n",
       "      <td>1499110</td>\n",
       "      <td>195580.0</td>\n",
       "      <td>-0.340870</td>\n",
       "    </tr>\n",
       "    <tr>\n",
       "      <th>...</th>\n",
       "      <td>...</td>\n",
       "      <td>...</td>\n",
       "      <td>...</td>\n",
       "      <td>...</td>\n",
       "      <td>...</td>\n",
       "      <td>...</td>\n",
       "      <td>...</td>\n",
       "      <td>...</td>\n",
       "    </tr>\n",
       "    <tr>\n",
       "      <th>354</th>\n",
       "      <td>2002</td>\n",
       "      <td>East China</td>\n",
       "      <td>Zhejiang</td>\n",
       "      <td>8003.67</td>\n",
       "      <td>307610</td>\n",
       "      <td>1962633</td>\n",
       "      <td>365437.0</td>\n",
       "      <td>0.798274</td>\n",
       "    </tr>\n",
       "    <tr>\n",
       "      <th>355</th>\n",
       "      <td>2003</td>\n",
       "      <td>East China</td>\n",
       "      <td>Zhejiang</td>\n",
       "      <td>9705.02</td>\n",
       "      <td>498055</td>\n",
       "      <td>2261631</td>\n",
       "      <td>391292.0</td>\n",
       "      <td>1.178172</td>\n",
       "    </tr>\n",
       "    <tr>\n",
       "      <th>356</th>\n",
       "      <td>2004</td>\n",
       "      <td>East China</td>\n",
       "      <td>Zhejiang</td>\n",
       "      <td>11648.70</td>\n",
       "      <td>668128</td>\n",
       "      <td>3162299</td>\n",
       "      <td>656175.0</td>\n",
       "      <td>1.612181</td>\n",
       "    </tr>\n",
       "    <tr>\n",
       "      <th>357</th>\n",
       "      <td>2005</td>\n",
       "      <td>East China</td>\n",
       "      <td>Zhejiang</td>\n",
       "      <td>13417.68</td>\n",
       "      <td>772000</td>\n",
       "      <td>2370200</td>\n",
       "      <td>656175.0</td>\n",
       "      <td>2.007180</td>\n",
       "    </tr>\n",
       "    <tr>\n",
       "      <th>358</th>\n",
       "      <td>2006</td>\n",
       "      <td>East China</td>\n",
       "      <td>Zhejiang</td>\n",
       "      <td>15718.47</td>\n",
       "      <td>888935</td>\n",
       "      <td>2553268</td>\n",
       "      <td>1017303.0</td>\n",
       "      <td>2.520929</td>\n",
       "    </tr>\n",
       "  </tbody>\n",
       "</table>\n",
       "<p>350 rows × 8 columns</p>\n",
       "</div>"
      ],
      "text/plain": [
       "     year      region  province       gdp     fdi       it   specific  \\\n",
       "0    1996  East China     Anhui   2093.30   50661   631930   147002.0   \n",
       "1    1997  East China     Anhui   2347.32   43443   657860   151981.0   \n",
       "2    1998  East China     Anhui   2542.96   27673   889463   174930.0   \n",
       "3    1999  East China     Anhui   2712.34   26131  1227364   285324.0   \n",
       "4    2000  East China     Anhui   2902.09   31847  1499110   195580.0   \n",
       "..    ...         ...       ...       ...     ...      ...        ...   \n",
       "354  2002  East China  Zhejiang   8003.67  307610  1962633   365437.0   \n",
       "355  2003  East China  Zhejiang   9705.02  498055  2261631   391292.0   \n",
       "356  2004  East China  Zhejiang  11648.70  668128  3162299   656175.0   \n",
       "357  2005  East China  Zhejiang  13417.68  772000  2370200   656175.0   \n",
       "358  2006  East China  Zhejiang  15718.47  888935  2553268  1017303.0   \n",
       "\n",
       "     gdp_zscore  \n",
       "0     -0.521466  \n",
       "1     -0.464746  \n",
       "2     -0.421061  \n",
       "3     -0.383239  \n",
       "4     -0.340870  \n",
       "..          ...  \n",
       "354    0.798274  \n",
       "355    1.178172  \n",
       "356    1.612181  \n",
       "357    2.007180  \n",
       "358    2.520929  \n",
       "\n",
       "[350 rows x 8 columns]"
      ]
     },
     "execution_count": 17,
     "metadata": {},
     "output_type": "execute_result"
    }
   ],
   "source": [
    "df_no_gdp_outliers"
   ]
  },
  {
   "cell_type": "code",
   "execution_count": 18,
   "metadata": {},
   "outputs": [
    {
     "data": {
      "text/plain": [
       "array([[<matplotlib.axes._subplots.AxesSubplot object at 0x7fa7ec95e4e0>]],\n",
       "      dtype=object)"
      ]
     },
     "execution_count": 18,
     "metadata": {},
     "output_type": "execute_result"
    },
    {
     "data": {
      "image/png": "[encoded data removed]",
      "text/plain": [
       "<Figure size 432x288 with 1 Axes>"
      ]
     },
     "metadata": {
      "needs_background": "light"
     },
     "output_type": "display_data"
    }
   ],
   "source": [
    "df_no_gdp_outliers.hist(column=['gdp'], bins=60)"
   ]
  },
  {
   "cell_type": "code",
   "execution_count": 19,
   "metadata": {},
   "outputs": [
    {
     "data": {
      "text/html": [
       "<div>\n",
       "<style scoped>\n",
       "    .dataframe tbody tr th:only-of-type {\n",
       "        vertical-align: middle;\n",
       "    }\n",
       "\n",
       "    .dataframe tbody tr th {\n",
       "        vertical-align: top;\n",
       "    }\n",
       "\n",
       "    .dataframe thead th {\n",
       "        text-align: right;\n",
       "    }\n",
       "</style>\n",
       "<table border=\"1\" class=\"dataframe\">\n",
       "  <thead>\n",
       "    <tr style=\"text-align: right;\">\n",
       "      <th></th>\n",
       "      <th>year</th>\n",
       "      <th>province</th>\n",
       "      <th>gdp</th>\n",
       "      <th>fdi</th>\n",
       "      <th>it</th>\n",
       "      <th>specific</th>\n",
       "      <th>gdp_zscore</th>\n",
       "    </tr>\n",
       "    <tr>\n",
       "      <th>region</th>\n",
       "      <th></th>\n",
       "      <th></th>\n",
       "      <th></th>\n",
       "      <th></th>\n",
       "      <th></th>\n",
       "      <th></th>\n",
       "      <th></th>\n",
       "    </tr>\n",
       "  </thead>\n",
       "  <tbody>\n",
       "    <tr>\n",
       "      <th>East China</th>\n",
       "      <td>84</td>\n",
       "      <td>84</td>\n",
       "      <td>84</td>\n",
       "      <td>84</td>\n",
       "      <td>84</td>\n",
       "      <td>84</td>\n",
       "      <td>84</td>\n",
       "    </tr>\n",
       "    <tr>\n",
       "      <th>North China</th>\n",
       "      <td>48</td>\n",
       "      <td>48</td>\n",
       "      <td>48</td>\n",
       "      <td>48</td>\n",
       "      <td>48</td>\n",
       "      <td>47</td>\n",
       "      <td>48</td>\n",
       "    </tr>\n",
       "    <tr>\n",
       "      <th>Northeast China</th>\n",
       "      <td>36</td>\n",
       "      <td>36</td>\n",
       "      <td>36</td>\n",
       "      <td>36</td>\n",
       "      <td>36</td>\n",
       "      <td>36</td>\n",
       "      <td>36</td>\n",
       "    </tr>\n",
       "    <tr>\n",
       "      <th>Northwest China</th>\n",
       "      <td>60</td>\n",
       "      <td>60</td>\n",
       "      <td>60</td>\n",
       "      <td>60</td>\n",
       "      <td>60</td>\n",
       "      <td>60</td>\n",
       "      <td>60</td>\n",
       "    </tr>\n",
       "    <tr>\n",
       "      <th>South Central China</th>\n",
       "      <td>72</td>\n",
       "      <td>72</td>\n",
       "      <td>72</td>\n",
       "      <td>72</td>\n",
       "      <td>72</td>\n",
       "      <td>72</td>\n",
       "      <td>72</td>\n",
       "    </tr>\n",
       "    <tr>\n",
       "      <th>Southwest China</th>\n",
       "      <td>60</td>\n",
       "      <td>60</td>\n",
       "      <td>60</td>\n",
       "      <td>60</td>\n",
       "      <td>60</td>\n",
       "      <td>57</td>\n",
       "      <td>60</td>\n",
       "    </tr>\n",
       "  </tbody>\n",
       "</table>\n",
       "</div>"
      ],
      "text/plain": [
       "                     year  province  gdp  fdi  it  specific  gdp_zscore\n",
       "region                                                                 \n",
       "East China             84        84   84   84  84        84          84\n",
       "North China            48        48   48   48  48        47          48\n",
       "Northeast China        36        36   36   36  36        36          36\n",
       "Northwest China        60        60   60   60  60        60          60\n",
       "South Central China    72        72   72   72  72        72          72\n",
       "Southwest China        60        60   60   60  60        57          60"
      ]
     },
     "execution_count": 19,
     "metadata": {},
     "output_type": "execute_result"
    }
   ],
   "source": [
    "counts_fiscal=df.groupby('region').count()\n",
    "counts_fiscal"
   ]
  },
  {
   "cell_type": "code",
   "execution_count": 20,
   "metadata": {},
   "outputs": [
    {
     "data": {
      "text/html": [
       "<div>\n",
       "<style scoped>\n",
       "    .dataframe tbody tr th:only-of-type {\n",
       "        vertical-align: middle;\n",
       "    }\n",
       "\n",
       "    .dataframe tbody tr th {\n",
       "        vertical-align: top;\n",
       "    }\n",
       "\n",
       "    .dataframe thead th {\n",
       "        text-align: right;\n",
       "    }\n",
       "</style>\n",
       "<table border=\"1\" class=\"dataframe\">\n",
       "  <thead>\n",
       "    <tr style=\"text-align: right;\">\n",
       "      <th></th>\n",
       "      <th>year</th>\n",
       "      <th>region</th>\n",
       "      <th>gdp</th>\n",
       "      <th>fdi</th>\n",
       "      <th>it</th>\n",
       "      <th>specific</th>\n",
       "      <th>gdp_zscore</th>\n",
       "    </tr>\n",
       "    <tr>\n",
       "      <th>province</th>\n",
       "      <th></th>\n",
       "      <th></th>\n",
       "      <th></th>\n",
       "      <th></th>\n",
       "      <th></th>\n",
       "      <th></th>\n",
       "      <th></th>\n",
       "    </tr>\n",
       "  </thead>\n",
       "  <tbody>\n",
       "    <tr>\n",
       "      <th>Anhui</th>\n",
       "      <td>12</td>\n",
       "      <td>12</td>\n",
       "      <td>12</td>\n",
       "      <td>12</td>\n",
       "      <td>12</td>\n",
       "      <td>12</td>\n",
       "      <td>12</td>\n",
       "    </tr>\n",
       "    <tr>\n",
       "      <th>Beijing</th>\n",
       "      <td>12</td>\n",
       "      <td>12</td>\n",
       "      <td>12</td>\n",
       "      <td>12</td>\n",
       "      <td>12</td>\n",
       "      <td>12</td>\n",
       "      <td>12</td>\n",
       "    </tr>\n",
       "    <tr>\n",
       "      <th>Chongqing</th>\n",
       "      <td>12</td>\n",
       "      <td>12</td>\n",
       "      <td>12</td>\n",
       "      <td>12</td>\n",
       "      <td>12</td>\n",
       "      <td>9</td>\n",
       "      <td>12</td>\n",
       "    </tr>\n",
       "    <tr>\n",
       "      <th>Fujian</th>\n",
       "      <td>12</td>\n",
       "      <td>12</td>\n",
       "      <td>12</td>\n",
       "      <td>12</td>\n",
       "      <td>12</td>\n",
       "      <td>12</td>\n",
       "      <td>12</td>\n",
       "    </tr>\n",
       "    <tr>\n",
       "      <th>Gansu</th>\n",
       "      <td>12</td>\n",
       "      <td>12</td>\n",
       "      <td>12</td>\n",
       "      <td>12</td>\n",
       "      <td>12</td>\n",
       "      <td>12</td>\n",
       "      <td>12</td>\n",
       "    </tr>\n",
       "    <tr>\n",
       "      <th>Guangdong</th>\n",
       "      <td>12</td>\n",
       "      <td>12</td>\n",
       "      <td>12</td>\n",
       "      <td>12</td>\n",
       "      <td>12</td>\n",
       "      <td>12</td>\n",
       "      <td>12</td>\n",
       "    </tr>\n",
       "    <tr>\n",
       "      <th>Guangxi</th>\n",
       "      <td>12</td>\n",
       "      <td>12</td>\n",
       "      <td>12</td>\n",
       "      <td>12</td>\n",
       "      <td>12</td>\n",
       "      <td>12</td>\n",
       "      <td>12</td>\n",
       "    </tr>\n",
       "    <tr>\n",
       "      <th>Guizhou</th>\n",
       "      <td>12</td>\n",
       "      <td>12</td>\n",
       "      <td>12</td>\n",
       "      <td>12</td>\n",
       "      <td>12</td>\n",
       "      <td>12</td>\n",
       "      <td>12</td>\n",
       "    </tr>\n",
       "    <tr>\n",
       "      <th>Hainan</th>\n",
       "      <td>12</td>\n",
       "      <td>12</td>\n",
       "      <td>12</td>\n",
       "      <td>12</td>\n",
       "      <td>12</td>\n",
       "      <td>12</td>\n",
       "      <td>12</td>\n",
       "    </tr>\n",
       "    <tr>\n",
       "      <th>Hebei</th>\n",
       "      <td>12</td>\n",
       "      <td>12</td>\n",
       "      <td>12</td>\n",
       "      <td>12</td>\n",
       "      <td>12</td>\n",
       "      <td>11</td>\n",
       "      <td>12</td>\n",
       "    </tr>\n",
       "    <tr>\n",
       "      <th>Heilongjiang</th>\n",
       "      <td>12</td>\n",
       "      <td>12</td>\n",
       "      <td>12</td>\n",
       "      <td>12</td>\n",
       "      <td>12</td>\n",
       "      <td>12</td>\n",
       "      <td>12</td>\n",
       "    </tr>\n",
       "    <tr>\n",
       "      <th>Henan</th>\n",
       "      <td>12</td>\n",
       "      <td>12</td>\n",
       "      <td>12</td>\n",
       "      <td>12</td>\n",
       "      <td>12</td>\n",
       "      <td>12</td>\n",
       "      <td>12</td>\n",
       "    </tr>\n",
       "    <tr>\n",
       "      <th>Hubei</th>\n",
       "      <td>12</td>\n",
       "      <td>12</td>\n",
       "      <td>12</td>\n",
       "      <td>12</td>\n",
       "      <td>12</td>\n",
       "      <td>12</td>\n",
       "      <td>12</td>\n",
       "    </tr>\n",
       "    <tr>\n",
       "      <th>Hunan</th>\n",
       "      <td>12</td>\n",
       "      <td>12</td>\n",
       "      <td>12</td>\n",
       "      <td>12</td>\n",
       "      <td>12</td>\n",
       "      <td>12</td>\n",
       "      <td>12</td>\n",
       "    </tr>\n",
       "    <tr>\n",
       "      <th>Jiangsu</th>\n",
       "      <td>12</td>\n",
       "      <td>12</td>\n",
       "      <td>12</td>\n",
       "      <td>12</td>\n",
       "      <td>12</td>\n",
       "      <td>12</td>\n",
       "      <td>12</td>\n",
       "    </tr>\n",
       "    <tr>\n",
       "      <th>Jiangxi</th>\n",
       "      <td>12</td>\n",
       "      <td>12</td>\n",
       "      <td>12</td>\n",
       "      <td>12</td>\n",
       "      <td>12</td>\n",
       "      <td>12</td>\n",
       "      <td>12</td>\n",
       "    </tr>\n",
       "    <tr>\n",
       "      <th>Jilin</th>\n",
       "      <td>12</td>\n",
       "      <td>12</td>\n",
       "      <td>12</td>\n",
       "      <td>12</td>\n",
       "      <td>12</td>\n",
       "      <td>12</td>\n",
       "      <td>12</td>\n",
       "    </tr>\n",
       "    <tr>\n",
       "      <th>Liaoning</th>\n",
       "      <td>12</td>\n",
       "      <td>12</td>\n",
       "      <td>12</td>\n",
       "      <td>12</td>\n",
       "      <td>12</td>\n",
       "      <td>12</td>\n",
       "      <td>12</td>\n",
       "    </tr>\n",
       "    <tr>\n",
       "      <th>Ningxia</th>\n",
       "      <td>12</td>\n",
       "      <td>12</td>\n",
       "      <td>12</td>\n",
       "      <td>12</td>\n",
       "      <td>12</td>\n",
       "      <td>12</td>\n",
       "      <td>12</td>\n",
       "    </tr>\n",
       "    <tr>\n",
       "      <th>Qinghai</th>\n",
       "      <td>12</td>\n",
       "      <td>12</td>\n",
       "      <td>12</td>\n",
       "      <td>12</td>\n",
       "      <td>12</td>\n",
       "      <td>12</td>\n",
       "      <td>12</td>\n",
       "    </tr>\n",
       "    <tr>\n",
       "      <th>Shaanxi</th>\n",
       "      <td>12</td>\n",
       "      <td>12</td>\n",
       "      <td>12</td>\n",
       "      <td>12</td>\n",
       "      <td>12</td>\n",
       "      <td>12</td>\n",
       "      <td>12</td>\n",
       "    </tr>\n",
       "    <tr>\n",
       "      <th>Shandong</th>\n",
       "      <td>12</td>\n",
       "      <td>12</td>\n",
       "      <td>12</td>\n",
       "      <td>12</td>\n",
       "      <td>12</td>\n",
       "      <td>12</td>\n",
       "      <td>12</td>\n",
       "    </tr>\n",
       "    <tr>\n",
       "      <th>Shanghai</th>\n",
       "      <td>12</td>\n",
       "      <td>12</td>\n",
       "      <td>12</td>\n",
       "      <td>12</td>\n",
       "      <td>12</td>\n",
       "      <td>12</td>\n",
       "      <td>12</td>\n",
       "    </tr>\n",
       "    <tr>\n",
       "      <th>Shanxi</th>\n",
       "      <td>12</td>\n",
       "      <td>12</td>\n",
       "      <td>12</td>\n",
       "      <td>12</td>\n",
       "      <td>12</td>\n",
       "      <td>12</td>\n",
       "      <td>12</td>\n",
       "    </tr>\n",
       "    <tr>\n",
       "      <th>Sichuan</th>\n",
       "      <td>12</td>\n",
       "      <td>12</td>\n",
       "      <td>12</td>\n",
       "      <td>12</td>\n",
       "      <td>12</td>\n",
       "      <td>12</td>\n",
       "      <td>12</td>\n",
       "    </tr>\n",
       "    <tr>\n",
       "      <th>Tianjin</th>\n",
       "      <td>12</td>\n",
       "      <td>12</td>\n",
       "      <td>12</td>\n",
       "      <td>12</td>\n",
       "      <td>12</td>\n",
       "      <td>12</td>\n",
       "      <td>12</td>\n",
       "    </tr>\n",
       "    <tr>\n",
       "      <th>Tibet</th>\n",
       "      <td>12</td>\n",
       "      <td>12</td>\n",
       "      <td>12</td>\n",
       "      <td>12</td>\n",
       "      <td>12</td>\n",
       "      <td>12</td>\n",
       "      <td>12</td>\n",
       "    </tr>\n",
       "    <tr>\n",
       "      <th>Xinjiang</th>\n",
       "      <td>12</td>\n",
       "      <td>12</td>\n",
       "      <td>12</td>\n",
       "      <td>12</td>\n",
       "      <td>12</td>\n",
       "      <td>12</td>\n",
       "      <td>12</td>\n",
       "    </tr>\n",
       "    <tr>\n",
       "      <th>Yunnan</th>\n",
       "      <td>12</td>\n",
       "      <td>12</td>\n",
       "      <td>12</td>\n",
       "      <td>12</td>\n",
       "      <td>12</td>\n",
       "      <td>12</td>\n",
       "      <td>12</td>\n",
       "    </tr>\n",
       "    <tr>\n",
       "      <th>Zhejiang</th>\n",
       "      <td>12</td>\n",
       "      <td>12</td>\n",
       "      <td>12</td>\n",
       "      <td>12</td>\n",
       "      <td>12</td>\n",
       "      <td>12</td>\n",
       "      <td>12</td>\n",
       "    </tr>\n",
       "  </tbody>\n",
       "</table>\n",
       "</div>"
      ],
      "text/plain": [
       "              year  region  gdp  fdi  it  specific  gdp_zscore\n",
       "province                                                      \n",
       "Anhui           12      12   12   12  12        12          12\n",
       "Beijing         12      12   12   12  12        12          12\n",
       "Chongqing       12      12   12   12  12         9          12\n",
       "Fujian          12      12   12   12  12        12          12\n",
       "Gansu           12      12   12   12  12        12          12\n",
       "Guangdong       12      12   12   12  12        12          12\n",
       "Guangxi         12      12   12   12  12        12          12\n",
       "Guizhou         12      12   12   12  12        12          12\n",
       "Hainan          12      12   12   12  12        12          12\n",
       "Hebei           12      12   12   12  12        11          12\n",
       "Heilongjiang    12      12   12   12  12        12          12\n",
       "Henan           12      12   12   12  12        12          12\n",
       "Hubei           12      12   12   12  12        12          12\n",
       "Hunan           12      12   12   12  12        12          12\n",
       "Jiangsu         12      12   12   12  12        12          12\n",
       "Jiangxi         12      12   12   12  12        12          12\n",
       "Jilin           12      12   12   12  12        12          12\n",
       "Liaoning        12      12   12   12  12        12          12\n",
       "Ningxia         12      12   12   12  12        12          12\n",
       "Qinghai         12      12   12   12  12        12          12\n",
       "Shaanxi         12      12   12   12  12        12          12\n",
       "Shandong        12      12   12   12  12        12          12\n",
       "Shanghai        12      12   12   12  12        12          12\n",
       "Shanxi          12      12   12   12  12        12          12\n",
       "Sichuan         12      12   12   12  12        12          12\n",
       "Tianjin         12      12   12   12  12        12          12\n",
       "Tibet           12      12   12   12  12        12          12\n",
       "Xinjiang        12      12   12   12  12        12          12\n",
       "Yunnan          12      12   12   12  12        12          12\n",
       "Zhejiang        12      12   12   12  12        12          12"
      ]
     },
     "execution_count": 20,
     "metadata": {},
     "output_type": "execute_result"
    }
   ],
   "source": [
    "counts_fiscal=df.groupby('province').count()\n",
    "counts_fiscal"
   ]
  },
  {
   "cell_type": "code",
   "execution_count": 21,
   "metadata": {},
   "outputs": [],
   "source": [
    "#df_no_gdp_outliers.pivot_table(index='grouping column 1', columns='grouping column 2', values='aggregating column', aggfunc='sum')"
   ]
  },
  {
   "cell_type": "code",
   "execution_count": 22,
   "metadata": {},
   "outputs": [],
   "source": [
    "#pd.crosstab(df_no_gdp_outliers, 'year')"
   ]
  },
  {
   "cell_type": "code",
   "execution_count": 23,
   "metadata": {},
   "outputs": [
    {
     "data": {
      "text/html": [
       "<div>\n",
       "<style scoped>\n",
       "    .dataframe tbody tr th:only-of-type {\n",
       "        vertical-align: middle;\n",
       "    }\n",
       "\n",
       "    .dataframe tbody tr th {\n",
       "        vertical-align: top;\n",
       "    }\n",
       "\n",
       "    .dataframe thead th {\n",
       "        text-align: right;\n",
       "    }\n",
       "</style>\n",
       "<table border=\"1\" class=\"dataframe\">\n",
       "  <thead>\n",
       "    <tr style=\"text-align: right;\">\n",
       "      <th></th>\n",
       "      <th>region</th>\n",
       "      <th>gdp</th>\n",
       "      <th>fdi</th>\n",
       "      <th>it</th>\n",
       "    </tr>\n",
       "  </thead>\n",
       "  <tbody>\n",
       "    <tr>\n",
       "      <th>0</th>\n",
       "      <td>East China</td>\n",
       "      <td>2093.30</td>\n",
       "      <td>50661</td>\n",
       "      <td>631930</td>\n",
       "    </tr>\n",
       "    <tr>\n",
       "      <th>1</th>\n",
       "      <td>East China</td>\n",
       "      <td>2347.32</td>\n",
       "      <td>43443</td>\n",
       "      <td>657860</td>\n",
       "    </tr>\n",
       "    <tr>\n",
       "      <th>2</th>\n",
       "      <td>East China</td>\n",
       "      <td>2542.96</td>\n",
       "      <td>27673</td>\n",
       "      <td>889463</td>\n",
       "    </tr>\n",
       "    <tr>\n",
       "      <th>3</th>\n",
       "      <td>East China</td>\n",
       "      <td>2712.34</td>\n",
       "      <td>26131</td>\n",
       "      <td>1227364</td>\n",
       "    </tr>\n",
       "    <tr>\n",
       "      <th>4</th>\n",
       "      <td>East China</td>\n",
       "      <td>2902.09</td>\n",
       "      <td>31847</td>\n",
       "      <td>1499110</td>\n",
       "    </tr>\n",
       "    <tr>\n",
       "      <th>...</th>\n",
       "      <td>...</td>\n",
       "      <td>...</td>\n",
       "      <td>...</td>\n",
       "      <td>...</td>\n",
       "    </tr>\n",
       "    <tr>\n",
       "      <th>354</th>\n",
       "      <td>East China</td>\n",
       "      <td>8003.67</td>\n",
       "      <td>307610</td>\n",
       "      <td>1962633</td>\n",
       "    </tr>\n",
       "    <tr>\n",
       "      <th>355</th>\n",
       "      <td>East China</td>\n",
       "      <td>9705.02</td>\n",
       "      <td>498055</td>\n",
       "      <td>2261631</td>\n",
       "    </tr>\n",
       "    <tr>\n",
       "      <th>356</th>\n",
       "      <td>East China</td>\n",
       "      <td>11648.70</td>\n",
       "      <td>668128</td>\n",
       "      <td>3162299</td>\n",
       "    </tr>\n",
       "    <tr>\n",
       "      <th>357</th>\n",
       "      <td>East China</td>\n",
       "      <td>13417.68</td>\n",
       "      <td>772000</td>\n",
       "      <td>2370200</td>\n",
       "    </tr>\n",
       "    <tr>\n",
       "      <th>358</th>\n",
       "      <td>East China</td>\n",
       "      <td>15718.47</td>\n",
       "      <td>888935</td>\n",
       "      <td>2553268</td>\n",
       "    </tr>\n",
       "  </tbody>\n",
       "</table>\n",
       "<p>350 rows × 4 columns</p>\n",
       "</div>"
      ],
      "text/plain": [
       "         region       gdp     fdi       it\n",
       "0    East China   2093.30   50661   631930\n",
       "1    East China   2347.32   43443   657860\n",
       "2    East China   2542.96   27673   889463\n",
       "3    East China   2712.34   26131  1227364\n",
       "4    East China   2902.09   31847  1499110\n",
       "..          ...       ...     ...      ...\n",
       "354  East China   8003.67  307610  1962633\n",
       "355  East China   9705.02  498055  2261631\n",
       "356  East China  11648.70  668128  3162299\n",
       "357  East China  13417.68  772000  2370200\n",
       "358  East China  15718.47  888935  2553268\n",
       "\n",
       "[350 rows x 4 columns]"
      ]
     },
     "execution_count": 23,
     "metadata": {},
     "output_type": "execute_result"
    }
   ],
   "source": [
    "df_no_gdp_outliers_subset = df_no_gdp_outliers[['region', 'gdp', 'fdi', 'it']]\n",
    "df_no_gdp_outliers_subset"
   ]
  },
  {
   "cell_type": "code",
   "execution_count": 29,
   "metadata": {},
   "outputs": [],
   "source": [
    "def aggregate_and_ttest(dataset, groupby_feature='region', alpha=.05, test_cells = [0, 1]):\n",
    "    #Imports\n",
    "    from tqdm import tqdm\n",
    "    from scipy.stats import ttest_ind_from_stats\n",
    "\n",
    "    \n",
    "    metrics = ['gdp', 'fdi', 'it']\n",
    "    \n",
    "    feature_size = 'size'\n",
    "    feature_mean = 'mean'\n",
    "    feature_std = 'std'    \n",
    "\n",
    "    for metric in tqdm(metrics):\n",
    "        \n",
    "        #print(metric)\n",
    "        crosstab = dataset.groupby(groupby_feature, as_index=False)[metric].agg(['size', 'mean', 'std'])\n",
    "        print(crosstab)\n",
    "        \n",
    "        treatment = crosstab.index[test_cells[0]]\n",
    "        control = crosstab.index[test_cells[1]]\n",
    "        \n",
    "        counts_control = crosstab.loc[control, feature_size]\n",
    "        counts_treatment = crosstab.loc[treatment, feature_size]\n",
    "\n",
    "        mean_control = crosstab.loc[control, feature_mean]\n",
    "        mean_treatment = crosstab.loc[treatment, feature_mean]\n",
    "\n",
    "        standard_deviation_control = crosstab.loc[control, feature_std]\n",
    "        standard_deviation_treatment = crosstab.loc[treatment, feature_std]\n",
    "        \n",
    "        t_statistic, p_value = ttest_ind_from_stats(mean1=mean_treatment, std1=standard_deviation_treatment, nobs1=counts_treatment,mean2=mean_control,std2=standard_deviation_control,nobs2=counts_control)\n",
    "        \n",
    "        #fstring to print the p value and t statistic\n",
    "        print(f\"The t statistic of the comparison of the treatment test cell of {treatment} compared to the control test cell of {control} is {t_statistic} and the p value is {p_value}.\")\n",
    "        \n",
    "        #f string to say of the comparison is significant at a given alpha level\n",
    "\n",
    "        if p_value < alpha: \n",
    "            print(f'The comparison between {treatment} and {control} is statistically significant at the threshold of {alpha}') \n",
    "        else: \n",
    "            print(f'The comparison between {treatment} and {control} is not statistically significant at the threshold of {alpha}')"
   ]
  },
  {
   "cell_type": "code",
   "execution_count": 30,
   "metadata": {},
   "outputs": [
    {
     "name": "stderr",
     "output_type": "stream",
     "text": [
      "100%|██████████| 3/3 [00:00<00:00, 115.78it/s]"
     ]
    },
    {
     "name": "stdout",
     "output_type": "stream",
     "text": [
      "                     size         mean          std\n",
      "region                                             \n",
      "East China             78  6070.604231  3500.372702\n",
      "North China            48  4239.038542  2866.705149\n",
      "Northeast China        36  3849.076944  1948.531835\n",
      "Northwest China        60  1340.026167  1174.399739\n",
      "South Central China    68  4835.540882  3697.129915\n",
      "Southwest China        60  2410.398833  2144.589994\n",
      "The t statistic of the comparison of the treatment test cell of East China compared to the control test cell of North China is 3.0488753833171947 and the p value is 0.002808541335921234.\n",
      "The comparison between East China and North China is statistically significant at the threshold of 0.05\n",
      "                     size           mean            std\n",
      "region                                                 \n",
      "East China             78  355577.897436  275635.866746\n",
      "North China            48  169600.583333  127011.475909\n",
      "Northeast China        36  136623.750000  142734.495232\n",
      "Northwest China        60   15111.133333   22954.193559\n",
      "South Central China    68  218931.426471  339981.399823\n",
      "Southwest China        60   25405.083333   31171.373876\n",
      "The t statistic of the comparison of the treatment test cell of East China compared to the control test cell of North China is 4.391461461316698 and the p value is 2.3859390186769955e-05.\n",
      "The comparison between East China and North China is statistically significant at the threshold of 0.05\n",
      "                     size          mean           std\n",
      "region                                               \n",
      "East China             78  1.775615e+06  1.153030e+06\n",
      "North China            48  1.733719e+06  1.548794e+06\n",
      "Northeast China        36  2.665148e+06  1.768442e+06\n",
      "Northwest China        60  1.703538e+06  1.446408e+06\n",
      "South Central China    68  2.500962e+06  2.196436e+06\n",
      "Southwest China        60  2.424971e+06  2.002198e+06\n",
      "The t statistic of the comparison of the treatment test cell of East China compared to the control test cell of North China is 0.17339716493934587 and the p value is 0.862621991978372.\n",
      "The comparison between East China and North China is not statistically significant at the threshold of 0.05\n"
     ]
    },
    {
     "name": "stderr",
     "output_type": "stream",
     "text": [
      "\n"
     ]
    }
   ],
   "source": [
    "aggregate_and_ttest(df_no_gdp_outliers_subset, test_cells = [0,1])"
   ]
  },
  {
   "cell_type": "code",
   "execution_count": 31,
   "metadata": {},
   "outputs": [
    {
     "name": "stderr",
     "output_type": "stream",
     "text": [
      "100%|██████████| 10000/10000 [00:00<00:00, 2169617.21it/s]\n"
     ]
    }
   ],
   "source": [
    "from tqdm import tqdm\n",
    "for i in tqdm(range(10000)):\n",
    "    ..."
   ]
  },
  {
   "cell_type": "code",
   "execution_count": 32,
   "metadata": {},
   "outputs": [
    {
     "name": "stderr",
     "output_type": "stream",
     "text": [
      "100%|██████████| 3/3 [00:00<00:00, 135.00it/s]"
     ]
    },
    {
     "name": "stdout",
     "output_type": "stream",
     "text": [
      "                     size         mean          std\n",
      "region                                             \n",
      "East China             78  6070.604231  3500.372702\n",
      "North China            48  4239.038542  2866.705149\n",
      "Northeast China        36  3849.076944  1948.531835\n",
      "Northwest China        60  1340.026167  1174.399739\n",
      "South Central China    68  4835.540882  3697.129915\n",
      "Southwest China        60  2410.398833  2144.589994\n",
      "The t statistic of the comparison of the treatment test cell of East China compared to the control test cell of North China is 3.0488753833171947 and the p value is 0.002808541335921234.\n",
      "The comparison between East China and North China is statistically significant at the threshold of 0.05\n",
      "                     size           mean            std\n",
      "region                                                 \n",
      "East China             78  355577.897436  275635.866746\n",
      "North China            48  169600.583333  127011.475909\n",
      "Northeast China        36  136623.750000  142734.495232\n",
      "Northwest China        60   15111.133333   22954.193559\n",
      "South Central China    68  218931.426471  339981.399823\n",
      "Southwest China        60   25405.083333   31171.373876\n",
      "The t statistic of the comparison of the treatment test cell of East China compared to the control test cell of North China is 4.391461461316698 and the p value is 2.3859390186769955e-05.\n",
      "The comparison between East China and North China is statistically significant at the threshold of 0.05\n",
      "                     size          mean           std\n",
      "region                                               \n",
      "East China             78  1.775615e+06  1.153030e+06\n",
      "North China            48  1.733719e+06  1.548794e+06\n",
      "Northeast China        36  2.665148e+06  1.768442e+06\n",
      "Northwest China        60  1.703538e+06  1.446408e+06\n",
      "South Central China    68  2.500962e+06  2.196436e+06\n",
      "Southwest China        60  2.424971e+06  2.002198e+06\n",
      "The t statistic of the comparison of the treatment test cell of East China compared to the control test cell of North China is 0.17339716493934587 and the p value is 0.862621991978372.\n",
      "The comparison between East China and North China is not statistically significant at the threshold of 0.05\n"
     ]
    },
    {
     "name": "stderr",
     "output_type": "stream",
     "text": [
      "\n"
     ]
    }
   ],
   "source": [
    "EastvNorth=pd.DataFrame()\n",
    "EastvNorth= aggregate_and_ttest(df_no_gdp_outliers_subset, test_cells = [0,1])\n",
    "EastvNorth"
   ]
  },
  {
   "cell_type": "code",
   "execution_count": null,
   "metadata": {},
   "outputs": [],
   "source": []
  },
  {
   "cell_type": "markdown",
   "metadata": {},
   "source": [
    "## Genearate an experimental_crosstab to be used in statistical tests"
   ]
  },
  {
   "cell_type": "code",
   "execution_count": 33,
   "metadata": {},
   "outputs": [],
   "source": [
    "experimental_crosstab = df_no_gdp_outliers_subset.groupby('region').agg(['size', 'mean', 'std'])"
   ]
  },
  {
   "cell_type": "code",
   "execution_count": 34,
   "metadata": {},
   "outputs": [
    {
     "data": {
      "text/plain": [
       "Index(['East China', 'North China', 'Northeast China', 'Northwest China',\n",
       "       'South Central China', 'Southwest China'],\n",
       "      dtype='object', name='region')"
      ]
     },
     "execution_count": 34,
     "metadata": {},
     "output_type": "execute_result"
    }
   ],
   "source": [
    "experimental_crosstab.index"
   ]
  },
  {
   "cell_type": "code",
   "execution_count": 35,
   "metadata": {},
   "outputs": [
    {
     "data": {
      "text/html": [
       "<div>\n",
       "<style scoped>\n",
       "    .dataframe tbody tr th:only-of-type {\n",
       "        vertical-align: middle;\n",
       "    }\n",
       "\n",
       "    .dataframe tbody tr th {\n",
       "        vertical-align: top;\n",
       "    }\n",
       "\n",
       "    .dataframe thead th {\n",
       "        text-align: right;\n",
       "    }\n",
       "</style>\n",
       "<table border=\"1\" class=\"dataframe\">\n",
       "  <thead>\n",
       "    <tr style=\"text-align: right;\">\n",
       "      <th></th>\n",
       "      <th>region</th>\n",
       "      <th>East China</th>\n",
       "      <th>North China</th>\n",
       "      <th>Northeast China</th>\n",
       "      <th>Northwest China</th>\n",
       "      <th>South Central China</th>\n",
       "      <th>Southwest China</th>\n",
       "    </tr>\n",
       "  </thead>\n",
       "  <tbody>\n",
       "    <tr>\n",
       "      <th rowspan=\"3\" valign=\"top\">gdp</th>\n",
       "      <th>size</th>\n",
       "      <td>7.800000e+01</td>\n",
       "      <td>4.800000e+01</td>\n",
       "      <td>3.600000e+01</td>\n",
       "      <td>6.000000e+01</td>\n",
       "      <td>6.800000e+01</td>\n",
       "      <td>6.000000e+01</td>\n",
       "    </tr>\n",
       "    <tr>\n",
       "      <th>mean</th>\n",
       "      <td>6.070604e+03</td>\n",
       "      <td>4.239039e+03</td>\n",
       "      <td>3.849077e+03</td>\n",
       "      <td>1.340026e+03</td>\n",
       "      <td>4.835541e+03</td>\n",
       "      <td>2.410399e+03</td>\n",
       "    </tr>\n",
       "    <tr>\n",
       "      <th>std</th>\n",
       "      <td>3.500373e+03</td>\n",
       "      <td>2.866705e+03</td>\n",
       "      <td>1.948532e+03</td>\n",
       "      <td>1.174400e+03</td>\n",
       "      <td>3.697130e+03</td>\n",
       "      <td>2.144590e+03</td>\n",
       "    </tr>\n",
       "    <tr>\n",
       "      <th rowspan=\"3\" valign=\"top\">fdi</th>\n",
       "      <th>size</th>\n",
       "      <td>7.800000e+01</td>\n",
       "      <td>4.800000e+01</td>\n",
       "      <td>3.600000e+01</td>\n",
       "      <td>6.000000e+01</td>\n",
       "      <td>6.800000e+01</td>\n",
       "      <td>6.000000e+01</td>\n",
       "    </tr>\n",
       "    <tr>\n",
       "      <th>mean</th>\n",
       "      <td>3.555779e+05</td>\n",
       "      <td>1.696006e+05</td>\n",
       "      <td>1.366238e+05</td>\n",
       "      <td>1.511113e+04</td>\n",
       "      <td>2.189314e+05</td>\n",
       "      <td>2.540508e+04</td>\n",
       "    </tr>\n",
       "    <tr>\n",
       "      <th>std</th>\n",
       "      <td>2.756359e+05</td>\n",
       "      <td>1.270115e+05</td>\n",
       "      <td>1.427345e+05</td>\n",
       "      <td>2.295419e+04</td>\n",
       "      <td>3.399814e+05</td>\n",
       "      <td>3.117137e+04</td>\n",
       "    </tr>\n",
       "    <tr>\n",
       "      <th rowspan=\"3\" valign=\"top\">it</th>\n",
       "      <th>size</th>\n",
       "      <td>7.800000e+01</td>\n",
       "      <td>4.800000e+01</td>\n",
       "      <td>3.600000e+01</td>\n",
       "      <td>6.000000e+01</td>\n",
       "      <td>6.800000e+01</td>\n",
       "      <td>6.000000e+01</td>\n",
       "    </tr>\n",
       "    <tr>\n",
       "      <th>mean</th>\n",
       "      <td>1.775615e+06</td>\n",
       "      <td>1.733719e+06</td>\n",
       "      <td>2.665148e+06</td>\n",
       "      <td>1.703538e+06</td>\n",
       "      <td>2.500962e+06</td>\n",
       "      <td>2.424971e+06</td>\n",
       "    </tr>\n",
       "    <tr>\n",
       "      <th>std</th>\n",
       "      <td>1.153030e+06</td>\n",
       "      <td>1.548794e+06</td>\n",
       "      <td>1.768442e+06</td>\n",
       "      <td>1.446408e+06</td>\n",
       "      <td>2.196436e+06</td>\n",
       "      <td>2.002198e+06</td>\n",
       "    </tr>\n",
       "  </tbody>\n",
       "</table>\n",
       "</div>"
      ],
      "text/plain": [
       "region      East China   North China  Northeast China  Northwest China  \\\n",
       "gdp size  7.800000e+01  4.800000e+01     3.600000e+01     6.000000e+01   \n",
       "    mean  6.070604e+03  4.239039e+03     3.849077e+03     1.340026e+03   \n",
       "    std   3.500373e+03  2.866705e+03     1.948532e+03     1.174400e+03   \n",
       "fdi size  7.800000e+01  4.800000e+01     3.600000e+01     6.000000e+01   \n",
       "    mean  3.555779e+05  1.696006e+05     1.366238e+05     1.511113e+04   \n",
       "    std   2.756359e+05  1.270115e+05     1.427345e+05     2.295419e+04   \n",
       "it  size  7.800000e+01  4.800000e+01     3.600000e+01     6.000000e+01   \n",
       "    mean  1.775615e+06  1.733719e+06     2.665148e+06     1.703538e+06   \n",
       "    std   1.153030e+06  1.548794e+06     1.768442e+06     1.446408e+06   \n",
       "\n",
       "region    South Central China  Southwest China  \n",
       "gdp size         6.800000e+01     6.000000e+01  \n",
       "    mean         4.835541e+03     2.410399e+03  \n",
       "    std          3.697130e+03     2.144590e+03  \n",
       "fdi size         6.800000e+01     6.000000e+01  \n",
       "    mean         2.189314e+05     2.540508e+04  \n",
       "    std          3.399814e+05     3.117137e+04  \n",
       "it  size         6.800000e+01     6.000000e+01  \n",
       "    mean         2.500962e+06     2.424971e+06  \n",
       "    std          2.196436e+06     2.002198e+06  "
      ]
     },
     "execution_count": 35,
     "metadata": {},
     "output_type": "execute_result"
    }
   ],
   "source": [
    "df = experimental_crosstab.T\n",
    "df"
   ]
  },
  {
   "cell_type": "code",
   "execution_count": 36,
   "metadata": {},
   "outputs": [],
   "source": [
    "#experimental_crosstab.reset_index().unstack()"
   ]
  },
  {
   "cell_type": "code",
   "execution_count": 37,
   "metadata": {},
   "outputs": [
    {
     "data": {
      "text/plain": [
       "6070.604230769231"
      ]
     },
     "execution_count": 37,
     "metadata": {},
     "output_type": "execute_result"
    }
   ],
   "source": [
    "experimental_crosstab.iloc[0,1]"
   ]
  },
  {
   "cell_type": "code",
   "execution_count": 38,
   "metadata": {},
   "outputs": [
    {
     "data": {
      "text/plain": [
       "Index(['East China', 'North China', 'Northeast China', 'Northwest China',\n",
       "       'South Central China', 'Southwest China'],\n",
       "      dtype='object', name='region')"
      ]
     },
     "execution_count": 38,
     "metadata": {},
     "output_type": "execute_result"
    }
   ],
   "source": [
    "experimental_crosstab.index"
   ]
  },
  {
   "cell_type": "code",
   "execution_count": 39,
   "metadata": {},
   "outputs": [
    {
     "data": {
      "text/html": [
       "<div>\n",
       "<style scoped>\n",
       "    .dataframe tbody tr th:only-of-type {\n",
       "        vertical-align: middle;\n",
       "    }\n",
       "\n",
       "    .dataframe tbody tr th {\n",
       "        vertical-align: top;\n",
       "    }\n",
       "\n",
       "    .dataframe thead tr th {\n",
       "        text-align: left;\n",
       "    }\n",
       "\n",
       "    .dataframe thead tr:last-of-type th {\n",
       "        text-align: right;\n",
       "    }\n",
       "</style>\n",
       "<table border=\"1\" class=\"dataframe\">\n",
       "  <thead>\n",
       "    <tr>\n",
       "      <th></th>\n",
       "      <th colspan=\"3\" halign=\"left\">gdp</th>\n",
       "      <th colspan=\"3\" halign=\"left\">fdi</th>\n",
       "      <th colspan=\"3\" halign=\"left\">it</th>\n",
       "    </tr>\n",
       "    <tr>\n",
       "      <th></th>\n",
       "      <th>size</th>\n",
       "      <th>mean</th>\n",
       "      <th>std</th>\n",
       "      <th>size</th>\n",
       "      <th>mean</th>\n",
       "      <th>std</th>\n",
       "      <th>size</th>\n",
       "      <th>mean</th>\n",
       "      <th>std</th>\n",
       "    </tr>\n",
       "    <tr>\n",
       "      <th>region</th>\n",
       "      <th></th>\n",
       "      <th></th>\n",
       "      <th></th>\n",
       "      <th></th>\n",
       "      <th></th>\n",
       "      <th></th>\n",
       "      <th></th>\n",
       "      <th></th>\n",
       "      <th></th>\n",
       "    </tr>\n",
       "  </thead>\n",
       "  <tbody>\n",
       "    <tr>\n",
       "      <th>East China</th>\n",
       "      <td>78</td>\n",
       "      <td>6070.604231</td>\n",
       "      <td>3500.372702</td>\n",
       "      <td>78</td>\n",
       "      <td>355577.897436</td>\n",
       "      <td>275635.866746</td>\n",
       "      <td>78</td>\n",
       "      <td>1.775615e+06</td>\n",
       "      <td>1.153030e+06</td>\n",
       "    </tr>\n",
       "    <tr>\n",
       "      <th>North China</th>\n",
       "      <td>48</td>\n",
       "      <td>4239.038542</td>\n",
       "      <td>2866.705149</td>\n",
       "      <td>48</td>\n",
       "      <td>169600.583333</td>\n",
       "      <td>127011.475909</td>\n",
       "      <td>48</td>\n",
       "      <td>1.733719e+06</td>\n",
       "      <td>1.548794e+06</td>\n",
       "    </tr>\n",
       "    <tr>\n",
       "      <th>Northeast China</th>\n",
       "      <td>36</td>\n",
       "      <td>3849.076944</td>\n",
       "      <td>1948.531835</td>\n",
       "      <td>36</td>\n",
       "      <td>136623.750000</td>\n",
       "      <td>142734.495232</td>\n",
       "      <td>36</td>\n",
       "      <td>2.665148e+06</td>\n",
       "      <td>1.768442e+06</td>\n",
       "    </tr>\n",
       "    <tr>\n",
       "      <th>Northwest China</th>\n",
       "      <td>60</td>\n",
       "      <td>1340.026167</td>\n",
       "      <td>1174.399739</td>\n",
       "      <td>60</td>\n",
       "      <td>15111.133333</td>\n",
       "      <td>22954.193559</td>\n",
       "      <td>60</td>\n",
       "      <td>1.703538e+06</td>\n",
       "      <td>1.446408e+06</td>\n",
       "    </tr>\n",
       "    <tr>\n",
       "      <th>South Central China</th>\n",
       "      <td>68</td>\n",
       "      <td>4835.540882</td>\n",
       "      <td>3697.129915</td>\n",
       "      <td>68</td>\n",
       "      <td>218931.426471</td>\n",
       "      <td>339981.399823</td>\n",
       "      <td>68</td>\n",
       "      <td>2.500962e+06</td>\n",
       "      <td>2.196436e+06</td>\n",
       "    </tr>\n",
       "    <tr>\n",
       "      <th>Southwest China</th>\n",
       "      <td>60</td>\n",
       "      <td>2410.398833</td>\n",
       "      <td>2144.589994</td>\n",
       "      <td>60</td>\n",
       "      <td>25405.083333</td>\n",
       "      <td>31171.373876</td>\n",
       "      <td>60</td>\n",
       "      <td>2.424971e+06</td>\n",
       "      <td>2.002198e+06</td>\n",
       "    </tr>\n",
       "  </tbody>\n",
       "</table>\n",
       "</div>"
      ],
      "text/plain": [
       "                     gdp                            fdi                 \\\n",
       "                    size         mean          std size           mean   \n",
       "region                                                                   \n",
       "East China            78  6070.604231  3500.372702   78  355577.897436   \n",
       "North China           48  4239.038542  2866.705149   48  169600.583333   \n",
       "Northeast China       36  3849.076944  1948.531835   36  136623.750000   \n",
       "Northwest China       60  1340.026167  1174.399739   60   15111.133333   \n",
       "South Central China   68  4835.540882  3697.129915   68  218931.426471   \n",
       "Southwest China       60  2410.398833  2144.589994   60   25405.083333   \n",
       "\n",
       "                                     it                              \n",
       "                               std size          mean           std  \n",
       "region                                                               \n",
       "East China           275635.866746   78  1.775615e+06  1.153030e+06  \n",
       "North China          127011.475909   48  1.733719e+06  1.548794e+06  \n",
       "Northeast China      142734.495232   36  2.665148e+06  1.768442e+06  \n",
       "Northwest China       22954.193559   60  1.703538e+06  1.446408e+06  \n",
       "South Central China  339981.399823   68  2.500962e+06  2.196436e+06  \n",
       "Southwest China       31171.373876   60  2.424971e+06  2.002198e+06  "
      ]
     },
     "execution_count": 39,
     "metadata": {},
     "output_type": "execute_result"
    }
   ],
   "source": [
    "experimental_crosstab"
   ]
  },
  {
   "cell_type": "code",
   "execution_count": 40,
   "metadata": {},
   "outputs": [],
   "source": [
    "experimental_crosstab.columns = ['_'.join(col) for col in experimental_crosstab.columns.values]"
   ]
  },
  {
   "cell_type": "code",
   "execution_count": 41,
   "metadata": {},
   "outputs": [
    {
     "data": {
      "text/html": [
       "<div>\n",
       "<style scoped>\n",
       "    .dataframe tbody tr th:only-of-type {\n",
       "        vertical-align: middle;\n",
       "    }\n",
       "\n",
       "    .dataframe tbody tr th {\n",
       "        vertical-align: top;\n",
       "    }\n",
       "\n",
       "    .dataframe thead th {\n",
       "        text-align: right;\n",
       "    }\n",
       "</style>\n",
       "<table border=\"1\" class=\"dataframe\">\n",
       "  <thead>\n",
       "    <tr style=\"text-align: right;\">\n",
       "      <th></th>\n",
       "      <th>gdp_size</th>\n",
       "      <th>gdp_mean</th>\n",
       "      <th>gdp_std</th>\n",
       "      <th>fdi_size</th>\n",
       "      <th>fdi_mean</th>\n",
       "      <th>fdi_std</th>\n",
       "      <th>it_size</th>\n",
       "      <th>it_mean</th>\n",
       "      <th>it_std</th>\n",
       "    </tr>\n",
       "    <tr>\n",
       "      <th>region</th>\n",
       "      <th></th>\n",
       "      <th></th>\n",
       "      <th></th>\n",
       "      <th></th>\n",
       "      <th></th>\n",
       "      <th></th>\n",
       "      <th></th>\n",
       "      <th></th>\n",
       "      <th></th>\n",
       "    </tr>\n",
       "  </thead>\n",
       "  <tbody>\n",
       "    <tr>\n",
       "      <th>East China</th>\n",
       "      <td>78</td>\n",
       "      <td>6070.604231</td>\n",
       "      <td>3500.372702</td>\n",
       "      <td>78</td>\n",
       "      <td>355577.897436</td>\n",
       "      <td>275635.866746</td>\n",
       "      <td>78</td>\n",
       "      <td>1.775615e+06</td>\n",
       "      <td>1.153030e+06</td>\n",
       "    </tr>\n",
       "    <tr>\n",
       "      <th>North China</th>\n",
       "      <td>48</td>\n",
       "      <td>4239.038542</td>\n",
       "      <td>2866.705149</td>\n",
       "      <td>48</td>\n",
       "      <td>169600.583333</td>\n",
       "      <td>127011.475909</td>\n",
       "      <td>48</td>\n",
       "      <td>1.733719e+06</td>\n",
       "      <td>1.548794e+06</td>\n",
       "    </tr>\n",
       "    <tr>\n",
       "      <th>Northeast China</th>\n",
       "      <td>36</td>\n",
       "      <td>3849.076944</td>\n",
       "      <td>1948.531835</td>\n",
       "      <td>36</td>\n",
       "      <td>136623.750000</td>\n",
       "      <td>142734.495232</td>\n",
       "      <td>36</td>\n",
       "      <td>2.665148e+06</td>\n",
       "      <td>1.768442e+06</td>\n",
       "    </tr>\n",
       "    <tr>\n",
       "      <th>Northwest China</th>\n",
       "      <td>60</td>\n",
       "      <td>1340.026167</td>\n",
       "      <td>1174.399739</td>\n",
       "      <td>60</td>\n",
       "      <td>15111.133333</td>\n",
       "      <td>22954.193559</td>\n",
       "      <td>60</td>\n",
       "      <td>1.703538e+06</td>\n",
       "      <td>1.446408e+06</td>\n",
       "    </tr>\n",
       "    <tr>\n",
       "      <th>South Central China</th>\n",
       "      <td>68</td>\n",
       "      <td>4835.540882</td>\n",
       "      <td>3697.129915</td>\n",
       "      <td>68</td>\n",
       "      <td>218931.426471</td>\n",
       "      <td>339981.399823</td>\n",
       "      <td>68</td>\n",
       "      <td>2.500962e+06</td>\n",
       "      <td>2.196436e+06</td>\n",
       "    </tr>\n",
       "    <tr>\n",
       "      <th>Southwest China</th>\n",
       "      <td>60</td>\n",
       "      <td>2410.398833</td>\n",
       "      <td>2144.589994</td>\n",
       "      <td>60</td>\n",
       "      <td>25405.083333</td>\n",
       "      <td>31171.373876</td>\n",
       "      <td>60</td>\n",
       "      <td>2.424971e+06</td>\n",
       "      <td>2.002198e+06</td>\n",
       "    </tr>\n",
       "  </tbody>\n",
       "</table>\n",
       "</div>"
      ],
      "text/plain": [
       "                     gdp_size     gdp_mean      gdp_std  fdi_size  \\\n",
       "region                                                              \n",
       "East China                 78  6070.604231  3500.372702        78   \n",
       "North China                48  4239.038542  2866.705149        48   \n",
       "Northeast China            36  3849.076944  1948.531835        36   \n",
       "Northwest China            60  1340.026167  1174.399739        60   \n",
       "South Central China        68  4835.540882  3697.129915        68   \n",
       "Southwest China            60  2410.398833  2144.589994        60   \n",
       "\n",
       "                          fdi_mean        fdi_std  it_size       it_mean  \\\n",
       "region                                                                     \n",
       "East China           355577.897436  275635.866746       78  1.775615e+06   \n",
       "North China          169600.583333  127011.475909       48  1.733719e+06   \n",
       "Northeast China      136623.750000  142734.495232       36  2.665148e+06   \n",
       "Northwest China       15111.133333   22954.193559       60  1.703538e+06   \n",
       "South Central China  218931.426471  339981.399823       68  2.500962e+06   \n",
       "Southwest China       25405.083333   31171.373876       60  2.424971e+06   \n",
       "\n",
       "                           it_std  \n",
       "region                             \n",
       "East China           1.153030e+06  \n",
       "North China          1.548794e+06  \n",
       "Northeast China      1.768442e+06  \n",
       "Northwest China      1.446408e+06  \n",
       "South Central China  2.196436e+06  \n",
       "Southwest China      2.002198e+06  "
      ]
     },
     "execution_count": 41,
     "metadata": {},
     "output_type": "execute_result"
    }
   ],
   "source": [
    "experimental_crosstab"
   ]
  },
  {
   "cell_type": "code",
   "execution_count": 42,
   "metadata": {},
   "outputs": [
    {
     "data": {
      "text/plain": [
       "78"
      ]
     },
     "execution_count": 42,
     "metadata": {},
     "output_type": "execute_result"
    }
   ],
   "source": [
    "experimental_crosstab.loc['East China', 'gdp_size']"
   ]
  },
  {
   "cell_type": "code",
   "execution_count": 44,
   "metadata": {},
   "outputs": [],
   "source": [
    "experimental_crosstab.to_csv('fiscal_experimental_crosstab.csv')"
   ]
  }
 ],
 "metadata": {
  "kernelspec": {
   "display_name": "Python 3",
   "language": "python",
   "name": "python3"
  },
  "language_info": {
   "codemirror_mode": {
    "name": "ipython",
    "version": 3
   },
   "file_extension": ".py",
   "mimetype": "text/x-python",
   "name": "python",
   "nbconvert_exporter": "python",
   "pygments_lexer": "ipython3",
   "version": "3.7.3"
  }
 },
 "nbformat": 4,
 "nbformat_minor": 4
}
