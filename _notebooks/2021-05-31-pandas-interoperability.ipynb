{
 "cells": [
  {
   "cell_type": "markdown",
   "metadata": {},
   "source": [
    "# Pandas Interoperability"
   ]
  },
  {
   "cell_type": "code",
   "execution_count": 238,
   "metadata": {},
   "outputs": [],
   "source": [
    "#code adapted from https://github.com/thomasjpfan/ml-workshop-intermediate-1-of-2"
   ]
  },
  {
   "cell_type": "code",
   "execution_count": 183,
   "metadata": {},
   "outputs": [
    {
     "data": {
      "image/png": "[encoded data removed]",
      "text/plain": [
       "<Figure size 2160x1080 with 40 Axes>"
      ]
     },
     "metadata": {
      "needs_background": "light"
     },
     "output_type": "display_data"
    }
   ],
   "source": [
    "import pandas as pd\n",
    "url = 'https://raw.githubusercontent.com/davidrkearney/Kearney_Data_Science/master/_notebooks/df_panel_fix.csv'\n",
    "df = pd.read_csv(url, error_bad_lines=False)\n",
    "df\n",
    "\n",
    "import pandas as pd\n",
    "import sklearn\n",
    "from sklearn.datasets import fetch_openml\n",
    "from sklearn.model_selection import train_test_split\n",
    "\n",
    "\n",
    "\n",
    "df.columns\n",
    "\n",
    "sklearn.set_config(display='diagram')\n",
    "\n",
    "df=df.dropna()\n",
    "\n",
    "df.isnull().sum()\n",
    "\n",
    "\n",
    "\n",
    "X, y = df.drop(['specific', 'Unnamed: 0'], axis = 1), df['specific']\n",
    "\n",
    "X\n",
    "\n",
    "\n",
    "_ = X.hist(figsize=(30, 15), layout=(5, 8))"
   ]
  },
  {
   "cell_type": "code",
   "execution_count": 184,
   "metadata": {},
   "outputs": [],
   "source": [
    "import numpy as np\n",
    "import sklearn\n",
    "sklearn.set_config(display='diagram')"
   ]
  },
  {
   "cell_type": "markdown",
   "metadata": {},
   "source": [
    "## Categorical Data"
   ]
  },
  {
   "cell_type": "markdown",
   "metadata": {},
   "source": [
    "### OridinalEncoder"
   ]
  },
  {
   "cell_type": "code",
   "execution_count": 185,
   "metadata": {},
   "outputs": [],
   "source": [
    "from sklearn.preprocessing import OrdinalEncoder"
   ]
  },
  {
   "cell_type": "code",
   "execution_count": 186,
   "metadata": {},
   "outputs": [
    {
     "data": {
      "text/plain": [
       "array([[  0.,   0.,  17., ...,  24.,   0.,  28.],\n",
       "       [  1.,   0.,  48., ...,  29.,   0.,  60.],\n",
       "       [  2.,   0.,  64., ...,  40.,   0.,  67.],\n",
       "       ...,\n",
       "       [115.,  27.,  44., ...,  97.,   0.,  53.],\n",
       "       [116.,  27.,  84., ...,   4.,   0.,  64.],\n",
       "       [117.,  27.,  78., ...,  25.,   0.,  71.]])"
      ]
     },
     "execution_count": 186,
     "metadata": {},
     "output_type": "execute_result"
    }
   ],
   "source": [
    "ord_encoder = OrdinalEncoder()\n",
    "ord_encoder.fit_transform(df)"
   ]
  },
  {
   "cell_type": "code",
   "execution_count": 187,
   "metadata": {},
   "outputs": [
    {
     "data": {
      "text/plain": [
       "[array([  4,   6,   7,  10,  11,  16,  18,  19,  22,  23,  34,  35,  40,\n",
       "         42,  43,  46,  47,  52,  54,  58,  64,  66,  67,  70,  71,  76,\n",
       "         78,  79,  82,  83,  88,  90,  91,  94,  95, 107, 112, 119, 124,\n",
       "        126, 127, 130, 131, 136, 138, 139, 142, 143, 148, 150, 151, 154,\n",
       "        155, 160, 162, 163, 166, 167, 172, 174, 175, 178, 179, 184, 186,\n",
       "        187, 190, 191, 196, 198, 199, 202, 203, 220, 222, 223, 226, 227,\n",
       "        232, 234, 235, 239, 244, 246, 247, 250, 251, 258, 259, 262, 263,\n",
       "        280, 282, 283, 292, 294, 295, 298, 310, 316, 318, 319, 322, 323,\n",
       "        328, 330, 331, 334, 335, 340, 342, 343, 346, 347, 354, 355, 358,\n",
       "        359]),\n",
       " array(['Anhui', 'Beijing', 'Chongqing', 'Fujian', 'Gansu', 'Guangdong',\n",
       "        'Guangxi', 'Guizhou', 'Hainan', 'Hebei', 'Heilongjiang', 'Henan',\n",
       "        'Hubei', 'Hunan', 'Jiangsu', 'Jiangxi', 'Jilin', 'Ningxia',\n",
       "        'Qinghai', 'Shaanxi', 'Shandong', 'Shanxi', 'Sichuan', 'Tianjin',\n",
       "        'Tibet', 'Xinjiang', 'Yunnan', 'Zhejiang'], dtype=object),\n",
       " array([  72939.,   91405.,   96825.,  103041.,  107046.,  107687.,\n",
       "         119536.,  127819.,  133858.,  137190.,  142650.,  144839.,\n",
       "         147749.,  148812.,  160637.,  179235.,  181409.,  195580.,\n",
       "         207615.,  217707.,  223984.,  228043.,  237948.,  248903.,\n",
       "         251539.,  254002.,  262197.,  265770.,  271297.,  271499.,\n",
       "         281769.,  295133.,  319710.,  331999.,  337894.,  340372.,\n",
       "         353776.,  354775.,  359275.,  365437.,  367568.,  369552.,\n",
       "         370049.,  379186.,  391292.,  395775.,  397517.,  430577.,\n",
       "         434149.,  436189.,  447709.,  458201.,  469514.,  472786.,\n",
       "         484715.,  487155.,  510656.,  518022.,  531994.,  558569.,\n",
       "         575550.,  591088.,  601485.,  615593.,  619201.,  642581.,\n",
       "         675931.,  681676.,  684767.,  685732.,  688887.,  714572.,\n",
       "         752279.,  753552.,  761081.,  821750.,  833423.,  833430.,\n",
       "         844647.,  859482.,  875877.,  909559.,  978069.,  985851.,\n",
       "        1017303., 1035872., 1097470., 1188989., 1204547., 1207353.,\n",
       "        1224179., 1235386., 1246484., 1315102., 1331590., 1358528.,\n",
       "        1388043., 1457872., 1550764., 1562694., 1791403., 1890650.,\n",
       "        1897575., 1956261., 2018158., 2022957., 2045869., 2121243.,\n",
       "        2213991., 2225220., 2482173., 2663667., 2669238., 2922784.,\n",
       "        2981235., 3156087., 3847672., 3860764.]),\n",
       " array([      0.,    2990.,    8115.,   11755.,   11767.,   17400.,\n",
       "          20842.,   26300.,   27302.,   27387.,   29646.,   30705.,\n",
       "          32100.,   32119.,   32868.,   34842.,   36670.,   36946.,\n",
       "          40604.,   44623.,   45683.,   50097.,   52108.,   53900.,\n",
       "          56070.,   58533.,   59263.,   60560.,   60906.,   62000.,\n",
       "          66100.,   66529.,   68142.,   71807.,   80361.,   80609.,\n",
       "          81879.,   86256.,   88007.,   93323.,   95648.,  100000.,\n",
       "         100900.,  107658.,  108624.,  112137.,  113000.,  114418.,\n",
       "         116000.,  119658.,  123317.,  123546.,  124582.,  124647.,\n",
       "         129791.,  135765.,  143800.,  145000.,  149549.,  150000.,\n",
       "         153640.,  154364.,  165071.,  173552.,  173556.,  178705.,\n",
       "         179252.,  188633.,  197539.,  229895.,  241282.,  260313.,\n",
       "         264185.,  269596.,  279052.,  280277.,  302600.,  309582.,\n",
       "         317700.,  320627.,  321686.,  363054.,  394795.,  400000.,\n",
       "         405966.,  423049.,  429591.,  434318.,  447900.,  460668.,\n",
       "         498913.,  516342.,  527300.,  540479.,  564400.,  570723.,\n",
       "         581800.,  605400.,  655919.,  659400.,  694400.,  763953.,\n",
       "        1016400., 1023453., 1046700., 1081000., 1131615., 1187958.,\n",
       "        1197400., 1214100., 1239200., 1263500., 1272600., 1329200.,\n",
       "        1737800.]),\n",
       " array([2000, 2002, 2003, 2006, 2007]),\n",
       " array([  117.8 ,   162.04,   185.09,   263.68,   290.76,   295.02,\n",
       "          340.65,   341.43,   377.16,   390.2 ,   445.36,   725.9 ,\n",
       "          797.35,   919.11,  1029.92,  1052.88,  1232.03,  1243.43,\n",
       "         1254.17,  1363.56,  1426.34,  1612.65,  1672.96,  1804.  ,\n",
       "         1845.72,  1853.65,  1886.35,  2011.19,  2080.04,  2120.35,\n",
       "         2175.68,  2253.39,  2277.35,  2312.82,  2324.8 ,  2338.98,\n",
       "         2348.54,  2450.48,  2523.73,  2556.02,  2587.72,  2821.11,\n",
       "         2855.23,  2884.11,  2902.09,  3045.26,  3151.4 ,  3161.66,\n",
       "         3519.72,  3523.16,  3545.39,  3551.49,  3620.27,  3637.2 ,\n",
       "         3764.54,  3907.23,  3923.11,  3928.2 ,  3988.14,  4056.76,\n",
       "         4057.4 ,  4151.54,  4212.82,  4275.12,  4315.  ,  4462.74,\n",
       "         4467.55,  4659.99,  4676.13,  4725.01,  4743.61,  4746.16,\n",
       "         4757.45,  4772.52,  4820.53,  4983.67,  5007.21,  5043.96,\n",
       "         5052.99,  5333.09,  5757.29,  5823.41,  6035.48,  6112.5 ,\n",
       "         6211.8 ,  6867.7 ,  7104.  ,  7360.92,  7583.85,  7617.47,\n",
       "         7688.67,  7697.82,  8003.67,  8117.78,  8690.24,  9248.53,\n",
       "         9333.4 ,  9439.6 ,  9456.84,  9705.02,  9846.81, 10275.5 ,\n",
       "        10606.85, 10741.25, 12078.15, 12362.79, 13502.42, 13607.32,\n",
       "        15012.46, 15718.47, 15844.64, 18598.69, 18753.73, 21742.05,\n",
       "        21900.19, 25776.91, 26587.76, 31777.01]),\n",
       " array([      2,     293,     467,    1522,    1534,    1741,    1743,\n",
       "           1899,    1911,    2200,    2418,    2501,    2522,    2954,\n",
       "           3718,    3821,    4521,    4726,    5047,    6121,    6235,\n",
       "           8384,    9384,   10366,   11020,   11169,   12484,   12651,\n",
       "          12812,   21164,   21361,   22472,   24468,   28842,   30086,\n",
       "          30120,   30234,   31000,   31847,   32080,   32180,   33190,\n",
       "          33766,   35511,   36005,   36720,   38375,   39453,   39575,\n",
       "          40463,   41231,   41726,   41856,   43694,   44740,   52466,\n",
       "          53903,   55583,   56403,   66100,   67833,   67923,   68396,\n",
       "          69595,   76064,   90022,   92489,   94368,  101835,  108197,\n",
       "         108534,  112001,  119516,  120819,  139354,  142665,  156886,\n",
       "         168368,  170801,  172464,  184526,  208508,  219126,  241621,\n",
       "         242000,  244853,  259335,  259903,  276622,  280657,  299892,\n",
       "         306162,  307610,  322047,  327051,  343191,  383837,  406058,\n",
       "         413077,  455191,  473404,  498055,  506572,  601617,  607756,\n",
       "         691482,  782294,  888935, 1000069, 1018960, 1036576, 1101159,\n",
       "        1128091, 1133400, 1318339, 1451065, 1712603, 1743140]),\n",
       " array([0.        , 0.02702703, 0.03      , 0.03125   , 0.04761905,\n",
       "        0.09677419, 0.20512821, 0.22      , 0.4       , 1.21428571]),\n",
       " array([0.        , 0.03      , 0.03571429, 0.10869565, 0.11111111,\n",
       "        0.13      , 0.13888889, 0.15384615, 0.16      , 0.24      ,\n",
       "        0.27027027, 0.3       , 0.31      , 0.4       , 0.41025641,\n",
       "        0.4375    , 0.5       , 0.7948718 ]),\n",
       " array([0.        , 0.03571429, 0.05128205, 0.12820513, 0.13      ,\n",
       "        0.21621622, 0.22222222, 0.23076923, 0.27586207, 0.3       ,\n",
       "        0.32432432, 0.4       , 0.40625   , 0.47      , 0.51612903,\n",
       "        0.53      , 0.55      , 0.71052632, 0.8125    ]),\n",
       " array(['1060812', '1082935', '1089674', '1108348', '11537149', '1163113',\n",
       "        '11673659', '118013', '1212843', '123888', '1292604', '1310512',\n",
       "        '1321004', '1389153', '1443753', '147235', '14740022', '14926380',\n",
       "        '1514364', '1514799', '1543658', '1548155', '157652', '1600475',\n",
       "        '1601508', '16494981', '1667114', '16753980', '1675757', '1677840',\n",
       "        '16804703', '169770', '1710605', '1723026', '1755299', '1762409',\n",
       "        '1802055', '1807967', '1841592', '1851377', '1896479', '1913563',\n",
       "        '1925862', '1938812', '201412', '2018672', '2024337', '202761',\n",
       "        '2110577', '2125369', '2195820', '22377276', '2308652', '2329505',\n",
       "        '233299', '2373047', '2419708', '2450874', '2511249', '2523352',\n",
       "        '2525301', '2567976', '2648861', '27858007', '2823366', '2823413',\n",
       "        '2851375', '2858600', '2972212', '3206892', '3434548', '3444533',\n",
       "        '3816261', '3898510', '4032810', '4188265', '4247403', '4404689',\n",
       "        '4427000', '4468640', '447643', '4752398', '4830320', '4830392',\n",
       "        '4867146', '4958329', '505196', '50819', '5145006', '5596906',\n",
       "        '567083', '5903552', '597159', '59841', '6065508', '6166904',\n",
       "        '6212824', '6217715', '6879383', '693750', '6994577', '70048',\n",
       "        '7071605', '740947', '776120', '7891198', '800312', '830159',\n",
       "        '8620804', '8818088', '919235', '924080', '932549', '960708',\n",
       "        '966606', '971485', '974325', '9898522'], dtype=object),\n",
       " array(['East China', 'North China', 'Northeast China', 'Northwest China',\n",
       "        'South Central China', 'Southwest China'], dtype=object),\n",
       " array([  475184,   546541,   632880,   736165,   757990,   819028,\n",
       "          866691,   948521,   976396,  1047698,  1078754,  1109537,\n",
       "         1174622,  1184990,  1210637,  1216605,  1228569,  1258100,\n",
       "         1308445,  1333133,  1364344,  1364980,  1423771,  1426600,\n",
       "         1428990,  1440939,  1472622,  1492835,  1499110,  1554999,\n",
       "         1648826,  1658350,  1742585,  1782317,  1845611,  1873822,\n",
       "         1898911,  1927102,  1962192,  1962633,  1986738,  2017594,\n",
       "         2023674,  2047192,  2052220,  2053980,  2072426,  2135224,\n",
       "         2138158,  2138758,  2143190,  2150325,  2254281,  2261631,\n",
       "         2268499,  2339769,  2347862,  2355164,  2376983,  2378616,\n",
       "         2404936,  2444270,  2455900,  2545841,  2553268,  2649011,\n",
       "         2764053,  2815820,  2867525,  2907301,  2926542,  2939778,\n",
       "         2940367,  2977880,  3035767,  3051103,  3101537,  3114638,\n",
       "         3124234,  3343228,  3388449,  3545004,  3557071,  3586373,\n",
       "         3847158,  3893879,  3923569,  4039036,  4062020,  4073606,\n",
       "         4133488,  4229821,  4390259,  4559252,  4607955,  4613724,\n",
       "         4686125,  4947824,  5046865,  5167300,  5304833,  5502470,\n",
       "         5639838,  6003791,  6033279,  6185600,  6308151,  6349262,\n",
       "         6357869,  6832541,  7040099,  7537692,  7601825,  7646885,\n",
       "         7666512,  7968319,  8340692, 10533312])]"
      ]
     },
     "execution_count": 187,
     "metadata": {},
     "output_type": "execute_result"
    }
   ],
   "source": [
    "ord_encoder.categories_"
   ]
  },
  {
   "cell_type": "code",
   "execution_count": 188,
   "metadata": {},
   "outputs": [
    {
     "data": {
      "text/plain": [
       "array([[  0.,   0.,  17., ...,  24.,   0.,  28.],\n",
       "       [  1.,   0.,  48., ...,  29.,   0.,  60.],\n",
       "       [  2.,   0.,  64., ...,  40.,   0.,  67.],\n",
       "       ...,\n",
       "       [115.,  27.,  44., ...,  97.,   0.,  53.],\n",
       "       [116.,  27.,  84., ...,   4.,   0.,  64.],\n",
       "       [117.,  27.,  78., ...,  25.,   0.,  71.]])"
      ]
     },
     "execution_count": 188,
     "metadata": {},
     "output_type": "execute_result"
    }
   ],
   "source": [
    "ord_encoder.transform(df)"
   ]
  },
  {
   "cell_type": "markdown",
   "metadata": {},
   "source": [
    "### Categories that are unknown during `fit`"
   ]
  },
  {
   "cell_type": "markdown",
   "metadata": {},
   "source": [
    "### How to handle unknown categories in OridinalEncoder?"
   ]
  },
  {
   "cell_type": "markdown",
   "metadata": {},
   "source": [
    "### Provide all the categories in the constructor"
   ]
  },
  {
   "cell_type": "markdown",
   "metadata": {},
   "source": [
    "## OneHotEncoder"
   ]
  },
  {
   "cell_type": "code",
   "execution_count": 189,
   "metadata": {},
   "outputs": [
    {
     "data": {
      "text/plain": [
       "<118x909 sparse matrix of type '<class 'numpy.float64'>'\n",
       "\twith 1534 stored elements in Compressed Sparse Row format>"
      ]
     },
     "execution_count": 189,
     "metadata": {},
     "output_type": "execute_result"
    }
   ],
   "source": [
    "from sklearn.preprocessing import OneHotEncoder\n",
    "\n",
    "ohe = OneHotEncoder()\n",
    "X_trans = ohe.fit_transform(df)\n",
    "X_trans"
   ]
  },
  {
   "cell_type": "code",
   "execution_count": 190,
   "metadata": {},
   "outputs": [
    {
     "data": {
      "text/plain": [
       "array([[1., 0., 0., ..., 0., 0., 0.],\n",
       "       [0., 1., 0., ..., 0., 0., 0.],\n",
       "       [0., 0., 1., ..., 0., 0., 0.],\n",
       "       ...,\n",
       "       [0., 0., 0., ..., 0., 0., 0.],\n",
       "       [0., 0., 0., ..., 0., 0., 0.],\n",
       "       [0., 0., 0., ..., 0., 0., 0.]])"
      ]
     },
     "execution_count": 190,
     "metadata": {},
     "output_type": "execute_result"
    }
   ],
   "source": [
    "X_trans.toarray()"
   ]
  },
  {
   "cell_type": "markdown",
   "metadata": {},
   "source": [
    "### Switch to dense"
   ]
  },
  {
   "cell_type": "code",
   "execution_count": 191,
   "metadata": {},
   "outputs": [
    {
     "data": {
      "text/plain": [
       "array([[1., 0., 0., ..., 0., 0., 0.],\n",
       "       [0., 1., 0., ..., 0., 0., 0.],\n",
       "       [0., 0., 1., ..., 0., 0., 0.],\n",
       "       ...,\n",
       "       [0., 0., 0., ..., 0., 0., 0.],\n",
       "       [0., 0., 0., ..., 0., 0., 0.],\n",
       "       [0., 0., 0., ..., 0., 0., 0.]])"
      ]
     },
     "execution_count": 191,
     "metadata": {},
     "output_type": "execute_result"
    }
   ],
   "source": [
    "ohe = OneHotEncoder(sparse=False)\n",
    "ohe.fit_transform(df)"
   ]
  },
  {
   "cell_type": "markdown",
   "metadata": {},
   "source": [
    "### Unknown categories during transform?"
   ]
  },
  {
   "cell_type": "markdown",
   "metadata": {},
   "source": [
    "### OHE can handle unknowns"
   ]
  },
  {
   "cell_type": "code",
   "execution_count": 192,
   "metadata": {},
   "outputs": [
    {
     "data": {
      "text/html": [
       "<style>div.sk-top-container {color: black;background-color: white;}div.sk-toggleable {background-color: white;}label.sk-toggleable__label {cursor: pointer;display: block;width: 100%;margin-bottom: 0;padding: 0.2em 0.3em;box-sizing: border-box;text-align: center;}div.sk-toggleable__content {max-height: 0;max-width: 0;overflow: hidden;text-align: left;background-color: #f0f8ff;}div.sk-toggleable__content pre {margin: 0.2em;color: black;border-radius: 0.25em;background-color: #f0f8ff;}input.sk-toggleable__control:checked~div.sk-toggleable__content {max-height: 200px;max-width: 100%;overflow: auto;}div.sk-estimator input.sk-toggleable__control:checked~label.sk-toggleable__label {background-color: #d4ebff;}div.sk-label input.sk-toggleable__control:checked~label.sk-toggleable__label {background-color: #d4ebff;}input.sk-hidden--visually {border: 0;clip: rect(1px 1px 1px 1px);clip: rect(1px, 1px, 1px, 1px);height: 1px;margin: -1px;overflow: hidden;padding: 0;position: absolute;width: 1px;}div.sk-estimator {font-family: monospace;background-color: #f0f8ff;margin: 0.25em 0.25em;border: 1px dotted black;border-radius: 0.25em;box-sizing: border-box;}div.sk-estimator:hover {background-color: #d4ebff;}div.sk-parallel-item::after {content: \"\";width: 100%;border-bottom: 1px solid gray;flex-grow: 1;}div.sk-label:hover label.sk-toggleable__label {background-color: #d4ebff;}div.sk-serial::before {content: \"\";position: absolute;border-left: 1px solid gray;box-sizing: border-box;top: 2em;bottom: 0;left: 50%;}div.sk-serial {display: flex;flex-direction: column;align-items: center;background-color: white;}div.sk-item {z-index: 1;}div.sk-parallel {display: flex;align-items: stretch;justify-content: center;background-color: white;}div.sk-parallel-item {display: flex;flex-direction: column;position: relative;background-color: white;}div.sk-parallel-item:first-child::after {align-self: flex-end;width: 50%;}div.sk-parallel-item:last-child::after {align-self: flex-start;width: 50%;}div.sk-parallel-item:only-child::after {width: 0;}div.sk-dashed-wrapped {border: 1px dashed gray;margin: 0.2em;box-sizing: border-box;padding-bottom: 0.1em;background-color: white;position: relative;}div.sk-label label {font-family: monospace;font-weight: bold;background-color: white;display: inline-block;line-height: 1.2em;}div.sk-label-container {position: relative;z-index: 2;text-align: center;}div.sk-container {display: inline-block;position: relative;}</style><div class=\"sk-top-container\"><div class=\"sk-container\"><div class=\"sk-item\"><div class=\"sk-estimator sk-toggleable\"><input class=\"sk-toggleable__control sk-hidden--visually\" id=\"8b41a3b5-b52c-4412-bae4-810384e40141\" type=\"checkbox\" checked><label class=\"sk-toggleable__label\" for=\"8b41a3b5-b52c-4412-bae4-810384e40141\">OneHotEncoder</label><div class=\"sk-toggleable__content\"><pre>OneHotEncoder(handle_unknown='ignore', sparse=False)</pre></div></div></div></div></div>"
      ],
      "text/plain": [
       "OneHotEncoder(handle_unknown='ignore', sparse=False)"
      ]
     },
     "execution_count": 192,
     "metadata": {},
     "output_type": "execute_result"
    }
   ],
   "source": [
    "ohe = OneHotEncoder(sparse=False, handle_unknown='ignore')\n",
    "ohe.fit(df)"
   ]
  },
  {
   "cell_type": "code",
   "execution_count": 193,
   "metadata": {},
   "outputs": [
    {
     "data": {
      "text/plain": [
       "array([[1., 0., 0., ..., 0., 0., 0.],\n",
       "       [0., 1., 0., ..., 0., 0., 0.],\n",
       "       [0., 0., 1., ..., 0., 0., 0.],\n",
       "       ...,\n",
       "       [0., 0., 0., ..., 0., 0., 0.],\n",
       "       [0., 0., 0., ..., 0., 0., 0.],\n",
       "       [0., 0., 0., ..., 0., 0., 0.]])"
      ]
     },
     "execution_count": 193,
     "metadata": {},
     "output_type": "execute_result"
    }
   ],
   "source": [
    "ohe.transform(df)"
   ]
  },
  {
   "cell_type": "code",
   "execution_count": 194,
   "metadata": {},
   "outputs": [
    {
     "data": {
      "text/plain": [
       "[array([  4,   6,   7,  10,  11,  16,  18,  19,  22,  23,  34,  35,  40,\n",
       "         42,  43,  46,  47,  52,  54,  58,  64,  66,  67,  70,  71,  76,\n",
       "         78,  79,  82,  83,  88,  90,  91,  94,  95, 107, 112, 119, 124,\n",
       "        126, 127, 130, 131, 136, 138, 139, 142, 143, 148, 150, 151, 154,\n",
       "        155, 160, 162, 163, 166, 167, 172, 174, 175, 178, 179, 184, 186,\n",
       "        187, 190, 191, 196, 198, 199, 202, 203, 220, 222, 223, 226, 227,\n",
       "        232, 234, 235, 239, 244, 246, 247, 250, 251, 258, 259, 262, 263,\n",
       "        280, 282, 283, 292, 294, 295, 298, 310, 316, 318, 319, 322, 323,\n",
       "        328, 330, 331, 334, 335, 340, 342, 343, 346, 347, 354, 355, 358,\n",
       "        359]),\n",
       " array(['Anhui', 'Beijing', 'Chongqing', 'Fujian', 'Gansu', 'Guangdong',\n",
       "        'Guangxi', 'Guizhou', 'Hainan', 'Hebei', 'Heilongjiang', 'Henan',\n",
       "        'Hubei', 'Hunan', 'Jiangsu', 'Jiangxi', 'Jilin', 'Ningxia',\n",
       "        'Qinghai', 'Shaanxi', 'Shandong', 'Shanxi', 'Sichuan', 'Tianjin',\n",
       "        'Tibet', 'Xinjiang', 'Yunnan', 'Zhejiang'], dtype=object),\n",
       " array([  72939.,   91405.,   96825.,  103041.,  107046.,  107687.,\n",
       "         119536.,  127819.,  133858.,  137190.,  142650.,  144839.,\n",
       "         147749.,  148812.,  160637.,  179235.,  181409.,  195580.,\n",
       "         207615.,  217707.,  223984.,  228043.,  237948.,  248903.,\n",
       "         251539.,  254002.,  262197.,  265770.,  271297.,  271499.,\n",
       "         281769.,  295133.,  319710.,  331999.,  337894.,  340372.,\n",
       "         353776.,  354775.,  359275.,  365437.,  367568.,  369552.,\n",
       "         370049.,  379186.,  391292.,  395775.,  397517.,  430577.,\n",
       "         434149.,  436189.,  447709.,  458201.,  469514.,  472786.,\n",
       "         484715.,  487155.,  510656.,  518022.,  531994.,  558569.,\n",
       "         575550.,  591088.,  601485.,  615593.,  619201.,  642581.,\n",
       "         675931.,  681676.,  684767.,  685732.,  688887.,  714572.,\n",
       "         752279.,  753552.,  761081.,  821750.,  833423.,  833430.,\n",
       "         844647.,  859482.,  875877.,  909559.,  978069.,  985851.,\n",
       "        1017303., 1035872., 1097470., 1188989., 1204547., 1207353.,\n",
       "        1224179., 1235386., 1246484., 1315102., 1331590., 1358528.,\n",
       "        1388043., 1457872., 1550764., 1562694., 1791403., 1890650.,\n",
       "        1897575., 1956261., 2018158., 2022957., 2045869., 2121243.,\n",
       "        2213991., 2225220., 2482173., 2663667., 2669238., 2922784.,\n",
       "        2981235., 3156087., 3847672., 3860764.]),\n",
       " array([      0.,    2990.,    8115.,   11755.,   11767.,   17400.,\n",
       "          20842.,   26300.,   27302.,   27387.,   29646.,   30705.,\n",
       "          32100.,   32119.,   32868.,   34842.,   36670.,   36946.,\n",
       "          40604.,   44623.,   45683.,   50097.,   52108.,   53900.,\n",
       "          56070.,   58533.,   59263.,   60560.,   60906.,   62000.,\n",
       "          66100.,   66529.,   68142.,   71807.,   80361.,   80609.,\n",
       "          81879.,   86256.,   88007.,   93323.,   95648.,  100000.,\n",
       "         100900.,  107658.,  108624.,  112137.,  113000.,  114418.,\n",
       "         116000.,  119658.,  123317.,  123546.,  124582.,  124647.,\n",
       "         129791.,  135765.,  143800.,  145000.,  149549.,  150000.,\n",
       "         153640.,  154364.,  165071.,  173552.,  173556.,  178705.,\n",
       "         179252.,  188633.,  197539.,  229895.,  241282.,  260313.,\n",
       "         264185.,  269596.,  279052.,  280277.,  302600.,  309582.,\n",
       "         317700.,  320627.,  321686.,  363054.,  394795.,  400000.,\n",
       "         405966.,  423049.,  429591.,  434318.,  447900.,  460668.,\n",
       "         498913.,  516342.,  527300.,  540479.,  564400.,  570723.,\n",
       "         581800.,  605400.,  655919.,  659400.,  694400.,  763953.,\n",
       "        1016400., 1023453., 1046700., 1081000., 1131615., 1187958.,\n",
       "        1197400., 1214100., 1239200., 1263500., 1272600., 1329200.,\n",
       "        1737800.]),\n",
       " array([2000, 2002, 2003, 2006, 2007]),\n",
       " array([  117.8 ,   162.04,   185.09,   263.68,   290.76,   295.02,\n",
       "          340.65,   341.43,   377.16,   390.2 ,   445.36,   725.9 ,\n",
       "          797.35,   919.11,  1029.92,  1052.88,  1232.03,  1243.43,\n",
       "         1254.17,  1363.56,  1426.34,  1612.65,  1672.96,  1804.  ,\n",
       "         1845.72,  1853.65,  1886.35,  2011.19,  2080.04,  2120.35,\n",
       "         2175.68,  2253.39,  2277.35,  2312.82,  2324.8 ,  2338.98,\n",
       "         2348.54,  2450.48,  2523.73,  2556.02,  2587.72,  2821.11,\n",
       "         2855.23,  2884.11,  2902.09,  3045.26,  3151.4 ,  3161.66,\n",
       "         3519.72,  3523.16,  3545.39,  3551.49,  3620.27,  3637.2 ,\n",
       "         3764.54,  3907.23,  3923.11,  3928.2 ,  3988.14,  4056.76,\n",
       "         4057.4 ,  4151.54,  4212.82,  4275.12,  4315.  ,  4462.74,\n",
       "         4467.55,  4659.99,  4676.13,  4725.01,  4743.61,  4746.16,\n",
       "         4757.45,  4772.52,  4820.53,  4983.67,  5007.21,  5043.96,\n",
       "         5052.99,  5333.09,  5757.29,  5823.41,  6035.48,  6112.5 ,\n",
       "         6211.8 ,  6867.7 ,  7104.  ,  7360.92,  7583.85,  7617.47,\n",
       "         7688.67,  7697.82,  8003.67,  8117.78,  8690.24,  9248.53,\n",
       "         9333.4 ,  9439.6 ,  9456.84,  9705.02,  9846.81, 10275.5 ,\n",
       "        10606.85, 10741.25, 12078.15, 12362.79, 13502.42, 13607.32,\n",
       "        15012.46, 15718.47, 15844.64, 18598.69, 18753.73, 21742.05,\n",
       "        21900.19, 25776.91, 26587.76, 31777.01]),\n",
       " array([      2,     293,     467,    1522,    1534,    1741,    1743,\n",
       "           1899,    1911,    2200,    2418,    2501,    2522,    2954,\n",
       "           3718,    3821,    4521,    4726,    5047,    6121,    6235,\n",
       "           8384,    9384,   10366,   11020,   11169,   12484,   12651,\n",
       "          12812,   21164,   21361,   22472,   24468,   28842,   30086,\n",
       "          30120,   30234,   31000,   31847,   32080,   32180,   33190,\n",
       "          33766,   35511,   36005,   36720,   38375,   39453,   39575,\n",
       "          40463,   41231,   41726,   41856,   43694,   44740,   52466,\n",
       "          53903,   55583,   56403,   66100,   67833,   67923,   68396,\n",
       "          69595,   76064,   90022,   92489,   94368,  101835,  108197,\n",
       "         108534,  112001,  119516,  120819,  139354,  142665,  156886,\n",
       "         168368,  170801,  172464,  184526,  208508,  219126,  241621,\n",
       "         242000,  244853,  259335,  259903,  276622,  280657,  299892,\n",
       "         306162,  307610,  322047,  327051,  343191,  383837,  406058,\n",
       "         413077,  455191,  473404,  498055,  506572,  601617,  607756,\n",
       "         691482,  782294,  888935, 1000069, 1018960, 1036576, 1101159,\n",
       "        1128091, 1133400, 1318339, 1451065, 1712603, 1743140]),\n",
       " array([0.        , 0.02702703, 0.03      , 0.03125   , 0.04761905,\n",
       "        0.09677419, 0.20512821, 0.22      , 0.4       , 1.21428571]),\n",
       " array([0.        , 0.03      , 0.03571429, 0.10869565, 0.11111111,\n",
       "        0.13      , 0.13888889, 0.15384615, 0.16      , 0.24      ,\n",
       "        0.27027027, 0.3       , 0.31      , 0.4       , 0.41025641,\n",
       "        0.4375    , 0.5       , 0.7948718 ]),\n",
       " array([0.        , 0.03571429, 0.05128205, 0.12820513, 0.13      ,\n",
       "        0.21621622, 0.22222222, 0.23076923, 0.27586207, 0.3       ,\n",
       "        0.32432432, 0.4       , 0.40625   , 0.47      , 0.51612903,\n",
       "        0.53      , 0.55      , 0.71052632, 0.8125    ]),\n",
       " array(['1060812', '1082935', '1089674', '1108348', '11537149', '1163113',\n",
       "        '11673659', '118013', '1212843', '123888', '1292604', '1310512',\n",
       "        '1321004', '1389153', '1443753', '147235', '14740022', '14926380',\n",
       "        '1514364', '1514799', '1543658', '1548155', '157652', '1600475',\n",
       "        '1601508', '16494981', '1667114', '16753980', '1675757', '1677840',\n",
       "        '16804703', '169770', '1710605', '1723026', '1755299', '1762409',\n",
       "        '1802055', '1807967', '1841592', '1851377', '1896479', '1913563',\n",
       "        '1925862', '1938812', '201412', '2018672', '2024337', '202761',\n",
       "        '2110577', '2125369', '2195820', '22377276', '2308652', '2329505',\n",
       "        '233299', '2373047', '2419708', '2450874', '2511249', '2523352',\n",
       "        '2525301', '2567976', '2648861', '27858007', '2823366', '2823413',\n",
       "        '2851375', '2858600', '2972212', '3206892', '3434548', '3444533',\n",
       "        '3816261', '3898510', '4032810', '4188265', '4247403', '4404689',\n",
       "        '4427000', '4468640', '447643', '4752398', '4830320', '4830392',\n",
       "        '4867146', '4958329', '505196', '50819', '5145006', '5596906',\n",
       "        '567083', '5903552', '597159', '59841', '6065508', '6166904',\n",
       "        '6212824', '6217715', '6879383', '693750', '6994577', '70048',\n",
       "        '7071605', '740947', '776120', '7891198', '800312', '830159',\n",
       "        '8620804', '8818088', '919235', '924080', '932549', '960708',\n",
       "        '966606', '971485', '974325', '9898522'], dtype=object),\n",
       " array(['East China', 'North China', 'Northeast China', 'Northwest China',\n",
       "        'South Central China', 'Southwest China'], dtype=object),\n",
       " array([  475184,   546541,   632880,   736165,   757990,   819028,\n",
       "          866691,   948521,   976396,  1047698,  1078754,  1109537,\n",
       "         1174622,  1184990,  1210637,  1216605,  1228569,  1258100,\n",
       "         1308445,  1333133,  1364344,  1364980,  1423771,  1426600,\n",
       "         1428990,  1440939,  1472622,  1492835,  1499110,  1554999,\n",
       "         1648826,  1658350,  1742585,  1782317,  1845611,  1873822,\n",
       "         1898911,  1927102,  1962192,  1962633,  1986738,  2017594,\n",
       "         2023674,  2047192,  2052220,  2053980,  2072426,  2135224,\n",
       "         2138158,  2138758,  2143190,  2150325,  2254281,  2261631,\n",
       "         2268499,  2339769,  2347862,  2355164,  2376983,  2378616,\n",
       "         2404936,  2444270,  2455900,  2545841,  2553268,  2649011,\n",
       "         2764053,  2815820,  2867525,  2907301,  2926542,  2939778,\n",
       "         2940367,  2977880,  3035767,  3051103,  3101537,  3114638,\n",
       "         3124234,  3343228,  3388449,  3545004,  3557071,  3586373,\n",
       "         3847158,  3893879,  3923569,  4039036,  4062020,  4073606,\n",
       "         4133488,  4229821,  4390259,  4559252,  4607955,  4613724,\n",
       "         4686125,  4947824,  5046865,  5167300,  5304833,  5502470,\n",
       "         5639838,  6003791,  6033279,  6185600,  6308151,  6349262,\n",
       "         6357869,  6832541,  7040099,  7537692,  7601825,  7646885,\n",
       "         7666512,  7968319,  8340692, 10533312])]"
      ]
     },
     "execution_count": 194,
     "metadata": {},
     "output_type": "execute_result"
    }
   ],
   "source": [
    "ohe.categories_"
   ]
  },
  {
   "cell_type": "markdown",
   "metadata": {},
   "source": [
    "## Two categorical features"
   ]
  },
  {
   "cell_type": "code",
   "execution_count": 195,
   "metadata": {},
   "outputs": [],
   "source": [
    "df_train = pd.DataFrame({\n",
    "    \"province\": [\"Zhejiang\", \"Beijing\", \"Shanghai\"],\n",
    "    \"region\": [\"East China\", \"North China\", \"Southwest China\"]\n",
    "})"
   ]
  },
  {
   "cell_type": "code",
   "execution_count": 196,
   "metadata": {},
   "outputs": [
    {
     "data": {
      "text/html": [
       "<style>div.sk-top-container {color: black;background-color: white;}div.sk-toggleable {background-color: white;}label.sk-toggleable__label {cursor: pointer;display: block;width: 100%;margin-bottom: 0;padding: 0.2em 0.3em;box-sizing: border-box;text-align: center;}div.sk-toggleable__content {max-height: 0;max-width: 0;overflow: hidden;text-align: left;background-color: #f0f8ff;}div.sk-toggleable__content pre {margin: 0.2em;color: black;border-radius: 0.25em;background-color: #f0f8ff;}input.sk-toggleable__control:checked~div.sk-toggleable__content {max-height: 200px;max-width: 100%;overflow: auto;}div.sk-estimator input.sk-toggleable__control:checked~label.sk-toggleable__label {background-color: #d4ebff;}div.sk-label input.sk-toggleable__control:checked~label.sk-toggleable__label {background-color: #d4ebff;}input.sk-hidden--visually {border: 0;clip: rect(1px 1px 1px 1px);clip: rect(1px, 1px, 1px, 1px);height: 1px;margin: -1px;overflow: hidden;padding: 0;position: absolute;width: 1px;}div.sk-estimator {font-family: monospace;background-color: #f0f8ff;margin: 0.25em 0.25em;border: 1px dotted black;border-radius: 0.25em;box-sizing: border-box;}div.sk-estimator:hover {background-color: #d4ebff;}div.sk-parallel-item::after {content: \"\";width: 100%;border-bottom: 1px solid gray;flex-grow: 1;}div.sk-label:hover label.sk-toggleable__label {background-color: #d4ebff;}div.sk-serial::before {content: \"\";position: absolute;border-left: 1px solid gray;box-sizing: border-box;top: 2em;bottom: 0;left: 50%;}div.sk-serial {display: flex;flex-direction: column;align-items: center;background-color: white;}div.sk-item {z-index: 1;}div.sk-parallel {display: flex;align-items: stretch;justify-content: center;background-color: white;}div.sk-parallel-item {display: flex;flex-direction: column;position: relative;background-color: white;}div.sk-parallel-item:first-child::after {align-self: flex-end;width: 50%;}div.sk-parallel-item:last-child::after {align-self: flex-start;width: 50%;}div.sk-parallel-item:only-child::after {width: 0;}div.sk-dashed-wrapped {border: 1px dashed gray;margin: 0.2em;box-sizing: border-box;padding-bottom: 0.1em;background-color: white;position: relative;}div.sk-label label {font-family: monospace;font-weight: bold;background-color: white;display: inline-block;line-height: 1.2em;}div.sk-label-container {position: relative;z-index: 2;text-align: center;}div.sk-container {display: inline-block;position: relative;}</style><div class=\"sk-top-container\"><div class=\"sk-container\"><div class=\"sk-item\"><div class=\"sk-estimator sk-toggleable\"><input class=\"sk-toggleable__control sk-hidden--visually\" id=\"3de2939f-e7cf-4da3-bcb9-ddfcbb49045e\" type=\"checkbox\" checked><label class=\"sk-toggleable__label\" for=\"3de2939f-e7cf-4da3-bcb9-ddfcbb49045e\">OneHotEncoder</label><div class=\"sk-toggleable__content\"><pre>OneHotEncoder(handle_unknown='ignore', sparse=False)</pre></div></div></div></div></div>"
      ],
      "text/plain": [
       "OneHotEncoder(handle_unknown='ignore', sparse=False)"
      ]
     },
     "execution_count": 196,
     "metadata": {},
     "output_type": "execute_result"
    }
   ],
   "source": [
    "ohe.fit(df_train)"
   ]
  },
  {
   "cell_type": "code",
   "execution_count": 197,
   "metadata": {},
   "outputs": [
    {
     "data": {
      "text/plain": [
       "[array(['Beijing', 'Shanghai', 'Zhejiang'], dtype=object),\n",
       " array(['East China', 'North China', 'Southwest China'], dtype=object)]"
      ]
     },
     "execution_count": 197,
     "metadata": {},
     "output_type": "execute_result"
    }
   ],
   "source": [
    "ohe.categories_"
   ]
  },
  {
   "cell_type": "code",
   "execution_count": 198,
   "metadata": {},
   "outputs": [
    {
     "data": {
      "text/plain": [
       "array([[0., 0., 1., 1., 0., 0.],\n",
       "       [1., 0., 0., 0., 1., 0.],\n",
       "       [0., 1., 0., 0., 0., 1.]])"
      ]
     },
     "execution_count": 198,
     "metadata": {},
     "output_type": "execute_result"
    }
   ],
   "source": [
    "ohe.transform(df_train)"
   ]
  },
  {
   "cell_type": "markdown",
   "metadata": {},
   "source": [
    "# Column Transformer!"
   ]
  },
  {
   "cell_type": "markdown",
   "metadata": {},
   "source": [
    "## With OridinalEncoder"
   ]
  },
  {
   "cell_type": "code",
   "execution_count": 199,
   "metadata": {},
   "outputs": [],
   "source": [
    "from sklearn.compose import ColumnTransformer\n",
    "from sklearn.preprocessing import StandardScaler"
   ]
  },
  {
   "cell_type": "code",
   "execution_count": 200,
   "metadata": {},
   "outputs": [
    {
     "data": {
      "text/html": [
       "<div>\n",
       "<style scoped>\n",
       "    .dataframe tbody tr th:only-of-type {\n",
       "        vertical-align: middle;\n",
       "    }\n",
       "\n",
       "    .dataframe tbody tr th {\n",
       "        vertical-align: top;\n",
       "    }\n",
       "\n",
       "    .dataframe thead th {\n",
       "        text-align: right;\n",
       "    }\n",
       "</style>\n",
       "<table border=\"1\" class=\"dataframe\">\n",
       "  <thead>\n",
       "    <tr style=\"text-align: right;\">\n",
       "      <th></th>\n",
       "      <th>Unnamed: 0</th>\n",
       "      <th>province</th>\n",
       "      <th>specific</th>\n",
       "      <th>general</th>\n",
       "      <th>year</th>\n",
       "      <th>gdp</th>\n",
       "      <th>fdi</th>\n",
       "      <th>rnr</th>\n",
       "      <th>rr</th>\n",
       "      <th>i</th>\n",
       "      <th>fr</th>\n",
       "      <th>reg</th>\n",
       "      <th>it</th>\n",
       "    </tr>\n",
       "  </thead>\n",
       "  <tbody>\n",
       "    <tr>\n",
       "      <th>4</th>\n",
       "      <td>4</td>\n",
       "      <td>Anhui</td>\n",
       "      <td>195580.0</td>\n",
       "      <td>32100.0</td>\n",
       "      <td>2000</td>\n",
       "      <td>2902.09</td>\n",
       "      <td>31847</td>\n",
       "      <td>0.000000</td>\n",
       "      <td>0.000000</td>\n",
       "      <td>0.000000</td>\n",
       "      <td>1601508</td>\n",
       "      <td>East China</td>\n",
       "      <td>1499110</td>\n",
       "    </tr>\n",
       "    <tr>\n",
       "      <th>6</th>\n",
       "      <td>6</td>\n",
       "      <td>Anhui</td>\n",
       "      <td>434149.0</td>\n",
       "      <td>66529.0</td>\n",
       "      <td>2002</td>\n",
       "      <td>3519.72</td>\n",
       "      <td>38375</td>\n",
       "      <td>0.000000</td>\n",
       "      <td>0.000000</td>\n",
       "      <td>0.000000</td>\n",
       "      <td>1677840</td>\n",
       "      <td>East China</td>\n",
       "      <td>2404936</td>\n",
       "    </tr>\n",
       "    <tr>\n",
       "      <th>7</th>\n",
       "      <td>7</td>\n",
       "      <td>Anhui</td>\n",
       "      <td>619201.0</td>\n",
       "      <td>52108.0</td>\n",
       "      <td>2003</td>\n",
       "      <td>3923.11</td>\n",
       "      <td>36720</td>\n",
       "      <td>0.000000</td>\n",
       "      <td>0.000000</td>\n",
       "      <td>0.000000</td>\n",
       "      <td>1896479</td>\n",
       "      <td>East China</td>\n",
       "      <td>2815820</td>\n",
       "    </tr>\n",
       "    <tr>\n",
       "      <th>10</th>\n",
       "      <td>10</td>\n",
       "      <td>Anhui</td>\n",
       "      <td>1457872.0</td>\n",
       "      <td>279052.0</td>\n",
       "      <td>2006</td>\n",
       "      <td>6112.50</td>\n",
       "      <td>139354</td>\n",
       "      <td>0.000000</td>\n",
       "      <td>0.000000</td>\n",
       "      <td>0.324324</td>\n",
       "      <td>3434548</td>\n",
       "      <td>East China</td>\n",
       "      <td>5167300</td>\n",
       "    </tr>\n",
       "    <tr>\n",
       "      <th>11</th>\n",
       "      <td>11</td>\n",
       "      <td>Anhui</td>\n",
       "      <td>2213991.0</td>\n",
       "      <td>178705.0</td>\n",
       "      <td>2007</td>\n",
       "      <td>7360.92</td>\n",
       "      <td>299892</td>\n",
       "      <td>0.000000</td>\n",
       "      <td>0.000000</td>\n",
       "      <td>0.324324</td>\n",
       "      <td>4468640</td>\n",
       "      <td>East China</td>\n",
       "      <td>7040099</td>\n",
       "    </tr>\n",
       "    <tr>\n",
       "      <th>...</th>\n",
       "      <td>...</td>\n",
       "      <td>...</td>\n",
       "      <td>...</td>\n",
       "      <td>...</td>\n",
       "      <td>...</td>\n",
       "      <td>...</td>\n",
       "      <td>...</td>\n",
       "      <td>...</td>\n",
       "      <td>...</td>\n",
       "      <td>...</td>\n",
       "      <td>...</td>\n",
       "      <td>...</td>\n",
       "      <td>...</td>\n",
       "    </tr>\n",
       "    <tr>\n",
       "      <th>347</th>\n",
       "      <td>347</td>\n",
       "      <td>Yunnan</td>\n",
       "      <td>2482173.0</td>\n",
       "      <td>564400.0</td>\n",
       "      <td>2007</td>\n",
       "      <td>4772.52</td>\n",
       "      <td>39453</td>\n",
       "      <td>0.000000</td>\n",
       "      <td>0.000000</td>\n",
       "      <td>0.000000</td>\n",
       "      <td>4867146</td>\n",
       "      <td>Southwest China</td>\n",
       "      <td>6832541</td>\n",
       "    </tr>\n",
       "    <tr>\n",
       "      <th>354</th>\n",
       "      <td>354</td>\n",
       "      <td>Zhejiang</td>\n",
       "      <td>365437.0</td>\n",
       "      <td>321686.0</td>\n",
       "      <td>2002</td>\n",
       "      <td>8003.67</td>\n",
       "      <td>307610</td>\n",
       "      <td>0.000000</td>\n",
       "      <td>0.000000</td>\n",
       "      <td>0.000000</td>\n",
       "      <td>4958329</td>\n",
       "      <td>East China</td>\n",
       "      <td>1962633</td>\n",
       "    </tr>\n",
       "    <tr>\n",
       "      <th>355</th>\n",
       "      <td>355</td>\n",
       "      <td>Zhejiang</td>\n",
       "      <td>391292.0</td>\n",
       "      <td>260313.0</td>\n",
       "      <td>2003</td>\n",
       "      <td>9705.02</td>\n",
       "      <td>498055</td>\n",
       "      <td>1.214286</td>\n",
       "      <td>0.035714</td>\n",
       "      <td>0.035714</td>\n",
       "      <td>6217715</td>\n",
       "      <td>East China</td>\n",
       "      <td>2261631</td>\n",
       "    </tr>\n",
       "    <tr>\n",
       "      <th>358</th>\n",
       "      <td>358</td>\n",
       "      <td>Zhejiang</td>\n",
       "      <td>1017303.0</td>\n",
       "      <td>394795.0</td>\n",
       "      <td>2006</td>\n",
       "      <td>15718.47</td>\n",
       "      <td>888935</td>\n",
       "      <td>1.214286</td>\n",
       "      <td>0.035714</td>\n",
       "      <td>0.035714</td>\n",
       "      <td>11537149</td>\n",
       "      <td>East China</td>\n",
       "      <td>2553268</td>\n",
       "    </tr>\n",
       "    <tr>\n",
       "      <th>359</th>\n",
       "      <td>359</td>\n",
       "      <td>Zhejiang</td>\n",
       "      <td>844647.0</td>\n",
       "      <td>0.0</td>\n",
       "      <td>2007</td>\n",
       "      <td>18753.73</td>\n",
       "      <td>1036576</td>\n",
       "      <td>0.047619</td>\n",
       "      <td>0.000000</td>\n",
       "      <td>0.000000</td>\n",
       "      <td>16494981</td>\n",
       "      <td>East China</td>\n",
       "      <td>2939778</td>\n",
       "    </tr>\n",
       "  </tbody>\n",
       "</table>\n",
       "<p>118 rows × 13 columns</p>\n",
       "</div>"
      ],
      "text/plain": [
       "     Unnamed: 0  province   specific   general  year       gdp      fdi  \\\n",
       "4             4     Anhui   195580.0   32100.0  2000   2902.09    31847   \n",
       "6             6     Anhui   434149.0   66529.0  2002   3519.72    38375   \n",
       "7             7     Anhui   619201.0   52108.0  2003   3923.11    36720   \n",
       "10           10     Anhui  1457872.0  279052.0  2006   6112.50   139354   \n",
       "11           11     Anhui  2213991.0  178705.0  2007   7360.92   299892   \n",
       "..          ...       ...        ...       ...   ...       ...      ...   \n",
       "347         347    Yunnan  2482173.0  564400.0  2007   4772.52    39453   \n",
       "354         354  Zhejiang   365437.0  321686.0  2002   8003.67   307610   \n",
       "355         355  Zhejiang   391292.0  260313.0  2003   9705.02   498055   \n",
       "358         358  Zhejiang  1017303.0  394795.0  2006  15718.47   888935   \n",
       "359         359  Zhejiang   844647.0       0.0  2007  18753.73  1036576   \n",
       "\n",
       "          rnr        rr         i        fr              reg       it  \n",
       "4    0.000000  0.000000  0.000000   1601508       East China  1499110  \n",
       "6    0.000000  0.000000  0.000000   1677840       East China  2404936  \n",
       "7    0.000000  0.000000  0.000000   1896479       East China  2815820  \n",
       "10   0.000000  0.000000  0.324324   3434548       East China  5167300  \n",
       "11   0.000000  0.000000  0.324324   4468640       East China  7040099  \n",
       "..        ...       ...       ...       ...              ...      ...  \n",
       "347  0.000000  0.000000  0.000000   4867146  Southwest China  6832541  \n",
       "354  0.000000  0.000000  0.000000   4958329       East China  1962633  \n",
       "355  1.214286  0.035714  0.035714   6217715       East China  2261631  \n",
       "358  1.214286  0.035714  0.035714  11537149       East China  2553268  \n",
       "359  0.047619  0.000000  0.000000  16494981       East China  2939778  \n",
       "\n",
       "[118 rows x 13 columns]"
      ]
     },
     "execution_count": 200,
     "metadata": {},
     "output_type": "execute_result"
    }
   ],
   "source": [
    "df"
   ]
  },
  {
   "cell_type": "code",
   "execution_count": 201,
   "metadata": {},
   "outputs": [
    {
     "data": {
      "text/plain": [
       "array([[-0.54088554, -0.48498461,  0.        ],\n",
       "       [-0.52313911, -0.37867596,  0.        ],\n",
       "       [-0.52763824, -0.30924305,  0.        ],\n",
       "       [-0.24862668,  0.06760246,  0.        ],\n",
       "       [ 0.18779748,  0.28248491,  0.        ],\n",
       "       [-0.16975183, -0.44030651,  1.        ],\n",
       "       [-0.15861681, -0.24178957,  1.        ],\n",
       "       [-0.0317657 , -0.12264395,  1.        ],\n",
       "       [ 0.60997938,  0.41275831,  1.        ],\n",
       "       [ 0.74965914,  0.71036505,  1.        ],\n",
       "       [-0.43826722, -0.31197638,  5.        ],\n",
       "       [-0.33241116, -0.1796306 ,  5.        ],\n",
       "       [ 0.30550625, -0.33653668,  0.        ],\n",
       "       [ 0.41600281, -0.21553212,  0.        ],\n",
       "       [ 0.07908699, -0.12669573,  0.        ],\n",
       "       [ 0.24802608,  0.3208564 ,  0.        ],\n",
       "       [ 0.47641082,  0.60738699,  0.        ],\n",
       "       [-0.61051202, -0.80327715,  3.        ],\n",
       "       [-0.61082193, -0.77244122,  3.        ],\n",
       "       [-0.61943145, -0.59251706,  3.        ],\n",
       "       [ 2.43926479,  0.86431921,  4.        ],\n",
       "       [ 2.45369736,  1.33958151,  4.        ],\n",
       "       [ 1.49921217,  1.74273266,  4.        ],\n",
       "       [ 3.31727285,  3.5918763 ,  4.        ],\n",
       "       [ 4.02826654,  4.48506828,  4.        ],\n",
       "       [-0.48483258, -0.62647875,  4.        ],\n",
       "       [-0.51402938, -0.55010927,  4.        ],\n",
       "       [-0.51367597, -0.49892317,  4.        ],\n",
       "       [-0.50583579, -0.16757679,  4.        ],\n",
       "       [-0.44152672,  0.01784327,  4.        ],\n",
       "       [-0.62066294, -0.8072291 ,  5.        ],\n",
       "       [-0.6170745 , -0.77047901,  5.        ],\n",
       "       [-0.61517155, -0.7389959 ,  5.        ],\n",
       "       [-0.60195143, -0.58190909,  5.        ],\n",
       "       [-0.59307006, -0.48807939,  5.        ],\n",
       "       [-0.32298609, -0.7686304 ,  4.        ],\n",
       "       [-0.44281257, -0.11631841,  1.        ],\n",
       "       [ 0.02938719,  1.35763727,  1.        ],\n",
       "       [-0.54567284, -0.4420725 ,  2.        ],\n",
       "       [-0.53092492, -0.35845489,  2.        ],\n",
       "       [-0.53998028, -0.28612859,  2.        ],\n",
       "       [-0.1631377 ,  0.08469433,  2.        ],\n",
       "       [-0.06063084,  0.23826293,  2.        ],\n",
       "       [-0.47412981, -0.11476413,  4.        ],\n",
       "       [-0.51746286,  0.05434551,  4.        ],\n",
       "       [-0.48092608,  0.19759014,  4.        ],\n",
       "       [-0.12582615,  1.14342438,  4.        ],\n",
       "       [ 0.20484254,  1.59949491,  4.        ],\n",
       "       [-0.37092157, -0.37425755,  4.        ],\n",
       "       [-0.23962569, -0.25937715,  4.        ],\n",
       "       [-0.20096576, -0.16563352,  4.        ],\n",
       "       [ 0.03817341,  0.3266432 ,  4.        ],\n",
       "       [ 0.12453776,  0.62199511,  4.        ],\n",
       "       [-0.44305724, -0.3732076 ,  4.        ],\n",
       "       [-0.38273622, -0.26992488,  4.        ],\n",
       "       [-0.35062246, -0.18240867,  4.        ],\n",
       "       [ 0.07754287,  0.33889839,  4.        ],\n",
       "       [ 0.2616295 ,  0.64027463,  4.        ],\n",
       "       [ 1.02472886,  0.34047332,  0.        ],\n",
       "       [ 1.25233884,  0.64324204,  0.        ],\n",
       "       [ 2.14259107,  0.84118581,  0.        ],\n",
       "       [ 2.95645589,  2.21676944,  0.        ],\n",
       "       [ 4.11128168,  2.75781563,  0.        ],\n",
       "       [-0.54025213, -0.6654458 ,  0.        ],\n",
       "       [-0.5198769 , -0.61001686,  0.        ],\n",
       "       [-0.3333273 , -0.56271731,  0.        ],\n",
       "       [ 0.0304175 , -0.28623875,  0.        ],\n",
       "       [ 0.13550694, -0.15477596,  0.        ],\n",
       "       [-0.54558041, -0.69654679,  2.        ],\n",
       "       [-0.53566872, -0.61954045,  2.        ],\n",
       "       [-0.56094543, -0.58026359,  2.        ],\n",
       "       [-0.44776842, -0.36136894,  2.        ],\n",
       "       [-0.42068118, -0.24865385,  2.        ],\n",
       "       [-0.62272901, -0.93372268,  3.        ],\n",
       "       [-0.62148121, -0.91958445,  3.        ],\n",
       "       [-0.62272357, -0.90784563,  3.        ],\n",
       "       [-0.61735451, -0.8595581 ,  3.        ],\n",
       "       [-0.61374161, -0.82630211,  3.        ],\n",
       "       [-0.59750395, -0.93911703,  3.        ],\n",
       "       [-0.61461425, -0.92586868,  3.        ],\n",
       "       [-0.62060585, -0.91733996,  3.        ],\n",
       "       [-0.54318812, -0.84725987,  3.        ],\n",
       "       [-0.54905466, -0.67399173,  3.        ],\n",
       "       [-0.52958198, -0.59664114,  3.        ],\n",
       "       [-0.53723458, -0.53909508,  3.        ],\n",
       "       [-0.37602966, -0.16801571,  3.        ],\n",
       "       [-0.30255648,  0.00646247,  3.        ],\n",
       "       [ 0.6594916 ,  0.78415268,  0.        ],\n",
       "       [ 1.00803993,  1.09443114,  0.        ],\n",
       "       [ 2.0912357 ,  2.78503525,  0.        ],\n",
       "       [ 2.36604988,  3.45230994,  0.        ],\n",
       "       [-0.56637157, -0.66681073,  1.        ],\n",
       "       [-0.56992738, -0.5843498 ,  1.        ],\n",
       "       [-0.56939184, -0.49305032,  1.        ],\n",
       "       [-0.50867935, -0.30836695,  5.        ],\n",
       "       [-0.47635899, -0.1712172 ,  5.        ],\n",
       "       [-0.51537504, -0.06655233,  5.        ],\n",
       "       [-0.29901427,  0.51129215,  5.        ],\n",
       "       [ 0.49549204, -0.21636004,  1.        ],\n",
       "       [-0.62745649, -0.96422641,  5.        ],\n",
       "       [-0.62666541, -0.95661166,  5.        ],\n",
       "       [-0.62619239, -0.95264422,  5.        ],\n",
       "       [-0.62332436, -0.93445592,  5.        ],\n",
       "       [-0.62088857, -0.92573443,  5.        ],\n",
       "       [-0.62226686, -0.74980181,  3.        ],\n",
       "       [-0.62229948, -0.70692756,  3.        ],\n",
       "       [-0.62329174, -0.65981736,  3.        ],\n",
       "       [-0.59928186, -0.46034169,  3.        ],\n",
       "       [-0.59352405, -0.37808386,  3.        ],\n",
       "       [-0.59263238, -0.63832946,  5.        ],\n",
       "       [-0.59709889, -0.58641184,  5.        ],\n",
       "       [-0.60466994, -0.5445514 ,  5.        ],\n",
       "       [-0.5452705 , -0.29804986,  5.        ],\n",
       "       [-0.52020855, -0.16303961,  5.        ],\n",
       "       [ 0.20877895,  0.3931173 ,  0.        ],\n",
       "       [ 0.72650559,  0.68595965,  0.        ],\n",
       "       [ 1.7891168 ,  1.72101584,  0.        ],\n",
       "       [ 2.19048034,  2.24345547,  0.        ]])"
      ]
     },
     "execution_count": 201,
     "metadata": {},
     "output_type": "execute_result"
    }
   ],
   "source": [
    "ct = ColumnTransformer([\n",
    "    ('numerical', StandardScaler(), ['fdi', 'gdp']),\n",
    "    ('categorical', OrdinalEncoder(), ['reg'])\n",
    "])\n",
    "\n",
    "ct.fit_transform(df)"
   ]
  },
  {
   "cell_type": "markdown",
   "metadata": {},
   "source": [
    "## With OneHotEncoder"
   ]
  },
  {
   "cell_type": "code",
   "execution_count": 202,
   "metadata": {},
   "outputs": [],
   "source": [
    "ct = ColumnTransformer([\n",
    "    ('numerical', StandardScaler(), ['fdi', 'gdp']),\n",
    "    ('categorical', OneHotEncoder(), ['reg'])\n",
    "])"
   ]
  },
  {
   "cell_type": "code",
   "execution_count": 203,
   "metadata": {},
   "outputs": [
    {
     "data": {
      "text/plain": [
       "array([[-0.54088554, -0.48498461,  1.        ,  0.        ,  0.        ,\n",
       "         0.        ,  0.        ,  0.        ],\n",
       "       [-0.52313911, -0.37867596,  1.        ,  0.        ,  0.        ,\n",
       "         0.        ,  0.        ,  0.        ],\n",
       "       [-0.52763824, -0.30924305,  1.        ,  0.        ,  0.        ,\n",
       "         0.        ,  0.        ,  0.        ],\n",
       "       [-0.24862668,  0.06760246,  1.        ,  0.        ,  0.        ,\n",
       "         0.        ,  0.        ,  0.        ],\n",
       "       [ 0.18779748,  0.28248491,  1.        ,  0.        ,  0.        ,\n",
       "         0.        ,  0.        ,  0.        ],\n",
       "       [-0.16975183, -0.44030651,  0.        ,  1.        ,  0.        ,\n",
       "         0.        ,  0.        ,  0.        ],\n",
       "       [-0.15861681, -0.24178957,  0.        ,  1.        ,  0.        ,\n",
       "         0.        ,  0.        ,  0.        ],\n",
       "       [-0.0317657 , -0.12264395,  0.        ,  1.        ,  0.        ,\n",
       "         0.        ,  0.        ,  0.        ],\n",
       "       [ 0.60997938,  0.41275831,  0.        ,  1.        ,  0.        ,\n",
       "         0.        ,  0.        ,  0.        ],\n",
       "       [ 0.74965914,  0.71036505,  0.        ,  1.        ,  0.        ,\n",
       "         0.        ,  0.        ,  0.        ],\n",
       "       [-0.43826722, -0.31197638,  0.        ,  0.        ,  0.        ,\n",
       "         0.        ,  0.        ,  1.        ],\n",
       "       [-0.33241116, -0.1796306 ,  0.        ,  0.        ,  0.        ,\n",
       "         0.        ,  0.        ,  1.        ],\n",
       "       [ 0.30550625, -0.33653668,  1.        ,  0.        ,  0.        ,\n",
       "         0.        ,  0.        ,  0.        ],\n",
       "       [ 0.41600281, -0.21553212,  1.        ,  0.        ,  0.        ,\n",
       "         0.        ,  0.        ,  0.        ],\n",
       "       [ 0.07908699, -0.12669573,  1.        ,  0.        ,  0.        ,\n",
       "         0.        ,  0.        ,  0.        ],\n",
       "       [ 0.24802608,  0.3208564 ,  1.        ,  0.        ,  0.        ,\n",
       "         0.        ,  0.        ,  0.        ],\n",
       "       [ 0.47641082,  0.60738699,  1.        ,  0.        ,  0.        ,\n",
       "         0.        ,  0.        ,  0.        ],\n",
       "       [-0.61051202, -0.80327715,  0.        ,  0.        ,  0.        ,\n",
       "         1.        ,  0.        ,  0.        ],\n",
       "       [-0.61082193, -0.77244122,  0.        ,  0.        ,  0.        ,\n",
       "         1.        ,  0.        ,  0.        ],\n",
       "       [-0.61943145, -0.59251706,  0.        ,  0.        ,  0.        ,\n",
       "         1.        ,  0.        ,  0.        ],\n",
       "       [ 2.43926479,  0.86431921,  0.        ,  0.        ,  0.        ,\n",
       "         0.        ,  1.        ,  0.        ],\n",
       "       [ 2.45369736,  1.33958151,  0.        ,  0.        ,  0.        ,\n",
       "         0.        ,  1.        ,  0.        ],\n",
       "       [ 1.49921217,  1.74273266,  0.        ,  0.        ,  0.        ,\n",
       "         0.        ,  1.        ,  0.        ],\n",
       "       [ 3.31727285,  3.5918763 ,  0.        ,  0.        ,  0.        ,\n",
       "         0.        ,  1.        ,  0.        ],\n",
       "       [ 4.02826654,  4.48506828,  0.        ,  0.        ,  0.        ,\n",
       "         0.        ,  1.        ,  0.        ],\n",
       "       [-0.48483258, -0.62647875,  0.        ,  0.        ,  0.        ,\n",
       "         0.        ,  1.        ,  0.        ],\n",
       "       [-0.51402938, -0.55010927,  0.        ,  0.        ,  0.        ,\n",
       "         0.        ,  1.        ,  0.        ],\n",
       "       [-0.51367597, -0.49892317,  0.        ,  0.        ,  0.        ,\n",
       "         0.        ,  1.        ,  0.        ],\n",
       "       [-0.50583579, -0.16757679,  0.        ,  0.        ,  0.        ,\n",
       "         0.        ,  1.        ,  0.        ],\n",
       "       [-0.44152672,  0.01784327,  0.        ,  0.        ,  0.        ,\n",
       "         0.        ,  1.        ,  0.        ],\n",
       "       [-0.62066294, -0.8072291 ,  0.        ,  0.        ,  0.        ,\n",
       "         0.        ,  0.        ,  1.        ],\n",
       "       [-0.6170745 , -0.77047901,  0.        ,  0.        ,  0.        ,\n",
       "         0.        ,  0.        ,  1.        ],\n",
       "       [-0.61517155, -0.7389959 ,  0.        ,  0.        ,  0.        ,\n",
       "         0.        ,  0.        ,  1.        ],\n",
       "       [-0.60195143, -0.58190909,  0.        ,  0.        ,  0.        ,\n",
       "         0.        ,  0.        ,  1.        ],\n",
       "       [-0.59307006, -0.48807939,  0.        ,  0.        ,  0.        ,\n",
       "         0.        ,  0.        ,  1.        ],\n",
       "       [-0.32298609, -0.7686304 ,  0.        ,  0.        ,  0.        ,\n",
       "         0.        ,  1.        ,  0.        ],\n",
       "       [-0.44281257, -0.11631841,  0.        ,  1.        ,  0.        ,\n",
       "         0.        ,  0.        ,  0.        ],\n",
       "       [ 0.02938719,  1.35763727,  0.        ,  1.        ,  0.        ,\n",
       "         0.        ,  0.        ,  0.        ],\n",
       "       [-0.54567284, -0.4420725 ,  0.        ,  0.        ,  1.        ,\n",
       "         0.        ,  0.        ,  0.        ],\n",
       "       [-0.53092492, -0.35845489,  0.        ,  0.        ,  1.        ,\n",
       "         0.        ,  0.        ,  0.        ],\n",
       "       [-0.53998028, -0.28612859,  0.        ,  0.        ,  1.        ,\n",
       "         0.        ,  0.        ,  0.        ],\n",
       "       [-0.1631377 ,  0.08469433,  0.        ,  0.        ,  1.        ,\n",
       "         0.        ,  0.        ,  0.        ],\n",
       "       [-0.06063084,  0.23826293,  0.        ,  0.        ,  1.        ,\n",
       "         0.        ,  0.        ,  0.        ],\n",
       "       [-0.47412981, -0.11476413,  0.        ,  0.        ,  0.        ,\n",
       "         0.        ,  1.        ,  0.        ],\n",
       "       [-0.51746286,  0.05434551,  0.        ,  0.        ,  0.        ,\n",
       "         0.        ,  1.        ,  0.        ],\n",
       "       [-0.48092608,  0.19759014,  0.        ,  0.        ,  0.        ,\n",
       "         0.        ,  1.        ,  0.        ],\n",
       "       [-0.12582615,  1.14342438,  0.        ,  0.        ,  0.        ,\n",
       "         0.        ,  1.        ,  0.        ],\n",
       "       [ 0.20484254,  1.59949491,  0.        ,  0.        ,  0.        ,\n",
       "         0.        ,  1.        ,  0.        ],\n",
       "       [-0.37092157, -0.37425755,  0.        ,  0.        ,  0.        ,\n",
       "         0.        ,  1.        ,  0.        ],\n",
       "       [-0.23962569, -0.25937715,  0.        ,  0.        ,  0.        ,\n",
       "         0.        ,  1.        ,  0.        ],\n",
       "       [-0.20096576, -0.16563352,  0.        ,  0.        ,  0.        ,\n",
       "         0.        ,  1.        ,  0.        ],\n",
       "       [ 0.03817341,  0.3266432 ,  0.        ,  0.        ,  0.        ,\n",
       "         0.        ,  1.        ,  0.        ],\n",
       "       [ 0.12453776,  0.62199511,  0.        ,  0.        ,  0.        ,\n",
       "         0.        ,  1.        ,  0.        ],\n",
       "       [-0.44305724, -0.3732076 ,  0.        ,  0.        ,  0.        ,\n",
       "         0.        ,  1.        ,  0.        ],\n",
       "       [-0.38273622, -0.26992488,  0.        ,  0.        ,  0.        ,\n",
       "         0.        ,  1.        ,  0.        ],\n",
       "       [-0.35062246, -0.18240867,  0.        ,  0.        ,  0.        ,\n",
       "         0.        ,  1.        ,  0.        ],\n",
       "       [ 0.07754287,  0.33889839,  0.        ,  0.        ,  0.        ,\n",
       "         0.        ,  1.        ,  0.        ],\n",
       "       [ 0.2616295 ,  0.64027463,  0.        ,  0.        ,  0.        ,\n",
       "         0.        ,  1.        ,  0.        ],\n",
       "       [ 1.02472886,  0.34047332,  1.        ,  0.        ,  0.        ,\n",
       "         0.        ,  0.        ,  0.        ],\n",
       "       [ 1.25233884,  0.64324204,  1.        ,  0.        ,  0.        ,\n",
       "         0.        ,  0.        ,  0.        ],\n",
       "       [ 2.14259107,  0.84118581,  1.        ,  0.        ,  0.        ,\n",
       "         0.        ,  0.        ,  0.        ],\n",
       "       [ 2.95645589,  2.21676944,  1.        ,  0.        ,  0.        ,\n",
       "         0.        ,  0.        ,  0.        ],\n",
       "       [ 4.11128168,  2.75781563,  1.        ,  0.        ,  0.        ,\n",
       "         0.        ,  0.        ,  0.        ],\n",
       "       [-0.54025213, -0.6654458 ,  1.        ,  0.        ,  0.        ,\n",
       "         0.        ,  0.        ,  0.        ],\n",
       "       [-0.5198769 , -0.61001686,  1.        ,  0.        ,  0.        ,\n",
       "         0.        ,  0.        ,  0.        ],\n",
       "       [-0.3333273 , -0.56271731,  1.        ,  0.        ,  0.        ,\n",
       "         0.        ,  0.        ,  0.        ],\n",
       "       [ 0.0304175 , -0.28623875,  1.        ,  0.        ,  0.        ,\n",
       "         0.        ,  0.        ,  0.        ],\n",
       "       [ 0.13550694, -0.15477596,  1.        ,  0.        ,  0.        ,\n",
       "         0.        ,  0.        ,  0.        ],\n",
       "       [-0.54558041, -0.69654679,  0.        ,  0.        ,  1.        ,\n",
       "         0.        ,  0.        ,  0.        ],\n",
       "       [-0.53566872, -0.61954045,  0.        ,  0.        ,  1.        ,\n",
       "         0.        ,  0.        ,  0.        ],\n",
       "       [-0.56094543, -0.58026359,  0.        ,  0.        ,  1.        ,\n",
       "         0.        ,  0.        ,  0.        ],\n",
       "       [-0.44776842, -0.36136894,  0.        ,  0.        ,  1.        ,\n",
       "         0.        ,  0.        ,  0.        ],\n",
       "       [-0.42068118, -0.24865385,  0.        ,  0.        ,  1.        ,\n",
       "         0.        ,  0.        ,  0.        ],\n",
       "       [-0.62272901, -0.93372268,  0.        ,  0.        ,  0.        ,\n",
       "         1.        ,  0.        ,  0.        ],\n",
       "       [-0.62148121, -0.91958445,  0.        ,  0.        ,  0.        ,\n",
       "         1.        ,  0.        ,  0.        ],\n",
       "       [-0.62272357, -0.90784563,  0.        ,  0.        ,  0.        ,\n",
       "         1.        ,  0.        ,  0.        ],\n",
       "       [-0.61735451, -0.8595581 ,  0.        ,  0.        ,  0.        ,\n",
       "         1.        ,  0.        ,  0.        ],\n",
       "       [-0.61374161, -0.82630211,  0.        ,  0.        ,  0.        ,\n",
       "         1.        ,  0.        ,  0.        ],\n",
       "       [-0.59750395, -0.93911703,  0.        ,  0.        ,  0.        ,\n",
       "         1.        ,  0.        ,  0.        ],\n",
       "       [-0.61461425, -0.92586868,  0.        ,  0.        ,  0.        ,\n",
       "         1.        ,  0.        ,  0.        ],\n",
       "       [-0.62060585, -0.91733996,  0.        ,  0.        ,  0.        ,\n",
       "         1.        ,  0.        ,  0.        ],\n",
       "       [-0.54318812, -0.84725987,  0.        ,  0.        ,  0.        ,\n",
       "         1.        ,  0.        ,  0.        ],\n",
       "       [-0.54905466, -0.67399173,  0.        ,  0.        ,  0.        ,\n",
       "         1.        ,  0.        ,  0.        ],\n",
       "       [-0.52958198, -0.59664114,  0.        ,  0.        ,  0.        ,\n",
       "         1.        ,  0.        ,  0.        ],\n",
       "       [-0.53723458, -0.53909508,  0.        ,  0.        ,  0.        ,\n",
       "         1.        ,  0.        ,  0.        ],\n",
       "       [-0.37602966, -0.16801571,  0.        ,  0.        ,  0.        ,\n",
       "         1.        ,  0.        ,  0.        ],\n",
       "       [-0.30255648,  0.00646247,  0.        ,  0.        ,  0.        ,\n",
       "         1.        ,  0.        ,  0.        ],\n",
       "       [ 0.6594916 ,  0.78415268,  1.        ,  0.        ,  0.        ,\n",
       "         0.        ,  0.        ,  0.        ],\n",
       "       [ 1.00803993,  1.09443114,  1.        ,  0.        ,  0.        ,\n",
       "         0.        ,  0.        ,  0.        ],\n",
       "       [ 2.0912357 ,  2.78503525,  1.        ,  0.        ,  0.        ,\n",
       "         0.        ,  0.        ,  0.        ],\n",
       "       [ 2.36604988,  3.45230994,  1.        ,  0.        ,  0.        ,\n",
       "         0.        ,  0.        ,  0.        ],\n",
       "       [-0.56637157, -0.66681073,  0.        ,  1.        ,  0.        ,\n",
       "         0.        ,  0.        ,  0.        ],\n",
       "       [-0.56992738, -0.5843498 ,  0.        ,  1.        ,  0.        ,\n",
       "         0.        ,  0.        ,  0.        ],\n",
       "       [-0.56939184, -0.49305032,  0.        ,  1.        ,  0.        ,\n",
       "         0.        ,  0.        ,  0.        ],\n",
       "       [-0.50867935, -0.30836695,  0.        ,  0.        ,  0.        ,\n",
       "         0.        ,  0.        ,  1.        ],\n",
       "       [-0.47635899, -0.1712172 ,  0.        ,  0.        ,  0.        ,\n",
       "         0.        ,  0.        ,  1.        ],\n",
       "       [-0.51537504, -0.06655233,  0.        ,  0.        ,  0.        ,\n",
       "         0.        ,  0.        ,  1.        ],\n",
       "       [-0.29901427,  0.51129215,  0.        ,  0.        ,  0.        ,\n",
       "         0.        ,  0.        ,  1.        ],\n",
       "       [ 0.49549204, -0.21636004,  0.        ,  1.        ,  0.        ,\n",
       "         0.        ,  0.        ,  0.        ],\n",
       "       [-0.62745649, -0.96422641,  0.        ,  0.        ,  0.        ,\n",
       "         0.        ,  0.        ,  1.        ],\n",
       "       [-0.62666541, -0.95661166,  0.        ,  0.        ,  0.        ,\n",
       "         0.        ,  0.        ,  1.        ],\n",
       "       [-0.62619239, -0.95264422,  0.        ,  0.        ,  0.        ,\n",
       "         0.        ,  0.        ,  1.        ],\n",
       "       [-0.62332436, -0.93445592,  0.        ,  0.        ,  0.        ,\n",
       "         0.        ,  0.        ,  1.        ],\n",
       "       [-0.62088857, -0.92573443,  0.        ,  0.        ,  0.        ,\n",
       "         0.        ,  0.        ,  1.        ],\n",
       "       [-0.62226686, -0.74980181,  0.        ,  0.        ,  0.        ,\n",
       "         1.        ,  0.        ,  0.        ],\n",
       "       [-0.62229948, -0.70692756,  0.        ,  0.        ,  0.        ,\n",
       "         1.        ,  0.        ,  0.        ],\n",
       "       [-0.62329174, -0.65981736,  0.        ,  0.        ,  0.        ,\n",
       "         1.        ,  0.        ,  0.        ],\n",
       "       [-0.59928186, -0.46034169,  0.        ,  0.        ,  0.        ,\n",
       "         1.        ,  0.        ,  0.        ],\n",
       "       [-0.59352405, -0.37808386,  0.        ,  0.        ,  0.        ,\n",
       "         1.        ,  0.        ,  0.        ],\n",
       "       [-0.59263238, -0.63832946,  0.        ,  0.        ,  0.        ,\n",
       "         0.        ,  0.        ,  1.        ],\n",
       "       [-0.59709889, -0.58641184,  0.        ,  0.        ,  0.        ,\n",
       "         0.        ,  0.        ,  1.        ],\n",
       "       [-0.60466994, -0.5445514 ,  0.        ,  0.        ,  0.        ,\n",
       "         0.        ,  0.        ,  1.        ],\n",
       "       [-0.5452705 , -0.29804986,  0.        ,  0.        ,  0.        ,\n",
       "         0.        ,  0.        ,  1.        ],\n",
       "       [-0.52020855, -0.16303961,  0.        ,  0.        ,  0.        ,\n",
       "         0.        ,  0.        ,  1.        ],\n",
       "       [ 0.20877895,  0.3931173 ,  1.        ,  0.        ,  0.        ,\n",
       "         0.        ,  0.        ,  0.        ],\n",
       "       [ 0.72650559,  0.68595965,  1.        ,  0.        ,  0.        ,\n",
       "         0.        ,  0.        ,  0.        ],\n",
       "       [ 1.7891168 ,  1.72101584,  1.        ,  0.        ,  0.        ,\n",
       "         0.        ,  0.        ,  0.        ],\n",
       "       [ 2.19048034,  2.24345547,  1.        ,  0.        ,  0.        ,\n",
       "         0.        ,  0.        ,  0.        ]])"
      ]
     },
     "execution_count": 203,
     "metadata": {},
     "output_type": "execute_result"
    }
   ],
   "source": [
    "ct.fit_transform(df)"
   ]
  },
  {
   "cell_type": "code",
   "execution_count": 204,
   "metadata": {},
   "outputs": [],
   "source": [
    "# df"
   ]
  },
  {
   "cell_type": "code",
   "execution_count": 205,
   "metadata": {},
   "outputs": [
    {
     "data": {
      "text/plain": [
       "4       195580.0\n",
       "6       434149.0\n",
       "7       619201.0\n",
       "10     1457872.0\n",
       "11     2213991.0\n",
       "         ...    \n",
       "347    2482173.0\n",
       "354     365437.0\n",
       "355     391292.0\n",
       "358    1017303.0\n",
       "359     844647.0\n",
       "Name: specific, Length: 118, dtype: float64"
      ]
     },
     "execution_count": 205,
     "metadata": {},
     "output_type": "execute_result"
    }
   ],
   "source": [
    "y"
   ]
  },
  {
   "cell_type": "code",
   "execution_count": 206,
   "metadata": {},
   "outputs": [
    {
     "data": {
      "text/html": [
       "<div>\n",
       "<style scoped>\n",
       "    .dataframe tbody tr th:only-of-type {\n",
       "        vertical-align: middle;\n",
       "    }\n",
       "\n",
       "    .dataframe tbody tr th {\n",
       "        vertical-align: top;\n",
       "    }\n",
       "\n",
       "    .dataframe thead th {\n",
       "        text-align: right;\n",
       "    }\n",
       "</style>\n",
       "<table border=\"1\" class=\"dataframe\">\n",
       "  <thead>\n",
       "    <tr style=\"text-align: right;\">\n",
       "      <th></th>\n",
       "      <th>province</th>\n",
       "      <th>general</th>\n",
       "      <th>year</th>\n",
       "      <th>gdp</th>\n",
       "      <th>fdi</th>\n",
       "      <th>rnr</th>\n",
       "      <th>rr</th>\n",
       "      <th>i</th>\n",
       "      <th>fr</th>\n",
       "      <th>reg</th>\n",
       "      <th>it</th>\n",
       "    </tr>\n",
       "  </thead>\n",
       "  <tbody>\n",
       "    <tr>\n",
       "      <th>4</th>\n",
       "      <td>Anhui</td>\n",
       "      <td>32100.0</td>\n",
       "      <td>2000</td>\n",
       "      <td>2902.09</td>\n",
       "      <td>31847</td>\n",
       "      <td>0.0</td>\n",
       "      <td>0.0</td>\n",
       "      <td>0.000000</td>\n",
       "      <td>1601508</td>\n",
       "      <td>East China</td>\n",
       "      <td>1499110</td>\n",
       "    </tr>\n",
       "    <tr>\n",
       "      <th>6</th>\n",
       "      <td>Anhui</td>\n",
       "      <td>66529.0</td>\n",
       "      <td>2002</td>\n",
       "      <td>3519.72</td>\n",
       "      <td>38375</td>\n",
       "      <td>0.0</td>\n",
       "      <td>0.0</td>\n",
       "      <td>0.000000</td>\n",
       "      <td>1677840</td>\n",
       "      <td>East China</td>\n",
       "      <td>2404936</td>\n",
       "    </tr>\n",
       "    <tr>\n",
       "      <th>7</th>\n",
       "      <td>Anhui</td>\n",
       "      <td>52108.0</td>\n",
       "      <td>2003</td>\n",
       "      <td>3923.11</td>\n",
       "      <td>36720</td>\n",
       "      <td>0.0</td>\n",
       "      <td>0.0</td>\n",
       "      <td>0.000000</td>\n",
       "      <td>1896479</td>\n",
       "      <td>East China</td>\n",
       "      <td>2815820</td>\n",
       "    </tr>\n",
       "    <tr>\n",
       "      <th>10</th>\n",
       "      <td>Anhui</td>\n",
       "      <td>279052.0</td>\n",
       "      <td>2006</td>\n",
       "      <td>6112.50</td>\n",
       "      <td>139354</td>\n",
       "      <td>0.0</td>\n",
       "      <td>0.0</td>\n",
       "      <td>0.324324</td>\n",
       "      <td>3434548</td>\n",
       "      <td>East China</td>\n",
       "      <td>5167300</td>\n",
       "    </tr>\n",
       "    <tr>\n",
       "      <th>11</th>\n",
       "      <td>Anhui</td>\n",
       "      <td>178705.0</td>\n",
       "      <td>2007</td>\n",
       "      <td>7360.92</td>\n",
       "      <td>299892</td>\n",
       "      <td>0.0</td>\n",
       "      <td>0.0</td>\n",
       "      <td>0.324324</td>\n",
       "      <td>4468640</td>\n",
       "      <td>East China</td>\n",
       "      <td>7040099</td>\n",
       "    </tr>\n",
       "  </tbody>\n",
       "</table>\n",
       "</div>"
      ],
      "text/plain": [
       "   province   general  year      gdp     fdi  rnr   rr         i       fr  \\\n",
       "4     Anhui   32100.0  2000  2902.09   31847  0.0  0.0  0.000000  1601508   \n",
       "6     Anhui   66529.0  2002  3519.72   38375  0.0  0.0  0.000000  1677840   \n",
       "7     Anhui   52108.0  2003  3923.11   36720  0.0  0.0  0.000000  1896479   \n",
       "10    Anhui  279052.0  2006  6112.50  139354  0.0  0.0  0.324324  3434548   \n",
       "11    Anhui  178705.0  2007  7360.92  299892  0.0  0.0  0.324324  4468640   \n",
       "\n",
       "           reg       it  \n",
       "4   East China  1499110  \n",
       "6   East China  2404936  \n",
       "7   East China  2815820  \n",
       "10  East China  5167300  \n",
       "11  East China  7040099  "
      ]
     },
     "execution_count": 206,
     "metadata": {},
     "output_type": "execute_result"
    }
   ],
   "source": [
    "X.head()"
   ]
  },
  {
   "cell_type": "markdown",
   "metadata": {},
   "source": [
    "### Are three categories already encoded in the dataset?"
   ]
  },
  {
   "cell_type": "code",
   "execution_count": 207,
   "metadata": {},
   "outputs": [
    {
     "data": {
      "text/plain": [
       "province     object\n",
       "general     float64\n",
       "year          int64\n",
       "gdp         float64\n",
       "fdi           int64\n",
       "rnr         float64\n",
       "rr          float64\n",
       "i           float64\n",
       "fr           object\n",
       "reg          object\n",
       "it            int64\n",
       "dtype: object"
      ]
     },
     "execution_count": 207,
     "metadata": {},
     "output_type": "execute_result"
    }
   ],
   "source": [
    "X.dtypes"
   ]
  },
  {
   "cell_type": "markdown",
   "metadata": {},
   "source": [
    "### Are there missing values in the dataset?"
   ]
  },
  {
   "cell_type": "code",
   "execution_count": 208,
   "metadata": {},
   "outputs": [
    {
     "data": {
      "text/html": [
       "<div>\n",
       "<style scoped>\n",
       "    .dataframe tbody tr th:only-of-type {\n",
       "        vertical-align: middle;\n",
       "    }\n",
       "\n",
       "    .dataframe tbody tr th {\n",
       "        vertical-align: top;\n",
       "    }\n",
       "\n",
       "    .dataframe thead th {\n",
       "        text-align: right;\n",
       "    }\n",
       "</style>\n",
       "<table border=\"1\" class=\"dataframe\">\n",
       "  <thead>\n",
       "    <tr style=\"text-align: right;\">\n",
       "      <th></th>\n",
       "      <th>na_cnt</th>\n",
       "      <th>dtypes</th>\n",
       "    </tr>\n",
       "  </thead>\n",
       "  <tbody>\n",
       "    <tr>\n",
       "      <th>province</th>\n",
       "      <td>0</td>\n",
       "      <td>object</td>\n",
       "    </tr>\n",
       "    <tr>\n",
       "      <th>general</th>\n",
       "      <td>0</td>\n",
       "      <td>float64</td>\n",
       "    </tr>\n",
       "    <tr>\n",
       "      <th>year</th>\n",
       "      <td>0</td>\n",
       "      <td>int64</td>\n",
       "    </tr>\n",
       "    <tr>\n",
       "      <th>gdp</th>\n",
       "      <td>0</td>\n",
       "      <td>float64</td>\n",
       "    </tr>\n",
       "    <tr>\n",
       "      <th>fdi</th>\n",
       "      <td>0</td>\n",
       "      <td>int64</td>\n",
       "    </tr>\n",
       "    <tr>\n",
       "      <th>rnr</th>\n",
       "      <td>0</td>\n",
       "      <td>float64</td>\n",
       "    </tr>\n",
       "    <tr>\n",
       "      <th>rr</th>\n",
       "      <td>0</td>\n",
       "      <td>float64</td>\n",
       "    </tr>\n",
       "    <tr>\n",
       "      <th>i</th>\n",
       "      <td>0</td>\n",
       "      <td>float64</td>\n",
       "    </tr>\n",
       "    <tr>\n",
       "      <th>fr</th>\n",
       "      <td>0</td>\n",
       "      <td>object</td>\n",
       "    </tr>\n",
       "    <tr>\n",
       "      <th>reg</th>\n",
       "      <td>0</td>\n",
       "      <td>object</td>\n",
       "    </tr>\n",
       "    <tr>\n",
       "      <th>it</th>\n",
       "      <td>0</td>\n",
       "      <td>int64</td>\n",
       "    </tr>\n",
       "  </tbody>\n",
       "</table>\n",
       "</div>"
      ],
      "text/plain": [
       "          na_cnt   dtypes\n",
       "province       0   object\n",
       "general        0  float64\n",
       "year           0    int64\n",
       "gdp            0  float64\n",
       "fdi            0    int64\n",
       "rnr            0  float64\n",
       "rr             0  float64\n",
       "i              0  float64\n",
       "fr             0   object\n",
       "reg            0   object\n",
       "it             0    int64"
      ]
     },
     "execution_count": 208,
     "metadata": {},
     "output_type": "execute_result"
    }
   ],
   "source": [
    "missing_values = pd.concat({\"na_cnt\": X.isna().sum(), \"dtypes\": X.dtypes}, axis='columns')\n",
    "missing_values"
   ]
  },
  {
   "cell_type": "markdown",
   "metadata": {},
   "source": [
    "### Split data into training and test set"
   ]
  },
  {
   "cell_type": "code",
   "execution_count": 209,
   "metadata": {},
   "outputs": [],
   "source": [
    "from sklearn.model_selection import train_test_split\n",
    "\n",
    "X_train, X_test, y_train, y_test = train_test_split(\n",
    "    X, y, random_state=42)"
   ]
  },
  {
   "cell_type": "markdown",
   "metadata": {},
   "source": [
    "## ColumnTransformer"
   ]
  },
  {
   "cell_type": "code",
   "execution_count": 210,
   "metadata": {},
   "outputs": [
    {
     "data": {
      "text/html": [
       "<div>\n",
       "<style scoped>\n",
       "    .dataframe tbody tr th:only-of-type {\n",
       "        vertical-align: middle;\n",
       "    }\n",
       "\n",
       "    .dataframe tbody tr th {\n",
       "        vertical-align: top;\n",
       "    }\n",
       "\n",
       "    .dataframe thead th {\n",
       "        text-align: right;\n",
       "    }\n",
       "</style>\n",
       "<table border=\"1\" class=\"dataframe\">\n",
       "  <thead>\n",
       "    <tr style=\"text-align: right;\">\n",
       "      <th></th>\n",
       "      <th>na_cnt</th>\n",
       "      <th>dtypes</th>\n",
       "    </tr>\n",
       "  </thead>\n",
       "  <tbody>\n",
       "    <tr>\n",
       "      <th>province</th>\n",
       "      <td>0</td>\n",
       "      <td>object</td>\n",
       "    </tr>\n",
       "    <tr>\n",
       "      <th>general</th>\n",
       "      <td>0</td>\n",
       "      <td>float64</td>\n",
       "    </tr>\n",
       "    <tr>\n",
       "      <th>year</th>\n",
       "      <td>0</td>\n",
       "      <td>int64</td>\n",
       "    </tr>\n",
       "    <tr>\n",
       "      <th>gdp</th>\n",
       "      <td>0</td>\n",
       "      <td>float64</td>\n",
       "    </tr>\n",
       "    <tr>\n",
       "      <th>fdi</th>\n",
       "      <td>0</td>\n",
       "      <td>int64</td>\n",
       "    </tr>\n",
       "    <tr>\n",
       "      <th>rnr</th>\n",
       "      <td>0</td>\n",
       "      <td>float64</td>\n",
       "    </tr>\n",
       "    <tr>\n",
       "      <th>rr</th>\n",
       "      <td>0</td>\n",
       "      <td>float64</td>\n",
       "    </tr>\n",
       "    <tr>\n",
       "      <th>i</th>\n",
       "      <td>0</td>\n",
       "      <td>float64</td>\n",
       "    </tr>\n",
       "    <tr>\n",
       "      <th>fr</th>\n",
       "      <td>0</td>\n",
       "      <td>object</td>\n",
       "    </tr>\n",
       "    <tr>\n",
       "      <th>reg</th>\n",
       "      <td>0</td>\n",
       "      <td>object</td>\n",
       "    </tr>\n",
       "    <tr>\n",
       "      <th>it</th>\n",
       "      <td>0</td>\n",
       "      <td>int64</td>\n",
       "    </tr>\n",
       "  </tbody>\n",
       "</table>\n",
       "</div>"
      ],
      "text/plain": [
       "          na_cnt   dtypes\n",
       "province       0   object\n",
       "general        0  float64\n",
       "year           0    int64\n",
       "gdp            0  float64\n",
       "fdi            0    int64\n",
       "rnr            0  float64\n",
       "rr             0  float64\n",
       "i              0  float64\n",
       "fr             0   object\n",
       "reg            0   object\n",
       "it             0    int64"
      ]
     },
     "execution_count": 210,
     "metadata": {},
     "output_type": "execute_result"
    }
   ],
   "source": [
    "missing_values"
   ]
  },
  {
   "cell_type": "code",
   "execution_count": 211,
   "metadata": {},
   "outputs": [
    {
     "data": {
      "text/html": [
       "<div>\n",
       "<style scoped>\n",
       "    .dataframe tbody tr th:only-of-type {\n",
       "        vertical-align: middle;\n",
       "    }\n",
       "\n",
       "    .dataframe tbody tr th {\n",
       "        vertical-align: top;\n",
       "    }\n",
       "\n",
       "    .dataframe thead th {\n",
       "        text-align: right;\n",
       "    }\n",
       "</style>\n",
       "<table border=\"1\" class=\"dataframe\">\n",
       "  <thead>\n",
       "    <tr style=\"text-align: right;\">\n",
       "      <th></th>\n",
       "      <th>province</th>\n",
       "      <th>general</th>\n",
       "      <th>year</th>\n",
       "      <th>gdp</th>\n",
       "      <th>fdi</th>\n",
       "      <th>rnr</th>\n",
       "      <th>rr</th>\n",
       "      <th>i</th>\n",
       "      <th>fr</th>\n",
       "      <th>reg</th>\n",
       "      <th>it</th>\n",
       "    </tr>\n",
       "  </thead>\n",
       "  <tbody>\n",
       "    <tr>\n",
       "      <th>4</th>\n",
       "      <td>Anhui</td>\n",
       "      <td>32100.0</td>\n",
       "      <td>2000</td>\n",
       "      <td>2902.09</td>\n",
       "      <td>31847</td>\n",
       "      <td>0.000000</td>\n",
       "      <td>0.000000</td>\n",
       "      <td>0.000000</td>\n",
       "      <td>1601508</td>\n",
       "      <td>East China</td>\n",
       "      <td>1499110</td>\n",
       "    </tr>\n",
       "    <tr>\n",
       "      <th>6</th>\n",
       "      <td>Anhui</td>\n",
       "      <td>66529.0</td>\n",
       "      <td>2002</td>\n",
       "      <td>3519.72</td>\n",
       "      <td>38375</td>\n",
       "      <td>0.000000</td>\n",
       "      <td>0.000000</td>\n",
       "      <td>0.000000</td>\n",
       "      <td>1677840</td>\n",
       "      <td>East China</td>\n",
       "      <td>2404936</td>\n",
       "    </tr>\n",
       "    <tr>\n",
       "      <th>7</th>\n",
       "      <td>Anhui</td>\n",
       "      <td>52108.0</td>\n",
       "      <td>2003</td>\n",
       "      <td>3923.11</td>\n",
       "      <td>36720</td>\n",
       "      <td>0.000000</td>\n",
       "      <td>0.000000</td>\n",
       "      <td>0.000000</td>\n",
       "      <td>1896479</td>\n",
       "      <td>East China</td>\n",
       "      <td>2815820</td>\n",
       "    </tr>\n",
       "    <tr>\n",
       "      <th>10</th>\n",
       "      <td>Anhui</td>\n",
       "      <td>279052.0</td>\n",
       "      <td>2006</td>\n",
       "      <td>6112.50</td>\n",
       "      <td>139354</td>\n",
       "      <td>0.000000</td>\n",
       "      <td>0.000000</td>\n",
       "      <td>0.324324</td>\n",
       "      <td>3434548</td>\n",
       "      <td>East China</td>\n",
       "      <td>5167300</td>\n",
       "    </tr>\n",
       "    <tr>\n",
       "      <th>11</th>\n",
       "      <td>Anhui</td>\n",
       "      <td>178705.0</td>\n",
       "      <td>2007</td>\n",
       "      <td>7360.92</td>\n",
       "      <td>299892</td>\n",
       "      <td>0.000000</td>\n",
       "      <td>0.000000</td>\n",
       "      <td>0.324324</td>\n",
       "      <td>4468640</td>\n",
       "      <td>East China</td>\n",
       "      <td>7040099</td>\n",
       "    </tr>\n",
       "    <tr>\n",
       "      <th>...</th>\n",
       "      <td>...</td>\n",
       "      <td>...</td>\n",
       "      <td>...</td>\n",
       "      <td>...</td>\n",
       "      <td>...</td>\n",
       "      <td>...</td>\n",
       "      <td>...</td>\n",
       "      <td>...</td>\n",
       "      <td>...</td>\n",
       "      <td>...</td>\n",
       "      <td>...</td>\n",
       "    </tr>\n",
       "    <tr>\n",
       "      <th>347</th>\n",
       "      <td>Yunnan</td>\n",
       "      <td>564400.0</td>\n",
       "      <td>2007</td>\n",
       "      <td>4772.52</td>\n",
       "      <td>39453</td>\n",
       "      <td>0.000000</td>\n",
       "      <td>0.000000</td>\n",
       "      <td>0.000000</td>\n",
       "      <td>4867146</td>\n",
       "      <td>Southwest China</td>\n",
       "      <td>6832541</td>\n",
       "    </tr>\n",
       "    <tr>\n",
       "      <th>354</th>\n",
       "      <td>Zhejiang</td>\n",
       "      <td>321686.0</td>\n",
       "      <td>2002</td>\n",
       "      <td>8003.67</td>\n",
       "      <td>307610</td>\n",
       "      <td>0.000000</td>\n",
       "      <td>0.000000</td>\n",
       "      <td>0.000000</td>\n",
       "      <td>4958329</td>\n",
       "      <td>East China</td>\n",
       "      <td>1962633</td>\n",
       "    </tr>\n",
       "    <tr>\n",
       "      <th>355</th>\n",
       "      <td>Zhejiang</td>\n",
       "      <td>260313.0</td>\n",
       "      <td>2003</td>\n",
       "      <td>9705.02</td>\n",
       "      <td>498055</td>\n",
       "      <td>1.214286</td>\n",
       "      <td>0.035714</td>\n",
       "      <td>0.035714</td>\n",
       "      <td>6217715</td>\n",
       "      <td>East China</td>\n",
       "      <td>2261631</td>\n",
       "    </tr>\n",
       "    <tr>\n",
       "      <th>358</th>\n",
       "      <td>Zhejiang</td>\n",
       "      <td>394795.0</td>\n",
       "      <td>2006</td>\n",
       "      <td>15718.47</td>\n",
       "      <td>888935</td>\n",
       "      <td>1.214286</td>\n",
       "      <td>0.035714</td>\n",
       "      <td>0.035714</td>\n",
       "      <td>11537149</td>\n",
       "      <td>East China</td>\n",
       "      <td>2553268</td>\n",
       "    </tr>\n",
       "    <tr>\n",
       "      <th>359</th>\n",
       "      <td>Zhejiang</td>\n",
       "      <td>0.0</td>\n",
       "      <td>2007</td>\n",
       "      <td>18753.73</td>\n",
       "      <td>1036576</td>\n",
       "      <td>0.047619</td>\n",
       "      <td>0.000000</td>\n",
       "      <td>0.000000</td>\n",
       "      <td>16494981</td>\n",
       "      <td>East China</td>\n",
       "      <td>2939778</td>\n",
       "    </tr>\n",
       "  </tbody>\n",
       "</table>\n",
       "<p>118 rows × 11 columns</p>\n",
       "</div>"
      ],
      "text/plain": [
       "     province   general  year       gdp      fdi       rnr        rr  \\\n",
       "4       Anhui   32100.0  2000   2902.09    31847  0.000000  0.000000   \n",
       "6       Anhui   66529.0  2002   3519.72    38375  0.000000  0.000000   \n",
       "7       Anhui   52108.0  2003   3923.11    36720  0.000000  0.000000   \n",
       "10      Anhui  279052.0  2006   6112.50   139354  0.000000  0.000000   \n",
       "11      Anhui  178705.0  2007   7360.92   299892  0.000000  0.000000   \n",
       "..        ...       ...   ...       ...      ...       ...       ...   \n",
       "347    Yunnan  564400.0  2007   4772.52    39453  0.000000  0.000000   \n",
       "354  Zhejiang  321686.0  2002   8003.67   307610  0.000000  0.000000   \n",
       "355  Zhejiang  260313.0  2003   9705.02   498055  1.214286  0.035714   \n",
       "358  Zhejiang  394795.0  2006  15718.47   888935  1.214286  0.035714   \n",
       "359  Zhejiang       0.0  2007  18753.73  1036576  0.047619  0.000000   \n",
       "\n",
       "            i        fr              reg       it  \n",
       "4    0.000000   1601508       East China  1499110  \n",
       "6    0.000000   1677840       East China  2404936  \n",
       "7    0.000000   1896479       East China  2815820  \n",
       "10   0.324324   3434548       East China  5167300  \n",
       "11   0.324324   4468640       East China  7040099  \n",
       "..        ...       ...              ...      ...  \n",
       "347  0.000000   4867146  Southwest China  6832541  \n",
       "354  0.000000   4958329       East China  1962633  \n",
       "355  0.035714   6217715       East China  2261631  \n",
       "358  0.035714  11537149       East China  2553268  \n",
       "359  0.000000  16494981       East China  2939778  \n",
       "\n",
       "[118 rows x 11 columns]"
      ]
     },
     "execution_count": 211,
     "metadata": {},
     "output_type": "execute_result"
    }
   ],
   "source": [
    "X"
   ]
  },
  {
   "cell_type": "markdown",
   "metadata": {},
   "source": [
    "### Numerical preprocessing"
   ]
  },
  {
   "cell_type": "code",
   "execution_count": 212,
   "metadata": {},
   "outputs": [],
   "source": [
    "numerical_features = ['general', 'gdp', 'fdi', 'i', 'rr']"
   ]
  },
  {
   "cell_type": "code",
   "execution_count": 213,
   "metadata": {},
   "outputs": [],
   "source": [
    "from sklearn.pipeline import Pipeline\n",
    "from sklearn.impute import SimpleImputer\n",
    "\n",
    "num_prep = Pipeline([\n",
    "    ('imputer', SimpleImputer()),\n",
    "    ('scaler', StandardScaler())\n",
    "])"
   ]
  },
  {
   "cell_type": "code",
   "execution_count": 214,
   "metadata": {},
   "outputs": [
    {
     "data": {
      "text/html": [
       "<style>div.sk-top-container {color: black;background-color: white;}div.sk-toggleable {background-color: white;}label.sk-toggleable__label {cursor: pointer;display: block;width: 100%;margin-bottom: 0;padding: 0.2em 0.3em;box-sizing: border-box;text-align: center;}div.sk-toggleable__content {max-height: 0;max-width: 0;overflow: hidden;text-align: left;background-color: #f0f8ff;}div.sk-toggleable__content pre {margin: 0.2em;color: black;border-radius: 0.25em;background-color: #f0f8ff;}input.sk-toggleable__control:checked~div.sk-toggleable__content {max-height: 200px;max-width: 100%;overflow: auto;}div.sk-estimator input.sk-toggleable__control:checked~label.sk-toggleable__label {background-color: #d4ebff;}div.sk-label input.sk-toggleable__control:checked~label.sk-toggleable__label {background-color: #d4ebff;}input.sk-hidden--visually {border: 0;clip: rect(1px 1px 1px 1px);clip: rect(1px, 1px, 1px, 1px);height: 1px;margin: -1px;overflow: hidden;padding: 0;position: absolute;width: 1px;}div.sk-estimator {font-family: monospace;background-color: #f0f8ff;margin: 0.25em 0.25em;border: 1px dotted black;border-radius: 0.25em;box-sizing: border-box;}div.sk-estimator:hover {background-color: #d4ebff;}div.sk-parallel-item::after {content: \"\";width: 100%;border-bottom: 1px solid gray;flex-grow: 1;}div.sk-label:hover label.sk-toggleable__label {background-color: #d4ebff;}div.sk-serial::before {content: \"\";position: absolute;border-left: 1px solid gray;box-sizing: border-box;top: 2em;bottom: 0;left: 50%;}div.sk-serial {display: flex;flex-direction: column;align-items: center;background-color: white;}div.sk-item {z-index: 1;}div.sk-parallel {display: flex;align-items: stretch;justify-content: center;background-color: white;}div.sk-parallel-item {display: flex;flex-direction: column;position: relative;background-color: white;}div.sk-parallel-item:first-child::after {align-self: flex-end;width: 50%;}div.sk-parallel-item:last-child::after {align-self: flex-start;width: 50%;}div.sk-parallel-item:only-child::after {width: 0;}div.sk-dashed-wrapped {border: 1px dashed gray;margin: 0.2em;box-sizing: border-box;padding-bottom: 0.1em;background-color: white;position: relative;}div.sk-label label {font-family: monospace;font-weight: bold;background-color: white;display: inline-block;line-height: 1.2em;}div.sk-label-container {position: relative;z-index: 2;text-align: center;}div.sk-container {display: inline-block;position: relative;}</style><div class=\"sk-top-container\"><div class=\"sk-container\"><div class=\"sk-item sk-dashed-wrapped\"><div class=\"sk-label-container\"><div class=\"sk-label sk-toggleable\"><input class=\"sk-toggleable__control sk-hidden--visually\" id=\"c131c942-0423-4e14-acac-cddada9ba4d8\" type=\"checkbox\" ><label class=\"sk-toggleable__label\" for=\"c131c942-0423-4e14-acac-cddada9ba4d8\">Pipeline</label><div class=\"sk-toggleable__content\"><pre>Pipeline(steps=[('imputer', SimpleImputer()), ('scaler', StandardScaler())])</pre></div></div></div><div class=\"sk-serial\"><div class=\"sk-item\"><div class=\"sk-estimator sk-toggleable\"><input class=\"sk-toggleable__control sk-hidden--visually\" id=\"05538481-f77f-4c5f-a041-efd4375e3fb9\" type=\"checkbox\" ><label class=\"sk-toggleable__label\" for=\"05538481-f77f-4c5f-a041-efd4375e3fb9\">SimpleImputer</label><div class=\"sk-toggleable__content\"><pre>SimpleImputer()</pre></div></div></div><div class=\"sk-item\"><div class=\"sk-estimator sk-toggleable\"><input class=\"sk-toggleable__control sk-hidden--visually\" id=\"5f3931c7-8271-4a71-af48-0e88f103b347\" type=\"checkbox\" ><label class=\"sk-toggleable__label\" for=\"5f3931c7-8271-4a71-af48-0e88f103b347\">StandardScaler</label><div class=\"sk-toggleable__content\"><pre>StandardScaler()</pre></div></div></div></div></div></div></div>"
      ],
      "text/plain": [
       "Pipeline(steps=[('imputer', SimpleImputer()), ('scaler', StandardScaler())])"
      ]
     },
     "execution_count": 214,
     "metadata": {},
     "output_type": "execute_result"
    }
   ],
   "source": [
    "num_prep"
   ]
  },
  {
   "cell_type": "markdown",
   "metadata": {},
   "source": [
    "#### Running only on numerical features "
   ]
  },
  {
   "cell_type": "code",
   "execution_count": 215,
   "metadata": {},
   "outputs": [
    {
     "data": {
      "text/plain": [
       "array([[ 0.84445696, -0.23824571,  0.05133332, -0.46886997,  1.84019633],\n",
       "       [ 0.24766853,  2.07395803,  1.57444985, -0.46886997, -0.43195321],\n",
       "       [-0.72214407, -0.0446055 , -0.43939868, -0.46886997, -0.43195321],\n",
       "       [-0.48856958, -0.11992158, -0.34379901, -0.46886997, -0.43195321],\n",
       "       [ 0.85337791, -0.87758205, -0.54348651, -0.46886997, -0.43195321],\n",
       "       [-0.62992082, -0.83196322, -0.62382665, -0.46886997,  0.17004293],\n",
       "       [-0.83650183,  3.23074054,  4.28312405,  1.06326271, -0.43195321],\n",
       "       [ 1.76828095, -0.19541419, -0.41644878, -0.46886997, -0.43195321],\n",
       "       [ 1.78635605,  0.89747804,  0.79717537, -0.46886997,  3.97033652],\n",
       "       [-0.01481382, -0.57518987, -0.60442312,  3.47737968, -0.43195321],\n",
       "       [-0.33025804, -0.71766019, -0.62552372, -0.46886997, -0.43195321],\n",
       "       [-0.75781248, -0.70583032, -0.54596728, -0.46886997, -0.43195321],\n",
       "       [ 0.18859962, -0.10301925, -0.50475274, -0.46886997,  1.78339259],\n",
       "       [ 3.61705142,  1.91072514,  0.2322093 , -0.46886997, -0.43195321],\n",
       "       [-0.52047074, -0.52639929, -0.53731279, -0.46886997, -0.43195321],\n",
       "       [-0.35308192, -0.41382042, -0.15623907,  2.47473995, -0.43195321],\n",
       "       [ 0.51483816, -0.85369871, -0.61664935, -0.46886997, -0.43195321],\n",
       "       [ 2.42485843, -0.08843151,  0.16030939, -0.46886997,  1.84019633],\n",
       "       [-0.63055638, -0.3205428 , -0.53076977, -0.46886997, -0.43195321],\n",
       "       [-0.81570508, -0.2076344 , -0.22869714,  0.25314756, -0.43195321],\n",
       "       [-0.06101258, -0.78797637, -0.31514053, -0.46886997, -0.43195321],\n",
       "       [-0.022315  ,  0.78012485,  0.51382125, -0.46886997, -0.43195321],\n",
       "       [-0.37712312, -0.55331904, -0.3258642 ,  2.14150109, -0.43195321],\n",
       "       [ 2.33926246, -0.46826211, -0.59521328,  3.47737968, -0.43195321],\n",
       "       [ 0.62612061, -0.10351944, -0.37014586, -0.46886997, -0.43195321],\n",
       "       [-0.1455937 , -0.05181405, -0.01314966, -0.46886997,  3.97033652],\n",
       "       [-0.69280823, -0.04283426, -0.47187415, -0.46886997, -0.43195321],\n",
       "       [-0.15946076, -0.25170559, -0.5456459 , -0.46886997, -0.43195321],\n",
       "       [-0.80637666, -0.98226192, -0.59981116, -0.46886997, -0.43195321],\n",
       "       [-0.45208878, -0.48061962, -0.51288289, -0.46886997,  1.78339259],\n",
       "       [ 0.4867555 , -0.58727866, -0.62254962,  0.24317887, -0.43195321],\n",
       "       [-0.74721037, -0.26346288, -0.50770147, -0.46886997, -0.26580227],\n",
       "       [ 0.71498921, -0.96701118, -0.62406064,  0.76534802, -0.43195321],\n",
       "       [-0.6776111 , -0.6259812 , -0.48297275,  1.75272242, -0.43195321],\n",
       "       [ 0.20388901,  0.55832718,  0.6523297 , -0.46886997,  3.97033652],\n",
       "       [-0.68462536, -0.15766887,  0.45117911, -0.46886997,  1.22955614],\n",
       "       [-0.68130147, -0.59197843, -0.52937716, -0.46886997, -0.43195321],\n",
       "       [-0.1213603 ,  0.16498962, -0.23803102,  1.33242116, -0.43195321],\n",
       "       [-0.68649617, -0.8274596 , -0.61330032, -0.46886997,  0.42010287],\n",
       "       [-0.73244378, -0.41583293, -0.54606312, -0.46886997, -0.43195321],\n",
       "       [-0.75418874, -0.67194329, -0.56752738, -0.46886997, -0.43195321],\n",
       "       [-0.11822093, -0.18759169, -0.14469223,  2.47473995, -0.43195321],\n",
       "       [-0.5606009 , -0.89159703, -0.62039587, -0.46886997, -0.43195321],\n",
       "       [-0.70811556, -0.99767742, -0.6295606 ,  1.33242116, -0.43195321],\n",
       "       [-0.44276036, -0.47392695, -0.57065935, -0.46886997, -0.43195321],\n",
       "       [-0.61544895, -0.21965453, -0.37710046, -0.46886997, -0.43195321],\n",
       "       [-0.57791999, -0.10080471, -0.18860741, -0.46886997,  0.18342062],\n",
       "       [ 2.23213936, -0.34291185, -0.59568406, -0.46886997, -0.43195321],\n",
       "       [ 2.06354861,  1.39098988, -0.11068883, -0.46886997, -0.43195321],\n",
       "       [-0.79190991, -0.9574449 , -0.62376745,  0.24317887, -0.43195321],\n",
       "       [ 0.26443406,  2.61416753,  3.08558822,  1.06326271, -0.43195321],\n",
       "       [-0.01209987,  0.53594439,  0.23629128, -0.46886997, -0.43195321],\n",
       "       [-0.80634591, -0.96716418, -0.61755426, -0.46886997, -0.43195321],\n",
       "       [-0.16938374,  0.8696658 ,  0.77316551, -0.27051351, -0.23415447],\n",
       "       [-0.04311944,  0.18446741, -0.14938031,  0.73199078, -0.43195321],\n",
       "       [-0.68041476,  0.47595163,  1.08241827, -0.18405044, -0.43195321],\n",
       "       [-0.76631569, -0.33855142, -0.36484886, -0.46886997,  1.06490206],\n",
       "       [-0.71942755, -1.0021987 , -0.63005112, -0.46886997,  1.28493979],\n",
       "       [ 2.56991029,  0.81760341,  0.29109646, -0.46886997,  1.99108126],\n",
       "       [-0.74181833, -0.94662522, -0.62596349, -0.46886997, -0.43195321],\n",
       "       [-0.39172056, -0.75420507, -0.61813217,  0.73199078, -0.43195321],\n",
       "       [-0.74252565, -0.58032118, -0.59939112, -0.46886997, -0.43195321],\n",
       "       [-0.52984786,  0.82098506,  1.31844616, -0.46886997, -0.43195321],\n",
       "       [-0.75226924, -0.67038781, -0.54044193, -0.46886997, -0.43195321],\n",
       "       [-0.51722886, -0.15861235,  0.53360817, -0.46886997, -0.43195321],\n",
       "       [ 0.94307429,  1.63510561,  0.0502649 , -0.46886997,  2.33722904],\n",
       "       [ 2.27493734,  0.10828435, -0.43806527,  0.81281795, -0.43195321],\n",
       "       [-0.62666612, -0.76651942, -0.62548989, -0.46886997, -0.43195321],\n",
       "       [-0.66600439, -0.34358661, -0.52269601, -0.46886997, -0.43195321],\n",
       "       [ 2.40153737,  0.79677218,  0.14893452, -0.46886997,  0.18342062],\n",
       "       [ 0.09391613,  1.61452938,  2.56423569, -0.46886997, -0.43195321],\n",
       "       [-0.70296186, -0.26446128, -0.52736154, -0.46886997, -0.43195321],\n",
       "       [ 0.44208927,  4.18123112,  3.45974963, -0.46886997, -0.43195321],\n",
       "       [-0.78308892, -1.01087642, -0.63087146, -0.46886997,  0.89725427],\n",
       "       [-0.54691067,  0.98156598,  0.70367308, -0.46886997, -0.43195321],\n",
       "       [ 0.60991632, -0.09784872, -0.51965707, -0.46886997, -0.43195321],\n",
       "       [-0.76052643, -0.96000271, -0.62467519, -0.46886997,  0.33726408],\n",
       "       [ 1.93383484,  0.09531485, -0.29395536,  4.04373958, -0.43195321],\n",
       "       [-0.76653353, -0.6801267 , -0.54957002, -0.46886997, -0.43195321],\n",
       "       [-0.83650183,  2.64457877,  2.29128386, -0.46886997, -0.43195321],\n",
       "       [-0.51706228,  1.07292328,  2.54926935, -0.46886997, -0.43195321],\n",
       "       [-0.39173081,  1.0465606 ,  2.24162345, -0.46886997, -0.43195321],\n",
       "       [ 0.54861269, -0.32386364, -0.44453781, -0.46886997, -0.43195321],\n",
       "       [-0.41346552, -0.66397367, -0.62655268, -0.46886997, -0.43195321],\n",
       "       [-0.66187067, -0.05643144,  0.1018028 ,  1.19732432, -0.43195321],\n",
       "       [-0.61096157, -0.57797129, -0.5712147 , -0.46886997, -0.43195321],\n",
       "       [ 0.34407676,  0.4601909 ,  0.05937608, -0.46886997,  0.18342062],\n",
       "       [-0.46490255, -0.97695015, -0.62658651,  1.7874348 , -0.43195321]])"
      ]
     },
     "execution_count": 215,
     "metadata": {},
     "output_type": "execute_result"
    }
   ],
   "source": [
    "num_trans = num_prep.fit_transform(X_train[numerical_features])\n",
    "num_trans"
   ]
  },
  {
   "cell_type": "code",
   "execution_count": 216,
   "metadata": {},
   "outputs": [
    {
     "data": {
      "text/plain": [
       "(88, 5)"
      ]
     },
     "execution_count": 216,
     "metadata": {},
     "output_type": "execute_result"
    }
   ],
   "source": [
    "num_trans.shape"
   ]
  },
  {
   "cell_type": "code",
   "execution_count": 217,
   "metadata": {},
   "outputs": [
    {
     "data": {
      "text/html": [
       "<div>\n",
       "<style scoped>\n",
       "    .dataframe tbody tr th:only-of-type {\n",
       "        vertical-align: middle;\n",
       "    }\n",
       "\n",
       "    .dataframe tbody tr th {\n",
       "        vertical-align: top;\n",
       "    }\n",
       "\n",
       "    .dataframe thead th {\n",
       "        text-align: right;\n",
       "    }\n",
       "</style>\n",
       "<table border=\"1\" class=\"dataframe\">\n",
       "  <thead>\n",
       "    <tr style=\"text-align: right;\">\n",
       "      <th></th>\n",
       "      <th>province</th>\n",
       "      <th>general</th>\n",
       "      <th>year</th>\n",
       "      <th>gdp</th>\n",
       "      <th>fdi</th>\n",
       "      <th>rnr</th>\n",
       "      <th>rr</th>\n",
       "      <th>i</th>\n",
       "      <th>fr</th>\n",
       "      <th>reg</th>\n",
       "      <th>it</th>\n",
       "    </tr>\n",
       "  </thead>\n",
       "  <tbody>\n",
       "    <tr>\n",
       "      <th>4</th>\n",
       "      <td>Anhui</td>\n",
       "      <td>32100.0</td>\n",
       "      <td>2000</td>\n",
       "      <td>2902.09</td>\n",
       "      <td>31847</td>\n",
       "      <td>0.000000</td>\n",
       "      <td>0.000000</td>\n",
       "      <td>0.000000</td>\n",
       "      <td>1601508</td>\n",
       "      <td>East China</td>\n",
       "      <td>1499110</td>\n",
       "    </tr>\n",
       "    <tr>\n",
       "      <th>6</th>\n",
       "      <td>Anhui</td>\n",
       "      <td>66529.0</td>\n",
       "      <td>2002</td>\n",
       "      <td>3519.72</td>\n",
       "      <td>38375</td>\n",
       "      <td>0.000000</td>\n",
       "      <td>0.000000</td>\n",
       "      <td>0.000000</td>\n",
       "      <td>1677840</td>\n",
       "      <td>East China</td>\n",
       "      <td>2404936</td>\n",
       "    </tr>\n",
       "    <tr>\n",
       "      <th>7</th>\n",
       "      <td>Anhui</td>\n",
       "      <td>52108.0</td>\n",
       "      <td>2003</td>\n",
       "      <td>3923.11</td>\n",
       "      <td>36720</td>\n",
       "      <td>0.000000</td>\n",
       "      <td>0.000000</td>\n",
       "      <td>0.000000</td>\n",
       "      <td>1896479</td>\n",
       "      <td>East China</td>\n",
       "      <td>2815820</td>\n",
       "    </tr>\n",
       "    <tr>\n",
       "      <th>10</th>\n",
       "      <td>Anhui</td>\n",
       "      <td>279052.0</td>\n",
       "      <td>2006</td>\n",
       "      <td>6112.50</td>\n",
       "      <td>139354</td>\n",
       "      <td>0.000000</td>\n",
       "      <td>0.000000</td>\n",
       "      <td>0.324324</td>\n",
       "      <td>3434548</td>\n",
       "      <td>East China</td>\n",
       "      <td>5167300</td>\n",
       "    </tr>\n",
       "    <tr>\n",
       "      <th>11</th>\n",
       "      <td>Anhui</td>\n",
       "      <td>178705.0</td>\n",
       "      <td>2007</td>\n",
       "      <td>7360.92</td>\n",
       "      <td>299892</td>\n",
       "      <td>0.000000</td>\n",
       "      <td>0.000000</td>\n",
       "      <td>0.324324</td>\n",
       "      <td>4468640</td>\n",
       "      <td>East China</td>\n",
       "      <td>7040099</td>\n",
       "    </tr>\n",
       "    <tr>\n",
       "      <th>...</th>\n",
       "      <td>...</td>\n",
       "      <td>...</td>\n",
       "      <td>...</td>\n",
       "      <td>...</td>\n",
       "      <td>...</td>\n",
       "      <td>...</td>\n",
       "      <td>...</td>\n",
       "      <td>...</td>\n",
       "      <td>...</td>\n",
       "      <td>...</td>\n",
       "      <td>...</td>\n",
       "    </tr>\n",
       "    <tr>\n",
       "      <th>347</th>\n",
       "      <td>Yunnan</td>\n",
       "      <td>564400.0</td>\n",
       "      <td>2007</td>\n",
       "      <td>4772.52</td>\n",
       "      <td>39453</td>\n",
       "      <td>0.000000</td>\n",
       "      <td>0.000000</td>\n",
       "      <td>0.000000</td>\n",
       "      <td>4867146</td>\n",
       "      <td>Southwest China</td>\n",
       "      <td>6832541</td>\n",
       "    </tr>\n",
       "    <tr>\n",
       "      <th>354</th>\n",
       "      <td>Zhejiang</td>\n",
       "      <td>321686.0</td>\n",
       "      <td>2002</td>\n",
       "      <td>8003.67</td>\n",
       "      <td>307610</td>\n",
       "      <td>0.000000</td>\n",
       "      <td>0.000000</td>\n",
       "      <td>0.000000</td>\n",
       "      <td>4958329</td>\n",
       "      <td>East China</td>\n",
       "      <td>1962633</td>\n",
       "    </tr>\n",
       "    <tr>\n",
       "      <th>355</th>\n",
       "      <td>Zhejiang</td>\n",
       "      <td>260313.0</td>\n",
       "      <td>2003</td>\n",
       "      <td>9705.02</td>\n",
       "      <td>498055</td>\n",
       "      <td>1.214286</td>\n",
       "      <td>0.035714</td>\n",
       "      <td>0.035714</td>\n",
       "      <td>6217715</td>\n",
       "      <td>East China</td>\n",
       "      <td>2261631</td>\n",
       "    </tr>\n",
       "    <tr>\n",
       "      <th>358</th>\n",
       "      <td>Zhejiang</td>\n",
       "      <td>394795.0</td>\n",
       "      <td>2006</td>\n",
       "      <td>15718.47</td>\n",
       "      <td>888935</td>\n",
       "      <td>1.214286</td>\n",
       "      <td>0.035714</td>\n",
       "      <td>0.035714</td>\n",
       "      <td>11537149</td>\n",
       "      <td>East China</td>\n",
       "      <td>2553268</td>\n",
       "    </tr>\n",
       "    <tr>\n",
       "      <th>359</th>\n",
       "      <td>Zhejiang</td>\n",
       "      <td>0.0</td>\n",
       "      <td>2007</td>\n",
       "      <td>18753.73</td>\n",
       "      <td>1036576</td>\n",
       "      <td>0.047619</td>\n",
       "      <td>0.000000</td>\n",
       "      <td>0.000000</td>\n",
       "      <td>16494981</td>\n",
       "      <td>East China</td>\n",
       "      <td>2939778</td>\n",
       "    </tr>\n",
       "  </tbody>\n",
       "</table>\n",
       "<p>118 rows × 11 columns</p>\n",
       "</div>"
      ],
      "text/plain": [
       "     province   general  year       gdp      fdi       rnr        rr  \\\n",
       "4       Anhui   32100.0  2000   2902.09    31847  0.000000  0.000000   \n",
       "6       Anhui   66529.0  2002   3519.72    38375  0.000000  0.000000   \n",
       "7       Anhui   52108.0  2003   3923.11    36720  0.000000  0.000000   \n",
       "10      Anhui  279052.0  2006   6112.50   139354  0.000000  0.000000   \n",
       "11      Anhui  178705.0  2007   7360.92   299892  0.000000  0.000000   \n",
       "..        ...       ...   ...       ...      ...       ...       ...   \n",
       "347    Yunnan  564400.0  2007   4772.52    39453  0.000000  0.000000   \n",
       "354  Zhejiang  321686.0  2002   8003.67   307610  0.000000  0.000000   \n",
       "355  Zhejiang  260313.0  2003   9705.02   498055  1.214286  0.035714   \n",
       "358  Zhejiang  394795.0  2006  15718.47   888935  1.214286  0.035714   \n",
       "359  Zhejiang       0.0  2007  18753.73  1036576  0.047619  0.000000   \n",
       "\n",
       "            i        fr              reg       it  \n",
       "4    0.000000   1601508       East China  1499110  \n",
       "6    0.000000   1677840       East China  2404936  \n",
       "7    0.000000   1896479       East China  2815820  \n",
       "10   0.324324   3434548       East China  5167300  \n",
       "11   0.324324   4468640       East China  7040099  \n",
       "..        ...       ...              ...      ...  \n",
       "347  0.000000   4867146  Southwest China  6832541  \n",
       "354  0.000000   4958329       East China  1962633  \n",
       "355  0.035714   6217715       East China  2261631  \n",
       "358  0.035714  11537149       East China  2553268  \n",
       "359  0.000000  16494981       East China  2939778  \n",
       "\n",
       "[118 rows x 11 columns]"
      ]
     },
     "execution_count": 217,
     "metadata": {},
     "output_type": "execute_result"
    }
   ],
   "source": [
    "X"
   ]
  },
  {
   "cell_type": "markdown",
   "metadata": {},
   "source": [
    "### Categorical preprocessing"
   ]
  },
  {
   "cell_type": "code",
   "execution_count": 218,
   "metadata": {},
   "outputs": [],
   "source": [
    "categorical_features = ['province', 'reg']"
   ]
  },
  {
   "cell_type": "code",
   "execution_count": 219,
   "metadata": {},
   "outputs": [],
   "source": [
    "cat_prep = Pipeline([\n",
    "    ('imputer', SimpleImputer(strategy='constant', fill_value='sk_missing')),\n",
    "    ('ohe', OneHotEncoder(handle_unknown='ignore', sparse=False))\n",
    "])"
   ]
  },
  {
   "cell_type": "code",
   "execution_count": 220,
   "metadata": {},
   "outputs": [
    {
     "data": {
      "text/html": [
       "<style>div.sk-top-container {color: black;background-color: white;}div.sk-toggleable {background-color: white;}label.sk-toggleable__label {cursor: pointer;display: block;width: 100%;margin-bottom: 0;padding: 0.2em 0.3em;box-sizing: border-box;text-align: center;}div.sk-toggleable__content {max-height: 0;max-width: 0;overflow: hidden;text-align: left;background-color: #f0f8ff;}div.sk-toggleable__content pre {margin: 0.2em;color: black;border-radius: 0.25em;background-color: #f0f8ff;}input.sk-toggleable__control:checked~div.sk-toggleable__content {max-height: 200px;max-width: 100%;overflow: auto;}div.sk-estimator input.sk-toggleable__control:checked~label.sk-toggleable__label {background-color: #d4ebff;}div.sk-label input.sk-toggleable__control:checked~label.sk-toggleable__label {background-color: #d4ebff;}input.sk-hidden--visually {border: 0;clip: rect(1px 1px 1px 1px);clip: rect(1px, 1px, 1px, 1px);height: 1px;margin: -1px;overflow: hidden;padding: 0;position: absolute;width: 1px;}div.sk-estimator {font-family: monospace;background-color: #f0f8ff;margin: 0.25em 0.25em;border: 1px dotted black;border-radius: 0.25em;box-sizing: border-box;}div.sk-estimator:hover {background-color: #d4ebff;}div.sk-parallel-item::after {content: \"\";width: 100%;border-bottom: 1px solid gray;flex-grow: 1;}div.sk-label:hover label.sk-toggleable__label {background-color: #d4ebff;}div.sk-serial::before {content: \"\";position: absolute;border-left: 1px solid gray;box-sizing: border-box;top: 2em;bottom: 0;left: 50%;}div.sk-serial {display: flex;flex-direction: column;align-items: center;background-color: white;}div.sk-item {z-index: 1;}div.sk-parallel {display: flex;align-items: stretch;justify-content: center;background-color: white;}div.sk-parallel-item {display: flex;flex-direction: column;position: relative;background-color: white;}div.sk-parallel-item:first-child::after {align-self: flex-end;width: 50%;}div.sk-parallel-item:last-child::after {align-self: flex-start;width: 50%;}div.sk-parallel-item:only-child::after {width: 0;}div.sk-dashed-wrapped {border: 1px dashed gray;margin: 0.2em;box-sizing: border-box;padding-bottom: 0.1em;background-color: white;position: relative;}div.sk-label label {font-family: monospace;font-weight: bold;background-color: white;display: inline-block;line-height: 1.2em;}div.sk-label-container {position: relative;z-index: 2;text-align: center;}div.sk-container {display: inline-block;position: relative;}</style><div class=\"sk-top-container\"><div class=\"sk-container\"><div class=\"sk-item sk-dashed-wrapped\"><div class=\"sk-label-container\"><div class=\"sk-label sk-toggleable\"><input class=\"sk-toggleable__control sk-hidden--visually\" id=\"038941dd-4ef5-4b72-ac2b-59a230098729\" type=\"checkbox\" ><label class=\"sk-toggleable__label\" for=\"038941dd-4ef5-4b72-ac2b-59a230098729\">Pipeline</label><div class=\"sk-toggleable__content\"><pre>Pipeline(steps=[('imputer',\n",
       "                 SimpleImputer(fill_value='sk_missing', strategy='constant')),\n",
       "                ('ohe', OneHotEncoder(handle_unknown='ignore', sparse=False))])</pre></div></div></div><div class=\"sk-serial\"><div class=\"sk-item\"><div class=\"sk-estimator sk-toggleable\"><input class=\"sk-toggleable__control sk-hidden--visually\" id=\"8cb21aae-d8f9-46a8-a01f-5c79810516f9\" type=\"checkbox\" ><label class=\"sk-toggleable__label\" for=\"8cb21aae-d8f9-46a8-a01f-5c79810516f9\">SimpleImputer</label><div class=\"sk-toggleable__content\"><pre>SimpleImputer(fill_value='sk_missing', strategy='constant')</pre></div></div></div><div class=\"sk-item\"><div class=\"sk-estimator sk-toggleable\"><input class=\"sk-toggleable__control sk-hidden--visually\" id=\"70b55e21-1485-45dd-ba64-efcb3f5cf712\" type=\"checkbox\" ><label class=\"sk-toggleable__label\" for=\"70b55e21-1485-45dd-ba64-efcb3f5cf712\">OneHotEncoder</label><div class=\"sk-toggleable__content\"><pre>OneHotEncoder(handle_unknown='ignore', sparse=False)</pre></div></div></div></div></div></div></div>"
      ],
      "text/plain": [
       "Pipeline(steps=[('imputer',\n",
       "                 SimpleImputer(fill_value='sk_missing', strategy='constant')),\n",
       "                ('ohe', OneHotEncoder(handle_unknown='ignore', sparse=False))])"
      ]
     },
     "execution_count": 220,
     "metadata": {},
     "output_type": "execute_result"
    }
   ],
   "source": [
    "cat_prep"
   ]
  },
  {
   "cell_type": "markdown",
   "metadata": {},
   "source": [
    "#### Running only on the categorical features"
   ]
  },
  {
   "cell_type": "code",
   "execution_count": 221,
   "metadata": {},
   "outputs": [
    {
     "data": {
      "text/plain": [
       "array([[0., 0., 0., ..., 0., 0., 0.],\n",
       "       [0., 0., 0., ..., 0., 1., 0.],\n",
       "       [0., 0., 0., ..., 0., 0., 0.],\n",
       "       ...,\n",
       "       [0., 0., 0., ..., 0., 0., 0.],\n",
       "       [0., 0., 0., ..., 0., 1., 0.],\n",
       "       [0., 0., 0., ..., 0., 0., 1.]])"
      ]
     },
     "execution_count": 221,
     "metadata": {},
     "output_type": "execute_result"
    }
   ],
   "source": [
    "cat_trans = cat_prep.fit_transform(X_train[categorical_features])\n",
    "cat_trans"
   ]
  },
  {
   "cell_type": "code",
   "execution_count": 222,
   "metadata": {},
   "outputs": [
    {
     "data": {
      "text/plain": [
       "(88, 33)"
      ]
     },
     "execution_count": 222,
     "metadata": {},
     "output_type": "execute_result"
    }
   ],
   "source": [
    "cat_trans.shape"
   ]
  },
  {
   "cell_type": "markdown",
   "metadata": {},
   "source": [
    "## ColumnTransformer!"
   ]
  },
  {
   "cell_type": "code",
   "execution_count": 223,
   "metadata": {},
   "outputs": [],
   "source": [
    "ct = ColumnTransformer([\n",
    "   ('numerical', num_prep, numerical_features),\n",
    "   ('categorical', cat_prep, categorical_features)\n",
    "])"
   ]
  },
  {
   "cell_type": "code",
   "execution_count": 224,
   "metadata": {},
   "outputs": [
    {
     "data": {
      "text/html": [
       "<style>div.sk-top-container {color: black;background-color: white;}div.sk-toggleable {background-color: white;}label.sk-toggleable__label {cursor: pointer;display: block;width: 100%;margin-bottom: 0;padding: 0.2em 0.3em;box-sizing: border-box;text-align: center;}div.sk-toggleable__content {max-height: 0;max-width: 0;overflow: hidden;text-align: left;background-color: #f0f8ff;}div.sk-toggleable__content pre {margin: 0.2em;color: black;border-radius: 0.25em;background-color: #f0f8ff;}input.sk-toggleable__control:checked~div.sk-toggleable__content {max-height: 200px;max-width: 100%;overflow: auto;}div.sk-estimator input.sk-toggleable__control:checked~label.sk-toggleable__label {background-color: #d4ebff;}div.sk-label input.sk-toggleable__control:checked~label.sk-toggleable__label {background-color: #d4ebff;}input.sk-hidden--visually {border: 0;clip: rect(1px 1px 1px 1px);clip: rect(1px, 1px, 1px, 1px);height: 1px;margin: -1px;overflow: hidden;padding: 0;position: absolute;width: 1px;}div.sk-estimator {font-family: monospace;background-color: #f0f8ff;margin: 0.25em 0.25em;border: 1px dotted black;border-radius: 0.25em;box-sizing: border-box;}div.sk-estimator:hover {background-color: #d4ebff;}div.sk-parallel-item::after {content: \"\";width: 100%;border-bottom: 1px solid gray;flex-grow: 1;}div.sk-label:hover label.sk-toggleable__label {background-color: #d4ebff;}div.sk-serial::before {content: \"\";position: absolute;border-left: 1px solid gray;box-sizing: border-box;top: 2em;bottom: 0;left: 50%;}div.sk-serial {display: flex;flex-direction: column;align-items: center;background-color: white;}div.sk-item {z-index: 1;}div.sk-parallel {display: flex;align-items: stretch;justify-content: center;background-color: white;}div.sk-parallel-item {display: flex;flex-direction: column;position: relative;background-color: white;}div.sk-parallel-item:first-child::after {align-self: flex-end;width: 50%;}div.sk-parallel-item:last-child::after {align-self: flex-start;width: 50%;}div.sk-parallel-item:only-child::after {width: 0;}div.sk-dashed-wrapped {border: 1px dashed gray;margin: 0.2em;box-sizing: border-box;padding-bottom: 0.1em;background-color: white;position: relative;}div.sk-label label {font-family: monospace;font-weight: bold;background-color: white;display: inline-block;line-height: 1.2em;}div.sk-label-container {position: relative;z-index: 2;text-align: center;}div.sk-container {display: inline-block;position: relative;}</style><div class=\"sk-top-container\"><div class=\"sk-container\"><div class=\"sk-item sk-dashed-wrapped\"><div class=\"sk-label-container\"><div class=\"sk-label sk-toggleable\"><input class=\"sk-toggleable__control sk-hidden--visually\" id=\"f91724e8-5062-4d0d-9e45-effbcb242a60\" type=\"checkbox\" ><label class=\"sk-toggleable__label\" for=\"f91724e8-5062-4d0d-9e45-effbcb242a60\">ColumnTransformer</label><div class=\"sk-toggleable__content\"><pre>ColumnTransformer(transformers=[('numerical',\n",
       "                                 Pipeline(steps=[('imputer', SimpleImputer()),\n",
       "                                                 ('scaler', StandardScaler())]),\n",
       "                                 ['general', 'gdp', 'fdi', 'i', 'rr']),\n",
       "                                ('categorical',\n",
       "                                 Pipeline(steps=[('imputer',\n",
       "                                                  SimpleImputer(fill_value='sk_missing',\n",
       "                                                                strategy='constant')),\n",
       "                                                 ('ohe',\n",
       "                                                  OneHotEncoder(handle_unknown='ignore',\n",
       "                                                                sparse=False))]),\n",
       "                                 ['province', 'reg'])])</pre></div></div></div><div class=\"sk-parallel\"><div class=\"sk-parallel-item\"><div class=\"sk-item\"><div class=\"sk-label-container\"><div class=\"sk-label sk-toggleable\"><input class=\"sk-toggleable__control sk-hidden--visually\" id=\"31f75f22-3ab9-4fdb-a6ba-0b730259eee8\" type=\"checkbox\" ><label class=\"sk-toggleable__label\" for=\"31f75f22-3ab9-4fdb-a6ba-0b730259eee8\">numerical</label><div class=\"sk-toggleable__content\"><pre>['general', 'gdp', 'fdi', 'i', 'rr']</pre></div></div></div><div class=\"sk-serial\"><div class=\"sk-item\"><div class=\"sk-serial\"><div class=\"sk-item\"><div class=\"sk-estimator sk-toggleable\"><input class=\"sk-toggleable__control sk-hidden--visually\" id=\"92fbbd7d-5fa7-41af-bdbb-7681631b26a1\" type=\"checkbox\" ><label class=\"sk-toggleable__label\" for=\"92fbbd7d-5fa7-41af-bdbb-7681631b26a1\">SimpleImputer</label><div class=\"sk-toggleable__content\"><pre>SimpleImputer()</pre></div></div></div><div class=\"sk-item\"><div class=\"sk-estimator sk-toggleable\"><input class=\"sk-toggleable__control sk-hidden--visually\" id=\"887ab845-9398-4312-be3a-d700a1f2d41f\" type=\"checkbox\" ><label class=\"sk-toggleable__label\" for=\"887ab845-9398-4312-be3a-d700a1f2d41f\">StandardScaler</label><div class=\"sk-toggleable__content\"><pre>StandardScaler()</pre></div></div></div></div></div></div></div></div><div class=\"sk-parallel-item\"><div class=\"sk-item\"><div class=\"sk-label-container\"><div class=\"sk-label sk-toggleable\"><input class=\"sk-toggleable__control sk-hidden--visually\" id=\"77139fa5-db41-4a04-b0fe-eb999cc67fe0\" type=\"checkbox\" ><label class=\"sk-toggleable__label\" for=\"77139fa5-db41-4a04-b0fe-eb999cc67fe0\">categorical</label><div class=\"sk-toggleable__content\"><pre>['province', 'reg']</pre></div></div></div><div class=\"sk-serial\"><div class=\"sk-item\"><div class=\"sk-serial\"><div class=\"sk-item\"><div class=\"sk-estimator sk-toggleable\"><input class=\"sk-toggleable__control sk-hidden--visually\" id=\"b684e0f4-9e34-4ba7-9f87-fa16a354ee80\" type=\"checkbox\" ><label class=\"sk-toggleable__label\" for=\"b684e0f4-9e34-4ba7-9f87-fa16a354ee80\">SimpleImputer</label><div class=\"sk-toggleable__content\"><pre>SimpleImputer(fill_value='sk_missing', strategy='constant')</pre></div></div></div><div class=\"sk-item\"><div class=\"sk-estimator sk-toggleable\"><input class=\"sk-toggleable__control sk-hidden--visually\" id=\"0adc9a77-98d9-46b1-8b27-f2ed57c1ef6b\" type=\"checkbox\" ><label class=\"sk-toggleable__label\" for=\"0adc9a77-98d9-46b1-8b27-f2ed57c1ef6b\">OneHotEncoder</label><div class=\"sk-toggleable__content\"><pre>OneHotEncoder(handle_unknown='ignore', sparse=False)</pre></div></div></div></div></div></div></div></div></div></div></div></div>"
      ],
      "text/plain": [
       "ColumnTransformer(transformers=[('numerical',\n",
       "                                 Pipeline(steps=[('imputer', SimpleImputer()),\n",
       "                                                 ('scaler', StandardScaler())]),\n",
       "                                 ['general', 'gdp', 'fdi', 'i', 'rr']),\n",
       "                                ('categorical',\n",
       "                                 Pipeline(steps=[('imputer',\n",
       "                                                  SimpleImputer(fill_value='sk_missing',\n",
       "                                                                strategy='constant')),\n",
       "                                                 ('ohe',\n",
       "                                                  OneHotEncoder(handle_unknown='ignore',\n",
       "                                                                sparse=False))]),\n",
       "                                 ['province', 'reg'])])"
      ]
     },
     "execution_count": 224,
     "metadata": {},
     "output_type": "execute_result"
    }
   ],
   "source": [
    "ct"
   ]
  },
  {
   "cell_type": "code",
   "execution_count": 225,
   "metadata": {},
   "outputs": [],
   "source": [
    "X_trans = ct.fit_transform(X_train)"
   ]
  },
  {
   "cell_type": "code",
   "execution_count": 226,
   "metadata": {},
   "outputs": [
    {
     "data": {
      "text/plain": [
       "array([[ 0.84445696, -0.23824571,  0.05133332, -0.46886997,  1.84019633],\n",
       "       [ 0.24766853,  2.07395803,  1.57444985, -0.46886997, -0.43195321],\n",
       "       [-0.72214407, -0.0446055 , -0.43939868, -0.46886997, -0.43195321],\n",
       "       [-0.48856958, -0.11992158, -0.34379901, -0.46886997, -0.43195321],\n",
       "       [ 0.85337791, -0.87758205, -0.54348651, -0.46886997, -0.43195321],\n",
       "       [-0.62992082, -0.83196322, -0.62382665, -0.46886997,  0.17004293],\n",
       "       [-0.83650183,  3.23074054,  4.28312405,  1.06326271, -0.43195321],\n",
       "       [ 1.76828095, -0.19541419, -0.41644878, -0.46886997, -0.43195321],\n",
       "       [ 1.78635605,  0.89747804,  0.79717537, -0.46886997,  3.97033652],\n",
       "       [-0.01481382, -0.57518987, -0.60442312,  3.47737968, -0.43195321],\n",
       "       [-0.33025804, -0.71766019, -0.62552372, -0.46886997, -0.43195321],\n",
       "       [-0.75781248, -0.70583032, -0.54596728, -0.46886997, -0.43195321],\n",
       "       [ 0.18859962, -0.10301925, -0.50475274, -0.46886997,  1.78339259],\n",
       "       [ 3.61705142,  1.91072514,  0.2322093 , -0.46886997, -0.43195321],\n",
       "       [-0.52047074, -0.52639929, -0.53731279, -0.46886997, -0.43195321],\n",
       "       [-0.35308192, -0.41382042, -0.15623907,  2.47473995, -0.43195321],\n",
       "       [ 0.51483816, -0.85369871, -0.61664935, -0.46886997, -0.43195321],\n",
       "       [ 2.42485843, -0.08843151,  0.16030939, -0.46886997,  1.84019633],\n",
       "       [-0.63055638, -0.3205428 , -0.53076977, -0.46886997, -0.43195321],\n",
       "       [-0.81570508, -0.2076344 , -0.22869714,  0.25314756, -0.43195321],\n",
       "       [-0.06101258, -0.78797637, -0.31514053, -0.46886997, -0.43195321],\n",
       "       [-0.022315  ,  0.78012485,  0.51382125, -0.46886997, -0.43195321],\n",
       "       [-0.37712312, -0.55331904, -0.3258642 ,  2.14150109, -0.43195321],\n",
       "       [ 2.33926246, -0.46826211, -0.59521328,  3.47737968, -0.43195321],\n",
       "       [ 0.62612061, -0.10351944, -0.37014586, -0.46886997, -0.43195321],\n",
       "       [-0.1455937 , -0.05181405, -0.01314966, -0.46886997,  3.97033652],\n",
       "       [-0.69280823, -0.04283426, -0.47187415, -0.46886997, -0.43195321],\n",
       "       [-0.15946076, -0.25170559, -0.5456459 , -0.46886997, -0.43195321],\n",
       "       [-0.80637666, -0.98226192, -0.59981116, -0.46886997, -0.43195321],\n",
       "       [-0.45208878, -0.48061962, -0.51288289, -0.46886997,  1.78339259],\n",
       "       [ 0.4867555 , -0.58727866, -0.62254962,  0.24317887, -0.43195321],\n",
       "       [-0.74721037, -0.26346288, -0.50770147, -0.46886997, -0.26580227],\n",
       "       [ 0.71498921, -0.96701118, -0.62406064,  0.76534802, -0.43195321],\n",
       "       [-0.6776111 , -0.6259812 , -0.48297275,  1.75272242, -0.43195321],\n",
       "       [ 0.20388901,  0.55832718,  0.6523297 , -0.46886997,  3.97033652],\n",
       "       [-0.68462536, -0.15766887,  0.45117911, -0.46886997,  1.22955614],\n",
       "       [-0.68130147, -0.59197843, -0.52937716, -0.46886997, -0.43195321],\n",
       "       [-0.1213603 ,  0.16498962, -0.23803102,  1.33242116, -0.43195321],\n",
       "       [-0.68649617, -0.8274596 , -0.61330032, -0.46886997,  0.42010287],\n",
       "       [-0.73244378, -0.41583293, -0.54606312, -0.46886997, -0.43195321],\n",
       "       [-0.75418874, -0.67194329, -0.56752738, -0.46886997, -0.43195321],\n",
       "       [-0.11822093, -0.18759169, -0.14469223,  2.47473995, -0.43195321],\n",
       "       [-0.5606009 , -0.89159703, -0.62039587, -0.46886997, -0.43195321],\n",
       "       [-0.70811556, -0.99767742, -0.6295606 ,  1.33242116, -0.43195321],\n",
       "       [-0.44276036, -0.47392695, -0.57065935, -0.46886997, -0.43195321],\n",
       "       [-0.61544895, -0.21965453, -0.37710046, -0.46886997, -0.43195321],\n",
       "       [-0.57791999, -0.10080471, -0.18860741, -0.46886997,  0.18342062],\n",
       "       [ 2.23213936, -0.34291185, -0.59568406, -0.46886997, -0.43195321],\n",
       "       [ 2.06354861,  1.39098988, -0.11068883, -0.46886997, -0.43195321],\n",
       "       [-0.79190991, -0.9574449 , -0.62376745,  0.24317887, -0.43195321],\n",
       "       [ 0.26443406,  2.61416753,  3.08558822,  1.06326271, -0.43195321],\n",
       "       [-0.01209987,  0.53594439,  0.23629128, -0.46886997, -0.43195321],\n",
       "       [-0.80634591, -0.96716418, -0.61755426, -0.46886997, -0.43195321],\n",
       "       [-0.16938374,  0.8696658 ,  0.77316551, -0.27051351, -0.23415447],\n",
       "       [-0.04311944,  0.18446741, -0.14938031,  0.73199078, -0.43195321],\n",
       "       [-0.68041476,  0.47595163,  1.08241827, -0.18405044, -0.43195321],\n",
       "       [-0.76631569, -0.33855142, -0.36484886, -0.46886997,  1.06490206],\n",
       "       [-0.71942755, -1.0021987 , -0.63005112, -0.46886997,  1.28493979],\n",
       "       [ 2.56991029,  0.81760341,  0.29109646, -0.46886997,  1.99108126],\n",
       "       [-0.74181833, -0.94662522, -0.62596349, -0.46886997, -0.43195321],\n",
       "       [-0.39172056, -0.75420507, -0.61813217,  0.73199078, -0.43195321],\n",
       "       [-0.74252565, -0.58032118, -0.59939112, -0.46886997, -0.43195321],\n",
       "       [-0.52984786,  0.82098506,  1.31844616, -0.46886997, -0.43195321],\n",
       "       [-0.75226924, -0.67038781, -0.54044193, -0.46886997, -0.43195321],\n",
       "       [-0.51722886, -0.15861235,  0.53360817, -0.46886997, -0.43195321],\n",
       "       [ 0.94307429,  1.63510561,  0.0502649 , -0.46886997,  2.33722904],\n",
       "       [ 2.27493734,  0.10828435, -0.43806527,  0.81281795, -0.43195321],\n",
       "       [-0.62666612, -0.76651942, -0.62548989, -0.46886997, -0.43195321],\n",
       "       [-0.66600439, -0.34358661, -0.52269601, -0.46886997, -0.43195321],\n",
       "       [ 2.40153737,  0.79677218,  0.14893452, -0.46886997,  0.18342062],\n",
       "       [ 0.09391613,  1.61452938,  2.56423569, -0.46886997, -0.43195321],\n",
       "       [-0.70296186, -0.26446128, -0.52736154, -0.46886997, -0.43195321],\n",
       "       [ 0.44208927,  4.18123112,  3.45974963, -0.46886997, -0.43195321],\n",
       "       [-0.78308892, -1.01087642, -0.63087146, -0.46886997,  0.89725427],\n",
       "       [-0.54691067,  0.98156598,  0.70367308, -0.46886997, -0.43195321],\n",
       "       [ 0.60991632, -0.09784872, -0.51965707, -0.46886997, -0.43195321],\n",
       "       [-0.76052643, -0.96000271, -0.62467519, -0.46886997,  0.33726408],\n",
       "       [ 1.93383484,  0.09531485, -0.29395536,  4.04373958, -0.43195321],\n",
       "       [-0.76653353, -0.6801267 , -0.54957002, -0.46886997, -0.43195321],\n",
       "       [-0.83650183,  2.64457877,  2.29128386, -0.46886997, -0.43195321],\n",
       "       [-0.51706228,  1.07292328,  2.54926935, -0.46886997, -0.43195321],\n",
       "       [-0.39173081,  1.0465606 ,  2.24162345, -0.46886997, -0.43195321],\n",
       "       [ 0.54861269, -0.32386364, -0.44453781, -0.46886997, -0.43195321],\n",
       "       [-0.41346552, -0.66397367, -0.62655268, -0.46886997, -0.43195321],\n",
       "       [-0.66187067, -0.05643144,  0.1018028 ,  1.19732432, -0.43195321],\n",
       "       [-0.61096157, -0.57797129, -0.5712147 , -0.46886997, -0.43195321],\n",
       "       [ 0.34407676,  0.4601909 ,  0.05937608, -0.46886997,  0.18342062],\n",
       "       [-0.46490255, -0.97695015, -0.62658651,  1.7874348 , -0.43195321]])"
      ]
     },
     "execution_count": 226,
     "metadata": {},
     "output_type": "execute_result"
    }
   ],
   "source": [
    "X_trans[:, :5]"
   ]
  },
  {
   "cell_type": "code",
   "execution_count": 227,
   "metadata": {},
   "outputs": [
    {
     "data": {
      "text/plain": [
       "array([[0., 0., 0., ..., 0., 0., 0.],\n",
       "       [0., 0., 0., ..., 0., 1., 0.],\n",
       "       [0., 0., 0., ..., 0., 0., 0.],\n",
       "       ...,\n",
       "       [0., 0., 0., ..., 0., 0., 0.],\n",
       "       [0., 0., 0., ..., 0., 1., 0.],\n",
       "       [0., 0., 0., ..., 0., 0., 1.]])"
      ]
     },
     "execution_count": 227,
     "metadata": {},
     "output_type": "execute_result"
    }
   ],
   "source": [
    "X_trans[:, 5:]"
   ]
  },
  {
   "cell_type": "code",
   "execution_count": 228,
   "metadata": {},
   "outputs": [
    {
     "data": {
      "text/plain": [
       "(88, 38)"
      ]
     },
     "execution_count": 228,
     "metadata": {},
     "output_type": "execute_result"
    }
   ],
   "source": [
    "X_trans.shape"
   ]
  },
  {
   "cell_type": "markdown",
   "metadata": {},
   "source": [
    "### Linear model"
   ]
  },
  {
   "cell_type": "code",
   "execution_count": 229,
   "metadata": {},
   "outputs": [],
   "source": [
    "from sklearn.pipeline import Pipeline\n",
    "from sklearn.preprocessing import StandardScaler\n",
    "from sklearn.linear_model import LinearRegression"
   ]
  },
  {
   "cell_type": "code",
   "execution_count": 230,
   "metadata": {},
   "outputs": [
    {
     "data": {
      "text/html": [
       "<style>div.sk-top-container {color: black;background-color: white;}div.sk-toggleable {background-color: white;}label.sk-toggleable__label {cursor: pointer;display: block;width: 100%;margin-bottom: 0;padding: 0.2em 0.3em;box-sizing: border-box;text-align: center;}div.sk-toggleable__content {max-height: 0;max-width: 0;overflow: hidden;text-align: left;background-color: #f0f8ff;}div.sk-toggleable__content pre {margin: 0.2em;color: black;border-radius: 0.25em;background-color: #f0f8ff;}input.sk-toggleable__control:checked~div.sk-toggleable__content {max-height: 200px;max-width: 100%;overflow: auto;}div.sk-estimator input.sk-toggleable__control:checked~label.sk-toggleable__label {background-color: #d4ebff;}div.sk-label input.sk-toggleable__control:checked~label.sk-toggleable__label {background-color: #d4ebff;}input.sk-hidden--visually {border: 0;clip: rect(1px 1px 1px 1px);clip: rect(1px, 1px, 1px, 1px);height: 1px;margin: -1px;overflow: hidden;padding: 0;position: absolute;width: 1px;}div.sk-estimator {font-family: monospace;background-color: #f0f8ff;margin: 0.25em 0.25em;border: 1px dotted black;border-radius: 0.25em;box-sizing: border-box;}div.sk-estimator:hover {background-color: #d4ebff;}div.sk-parallel-item::after {content: \"\";width: 100%;border-bottom: 1px solid gray;flex-grow: 1;}div.sk-label:hover label.sk-toggleable__label {background-color: #d4ebff;}div.sk-serial::before {content: \"\";position: absolute;border-left: 1px solid gray;box-sizing: border-box;top: 2em;bottom: 0;left: 50%;}div.sk-serial {display: flex;flex-direction: column;align-items: center;background-color: white;}div.sk-item {z-index: 1;}div.sk-parallel {display: flex;align-items: stretch;justify-content: center;background-color: white;}div.sk-parallel-item {display: flex;flex-direction: column;position: relative;background-color: white;}div.sk-parallel-item:first-child::after {align-self: flex-end;width: 50%;}div.sk-parallel-item:last-child::after {align-self: flex-start;width: 50%;}div.sk-parallel-item:only-child::after {width: 0;}div.sk-dashed-wrapped {border: 1px dashed gray;margin: 0.2em;box-sizing: border-box;padding-bottom: 0.1em;background-color: white;position: relative;}div.sk-label label {font-family: monospace;font-weight: bold;background-color: white;display: inline-block;line-height: 1.2em;}div.sk-label-container {position: relative;z-index: 2;text-align: center;}div.sk-container {display: inline-block;position: relative;}</style><div class=\"sk-top-container\"><div class=\"sk-container\"><div class=\"sk-item sk-dashed-wrapped\"><div class=\"sk-label-container\"><div class=\"sk-label sk-toggleable\"><input class=\"sk-toggleable__control sk-hidden--visually\" id=\"4f992efc-9cf9-4c41-b61f-4f609e0a2933\" type=\"checkbox\" ><label class=\"sk-toggleable__label\" for=\"4f992efc-9cf9-4c41-b61f-4f609e0a2933\">Pipeline</label><div class=\"sk-toggleable__content\"><pre>Pipeline(steps=[('preprocess',\n",
       "                 ColumnTransformer(transformers=[('numerical',\n",
       "                                                  Pipeline(steps=[('imputer',\n",
       "                                                                   SimpleImputer()),\n",
       "                                                                  ('scaler',\n",
       "                                                                   StandardScaler())]),\n",
       "                                                  ['general', 'gdp', 'fdi', 'i',\n",
       "                                                   'rr']),\n",
       "                                                 ('categorical',\n",
       "                                                  Pipeline(steps=[('imputer',\n",
       "                                                                   SimpleImputer(fill_value='sk_missing',\n",
       "                                                                                 strategy='constant')),\n",
       "                                                                  ('ohe',\n",
       "                                                                   OneHotEncoder(handle_unknown='ignore',\n",
       "                                                                                 sparse=False))]),\n",
       "                                                  ['province', 'reg'])])),\n",
       "                ('lin_reg', LinearRegression())])</pre></div></div></div><div class=\"sk-serial\"><div class=\"sk-item sk-dashed-wrapped\"><div class=\"sk-label-container\"><div class=\"sk-label sk-toggleable\"><input class=\"sk-toggleable__control sk-hidden--visually\" id=\"5a6120d9-6291-438e-b527-dc324c9517c8\" type=\"checkbox\" ><label class=\"sk-toggleable__label\" for=\"5a6120d9-6291-438e-b527-dc324c9517c8\">preprocess: ColumnTransformer</label><div class=\"sk-toggleable__content\"><pre>ColumnTransformer(transformers=[('numerical',\n",
       "                                 Pipeline(steps=[('imputer', SimpleImputer()),\n",
       "                                                 ('scaler', StandardScaler())]),\n",
       "                                 ['general', 'gdp', 'fdi', 'i', 'rr']),\n",
       "                                ('categorical',\n",
       "                                 Pipeline(steps=[('imputer',\n",
       "                                                  SimpleImputer(fill_value='sk_missing',\n",
       "                                                                strategy='constant')),\n",
       "                                                 ('ohe',\n",
       "                                                  OneHotEncoder(handle_unknown='ignore',\n",
       "                                                                sparse=False))]),\n",
       "                                 ['province', 'reg'])])</pre></div></div></div><div class=\"sk-parallel\"><div class=\"sk-parallel-item\"><div class=\"sk-item\"><div class=\"sk-label-container\"><div class=\"sk-label sk-toggleable\"><input class=\"sk-toggleable__control sk-hidden--visually\" id=\"e9bcade0-b7e0-4c81-abca-930c31a55461\" type=\"checkbox\" ><label class=\"sk-toggleable__label\" for=\"e9bcade0-b7e0-4c81-abca-930c31a55461\">numerical</label><div class=\"sk-toggleable__content\"><pre>['general', 'gdp', 'fdi', 'i', 'rr']</pre></div></div></div><div class=\"sk-serial\"><div class=\"sk-item\"><div class=\"sk-serial\"><div class=\"sk-item\"><div class=\"sk-estimator sk-toggleable\"><input class=\"sk-toggleable__control sk-hidden--visually\" id=\"655ff3d1-a8cc-43fd-bf36-cdd2aa18db53\" type=\"checkbox\" ><label class=\"sk-toggleable__label\" for=\"655ff3d1-a8cc-43fd-bf36-cdd2aa18db53\">SimpleImputer</label><div class=\"sk-toggleable__content\"><pre>SimpleImputer()</pre></div></div></div><div class=\"sk-item\"><div class=\"sk-estimator sk-toggleable\"><input class=\"sk-toggleable__control sk-hidden--visually\" id=\"818adc04-3533-477b-9362-e385e3a0180d\" type=\"checkbox\" ><label class=\"sk-toggleable__label\" for=\"818adc04-3533-477b-9362-e385e3a0180d\">StandardScaler</label><div class=\"sk-toggleable__content\"><pre>StandardScaler()</pre></div></div></div></div></div></div></div></div><div class=\"sk-parallel-item\"><div class=\"sk-item\"><div class=\"sk-label-container\"><div class=\"sk-label sk-toggleable\"><input class=\"sk-toggleable__control sk-hidden--visually\" id=\"4b1bf99c-4140-4e26-a76c-921b67b32c6a\" type=\"checkbox\" ><label class=\"sk-toggleable__label\" for=\"4b1bf99c-4140-4e26-a76c-921b67b32c6a\">categorical</label><div class=\"sk-toggleable__content\"><pre>['province', 'reg']</pre></div></div></div><div class=\"sk-serial\"><div class=\"sk-item\"><div class=\"sk-serial\"><div class=\"sk-item\"><div class=\"sk-estimator sk-toggleable\"><input class=\"sk-toggleable__control sk-hidden--visually\" id=\"c05d3963-291d-4286-9afa-223b29c0a579\" type=\"checkbox\" ><label class=\"sk-toggleable__label\" for=\"c05d3963-291d-4286-9afa-223b29c0a579\">SimpleImputer</label><div class=\"sk-toggleable__content\"><pre>SimpleImputer(fill_value='sk_missing', strategy='constant')</pre></div></div></div><div class=\"sk-item\"><div class=\"sk-estimator sk-toggleable\"><input class=\"sk-toggleable__control sk-hidden--visually\" id=\"20f08436-47a9-4fc3-8d47-2bf7f6e30eb2\" type=\"checkbox\" ><label class=\"sk-toggleable__label\" for=\"20f08436-47a9-4fc3-8d47-2bf7f6e30eb2\">OneHotEncoder</label><div class=\"sk-toggleable__content\"><pre>OneHotEncoder(handle_unknown='ignore', sparse=False)</pre></div></div></div></div></div></div></div></div></div></div><div class=\"sk-item\"><div class=\"sk-estimator sk-toggleable\"><input class=\"sk-toggleable__control sk-hidden--visually\" id=\"28efe5f6-5187-4cbe-a160-c3a51aadc4b7\" type=\"checkbox\" ><label class=\"sk-toggleable__label\" for=\"28efe5f6-5187-4cbe-a160-c3a51aadc4b7\">LinearRegression</label><div class=\"sk-toggleable__content\"><pre>LinearRegression()</pre></div></div></div></div></div></div></div>"
      ],
      "text/plain": [
       "Pipeline(steps=[('preprocess',\n",
       "                 ColumnTransformer(transformers=[('numerical',\n",
       "                                                  Pipeline(steps=[('imputer',\n",
       "                                                                   SimpleImputer()),\n",
       "                                                                  ('scaler',\n",
       "                                                                   StandardScaler())]),\n",
       "                                                  ['general', 'gdp', 'fdi', 'i',\n",
       "                                                   'rr']),\n",
       "                                                 ('categorical',\n",
       "                                                  Pipeline(steps=[('imputer',\n",
       "                                                                   SimpleImputer(fill_value='sk_missing',\n",
       "                                                                                 strategy='constant')),\n",
       "                                                                  ('ohe',\n",
       "                                                                   OneHotEncoder(handle_unknown='ignore',\n",
       "                                                                                 sparse=False))]),\n",
       "                                                  ['province', 'reg'])])),\n",
       "                ('lin_reg', LinearRegression())])"
      ]
     },
     "execution_count": 230,
     "metadata": {},
     "output_type": "execute_result"
    }
   ],
   "source": [
    "lin_reg = Pipeline([\n",
    "    ('preprocess', ct),\n",
    "    ('lin_reg', LinearRegression())\n",
    "])\n",
    "lin_reg"
   ]
  },
  {
   "cell_type": "code",
   "execution_count": 231,
   "metadata": {},
   "outputs": [
    {
     "data": {
      "text/html": [
       "<style>div.sk-top-container {color: black;background-color: white;}div.sk-toggleable {background-color: white;}label.sk-toggleable__label {cursor: pointer;display: block;width: 100%;margin-bottom: 0;padding: 0.2em 0.3em;box-sizing: border-box;text-align: center;}div.sk-toggleable__content {max-height: 0;max-width: 0;overflow: hidden;text-align: left;background-color: #f0f8ff;}div.sk-toggleable__content pre {margin: 0.2em;color: black;border-radius: 0.25em;background-color: #f0f8ff;}input.sk-toggleable__control:checked~div.sk-toggleable__content {max-height: 200px;max-width: 100%;overflow: auto;}div.sk-estimator input.sk-toggleable__control:checked~label.sk-toggleable__label {background-color: #d4ebff;}div.sk-label input.sk-toggleable__control:checked~label.sk-toggleable__label {background-color: #d4ebff;}input.sk-hidden--visually {border: 0;clip: rect(1px 1px 1px 1px);clip: rect(1px, 1px, 1px, 1px);height: 1px;margin: -1px;overflow: hidden;padding: 0;position: absolute;width: 1px;}div.sk-estimator {font-family: monospace;background-color: #f0f8ff;margin: 0.25em 0.25em;border: 1px dotted black;border-radius: 0.25em;box-sizing: border-box;}div.sk-estimator:hover {background-color: #d4ebff;}div.sk-parallel-item::after {content: \"\";width: 100%;border-bottom: 1px solid gray;flex-grow: 1;}div.sk-label:hover label.sk-toggleable__label {background-color: #d4ebff;}div.sk-serial::before {content: \"\";position: absolute;border-left: 1px solid gray;box-sizing: border-box;top: 2em;bottom: 0;left: 50%;}div.sk-serial {display: flex;flex-direction: column;align-items: center;background-color: white;}div.sk-item {z-index: 1;}div.sk-parallel {display: flex;align-items: stretch;justify-content: center;background-color: white;}div.sk-parallel-item {display: flex;flex-direction: column;position: relative;background-color: white;}div.sk-parallel-item:first-child::after {align-self: flex-end;width: 50%;}div.sk-parallel-item:last-child::after {align-self: flex-start;width: 50%;}div.sk-parallel-item:only-child::after {width: 0;}div.sk-dashed-wrapped {border: 1px dashed gray;margin: 0.2em;box-sizing: border-box;padding-bottom: 0.1em;background-color: white;position: relative;}div.sk-label label {font-family: monospace;font-weight: bold;background-color: white;display: inline-block;line-height: 1.2em;}div.sk-label-container {position: relative;z-index: 2;text-align: center;}div.sk-container {display: inline-block;position: relative;}</style><div class=\"sk-top-container\"><div class=\"sk-container\"><div class=\"sk-item sk-dashed-wrapped\"><div class=\"sk-label-container\"><div class=\"sk-label sk-toggleable\"><input class=\"sk-toggleable__control sk-hidden--visually\" id=\"188becff-8fa7-491e-b45f-b766b1aa37eb\" type=\"checkbox\" ><label class=\"sk-toggleable__label\" for=\"188becff-8fa7-491e-b45f-b766b1aa37eb\">Pipeline</label><div class=\"sk-toggleable__content\"><pre>Pipeline(steps=[('preprocess',\n",
       "                 ColumnTransformer(transformers=[('numerical',\n",
       "                                                  Pipeline(steps=[('imputer',\n",
       "                                                                   SimpleImputer()),\n",
       "                                                                  ('scaler',\n",
       "                                                                   StandardScaler())]),\n",
       "                                                  ['general', 'gdp', 'fdi', 'i',\n",
       "                                                   'rr']),\n",
       "                                                 ('categorical',\n",
       "                                                  Pipeline(steps=[('imputer',\n",
       "                                                                   SimpleImputer(fill_value='sk_missing',\n",
       "                                                                                 strategy='constant')),\n",
       "                                                                  ('ohe',\n",
       "                                                                   OneHotEncoder(handle_unknown='ignore',\n",
       "                                                                                 sparse=False))]),\n",
       "                                                  ['province', 'reg'])])),\n",
       "                ('lin_reg', LinearRegression())])</pre></div></div></div><div class=\"sk-serial\"><div class=\"sk-item sk-dashed-wrapped\"><div class=\"sk-label-container\"><div class=\"sk-label sk-toggleable\"><input class=\"sk-toggleable__control sk-hidden--visually\" id=\"d10b3eb8-be36-465e-9a1e-f0e86b2b2109\" type=\"checkbox\" ><label class=\"sk-toggleable__label\" for=\"d10b3eb8-be36-465e-9a1e-f0e86b2b2109\">preprocess: ColumnTransformer</label><div class=\"sk-toggleable__content\"><pre>ColumnTransformer(transformers=[('numerical',\n",
       "                                 Pipeline(steps=[('imputer', SimpleImputer()),\n",
       "                                                 ('scaler', StandardScaler())]),\n",
       "                                 ['general', 'gdp', 'fdi', 'i', 'rr']),\n",
       "                                ('categorical',\n",
       "                                 Pipeline(steps=[('imputer',\n",
       "                                                  SimpleImputer(fill_value='sk_missing',\n",
       "                                                                strategy='constant')),\n",
       "                                                 ('ohe',\n",
       "                                                  OneHotEncoder(handle_unknown='ignore',\n",
       "                                                                sparse=False))]),\n",
       "                                 ['province', 'reg'])])</pre></div></div></div><div class=\"sk-parallel\"><div class=\"sk-parallel-item\"><div class=\"sk-item\"><div class=\"sk-label-container\"><div class=\"sk-label sk-toggleable\"><input class=\"sk-toggleable__control sk-hidden--visually\" id=\"081d1f80-b2d5-4341-a44e-1598a89d3b25\" type=\"checkbox\" ><label class=\"sk-toggleable__label\" for=\"081d1f80-b2d5-4341-a44e-1598a89d3b25\">numerical</label><div class=\"sk-toggleable__content\"><pre>['general', 'gdp', 'fdi', 'i', 'rr']</pre></div></div></div><div class=\"sk-serial\"><div class=\"sk-item\"><div class=\"sk-serial\"><div class=\"sk-item\"><div class=\"sk-estimator sk-toggleable\"><input class=\"sk-toggleable__control sk-hidden--visually\" id=\"12006af6-c6a1-4ef1-a3db-77917c5127ba\" type=\"checkbox\" ><label class=\"sk-toggleable__label\" for=\"12006af6-c6a1-4ef1-a3db-77917c5127ba\">SimpleImputer</label><div class=\"sk-toggleable__content\"><pre>SimpleImputer()</pre></div></div></div><div class=\"sk-item\"><div class=\"sk-estimator sk-toggleable\"><input class=\"sk-toggleable__control sk-hidden--visually\" id=\"ab4590e2-8525-41c9-aca2-6319e8d07f45\" type=\"checkbox\" ><label class=\"sk-toggleable__label\" for=\"ab4590e2-8525-41c9-aca2-6319e8d07f45\">StandardScaler</label><div class=\"sk-toggleable__content\"><pre>StandardScaler()</pre></div></div></div></div></div></div></div></div><div class=\"sk-parallel-item\"><div class=\"sk-item\"><div class=\"sk-label-container\"><div class=\"sk-label sk-toggleable\"><input class=\"sk-toggleable__control sk-hidden--visually\" id=\"524f2ff0-6cdb-4ffc-b584-78c8eb32be6e\" type=\"checkbox\" ><label class=\"sk-toggleable__label\" for=\"524f2ff0-6cdb-4ffc-b584-78c8eb32be6e\">categorical</label><div class=\"sk-toggleable__content\"><pre>['province', 'reg']</pre></div></div></div><div class=\"sk-serial\"><div class=\"sk-item\"><div class=\"sk-serial\"><div class=\"sk-item\"><div class=\"sk-estimator sk-toggleable\"><input class=\"sk-toggleable__control sk-hidden--visually\" id=\"f7092ef3-4742-4923-847e-cb918ca3e8da\" type=\"checkbox\" ><label class=\"sk-toggleable__label\" for=\"f7092ef3-4742-4923-847e-cb918ca3e8da\">SimpleImputer</label><div class=\"sk-toggleable__content\"><pre>SimpleImputer(fill_value='sk_missing', strategy='constant')</pre></div></div></div><div class=\"sk-item\"><div class=\"sk-estimator sk-toggleable\"><input class=\"sk-toggleable__control sk-hidden--visually\" id=\"0641a150-92aa-4e7a-b044-ed2ce964e94b\" type=\"checkbox\" ><label class=\"sk-toggleable__label\" for=\"0641a150-92aa-4e7a-b044-ed2ce964e94b\">OneHotEncoder</label><div class=\"sk-toggleable__content\"><pre>OneHotEncoder(handle_unknown='ignore', sparse=False)</pre></div></div></div></div></div></div></div></div></div></div><div class=\"sk-item\"><div class=\"sk-estimator sk-toggleable\"><input class=\"sk-toggleable__control sk-hidden--visually\" id=\"91dcafa8-3622-494d-8723-ae83633151a5\" type=\"checkbox\" ><label class=\"sk-toggleable__label\" for=\"91dcafa8-3622-494d-8723-ae83633151a5\">LinearRegression</label><div class=\"sk-toggleable__content\"><pre>LinearRegression()</pre></div></div></div></div></div></div></div>"
      ],
      "text/plain": [
       "Pipeline(steps=[('preprocess',\n",
       "                 ColumnTransformer(transformers=[('numerical',\n",
       "                                                  Pipeline(steps=[('imputer',\n",
       "                                                                   SimpleImputer()),\n",
       "                                                                  ('scaler',\n",
       "                                                                   StandardScaler())]),\n",
       "                                                  ['general', 'gdp', 'fdi', 'i',\n",
       "                                                   'rr']),\n",
       "                                                 ('categorical',\n",
       "                                                  Pipeline(steps=[('imputer',\n",
       "                                                                   SimpleImputer(fill_value='sk_missing',\n",
       "                                                                                 strategy='constant')),\n",
       "                                                                  ('ohe',\n",
       "                                                                   OneHotEncoder(handle_unknown='ignore',\n",
       "                                                                                 sparse=False))]),\n",
       "                                                  ['province', 'reg'])])),\n",
       "                ('lin_reg', LinearRegression())])"
      ]
     },
     "execution_count": 231,
     "metadata": {},
     "output_type": "execute_result"
    }
   ],
   "source": [
    "lin_reg.fit(X_train, y_train)"
   ]
  },
  {
   "cell_type": "code",
   "execution_count": 233,
   "metadata": {},
   "outputs": [
    {
     "data": {
      "text/plain": [
       "0.9195619190476331"
      ]
     },
     "execution_count": 233,
     "metadata": {},
     "output_type": "execute_result"
    }
   ],
   "source": [
    "lin_reg.score(X_train, y_train)"
   ]
  },
  {
   "cell_type": "markdown",
   "metadata": {},
   "source": [
    "## Random Forest"
   ]
  },
  {
   "cell_type": "code",
   "execution_count": 234,
   "metadata": {},
   "outputs": [],
   "source": [
    "from sklearn.ensemble import RandomForestRegressor"
   ]
  },
  {
   "cell_type": "code",
   "execution_count": 235,
   "metadata": {},
   "outputs": [
    {
     "data": {
      "text/html": [
       "<style>div.sk-top-container {color: black;background-color: white;}div.sk-toggleable {background-color: white;}label.sk-toggleable__label {cursor: pointer;display: block;width: 100%;margin-bottom: 0;padding: 0.2em 0.3em;box-sizing: border-box;text-align: center;}div.sk-toggleable__content {max-height: 0;max-width: 0;overflow: hidden;text-align: left;background-color: #f0f8ff;}div.sk-toggleable__content pre {margin: 0.2em;color: black;border-radius: 0.25em;background-color: #f0f8ff;}input.sk-toggleable__control:checked~div.sk-toggleable__content {max-height: 200px;max-width: 100%;overflow: auto;}div.sk-estimator input.sk-toggleable__control:checked~label.sk-toggleable__label {background-color: #d4ebff;}div.sk-label input.sk-toggleable__control:checked~label.sk-toggleable__label {background-color: #d4ebff;}input.sk-hidden--visually {border: 0;clip: rect(1px 1px 1px 1px);clip: rect(1px, 1px, 1px, 1px);height: 1px;margin: -1px;overflow: hidden;padding: 0;position: absolute;width: 1px;}div.sk-estimator {font-family: monospace;background-color: #f0f8ff;margin: 0.25em 0.25em;border: 1px dotted black;border-radius: 0.25em;box-sizing: border-box;}div.sk-estimator:hover {background-color: #d4ebff;}div.sk-parallel-item::after {content: \"\";width: 100%;border-bottom: 1px solid gray;flex-grow: 1;}div.sk-label:hover label.sk-toggleable__label {background-color: #d4ebff;}div.sk-serial::before {content: \"\";position: absolute;border-left: 1px solid gray;box-sizing: border-box;top: 2em;bottom: 0;left: 50%;}div.sk-serial {display: flex;flex-direction: column;align-items: center;background-color: white;}div.sk-item {z-index: 1;}div.sk-parallel {display: flex;align-items: stretch;justify-content: center;background-color: white;}div.sk-parallel-item {display: flex;flex-direction: column;position: relative;background-color: white;}div.sk-parallel-item:first-child::after {align-self: flex-end;width: 50%;}div.sk-parallel-item:last-child::after {align-self: flex-start;width: 50%;}div.sk-parallel-item:only-child::after {width: 0;}div.sk-dashed-wrapped {border: 1px dashed gray;margin: 0.2em;box-sizing: border-box;padding-bottom: 0.1em;background-color: white;position: relative;}div.sk-label label {font-family: monospace;font-weight: bold;background-color: white;display: inline-block;line-height: 1.2em;}div.sk-label-container {position: relative;z-index: 2;text-align: center;}div.sk-container {display: inline-block;position: relative;}</style><div class=\"sk-top-container\"><div class=\"sk-container\"><div class=\"sk-item sk-dashed-wrapped\"><div class=\"sk-label-container\"><div class=\"sk-label sk-toggleable\"><input class=\"sk-toggleable__control sk-hidden--visually\" id=\"94c28f21-fa87-4fe0-8ebb-d5bd1806df1d\" type=\"checkbox\" ><label class=\"sk-toggleable__label\" for=\"94c28f21-fa87-4fe0-8ebb-d5bd1806df1d\">Pipeline</label><div class=\"sk-toggleable__content\"><pre>Pipeline(steps=[('preprocess',\n",
       "                 ColumnTransformer(transformers=[('numerical',\n",
       "                                                  Pipeline(steps=[('imputer',\n",
       "                                                                   SimpleImputer()),\n",
       "                                                                  ('scaler',\n",
       "                                                                   StandardScaler())]),\n",
       "                                                  ['general', 'gdp', 'fdi', 'i',\n",
       "                                                   'rr']),\n",
       "                                                 ('categorical',\n",
       "                                                  Pipeline(steps=[('imputer',\n",
       "                                                                   SimpleImputer(fill_value='sk_missing',\n",
       "                                                                                 strategy='constant')),\n",
       "                                                                  ('ohe',\n",
       "                                                                   OneHotEncoder(handle_unknown='ignore',\n",
       "                                                                                 sparse=False))]),\n",
       "                                                  ['province', 'reg'])])),\n",
       "                ('log_reg', RandomForestRegressor(random_state=42))])</pre></div></div></div><div class=\"sk-serial\"><div class=\"sk-item sk-dashed-wrapped\"><div class=\"sk-label-container\"><div class=\"sk-label sk-toggleable\"><input class=\"sk-toggleable__control sk-hidden--visually\" id=\"7a9013d7-b0cf-430c-9587-f4142f7d0d07\" type=\"checkbox\" ><label class=\"sk-toggleable__label\" for=\"7a9013d7-b0cf-430c-9587-f4142f7d0d07\">preprocess: ColumnTransformer</label><div class=\"sk-toggleable__content\"><pre>ColumnTransformer(transformers=[('numerical',\n",
       "                                 Pipeline(steps=[('imputer', SimpleImputer()),\n",
       "                                                 ('scaler', StandardScaler())]),\n",
       "                                 ['general', 'gdp', 'fdi', 'i', 'rr']),\n",
       "                                ('categorical',\n",
       "                                 Pipeline(steps=[('imputer',\n",
       "                                                  SimpleImputer(fill_value='sk_missing',\n",
       "                                                                strategy='constant')),\n",
       "                                                 ('ohe',\n",
       "                                                  OneHotEncoder(handle_unknown='ignore',\n",
       "                                                                sparse=False))]),\n",
       "                                 ['province', 'reg'])])</pre></div></div></div><div class=\"sk-parallel\"><div class=\"sk-parallel-item\"><div class=\"sk-item\"><div class=\"sk-label-container\"><div class=\"sk-label sk-toggleable\"><input class=\"sk-toggleable__control sk-hidden--visually\" id=\"4c03c05f-8b07-4651-b0ca-b7dfb364bd2a\" type=\"checkbox\" ><label class=\"sk-toggleable__label\" for=\"4c03c05f-8b07-4651-b0ca-b7dfb364bd2a\">numerical</label><div class=\"sk-toggleable__content\"><pre>['general', 'gdp', 'fdi', 'i', 'rr']</pre></div></div></div><div class=\"sk-serial\"><div class=\"sk-item\"><div class=\"sk-serial\"><div class=\"sk-item\"><div class=\"sk-estimator sk-toggleable\"><input class=\"sk-toggleable__control sk-hidden--visually\" id=\"0ed3bf5e-46e5-42f1-b348-593c83f1416c\" type=\"checkbox\" ><label class=\"sk-toggleable__label\" for=\"0ed3bf5e-46e5-42f1-b348-593c83f1416c\">SimpleImputer</label><div class=\"sk-toggleable__content\"><pre>SimpleImputer()</pre></div></div></div><div class=\"sk-item\"><div class=\"sk-estimator sk-toggleable\"><input class=\"sk-toggleable__control sk-hidden--visually\" id=\"2d67c14a-6d6f-4b9a-b381-9d146fba171a\" type=\"checkbox\" ><label class=\"sk-toggleable__label\" for=\"2d67c14a-6d6f-4b9a-b381-9d146fba171a\">StandardScaler</label><div class=\"sk-toggleable__content\"><pre>StandardScaler()</pre></div></div></div></div></div></div></div></div><div class=\"sk-parallel-item\"><div class=\"sk-item\"><div class=\"sk-label-container\"><div class=\"sk-label sk-toggleable\"><input class=\"sk-toggleable__control sk-hidden--visually\" id=\"1ccaca0c-f00a-47eb-8116-d583bb7725e5\" type=\"checkbox\" ><label class=\"sk-toggleable__label\" for=\"1ccaca0c-f00a-47eb-8116-d583bb7725e5\">categorical</label><div class=\"sk-toggleable__content\"><pre>['province', 'reg']</pre></div></div></div><div class=\"sk-serial\"><div class=\"sk-item\"><div class=\"sk-serial\"><div class=\"sk-item\"><div class=\"sk-estimator sk-toggleable\"><input class=\"sk-toggleable__control sk-hidden--visually\" id=\"aae7eb93-f903-4620-a7c1-4e1ee83f98b6\" type=\"checkbox\" ><label class=\"sk-toggleable__label\" for=\"aae7eb93-f903-4620-a7c1-4e1ee83f98b6\">SimpleImputer</label><div class=\"sk-toggleable__content\"><pre>SimpleImputer(fill_value='sk_missing', strategy='constant')</pre></div></div></div><div class=\"sk-item\"><div class=\"sk-estimator sk-toggleable\"><input class=\"sk-toggleable__control sk-hidden--visually\" id=\"72c901e7-d213-46f5-b18a-527ebef43edf\" type=\"checkbox\" ><label class=\"sk-toggleable__label\" for=\"72c901e7-d213-46f5-b18a-527ebef43edf\">OneHotEncoder</label><div class=\"sk-toggleable__content\"><pre>OneHotEncoder(handle_unknown='ignore', sparse=False)</pre></div></div></div></div></div></div></div></div></div></div><div class=\"sk-item\"><div class=\"sk-estimator sk-toggleable\"><input class=\"sk-toggleable__control sk-hidden--visually\" id=\"a55e1dac-49ba-475f-8b1c-09ee46b433b2\" type=\"checkbox\" ><label class=\"sk-toggleable__label\" for=\"a55e1dac-49ba-475f-8b1c-09ee46b433b2\">RandomForestRegressor</label><div class=\"sk-toggleable__content\"><pre>RandomForestRegressor(random_state=42)</pre></div></div></div></div></div></div></div>"
      ],
      "text/plain": [
       "Pipeline(steps=[('preprocess',\n",
       "                 ColumnTransformer(transformers=[('numerical',\n",
       "                                                  Pipeline(steps=[('imputer',\n",
       "                                                                   SimpleImputer()),\n",
       "                                                                  ('scaler',\n",
       "                                                                   StandardScaler())]),\n",
       "                                                  ['general', 'gdp', 'fdi', 'i',\n",
       "                                                   'rr']),\n",
       "                                                 ('categorical',\n",
       "                                                  Pipeline(steps=[('imputer',\n",
       "                                                                   SimpleImputer(fill_value='sk_missing',\n",
       "                                                                                 strategy='constant')),\n",
       "                                                                  ('ohe',\n",
       "                                                                   OneHotEncoder(handle_unknown='ignore',\n",
       "                                                                                 sparse=False))]),\n",
       "                                                  ['province', 'reg'])])),\n",
       "                ('log_reg', RandomForestRegressor(random_state=42))])"
      ]
     },
     "execution_count": 235,
     "metadata": {},
     "output_type": "execute_result"
    }
   ],
   "source": [
    "rf = Pipeline([\n",
    "    ('preprocess', ct),\n",
    "    ('log_reg', RandomForestRegressor(random_state=42))\n",
    "])\n",
    "rf"
   ]
  },
  {
   "cell_type": "code",
   "execution_count": 236,
   "metadata": {},
   "outputs": [
    {
     "data": {
      "text/html": [
       "<style>div.sk-top-container {color: black;background-color: white;}div.sk-toggleable {background-color: white;}label.sk-toggleable__label {cursor: pointer;display: block;width: 100%;margin-bottom: 0;padding: 0.2em 0.3em;box-sizing: border-box;text-align: center;}div.sk-toggleable__content {max-height: 0;max-width: 0;overflow: hidden;text-align: left;background-color: #f0f8ff;}div.sk-toggleable__content pre {margin: 0.2em;color: black;border-radius: 0.25em;background-color: #f0f8ff;}input.sk-toggleable__control:checked~div.sk-toggleable__content {max-height: 200px;max-width: 100%;overflow: auto;}div.sk-estimator input.sk-toggleable__control:checked~label.sk-toggleable__label {background-color: #d4ebff;}div.sk-label input.sk-toggleable__control:checked~label.sk-toggleable__label {background-color: #d4ebff;}input.sk-hidden--visually {border: 0;clip: rect(1px 1px 1px 1px);clip: rect(1px, 1px, 1px, 1px);height: 1px;margin: -1px;overflow: hidden;padding: 0;position: absolute;width: 1px;}div.sk-estimator {font-family: monospace;background-color: #f0f8ff;margin: 0.25em 0.25em;border: 1px dotted black;border-radius: 0.25em;box-sizing: border-box;}div.sk-estimator:hover {background-color: #d4ebff;}div.sk-parallel-item::after {content: \"\";width: 100%;border-bottom: 1px solid gray;flex-grow: 1;}div.sk-label:hover label.sk-toggleable__label {background-color: #d4ebff;}div.sk-serial::before {content: \"\";position: absolute;border-left: 1px solid gray;box-sizing: border-box;top: 2em;bottom: 0;left: 50%;}div.sk-serial {display: flex;flex-direction: column;align-items: center;background-color: white;}div.sk-item {z-index: 1;}div.sk-parallel {display: flex;align-items: stretch;justify-content: center;background-color: white;}div.sk-parallel-item {display: flex;flex-direction: column;position: relative;background-color: white;}div.sk-parallel-item:first-child::after {align-self: flex-end;width: 50%;}div.sk-parallel-item:last-child::after {align-self: flex-start;width: 50%;}div.sk-parallel-item:only-child::after {width: 0;}div.sk-dashed-wrapped {border: 1px dashed gray;margin: 0.2em;box-sizing: border-box;padding-bottom: 0.1em;background-color: white;position: relative;}div.sk-label label {font-family: monospace;font-weight: bold;background-color: white;display: inline-block;line-height: 1.2em;}div.sk-label-container {position: relative;z-index: 2;text-align: center;}div.sk-container {display: inline-block;position: relative;}</style><div class=\"sk-top-container\"><div class=\"sk-container\"><div class=\"sk-item sk-dashed-wrapped\"><div class=\"sk-label-container\"><div class=\"sk-label sk-toggleable\"><input class=\"sk-toggleable__control sk-hidden--visually\" id=\"e145d5e3-c30f-45de-912b-2fdf3041bb84\" type=\"checkbox\" ><label class=\"sk-toggleable__label\" for=\"e145d5e3-c30f-45de-912b-2fdf3041bb84\">Pipeline</label><div class=\"sk-toggleable__content\"><pre>Pipeline(steps=[('preprocess',\n",
       "                 ColumnTransformer(transformers=[('numerical',\n",
       "                                                  Pipeline(steps=[('imputer',\n",
       "                                                                   SimpleImputer()),\n",
       "                                                                  ('scaler',\n",
       "                                                                   StandardScaler())]),\n",
       "                                                  ['general', 'gdp', 'fdi', 'i',\n",
       "                                                   'rr']),\n",
       "                                                 ('categorical',\n",
       "                                                  Pipeline(steps=[('imputer',\n",
       "                                                                   SimpleImputer(fill_value='sk_missing',\n",
       "                                                                                 strategy='constant')),\n",
       "                                                                  ('ohe',\n",
       "                                                                   OneHotEncoder(handle_unknown='ignore',\n",
       "                                                                                 sparse=False))]),\n",
       "                                                  ['province', 'reg'])])),\n",
       "                ('log_reg', RandomForestRegressor(random_state=42))])</pre></div></div></div><div class=\"sk-serial\"><div class=\"sk-item sk-dashed-wrapped\"><div class=\"sk-label-container\"><div class=\"sk-label sk-toggleable\"><input class=\"sk-toggleable__control sk-hidden--visually\" id=\"27e04c30-079a-4dac-b72f-725ce47fcef9\" type=\"checkbox\" ><label class=\"sk-toggleable__label\" for=\"27e04c30-079a-4dac-b72f-725ce47fcef9\">preprocess: ColumnTransformer</label><div class=\"sk-toggleable__content\"><pre>ColumnTransformer(transformers=[('numerical',\n",
       "                                 Pipeline(steps=[('imputer', SimpleImputer()),\n",
       "                                                 ('scaler', StandardScaler())]),\n",
       "                                 ['general', 'gdp', 'fdi', 'i', 'rr']),\n",
       "                                ('categorical',\n",
       "                                 Pipeline(steps=[('imputer',\n",
       "                                                  SimpleImputer(fill_value='sk_missing',\n",
       "                                                                strategy='constant')),\n",
       "                                                 ('ohe',\n",
       "                                                  OneHotEncoder(handle_unknown='ignore',\n",
       "                                                                sparse=False))]),\n",
       "                                 ['province', 'reg'])])</pre></div></div></div><div class=\"sk-parallel\"><div class=\"sk-parallel-item\"><div class=\"sk-item\"><div class=\"sk-label-container\"><div class=\"sk-label sk-toggleable\"><input class=\"sk-toggleable__control sk-hidden--visually\" id=\"4246ba1a-4db5-419a-8262-7a44d6f9e6a9\" type=\"checkbox\" ><label class=\"sk-toggleable__label\" for=\"4246ba1a-4db5-419a-8262-7a44d6f9e6a9\">numerical</label><div class=\"sk-toggleable__content\"><pre>['general', 'gdp', 'fdi', 'i', 'rr']</pre></div></div></div><div class=\"sk-serial\"><div class=\"sk-item\"><div class=\"sk-serial\"><div class=\"sk-item\"><div class=\"sk-estimator sk-toggleable\"><input class=\"sk-toggleable__control sk-hidden--visually\" id=\"a5833ef8-0ea1-442d-89d5-bf3e773576ef\" type=\"checkbox\" ><label class=\"sk-toggleable__label\" for=\"a5833ef8-0ea1-442d-89d5-bf3e773576ef\">SimpleImputer</label><div class=\"sk-toggleable__content\"><pre>SimpleImputer()</pre></div></div></div><div class=\"sk-item\"><div class=\"sk-estimator sk-toggleable\"><input class=\"sk-toggleable__control sk-hidden--visually\" id=\"9a880e02-8d01-425b-b00f-95fd0fabe330\" type=\"checkbox\" ><label class=\"sk-toggleable__label\" for=\"9a880e02-8d01-425b-b00f-95fd0fabe330\">StandardScaler</label><div class=\"sk-toggleable__content\"><pre>StandardScaler()</pre></div></div></div></div></div></div></div></div><div class=\"sk-parallel-item\"><div class=\"sk-item\"><div class=\"sk-label-container\"><div class=\"sk-label sk-toggleable\"><input class=\"sk-toggleable__control sk-hidden--visually\" id=\"87de2e0c-eb61-4f39-873c-0ce06c263395\" type=\"checkbox\" ><label class=\"sk-toggleable__label\" for=\"87de2e0c-eb61-4f39-873c-0ce06c263395\">categorical</label><div class=\"sk-toggleable__content\"><pre>['province', 'reg']</pre></div></div></div><div class=\"sk-serial\"><div class=\"sk-item\"><div class=\"sk-serial\"><div class=\"sk-item\"><div class=\"sk-estimator sk-toggleable\"><input class=\"sk-toggleable__control sk-hidden--visually\" id=\"bc4ff994-e6a9-4b5d-8103-a9e1268ce3e1\" type=\"checkbox\" ><label class=\"sk-toggleable__label\" for=\"bc4ff994-e6a9-4b5d-8103-a9e1268ce3e1\">SimpleImputer</label><div class=\"sk-toggleable__content\"><pre>SimpleImputer(fill_value='sk_missing', strategy='constant')</pre></div></div></div><div class=\"sk-item\"><div class=\"sk-estimator sk-toggleable\"><input class=\"sk-toggleable__control sk-hidden--visually\" id=\"23e9961a-3e6f-445f-b6d6-8238b86510ca\" type=\"checkbox\" ><label class=\"sk-toggleable__label\" for=\"23e9961a-3e6f-445f-b6d6-8238b86510ca\">OneHotEncoder</label><div class=\"sk-toggleable__content\"><pre>OneHotEncoder(handle_unknown='ignore', sparse=False)</pre></div></div></div></div></div></div></div></div></div></div><div class=\"sk-item\"><div class=\"sk-estimator sk-toggleable\"><input class=\"sk-toggleable__control sk-hidden--visually\" id=\"520c8f1c-2193-4340-8ff1-b1e88863723c\" type=\"checkbox\" ><label class=\"sk-toggleable__label\" for=\"520c8f1c-2193-4340-8ff1-b1e88863723c\">RandomForestRegressor</label><div class=\"sk-toggleable__content\"><pre>RandomForestRegressor(random_state=42)</pre></div></div></div></div></div></div></div>"
      ],
      "text/plain": [
       "Pipeline(steps=[('preprocess',\n",
       "                 ColumnTransformer(transformers=[('numerical',\n",
       "                                                  Pipeline(steps=[('imputer',\n",
       "                                                                   SimpleImputer()),\n",
       "                                                                  ('scaler',\n",
       "                                                                   StandardScaler())]),\n",
       "                                                  ['general', 'gdp', 'fdi', 'i',\n",
       "                                                   'rr']),\n",
       "                                                 ('categorical',\n",
       "                                                  Pipeline(steps=[('imputer',\n",
       "                                                                   SimpleImputer(fill_value='sk_missing',\n",
       "                                                                                 strategy='constant')),\n",
       "                                                                  ('ohe',\n",
       "                                                                   OneHotEncoder(handle_unknown='ignore',\n",
       "                                                                                 sparse=False))]),\n",
       "                                                  ['province', 'reg'])])),\n",
       "                ('log_reg', RandomForestRegressor(random_state=42))])"
      ]
     },
     "execution_count": 236,
     "metadata": {},
     "output_type": "execute_result"
    }
   ],
   "source": [
    "rf.fit(X_train, y_train)"
   ]
  },
  {
   "cell_type": "code",
   "execution_count": 237,
   "metadata": {},
   "outputs": [
    {
     "data": {
      "text/plain": [
       "0.9503718502648469"
      ]
     },
     "execution_count": 237,
     "metadata": {},
     "output_type": "execute_result"
    }
   ],
   "source": [
    "rf.score(X_train, y_train)"
   ]
  }
 ],
 "metadata": {
  "kernelspec": {
   "display_name": "Python 3",
   "language": "python",
   "name": "python3"
  },
  "language_info": {
   "codemirror_mode": {
    "name": "ipython",
    "version": 3
   },
   "file_extension": ".py",
   "mimetype": "text/x-python",
   "name": "python",
   "nbconvert_exporter": "python",
   "pygments_lexer": "ipython3",
   "version": "3.8.5"
  }
 },
 "nbformat": 4,
 "nbformat_minor": 4
}
