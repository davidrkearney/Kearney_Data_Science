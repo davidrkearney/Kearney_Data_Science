{
 "cells": [
  {
   "cell_type": "markdown",
   "metadata": {},
   "source": [
    "# Daily and Cumulative Returns, CAPM"
   ]
  },
  {
   "cell_type": "markdown",
   "metadata": {},
   "source": [
    "This post includes code and notes from [python for finance and trading algorithms udemy course](https://udemy.com/python-for-finance-and-trading-algorithms/) and [python for finance and trading algorithms udemy course notebooks](https://github.com/theoneandonlywoj/Python-for-Financial-Analysis-and-Algorithmic-Trading)."
   ]
  },
  {
   "cell_type": "code",
   "execution_count": 6,
   "metadata": {},
   "outputs": [],
   "source": [
    "from scipy import stats"
   ]
  },
  {
   "cell_type": "code",
   "execution_count": 66,
   "metadata": {},
   "outputs": [],
   "source": [
    "# help(stats.linregress)"
   ]
  },
  {
   "cell_type": "code",
   "execution_count": 8,
   "metadata": {},
   "outputs": [],
   "source": [
    "import pandas as pd"
   ]
  },
  {
   "cell_type": "code",
   "execution_count": 9,
   "metadata": {},
   "outputs": [],
   "source": [
    "import pandas_datareader as web"
   ]
  },
  {
   "cell_type": "code",
   "execution_count": 40,
   "metadata": {},
   "outputs": [
    {
     "data": {
      "text/html": [
       "<div>\n",
       "<style scoped>\n",
       "    .dataframe tbody tr th:only-of-type {\n",
       "        vertical-align: middle;\n",
       "    }\n",
       "\n",
       "    .dataframe tbody tr th {\n",
       "        vertical-align: top;\n",
       "    }\n",
       "\n",
       "    .dataframe thead th {\n",
       "        text-align: right;\n",
       "    }\n",
       "</style>\n",
       "<table border=\"1\" class=\"dataframe\">\n",
       "  <thead>\n",
       "    <tr style=\"text-align: right;\">\n",
       "      <th></th>\n",
       "      <th>High</th>\n",
       "      <th>Low</th>\n",
       "      <th>Open</th>\n",
       "      <th>Close</th>\n",
       "      <th>Volume</th>\n",
       "      <th>Adj Close</th>\n",
       "    </tr>\n",
       "    <tr>\n",
       "      <th>Date</th>\n",
       "      <th></th>\n",
       "      <th></th>\n",
       "      <th></th>\n",
       "      <th></th>\n",
       "      <th></th>\n",
       "      <th></th>\n",
       "    </tr>\n",
       "  </thead>\n",
       "  <tbody>\n",
       "    <tr>\n",
       "      <th>2020-01-02</th>\n",
       "      <td>65.269997</td>\n",
       "      <td>65.269997</td>\n",
       "      <td>65.269997</td>\n",
       "      <td>65.269997</td>\n",
       "      <td>0.0</td>\n",
       "      <td>65.192108</td>\n",
       "    </tr>\n",
       "    <tr>\n",
       "      <th>2020-01-03</th>\n",
       "      <td>65.129997</td>\n",
       "      <td>65.129997</td>\n",
       "      <td>65.129997</td>\n",
       "      <td>65.129997</td>\n",
       "      <td>0.0</td>\n",
       "      <td>65.052277</td>\n",
       "    </tr>\n",
       "    <tr>\n",
       "      <th>2020-01-06</th>\n",
       "      <td>65.279999</td>\n",
       "      <td>65.279999</td>\n",
       "      <td>65.279999</td>\n",
       "      <td>65.279999</td>\n",
       "      <td>0.0</td>\n",
       "      <td>65.202103</td>\n",
       "    </tr>\n",
       "    <tr>\n",
       "      <th>2020-01-07</th>\n",
       "      <td>65.180000</td>\n",
       "      <td>65.180000</td>\n",
       "      <td>65.180000</td>\n",
       "      <td>65.180000</td>\n",
       "      <td>0.0</td>\n",
       "      <td>65.102219</td>\n",
       "    </tr>\n",
       "    <tr>\n",
       "      <th>2020-01-08</th>\n",
       "      <td>65.410004</td>\n",
       "      <td>65.410004</td>\n",
       "      <td>65.410004</td>\n",
       "      <td>65.410004</td>\n",
       "      <td>0.0</td>\n",
       "      <td>65.331947</td>\n",
       "    </tr>\n",
       "  </tbody>\n",
       "</table>\n",
       "</div>"
      ],
      "text/plain": [
       "                 High        Low       Open      Close  Volume  Adj Close\n",
       "Date                                                                     \n",
       "2020-01-02  65.269997  65.269997  65.269997  65.269997     0.0  65.192108\n",
       "2020-01-03  65.129997  65.129997  65.129997  65.129997     0.0  65.052277\n",
       "2020-01-06  65.279999  65.279999  65.279999  65.279999     0.0  65.202103\n",
       "2020-01-07  65.180000  65.180000  65.180000  65.180000     0.0  65.102219\n",
       "2020-01-08  65.410004  65.410004  65.410004  65.410004     0.0  65.331947"
      ]
     },
     "execution_count": 40,
     "metadata": {},
     "output_type": "execute_result"
    }
   ],
   "source": [
    "start = pd.to_datetime('2020-01-01')\n",
    "end = pd.to_datetime('today')\n",
    "\n",
    "FXAIX_stock = web.DataReader('FXAIX', 'yahoo', start, end)\n",
    "FXAIX_stock.head()\n",
    "\n",
    "VRTTX_stock = web.DataReader('VRTTX', 'yahoo', start, end)\n",
    "VRTTX_stock.head()\n",
    "\n",
    "\n",
    "FNCMX_stock = web.DataReader('FNCMX', 'yahoo', start, end)\n",
    "FNCMX_stock.head()\n",
    "\n",
    "FSMAX_stock = web.DataReader('FSMAX', 'yahoo', start, end)\n",
    "FSMAX_stock.head()"
   ]
  },
  {
   "cell_type": "code",
   "execution_count": 41,
   "metadata": {},
   "outputs": [],
   "source": [
    "import matplotlib.pyplot as plt\n",
    "%matplotlib inline"
   ]
  },
  {
   "cell_type": "code",
   "execution_count": 42,
   "metadata": {},
   "outputs": [
    {
     "data": {
      "text/html": [
       "<div>\n",
       "<style scoped>\n",
       "    .dataframe tbody tr th:only-of-type {\n",
       "        vertical-align: middle;\n",
       "    }\n",
       "\n",
       "    .dataframe tbody tr th {\n",
       "        vertical-align: top;\n",
       "    }\n",
       "\n",
       "    .dataframe thead th {\n",
       "        text-align: right;\n",
       "    }\n",
       "</style>\n",
       "<table border=\"1\" class=\"dataframe\">\n",
       "  <thead>\n",
       "    <tr style=\"text-align: right;\">\n",
       "      <th></th>\n",
       "      <th>FXAIX_stock</th>\n",
       "      <th>VRTTX_stock</th>\n",
       "      <th>FNCMX_stock</th>\n",
       "      <th>FSMAX_stock</th>\n",
       "    </tr>\n",
       "    <tr>\n",
       "      <th>Date</th>\n",
       "      <th></th>\n",
       "      <th></th>\n",
       "      <th></th>\n",
       "      <th></th>\n",
       "    </tr>\n",
       "  </thead>\n",
       "  <tbody>\n",
       "    <tr>\n",
       "      <th>2018-01-02</th>\n",
       "      <td>94.230003</td>\n",
       "      <td>238.889999</td>\n",
       "      <td>91.989998</td>\n",
       "      <td>62.529999</td>\n",
       "    </tr>\n",
       "    <tr>\n",
       "      <th>2018-01-03</th>\n",
       "      <td>94.830002</td>\n",
       "      <td>240.289993</td>\n",
       "      <td>92.760002</td>\n",
       "      <td>62.740002</td>\n",
       "    </tr>\n",
       "    <tr>\n",
       "      <th>2018-01-04</th>\n",
       "      <td>95.230003</td>\n",
       "      <td>241.199997</td>\n",
       "      <td>92.930000</td>\n",
       "      <td>62.849998</td>\n",
       "    </tr>\n",
       "    <tr>\n",
       "      <th>2018-01-05</th>\n",
       "      <td>95.900002</td>\n",
       "      <td>242.750000</td>\n",
       "      <td>93.699997</td>\n",
       "      <td>63.090000</td>\n",
       "    </tr>\n",
       "    <tr>\n",
       "      <th>2018-01-08</th>\n",
       "      <td>96.059998</td>\n",
       "      <td>243.199997</td>\n",
       "      <td>93.970001</td>\n",
       "      <td>63.270000</td>\n",
       "    </tr>\n",
       "    <tr>\n",
       "      <th>...</th>\n",
       "      <td>...</td>\n",
       "      <td>...</td>\n",
       "      <td>...</td>\n",
       "      <td>...</td>\n",
       "    </tr>\n",
       "    <tr>\n",
       "      <th>2021-02-08</th>\n",
       "      <td>135.880005</td>\n",
       "      <td>355.709991</td>\n",
       "      <td>175.610001</td>\n",
       "      <td>93.940002</td>\n",
       "    </tr>\n",
       "    <tr>\n",
       "      <th>2021-02-09</th>\n",
       "      <td>135.750000</td>\n",
       "      <td>355.730011</td>\n",
       "      <td>175.839996</td>\n",
       "      <td>94.400002</td>\n",
       "    </tr>\n",
       "    <tr>\n",
       "      <th>2021-02-10</th>\n",
       "      <td>135.699997</td>\n",
       "      <td>355.579987</td>\n",
       "      <td>175.380005</td>\n",
       "      <td>94.309998</td>\n",
       "    </tr>\n",
       "    <tr>\n",
       "      <th>2021-02-11</th>\n",
       "      <td>135.960007</td>\n",
       "      <td>356.440002</td>\n",
       "      <td>176.100006</td>\n",
       "      <td>94.790001</td>\n",
       "    </tr>\n",
       "    <tr>\n",
       "      <th>2021-02-12</th>\n",
       "      <td>136.600006</td>\n",
       "      <td>358.170013</td>\n",
       "      <td>176.979996</td>\n",
       "      <td>95.250000</td>\n",
       "    </tr>\n",
       "  </tbody>\n",
       "</table>\n",
       "<p>785 rows × 4 columns</p>\n",
       "</div>"
      ],
      "text/plain": [
       "            FXAIX_stock  VRTTX_stock  FNCMX_stock  FSMAX_stock\n",
       "Date                                                          \n",
       "2018-01-02    94.230003   238.889999    91.989998    62.529999\n",
       "2018-01-03    94.830002   240.289993    92.760002    62.740002\n",
       "2018-01-04    95.230003   241.199997    92.930000    62.849998\n",
       "2018-01-05    95.900002   242.750000    93.699997    63.090000\n",
       "2018-01-08    96.059998   243.199997    93.970001    63.270000\n",
       "...                 ...          ...          ...          ...\n",
       "2021-02-08   135.880005   355.709991   175.610001    93.940002\n",
       "2021-02-09   135.750000   355.730011   175.839996    94.400002\n",
       "2021-02-10   135.699997   355.579987   175.380005    94.309998\n",
       "2021-02-11   135.960007   356.440002   176.100006    94.790001\n",
       "2021-02-12   136.600006   358.170013   176.979996    95.250000\n",
       "\n",
       "[785 rows x 4 columns]"
      ]
     },
     "execution_count": 42,
     "metadata": {},
     "output_type": "execute_result"
    }
   ],
   "source": [
    "stocks"
   ]
  },
  {
   "cell_type": "markdown",
   "metadata": {},
   "source": [
    "## Compare Cumulative Return"
   ]
  },
  {
   "cell_type": "code",
   "execution_count": 64,
   "metadata": {},
   "outputs": [],
   "source": [
    "FXAIX_stock['Cumulative'] = FXAIX_stock['Close']/FXAIX_stock['Close'].iloc[0]\n",
    "VRTTX_stock['Cumulative'] = VRTTX_stock['Close']/VRTTX_stock['Close'].iloc[0]\n",
    "FNCMX_stock['Cumulative'] = FNCMX_stock['Close']/FNCMX_stock['Close'].iloc[0]\n",
    "FSMAX_stock['Cumulative'] = FSMAX_stock['Close']/FSMAX_stock['Close'].iloc[0]"
   ]
  },
  {
   "cell_type": "code",
   "execution_count": 65,
   "metadata": {},
   "outputs": [
    {
     "data": {
      "text/plain": [
       "Text(0.5, 1.0, 'Cumulative Return')"
      ]
     },
     "execution_count": 65,
     "metadata": {},
     "output_type": "execute_result"
    },
    {
     "data": {
      "image/png": "[encoded data removed]",
      "text/plain": [
       "<Figure size 720x576 with 1 Axes>"
      ]
     },
     "metadata": {
      "needs_background": "light"
     },
     "output_type": "display_data"
    }
   ],
   "source": [
    "FXAIX_stock['Cumulative'].plot(label='FXAIX_stock',figsize=(10,8))\n",
    "VRTTX_stock['Cumulative'].plot(label='VRTTX_stock',figsize=(10,8))\n",
    "FNCMX_stock['Cumulative'].plot(label='FNCMX_stock',figsize=(10,8))\n",
    "FSMAX_stock['Cumulative'].plot(label='FSMAX_stock',figsize=(10,8))\n",
    "plt.legend()\n",
    "plt.title('Cumulative Return')"
   ]
  },
  {
   "cell_type": "markdown",
   "metadata": {},
   "source": [
    "## Get Daily Return"
   ]
  },
  {
   "cell_type": "code",
   "execution_count": 45,
   "metadata": {},
   "outputs": [],
   "source": [
    "FXAIX_stock['Daily Return'] = FXAIX_stock['Close'].pct_change(1)\n",
    "VRTTX_stock['Daily Return'] = VRTTX_stock['Close'].pct_change(1)"
   ]
  },
  {
   "cell_type": "code",
   "execution_count": 46,
   "metadata": {},
   "outputs": [
    {
     "data": {
      "text/plain": [
       "Date\n",
       "2020-01-02         NaN\n",
       "2020-01-03   -0.006992\n",
       "2020-01-06    0.003565\n",
       "2020-01-07   -0.002664\n",
       "2020-01-08    0.004898\n",
       "                ...   \n",
       "2021-02-08    0.007414\n",
       "2021-02-09   -0.000957\n",
       "2021-02-10   -0.000368\n",
       "2021-02-11    0.001916\n",
       "2021-02-12    0.004707\n",
       "Name: Daily Return, Length: 282, dtype: float64"
      ]
     },
     "execution_count": 46,
     "metadata": {},
     "output_type": "execute_result"
    }
   ],
   "source": [
    "FXAIX_stock['Daily Return']"
   ]
  },
  {
   "cell_type": "code",
   "execution_count": 47,
   "metadata": {},
   "outputs": [
    {
     "data": {
      "text/plain": [
       "<matplotlib.collections.PathCollection at 0x7fe6c8aef400>"
      ]
     },
     "execution_count": 47,
     "metadata": {},
     "output_type": "execute_result"
    },
    {
     "data": {
      "image/png": "[encoded data removed]",
      "text/plain": [
       "<Figure size 432x288 with 1 Axes>"
      ]
     },
     "metadata": {
      "needs_background": "light"
     },
     "output_type": "display_data"
    }
   ],
   "source": [
    "plt.scatter(FXAIX_stock['Daily Return'],VRTTX_stock['Daily Return'],alpha=0.3)"
   ]
  },
  {
   "cell_type": "code",
   "execution_count": 49,
   "metadata": {},
   "outputs": [
    {
     "data": {
      "text/plain": [
       "<AxesSubplot:>"
      ]
     },
     "execution_count": 49,
     "metadata": {},
     "output_type": "execute_result"
    },
    {
     "data": {
      "image/png": "[encoded data removed]",
      "text/plain": [
       "<Figure size 432x288 with 1 Axes>"
      ]
     },
     "metadata": {
      "needs_background": "light"
     },
     "output_type": "display_data"
    }
   ],
   "source": [
    "VRTTX_stock['Daily Return'].hist(bins=100)"
   ]
  },
  {
   "cell_type": "code",
   "execution_count": 50,
   "metadata": {},
   "outputs": [
    {
     "data": {
      "text/plain": [
       "<AxesSubplot:>"
      ]
     },
     "execution_count": 50,
     "metadata": {},
     "output_type": "execute_result"
    },
    {
     "data": {
      "image/png": "[encoded data removed]",
      "text/plain": [
       "<Figure size 432x288 with 1 Axes>"
      ]
     },
     "metadata": {
      "needs_background": "light"
     },
     "output_type": "display_data"
    }
   ],
   "source": [
    "FXAIX_stock['Daily Return'].hist(bins=100)"
   ]
  },
  {
   "cell_type": "code",
   "execution_count": 51,
   "metadata": {},
   "outputs": [],
   "source": [
    "beta,alpha,r_value,p_value,std_err = stats.linregress(FXAIX_stock['Daily Return'].iloc[1:],VRTTX_stock['Daily Return'].iloc[1:])"
   ]
  },
  {
   "cell_type": "code",
   "execution_count": 52,
   "metadata": {},
   "outputs": [
    {
     "data": {
      "text/plain": [
       "1.0124150273238781"
      ]
     },
     "execution_count": 52,
     "metadata": {},
     "output_type": "execute_result"
    }
   ],
   "source": [
    "beta"
   ]
  },
  {
   "cell_type": "code",
   "execution_count": 53,
   "metadata": {},
   "outputs": [
    {
     "data": {
      "text/plain": [
       "0.00012460564758023734"
      ]
     },
     "execution_count": 53,
     "metadata": {},
     "output_type": "execute_result"
    }
   ],
   "source": [
    "alpha"
   ]
  },
  {
   "cell_type": "code",
   "execution_count": 54,
   "metadata": {},
   "outputs": [
    {
     "data": {
      "text/plain": [
       "0.9973781994620393"
      ]
     },
     "execution_count": 54,
     "metadata": {},
     "output_type": "execute_result"
    }
   ],
   "source": [
    "r_value"
   ]
  },
  {
   "cell_type": "code",
   "execution_count": 55,
   "metadata": {},
   "outputs": [
    {
     "data": {
      "text/plain": [
       "Date\n",
       "2020-01-02         NaN\n",
       "2020-01-03   -0.006992\n",
       "2020-01-06    0.003565\n",
       "2020-01-07   -0.002664\n",
       "2020-01-08    0.004898\n",
       "Name: Daily Return, dtype: float64"
      ]
     },
     "execution_count": 55,
     "metadata": {},
     "output_type": "execute_result"
    }
   ],
   "source": [
    "FXAIX_stock['Daily Return'].head()"
   ]
  },
  {
   "cell_type": "code",
   "execution_count": 56,
   "metadata": {},
   "outputs": [],
   "source": [
    "import numpy as np"
   ]
  },
  {
   "cell_type": "code",
   "execution_count": 57,
   "metadata": {},
   "outputs": [],
   "source": [
    "noise = np.random.normal(0,0.001,len(FXAIX_stock['Daily Return'].iloc[1:]))"
   ]
  },
  {
   "cell_type": "code",
   "execution_count": 1,
   "metadata": {},
   "outputs": [],
   "source": [
    "#noise"
   ]
  },
  {
   "cell_type": "code",
   "execution_count": 60,
   "metadata": {},
   "outputs": [
    {
     "data": {
      "text/plain": [
       "Date\n",
       "2020-01-03   -0.006673\n",
       "2020-01-06    0.002797\n",
       "2020-01-07   -0.002088\n",
       "2020-01-08    0.005773\n",
       "2020-01-09    0.007326\n",
       "                ...   \n",
       "2021-02-08    0.006484\n",
       "2021-02-09   -0.000506\n",
       "2021-02-10   -0.000078\n",
       "2021-02-11    0.001277\n",
       "2021-02-12    0.005154\n",
       "Name: Daily Return, Length: 281, dtype: float64"
      ]
     },
     "execution_count": 60,
     "metadata": {},
     "output_type": "execute_result"
    }
   ],
   "source": [
    "FXAIX_stock['Daily Return'].iloc[1:] + noise"
   ]
  },
  {
   "cell_type": "code",
   "execution_count": 61,
   "metadata": {},
   "outputs": [],
   "source": [
    "beta,alpha,r_value,p_value,std_err = stats.linregress(FXAIX_stock['Daily Return'].iloc[1:]+noise,FXAIX_stock['Daily Return'].iloc[1:])"
   ]
  },
  {
   "cell_type": "code",
   "execution_count": 62,
   "metadata": {},
   "outputs": [
    {
     "data": {
      "text/plain": [
       "0.9959066537237841"
      ]
     },
     "execution_count": 62,
     "metadata": {},
     "output_type": "execute_result"
    }
   ],
   "source": [
    "beta"
   ]
  },
  {
   "cell_type": "code",
   "execution_count": 63,
   "metadata": {},
   "outputs": [
    {
     "data": {
      "text/plain": [
       "0.00011917125339144037"
      ]
     },
     "execution_count": 63,
     "metadata": {},
     "output_type": "execute_result"
    }
   ],
   "source": [
    "alpha"
   ]
  }
 ],
 "metadata": {
  "kernelspec": {
   "display_name": "Python 3",
   "language": "python",
   "name": "python3"
  },
  "language_info": {
   "codemirror_mode": {
    "name": "ipython",
    "version": 3
   },
   "file_extension": ".py",
   "mimetype": "text/x-python",
   "name": "python",
   "nbconvert_exporter": "python",
   "pygments_lexer": "ipython3",
   "version": "3.8.5"
  }
 },
 "nbformat": 4,
 "nbformat_minor": 4
}
